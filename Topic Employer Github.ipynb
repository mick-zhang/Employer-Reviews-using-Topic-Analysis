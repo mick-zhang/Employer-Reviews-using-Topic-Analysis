{
 "cells": [
  {
   "cell_type": "markdown",
   "metadata": {},
   "source": [
    "# Introduction"
   ]
  },
  {
   "cell_type": "markdown",
   "metadata": {},
   "source": []
  },
  {
   "cell_type": "markdown",
   "metadata": {
    "heading_collapsed": true
   },
   "source": [
    "# Data Overview"
   ]
  },
  {
   "cell_type": "code",
   "execution_count": 1,
   "metadata": {
    "hidden": true,
    "scrolled": true
   },
   "outputs": [
    {
     "data": {
      "text/html": [
       "<div>\n",
       "<style scoped>\n",
       "    .dataframe tbody tr th:only-of-type {\n",
       "        vertical-align: middle;\n",
       "    }\n",
       "\n",
       "    .dataframe tbody tr th {\n",
       "        vertical-align: top;\n",
       "    }\n",
       "\n",
       "    .dataframe thead th {\n",
       "        text-align: right;\n",
       "    }\n",
       "</style>\n",
       "<table border=\"1\" class=\"dataframe\">\n",
       "  <thead>\n",
       "    <tr style=\"text-align: right;\">\n",
       "      <th></th>\n",
       "      <th>Unnamed: 0</th>\n",
       "      <th>company</th>\n",
       "      <th>location</th>\n",
       "      <th>dates</th>\n",
       "      <th>job-title</th>\n",
       "      <th>summary</th>\n",
       "      <th>pros</th>\n",
       "      <th>cons</th>\n",
       "      <th>advice-to-mgmt</th>\n",
       "      <th>overall-ratings</th>\n",
       "      <th>work-balance-stars</th>\n",
       "      <th>culture-values-stars</th>\n",
       "      <th>carrer-opportunities-stars</th>\n",
       "      <th>comp-benefit-stars</th>\n",
       "      <th>senior-mangemnet-stars</th>\n",
       "      <th>helpful-count</th>\n",
       "      <th>link</th>\n",
       "    </tr>\n",
       "  </thead>\n",
       "  <tbody>\n",
       "    <tr>\n",
       "      <th>0</th>\n",
       "      <td>1</td>\n",
       "      <td>google</td>\n",
       "      <td>none</td>\n",
       "      <td>Dec 11, 2018</td>\n",
       "      <td>Current Employee - Anonymous Employee</td>\n",
       "      <td>Best Company to work for</td>\n",
       "      <td>People are smart and friendly</td>\n",
       "      <td>Bureaucracy is slowing things down</td>\n",
       "      <td>none</td>\n",
       "      <td>5.0</td>\n",
       "      <td>4.0</td>\n",
       "      <td>5.0</td>\n",
       "      <td>5.0</td>\n",
       "      <td>4.0</td>\n",
       "      <td>5.0</td>\n",
       "      <td>0</td>\n",
       "      <td>https://www.glassdoor.com/Reviews/Google-Revie...</td>\n",
       "    </tr>\n",
       "    <tr>\n",
       "      <th>1</th>\n",
       "      <td>2</td>\n",
       "      <td>google</td>\n",
       "      <td>Mountain View, CA</td>\n",
       "      <td>Jun 21, 2013</td>\n",
       "      <td>Former Employee - Program Manager</td>\n",
       "      <td>Moving at the speed of light, burn out is inev...</td>\n",
       "      <td>1) Food, food, food. 15+ cafes on main campus ...</td>\n",
       "      <td>1) Work/life balance. What balance? All those ...</td>\n",
       "      <td>1) Don't dismiss emotional intelligence and ad...</td>\n",
       "      <td>4.0</td>\n",
       "      <td>2.0</td>\n",
       "      <td>3.0</td>\n",
       "      <td>3.0</td>\n",
       "      <td>5.0</td>\n",
       "      <td>3.0</td>\n",
       "      <td>2094</td>\n",
       "      <td>https://www.glassdoor.com/Reviews/Google-Revie...</td>\n",
       "    </tr>\n",
       "    <tr>\n",
       "      <th>2</th>\n",
       "      <td>3</td>\n",
       "      <td>google</td>\n",
       "      <td>New York, NY</td>\n",
       "      <td>May 10, 2014</td>\n",
       "      <td>Current Employee - Software Engineer III</td>\n",
       "      <td>Great balance between big-company security and...</td>\n",
       "      <td>* If you're a software engineer, you're among ...</td>\n",
       "      <td>* It *is* becoming larger, and with it comes g...</td>\n",
       "      <td>Keep the focus on the user. Everything else wi...</td>\n",
       "      <td>5.0</td>\n",
       "      <td>5.0</td>\n",
       "      <td>4.0</td>\n",
       "      <td>5.0</td>\n",
       "      <td>5.0</td>\n",
       "      <td>4.0</td>\n",
       "      <td>949</td>\n",
       "      <td>https://www.glassdoor.com/Reviews/Google-Revie...</td>\n",
       "    </tr>\n",
       "    <tr>\n",
       "      <th>3</th>\n",
       "      <td>4</td>\n",
       "      <td>google</td>\n",
       "      <td>Mountain View, CA</td>\n",
       "      <td>Feb 8, 2015</td>\n",
       "      <td>Current Employee - Anonymous Employee</td>\n",
       "      <td>The best place I've worked and also the most d...</td>\n",
       "      <td>You can't find a more well-regarded company th...</td>\n",
       "      <td>I live in SF so the commute can take between 1...</td>\n",
       "      <td>Keep on NOT micromanaging - that is a huge ben...</td>\n",
       "      <td>5.0</td>\n",
       "      <td>2.0</td>\n",
       "      <td>5.0</td>\n",
       "      <td>5.0</td>\n",
       "      <td>4.0</td>\n",
       "      <td>5.0</td>\n",
       "      <td>498</td>\n",
       "      <td>https://www.glassdoor.com/Reviews/Google-Revie...</td>\n",
       "    </tr>\n",
       "    <tr>\n",
       "      <th>4</th>\n",
       "      <td>5</td>\n",
       "      <td>google</td>\n",
       "      <td>Los Angeles, CA</td>\n",
       "      <td>Jul 19, 2018</td>\n",
       "      <td>Former Employee - Software Engineer</td>\n",
       "      <td>Unique, one of a kind dream job</td>\n",
       "      <td>Google is a world of its own. At every other c...</td>\n",
       "      <td>If you don't work in MTV (HQ), you will be giv...</td>\n",
       "      <td>Promote managers into management for their man...</td>\n",
       "      <td>5.0</td>\n",
       "      <td>5.0</td>\n",
       "      <td>5.0</td>\n",
       "      <td>5.0</td>\n",
       "      <td>5.0</td>\n",
       "      <td>5.0</td>\n",
       "      <td>49</td>\n",
       "      <td>https://www.glassdoor.com/Reviews/Google-Revie...</td>\n",
       "    </tr>\n",
       "  </tbody>\n",
       "</table>\n",
       "</div>"
      ],
      "text/plain": [
       "   Unnamed: 0 company           location          dates  \\\n",
       "0           1  google               none   Dec 11, 2018   \n",
       "1           2  google  Mountain View, CA   Jun 21, 2013   \n",
       "2           3  google       New York, NY   May 10, 2014   \n",
       "3           4  google  Mountain View, CA    Feb 8, 2015   \n",
       "4           5  google    Los Angeles, CA   Jul 19, 2018   \n",
       "\n",
       "                                  job-title  \\\n",
       "0     Current Employee - Anonymous Employee   \n",
       "1         Former Employee - Program Manager   \n",
       "2  Current Employee - Software Engineer III   \n",
       "3     Current Employee - Anonymous Employee   \n",
       "4       Former Employee - Software Engineer   \n",
       "\n",
       "                                             summary  \\\n",
       "0                           Best Company to work for   \n",
       "1  Moving at the speed of light, burn out is inev...   \n",
       "2  Great balance between big-company security and...   \n",
       "3  The best place I've worked and also the most d...   \n",
       "4                    Unique, one of a kind dream job   \n",
       "\n",
       "                                                pros  \\\n",
       "0                      People are smart and friendly   \n",
       "1  1) Food, food, food. 15+ cafes on main campus ...   \n",
       "2  * If you're a software engineer, you're among ...   \n",
       "3  You can't find a more well-regarded company th...   \n",
       "4  Google is a world of its own. At every other c...   \n",
       "\n",
       "                                                cons  \\\n",
       "0                 Bureaucracy is slowing things down   \n",
       "1  1) Work/life balance. What balance? All those ...   \n",
       "2  * It *is* becoming larger, and with it comes g...   \n",
       "3  I live in SF so the commute can take between 1...   \n",
       "4  If you don't work in MTV (HQ), you will be giv...   \n",
       "\n",
       "                                      advice-to-mgmt  overall-ratings  \\\n",
       "0                                               none              5.0   \n",
       "1  1) Don't dismiss emotional intelligence and ad...              4.0   \n",
       "2  Keep the focus on the user. Everything else wi...              5.0   \n",
       "3  Keep on NOT micromanaging - that is a huge ben...              5.0   \n",
       "4  Promote managers into management for their man...              5.0   \n",
       "\n",
       "  work-balance-stars culture-values-stars carrer-opportunities-stars  \\\n",
       "0                4.0                  5.0                        5.0   \n",
       "1                2.0                  3.0                        3.0   \n",
       "2                5.0                  4.0                        5.0   \n",
       "3                2.0                  5.0                        5.0   \n",
       "4                5.0                  5.0                        5.0   \n",
       "\n",
       "  comp-benefit-stars senior-mangemnet-stars  helpful-count  \\\n",
       "0                4.0                    5.0              0   \n",
       "1                5.0                    3.0           2094   \n",
       "2                5.0                    4.0            949   \n",
       "3                4.0                    5.0            498   \n",
       "4                5.0                    5.0             49   \n",
       "\n",
       "                                                link  \n",
       "0  https://www.glassdoor.com/Reviews/Google-Revie...  \n",
       "1  https://www.glassdoor.com/Reviews/Google-Revie...  \n",
       "2  https://www.glassdoor.com/Reviews/Google-Revie...  \n",
       "3  https://www.glassdoor.com/Reviews/Google-Revie...  \n",
       "4  https://www.glassdoor.com/Reviews/Google-Revie...  "
      ]
     },
     "execution_count": 1,
     "metadata": {},
     "output_type": "execute_result"
    }
   ],
   "source": [
    "import matplotlib.pyplot as plt\n",
    "%matplotlib inline\n",
    "\n",
    "import pandas as pd\n",
    "csv = (\"employee_reviews.csv\")\n",
    "df = pd.read_csv(csv, encoding='latin1') # solves enocding issue when importing csv\n",
    "df.head(5)"
   ]
  },
  {
   "cell_type": "code",
   "execution_count": 2,
   "metadata": {
    "hidden": true,
    "scrolled": true
   },
   "outputs": [
    {
     "data": {
      "text/plain": [
       "array(['google', 'amazon', 'facebook', 'netflix', 'apple', 'microsoft'],\n",
       "      dtype=object)"
      ]
     },
     "execution_count": 2,
     "metadata": {},
     "output_type": "execute_result"
    }
   ],
   "source": [
    "df['company'].unique()"
   ]
  },
  {
   "cell_type": "markdown",
   "metadata": {
    "heading_collapsed": true
   },
   "source": [
    "# Topics Analysis for Google"
   ]
  },
  {
   "cell_type": "code",
   "execution_count": 3,
   "metadata": {
    "hidden": true
   },
   "outputs": [],
   "source": [
    "# Filters to Google only\n",
    "dfg = df[df['company'] == 'google']"
   ]
  },
  {
   "cell_type": "code",
   "execution_count": 4,
   "metadata": {
    "hidden": true,
    "scrolled": true
   },
   "outputs": [
    {
     "data": {
      "text/plain": [
       "(7819, 1)"
      ]
     },
     "execution_count": 4,
     "metadata": {},
     "output_type": "execute_result"
    }
   ],
   "source": [
    "# Filters the data to the column needed for topic modeling\n",
    "dfg = dfg[['summary']]\n",
    "dfg.shape"
   ]
  },
  {
   "cell_type": "markdown",
   "metadata": {
    "hidden": true
   },
   "source": [
    "7819 dataset with 1 type"
   ]
  },
  {
   "cell_type": "code",
   "execution_count": 5,
   "metadata": {
    "hidden": true
   },
   "outputs": [],
   "source": [
    "dfg = dfg.head(500)"
   ]
  },
  {
   "cell_type": "markdown",
   "metadata": {
    "heading_collapsed": true,
    "hidden": true
   },
   "source": [
    "## Data Cleansing"
   ]
  },
  {
   "cell_type": "code",
   "execution_count": 6,
   "metadata": {
    "hidden": true
   },
   "outputs": [],
   "source": [
    "data = dfg['summary'].values.tolist() # convert to list\n",
    "\n",
    "import re\n",
    "data = [re.sub(r'[^a-zA-Z ]+', '', str(sent)) for sent in data] # removes everything except letters and space, str(sent) converts to string"
   ]
  },
  {
   "cell_type": "code",
   "execution_count": 7,
   "metadata": {
    "hidden": true
   },
   "outputs": [
    {
     "name": "stdout",
     "output_type": "stream",
     "text": [
      "['Best Company to work for']\n"
     ]
    }
   ],
   "source": [
    "from pprint import pprint\n",
    "pprint(data[:1])"
   ]
  },
  {
   "cell_type": "markdown",
   "metadata": {
    "heading_collapsed": true,
    "hidden": true
   },
   "source": [
    "## Pre-Processing"
   ]
  },
  {
   "cell_type": "markdown",
   "metadata": {
    "heading_collapsed": true,
    "hidden": true
   },
   "source": [
    "### Tokenization and Additional Cleansing"
   ]
  },
  {
   "cell_type": "code",
   "execution_count": 8,
   "metadata": {
    "hidden": true,
    "scrolled": true
   },
   "outputs": [
    {
     "name": "stdout",
     "output_type": "stream",
     "text": [
      "[['best', 'company', 'to', 'work', 'for']]\n"
     ]
    }
   ],
   "source": [
    "import gensim\n",
    "from gensim.utils import simple_preprocess \n",
    "def sent_to_words(sentences):\n",
    "    for sentence in sentences:\n",
    "        yield(gensim.utils.simple_preprocess(str(sentence), deacc=True)) \n",
    "        # deacc=True removes punctuations\n",
    "        # simple_preprocess to tokenize, and clean up messy text (converts to lowercase and removes punctuations)\n",
    "        \n",
    "data_words = list(sent_to_words(data))\n",
    "\n",
    "print(data_words[:1])   "
   ]
  },
  {
   "cell_type": "markdown",
   "metadata": {
    "heading_collapsed": true,
    "hidden": true
   },
   "source": [
    "### Remove Stopwords"
   ]
  },
  {
   "cell_type": "code",
   "execution_count": 9,
   "metadata": {
    "hidden": true
   },
   "outputs": [],
   "source": [
    "from nltk.corpus import stopwords\n",
    "stop_words = stopwords.words('english')\n",
    "stop_words.extend(['from', 'subject', 're', 'edu', 'use']) # add additional stop words\n",
    "\n",
    "# Define functions for stopwords, bigram, trigram and lemmatization\n",
    "def remove_stopwords(texts):\n",
    "    return [[word for word in simple_preprocess(str(doc)) if word not in stop_words] for doc in texts]\n",
    "    # clean out words using simple_preprocess (gensim) if the words are not already in stop_words (stop_words from NLTK)\n",
    "    \n",
    "# Remove Stop Words from simple_preprocess\n",
    "data_words_nostops = remove_stopwords(data_words)"
   ]
  },
  {
   "cell_type": "markdown",
   "metadata": {
    "heading_collapsed": true,
    "hidden": true
   },
   "source": [
    "### Create and Apply Trigrams"
   ]
  },
  {
   "cell_type": "code",
   "execution_count": 10,
   "metadata": {
    "hidden": true
   },
   "outputs": [],
   "source": [
    "# Build the bigram and trigram models\n",
    "bigram = gensim.models.Phrases(data_words, min_count=5, threshold=100) # higher threshold fewer phrases\n",
    "trigram = gensim.models.Phrases(bigram[data_words], threshold=100)\n",
    "# min_count is minimum 5 letters\n",
    "# threshold is 100 threshold in each word before accepting another word\n",
    "\n",
    "# Faster way to get a sentence clubbed as a trigram/bigram\n",
    "bigram_mod = gensim.models.phrases.Phraser(bigram)\n",
    "trigram_mod = gensim.models.phrases.Phraser(trigram)\n",
    "\n",
    "def make_trigram(texts):\n",
    "    return [trigram_mod[bigram_mod[doc]] for doc in texts]\n",
    "\n",
    "# Form Trigrams from Gensim.models.phrases\n",
    "data_words_trigrams = make_trigram(data_words_nostops)"
   ]
  },
  {
   "cell_type": "markdown",
   "metadata": {
    "heading_collapsed": true,
    "hidden": true
   },
   "source": [
    "### Lemmatize"
   ]
  },
  {
   "cell_type": "code",
   "execution_count": 11,
   "metadata": {
    "hidden": true
   },
   "outputs": [
    {
     "name": "stdout",
     "output_type": "stream",
     "text": [
      "[['good', 'company', 'work']]\n"
     ]
    }
   ],
   "source": [
    "def lemmatization(texts, allowed_postags=['NOUN', 'ADJ', 'VERB', 'ADV']): # http://spacy.io/api/annotation\n",
    "    texts_out = [] # creates a list\n",
    "    for sent in texts:\n",
    "        doc = nlp(\" \".join(sent)) # adds English dictionary from Spacy to the texts by instantiating doc\n",
    "        texts_out.append([token.lemma_ for token in doc if token.pos_ in allowed_postags])\n",
    "# adds doc to texts_out list for all base token in doc, if these added doc are from a loose part of the speech in allowed_postags\n",
    "# in other words, every (base) word that comes in will be added to the list, if these (loose) words are a NOUN, ADJ, VERB, or ADV\n",
    "# lemma_ is base form of token and pos_ is lose parts of the speech\n",
    "    return texts_out\n",
    "\n",
    "# texts -> doc -> token\n",
    "# texts -> sent -> doc -> token\n",
    "\n",
    "# Initialize spacy 'en' model, keeping only tagger components (for efficieny)\n",
    "# python -m spacy download en\n",
    "import spacy\n",
    "nlp = spacy.load('en', disable=['parser', 'ner'])\n",
    "\n",
    "# Do lemmatization keeping only noun, adj, vb, adv\n",
    "data_lemmatized = lemmatization(data_words_trigrams, allowed_postags=['NOUN', 'ADJ', 'VERB', 'ADV'])\n",
    "\n",
    "print(data_lemmatized[:1])"
   ]
  },
  {
   "cell_type": "markdown",
   "metadata": {
    "heading_collapsed": true,
    "hidden": true
   },
   "source": [
    "## Prepare Dictionary and Corpus"
   ]
  },
  {
   "cell_type": "code",
   "execution_count": 12,
   "metadata": {
    "hidden": true
   },
   "outputs": [
    {
     "name": "stdout",
     "output_type": "stream",
     "text": [
      "[[(0, 1), (1, 1), (2, 1)]]\n"
     ]
    }
   ],
   "source": [
    "import gensim.corpora as corpora # dictionary\n",
    "\n",
    "# Create dictionary\n",
    "id2word = corpora.Dictionary(data_lemmatized)\n",
    "\n",
    "# Create corpus\n",
    "texts = data_lemmatized\n",
    "\n",
    "# Term document frequency\n",
    "corpus = [id2word.doc2bow(text) for text in texts]\n",
    "\n",
    "# View\n",
    "print(corpus[:1])"
   ]
  },
  {
   "cell_type": "code",
   "execution_count": 13,
   "metadata": {
    "hidden": true
   },
   "outputs": [
    {
     "data": {
      "text/plain": [
       "'company'"
      ]
     },
     "execution_count": 13,
     "metadata": {},
     "output_type": "execute_result"
    }
   ],
   "source": [
    "id2word[0]"
   ]
  },
  {
   "cell_type": "code",
   "execution_count": 14,
   "metadata": {
    "hidden": true
   },
   "outputs": [
    {
     "data": {
      "text/plain": [
       "[[('company', 1), ('good', 1), ('work', 1)]]"
      ]
     },
     "execution_count": 14,
     "metadata": {},
     "output_type": "execute_result"
    }
   ],
   "source": [
    "# Human readable format of corpus (term-frequency) for the first item\n",
    "[[(id2word[id], freq) for id, freq in cp] for cp in corpus[:1]]"
   ]
  },
  {
   "cell_type": "markdown",
   "metadata": {
    "heading_collapsed": true,
    "hidden": true
   },
   "source": [
    "## LDA Model"
   ]
  },
  {
   "cell_type": "code",
   "execution_count": 15,
   "metadata": {
    "hidden": true
   },
   "outputs": [
    {
     "name": "stdout",
     "output_type": "stream",
     "text": [
      "[(0,\n",
      "  '0.102*\"google\" + 0.071*\"great\" + 0.036*\"sale\" + 0.029*\"job\" + 0.024*\"pay\" + '\n",
      "  '0.023*\"love\" + 0.022*\"perk\" + 0.022*\"balance\" + 0.020*\"internship\" + '\n",
      "  '0.018*\"business\"'),\n",
      " (1,\n",
      "  '0.054*\"experience\" + 0.040*\"lead\" + 0.023*\"grad\" + 0.023*\"associate\" + '\n",
      "  '0.020*\"analytical\" + 0.019*\"designer\" + 0.017*\"strategist\" + 0.011*\"brand\" '\n",
      "  '+ 0.010*\"solution\" + 0.010*\"interactive\"'),\n",
      " (2,\n",
      "  '0.172*\"manager\" + 0.063*\"account\" + 0.044*\"program\" + 0.041*\"senior\" + '\n",
      "  '0.038*\"product\" + 0.025*\"marketing\" + 0.024*\"culture\" + 0.022*\"bad\" + '\n",
      "  '0.020*\"staff\" + 0.017*\"new\"'),\n",
      " (3,\n",
      "  '0.233*\"engineer\" + 0.206*\"software\" + 0.071*\"review\" + 0.022*\"cloud\" + '\n",
      "  '0.016*\"engineering\" + 0.015*\"developer\" + 0.014*\"pgm\" + 0.013*\"need\" + '\n",
      "  '0.013*\"senior\" + 0.011*\"legal\"'),\n",
      " (4,\n",
      "  '0.166*\"work\" + 0.143*\"good\" + 0.141*\"place\" + 0.139*\"great\" + '\n",
      "  '0.112*\"company\" + 0.013*\"career\" + 0.012*\"awesome\" + 0.011*\"excellent\" + '\n",
      "  '0.008*\"start\" + 0.008*\"stuff\"'),\n",
      " (5,\n",
      "  '0.070*\"intern\" + 0.067*\"amazing\" + 0.055*\"analyst\" + 0.027*\"technical\" + '\n",
      "  '0.025*\"specialist\" + 0.020*\"long\" + 0.017*\"skill\" + 0.017*\"term\" + '\n",
      "  '0.017*\"come\" + 0.013*\"sure\"'),\n",
      " (6,\n",
      "  '0.123*\"great\" + 0.056*\"people\" + 0.044*\"benefit\" + 0.029*\"culture\" + '\n",
      "  '0.027*\"overall\" + 0.023*\"director\" + 0.023*\"meh\" + 0.021*\"lot\" + '\n",
      "  '0.020*\"many\" + 0.019*\"time\"')]\n"
     ]
    }
   ],
   "source": [
    "# Build LDA model\n",
    "lda_model = gensim.models.ldamodel.LdaModel(corpus=corpus, id2word=id2word, num_topics = 7, random_state = 100,\n",
    "                                            update_every = 1, chunksize = 100, passes = 10, alpha = 'auto',\n",
    "                                            per_word_topics=True)\n",
    "# (corpus, dictionary, # of topics, random_state, how often the model parameters should be updated, # of document in each training chunk,\n",
    "# total # of training passes, alpha is hyperparameter that affect sparsity of topics)\n",
    "# Here we use 7 topics\n",
    "\n",
    "# Print the keyword the 7 topics\n",
    "pprint(lda_model.print_topics())\n",
    "doc_lda = lda_model[corpus]"
   ]
  },
  {
   "cell_type": "markdown",
   "metadata": {
    "heading_collapsed": true,
    "hidden": true
   },
   "source": [
    "### LDA Model Performance"
   ]
  },
  {
   "cell_type": "code",
   "execution_count": 16,
   "metadata": {
    "hidden": true
   },
   "outputs": [
    {
     "name": "stdout",
     "output_type": "stream",
     "text": [
      "\n",
      "Perplexity:  -5.49701415002346\n",
      "\n",
      "Coherence Score:  0.6258108598839495\n"
     ]
    }
   ],
   "source": [
    "# Compute perplexity\n",
    "print('\\nPerplexity: ', lda_model.log_perplexity(corpus)) # A measure of how good the model is (lower the better)\n",
    "\n",
    "# Compute coherence score\n",
    "from gensim.models import CoherenceModel\n",
    "coherence_model_lda = CoherenceModel(model=lda_model, texts=data_lemmatized, dictionary=id2word, coherence='c_v')\n",
    "coherence_lda = coherence_model_lda.get_coherence()\n",
    "print('\\nCoherence Score: ', coherence_lda) # high the better"
   ]
  },
  {
   "cell_type": "markdown",
   "metadata": {
    "heading_collapsed": true,
    "hidden": true
   },
   "source": [
    "### Visualize LDA Model"
   ]
  },
  {
   "cell_type": "code",
   "execution_count": 17,
   "metadata": {
    "hidden": true
   },
   "outputs": [
    {
     "data": {
      "text/html": [
       "\n",
       "<link rel=\"stylesheet\" type=\"text/css\" href=\"https://cdn.rawgit.com/bmabey/pyLDAvis/files/ldavis.v1.0.0.css\">\n",
       "\n",
       "\n",
       "<div id=\"ldavis_el1410449026283527806664806\"></div>\n",
       "<script type=\"text/javascript\">\n",
       "\n",
       "var ldavis_el1410449026283527806664806_data = {\"mdsDat\": {\"x\": [-0.32297905138600463, -0.03958037826821574, 0.14649389345352962, -0.06863617504284956, 0.09355899390410827, 0.10181188997476803, 0.08933082736466384], \"y\": [-0.08175300590712588, 0.0822805703056501, -0.26387385100731847, 0.059029379198074224, 0.06895233033646146, 0.08142785042801379, 0.05393672664624508], \"topics\": [1, 2, 3, 4, 5, 6, 7], \"cluster\": [1, 1, 1, 1, 1, 1, 1], \"Freq\": [32.83757400512695, 13.668548583984375, 13.345621109008789, 10.81420612335205, 10.212361335754395, 10.01545238494873, 9.106243133544922]}, \"tinfo\": {\"Category\": [\"Default\", \"Default\", \"Default\", \"Default\", \"Default\", \"Default\", \"Default\", \"Default\", \"Default\", \"Default\", \"Default\", \"Default\", \"Default\", \"Default\", \"Default\", \"Default\", \"Default\", \"Default\", \"Default\", \"Default\", \"Default\", \"Default\", \"Default\", \"Default\", \"Default\", \"Default\", \"Default\", \"Default\", \"Default\", \"Default\", \"Topic1\", \"Topic1\", \"Topic1\", \"Topic1\", \"Topic1\", \"Topic1\", \"Topic1\", \"Topic1\", \"Topic1\", \"Topic1\", \"Topic1\", \"Topic1\", \"Topic1\", \"Topic1\", \"Topic1\", \"Topic1\", \"Topic1\", \"Topic1\", \"Topic1\", \"Topic1\", \"Topic1\", \"Topic1\", \"Topic1\", \"Topic1\", \"Topic1\", \"Topic1\", \"Topic1\", \"Topic1\", \"Topic1\", \"Topic1\", \"Topic1\", \"Topic1\", \"Topic1\", \"Topic2\", \"Topic2\", \"Topic2\", \"Topic2\", \"Topic2\", \"Topic2\", \"Topic2\", \"Topic2\", \"Topic2\", \"Topic2\", \"Topic2\", \"Topic2\", \"Topic2\", \"Topic2\", \"Topic2\", \"Topic2\", \"Topic2\", \"Topic2\", \"Topic2\", \"Topic2\", \"Topic2\", \"Topic2\", \"Topic2\", \"Topic2\", \"Topic2\", \"Topic2\", \"Topic2\", \"Topic2\", \"Topic2\", \"Topic2\", \"Topic2\", \"Topic2\", \"Topic2\", \"Topic3\", \"Topic3\", \"Topic3\", \"Topic3\", \"Topic3\", \"Topic3\", \"Topic3\", \"Topic3\", \"Topic3\", \"Topic3\", \"Topic3\", \"Topic3\", \"Topic3\", \"Topic3\", \"Topic3\", \"Topic3\", \"Topic3\", \"Topic3\", \"Topic3\", \"Topic3\", \"Topic3\", \"Topic3\", \"Topic3\", \"Topic3\", \"Topic3\", \"Topic3\", \"Topic3\", \"Topic3\", \"Topic3\", \"Topic3\", \"Topic3\", \"Topic3\", \"Topic3\", \"Topic3\", \"Topic3\", \"Topic4\", \"Topic4\", \"Topic4\", \"Topic4\", \"Topic4\", \"Topic4\", \"Topic4\", \"Topic4\", \"Topic4\", \"Topic4\", \"Topic4\", \"Topic4\", \"Topic4\", \"Topic4\", \"Topic4\", \"Topic4\", \"Topic4\", \"Topic4\", \"Topic4\", \"Topic4\", \"Topic4\", \"Topic4\", \"Topic4\", \"Topic4\", \"Topic4\", \"Topic4\", \"Topic4\", \"Topic4\", \"Topic4\", \"Topic4\", \"Topic4\", \"Topic4\", \"Topic4\", \"Topic5\", \"Topic5\", \"Topic5\", \"Topic5\", \"Topic5\", \"Topic5\", \"Topic5\", \"Topic5\", \"Topic5\", \"Topic5\", \"Topic5\", \"Topic5\", \"Topic5\", \"Topic5\", \"Topic5\", \"Topic5\", \"Topic5\", \"Topic5\", \"Topic5\", \"Topic5\", \"Topic5\", \"Topic5\", \"Topic5\", \"Topic5\", \"Topic5\", \"Topic5\", \"Topic5\", \"Topic5\", \"Topic5\", \"Topic5\", \"Topic5\", \"Topic5\", \"Topic5\", \"Topic5\", \"Topic5\", \"Topic5\", \"Topic6\", \"Topic6\", \"Topic6\", \"Topic6\", \"Topic6\", \"Topic6\", \"Topic6\", \"Topic6\", \"Topic6\", \"Topic6\", \"Topic6\", \"Topic6\", \"Topic6\", \"Topic6\", \"Topic6\", \"Topic6\", \"Topic6\", \"Topic6\", \"Topic6\", \"Topic6\", \"Topic6\", \"Topic6\", \"Topic6\", \"Topic6\", \"Topic6\", \"Topic6\", \"Topic6\", \"Topic6\", \"Topic6\", \"Topic6\", \"Topic6\", \"Topic6\", \"Topic6\", \"Topic7\", \"Topic7\", \"Topic7\", \"Topic7\", \"Topic7\", \"Topic7\", \"Topic7\", \"Topic7\", \"Topic7\", \"Topic7\", \"Topic7\", \"Topic7\", \"Topic7\", \"Topic7\", \"Topic7\", \"Topic7\", \"Topic7\", \"Topic7\", \"Topic7\", \"Topic7\", \"Topic7\", \"Topic7\", \"Topic7\", \"Topic7\", \"Topic7\", \"Topic7\", \"Topic7\", \"Topic7\", \"Topic7\", \"Topic7\", \"Topic7\"], \"Freq\": [38.0, 67.0, 34.0, 58.0, 57.0, 84.0, 21.0, 45.0, 17.0, 12.0, 9.0, 9.0, 8.0, 8.0, 7.0, 6.0, 6.0, 6.0, 7.0, 6.0, 5.0, 7.0, 5.0, 5.0, 4.0, 3.0, 4.0, 3.0, 4.0, 3.0, 67.0562973022461, 57.895687103271484, 56.93329620361328, 45.2241325378418, 5.0915141105651855, 4.724895477294922, 4.477944374084473, 3.1497325897216797, 3.14749813079834, 2.915370464324951, 2.7549824714660645, 2.680441379547119, 2.5409042835235596, 2.5409011840820312, 2.0909535884857178, 2.0676305294036865, 1.8558704853057861, 1.6391047239303589, 1.6391047239303589, 1.6390570402145386, 1.6374223232269287, 1.245077133178711, 1.245077133178711, 1.245077133178711, 1.245077133178711, 1.2450653314590454, 56.253379821777344, 0.9539234638214111, 0.9539148807525635, 0.9539148807525635, 0.9539148807525635, 2.9419515132904053, 1.6405389308929443, 17.086009979248047, 6.059212684631348, 4.89309024810791, 4.002798080444336, 3.910742998123169, 3.7638227939605713, 3.7117269039154053, 3.3223679065704346, 2.9672489166259766, 2.9053521156311035, 2.626434326171875, 2.2088732719421387, 2.094158887863159, 2.030747652053833, 1.9462275505065918, 1.6596497297286987, 1.395534634590149, 1.3519604206085205, 1.3510260581970215, 1.3510260581970215, 1.3510260581970215, 1.3510217666625977, 1.3510217666625977, 1.3510217666625977, 1.3510217666625977, 1.3509949445724487, 1.3509948253631592, 1.3509948253631592, 1.3509243726730347, 1.3503000736236572, 2.2085378170013428, 11.91110610961914, 1.350995421409607, 38.28720474243164, 33.88931655883789, 11.626160621643066, 3.6839396953582764, 2.6224589347839355, 2.540147542953491, 2.191788673400879, 1.8823615312576294, 1.8373610973358154, 1.7928557395935059, 1.790575623512268, 1.6503077745437622, 2.235130548477173, 1.417580485343933, 1.3065639734268188, 1.1177936792373657, 0.9925208687782288, 0.9925208687782288, 0.992507815361023, 0.992493212223053, 0.992493212223053, 0.992493212223053, 0.760408878326416, 0.760408878326416, 0.760408878326416, 0.7603980302810669, 0.5888873934745789, 0.5888873934745789, 0.5888728499412537, 0.5888407230377197, 0.5888407230377197, 0.9925311207771301, 2.0708227157592773, 0.8035035133361816, 0.5888933539390564, 7.406458854675293, 5.881549835205078, 3.6031365394592285, 3.108543872833252, 2.9991443157196045, 2.7548558712005615, 2.6445353031158447, 2.585252523422241, 2.29187273979187, 2.1651530265808105, 2.1650726795196533, 2.1646077632904053, 2.1634366512298584, 1.6269887685775757, 1.6268664598464966, 1.2881630659103394, 1.2881630659103394, 1.2877357006072998, 1.28749680519104, 1.28749680519104, 1.28749680519104, 1.1040399074554443, 0.9784998297691345, 0.9784998297691345, 0.978434681892395, 0.9783466458320618, 0.9783466458320618, 0.9783466458320618, 0.9783466458320618, 0.9782102108001709, 3.832228660583496, 16.40658187866211, 2.2495715618133545, 8.75853443145752, 8.468688011169434, 6.858291149139404, 3.3602516651153564, 3.1308932304382324, 2.4669201374053955, 2.1699891090393066, 2.169116735458374, 2.1678929328918457, 1.6415939331054688, 1.2914901971817017, 1.2914243936538696, 1.232225775718689, 1.10691237449646, 1.10691237449646, 1.1067801713943481, 1.1067581176757812, 1.106666922569275, 1.1066534519195557, 1.0626455545425415, 0.9810538291931152, 0.9810538291931152, 0.9810538291931152, 0.9810538291931152, 0.9810538291931152, 0.9810538291931152, 0.9810538291931152, 0.9810357093811035, 0.9810357093811035, 0.9810357093811035, 0.9810357093811035, 1.3318768739700317, 1.305426001548767, 0.9810357093811035, 0.9810357093811035, 0.9810357093811035, 21.22563362121582, 7.781006336212158, 5.461429595947266, 4.641599655151367, 3.022188663482666, 2.7554056644439697, 2.4148197174072266, 2.033250570297241, 1.9140188694000244, 1.850286602973938, 1.694126009941101, 1.5714147090911865, 1.5600253343582153, 1.2351512908935547, 1.2351512908935547, 1.2351443767547607, 1.2351443767547607, 1.2351291179656982, 1.2338104248046875, 1.2330316305160522, 5.059285640716553, 0.9382302761077881, 0.9382302761077881, 0.9381726980209351, 0.7765757441520691, 0.718815803527832, 0.7184945940971375, 0.718368649482727, 0.718368649482727, 0.7183673977851868, 2.9950215816497803, 1.235150694847107, 1.0585124492645264, 6.0946125984191895, 4.43355131149292, 2.6094462871551514, 2.5971314907073975, 2.1859400272369385, 2.1343326568603516, 1.9515271186828613, 1.287777304649353, 1.1380103826522827, 1.1380103826522827, 1.1380103826522827, 1.1380103826522827, 1.1380012035369873, 1.1380012035369873, 1.1380009651184082, 1.1380009651184082, 1.1379883289337158, 1.1379883289337158, 1.1379883289337158, 1.1379883289337158, 1.1379883289337158, 1.1379883289337158, 1.1379882097244263, 1.1379380226135254, 1.1379380226135254, 1.1379380226135254, 1.1379380226135254, 1.1379380226135254, 1.1379379034042358, 1.1379380226135254, 1.1379380226135254], \"Term\": [\"engineer\", \"work\", \"software\", \"good\", \"place\", \"great\", \"manager\", \"company\", \"google\", \"review\", \"intern\", \"amazing\", \"account\", \"people\", \"analyst\", \"experience\", \"benefit\", \"program\", \"senior\", \"sale\", \"lead\", \"culture\", \"product\", \"job\", \"overall\", \"technical\", \"pay\", \"specialist\", \"love\", \"marketing\", \"work\", \"good\", \"place\", \"company\", \"career\", \"awesome\", \"excellent\", \"start\", \"stuff\", \"big\", \"probably\", \"wonderful\", \"tech\", \"perfect\", \"nice\", \"build\", \"world\", \"googlex\", \"altering\", \"bump\", \"grow\", \"super\", \"dope\", \"generally\", \"reward\", \"generation\", \"great\", \"undeniably\", \"boost\", \"thing\", \"hectic\", \"still\", \"early\", \"google\", \"sale\", \"job\", \"pay\", \"love\", \"perk\", \"balance\", \"internship\", \"business\", \"fun\", \"everything\", \"would\", \"worklife\", \"technology\", \"hear\", \"partner\", \"summer\", \"life\", \"maybe\", \"exciting\", \"lifestyle\", \"mutual\", \"diversity\", \"add\", \"respect\", \"ad\", \"workload\", \"dev\", \"incredible\", \"obviously\", \"project\", \"great\", \"rough\", \"engineer\", \"software\", \"review\", \"cloud\", \"engineering\", \"developer\", \"need\", \"legal\", \"employee\", \"ceo\", \"customer\", \"write\", \"pgm\", \"practicum\", \"short\", \"depend\", \"glassdoor\", \"unlock\", \"iii\", \"assistant\", \"pm\", \"paradise\", \"reliability\", \"site\", \"force\", \"eng\", \"listen\", \"do\", \"hardware\", \"java\", \"peopleop\", \"content\", \"senior\", \"be\", \"not\", \"people\", \"benefit\", \"overall\", \"director\", \"meh\", \"lot\", \"many\", \"time\", \"environment\", \"phenomenal\", \"year\", \"development\", \"fix\", \"part\", \"learn\", \"active\", \"founder\", \"bureaucracy\", \"really\", \"improvement\", \"area\", \"opportunity\", \"equal\", \"create\", \"vendor\", \"promo\", \"care\", \"run\", \"full\", \"period\", \"culture\", \"great\", \"still\", \"intern\", \"amazing\", \"analyst\", \"technical\", \"specialist\", \"long\", \"skill\", \"term\", \"come\", \"sure\", \"recruiter\", \"say\", \"workplace\", \"hard\", \"beat\", \"know\", \"expectation\", \"hour\", \"best\", \"data\", \"artificial\", \"floor\", \"intelligence\", \"winner\", \"cry\", \"datacenter\", \"break\", \"quantitative\", \"analytic\", \"shiny\", \"apple\", \"ambitious\", \"be\", \"undervalue\", \"overpay\", \"massage\", \"manager\", \"account\", \"program\", \"product\", \"marketing\", \"bad\", \"staff\", \"new\", \"dream\", \"especially\", \"operation\", \"demand\", \"executive\", \"innovative\", \"wlb\", \"change\", \"disappoint\", \"industry\", \"poro\", \"worrying\", \"senior\", \"chef\", \"sous\", \"worker\", \"outstanding\", \"partnership\", \"youtube\", \"sterotype\", \"millenial\", \"find\", \"culture\", \"rough\", \"project\", \"experience\", \"lead\", \"grad\", \"associate\", \"analytical\", \"designer\", \"strategist\", \"brand\", \"consultant\", \"interactive\", \"solution\", \"sr\", \"school\", \"advanced\", \"educator\", \"childhood\", \"publisher\", \"vice\", \"president\", \"economically\", \"favorite\", \"adsense\", \"fulfillment\", \"geekland\", \"collaboration\", \"pry\", \"bright\", \"unethical\", \"management\", \"decline\", \"exact\"], \"Total\": [38.0, 67.0, 34.0, 58.0, 57.0, 84.0, 21.0, 45.0, 17.0, 12.0, 9.0, 9.0, 8.0, 8.0, 7.0, 6.0, 6.0, 6.0, 7.0, 6.0, 5.0, 7.0, 5.0, 5.0, 4.0, 3.0, 4.0, 3.0, 4.0, 3.0, 67.65562438964844, 58.49479675292969, 57.532432556152344, 45.82326889038086, 5.690127372741699, 5.3235087394714355, 5.079749584197998, 3.7483458518981934, 3.7477176189422607, 3.514061689376831, 3.3541789054870605, 3.279054641723633, 3.1397247314453125, 3.139721632003784, 2.690007448196411, 2.6682963371276855, 2.4544835090637207, 2.237717866897583, 2.237717866897583, 2.2376701831817627, 2.2372915744781494, 1.843690276145935, 1.843690276145935, 1.843690276145935, 1.843690276145935, 1.8436784744262695, 84.96244049072266, 1.5525366067886353, 1.5525280237197876, 1.5525280237197876, 1.5525280237197876, 5.688814163208008, 3.2866499423980713, 17.707883834838867, 6.68076229095459, 5.514847278594971, 4.624265193939209, 4.532166004180908, 4.385252475738525, 4.3331298828125, 3.9441182613372803, 3.588857889175415, 3.526777505874634, 3.2477657794952393, 2.8303475379943848, 2.7155983448028564, 2.6524550914764404, 2.567657232284546, 2.2817881107330322, 2.0189990997314453, 1.9734349250793457, 1.9723175764083862, 1.9723175764083862, 1.9723175764083862, 1.972313642501831, 1.972313642501831, 1.972313642501831, 1.972313642501831, 1.9722906351089478, 1.9722905158996582, 1.9722905158996582, 1.9722307920455933, 1.9723526239395142, 3.792300224304199, 84.96244049072266, 3.1102921962738037, 38.91203308105469, 34.51413345336914, 12.251476287841797, 4.308835029602051, 3.2474308013916016, 3.164931535720825, 2.821255683898926, 2.507150173187256, 2.462867498397827, 2.4176418781280518, 2.417619466781616, 2.275089740753174, 3.144444465637207, 2.042905807495117, 1.9313533306121826, 1.7446225881576538, 1.6173036098480225, 1.6173036098480225, 1.6172926425933838, 1.6172802448272705, 1.6172802448272705, 1.6172802448272705, 1.3851927518844604, 1.3851927518844604, 1.3851927518844604, 1.385183572769165, 1.2136696577072144, 1.2136696577072144, 1.2136573791503906, 1.2136303186416626, 1.2136303186416626, 2.3922505378723145, 7.65831184387207, 2.6361169815063477, 1.6372239589691162, 8.0333251953125, 6.508177757263184, 4.229733467102051, 3.7352588176727295, 3.625380754470825, 3.3814964294433594, 3.2711241245269775, 3.2118446826934814, 2.9182205200195312, 2.7917990684509277, 2.791825771331787, 2.7917113304138184, 2.7916972637176514, 2.2532236576080322, 2.2532474994659424, 1.9143997430801392, 1.9143997430801392, 1.914381742477417, 1.9145092964172363, 1.9145092964172363, 1.9145092964172363, 1.7302742004394531, 1.6047364473342896, 1.6047364473342896, 1.604681372642517, 1.6047669649124146, 1.6047669649124146, 1.6047669649124146, 1.6047669649124146, 1.6047834157943726, 7.356448650360107, 84.96244049072266, 5.688814163208008, 9.384812355041504, 9.09567928314209, 7.48429536819458, 3.9871041774749756, 3.7576746940612793, 3.093010663986206, 2.797304630279541, 2.7970614433288574, 2.79699444770813, 2.272796869277954, 1.917466640472412, 1.917411208152771, 1.8581966161727905, 1.7328832149505615, 1.7328832149505615, 1.7329062223434448, 1.732900619506836, 1.732910394668579, 1.7328909635543823, 1.68861722946167, 1.6070258617401123, 1.6070258617401123, 1.6070258617401123, 1.6070258617401123, 1.6070258617401123, 1.6070258617401123, 1.6070258617401123, 1.6070106029510498, 1.6070106029510498, 1.6070106029510498, 1.6070106029510498, 2.6759088039398193, 2.6361169815063477, 1.6070106029510498, 1.6070106029510498, 1.6070106029510498, 21.85613250732422, 8.411643028259277, 6.0922088623046875, 5.272214889526367, 3.6533310413360596, 3.386312484741211, 3.0465357303619385, 2.664879083633423, 2.5451278686523438, 2.487687349319458, 2.3251872062683105, 2.2055318355560303, 2.1904304027557373, 1.8655579090118408, 1.8655579090118408, 1.8655520677566528, 1.8655520677566528, 1.8655391931533813, 1.8658143281936646, 1.8659908771514893, 7.65831184387207, 1.5686372518539429, 1.5686372518539429, 1.5685889720916748, 1.4069818258285522, 1.349223256111145, 1.3492392301559448, 1.349326491355896, 1.349326491355896, 1.3493268489837646, 7.356448650360107, 3.1102921962738037, 3.792300224304199, 6.733057022094727, 5.0717339515686035, 3.248192548751831, 3.2352399826049805, 2.824709177017212, 2.7723801136016846, 2.5905747413635254, 1.9259660243988037, 1.7760579586029053, 1.7760579586029053, 1.7760579586029053, 1.7760579586029053, 1.776050329208374, 1.776050329208374, 1.7760502099990845, 1.7760502099990845, 1.7760396003723145, 1.7760396003723145, 1.7760396003723145, 1.7760396003723145, 1.7760396003723145, 1.7760396003723145, 1.7760396003723145, 1.7759981155395508, 1.7759981155395508, 1.7759981155395508, 1.7759981155395508, 1.7759981155395508, 1.7759978771209717, 1.7759981155395508, 1.7759981155395508], \"loglift\": [30.0, 29.0, 28.0, 27.0, 26.0, 25.0, 24.0, 23.0, 22.0, 21.0, 20.0, 19.0, 18.0, 17.0, 16.0, 15.0, 14.0, 13.0, 12.0, 11.0, 10.0, 9.0, 8.0, 7.0, 6.0, 5.0, 4.0, 3.0, 2.0, 1.0, 1.104699969291687, 1.1032999753952026, 1.1030999422073364, 1.1003999710083008, 1.0024000406265259, 0.9943000078201294, 0.987500011920929, 0.9395999908447266, 0.9391000270843506, 0.926800012588501, 0.9168000221252441, 0.9120000004768372, 0.9020000100135803, 0.9020000100135803, 0.8616999983787537, 0.8586000204086304, 0.8339999914169312, 0.802299976348877, 0.802299976348877, 0.802299976348877, 0.8015000224113464, 0.7210000157356262, 0.7210000157356262, 0.7210000157356262, 0.7210000157356262, 0.7210000157356262, 0.7013000249862671, 0.6265000104904175, 0.6265000104904175, 0.6265000104904175, 0.6265000104904175, 0.45419999957084656, 0.4187999963760376, 1.954300045967102, 1.8924000263214111, 1.8704999685287476, 1.8457000255584717, 1.8425999879837036, 1.8372999429702759, 1.8352999687194824, 1.81850004196167, 1.7999000549316406, 1.7962000370025635, 1.7776999473571777, 1.7422000169754028, 1.7302000522613525, 1.7230000495910645, 1.7130000591278076, 1.6717000007629395, 1.6207000017166138, 1.611899971961975, 1.6117000579833984, 1.6117000579833984, 1.6117000579833984, 1.6117000579833984, 1.6117000579833984, 1.6117000579833984, 1.6117000579833984, 1.6117000579833984, 1.6117000579833984, 1.6117000579833984, 1.6117000579833984, 1.611199975013733, 1.4493999481201172, 0.025299999862909317, 1.1562000513076782, 1.9977999925613403, 1.9957000017166138, 1.9615999460220337, 1.857300043106079, 1.8001999855041504, 1.794100046157837, 1.7615000009536743, 1.7273999452590942, 1.7209999561309814, 1.715000033378601, 1.7137000560760498, 1.6928999423980713, 1.6726000308990479, 1.6485999822616577, 1.6232000589370728, 1.5687999725341797, 1.5256999731063843, 1.5256999731063843, 1.5256999731063843, 1.5256999731063843, 1.5256999731063843, 1.5256999731063843, 1.414199948310852, 1.414199948310852, 1.414199948310852, 1.414199948310852, 1.2907999753952026, 1.2907999753952026, 1.2907999753952026, 1.2907999753952026, 1.2907999753952026, 1.1342999935150146, 0.7060999870300293, 0.8259000182151794, 0.9915000200271606, 2.1431000232696533, 2.1231000423431396, 2.063999891281128, 2.040600061416626, 2.0346999168395996, 2.019399881362915, 2.011699914932251, 2.0072999000549316, 1.982699990272522, 1.9701000452041626, 1.9701000452041626, 1.9699000120162964, 1.9694000482559204, 1.8986999988555908, 1.8985999822616577, 1.8280999660491943, 1.8280999660491943, 1.8278000354766846, 1.8274999856948853, 1.8274999856948853, 1.8274999856948853, 1.774999976158142, 1.729599952697754, 1.729599952697754, 1.729599952697754, 1.7294000387191772, 1.7294000387191772, 1.7294000387191772, 1.7294000387191772, 1.7293000221252441, 1.5721999406814575, 0.579800009727478, 1.2964999675750732, 2.2125000953674316, 2.210099935531616, 2.194200038909912, 2.1105000972747803, 2.099100112915039, 2.0553998947143555, 2.027600049972534, 2.0272998809814453, 2.0267999172210693, 1.9562000036239624, 1.8863999843597412, 1.886299967765808, 1.8708000183105469, 1.833400011062622, 1.833400011062622, 1.8331999778747559, 1.8331999778747559, 1.8330999612808228, 1.8330999612808228, 1.8184000253677368, 1.788100004196167, 1.788100004196167, 1.788100004196167, 1.788100004196167, 1.788100004196167, 1.788100004196167, 1.788100004196167, 1.7879999876022339, 1.7879999876022339, 1.7879999876022339, 1.7879999876022339, 1.583899974822998, 1.5787999629974365, 1.7879999876022339, 1.7879999876022339, 1.7879999876022339, 2.2718000411987305, 2.223099946975708, 2.191699981689453, 2.1735999584198, 2.1113998889923096, 2.094899892807007, 2.068700075149536, 2.0304999351501465, 2.0160999298095703, 2.005000114440918, 1.9844000339508057, 1.9620000123977661, 1.9615999460220337, 1.888700008392334, 1.888700008392334, 1.888700008392334, 1.888700008392334, 1.888700008392334, 1.8875000476837158, 1.8867000341415405, 1.8865000009536743, 1.7870999574661255, 1.7870999574661255, 1.7869999408721924, 1.7066999673843384, 1.6713999509811401, 1.6708999872207642, 1.670699954032898, 1.670699954032898, 1.670699954032898, 1.402400016784668, 1.377500057220459, 1.024899959564209, 2.296600103378296, 2.261699914932251, 2.1772000789642334, 2.176500082015991, 2.139899969100952, 2.134700059890747, 2.1129000186920166, 1.9937000274658203, 1.9510999917984009, 1.9510999917984009, 1.9510999917984009, 1.9510999917984009, 1.9510999917984009, 1.9510999917984009, 1.9510999917984009, 1.9510999917984009, 1.9510999917984009, 1.9510999917984009, 1.9510999917984009, 1.9510999917984009, 1.9510999917984009, 1.9510999917984009, 1.9510999917984009, 1.9510999917984009, 1.9510999917984009, 1.9510999917984009, 1.9510999917984009, 1.9510999917984009, 1.9510999917984009, 1.9510999917984009, 1.9510999917984009], \"logprob\": [30.0, 29.0, 28.0, 27.0, 26.0, 25.0, 24.0, 23.0, 22.0, 21.0, 20.0, 19.0, 18.0, 17.0, 16.0, 15.0, 14.0, 13.0, 12.0, 11.0, 10.0, 9.0, 8.0, 7.0, 6.0, 5.0, 4.0, 3.0, 2.0, 1.0, -1.7956000566482544, -1.9424999952316284, -1.9593000411987305, -2.189500093460083, -4.373600006103516, -4.448299884796143, -4.501999855041504, -4.853899955749512, -4.854599952697754, -4.93120002746582, -4.987800121307373, -5.015200138092041, -5.068699836730957, -5.068699836730957, -5.263599872589111, -5.274799823760986, -5.382800102233887, -5.506999969482422, -5.506999969482422, -5.5071001052856445, -5.507999897003174, -5.7820000648498535, -5.7820000648498535, -5.7820000648498535, -5.7820000648498535, -5.7820000648498535, -1.9713000059127808, -6.048299789428711, -6.048399925231934, -6.048399925231934, -6.048399925231934, -4.922100067138672, -5.506100177764893, -2.286400079727173, -3.3231000900268555, -3.536900043487549, -3.7376999855041504, -3.760999917984009, -3.799299955368042, -3.813199996948242, -3.9240000247955322, -4.037099838256836, -4.05810022354126, -4.15910005569458, -4.332200050354004, -4.385499954223633, -4.416299819946289, -4.458799839019775, -4.618100166320801, -4.791399955749512, -4.8231000900268555, -4.823800086975098, -4.823800086975098, -4.823800086975098, -4.823800086975098, -4.823800086975098, -4.823800086975098, -4.823800086975098, -4.82390022277832, -4.82390022277832, -4.82390022277832, -4.82390022277832, -4.824399948120117, -4.332399845123291, -2.647200107574463, -4.82390022277832, -1.4557000398635864, -1.5777000188827515, -2.6475000381469727, -3.796799898147583, -4.13670015335083, -4.168600082397461, -4.316100120544434, -4.468299865722656, -4.492499828338623, -4.517000198364258, -4.5183000564575195, -4.599800109863281, -4.296500205993652, -4.751800060272217, -4.833399772644043, -4.9893999099731445, -5.10830020904541, -5.10830020904541, -5.10830020904541, -5.10830020904541, -5.10830020904541, -5.10830020904541, -5.37470006942749, -5.37470006942749, -5.37470006942749, -5.37470006942749, -5.630300045013428, -5.630300045013428, -5.630300045013428, -5.63040018081665, -5.63040018081665, -5.10830020904541, -4.372799873352051, -5.3196001052856445, -5.630300045013428, -2.8880999088287354, -3.1185998916625977, -3.6087000370025635, -3.7562999725341797, -3.792099952697754, -3.8770999908447266, -3.9179999828338623, -3.9405999183654785, -4.061100006103516, -4.118000030517578, -4.118000030517578, -4.118199825286865, -4.118800163269043, -4.40369987487793, -4.403800010681152, -4.637199878692627, -4.637199878692627, -4.637599945068359, -4.637800216674805, -4.637800216674805, -4.637800216674805, -4.791500091552734, -4.912199974060059, -4.912199974060059, -4.912300109863281, -4.912399768829346, -4.912399768829346, -4.912399768829346, -4.912399768829346, -4.912499904632568, -3.546999931335449, -2.0927999019622803, -4.079699993133545, -2.6631999015808105, -2.6967999935150146, -2.9077000617980957, -3.6212000846862793, -3.6919000148773193, -3.9302000999450684, -4.058499813079834, -4.058899879455566, -4.0594000816345215, -4.337500095367432, -4.577400207519531, -4.577499866485596, -4.6244001388549805, -4.731599807739258, -4.731599807739258, -4.7316999435424805, -4.731800079345703, -4.731800079345703, -4.731900215148926, -4.77239990234375, -4.85230016708374, -4.85230016708374, -4.85230016708374, -4.85230016708374, -4.85230016708374, -4.85230016708374, -4.85230016708374, -4.85230016708374, -4.85230016708374, -4.85230016708374, -4.85230016708374, -4.546599864959717, -4.566699981689453, -4.85230016708374, -4.85230016708374, -4.85230016708374, -1.7584999799728394, -2.76200008392334, -3.115999937057495, -3.278700113296509, -3.70770001411438, -3.8001999855041504, -3.9321000576019287, -4.104100227355957, -4.1645002365112305, -4.198400020599365, -4.286600112915039, -4.361800193786621, -4.36899995803833, -4.602499961853027, -4.602499961853027, -4.602499961853027, -4.602499961853027, -4.60260009765625, -4.603600025177002, -4.604300022125244, -3.192500114440918, -4.877500057220459, -4.877500057220459, -4.877600193023682, -5.0665998458862305, -5.143899917602539, -5.1442999839782715, -5.144499778747559, -5.144499778747559, -5.144499778747559, -3.7167999744415283, -4.602499961853027, -4.756899833679199, -2.9112000465393066, -3.2293999195098877, -3.759399890899658, -3.76419997215271, -3.936500072479248, -3.960400104522705, -4.049900054931641, -4.46560001373291, -4.589300155639648, -4.589300155639648, -4.589300155639648, -4.589300155639648, -4.589300155639648, -4.589300155639648, -4.589300155639648, -4.589300155639648, -4.589300155639648, -4.589300155639648, -4.589300155639648, -4.589300155639648, -4.589300155639648, -4.589300155639648, -4.589300155639648, -4.589300155639648, -4.589300155639648, -4.589300155639648, -4.589300155639648, -4.589300155639648, -4.589300155639648, -4.589300155639648, -4.589300155639648]}, \"token.table\": {\"Topic\": [6, 4, 2, 2, 7, 7, 1, 5, 4, 5, 5, 5, 7, 5, 4, 5, 3, 7, 1, 6, 2, 3, 5, 5, 4, 5, 1, 1, 7, 5, 7, 1, 1, 4, 2, 4, 1, 3, 6, 6, 7, 3, 7, 5, 1, 7, 3, 7, 4, 5, 4, 6, 3, 5, 5, 7, 6, 3, 7, 2, 3, 4, 4, 6, 2, 3, 1, 6, 1, 7, 7, 7, 3, 3, 3, 3, 4, 4, 6, 2, 7, 1, 2, 6, 5, 7, 7, 6, 4, 5, 3, 4, 7, 4, 2, 7, 1, 1, 3, 1, 2, 1, 7, 1, 2, 4, 1, 5, 3, 2, 1, 5, 3, 4, 2, 6, 6, 5, 7, 5, 2, 3, 2, 5, 7, 4, 3, 2, 2, 3, 5, 4, 2, 7, 6, 4, 6, 5, 2, 4, 6, 2, 3, 6, 1, 3, 7, 2, 6, 4, 6, 4, 5, 3, 4, 2, 6, 2, 4, 3, 1, 4, 2, 3, 4, 1, 3, 6, 3, 7, 1, 6, 6, 2, 6, 4, 7, 7, 5, 4, 5, 3, 2, 3, 1, 2, 6, 4, 2, 5, 7, 3, 6, 5, 3, 3, 5, 3, 7, 6, 5, 7, 6, 1, 6, 1, 4, 7, 1, 2, 1, 5, 1, 5, 2, 5, 1, 4, 1, 5, 7, 3, 4, 7, 5, 6, 1, 1, 6, 2, 2, 5, 1, 6, 2, 3, 4, 6], \"Freq\": [0.9510626792907715, 0.5223569273948669, 0.5070246458053589, 0.5070187449455261, 0.5630505084991455, 0.5630471110343933, 0.8937677145004272, 0.8795384764671326, 0.37370482087135315, 0.37370482087135315, 0.9352917671203613, 0.6222734451293945, 0.7080374956130981, 0.6222734451293945, 0.5223270654678345, 0.6222675442695618, 0.6183220148086548, 0.9272882342338562, 0.9392301440238953, 0.885919451713562, 0.9231202602386475, 0.3793458342552185, 0.3793458342552185, 0.5770729184150696, 0.9219170212745667, 0.5770703554153442, 0.8537129759788513, 0.6441107392311096, 0.5192199349403381, 0.6222675442695618, 0.5630636811256409, 0.7495419383049011, 0.8937867879867554, 0.5223618745803833, 0.835920512676239, 0.6231434345245361, 0.8787149786949158, 0.8272523880004883, 0.536034345626831, 0.6374959945678711, 0.5630471706390381, 0.9283251762390137, 0.5630636811256409, 0.7150532603263855, 0.9820338487625122, 0.5630446672439575, 0.4180164039134979, 0.4180164039134979, 0.6231552958488464, 0.6222675442695618, 0.5437406301498413, 0.407805472612381, 0.8272600769996643, 0.592200517654419, 0.6222675442695618, 0.5630636811256409, 0.9068107604980469, 0.5731898546218872, 0.7214018106460571, 0.5070247054100037, 0.9478877782821655, 0.7164064645767212, 0.8031572103500366, 0.536034345626831, 0.5070187449455261, 0.8239474296569824, 0.5423904657363892, 0.7858151197433472, 0.608522355556488, 0.304261177778244, 0.5630505084991455, 0.5630471706390381, 0.8120615482330322, 0.7219259738922119, 0.9765616655349731, 0.9238072037696838, 0.68534916639328, 0.6231552958488464, 0.8039595484733582, 0.9237119555473328, 0.5630636811256409, 0.7874404191970825, 0.5070177316665649, 0.913062572479248, 0.5770671367645264, 0.8911256790161133, 0.5630505084991455, 0.7411102652549744, 0.7164100408554077, 0.6222675442695618, 0.7219212055206299, 0.5223569273948669, 0.5630505084991455, 0.6231434345245361, 0.8506348729133606, 0.5630636811256409, 0.5423904657363892, 0.5423939228057861, 0.6183130741119385, 0.9915412068367004, 0.960024356842041, 0.8937677145004272, 0.9235905408859253, 0.6591147780418396, 0.14123888313770294, 0.18831850588321686, 0.8939380049705505, 0.5770729184150696, 0.823955774307251, 0.7789201736450195, 0.6441107392311096, 0.5770638585090637, 0.6183173060417175, 0.5223270654678345, 0.5070400238037109, 0.5360380411148071, 0.5360326766967773, 0.6222675442695618, 0.5630446672439575, 0.9589962363243103, 0.7606262564659119, 0.8239741325378418, 0.9066434502601624, 0.5770652890205383, 0.7886849045753479, 0.887607753276825, 0.7977184653282166, 0.5067306756973267, 0.5070177316665649, 0.8239474296569824, 0.6466192007064819, 0.8871811628341675, 0.8825802206993103, 0.5630637407302856, 0.9608287215232849, 0.9171159267425537, 0.8211684226989746, 0.6222734451293945, 0.5070177316665649, 0.827499270439148, 0.7411105036735535, 0.5070187449455261, 0.7089042067527771, 0.7505031228065491, 0.7434923648834229, 0.6107900142669678, 0.6107900142669678, 0.5070087313652039, 0.8601458072662354, 0.5779430866241455, 0.7107412219047546, 0.9456860423088074, 0.6222734451293945, 0.6183220148086548, 0.8876171708106995, 0.8765055537223816, 0.7411671876907349, 0.8650022745132446, 0.8713701963424683, 0.8239741325378418, 0.9554986953735352, 0.6231370568275452, 0.9121481776237488, 0.6360424160957336, 0.7163839340209961, 0.9907455444335938, 0.6183220148086548, 0.535959005355835, 0.4894988238811493, 0.5630505084991455, 0.8944066762924194, 0.9483680129051208, 0.820720374584198, 0.5273844003677368, 0.2636922001838684, 0.6231434345245361, 0.5630636811256409, 0.5630505084991455, 0.6222734451293945, 0.5223270654678345, 0.5215214490890503, 0.7219212055206299, 0.5070187449455261, 0.9794737696647644, 0.5423904657363892, 0.32151320576667786, 0.32151320576667786, 0.6231434345245361, 0.8981010913848877, 0.5215365290641785, 0.5630471110343933, 0.2611541748046875, 0.652885377407074, 0.6222734451293945, 0.5177716612815857, 0.7219212055206299, 0.7149739861488342, 0.9851036667823792, 0.5630446672439575, 0.6374959945678711, 0.7983660697937012, 0.5630446672439575, 0.6564833521842957, 0.8003530502319336, 0.7411105036735535, 0.527350664138794, 0.3515671193599701, 0.772029459476471, 0.800487220287323, 0.4952949285507202, 0.5423904657363892, 0.8799730539321899, 0.9554978013038635, 0.7524257898330688, 0.7540184259414673, 0.715036153793335, 0.6441107392311096, 0.9340426921844482, 0.6441072225570679, 0.6222734451293945, 0.5630636811256409, 0.6183130741119385, 0.6231766939163208, 0.5630505084991455, 0.6222675442695618, 0.5360326766967773, 0.9148978590965271, 0.9903094172477722, 0.637515664100647, 0.7364859580993652, 0.5070247054100037, 0.5381562113761902, 0.8148353695869446, 0.5359082818031311, 0.7066270112991333, 0.8790861964225769, 0.7163770794868469, 0.7411584258079529], \"Term\": [\"account\", \"active\", \"ad\", \"add\", \"adsense\", \"advanced\", \"altering\", \"amazing\", \"ambitious\", \"ambitious\", \"analyst\", \"analytic\", \"analytical\", \"apple\", \"area\", \"artificial\", \"assistant\", \"associate\", \"awesome\", \"bad\", \"balance\", \"be\", \"be\", \"beat\", \"benefit\", \"best\", \"big\", \"boost\", \"brand\", \"break\", \"bright\", \"build\", \"bump\", \"bureaucracy\", \"business\", \"care\", \"career\", \"ceo\", \"change\", \"chef\", \"childhood\", \"cloud\", \"collaboration\", \"come\", \"company\", \"consultant\", \"content\", \"content\", \"create\", \"cry\", \"culture\", \"culture\", \"customer\", \"data\", \"datacenter\", \"decline\", \"demand\", \"depend\", \"designer\", \"dev\", \"developer\", \"development\", \"director\", \"disappoint\", \"diversity\", \"do\", \"dope\", \"dream\", \"early\", \"early\", \"economically\", \"educator\", \"employee\", \"eng\", \"engineer\", \"engineering\", \"environment\", \"equal\", \"especially\", \"everything\", \"exact\", \"excellent\", \"exciting\", \"executive\", \"expectation\", \"experience\", \"favorite\", \"find\", \"fix\", \"floor\", \"force\", \"founder\", \"fulfillment\", \"full\", \"fun\", \"geekland\", \"generally\", \"generation\", \"glassdoor\", \"good\", \"google\", \"googlex\", \"grad\", \"great\", \"great\", \"great\", \"grow\", \"hard\", \"hardware\", \"hear\", \"hectic\", \"hour\", \"iii\", \"improvement\", \"incredible\", \"industry\", \"innovative\", \"intelligence\", \"interactive\", \"intern\", \"internship\", \"java\", \"job\", \"know\", \"lead\", \"learn\", \"legal\", \"life\", \"lifestyle\", \"listen\", \"long\", \"lot\", \"love\", \"management\", \"manager\", \"many\", \"marketing\", \"massage\", \"maybe\", \"meh\", \"millenial\", \"mutual\", \"need\", \"new\", \"nice\", \"not\", \"not\", \"obviously\", \"operation\", \"opportunity\", \"outstanding\", \"overall\", \"overpay\", \"paradise\", \"part\", \"partner\", \"partnership\", \"pay\", \"people\", \"peopleop\", \"perfect\", \"period\", \"perk\", \"pgm\", \"phenomenal\", \"place\", \"pm\", \"poro\", \"practicum\", \"president\", \"probably\", \"product\", \"program\", \"project\", \"project\", \"promo\", \"pry\", \"publisher\", \"quantitative\", \"really\", \"recruiter\", \"reliability\", \"respect\", \"review\", \"reward\", \"rough\", \"rough\", \"run\", \"sale\", \"say\", \"school\", \"senior\", \"senior\", \"shiny\", \"short\", \"site\", \"skill\", \"software\", \"solution\", \"sous\", \"specialist\", \"sr\", \"staff\", \"start\", \"sterotype\", \"still\", \"still\", \"strategist\", \"stuff\", \"summer\", \"super\", \"sure\", \"tech\", \"technical\", \"technology\", \"term\", \"thing\", \"time\", \"undeniably\", \"undervalue\", \"unethical\", \"unlock\", \"vendor\", \"vice\", \"winner\", \"wlb\", \"wonderful\", \"work\", \"worker\", \"worklife\", \"workload\", \"workplace\", \"world\", \"worrying\", \"would\", \"write\", \"year\", \"youtube\"]}, \"R\": 30, \"lambda.step\": 0.01, \"plot.opts\": {\"xlab\": \"PC1\", \"ylab\": \"PC2\"}, \"topic.order\": [5, 1, 4, 7, 6, 3, 2]};\n",
       "\n",
       "function LDAvis_load_lib(url, callback){\n",
       "  var s = document.createElement('script');\n",
       "  s.src = url;\n",
       "  s.async = true;\n",
       "  s.onreadystatechange = s.onload = callback;\n",
       "  s.onerror = function(){console.warn(\"failed to load library \" + url);};\n",
       "  document.getElementsByTagName(\"head\")[0].appendChild(s);\n",
       "}\n",
       "\n",
       "if(typeof(LDAvis) !== \"undefined\"){\n",
       "   // already loaded: just create the visualization\n",
       "   !function(LDAvis){\n",
       "       new LDAvis(\"#\" + \"ldavis_el1410449026283527806664806\", ldavis_el1410449026283527806664806_data);\n",
       "   }(LDAvis);\n",
       "}else if(typeof define === \"function\" && define.amd){\n",
       "   // require.js is available: use it to load d3/LDAvis\n",
       "   require.config({paths: {d3: \"https://cdnjs.cloudflare.com/ajax/libs/d3/3.5.5/d3.min\"}});\n",
       "   require([\"d3\"], function(d3){\n",
       "      window.d3 = d3;\n",
       "      LDAvis_load_lib(\"https://cdn.rawgit.com/bmabey/pyLDAvis/files/ldavis.v1.0.0.js\", function(){\n",
       "        new LDAvis(\"#\" + \"ldavis_el1410449026283527806664806\", ldavis_el1410449026283527806664806_data);\n",
       "      });\n",
       "    });\n",
       "}else{\n",
       "    // require.js not available: dynamically load d3 & LDAvis\n",
       "    LDAvis_load_lib(\"https://cdnjs.cloudflare.com/ajax/libs/d3/3.5.5/d3.min.js\", function(){\n",
       "         LDAvis_load_lib(\"https://cdn.rawgit.com/bmabey/pyLDAvis/files/ldavis.v1.0.0.js\", function(){\n",
       "                 new LDAvis(\"#\" + \"ldavis_el1410449026283527806664806\", ldavis_el1410449026283527806664806_data);\n",
       "            })\n",
       "         });\n",
       "}\n",
       "</script>"
      ],
      "text/plain": [
       "PreparedData(topic_coordinates=              x         y  topics  cluster       Freq\n",
       "topic                                                \n",
       "4     -0.322979 -0.081753       1        1  32.837574\n",
       "0     -0.039580  0.082281       2        1  13.668549\n",
       "3      0.146494 -0.263874       3        1  13.345621\n",
       "6     -0.068636  0.059029       4        1  10.814206\n",
       "5      0.093559  0.068952       5        1  10.212361\n",
       "2      0.101812  0.081428       6        1  10.015452\n",
       "1      0.089331  0.053937       7        1   9.106243, topic_info=     Category       Freq           Term      Total  loglift  logprob\n",
       "term                                                                \n",
       "25    Default  38.000000       engineer  38.000000  30.0000  30.0000\n",
       "2     Default  67.000000           work  67.000000  29.0000  29.0000\n",
       "26    Default  34.000000       software  34.000000  28.0000  28.0000\n",
       "1     Default  58.000000           good  58.000000  27.0000  27.0000\n",
       "18    Default  57.000000          place  57.000000  26.0000  26.0000\n",
       "12    Default  84.000000          great  84.000000  25.0000  25.0000\n",
       "38    Default  21.000000        manager  21.000000  24.0000  24.0000\n",
       "0     Default  45.000000        company  45.000000  23.0000  23.0000\n",
       "72    Default  17.000000         google  17.000000  22.0000  22.0000\n",
       "34    Default  12.000000         review  12.000000  21.0000  21.0000\n",
       "23    Default   9.000000         intern   9.000000  20.0000  20.0000\n",
       "68    Default   9.000000        amazing   9.000000  19.0000  19.0000\n",
       "37    Default   8.000000        account   8.000000  18.0000  18.0000\n",
       "103   Default   8.000000         people   8.000000  17.0000  17.0000\n",
       "35    Default   7.000000        analyst   7.000000  16.0000  16.0000\n",
       "57    Default   6.000000     experience   6.000000  15.0000  15.0000\n",
       "80    Default   6.000000        benefit   6.000000  14.0000  14.0000\n",
       "174   Default   6.000000        program   6.000000  13.0000  13.0000\n",
       "39    Default   7.000000         senior   7.000000  12.0000  12.0000\n",
       "100   Default   6.000000           sale   6.000000  11.0000  11.0000\n",
       "117   Default   5.000000           lead   5.000000  10.0000  10.0000\n",
       "43    Default   7.000000        culture   7.000000   9.0000   9.0000\n",
       "120   Default   5.000000        product   5.000000   8.0000   8.0000\n",
       "20    Default   5.000000            job   5.000000   7.0000   7.0000\n",
       "154   Default   4.000000        overall   4.000000   6.0000   6.0000\n",
       "298   Default   3.000000      technical   3.000000   5.0000   5.0000\n",
       "59    Default   4.000000            pay   4.000000   4.0000   4.0000\n",
       "258   Default   3.000000     specialist   3.000000   3.0000   3.0000\n",
       "88    Default   4.000000           love   4.000000   2.0000   2.0000\n",
       "221   Default   3.000000      marketing   3.000000   1.0000   1.0000\n",
       "...       ...        ...            ...        ...      ...      ...\n",
       "117    Topic7   4.433551           lead   5.071734   2.2617  -3.2294\n",
       "141    Topic7   2.609446           grad   3.248193   2.1772  -3.7594\n",
       "86     Topic7   2.597131      associate   3.235240   2.1765  -3.7642\n",
       "359    Topic7   2.185940     analytical   2.824709   2.1399  -3.9365\n",
       "166    Topic7   2.134333       designer   2.772380   2.1347  -3.9604\n",
       "87     Topic7   1.951527     strategist   2.590575   2.1129  -4.0499\n",
       "159    Topic7   1.287777          brand   1.925966   1.9937  -4.4656\n",
       "344    Topic7   1.138010     consultant   1.776058   1.9511  -4.5893\n",
       "345    Topic7   1.138010    interactive   1.776058   1.9511  -4.5893\n",
       "346    Topic7   1.138010       solution   1.776058   1.9511  -4.5893\n",
       "347    Topic7   1.138010             sr   1.776058   1.9511  -4.5893\n",
       "337    Topic7   1.138001         school   1.776050   1.9511  -4.5893\n",
       "336    Topic7   1.138001       advanced   1.776050   1.9511  -4.5893\n",
       "340    Topic7   1.138001       educator   1.776050   1.9511  -4.5893\n",
       "338    Topic7   1.138001      childhood   1.776050   1.9511  -4.5893\n",
       "358    Topic7   1.137988      publisher   1.776040   1.9511  -4.5893\n",
       "381    Topic7   1.137988           vice   1.776040   1.9511  -4.5893\n",
       "380    Topic7   1.137988      president   1.776040   1.9511  -4.5893\n",
       "364    Topic7   1.137988   economically   1.776040   1.9511  -4.5893\n",
       "365    Topic7   1.137988       favorite   1.776040   1.9511  -4.5893\n",
       "357    Topic7   1.137988        adsense   1.776040   1.9511  -4.5893\n",
       "348    Topic7   1.137988    fulfillment   1.776040   1.9511  -4.5893\n",
       "373    Topic7   1.137938       geekland   1.775998   1.9511  -4.5893\n",
       "331    Topic7   1.137938  collaboration   1.775998   1.9511  -4.5893\n",
       "350    Topic7   1.137938            pry   1.775998   1.9511  -4.5893\n",
       "399    Topic7   1.137938         bright   1.775998   1.9511  -4.5893\n",
       "385    Topic7   1.137938      unethical   1.775998   1.9511  -4.5893\n",
       "390    Topic7   1.137938     management   1.775998   1.9511  -4.5893\n",
       "389    Topic7   1.137938        decline   1.775998   1.9511  -4.5893\n",
       "378    Topic7   1.137938          exact   1.775998   1.9511  -4.5893\n",
       "\n",
       "[264 rows x 6 columns], token_table=      Topic      Freq        Term\n",
       "term                             \n",
       "37        6  0.951063     account\n",
       "360       4  0.522357      active\n",
       "382       2  0.507025          ad\n",
       "367       2  0.507019         add\n",
       "357       7  0.563051     adsense\n",
       "336       7  0.563047    advanced\n",
       "354       1  0.893768    altering\n",
       "68        5  0.879538     amazing\n",
       "201       4  0.373705   ambitious\n",
       "201       5  0.373705   ambitious\n",
       "35        5  0.935292     analyst\n",
       "314       5  0.622273    analytic\n",
       "359       7  0.708037  analytical\n",
       "310       5  0.622273       apple\n",
       "351       4  0.522327        area\n",
       "275       5  0.622268  artificial\n",
       "302       3  0.618322   assistant\n",
       "86        7  0.927288   associate\n",
       "177       1  0.939230     awesome\n",
       "49        6  0.885919         bad\n",
       "8         2  0.923120     balance\n",
       "61        3  0.379346          be\n",
       "61        5  0.379346          be\n",
       "53        5  0.577073        beat\n",
       "80        4  0.921917     benefit\n",
       "52        5  0.577070        best\n",
       "55        1  0.853713         big\n",
       "233       1  0.644111       boost\n",
       "159       7  0.519220       brand\n",
       "281       5  0.622268       break\n",
       "...     ...       ...         ...\n",
       "383       1  0.800487       stuff\n",
       "74        2  0.495295      summer\n",
       "307       1  0.542390       super\n",
       "65        5  0.879973        sure\n",
       "56        1  0.955498        tech\n",
       "298       5  0.752426   technical\n",
       "261       2  0.754018  technology\n",
       "328       5  0.715036        term\n",
       "234       1  0.644111       thing\n",
       "136       4  0.934043        time\n",
       "228       1  0.644107  undeniably\n",
       "280       5  0.622273  undervalue\n",
       "385       7  0.563064   unethical\n",
       "317       3  0.618313      unlock\n",
       "294       4  0.623177      vendor\n",
       "381       7  0.563051        vice\n",
       "278       5  0.622268      winner\n",
       "376       6  0.536033         wlb\n",
       "121       1  0.914898   wonderful\n",
       "2         1  0.990309        work\n",
       "299       6  0.637516      worker\n",
       "51        2  0.736486    worklife\n",
       "379       2  0.507025    workload\n",
       "167       5  0.538156   workplace\n",
       "45        1  0.814835       world\n",
       "384       6  0.535908    worrying\n",
       "157       2  0.706627       would\n",
       "245       3  0.879086       write\n",
       "330       4  0.716377        year\n",
       "227       6  0.741158     youtube\n",
       "\n",
       "[238 rows x 3 columns], R=30, lambda_step=0.01, plot_opts={'xlab': 'PC1', 'ylab': 'PC2'}, topic_order=[5, 1, 4, 7, 6, 3, 2])"
      ]
     },
     "execution_count": 17,
     "metadata": {},
     "output_type": "execute_result"
    }
   ],
   "source": [
    "import warnings\n",
    "warnings.filterwarnings(\"ignore\", category=FutureWarning) # hides future warning\n",
    "\n",
    "import pyLDAvis # interactive visualization for LDA\n",
    "import pyLDAvis.gensim \n",
    "\n",
    "pyLDAvis.enable_notebook()\n",
    "vis = pyLDAvis.gensim.prepare(lda_model, corpus, id2word)\n",
    "vis"
   ]
  },
  {
   "cell_type": "markdown",
   "metadata": {
    "heading_collapsed": true,
    "hidden": true
   },
   "source": [
    "## LDA Mallet Model"
   ]
  },
  {
   "cell_type": "code",
   "execution_count": 18,
   "metadata": {
    "hidden": true
   },
   "outputs": [],
   "source": [
    "# Download file: http://mallet.cs.umass.edu/dist/mallet-2.0.8.zip\n",
    "# Installing mallet: https://programminghistorian.org/en/lessons/topic-modeling-and-mallet#mac-instructions\n",
    "# Download Java SE (download .zip instead of .exe for silent install)\n",
    "\n",
    "import os\n",
    "from gensim.models.wrappers import LdaMallet\n",
    "\n",
    "os.environ.update({'MALLET_HOME':r'/Users/Mick/Desktop/mallet/'}) # set environment\n",
    "mallet_path = '/Users/Mick/Desktop/mallet/bin/mallet' # update this path"
   ]
  },
  {
   "cell_type": "code",
   "execution_count": 19,
   "metadata": {
    "hidden": true
   },
   "outputs": [],
   "source": [
    "ldamallet = LdaMallet(mallet_path,corpus=corpus,num_topics=7,id2word=id2word)\n",
    "# here we use 7 topics"
   ]
  },
  {
   "cell_type": "code",
   "execution_count": 20,
   "metadata": {
    "hidden": true
   },
   "outputs": [
    {
     "name": "stdout",
     "output_type": "stream",
     "text": [
      "[(0,\n",
      "  [('work', 0.42162162162162165),\n",
      "   ('benefit', 0.04864864864864865),\n",
      "   ('culture', 0.043243243243243246),\n",
      "   ('engineer', 0.03783783783783784),\n",
      "   ('lot', 0.02702702702702703),\n",
      "   ('environment', 0.02702702702702703),\n",
      "   ('long', 0.021621621621621623),\n",
      "   ('world', 0.016216216216216217),\n",
      "   ('designer', 0.016216216216216217),\n",
      "   ('early', 0.010810810810810811)]),\n",
      " (1,\n",
      "  [('engineer', 0.2781065088757396),\n",
      "   ('software', 0.2781065088757396),\n",
      "   ('senior', 0.05917159763313609),\n",
      "   ('cloud', 0.029585798816568046),\n",
      "   ('nice', 0.023668639053254437),\n",
      "   ('lead', 0.023668639053254437),\n",
      "   ('staff', 0.01775147928994083),\n",
      "   ('partner', 0.01775147928994083),\n",
      "   ('developer', 0.01775147928994083),\n",
      "   ('big', 0.01775147928994083)]),\n",
      " (2,\n",
      "  [('great', 0.33076923076923076),\n",
      "   ('sale', 0.06153846153846154),\n",
      "   ('program', 0.046153846153846156),\n",
      "   ('love', 0.046153846153846156),\n",
      "   ('director', 0.038461538461538464),\n",
      "   ('good', 0.03076923076923077),\n",
      "   ('time', 0.023076923076923078),\n",
      "   ('datum', 0.015384615384615385),\n",
      "   ('stuff', 0.015384615384615385),\n",
      "   ('analytical', 0.015384615384615385)]),\n",
      " (3,\n",
      "  [('manager', 0.18787878787878787),\n",
      "   ('account', 0.06666666666666667),\n",
      "   ('analyst', 0.06666666666666667),\n",
      "   ('people', 0.06060606060606061),\n",
      "   ('product', 0.048484848484848485),\n",
      "   ('perk', 0.04242424242424243),\n",
      "   ('balance', 0.03636363636363636),\n",
      "   ('project', 0.030303030303030304),\n",
      "   ('associate', 0.030303030303030304),\n",
      "   ('meh', 0.024242424242424242)]),\n",
      " (4,\n",
      "  [('place', 0.24025974025974026),\n",
      "   ('google', 0.11688311688311688),\n",
      "   ('amazing', 0.09090909090909091),\n",
      "   ('review', 0.08441558441558442),\n",
      "   ('job', 0.045454545454545456),\n",
      "   ('excellent', 0.025974025974025976),\n",
      "   ('specialist', 0.01948051948051948),\n",
      "   ('rough', 0.012987012987012988),\n",
      "   ('bad', 0.012987012987012988),\n",
      "   ('depend', 0.006493506493506494)]),\n",
      " (5,\n",
      "  [('company', 0.32),\n",
      "   ('great', 0.3142857142857143),\n",
      "   ('career', 0.022857142857142857),\n",
      "   ('pay', 0.022857142857142857),\n",
      "   ('grad', 0.017142857142857144),\n",
      "   ('dream', 0.017142857142857144),\n",
      "   ('perfect', 0.017142857142857144),\n",
      "   ('marketing', 0.011428571428571429),\n",
      "   ('security', 0.011428571428571429),\n",
      "   ('executive', 0.005714285714285714)]),\n",
      " (6,\n",
      "  [('good', 0.3611111111111111),\n",
      "   ('place', 0.1388888888888889),\n",
      "   ('intern', 0.07222222222222222),\n",
      "   ('experience', 0.05),\n",
      "   ('awesome', 0.027777777777777776),\n",
      "   ('technical', 0.016666666666666666),\n",
      "   ('tech', 0.016666666666666666),\n",
      "   ('ambitious', 0.011111111111111112),\n",
      "   ('fix', 0.011111111111111112),\n",
      "   ('data', 0.011111111111111112)])]\n"
     ]
    }
   ],
   "source": [
    "# Show topics\n",
    "pprint(ldamallet.show_topics(formatted=False))"
   ]
  },
  {
   "cell_type": "markdown",
   "metadata": {
    "heading_collapsed": true,
    "hidden": true
   },
   "source": [
    "### LDA Mallet Model Performance"
   ]
  },
  {
   "cell_type": "code",
   "execution_count": 21,
   "metadata": {
    "hidden": true
   },
   "outputs": [
    {
     "name": "stdout",
     "output_type": "stream",
     "text": [
      "\n",
      "Coherence Score:  0.7737574215817109\n"
     ]
    }
   ],
   "source": [
    "# Compute coherence score\n",
    "coherence_model_ldamallet = CoherenceModel(model=ldamallet, texts=data_lemmatized, dictionary=id2word, coherence=\"c_v\")\n",
    "coherence_ldamallet = coherence_model_ldamallet.get_coherence()\n",
    "print('\\nCoherence Score: ', coherence_ldamallet)"
   ]
  },
  {
   "cell_type": "markdown",
   "metadata": {
    "heading_collapsed": true,
    "hidden": true
   },
   "source": [
    "## Finding the Optimal Number of Topics for LDA Mallet Model"
   ]
  },
  {
   "cell_type": "code",
   "execution_count": 22,
   "metadata": {
    "hidden": true
   },
   "outputs": [],
   "source": [
    "# compute coherence_values for LdaMallets models\n",
    "\n",
    "def compute_coherence_values(dictionary, corpus, texts, limit, start=2, step=3):\n",
    "    coherence_values = []\n",
    "    model_list = []\n",
    "    for num_topics in range(start, limit, step):\n",
    "        model = gensim.models.wrappers.LdaMallet(mallet_path, corpus=corpus, num_topics=num_topics, id2word=id2word)\n",
    "        model_list.append(model) # adds different LdaMallet models based on num_topics(start, limit, step)\n",
    "        coherencemodel = CoherenceModel(model=model, texts=texts, dictionary=dictionary, coherence='c_v')\n",
    "        coherence_values.append(coherencemodel.get_coherence()) # add the different LdaMallet models and compute Coherence score\n",
    "    return model_list, coherence_values\n",
    "\n",
    "# Recall previous LdaMallet model\n",
    "# ldamallet = LdaMallet(mallet_path,corpus=corpus,num_topics=10,id2word=id2word)\n",
    "# coherence_model_ldamallet = CoherenceModel(model=ldamallet, texts=data_lemmatized, dictionary=id2word, coherence=\"c_v\")\n",
    "\n",
    "# compute a list of LdaMallets models\n",
    "model_list, coherence_values = compute_coherence_values(dictionary=id2word, corpus=corpus, texts=data_lemmatized, start=2, limit=40, step=6)"
   ]
  },
  {
   "cell_type": "code",
   "execution_count": 23,
   "metadata": {
    "hidden": true
   },
   "outputs": [
    {
     "data": {
      "image/png": "[encoded data removed]",
      "text/plain": [
       "<Figure size 432x288 with 1 Axes>"
      ]
     },
     "metadata": {
      "needs_background": "light"
     },
     "output_type": "display_data"
    }
   ],
   "source": [
    "# show graph\n",
    "limit=40; start=2; step=6;\n",
    "x = range(start, limit, step)\n",
    "plt.plot(x, coherence_values)\n",
    "plt.xlabel('Num Topics')\n",
    "plt.ylabel('Coherence score')\n",
    "plt.legend(('coherence_values'), loc='best')\n",
    "plt.show()"
   ]
  },
  {
   "cell_type": "code",
   "execution_count": 24,
   "metadata": {
    "hidden": true
   },
   "outputs": [
    {
     "name": "stdout",
     "output_type": "stream",
     "text": [
      "Num Topics = 2  has Coherence Value of 0.7254\n",
      "Num Topics = 8  has Coherence Value of 0.7591\n",
      "Num Topics = 14  has Coherence Value of 0.782\n",
      "Num Topics = 20  has Coherence Value of 0.7849\n",
      "Num Topics = 26  has Coherence Value of 0.7771\n",
      "Num Topics = 32  has Coherence Value of 0.7673\n",
      "Num Topics = 38  has Coherence Value of 0.7494\n"
     ]
    }
   ],
   "source": [
    "# Print the coherence scores\n",
    "for m, cv in zip(x, coherence_values): # zip aggregate iterables (zero or more)\n",
    "    print('Num Topics =', m, ' has Coherence Value of', round(cv, 4))\n",
    "    # calls an iterated x (x = range(start, limit, step)) and coherence_values (4 decimals)"
   ]
  },
  {
   "cell_type": "code",
   "execution_count": 25,
   "metadata": {
    "hidden": true
   },
   "outputs": [
    {
     "name": "stdout",
     "output_type": "stream",
     "text": [
      "[(0,\n",
      "  '0.282*\"company\" + 0.231*\"people\" + 0.077*\"place\" + 0.051*\"grad\" + '\n",
      "  '0.026*\"challenge\" + 0.026*\"compensation\" + 0.026*\"contract\" + '\n",
      "  '0.026*\"progress\" + 0.026*\"smart\" + 0.026*\"intern\"'),\n",
      " (1,\n",
      "  '0.367*\"company\" + 0.102*\"cloud\" + 0.041*\"strategist\" + 0.041*\"environment\" '\n",
      "  '+ 0.041*\"employee\" + 0.020*\"pry\" + 0.020*\"usa\" + 0.020*\"break\" + '\n",
      "  '0.020*\"atmosphere\" + 0.020*\"term\"'),\n",
      " (2,\n",
      "  '0.164*\"review\" + 0.164*\"amazing\" + 0.145*\"senior\" + 0.109*\"job\" + '\n",
      "  '0.109*\"balance\" + 0.055*\"great\" + 0.036*\"big\" + 0.018*\"compensation\" + '\n",
      "  '0.018*\"java\" + 0.018*\"ep\"'),\n",
      " (3,\n",
      "  '0.333*\"good\" + 0.083*\"review\" + 0.083*\"pay\" + 0.062*\"environment\" + '\n",
      "  '0.042*\"senior\" + 0.042*\"outstanding\" + 0.021*\"depend\" + 0.021*\"point\" + '\n",
      "  '0.021*\"hype\" + 0.021*\"worrying\"'),\n",
      " (4,\n",
      "  '0.314*\"great\" + 0.137*\"program\" + 0.078*\"perk\" + 0.059*\"time\" + '\n",
      "  '0.059*\"staff\" + 0.039*\"analytical\" + 0.020*\"technician\" + 0.020*\"average\" + '\n",
      "  '0.020*\"coworker\" + 0.020*\"datum\"'),\n",
      " (5,\n",
      "  '0.530*\"place\" + 0.045*\"perfect\" + 0.045*\"technical\" + 0.030*\"life\" + '\n",
      "  '0.015*\"overpay\" + 0.015*\"iii\" + 0.015*\"learn\" + 0.015*\"vice\" + '\n",
      "  '0.015*\"leader\" + 0.015*\"write\"'),\n",
      " (6,\n",
      "  '0.431*\"company\" + 0.308*\"good\" + 0.077*\"product\" + 0.015*\"team\" + '\n",
      "  '0.015*\"ad\" + 0.015*\"depend\" + 0.015*\"effect\" + 0.015*\"consultant\" + '\n",
      "  '0.015*\"starting\" + 0.015*\"altering\"'),\n",
      " (7,\n",
      "  '0.473*\"great\" + 0.145*\"benefit\" + 0.073*\"excellent\" + 0.055*\"product\" + '\n",
      "  '0.055*\"lot\" + 0.018*\"class\" + 0.018*\"customer\" + 0.018*\"real\" + '\n",
      "  '0.018*\"promo\" + 0.018*\"run\"'),\n",
      " (8,\n",
      "  '0.579*\"good\" + 0.053*\"analyst\" + 0.053*\"business\" + 0.035*\"pgm\" + '\n",
      "  '0.035*\"year\" + 0.018*\"educator\" + 0.018*\"workplace\" + 0.018*\"accountant\" + '\n",
      "  '0.018*\"bad\" + 0.018*\"unclear\"'),\n",
      " (9,\n",
      "  '0.316*\"google\" + 0.088*\"director\" + 0.035*\"phenomenal\" + 0.035*\"early\" + '\n",
      "  '0.035*\"fun\" + 0.018*\"fulfillment\" + 0.018*\"workload\" + 0.018*\"exact\" + '\n",
      "  '0.018*\"hire\" + 0.018*\"eager\"'),\n",
      " (10,\n",
      "  '0.437*\"manager\" + 0.155*\"account\" + 0.085*\"project\" + 0.042*\"tech\" + '\n",
      "  '0.042*\"awesome\" + 0.028*\"start\" + 0.014*\"unethical\" + 0.014*\"make\" + '\n",
      "  '0.014*\"googlex\" + 0.014*\"goal\"'),\n",
      " (11,\n",
      "  '0.435*\"software\" + 0.065*\"dream\" + 0.065*\"developer\" + 0.043*\"data\" + '\n",
      "  '0.043*\"meh\" + 0.043*\"rough\" + 0.022*\"expectation\" + 0.022*\"unique\" + '\n",
      "  '0.022*\"large\" + 0.022*\"senior\"'),\n",
      " (12,\n",
      "  '0.338*\"work\" + 0.118*\"culture\" + 0.074*\"associate\" + 0.074*\"amazing\" + '\n",
      "  '0.059*\"experience\" + 0.015*\"realistic\" + 0.015*\"listen\" + 0.015*\"glassdoor\" '\n",
      "  '+ 0.015*\"undeniably\" + 0.015*\"workplace\"'),\n",
      " (13,\n",
      "  '0.348*\"work\" + 0.188*\"intern\" + 0.116*\"analyst\" + 0.058*\"internship\" + '\n",
      "  '0.058*\"love\" + 0.058*\"engineering\" + 0.014*\"demand\" + 0.014*\"assignment\" + '\n",
      "  '0.014*\"learn\" + 0.014*\"gr\"'),\n",
      " (14,\n",
      "  '0.585*\"work\" + 0.057*\"ambitious\" + 0.038*\"wonderful\" + 0.038*\"awesome\" + '\n",
      "  '0.019*\"add\" + 0.019*\"wlb\" + 0.019*\"surpass\" + 0.019*\"enjoy\" + '\n",
      "  '0.019*\"working\" + 0.019*\"brand\"'),\n",
      " (15,\n",
      "  '0.609*\"engineer\" + 0.078*\"lead\" + 0.062*\"experience\" + 0.047*\"bad\" + '\n",
      "  '0.016*\"stuff\" + 0.016*\"teammate\" + 0.016*\"datacenter\" + 0.016*\"challang\" + '\n",
      "  '0.016*\"market\" + 0.016*\"practicum\"'),\n",
      " (16,\n",
      "  '0.479*\"great\" + 0.083*\"career\" + 0.062*\"marketing\" + 0.042*\"lot\" + '\n",
      "  '0.021*\"brand\" + 0.021*\"worker\" + 0.021*\"employee\" + 0.021*\"org\" + '\n",
      "  '0.021*\"job\" + 0.021*\"meh\"'),\n",
      " (17,\n",
      "  '0.429*\"software\" + 0.238*\"engineer\" + 0.048*\"designer\" + 0.032*\"fix\" + '\n",
      "  '0.016*\"competitive\" + 0.016*\"hrbp\" + 0.016*\"challenge\" + 0.016*\"boost\" + '\n",
      "  '0.016*\"reward\" + 0.016*\"founder\"'),\n",
      " (18,\n",
      "  '0.441*\"great\" + 0.118*\"sale\" + 0.044*\"long\" + 0.015*\"geekland\" + '\n",
      "  '0.015*\"quality\" + 0.015*\"production\" + 0.015*\"shiny\" + 0.015*\"colleague\" + '\n",
      "  '0.015*\"stuff\" + 0.015*\"adsense\"'),\n",
      " (19,\n",
      "  '0.364*\"place\" + 0.045*\"partner\" + 0.045*\"specialist\" + 0.045*\"perk\" + '\n",
      "  '0.030*\"love\" + 0.030*\"worklife\" + 0.030*\"fun\" + 0.015*\"issue\" + '\n",
      "  '0.015*\"store\" + 0.015*\"hardware\"')]\n"
     ]
    }
   ],
   "source": [
    "# Select the model with highest coherence value and print the topics\n",
    "optimal_model = model_list[3] # the 3rd index from above output\n",
    "model_topics = optimal_model.show_topics(formatted=False)\n",
    "pprint(optimal_model.print_topics(num_words=10)) # set num_words parament to show 10 words per topic"
   ]
  },
  {
   "cell_type": "markdown",
   "metadata": {
    "heading_collapsed": true,
    "hidden": true
   },
   "source": [
    "### Visual the Optimal LDA Mallet Model"
   ]
  },
  {
   "cell_type": "code",
   "execution_count": 26,
   "metadata": {
    "hidden": true
   },
   "outputs": [
    {
     "data": {
      "image/png": "[encoded data removed]",
      "text/plain": [
       "<Figure size 720x720 with 4 Axes>"
      ]
     },
     "metadata": {
      "needs_background": "light"
     },
     "output_type": "display_data"
    }
   ],
   "source": [
    "# Wordcloud of Top N words in each topic\n",
    "from matplotlib import pyplot as plt\n",
    "from wordcloud import WordCloud, STOPWORDS\n",
    "import matplotlib.colors as mcolors\n",
    "\n",
    "cols = [color for name, color in mcolors.TABLEAU_COLORS.items()]  # more colors: 'mcolors.XKCD_COLORS'\n",
    "\n",
    "cloud = WordCloud(stopwords=stop_words,\n",
    "                  background_color='white',\n",
    "                  width=2500,\n",
    "                  height=1800,\n",
    "                  max_words=10,\n",
    "                  colormap='tab10',\n",
    "                  color_func=lambda *args, **kwargs: cols[i],\n",
    "                  prefer_horizontal=1.0)\n",
    "\n",
    "topics = optimal_model.show_topics(formatted=False)\n",
    "\n",
    "fig, axes = plt.subplots(2, 2, figsize=(10,10), sharex=True, sharey=True)\n",
    "\n",
    "for i, ax in enumerate(axes.flatten()):\n",
    "    fig.add_subplot(ax)\n",
    "    topic_words = dict(topics[i][1])\n",
    "    cloud.generate_from_frequencies(topic_words, max_font_size=300)\n",
    "    plt.gca().imshow(cloud)\n",
    "    plt.gca().set_title('Topic ' + str(i), fontdict=dict(size=16))\n",
    "    plt.gca().axis('off')\n",
    "\n",
    "\n",
    "plt.subplots_adjust(wspace=0, hspace=0)\n",
    "plt.axis('off')\n",
    "plt.margins(x=0, y=0)\n",
    "plt.tight_layout()\n",
    "plt.show()"
   ]
  },
  {
   "cell_type": "markdown",
   "metadata": {
    "heading_collapsed": true,
    "hidden": true
   },
   "source": [
    "## Analysis"
   ]
  },
  {
   "cell_type": "markdown",
   "metadata": {
    "heading_collapsed": true,
    "hidden": true
   },
   "source": [
    "### Finding topics for each document"
   ]
  },
  {
   "cell_type": "code",
   "execution_count": 27,
   "metadata": {
    "hidden": true
   },
   "outputs": [
    {
     "data": {
      "text/html": [
       "<div>\n",
       "<style scoped>\n",
       "    .dataframe tbody tr th:only-of-type {\n",
       "        vertical-align: middle;\n",
       "    }\n",
       "\n",
       "    .dataframe tbody tr th {\n",
       "        vertical-align: top;\n",
       "    }\n",
       "\n",
       "    .dataframe thead th {\n",
       "        text-align: right;\n",
       "    }\n",
       "</style>\n",
       "<table border=\"1\" class=\"dataframe\">\n",
       "  <thead>\n",
       "    <tr style=\"text-align: right;\">\n",
       "      <th></th>\n",
       "      <th>Document_No</th>\n",
       "      <th>Dominant_Topic</th>\n",
       "      <th>Topic_Perc_Contrib</th>\n",
       "      <th>Keywords</th>\n",
       "      <th>Document</th>\n",
       "    </tr>\n",
       "  </thead>\n",
       "  <tbody>\n",
       "    <tr>\n",
       "      <th>0</th>\n",
       "      <td>0</td>\n",
       "      <td>6.0</td>\n",
       "      <td>0.0577</td>\n",
       "      <td>company, good, product, team, ad, depend, effe...</td>\n",
       "      <td>Best Company to work for</td>\n",
       "    </tr>\n",
       "    <tr>\n",
       "      <th>1</th>\n",
       "      <td>1</td>\n",
       "      <td>4.0</td>\n",
       "      <td>0.0798</td>\n",
       "      <td>great, program, perk, time, staff, analytical,...</td>\n",
       "      <td>Moving at the speed of light burn out is inevi...</td>\n",
       "    </tr>\n",
       "    <tr>\n",
       "      <th>2</th>\n",
       "      <td>2</td>\n",
       "      <td>10.0</td>\n",
       "      <td>0.0731</td>\n",
       "      <td>manager, account, project, tech, awesome, star...</td>\n",
       "      <td>Great balance between bigcompany security and ...</td>\n",
       "    </tr>\n",
       "    <tr>\n",
       "      <th>3</th>\n",
       "      <td>3</td>\n",
       "      <td>13.0</td>\n",
       "      <td>0.0648</td>\n",
       "      <td>work, intern, analyst, internship, love, engin...</td>\n",
       "      <td>The best place Ive worked and also the most de...</td>\n",
       "    </tr>\n",
       "    <tr>\n",
       "      <th>4</th>\n",
       "      <td>4</td>\n",
       "      <td>11.0</td>\n",
       "      <td>0.0833</td>\n",
       "      <td>software, dream, developer, data, meh, rough, ...</td>\n",
       "      <td>Unique one of a kind dream job</td>\n",
       "    </tr>\n",
       "    <tr>\n",
       "      <th>5</th>\n",
       "      <td>5</td>\n",
       "      <td>13.0</td>\n",
       "      <td>0.0723</td>\n",
       "      <td>work, intern, analyst, internship, love, engin...</td>\n",
       "      <td>NICE working in GOOGLE as an INTERN</td>\n",
       "    </tr>\n",
       "    <tr>\n",
       "      <th>6</th>\n",
       "      <td>6</td>\n",
       "      <td>15.0</td>\n",
       "      <td>0.0630</td>\n",
       "      <td>engineer, lead, experience, bad, stuff, teamma...</td>\n",
       "      <td>Software engineer</td>\n",
       "    </tr>\n",
       "    <tr>\n",
       "      <th>7</th>\n",
       "      <td>7</td>\n",
       "      <td>0.0</td>\n",
       "      <td>0.0628</td>\n",
       "      <td>company, people, place, grad, challenge, compe...</td>\n",
       "      <td>great place to work and progress</td>\n",
       "    </tr>\n",
       "    <tr>\n",
       "      <th>8</th>\n",
       "      <td>8</td>\n",
       "      <td>14.0</td>\n",
       "      <td>0.0660</td>\n",
       "      <td>work, ambitious, wonderful, awesome, add, wlb,...</td>\n",
       "      <td>Google Surpasses Realistic Expectations</td>\n",
       "    </tr>\n",
       "    <tr>\n",
       "      <th>9</th>\n",
       "      <td>9</td>\n",
       "      <td>15.0</td>\n",
       "      <td>0.0588</td>\n",
       "      <td>engineer, lead, experience, bad, stuff, teamma...</td>\n",
       "      <td>Execellent for engineers</td>\n",
       "    </tr>\n",
       "  </tbody>\n",
       "</table>\n",
       "</div>"
      ],
      "text/plain": [
       "   Document_No  Dominant_Topic  Topic_Perc_Contrib  \\\n",
       "0            0             6.0              0.0577   \n",
       "1            1             4.0              0.0798   \n",
       "2            2            10.0              0.0731   \n",
       "3            3            13.0              0.0648   \n",
       "4            4            11.0              0.0833   \n",
       "5            5            13.0              0.0723   \n",
       "6            6            15.0              0.0630   \n",
       "7            7             0.0              0.0628   \n",
       "8            8            14.0              0.0660   \n",
       "9            9            15.0              0.0588   \n",
       "\n",
       "                                            Keywords  \\\n",
       "0  company, good, product, team, ad, depend, effe...   \n",
       "1  great, program, perk, time, staff, analytical,...   \n",
       "2  manager, account, project, tech, awesome, star...   \n",
       "3  work, intern, analyst, internship, love, engin...   \n",
       "4  software, dream, developer, data, meh, rough, ...   \n",
       "5  work, intern, analyst, internship, love, engin...   \n",
       "6  engineer, lead, experience, bad, stuff, teamma...   \n",
       "7  company, people, place, grad, challenge, compe...   \n",
       "8  work, ambitious, wonderful, awesome, add, wlb,...   \n",
       "9  engineer, lead, experience, bad, stuff, teamma...   \n",
       "\n",
       "                                            Document  \n",
       "0                           Best Company to work for  \n",
       "1  Moving at the speed of light burn out is inevi...  \n",
       "2  Great balance between bigcompany security and ...  \n",
       "3  The best place Ive worked and also the most de...  \n",
       "4                     Unique one of a kind dream job  \n",
       "5                NICE working in GOOGLE as an INTERN  \n",
       "6                                  Software engineer  \n",
       "7                   great place to work and progress  \n",
       "8            Google Surpasses Realistic Expectations  \n",
       "9                           Execellent for engineers  "
      ]
     },
     "execution_count": 27,
     "metadata": {},
     "output_type": "execute_result"
    }
   ],
   "source": [
    "def format_topics_sentences(ldamodel=optimal_model, corpus=corpus, texts=data):\n",
    "    # Create DataFrame\n",
    "    sent_topics_df = pd.DataFrame()\n",
    "\n",
    "    # Get dominant topic in each document\n",
    "    for i, row in enumerate(ldamodel[corpus]):                   # call the optimal_model from LdaMallet (ldamodel=optimal_model)\n",
    "        row = sorted(row, key=lambda x: (x[1]), reverse=True)    # sort the dominant topic for each document (use row[0] for windows)\n",
    "        \n",
    "        \n",
    "        # Get the Dominant topic, Perc Contribution and Keywords for each document\n",
    "        for j, (topic_num, prop_topic) in enumerate(row):\n",
    "            if j == 0:                                           # dominant topic\n",
    "                wp = ldamodel.show_topic(topic_num)              # show the dominant topic column (topic_num)\n",
    "                topic_keywords = \", \".join([word for word, prop in wp])   # add keywords column to each dominant topic column\n",
    "                sent_topics_df = sent_topics_df.append(pd.Series([int(topic_num), round(prop_topic,4), topic_keywords]), ignore_index=True)\n",
    "                # add to dataframe columns: dominant topic (topic_num), perc_contribution (prop_topic (4 decimal)),\n",
    "                # and keywords (topic_keywords)\n",
    "            else:\n",
    "                break\n",
    "    sent_topics_df.columns = ['Dominant_Topic', 'Perc_Contribution', 'Topic_Keywords'] # create dataframe title\n",
    "    # Essentially, we sort the dominant topic for each document,\n",
    "    # Then we add keywords column to each dominant topic column for each document, and append it to our sent_topics_df dataframe\n",
    "    # (dataframe now include: dominant topic (topic_num), perc_contribution (prop_topic (4 decimal)), and keywords (topic_keywords))\n",
    "    # Note that prop_topic is perc_contribution from output of keywords and their respective weights (ie. 'window', 0.0235866)\n",
    "    # Finally name the dataframe columns for topic_num, prop_topic, topic_keywords to Dominant_topic, Perc_Contribution and Topic_Keywords\n",
    "    \n",
    "        \n",
    "    # Add original text to the end of the output (recall that texts = data_lemmatized)\n",
    "    contents = pd.Series(texts)\n",
    "    sent_topics_df = pd.concat([sent_topics_df, contents], axis=1)\n",
    "    return(sent_topics_df)\n",
    "    # we take out sent_topics_df dataframe that is configured, and add our texts to it\n",
    "\n",
    "    \n",
    "df_topic_sents_keywords = format_topics_sentences(ldamodel=optimal_model, corpus=corpus, texts=data)\n",
    "# texts=data since that is what we assigned in the format_topics_sentences function, but in the function we already\n",
    "# called and added our data (texts=data_lemmatized) to the dataframe, which is why now we use texts=data default parameter\n",
    "\n",
    "\n",
    "# Format\n",
    "df_dominant_topic = df_topic_sents_keywords.reset_index()       # re-index\n",
    "df_dominant_topic.columns = ['Document_No', 'Dominant_Topic', 'Topic_Perc_Contrib', 'Keywords', 'Document']\n",
    "# name all the columns for the DataFrame\n",
    "\n",
    "# Show\n",
    "df_dominant_topic.head(10)"
   ]
  },
  {
   "cell_type": "markdown",
   "metadata": {
    "heading_collapsed": true,
    "hidden": true
   },
   "source": [
    "### Finding documents for each topic"
   ]
  },
  {
   "cell_type": "code",
   "execution_count": 28,
   "metadata": {
    "hidden": true
   },
   "outputs": [
    {
     "data": {
      "text/html": [
       "<div>\n",
       "<style scoped>\n",
       "    .dataframe tbody tr th:only-of-type {\n",
       "        vertical-align: middle;\n",
       "    }\n",
       "\n",
       "    .dataframe tbody tr th {\n",
       "        vertical-align: top;\n",
       "    }\n",
       "\n",
       "    .dataframe thead th {\n",
       "        text-align: right;\n",
       "    }\n",
       "</style>\n",
       "<table border=\"1\" class=\"dataframe\">\n",
       "  <thead>\n",
       "    <tr style=\"text-align: right;\">\n",
       "      <th></th>\n",
       "      <th>Topic_Num</th>\n",
       "      <th>Topic_Perc_Contrib</th>\n",
       "      <th>Keywords</th>\n",
       "      <th>Document</th>\n",
       "    </tr>\n",
       "  </thead>\n",
       "  <tbody>\n",
       "    <tr>\n",
       "      <th>0</th>\n",
       "      <td>0.0</td>\n",
       "      <td>0.0804</td>\n",
       "      <td>company, people, place, grad, challenge, compe...</td>\n",
       "      <td>Company full of people running around caring o...</td>\n",
       "    </tr>\n",
       "    <tr>\n",
       "      <th>1</th>\n",
       "      <td>1.0</td>\n",
       "      <td>0.0833</td>\n",
       "      <td>company, cloud, strategist, environment, emplo...</td>\n",
       "      <td>I broke down crying on the datacenter floor</td>\n",
       "    </tr>\n",
       "    <tr>\n",
       "      <th>2</th>\n",
       "      <td>2.0</td>\n",
       "      <td>0.0717</td>\n",
       "      <td>review, amazing, senior, job, balance, great, ...</td>\n",
       "      <td>Amazing place to develop technical skills</td>\n",
       "    </tr>\n",
       "    <tr>\n",
       "      <th>3</th>\n",
       "      <td>3.0</td>\n",
       "      <td>0.0744</td>\n",
       "      <td>good, review, pay, environment, senior, outsta...</td>\n",
       "      <td>Good pay and work</td>\n",
       "    </tr>\n",
       "    <tr>\n",
       "      <th>4</th>\n",
       "      <td>4.0</td>\n",
       "      <td>0.0807</td>\n",
       "      <td>great, program, perk, time, staff, analytical,...</td>\n",
       "      <td>Average with a hint of arrogance</td>\n",
       "    </tr>\n",
       "    <tr>\n",
       "      <th>5</th>\n",
       "      <td>5.0</td>\n",
       "      <td>0.0778</td>\n",
       "      <td>place, perfect, technical, life, overpay, iii,...</td>\n",
       "      <td>Not perfect but still the best place in the wo...</td>\n",
       "    </tr>\n",
       "    <tr>\n",
       "      <th>6</th>\n",
       "      <td>6.0</td>\n",
       "      <td>0.0702</td>\n",
       "      <td>company, good, product, team, ad, depend, effe...</td>\n",
       "      <td>Best Company in the world</td>\n",
       "    </tr>\n",
       "    <tr>\n",
       "      <th>7</th>\n",
       "      <td>7.0</td>\n",
       "      <td>0.0874</td>\n",
       "      <td>great, benefit, excellent, product, lot, class...</td>\n",
       "      <td>Great benefits but large enough to get lost in</td>\n",
       "    </tr>\n",
       "    <tr>\n",
       "      <th>8</th>\n",
       "      <td>8.0</td>\n",
       "      <td>0.0713</td>\n",
       "      <td>good, analyst, business, pgm, year, educator, ...</td>\n",
       "      <td>Good company with good benefits lots of red ta...</td>\n",
       "    </tr>\n",
       "    <tr>\n",
       "      <th>9</th>\n",
       "      <td>9.0</td>\n",
       "      <td>0.0828</td>\n",
       "      <td>google, director, phenomenal, early, fun, fulf...</td>\n",
       "      <td>Early Childhood Educator</td>\n",
       "    </tr>\n",
       "    <tr>\n",
       "      <th>10</th>\n",
       "      <td>10.0</td>\n",
       "      <td>0.0865</td>\n",
       "      <td>manager, account, project, tech, awesome, star...</td>\n",
       "      <td>Project Manager</td>\n",
       "    </tr>\n",
       "    <tr>\n",
       "      <th>11</th>\n",
       "      <td>11.0</td>\n",
       "      <td>0.0833</td>\n",
       "      <td>software, dream, developer, data, meh, rough, ...</td>\n",
       "      <td>Unique one of a kind dream job</td>\n",
       "    </tr>\n",
       "    <tr>\n",
       "      <th>12</th>\n",
       "      <td>12.0</td>\n",
       "      <td>0.0759</td>\n",
       "      <td>work, culture, associate, amazing, experience,...</td>\n",
       "      <td>Massage Therapist</td>\n",
       "    </tr>\n",
       "    <tr>\n",
       "      <th>13</th>\n",
       "      <td>13.0</td>\n",
       "      <td>0.0849</td>\n",
       "      <td>work, intern, analyst, internship, love, engin...</td>\n",
       "      <td>Software Engineering Intern</td>\n",
       "    </tr>\n",
       "    <tr>\n",
       "      <th>14</th>\n",
       "      <td>14.0</td>\n",
       "      <td>0.0723</td>\n",
       "      <td>work, ambitious, wonderful, awesome, add, wlb,...</td>\n",
       "      <td>wonderful place to work</td>\n",
       "    </tr>\n",
       "    <tr>\n",
       "      <th>15</th>\n",
       "      <td>15.0</td>\n",
       "      <td>0.0702</td>\n",
       "      <td>engineer, lead, experience, bad, stuff, teamma...</td>\n",
       "      <td>Engineering Practicum Internship</td>\n",
       "    </tr>\n",
       "    <tr>\n",
       "      <th>16</th>\n",
       "      <td>16.0</td>\n",
       "      <td>0.0751</td>\n",
       "      <td>great, career, marketing, lot, brand, worker, ...</td>\n",
       "      <td>Google is great recruiting org not so much</td>\n",
       "    </tr>\n",
       "    <tr>\n",
       "      <th>17</th>\n",
       "      <td>17.0</td>\n",
       "      <td>0.0798</td>\n",
       "      <td>software, engineer, designer, fix, competitive...</td>\n",
       "      <td>Sr Interactive Designer Sr Solution Consultant</td>\n",
       "    </tr>\n",
       "    <tr>\n",
       "      <th>18</th>\n",
       "      <td>18.0</td>\n",
       "      <td>0.0844</td>\n",
       "      <td>great, sale, long, geekland, quality, producti...</td>\n",
       "      <td>Adsense Publisher</td>\n",
       "    </tr>\n",
       "    <tr>\n",
       "      <th>19</th>\n",
       "      <td>19.0</td>\n",
       "      <td>0.0765</td>\n",
       "      <td>place, partner, specialist, perk, love, workli...</td>\n",
       "      <td>Love working at Google in Boulder CO</td>\n",
       "    </tr>\n",
       "  </tbody>\n",
       "</table>\n",
       "</div>"
      ],
      "text/plain": [
       "    Topic_Num  Topic_Perc_Contrib  \\\n",
       "0         0.0              0.0804   \n",
       "1         1.0              0.0833   \n",
       "2         2.0              0.0717   \n",
       "3         3.0              0.0744   \n",
       "4         4.0              0.0807   \n",
       "5         5.0              0.0778   \n",
       "6         6.0              0.0702   \n",
       "7         7.0              0.0874   \n",
       "8         8.0              0.0713   \n",
       "9         9.0              0.0828   \n",
       "10       10.0              0.0865   \n",
       "11       11.0              0.0833   \n",
       "12       12.0              0.0759   \n",
       "13       13.0              0.0849   \n",
       "14       14.0              0.0723   \n",
       "15       15.0              0.0702   \n",
       "16       16.0              0.0751   \n",
       "17       17.0              0.0798   \n",
       "18       18.0              0.0844   \n",
       "19       19.0              0.0765   \n",
       "\n",
       "                                             Keywords  \\\n",
       "0   company, people, place, grad, challenge, compe...   \n",
       "1   company, cloud, strategist, environment, emplo...   \n",
       "2   review, amazing, senior, job, balance, great, ...   \n",
       "3   good, review, pay, environment, senior, outsta...   \n",
       "4   great, program, perk, time, staff, analytical,...   \n",
       "5   place, perfect, technical, life, overpay, iii,...   \n",
       "6   company, good, product, team, ad, depend, effe...   \n",
       "7   great, benefit, excellent, product, lot, class...   \n",
       "8   good, analyst, business, pgm, year, educator, ...   \n",
       "9   google, director, phenomenal, early, fun, fulf...   \n",
       "10  manager, account, project, tech, awesome, star...   \n",
       "11  software, dream, developer, data, meh, rough, ...   \n",
       "12  work, culture, associate, amazing, experience,...   \n",
       "13  work, intern, analyst, internship, love, engin...   \n",
       "14  work, ambitious, wonderful, awesome, add, wlb,...   \n",
       "15  engineer, lead, experience, bad, stuff, teamma...   \n",
       "16  great, career, marketing, lot, brand, worker, ...   \n",
       "17  software, engineer, designer, fix, competitive...   \n",
       "18  great, sale, long, geekland, quality, producti...   \n",
       "19  place, partner, specialist, perk, love, workli...   \n",
       "\n",
       "                                             Document  \n",
       "0   Company full of people running around caring o...  \n",
       "1         I broke down crying on the datacenter floor  \n",
       "2           Amazing place to develop technical skills  \n",
       "3                                   Good pay and work  \n",
       "4                    Average with a hint of arrogance  \n",
       "5   Not perfect but still the best place in the wo...  \n",
       "6                           Best Company in the world  \n",
       "7      Great benefits but large enough to get lost in  \n",
       "8   Good company with good benefits lots of red ta...  \n",
       "9                            Early Childhood Educator  \n",
       "10                                    Project Manager  \n",
       "11                     Unique one of a kind dream job  \n",
       "12                                  Massage Therapist  \n",
       "13                        Software Engineering Intern  \n",
       "14                            wonderful place to work  \n",
       "15                   Engineering Practicum Internship  \n",
       "16         Google is great recruiting org not so much  \n",
       "17     Sr Interactive Designer Sr Solution Consultant  \n",
       "18                                  Adsense Publisher  \n",
       "19               Love working at Google in Boulder CO  "
      ]
     },
     "execution_count": 28,
     "metadata": {},
     "output_type": "execute_result"
    }
   ],
   "source": [
    "# Group top 20 documents for the 20 dominant topic\n",
    "sent_topics_sorteddf_mallet = pd.DataFrame() # Create a new DataFrame for our analysis\n",
    "\n",
    "sent_topics_outdf_grpd = df_topic_sents_keywords.groupby('Dominant_Topic') \n",
    "# Groupyby dominant topics in df_topic_sents_keywords from above (where we derived the DataFrame showing dominant topic for each document)\n",
    "\n",
    "for i, grp in sent_topics_outdf_grpd:\n",
    "    sent_topics_sorteddf_mallet = pd.concat([sent_topics_sorteddf_mallet, grp.sort_values(['Perc_Contribution'], ascending=[0]).head(1)], axis=0)\n",
    "# Take sent_topics_sorteddf_mallet DataFrame and combine it with,\n",
    "# the most (head(1)) dominant topic in sent_topcs_outdf_grpd (grp) sort by perc_contribution\n",
    "# Essentially, we take our dataset with dominant topics and group it with texts that has the most contribution for each dominant topic\n",
    "\n",
    "# Reset Index    \n",
    "sent_topics_sorteddf_mallet.reset_index(drop=True, inplace=True)\n",
    "\n",
    "# Format\n",
    "sent_topics_sorteddf_mallet.columns = ['Topic_Num', \"Topic_Perc_Contrib\", \"Keywords\", \"Document\"]\n",
    "\n",
    "# Show the top 20 documents for the 20 dominant topic\n",
    "sent_topics_sorteddf_mallet "
   ]
  },
  {
   "cell_type": "markdown",
   "metadata": {
    "heading_collapsed": true,
    "hidden": true
   },
   "source": [
    "### Document distribution across Topics"
   ]
  },
  {
   "cell_type": "code",
   "execution_count": 29,
   "metadata": {
    "hidden": true
   },
   "outputs": [
    {
     "data": {
      "text/html": [
       "<div>\n",
       "<style scoped>\n",
       "    .dataframe tbody tr th:only-of-type {\n",
       "        vertical-align: middle;\n",
       "    }\n",
       "\n",
       "    .dataframe tbody tr th {\n",
       "        vertical-align: top;\n",
       "    }\n",
       "\n",
       "    .dataframe thead th {\n",
       "        text-align: right;\n",
       "    }\n",
       "</style>\n",
       "<table border=\"1\" class=\"dataframe\">\n",
       "  <thead>\n",
       "    <tr style=\"text-align: right;\">\n",
       "      <th></th>\n",
       "      <th>Dominant Topic</th>\n",
       "      <th>Num_Document</th>\n",
       "      <th>Perc_Document</th>\n",
       "    </tr>\n",
       "  </thead>\n",
       "  <tbody>\n",
       "    <tr>\n",
       "      <th>0</th>\n",
       "      <td>0.0</td>\n",
       "      <td>35</td>\n",
       "      <td>0.070</td>\n",
       "    </tr>\n",
       "    <tr>\n",
       "      <th>1</th>\n",
       "      <td>1.0</td>\n",
       "      <td>32</td>\n",
       "      <td>0.064</td>\n",
       "    </tr>\n",
       "    <tr>\n",
       "      <th>2</th>\n",
       "      <td>2.0</td>\n",
       "      <td>20</td>\n",
       "      <td>0.040</td>\n",
       "    </tr>\n",
       "    <tr>\n",
       "      <th>3</th>\n",
       "      <td>3.0</td>\n",
       "      <td>24</td>\n",
       "      <td>0.048</td>\n",
       "    </tr>\n",
       "    <tr>\n",
       "      <th>4</th>\n",
       "      <td>4.0</td>\n",
       "      <td>27</td>\n",
       "      <td>0.054</td>\n",
       "    </tr>\n",
       "    <tr>\n",
       "      <th>5</th>\n",
       "      <td>5.0</td>\n",
       "      <td>35</td>\n",
       "      <td>0.070</td>\n",
       "    </tr>\n",
       "    <tr>\n",
       "      <th>6</th>\n",
       "      <td>6.0</td>\n",
       "      <td>19</td>\n",
       "      <td>0.038</td>\n",
       "    </tr>\n",
       "    <tr>\n",
       "      <th>7</th>\n",
       "      <td>7.0</td>\n",
       "      <td>17</td>\n",
       "      <td>0.034</td>\n",
       "    </tr>\n",
       "    <tr>\n",
       "      <th>8</th>\n",
       "      <td>8.0</td>\n",
       "      <td>22</td>\n",
       "      <td>0.044</td>\n",
       "    </tr>\n",
       "    <tr>\n",
       "      <th>9</th>\n",
       "      <td>9.0</td>\n",
       "      <td>33</td>\n",
       "      <td>0.066</td>\n",
       "    </tr>\n",
       "    <tr>\n",
       "      <th>10</th>\n",
       "      <td>10.0</td>\n",
       "      <td>43</td>\n",
       "      <td>0.086</td>\n",
       "    </tr>\n",
       "    <tr>\n",
       "      <th>11</th>\n",
       "      <td>11.0</td>\n",
       "      <td>18</td>\n",
       "      <td>0.036</td>\n",
       "    </tr>\n",
       "    <tr>\n",
       "      <th>12</th>\n",
       "      <td>12.0</td>\n",
       "      <td>21</td>\n",
       "      <td>0.042</td>\n",
       "    </tr>\n",
       "    <tr>\n",
       "      <th>13</th>\n",
       "      <td>13.0</td>\n",
       "      <td>26</td>\n",
       "      <td>0.052</td>\n",
       "    </tr>\n",
       "    <tr>\n",
       "      <th>14</th>\n",
       "      <td>14.0</td>\n",
       "      <td>15</td>\n",
       "      <td>0.030</td>\n",
       "    </tr>\n",
       "    <tr>\n",
       "      <th>15</th>\n",
       "      <td>15.0</td>\n",
       "      <td>24</td>\n",
       "      <td>0.048</td>\n",
       "    </tr>\n",
       "    <tr>\n",
       "      <th>16</th>\n",
       "      <td>16.0</td>\n",
       "      <td>17</td>\n",
       "      <td>0.034</td>\n",
       "    </tr>\n",
       "    <tr>\n",
       "      <th>17</th>\n",
       "      <td>17.0</td>\n",
       "      <td>33</td>\n",
       "      <td>0.066</td>\n",
       "    </tr>\n",
       "    <tr>\n",
       "      <th>18</th>\n",
       "      <td>18.0</td>\n",
       "      <td>19</td>\n",
       "      <td>0.038</td>\n",
       "    </tr>\n",
       "    <tr>\n",
       "      <th>19</th>\n",
       "      <td>19.0</td>\n",
       "      <td>20</td>\n",
       "      <td>0.040</td>\n",
       "    </tr>\n",
       "  </tbody>\n",
       "</table>\n",
       "</div>"
      ],
      "text/plain": [
       "    Dominant Topic  Num_Document  Perc_Document\n",
       "0              0.0            35          0.070\n",
       "1              1.0            32          0.064\n",
       "2              2.0            20          0.040\n",
       "3              3.0            24          0.048\n",
       "4              4.0            27          0.054\n",
       "5              5.0            35          0.070\n",
       "6              6.0            19          0.038\n",
       "7              7.0            17          0.034\n",
       "8              8.0            22          0.044\n",
       "9              9.0            33          0.066\n",
       "10            10.0            43          0.086\n",
       "11            11.0            18          0.036\n",
       "12            12.0            21          0.042\n",
       "13            13.0            26          0.052\n",
       "14            14.0            15          0.030\n",
       "15            15.0            24          0.048\n",
       "16            16.0            17          0.034\n",
       "17            17.0            33          0.066\n",
       "18            18.0            19          0.038\n",
       "19            19.0            20          0.040"
      ]
     },
     "execution_count": 29,
     "metadata": {},
     "output_type": "execute_result"
    }
   ],
   "source": [
    "# Number of Documents for Each Topic\n",
    "topic_counts = df_topic_sents_keywords['Dominant_Topic'].value_counts()\n",
    "\n",
    "# Percentage of overall Documents for Each Topic (round to 4 decimals)\n",
    "topic_contribution = round(topic_counts/topic_counts.sum(), 4)\n",
    "\n",
    "# Total Dominant Topic Number\n",
    "topic_num_keywords = {'Topic_Num': pd.Series([0.0,1.0,2.0,3.0,4.0,5.0,6.0,7.0,8.0,9.0,10.0,\n",
    "                                              11.0,12.0,13.0,14.0,15.0,16.0,17.0,18.0,19.0])}\n",
    "topic_num_keywords = pd.DataFrame(topic_num_keywords)\n",
    "                      \n",
    "# Concatenate Column wise\n",
    "df_dominant_topics = pd.concat([topic_num_keywords, topic_counts, topic_contribution], axis=1)\n",
    "\n",
    "# Reindex\n",
    "df_dominant_topics.reset_index(drop=True, inplace=True)\n",
    "\n",
    "# Change Column names\n",
    "df_dominant_topics.columns = ['Dominant Topic', 'Num_Document', 'Perc_Document']\n",
    "\n",
    "# Show\n",
    "df_dominant_topics"
   ]
  },
  {
   "cell_type": "markdown",
   "metadata": {
    "heading_collapsed": true,
    "hidden": true
   },
   "source": [
    "## Answering the Questions"
   ]
  },
  {
   "cell_type": "markdown",
   "metadata": {
    "heading_collapsed": true
   },
   "source": [
    "# Topics Analysis for Amazon"
   ]
  },
  {
   "cell_type": "code",
   "execution_count": 30,
   "metadata": {
    "hidden": true
   },
   "outputs": [],
   "source": [
    "# Filters to Amazon only\n",
    "dfam = df[df['company'] == 'amazon']"
   ]
  },
  {
   "cell_type": "code",
   "execution_count": 31,
   "metadata": {
    "hidden": true,
    "scrolled": true
   },
   "outputs": [
    {
     "data": {
      "text/plain": [
       "(26430, 1)"
      ]
     },
     "execution_count": 31,
     "metadata": {},
     "output_type": "execute_result"
    }
   ],
   "source": [
    "# Filters the data to the column needed for topic modeling\n",
    "dfam = dfam[['summary']]\n",
    "dfam.shape"
   ]
  },
  {
   "cell_type": "markdown",
   "metadata": {
    "hidden": true
   },
   "source": [
    "26,430 dataset with 1 type"
   ]
  },
  {
   "cell_type": "code",
   "execution_count": 32,
   "metadata": {
    "hidden": true
   },
   "outputs": [],
   "source": [
    "dfam = dfam.head(500)"
   ]
  },
  {
   "cell_type": "markdown",
   "metadata": {
    "heading_collapsed": true,
    "hidden": true
   },
   "source": [
    "## Data Cleansing"
   ]
  },
  {
   "cell_type": "code",
   "execution_count": 33,
   "metadata": {
    "hidden": true
   },
   "outputs": [],
   "source": [
    "data = dfam['summary'].values.tolist() # convert to list\n",
    "\n",
    "import re\n",
    "data = [re.sub(r'[^a-zA-Z ]+', '', str(sent)) for sent in data] # removes everything except letters and space, str(sent) converts to string"
   ]
  },
  {
   "cell_type": "code",
   "execution_count": 34,
   "metadata": {
    "hidden": true
   },
   "outputs": [
    {
     "name": "stdout",
     "output_type": "stream",
     "text": [
      "['An Amazing Place to Work']\n"
     ]
    }
   ],
   "source": [
    "from pprint import pprint\n",
    "pprint(data[:1])"
   ]
  },
  {
   "cell_type": "markdown",
   "metadata": {
    "heading_collapsed": true,
    "hidden": true
   },
   "source": [
    "## Pre-Processing"
   ]
  },
  {
   "cell_type": "markdown",
   "metadata": {
    "heading_collapsed": true,
    "hidden": true
   },
   "source": [
    "### Tokenization and Additional Cleansing"
   ]
  },
  {
   "cell_type": "code",
   "execution_count": 35,
   "metadata": {
    "hidden": true,
    "scrolled": true
   },
   "outputs": [
    {
     "name": "stdout",
     "output_type": "stream",
     "text": [
      "[['an', 'amazing', 'place', 'to', 'work']]\n"
     ]
    }
   ],
   "source": [
    "import gensim\n",
    "from gensim.utils import simple_preprocess \n",
    "def sent_to_words(sentences):\n",
    "    for sentence in sentences:\n",
    "        yield(gensim.utils.simple_preprocess(str(sentence), deacc=True)) \n",
    "        # deacc=True removes punctuations\n",
    "        # simple_preprocess to tokenize, and clean up messy text (converts to lowercase and removes punctuations)\n",
    "        \n",
    "data_words = list(sent_to_words(data))\n",
    "\n",
    "print(data_words[:1])   "
   ]
  },
  {
   "cell_type": "markdown",
   "metadata": {
    "heading_collapsed": true,
    "hidden": true
   },
   "source": [
    "### Remove Stopwords"
   ]
  },
  {
   "cell_type": "code",
   "execution_count": 36,
   "metadata": {
    "hidden": true
   },
   "outputs": [],
   "source": [
    "from nltk.corpus import stopwords\n",
    "stop_words = stopwords.words('english')\n",
    "stop_words.extend(['from', 'subject', 're', 'edu', 'use']) # add additional stop words\n",
    "\n",
    "# Define functions for stopwords, bigram, trigram and lemmatization\n",
    "def remove_stopwords(texts):\n",
    "    return [[word for word in simple_preprocess(str(doc)) if word not in stop_words] for doc in texts]\n",
    "    # clean out words using simple_preprocess (gensim) if the words are not already in stop_words (stop_words from NLTK)\n",
    "    \n",
    "# Remove Stop Words from simple_preprocess\n",
    "data_words_nostops = remove_stopwords(data_words)"
   ]
  },
  {
   "cell_type": "markdown",
   "metadata": {
    "heading_collapsed": true,
    "hidden": true
   },
   "source": [
    "### Create and Apply Trigrams"
   ]
  },
  {
   "cell_type": "code",
   "execution_count": 37,
   "metadata": {
    "hidden": true
   },
   "outputs": [],
   "source": [
    "# Build the bigram and trigram models\n",
    "bigram = gensim.models.Phrases(data_words, min_count=5, threshold=100) # higher threshold fewer phrases\n",
    "trigram = gensim.models.Phrases(bigram[data_words], threshold=100)\n",
    "# min_count is minimum 5 letters\n",
    "# threshold is 100 threshold in each word before accepting another word\n",
    "\n",
    "# Faster way to get a sentence clubbed as a trigram/bigram\n",
    "bigram_mod = gensim.models.phrases.Phraser(bigram)\n",
    "trigram_mod = gensim.models.phrases.Phraser(trigram)\n",
    "\n",
    "def make_trigram(texts):\n",
    "    return [trigram_mod[bigram_mod[doc]] for doc in texts]\n",
    "\n",
    "# Form Trigrams from Gensim.models.phrases\n",
    "data_words_trigrams = make_trigram(data_words_nostops)"
   ]
  },
  {
   "cell_type": "markdown",
   "metadata": {
    "heading_collapsed": true,
    "hidden": true
   },
   "source": [
    "### Lemmatize"
   ]
  },
  {
   "cell_type": "code",
   "execution_count": 38,
   "metadata": {
    "hidden": true
   },
   "outputs": [
    {
     "name": "stdout",
     "output_type": "stream",
     "text": [
      "[['amazing', 'place', 'work']]\n"
     ]
    }
   ],
   "source": [
    "def lemmatization(texts, allowed_postags=['NOUN', 'ADJ', 'VERB', 'ADV']): # http://spacy.io/api/annotation\n",
    "    texts_out = [] # creates a list\n",
    "    for sent in texts:\n",
    "        doc = nlp(\" \".join(sent)) # adds English dictionary from Spacy to the texts by instantiating doc\n",
    "        texts_out.append([token.lemma_ for token in doc if token.pos_ in allowed_postags])\n",
    "# adds doc to texts_out list for all base token in doc, if these added doc are from a loose part of the speech in allowed_postags\n",
    "# in other words, every (base) word that comes in will be added to the list, if these (loose) words are a NOUN, ADJ, VERB, or ADV\n",
    "# lemma_ is base form of token and pos_ is lose parts of the speech\n",
    "    return texts_out\n",
    "\n",
    "# texts -> doc -> token\n",
    "# texts -> sent -> doc -> token\n",
    "\n",
    "# Initialize spacy 'en' model, keeping only tagger components (for efficieny)\n",
    "# python -m spacy download en\n",
    "import spacy\n",
    "nlp = spacy.load('en', disable=['parser', 'ner'])\n",
    "\n",
    "# Do lemmatization keeping only noun, adj, vb, adv\n",
    "data_lemmatized = lemmatization(data_words_trigrams, allowed_postags=['NOUN', 'ADJ', 'VERB', 'ADV'])\n",
    "\n",
    "print(data_lemmatized[:1])"
   ]
  },
  {
   "cell_type": "markdown",
   "metadata": {
    "heading_collapsed": true,
    "hidden": true
   },
   "source": [
    "## Prepare Dictionary and Corpus"
   ]
  },
  {
   "cell_type": "code",
   "execution_count": 39,
   "metadata": {
    "hidden": true
   },
   "outputs": [
    {
     "name": "stdout",
     "output_type": "stream",
     "text": [
      "[[(0, 1), (1, 1), (2, 1)]]\n"
     ]
    }
   ],
   "source": [
    "import gensim.corpora as corpora # dictionary\n",
    "\n",
    "# Create dictionary\n",
    "id2word = corpora.Dictionary(data_lemmatized)\n",
    "\n",
    "# Create corpus\n",
    "texts = data_lemmatized\n",
    "\n",
    "# Term document frequency\n",
    "corpus = [id2word.doc2bow(text) for text in texts]\n",
    "\n",
    "# View\n",
    "print(corpus[:1])"
   ]
  },
  {
   "cell_type": "code",
   "execution_count": 40,
   "metadata": {
    "hidden": true
   },
   "outputs": [
    {
     "data": {
      "text/plain": [
       "'amazing'"
      ]
     },
     "execution_count": 40,
     "metadata": {},
     "output_type": "execute_result"
    }
   ],
   "source": [
    "id2word[0]"
   ]
  },
  {
   "cell_type": "code",
   "execution_count": 41,
   "metadata": {
    "hidden": true
   },
   "outputs": [
    {
     "data": {
      "text/plain": [
       "[[('amazing', 1), ('place', 1), ('work', 1)]]"
      ]
     },
     "execution_count": 41,
     "metadata": {},
     "output_type": "execute_result"
    }
   ],
   "source": [
    "# Human readable format of corpus (term-frequency) for the first item\n",
    "[[(id2word[id], freq) for id, freq in cp] for cp in corpus[:1]]"
   ]
  },
  {
   "cell_type": "markdown",
   "metadata": {
    "heading_collapsed": true,
    "hidden": true
   },
   "source": [
    "## LDA Model"
   ]
  },
  {
   "cell_type": "code",
   "execution_count": 42,
   "metadata": {
    "hidden": true
   },
   "outputs": [
    {
     "name": "stdout",
     "output_type": "stream",
     "text": [
      "[(0,\n",
      "  '0.095*\"company\" + 0.056*\"work\" + 0.050*\"good\" + 0.045*\"software\" + '\n",
      "  '0.034*\"engineer\" + 0.021*\"love\" + 0.020*\"development\" + 0.018*\"operation\" + '\n",
      "  '0.017*\"fast\" + 0.017*\"awesome\"'),\n",
      " (1,\n",
      "  '0.104*\"great\" + 0.088*\"work\" + 0.059*\"associate\" + 0.053*\"place\" + '\n",
      "  '0.042*\"amazon\" + 0.022*\"pay\" + 0.020*\"not\" + 0.019*\"hard\" + 0.019*\"do\" + '\n",
      "  '0.017*\"need\"'),\n",
      " (2,\n",
      "  '0.105*\"manager\" + 0.033*\"bad\" + 0.027*\"opportunity\" + 0.024*\"area\" + '\n",
      "  '0.022*\"customer\" + 0.017*\"account\" + 0.015*\"intern\" + 0.015*\"senior\" + '\n",
      "  '0.014*\"service\" + 0.014*\"developer\"'),\n",
      " (3,\n",
      "  '0.068*\"warehouse\" + 0.057*\"job\" + 0.046*\"associate\" + 0.041*\"experience\" + '\n",
      "  '0.038*\"fulfillment\" + 0.025*\"assistant\" + 0.023*\"amazon\" + 0.020*\"process\" '\n",
      "  '+ 0.018*\"culture\" + 0.017*\"time\"')]\n"
     ]
    }
   ],
   "source": [
    "# Build LDA model\n",
    "lda_model = gensim.models.ldamodel.LdaModel(corpus=corpus, id2word=id2word, num_topics = 4, random_state = 100,\n",
    "                                            update_every = 1, chunksize = 100, passes = 10, alpha = 'auto',\n",
    "                                            per_word_topics=True)\n",
    "# (corpus, dictionary, # of topics, random_state, how often the model parameters should be updated, # of document in each training chunk,\n",
    "# total # of training passes, alpha is hyperparameter that affect sparsity of topics)\n",
    "# Here we use 4 topics\n",
    "\n",
    "# Print the keyword the 4 topics\n",
    "pprint(lda_model.print_topics())\n",
    "doc_lda = lda_model[corpus]"
   ]
  },
  {
   "cell_type": "markdown",
   "metadata": {
    "heading_collapsed": true,
    "hidden": true
   },
   "source": [
    "### LDA Model Performance"
   ]
  },
  {
   "cell_type": "code",
   "execution_count": 43,
   "metadata": {
    "hidden": true
   },
   "outputs": [
    {
     "name": "stdout",
     "output_type": "stream",
     "text": [
      "\n",
      "Perplexity:  -6.006126086233107\n",
      "\n",
      "Coherence Score:  0.6674011109606927\n"
     ]
    }
   ],
   "source": [
    "# Compute perplexity\n",
    "print('\\nPerplexity: ', lda_model.log_perplexity(corpus)) # A measure of how good the model is (lower the better)\n",
    "\n",
    "# Compute coherence score\n",
    "from gensim.models import CoherenceModel\n",
    "coherence_model_lda = CoherenceModel(model=lda_model, texts=data_lemmatized, dictionary=id2word, coherence='c_v')\n",
    "coherence_lda = coherence_model_lda.get_coherence()\n",
    "print('\\nCoherence Score: ', coherence_lda) # high the better"
   ]
  },
  {
   "cell_type": "markdown",
   "metadata": {
    "heading_collapsed": true,
    "hidden": true
   },
   "source": [
    "### Visualize LDA Model"
   ]
  },
  {
   "cell_type": "code",
   "execution_count": 44,
   "metadata": {
    "hidden": true
   },
   "outputs": [
    {
     "data": {
      "text/html": [
       "\n",
       "<link rel=\"stylesheet\" type=\"text/css\" href=\"https://cdn.rawgit.com/bmabey/pyLDAvis/files/ldavis.v1.0.0.css\">\n",
       "\n",
       "\n",
       "<div id=\"ldavis_el1410449170778405890128476\"></div>\n",
       "<script type=\"text/javascript\">\n",
       "\n",
       "var ldavis_el1410449170778405890128476_data = {\"mdsDat\": {\"x\": [-0.20105041263743356, 0.011348228102801405, 0.206618768100594, -0.01691658356596207], \"y\": [-0.0034967013764612494, -0.19268400892921775, 0.02148347531876278, 0.17469723498691625], \"topics\": [1, 2, 3, 4], \"cluster\": [1, 1, 1, 1], \"Freq\": [33.48926544189453, 22.803651809692383, 22.59319496154785, 21.113889694213867]}, \"tinfo\": {\"Category\": [\"Default\", \"Default\", \"Default\", \"Default\", \"Default\", \"Default\", \"Default\", \"Default\", \"Default\", \"Default\", \"Default\", \"Default\", \"Default\", \"Default\", \"Default\", \"Default\", \"Default\", \"Default\", \"Default\", \"Default\", \"Default\", \"Default\", \"Default\", \"Default\", \"Default\", \"Default\", \"Default\", \"Default\", \"Default\", \"Default\", \"Topic1\", \"Topic1\", \"Topic1\", \"Topic1\", \"Topic1\", \"Topic1\", \"Topic1\", \"Topic1\", \"Topic1\", \"Topic1\", \"Topic1\", \"Topic1\", \"Topic1\", \"Topic1\", \"Topic1\", \"Topic1\", \"Topic1\", \"Topic1\", \"Topic1\", \"Topic1\", \"Topic1\", \"Topic1\", \"Topic1\", \"Topic1\", \"Topic1\", \"Topic1\", \"Topic1\", \"Topic1\", \"Topic1\", \"Topic1\", \"Topic1\", \"Topic1\", \"Topic1\", \"Topic1\", \"Topic1\", \"Topic2\", \"Topic2\", \"Topic2\", \"Topic2\", \"Topic2\", \"Topic2\", \"Topic2\", \"Topic2\", \"Topic2\", \"Topic2\", \"Topic2\", \"Topic2\", \"Topic2\", \"Topic2\", \"Topic2\", \"Topic2\", \"Topic2\", \"Topic2\", \"Topic2\", \"Topic2\", \"Topic2\", \"Topic2\", \"Topic2\", \"Topic2\", \"Topic2\", \"Topic2\", \"Topic2\", \"Topic2\", \"Topic2\", \"Topic2\", \"Topic2\", \"Topic2\", \"Topic2\", \"Topic2\", \"Topic3\", \"Topic3\", \"Topic3\", \"Topic3\", \"Topic3\", \"Topic3\", \"Topic3\", \"Topic3\", \"Topic3\", \"Topic3\", \"Topic3\", \"Topic3\", \"Topic3\", \"Topic3\", \"Topic3\", \"Topic3\", \"Topic3\", \"Topic3\", \"Topic3\", \"Topic3\", \"Topic3\", \"Topic3\", \"Topic3\", \"Topic3\", \"Topic3\", \"Topic3\", \"Topic3\", \"Topic3\", \"Topic3\", \"Topic3\", \"Topic3\", \"Topic3\", \"Topic3\", \"Topic3\", \"Topic4\", \"Topic4\", \"Topic4\", \"Topic4\", \"Topic4\", \"Topic4\", \"Topic4\", \"Topic4\", \"Topic4\", \"Topic4\", \"Topic4\", \"Topic4\", \"Topic4\", \"Topic4\", \"Topic4\", \"Topic4\", \"Topic4\", \"Topic4\", \"Topic4\", \"Topic4\", \"Topic4\", \"Topic4\", \"Topic4\", \"Topic4\", \"Topic4\", \"Topic4\", \"Topic4\", \"Topic4\", \"Topic4\", \"Topic4\", \"Topic4\", \"Topic4\", \"Topic4\", \"Topic4\"], \"Freq\": [47.0, 32.0, 29.0, 57.0, 19.0, 16.0, 24.0, 40.0, 14.0, 20.0, 12.0, 11.0, 11.0, 26.0, 10.0, 8.0, 7.0, 8.0, 7.0, 7.0, 6.0, 9.0, 6.0, 9.0, 6.0, 8.0, 5.0, 5.0, 11.0, 5.0, 47.2642822265625, 24.10633087158203, 9.205581665039062, 8.461610794067383, 8.808581352233887, 7.656911849975586, 5.8910908699035645, 5.888336658477783, 5.611265659332275, 5.226996421813965, 5.269522666931152, 4.173624038696289, 4.809990882873535, 4.071885585784912, 4.098026752471924, 3.9131617546081543, 3.9730472564697266, 3.661219596862793, 3.5011038780212402, 10.110493659973145, 2.9843320846557617, 3.032989263534546, 2.7136263847351074, 2.6355671882629395, 2.308445692062378, 2.301398992538452, 2.2155985832214355, 2.2155985832214355, 2.227595329284668, 2.1647751331329346, 19.132064819335938, 39.834354400634766, 26.885845184326172, 2.8634049892425537, 2.385550022125244, 29.238069534301758, 13.983376502990723, 10.490616798400879, 6.606784343719482, 6.080581188201904, 5.62048864364624, 5.260122776031494, 5.193274974822998, 4.301928997039795, 4.287901401519775, 2.909494400024414, 2.6203346252441406, 2.5880203247070312, 2.4854962825775146, 2.509310245513916, 2.1496055126190186, 15.513888359069824, 1.8773193359375, 1.8773193359375, 1.7922992706298828, 1.80268132686615, 1.677516222000122, 1.6629960536956787, 1.3378361463546753, 1.3378361463546753, 1.3378361463546753, 1.3378361463546753, 1.3377916812896729, 1.3377916812896729, 1.3377916812896729, 4.861721038818359, 4.669675350189209, 17.175113677978516, 1.3379980325698853, 32.06367874145508, 10.225990295410156, 8.128703117370605, 7.480926513671875, 6.836276531219482, 5.077847957611084, 4.436049938201904, 4.313091278076172, 4.115070819854736, 4.1649885177612305, 3.3855135440826416, 3.1436798572540283, 2.955764055252075, 3.1959309577941895, 2.614842414855957, 2.4852194786071777, 2.5052032470703125, 2.293217182159424, 2.2892258167266846, 2.4229958057403564, 2.355776309967041, 2.0635547637939453, 2.0635018348693848, 2.0623772144317627, 2.2436766624450684, 1.9799095392227173, 4.536918640136719, 1.8237380981445312, 1.761572003364563, 1.7457069158554077, 2.5475008487701416, 2.296220064163208, 3.4938225746154785, 2.138230562210083, 19.430606842041016, 16.16119956970215, 11.821757316589355, 10.765037536621094, 7.265688419342041, 5.614737510681152, 4.988427639007568, 5.08351993560791, 4.183040618896484, 3.8324577808380127, 3.759286642074585, 3.524526596069336, 3.467289686203003, 3.187342405319214, 3.0403711795806885, 2.5836830139160156, 2.397045612335205, 2.294045925140381, 2.271631956100464, 2.3072187900543213, 2.0453832149505615, 2.004586696624756, 1.9216729402542114, 1.691476821899414, 1.5787440538406372, 1.5277291536331177, 1.3584468364715576, 1.3584468364715576, 1.3584462404251099, 1.3583930730819702, 13.10731315612793, 6.635069847106934, 4.338611125946045, 1.3586336374282837], \"Term\": [\"great\", \"manager\", \"company\", \"work\", \"warehouse\", \"job\", \"place\", \"associate\", \"software\", \"good\", \"experience\", \"fulfillment\", \"engineer\", \"amazon\", \"bad\", \"opportunity\", \"assistant\", \"area\", \"customer\", \"love\", \"development\", \"not\", \"process\", \"hard\", \"operation\", \"do\", \"culture\", \"time\", \"pay\", \"fast\", \"great\", \"place\", \"not\", \"do\", \"hard\", \"need\", \"sortation\", \"hour\", \"team\", \"seasonal\", \"decent\", \"delivery\", \"career\", \"dock\", \"benefit\", \"icqa\", \"product\", \"package\", \"many\", \"pay\", \"tough\", \"fun\", \"driver\", \"go\", \"run\", \"shift\", \"improvement\", \"operational\", \"lead\", \"short\", \"amazon\", \"work\", \"associate\", \"amazing\", \"well\", \"company\", \"software\", \"engineer\", \"love\", \"development\", \"operation\", \"fast\", \"awesome\", \"picker\", \"sde\", \"easy\", \"demand\", \"principal\", \"enough\", \"get\", \"physically\", \"good\", \"large\", \"nice\", \"new\", \"be\", \"take\", \"starter\", \"initiative\", \"idea\", \"hear\", \"launch\", \"parking\", \"sacramento\", \"west\", \"amazing\", \"environment\", \"work\", \"employee\", \"manager\", \"bad\", \"opportunity\", \"area\", \"customer\", \"account\", \"senior\", \"service\", \"review\", \"developer\", \"business\", \"learn\", \"executive\", \"pace\", \"project\", \"finance\", \"grow\", \"cloud\", \"receive\", \"want\", \"month\", \"ambassador\", \"sorter\", \"high\", \"train\", \"sale\", \"intern\", \"client\", \"excellent\", \"representative\", \"support\", \"people\", \"environment\", \"well\", \"warehouse\", \"job\", \"experience\", \"fulfillment\", \"assistant\", \"process\", \"time\", \"culture\", \"worker\", \"center\", \"horrible\", \"expect\", \"ever\", \"shopper\", \"engineering\", \"full\", \"year\", \"sr\", \"politic\", \"exciting\", \"money\", \"role\", \"corporate\", \"really\", \"lot\", \"side\", \"peculiar\", \"indeed\", \"human\", \"favorite\", \"associate\", \"amazon\", \"good\", \"resource\"], \"Total\": [47.0, 32.0, 29.0, 57.0, 19.0, 16.0, 24.0, 40.0, 14.0, 20.0, 12.0, 11.0, 11.0, 26.0, 10.0, 8.0, 7.0, 8.0, 7.0, 7.0, 6.0, 9.0, 6.0, 9.0, 6.0, 8.0, 5.0, 5.0, 11.0, 5.0, 47.812625885009766, 24.64447784423828, 9.739458084106445, 8.99566650390625, 9.394159317016602, 8.222633361816406, 6.4331159591674805, 6.432261943817139, 6.146441459655762, 5.759479999542236, 5.8084869384765625, 4.715424060821533, 5.44064998626709, 4.608092308044434, 4.655096530914307, 4.462165355682373, 4.537297248840332, 4.2018513679504395, 4.040695667266846, 11.759913444519043, 3.516674757003784, 3.582056999206543, 3.247076988220215, 3.2359259128570557, 2.8408076763153076, 2.8405635356903076, 2.747992515563965, 2.747992515563965, 2.7712807655334473, 2.6979384422302246, 26.131153106689453, 57.374027252197266, 40.35658645629883, 8.09247875213623, 4.881906986236572, 29.812868118286133, 14.555143356323242, 11.062615394592285, 7.1795759201049805, 6.645280361175537, 6.196293354034424, 5.849825859069824, 5.788413047790527, 4.864195346832275, 4.849905014038086, 3.4763598442077637, 3.1882243156433105, 3.18961238861084, 3.0652010440826416, 3.1138322353363037, 2.7183616161346436, 20.25554847717285, 2.4579999446868896, 2.4579999446868896, 2.3553075790405273, 2.370476245880127, 2.247434616088867, 2.232152223587036, 1.899727702140808, 1.899727702140808, 1.899727702140808, 1.899727702140808, 1.8997267484664917, 1.8997267484664917, 1.8997267484664917, 8.09247875213623, 8.55324649810791, 57.374027252197266, 3.1178321838378906, 32.62398147583008, 10.802159309387207, 8.709644317626953, 8.035436630249023, 7.393033027648926, 5.6337127685546875, 4.991116523742676, 4.86884069442749, 4.673582553863525, 4.732666969299316, 3.9415013790130615, 3.7080233097076416, 3.516500473022461, 3.832740306854248, 3.16914701461792, 3.0421082973480225, 3.1076836585998535, 2.8515498638153076, 2.8526649475097656, 3.0299439430236816, 2.98661732673645, 2.617690086364746, 2.617687702178955, 2.6172587871551514, 2.850403308868408, 2.534238576889038, 5.912843227386475, 2.3832476139068604, 2.3156473636627197, 2.29970121383667, 4.231443405151367, 3.6831812858581543, 8.55324649810791, 4.881906986236572, 19.999038696289062, 16.738094329833984, 12.39775276184082, 11.324797630310059, 7.82894229888916, 6.185544967651367, 5.554035186767578, 5.663268566131592, 4.745273113250732, 4.3925933837890625, 4.326888561248779, 4.1007304191589355, 4.039881706237793, 3.7465901374816895, 3.6222050189971924, 3.144714117050171, 2.9617936611175537, 2.8580892086029053, 2.836548089981079, 2.9163036346435547, 2.608807325363159, 2.563791036605835, 2.483567237854004, 2.2556943893432617, 2.147876024246216, 2.0868782997131348, 1.917809009552002, 1.917809009552002, 1.917809009552002, 1.9178158044815063, 40.35658645629883, 26.131153106689453, 20.25554847717285, 3.081848621368408], \"loglift\": [30.0, 29.0, 28.0, 27.0, 26.0, 25.0, 24.0, 23.0, 22.0, 21.0, 20.0, 19.0, 18.0, 17.0, 16.0, 15.0, 14.0, 13.0, 12.0, 11.0, 10.0, 9.0, 8.0, 7.0, 6.0, 5.0, 4.0, 3.0, 2.0, 1.0, 1.0823999643325806, 1.0719000101089478, 1.037600040435791, 1.0326999425888062, 1.0296000242233276, 1.0226999521255493, 1.0059000253677368, 1.0055999755859375, 1.0027999877929688, 0.9969000220298767, 0.9965999722480774, 0.9718999862670898, 0.9707000255584717, 0.9702000021934509, 0.9664999842643738, 0.9627000093460083, 0.9610999822616577, 0.9562000036239624, 0.9506000280380249, 0.942799985408783, 0.9297999739646912, 0.9276000261306763, 0.9144999980926514, 0.888700008392334, 0.8863999843597412, 0.8834999799728394, 0.878600001335144, 0.878600001335144, 0.8755999803543091, 0.8737999796867371, 0.7821999788284302, 0.7290999889373779, 0.6877999901771545, 0.054999999701976776, 0.37779998779296875, 1.458799958229065, 1.4381999969482422, 1.4251999855041504, 1.3950999975204468, 1.3894000053405762, 1.3806999921798706, 1.371999979019165, 1.3697999715805054, 1.3553999662399292, 1.3551000356674194, 1.3001999855041504, 1.282099962234497, 1.2691999673843384, 1.2685999870300293, 1.2624000310897827, 1.243499994277954, 1.2115999460220337, 1.2086999416351318, 1.2086999416351318, 1.2051000595092773, 1.2043999433517456, 1.1857999563217163, 1.183899998664856, 1.1275999546051025, 1.1275999546051025, 1.1275999546051025, 1.1275999546051025, 1.1275999546051025, 1.1275999546051025, 1.1275999546051025, 0.9686999917030334, 0.8730000257492065, 0.2721000015735626, 0.6323000192642212, 1.4701999425888062, 1.4327000379562378, 1.4184999465942383, 1.4160000085830688, 1.4091999530792236, 1.3835999965667725, 1.3696000576019287, 1.3662999868392944, 1.3602999448776245, 1.3596999645233154, 1.3355000019073486, 1.3223999738693237, 1.3137999773025513, 1.305799961090088, 1.295300006866455, 1.2853000164031982, 1.2719999551773071, 1.2696000337600708, 1.2675000429153442, 1.2640000581741333, 1.2503000497817993, 1.2496999502182007, 1.2496000528335571, 1.2493000030517578, 1.2482000589370728, 1.2407000064849854, 1.222599983215332, 1.2199000120162964, 1.2139999866485596, 1.211899995803833, 0.9800999760627747, 1.0149999856948853, 0.592199981212616, 0.6620000004768372, 1.5263999700546265, 1.5202000141143799, 1.507699966430664, 1.5045000314712524, 1.4805999994277954, 1.458400011062622, 1.4478000402450562, 1.4471999406814575, 1.4291000366210938, 1.4187999963760376, 1.4146000146865845, 1.4038000106811523, 1.402400016784668, 1.3935999870300293, 1.3801000118255615, 1.3587000370025635, 1.3437000513076782, 1.3353999853134155, 1.3330999612808228, 1.3209999799728394, 1.311900019645691, 1.3092000484466553, 1.298699975013733, 1.2674000263214111, 1.2474000453948975, 1.243399977684021, 1.2103999853134155, 1.2103999853134155, 1.2103999853134155, 1.2103999853134155, 0.43070000410079956, 0.18449999392032623, 0.014399999752640724, 0.7361999750137329], \"logprob\": [30.0, 29.0, 28.0, 27.0, 26.0, 25.0, 24.0, 23.0, 22.0, 21.0, 20.0, 19.0, 18.0, 17.0, 16.0, 15.0, 14.0, 13.0, 12.0, 11.0, 10.0, 9.0, 8.0, 7.0, 6.0, 5.0, 4.0, 3.0, 2.0, 1.0, -2.2595999240875244, -2.9328999519348145, -3.8956000804901123, -3.9798998832702637, -3.93969988822937, -4.079800128936768, -4.3420000076293945, -4.342400074005127, -4.390600204467773, -4.461599826812744, -4.453499794006348, -4.686600208282471, -4.5447001457214355, -4.711299896240234, -4.704899787902832, -4.750999927520752, -4.735899925231934, -4.817599773406982, -4.862299919128418, -3.801800012588501, -5.021999835968018, -5.005799770355225, -5.117099761962891, -5.146299839019775, -5.278800010681152, -5.281899929046631, -5.319900035858154, -5.319900035858154, -5.314499855041504, -5.343100070953369, -3.1640000343322754, -2.4307000637054443, -2.8238000869750977, -5.063399791717529, -5.245999813079834, -2.355600118637085, -3.0931999683380127, -3.3805999755859375, -3.8429999351501465, -3.9260001182556152, -4.004700183868408, -4.070899963378906, -4.083700180053711, -4.271999835968018, -4.275300025939941, -4.663099765777588, -4.7677998542785645, -4.780200004577637, -4.8206000328063965, -4.811100006103516, -4.965799808502197, -2.9893999099731445, -5.101200103759766, -5.101200103759766, -5.147600173950195, -5.1417999267578125, -5.213799953460693, -5.222499847412109, -5.440000057220459, -5.440000057220459, -5.440000057220459, -5.440000057220459, -5.440100193023682, -5.440100193023682, -5.440100193023682, -4.149700164794922, -4.190000057220459, -2.8875999450683594, -5.439899921417236, -2.2541000843048096, -3.396899938583374, -3.6263999938964844, -3.7095000743865967, -3.7995998859405518, -4.09689998626709, -4.232100009918213, -4.260200023651123, -4.307199954986572, -4.295100212097168, -4.502299785614014, -4.576399803161621, -4.6381001472473145, -4.559899806976318, -4.7606000900268555, -4.811500072479248, -4.803400039672852, -4.891900062561035, -4.893599987030029, -4.8368000984191895, -4.8649001121521, -4.997399806976318, -4.997399806976318, -4.998000144958496, -4.913700103759766, -5.03879976272583, -4.20959997177124, -5.1209001541137695, -5.155600070953369, -5.164700031280518, -4.7866997718811035, -4.890600204467773, -4.470799922943115, -4.9618000984191895, -2.687299966812134, -2.871500015258789, -3.1842000484466553, -3.2778000831604004, -3.6709001064300537, -3.9286999702453613, -4.046999931335449, -4.02810001373291, -4.223100185394287, -4.3105998039245605, -4.329899787902832, -4.394400119781494, -4.410699844360352, -4.494900226593018, -4.542099952697754, -4.704899787902832, -4.779900074005127, -4.823800086975098, -4.833600044250488, -4.8180999755859375, -4.938499927520752, -4.958700180053711, -5.000899791717529, -5.128499984741211, -5.197500228881836, -5.230299949645996, -5.347799777984619, -5.347799777984619, -5.347799777984619, -5.347799777984619, -3.080899953842163, -3.761699914932251, -4.186500072479248, -5.347599983215332]}, \"token.table\": {\"Topic\": [3, 1, 2, 1, 4, 3, 3, 4, 1, 4, 2, 3, 2, 1, 3, 1, 4, 3, 3, 2, 4, 4, 3, 1, 1, 2, 3, 2, 1, 1, 1, 2, 2, 3, 2, 4, 2, 2, 3, 4, 3, 4, 3, 4, 4, 2, 4, 3, 4, 4, 1, 2, 1, 2, 4, 1, 3, 1, 2, 3, 4, 1, 4, 1, 2, 1, 4, 2, 2, 3, 4, 2, 2, 1, 3, 4, 2, 3, 1, 4, 3, 1, 2, 2, 1, 2, 1, 3, 3, 1, 2, 1, 2, 4, 3, 4, 2, 2, 1, 4, 2, 4, 1, 3, 4, 3, 3, 2, 4, 3, 4, 1, 2, 3, 2, 1, 3, 3, 1, 4, 1, 4, 2, 1, 3, 4, 2, 3, 4, 2, 1, 4, 1, 3, 3, 4, 1, 3, 2, 1, 2, 4, 4], \"Freq\": [0.8875141739845276, 0.37071460485458374, 0.6178576350212097, 0.7271015048027039, 0.2678794860839844, 0.7640323638916016, 0.8711411952972412, 0.8941182494163513, 0.669035792350769, 0.3221283257007599, 0.8637946248054504, 0.9257408380508423, 0.843712329864502, 0.8592732548713684, 0.7611312866210938, 0.9190078377723694, 0.9106237888336182, 0.8391910195350647, 0.7013729810714722, 0.9727343320846558, 0.8052932620048523, 0.8828823566436768, 0.9468373656272888, 0.8608093857765198, 0.8482800126075745, 0.9409626722335815, 0.8451893925666809, 0.9028964638710022, 0.8893170952796936, 0.8680381774902344, 0.9239078760147095, 0.8629716634750366, 0.3207356631755829, 0.3207356631755829, 0.9039453864097595, 0.828224778175354, 0.652485728263855, 0.5845733284950256, 0.35074400901794434, 0.7425960302352905, 0.8636893630027771, 0.6857996582984924, 0.8531208634376526, 0.9754359722137451, 0.9679173231124878, 0.8547263145446777, 0.5214264988899231, 0.6574388146400452, 0.9713197946548462, 0.9539818167686462, 0.8375076055526733, 0.9634430408477783, 0.927091658115387, 0.7899070382118225, 0.19747675955295563, 0.9830039739608765, 0.9653491973876953, 0.9580420851707458, 0.5263912081718445, 0.764158308506012, 0.9244518280029297, 0.9327978491783142, 0.5214283466339111, 0.8964257836341858, 0.5263912081718445, 0.7278040051460266, 0.5214283466339111, 0.5263912081718445, 0.16912338137626648, 0.84561687707901, 0.9559033513069153, 0.8136696815490723, 0.5263912081718445, 0.7216879725456238, 0.8090564012527466, 0.9311524629592896, 0.9749879240989685, 0.9808735251426697, 0.9899285435676575, 0.7666338682174683, 0.6696538925170898, 0.9729243516921997, 0.8491460084915161, 0.8136696815490723, 0.9240760803222656, 0.9683208465576172, 0.7278040051460266, 0.9185220003128052, 0.7827298045158386, 0.95196133852005, 0.5263915061950684, 0.8503463864326477, 0.08503463864326477, 0.5214283466339111, 0.5430088639259338, 0.2715044319629669, 0.7357372641563416, 0.822335422039032, 0.9738489985466003, 0.705082356929779, 0.9405531287193298, 0.9700034856796265, 0.8815820813179016, 0.9466269612312317, 0.8866449594497681, 0.7010987997055054, 0.8696781992912292, 0.3244805634021759, 0.3244805634021759, 0.8558744788169861, 0.7800948023796082, 0.704025149345398, 0.5263915061950684, 0.7891916632652283, 0.8247584104537964, 0.8681339025497437, 0.8014239072799683, 0.8215507864952087, 0.704085648059845, 0.8007280826568604, 0.7413067817687988, 0.958369255065918, 0.9618592858314514, 0.932673990726471, 0.7640330791473389, 0.6997682452201843, 0.8959962129592896, 0.7089779376983643, 0.23632597923278809, 0.8899035453796387, 0.9761745929718018, 0.9002463817596436, 0.8530786037445068, 0.7016550898551941, 0.660078227519989, 0.950045645236969, 0.4096759855747223, 0.4096759855747223, 0.5263915061950684, 0.6971795558929443, 0.29630130529403687, 0.8429440855979919, 0.6752665042877197], \"Term\": [\"account\", \"amazing\", \"amazing\", \"amazon\", \"amazon\", \"ambassador\", \"area\", \"assistant\", \"associate\", \"associate\", \"awesome\", \"bad\", \"be\", \"benefit\", \"business\", \"career\", \"center\", \"client\", \"cloud\", \"company\", \"corporate\", \"culture\", \"customer\", \"decent\", \"delivery\", \"demand\", \"developer\", \"development\", \"do\", \"dock\", \"driver\", \"easy\", \"employee\", \"employee\", \"engineer\", \"engineering\", \"enough\", \"environment\", \"environment\", \"ever\", \"excellent\", \"exciting\", \"executive\", \"expect\", \"experience\", \"fast\", \"favorite\", \"finance\", \"fulfillment\", \"full\", \"fun\", \"get\", \"go\", \"good\", \"good\", \"great\", \"grow\", \"hard\", \"hear\", \"high\", \"horrible\", \"hour\", \"human\", \"icqa\", \"idea\", \"improvement\", \"indeed\", \"initiative\", \"intern\", \"intern\", \"job\", \"large\", \"launch\", \"lead\", \"learn\", \"lot\", \"love\", \"manager\", \"many\", \"money\", \"month\", \"need\", \"new\", \"nice\", \"not\", \"operation\", \"operational\", \"opportunity\", \"pace\", \"package\", \"parking\", \"pay\", \"pay\", \"peculiar\", \"people\", \"people\", \"physically\", \"picker\", \"place\", \"politic\", \"principal\", \"process\", \"product\", \"project\", \"really\", \"receive\", \"representative\", \"resource\", \"resource\", \"review\", \"role\", \"run\", \"sacramento\", \"sale\", \"sde\", \"seasonal\", \"senior\", \"service\", \"shift\", \"shopper\", \"short\", \"side\", \"software\", \"sortation\", \"sorter\", \"sr\", \"starter\", \"support\", \"support\", \"take\", \"team\", \"time\", \"tough\", \"train\", \"want\", \"warehouse\", \"well\", \"well\", \"west\", \"work\", \"work\", \"worker\", \"year\"]}, \"R\": 30, \"lambda.step\": 0.01, \"plot.opts\": {\"xlab\": \"PC1\", \"ylab\": \"PC2\"}, \"topic.order\": [2, 1, 3, 4]};\n",
       "\n",
       "function LDAvis_load_lib(url, callback){\n",
       "  var s = document.createElement('script');\n",
       "  s.src = url;\n",
       "  s.async = true;\n",
       "  s.onreadystatechange = s.onload = callback;\n",
       "  s.onerror = function(){console.warn(\"failed to load library \" + url);};\n",
       "  document.getElementsByTagName(\"head\")[0].appendChild(s);\n",
       "}\n",
       "\n",
       "if(typeof(LDAvis) !== \"undefined\"){\n",
       "   // already loaded: just create the visualization\n",
       "   !function(LDAvis){\n",
       "       new LDAvis(\"#\" + \"ldavis_el1410449170778405890128476\", ldavis_el1410449170778405890128476_data);\n",
       "   }(LDAvis);\n",
       "}else if(typeof define === \"function\" && define.amd){\n",
       "   // require.js is available: use it to load d3/LDAvis\n",
       "   require.config({paths: {d3: \"https://cdnjs.cloudflare.com/ajax/libs/d3/3.5.5/d3.min\"}});\n",
       "   require([\"d3\"], function(d3){\n",
       "      window.d3 = d3;\n",
       "      LDAvis_load_lib(\"https://cdn.rawgit.com/bmabey/pyLDAvis/files/ldavis.v1.0.0.js\", function(){\n",
       "        new LDAvis(\"#\" + \"ldavis_el1410449170778405890128476\", ldavis_el1410449170778405890128476_data);\n",
       "      });\n",
       "    });\n",
       "}else{\n",
       "    // require.js not available: dynamically load d3 & LDAvis\n",
       "    LDAvis_load_lib(\"https://cdnjs.cloudflare.com/ajax/libs/d3/3.5.5/d3.min.js\", function(){\n",
       "         LDAvis_load_lib(\"https://cdn.rawgit.com/bmabey/pyLDAvis/files/ldavis.v1.0.0.js\", function(){\n",
       "                 new LDAvis(\"#\" + \"ldavis_el1410449170778405890128476\", ldavis_el1410449170778405890128476_data);\n",
       "            })\n",
       "         });\n",
       "}\n",
       "</script>"
      ],
      "text/plain": [
       "PreparedData(topic_coordinates=              x         y  topics  cluster       Freq\n",
       "topic                                                \n",
       "1     -0.201050 -0.003497       1        1  33.489265\n",
       "0      0.011348 -0.192684       2        1  22.803652\n",
       "2      0.206619  0.021483       3        1  22.593195\n",
       "3     -0.016917  0.174697       4        1  21.113890, topic_info=     Category       Freq         Term      Total  loglift  logprob\n",
       "term                                                              \n",
       "26    Default  47.000000        great  47.000000  30.0000  30.0000\n",
       "5     Default  32.000000      manager  32.000000  29.0000  29.0000\n",
       "50    Default  29.000000      company  29.000000  28.0000  28.0000\n",
       "2     Default  57.000000         work  57.000000  27.0000  27.0000\n",
       "21    Default  19.000000    warehouse  19.000000  26.0000  26.0000\n",
       "57    Default  16.000000          job  16.000000  25.0000  25.0000\n",
       "1     Default  24.000000        place  24.000000  24.0000  24.0000\n",
       "18    Default  40.000000    associate  40.000000  23.0000  23.0000\n",
       "6     Default  14.000000     software  14.000000  22.0000  22.0000\n",
       "81    Default  20.000000         good  20.000000  21.0000  21.0000\n",
       "47    Default  12.000000   experience  12.000000  20.0000  20.0000\n",
       "93    Default  11.000000  fulfillment  11.000000  19.0000  19.0000\n",
       "73    Default  11.000000     engineer  11.000000  18.0000  18.0000\n",
       "51    Default  26.000000       amazon  26.000000  17.0000  17.0000\n",
       "131   Default  10.000000          bad  10.000000  16.0000  16.0000\n",
       "59    Default   8.000000  opportunity   8.000000  15.0000  15.0000\n",
       "32    Default   7.000000    assistant   7.000000  14.0000  14.0000\n",
       "152   Default   8.000000         area   8.000000  13.0000  13.0000\n",
       "190   Default   7.000000     customer   7.000000  12.0000  12.0000\n",
       "39    Default   7.000000         love   7.000000  11.0000  11.0000\n",
       "3     Default   6.000000  development   6.000000  10.0000  10.0000\n",
       "246   Default   9.000000          not   9.000000   9.0000   9.0000\n",
       "63    Default   6.000000      process   6.000000   8.0000   8.0000\n",
       "37    Default   9.000000         hard   9.000000   7.0000   7.0000\n",
       "30    Default   6.000000    operation   6.000000   6.0000   6.0000\n",
       "245   Default   8.000000           do   8.000000   5.0000   5.0000\n",
       "10    Default   5.000000      culture   5.000000   4.0000   4.0000\n",
       "20    Default   5.000000         time   5.000000   3.0000   3.0000\n",
       "169   Default  11.000000          pay  11.000000   2.0000   2.0000\n",
       "108   Default   5.000000         fast   5.000000   1.0000   1.0000\n",
       "...       ...        ...          ...        ...      ...      ...\n",
       "32     Topic4   7.265688    assistant   7.828942   1.4806  -3.6709\n",
       "63     Topic4   5.614738      process   6.185545   1.4584  -3.9287\n",
       "20     Topic4   4.988428         time   5.554035   1.4478  -4.0470\n",
       "10     Topic4   5.083520      culture   5.663269   1.4472  -4.0281\n",
       "52     Topic4   4.183041       worker   4.745273   1.4291  -4.2231\n",
       "146    Topic4   3.832458       center   4.392593   1.4188  -4.3106\n",
       "12     Topic4   3.759287     horrible   4.326889   1.4146  -4.3299\n",
       "55     Topic4   3.524527       expect   4.100730   1.4038  -4.3944\n",
       "140    Topic4   3.467290         ever   4.039882   1.4024  -4.4107\n",
       "151    Topic4   3.187342      shopper   3.746590   1.3936  -4.4949\n",
       "4      Topic4   3.040371  engineering   3.622205   1.3801  -4.5421\n",
       "19     Topic4   2.583683         full   3.144714   1.3587  -4.7049\n",
       "22     Topic4   2.397046         year   2.961794   1.3437  -4.7799\n",
       "43     Topic4   2.294046           sr   2.858089   1.3354  -4.8238\n",
       "130    Topic4   2.271632      politic   2.836548   1.3331  -4.8336\n",
       "11     Topic4   2.307219     exciting   2.916304   1.3210  -4.8181\n",
       "89     Topic4   2.045383        money   2.608807   1.3119  -4.9385\n",
       "297    Topic4   2.004587         role   2.563791   1.3092  -4.9587\n",
       "328    Topic4   1.921673    corporate   2.483567   1.2987  -5.0009\n",
       "299    Topic4   1.691477       really   2.255694   1.2674  -5.1285\n",
       "58     Topic4   1.578744          lot   2.147876   1.2474  -5.1975\n",
       "183    Topic4   1.527729         side   2.086878   1.2434  -5.2303\n",
       "460    Topic4   1.358447     peculiar   1.917809   1.2104  -5.3478\n",
       "459    Topic4   1.358447       indeed   1.917809   1.2104  -5.3478\n",
       "448    Topic4   1.358446        human   1.917809   1.2104  -5.3478\n",
       "434    Topic4   1.358393     favorite   1.917816   1.2104  -5.3478\n",
       "18     Topic4  13.107313    associate  40.356586   0.4307  -3.0809\n",
       "51     Topic4   6.635070       amazon  26.131153   0.1845  -3.7617\n",
       "81     Topic4   4.338611         good  20.255548   0.0144  -4.1865\n",
       "417    Topic4   1.358634     resource   3.081849   0.7362  -5.3476\n",
       "\n",
       "[167 rows x 6 columns], token_table=      Topic      Freq         Term\n",
       "term                              \n",
       "90        3  0.887514      account\n",
       "0         1  0.370715      amazing\n",
       "0         2  0.617858      amazing\n",
       "51        1  0.727102       amazon\n",
       "51        4  0.267879       amazon\n",
       "163       3  0.764032   ambassador\n",
       "152       3  0.871141         area\n",
       "32        4  0.894118    assistant\n",
       "18        1  0.669036    associate\n",
       "18        4  0.322128    associate\n",
       "64        2  0.863795      awesome\n",
       "131       3  0.925741          bad\n",
       "235       2  0.843712           be\n",
       "189       1  0.859273      benefit\n",
       "106       3  0.761131     business\n",
       "82        1  0.919008       career\n",
       "146       4  0.910624       center\n",
       "185       3  0.839191       client\n",
       "363       3  0.701373        cloud\n",
       "50        2  0.972734      company\n",
       "328       4  0.805293    corporate\n",
       "10        4  0.882882      culture\n",
       "190       3  0.946837     customer\n",
       "92        1  0.860809       decent\n",
       "265       1  0.848280     delivery\n",
       "70        2  0.940963       demand\n",
       "300       3  0.845189    developer\n",
       "3         2  0.902896  development\n",
       "245       1  0.889317           do\n",
       "118       1  0.868038         dock\n",
       "...     ...       ...          ...\n",
       "352       3  0.789192         sale\n",
       "128       2  0.824758          sde\n",
       "80        1  0.868134     seasonal\n",
       "53        3  0.801424       senior\n",
       "179       3  0.821551      service\n",
       "194       1  0.704086        shift\n",
       "151       4  0.800728      shopper\n",
       "102       1  0.741307        short\n",
       "183       4  0.958369         side\n",
       "6         2  0.961859     software\n",
       "31        1  0.932674    sortation\n",
       "162       3  0.764033       sorter\n",
       "43        4  0.699768           sr\n",
       "251       2  0.895996      starter\n",
       "164       3  0.708978      support\n",
       "164       4  0.236326      support\n",
       "69        2  0.889904         take\n",
       "206       1  0.976175         team\n",
       "20        4  0.900246         time\n",
       "170       1  0.853079        tough\n",
       "324       3  0.701655        train\n",
       "223       3  0.660078         want\n",
       "21        4  0.950046    warehouse\n",
       "316       1  0.409676         well\n",
       "316       3  0.409676         well\n",
       "415       2  0.526392         west\n",
       "2         1  0.697180         work\n",
       "2         2  0.296301         work\n",
       "52        4  0.842944       worker\n",
       "22        4  0.675267         year\n",
       "\n",
       "[143 rows x 3 columns], R=30, lambda_step=0.01, plot_opts={'xlab': 'PC1', 'ylab': 'PC2'}, topic_order=[2, 1, 3, 4])"
      ]
     },
     "execution_count": 44,
     "metadata": {},
     "output_type": "execute_result"
    }
   ],
   "source": [
    "import warnings\n",
    "warnings.filterwarnings(\"ignore\", category=FutureWarning) # hides future warning\n",
    "\n",
    "import pyLDAvis # interactive visualization for LDA\n",
    "import pyLDAvis.gensim \n",
    "\n",
    "pyLDAvis.enable_notebook()\n",
    "vis = pyLDAvis.gensim.prepare(lda_model, corpus, id2word)\n",
    "vis"
   ]
  },
  {
   "cell_type": "markdown",
   "metadata": {
    "heading_collapsed": true,
    "hidden": true
   },
   "source": [
    "## LDA Mallet Model"
   ]
  },
  {
   "cell_type": "code",
   "execution_count": 45,
   "metadata": {
    "hidden": true
   },
   "outputs": [],
   "source": [
    "# Download file: http://mallet.cs.umass.edu/dist/mallet-2.0.8.zip\n",
    "# Installing mallet: https://programminghistorian.org/en/lessons/topic-modeling-and-mallet#mac-instructions\n",
    "# Download Java SE (download .zip instead of .exe for silent install)\n",
    "\n",
    "import os\n",
    "from gensim.models.wrappers import LdaMallet\n",
    "\n",
    "os.environ.update({'MALLET_HOME':r'/Users/Mick/Desktop/mallet/'}) # set environment\n",
    "mallet_path = '/Users/Mick/Desktop/mallet/bin/mallet' # update this path"
   ]
  },
  {
   "cell_type": "code",
   "execution_count": 46,
   "metadata": {
    "hidden": true
   },
   "outputs": [],
   "source": [
    "ldamallet = LdaMallet(mallet_path,corpus=corpus,num_topics=4,id2word=id2word)\n",
    "# here we use 4 topics"
   ]
  },
  {
   "cell_type": "code",
   "execution_count": 47,
   "metadata": {
    "hidden": true
   },
   "outputs": [
    {
     "name": "stdout",
     "output_type": "stream",
     "text": [
      "[(0,\n",
      "  [('work', 0.221875),\n",
      "   ('great', 0.19375),\n",
      "   ('company', 0.121875),\n",
      "   ('environment', 0.03125),\n",
      "   ('amazing', 0.028125),\n",
      "   ('love', 0.025),\n",
      "   ('senior', 0.021875),\n",
      "   ('process', 0.021875),\n",
      "   ('culture', 0.021875),\n",
      "   ('time', 0.01875)]),\n",
      " (1,\n",
      "  [('amazon', 0.1069182389937107),\n",
      "   ('place', 0.1069182389937107),\n",
      "   ('good', 0.07232704402515723),\n",
      "   ('experience', 0.05345911949685535),\n",
      "   ('bad', 0.03773584905660377),\n",
      "   ('hard', 0.031446540880503145),\n",
      "   ('opportunity', 0.025157232704402517),\n",
      "   ('career', 0.018867924528301886),\n",
      "   ('team', 0.018867924528301886),\n",
      "   ('review', 0.018867924528301886)]),\n",
      " (2,\n",
      "  [('manager', 0.15034965034965034),\n",
      "   ('warehouse', 0.0979020979020979),\n",
      "   ('pay', 0.04195804195804196),\n",
      "   ('assistant', 0.03496503496503497),\n",
      "   ('development', 0.03146853146853147),\n",
      "   ('area', 0.03146853146853147),\n",
      "   ('account', 0.024475524475524476),\n",
      "   ('hour', 0.024475524475524476),\n",
      "   ('decent', 0.02097902097902098),\n",
      "   ('sde', 0.02097902097902098)]),\n",
      " (3,\n",
      "  [('associate', 0.1464968152866242),\n",
      "   ('job', 0.07006369426751592),\n",
      "   ('software', 0.04777070063694268),\n",
      "   ('fulfillment', 0.044585987261146494),\n",
      "   ('engineer', 0.041401273885350316),\n",
      "   ('customer', 0.028662420382165606),\n",
      "   ('seasonal', 0.022292993630573247),\n",
      "   ('service', 0.022292993630573247),\n",
      "   ('people', 0.01910828025477707),\n",
      "   ('product', 0.01910828025477707)])]\n"
     ]
    }
   ],
   "source": [
    "# Show topics\n",
    "pprint(ldamallet.show_topics(formatted=False))"
   ]
  },
  {
   "cell_type": "markdown",
   "metadata": {
    "heading_collapsed": true,
    "hidden": true
   },
   "source": [
    "### LDA Mallet Model Performance"
   ]
  },
  {
   "cell_type": "code",
   "execution_count": 48,
   "metadata": {
    "hidden": true
   },
   "outputs": [
    {
     "name": "stdout",
     "output_type": "stream",
     "text": [
      "\n",
      "Coherence Score:  0.7114135883749362\n"
     ]
    }
   ],
   "source": [
    "# Compute coherence score\n",
    "coherence_model_ldamallet = CoherenceModel(model=ldamallet, texts=data_lemmatized, dictionary=id2word, coherence=\"c_v\")\n",
    "coherence_ldamallet = coherence_model_ldamallet.get_coherence()\n",
    "print('\\nCoherence Score: ', coherence_ldamallet)"
   ]
  },
  {
   "cell_type": "markdown",
   "metadata": {
    "heading_collapsed": true,
    "hidden": true
   },
   "source": [
    "## Finding the Optimal Number of Topics for LDA Mallet Model"
   ]
  },
  {
   "cell_type": "code",
   "execution_count": 49,
   "metadata": {
    "hidden": true
   },
   "outputs": [],
   "source": [
    "# compute coherence_values for LdaMallets models\n",
    "\n",
    "def compute_coherence_values(dictionary, corpus, texts, limit, start=2, step=3):\n",
    "    coherence_values = []\n",
    "    model_list = []\n",
    "    for num_topics in range(start, limit, step):\n",
    "        model = gensim.models.wrappers.LdaMallet(mallet_path, corpus=corpus, num_topics=num_topics, id2word=id2word)\n",
    "        model_list.append(model) # adds different LdaMallet models based on num_topics(start, limit, step)\n",
    "        coherencemodel = CoherenceModel(model=model, texts=texts, dictionary=dictionary, coherence='c_v')\n",
    "        coherence_values.append(coherencemodel.get_coherence()) # add the different LdaMallet models and compute Coherence score\n",
    "    return model_list, coherence_values\n",
    "\n",
    "# Recall previous LdaMallet model\n",
    "# ldamallet = LdaMallet(mallet_path,corpus=corpus,num_topics=10,id2word=id2word)\n",
    "# coherence_model_ldamallet = CoherenceModel(model=ldamallet, texts=data_lemmatized, dictionary=id2word, coherence=\"c_v\")\n",
    "\n",
    "# compute a list of LdaMallets models\n",
    "model_list, coherence_values = compute_coherence_values(dictionary=id2word, corpus=corpus, texts=data_lemmatized, start=2, limit=40, step=6)"
   ]
  },
  {
   "cell_type": "code",
   "execution_count": 50,
   "metadata": {
    "hidden": true
   },
   "outputs": [
    {
     "data": {
      "image/png": "[encoded data removed]",
      "text/plain": [
       "<Figure size 432x288 with 1 Axes>"
      ]
     },
     "metadata": {
      "needs_background": "light"
     },
     "output_type": "display_data"
    }
   ],
   "source": [
    "# show graph\n",
    "limit=40; start=2; step=6;\n",
    "x = range(start, limit, step)\n",
    "plt.plot(x, coherence_values)\n",
    "plt.xlabel('Num Topics')\n",
    "plt.ylabel('Coherence score')\n",
    "plt.legend(('coherence_values'), loc='best')\n",
    "plt.show()"
   ]
  },
  {
   "cell_type": "code",
   "execution_count": 51,
   "metadata": {
    "hidden": true
   },
   "outputs": [
    {
     "name": "stdout",
     "output_type": "stream",
     "text": [
      "Num Topics = 2  has Coherence Value of 0.7182\n",
      "Num Topics = 8  has Coherence Value of 0.7828\n",
      "Num Topics = 14  has Coherence Value of 0.7909\n",
      "Num Topics = 20  has Coherence Value of 0.7798\n",
      "Num Topics = 26  has Coherence Value of 0.7759\n",
      "Num Topics = 32  has Coherence Value of 0.7765\n",
      "Num Topics = 38  has Coherence Value of 0.7575\n"
     ]
    }
   ],
   "source": [
    "# Print the coherence scores\n",
    "for m, cv in zip(x, coherence_values): # zip aggregate iterables (zero or more)\n",
    "    print('Num Topics =', m, ' has Coherence Value of', round(cv, 4))\n",
    "    # calls an iterated x (x = range(start, limit, step)) and coherence_values (4 decimals)"
   ]
  },
  {
   "cell_type": "code",
   "execution_count": 52,
   "metadata": {
    "hidden": true
   },
   "outputs": [
    {
     "name": "stdout",
     "output_type": "stream",
     "text": [
      "[(0,\n",
      "  '0.248*\"place\" + 0.208*\"work\" + 0.099*\"associate\" + 0.050*\"account\" + '\n",
      "  '0.040*\"engineering\" + 0.030*\"politic\" + 0.020*\"pick\" + 0.020*\"role\" + '\n",
      "  '0.010*\"america\" + 0.010*\"scope\"'),\n",
      " (1,\n",
      "  '0.388*\"amazon\" + 0.094*\"good\" + 0.071*\"fast\" + 0.059*\"review\" + '\n",
      "  '0.035*\"product\" + 0.024*\"long\" + 0.024*\"management\" + 0.024*\"leqdrecruiter\" '\n",
      "  '+ 0.012*\"divert\" + 0.012*\"student\"'),\n",
      " (2,\n",
      "  '0.280*\"warehouse\" + 0.120*\"pay\" + 0.100*\"environment\" + 0.060*\"decent\" + '\n",
      "  '0.060*\"love\" + 0.050*\"business\" + 0.050*\"sde\" + 0.020*\"stow\" + '\n",
      "  '0.020*\"tough\" + 0.020*\"month\"'),\n",
      " (3,\n",
      "  '0.228*\"work\" + 0.089*\"sortation\" + 0.076*\"learn\" + 0.063*\"hour\" + '\n",
      "  '0.038*\"seasonal\" + 0.038*\"full\" + 0.038*\"horrible\" + 0.025*\"worth\" + '\n",
      "  '0.025*\"money\" + 0.013*\"great\"'),\n",
      " (4,\n",
      "  '0.378*\"work\" + 0.085*\"service\" + 0.073*\"senior\" + 0.049*\"year\" + '\n",
      "  '0.049*\"dock\" + 0.037*\"executive\" + 0.024*\"benefit\" + 0.012*\"flexible\" + '\n",
      "  '0.012*\"pickup\" + 0.012*\"friendly\"'),\n",
      " (5,\n",
      "  '0.280*\"company\" + 0.085*\"hard\" + 0.073*\"assistant\" + 0.049*\"package\" + '\n",
      "  '0.049*\"support\" + 0.037*\"challenge\" + 0.024*\"benefit\" + 0.024*\"shift\" + '\n",
      "  '0.024*\"physically\" + 0.024*\"easy\"'),\n",
      " (6,\n",
      "  '0.267*\"manager\" + 0.105*\"place\" + 0.105*\"opportunity\" + 0.093*\"great\" + '\n",
      "  '0.047*\"team\" + 0.047*\"delivery\" + 0.035*\"awesome\" + 0.035*\"engineer\" + '\n",
      "  '0.012*\"iii\" + 0.012*\"ewr\"'),\n",
      " (7,\n",
      "  '0.172*\"job\" + 0.162*\"company\" + 0.121*\"bad\" + 0.061*\"people\" + '\n",
      "  '0.051*\"intern\" + 0.030*\"hard\" + 0.030*\"short\" + 0.030*\"product\" + '\n",
      "  '0.030*\"ambassador\" + 0.030*\"fun\"'),\n",
      " (8,\n",
      "  '0.206*\"manager\" + 0.093*\"customer\" + 0.082*\"area\" + 0.072*\"process\" + '\n",
      "  '0.041*\"shopper\" + 0.031*\"picker\" + 0.021*\"smart\" + 0.021*\"awesome\" + '\n",
      "  '0.021*\"account\" + 0.021*\"program\"'),\n",
      " (9,\n",
      "  '0.542*\"great\" + 0.052*\"time\" + 0.042*\"principal\" + 0.031*\"sorter\" + '\n",
      "  '0.031*\"pace\" + 0.021*\"sr\" + 0.021*\"team\" + 0.010*\"earth\" + '\n",
      "  '0.010*\"operation\" + 0.010*\"love\"'),\n",
      " (10,\n",
      "  '0.373*\"associate\" + 0.120*\"engineer\" + 0.084*\"operation\" + 0.048*\"seasonal\" '\n",
      "  '+ 0.048*\"finance\" + 0.036*\"grow\" + 0.024*\"sr\" + 0.012*\"forefront\" + '\n",
      "  '0.012*\"advisor\" + 0.012*\"garbage\"'),\n",
      " (11,\n",
      "  '0.185*\"experience\" + 0.163*\"software\" + 0.098*\"development\" + 0.043*\"lot\" + '\n",
      "  '0.043*\"developer\" + 0.043*\"expect\" + 0.033*\"icqa\" + 0.022*\"project\" + '\n",
      "  '0.022*\"leader\" + 0.022*\"employee\"'),\n",
      " (12,\n",
      "  '0.161*\"fulfillment\" + 0.115*\"associate\" + 0.103*\"amazing\" + 0.069*\"career\" '\n",
      "  '+ 0.046*\"demand\" + 0.046*\"assistant\" + 0.034*\"lead\" + 0.023*\"datacent\" + '\n",
      "  '0.023*\"enjoy\" + 0.023*\"client\"'),\n",
      " (13,\n",
      "  '0.290*\"good\" + 0.087*\"culture\" + 0.072*\"job\" + 0.072*\"worker\" + '\n",
      "  '0.058*\"center\" + 0.029*\"crazy\" + 0.029*\"corporate\" + 0.029*\"fulltime\" + '\n",
      "  '0.014*\"truth\" + 0.014*\"dco\"')]\n"
     ]
    }
   ],
   "source": [
    "# Select the model with highest coherence value and print the topics\n",
    "optimal_model = model_list[2] # the 2nd index from above output\n",
    "model_topics = optimal_model.show_topics(formatted=False)\n",
    "pprint(optimal_model.print_topics(num_words=10)) # set num_words parament to show 10 words per topic"
   ]
  },
  {
   "cell_type": "markdown",
   "metadata": {
    "heading_collapsed": true,
    "hidden": true
   },
   "source": [
    "### Visual the Optimal LDA Mallet Model"
   ]
  },
  {
   "cell_type": "code",
   "execution_count": 53,
   "metadata": {
    "hidden": true
   },
   "outputs": [
    {
     "data": {
      "image/png": "[encoded data removed]",
      "text/plain": [
       "<Figure size 720x720 with 4 Axes>"
      ]
     },
     "metadata": {
      "needs_background": "light"
     },
     "output_type": "display_data"
    }
   ],
   "source": [
    "# Wordcloud of Top N words in each topic\n",
    "from matplotlib import pyplot as plt\n",
    "from wordcloud import WordCloud, STOPWORDS\n",
    "import matplotlib.colors as mcolors\n",
    "\n",
    "cols = [color for name, color in mcolors.TABLEAU_COLORS.items()]  # more colors: 'mcolors.XKCD_COLORS'\n",
    "\n",
    "cloud = WordCloud(stopwords=stop_words,\n",
    "                  background_color='white',\n",
    "                  width=2500,\n",
    "                  height=1800,\n",
    "                  max_words=10,\n",
    "                  colormap='tab10',\n",
    "                  color_func=lambda *args, **kwargs: cols[i],\n",
    "                  prefer_horizontal=1.0)\n",
    "\n",
    "topics = optimal_model.show_topics(formatted=False)\n",
    "\n",
    "fig, axes = plt.subplots(2, 2, figsize=(10,10), sharex=True, sharey=True)\n",
    "\n",
    "for i, ax in enumerate(axes.flatten()):\n",
    "    fig.add_subplot(ax)\n",
    "    topic_words = dict(topics[i][1])\n",
    "    cloud.generate_from_frequencies(topic_words, max_font_size=300)\n",
    "    plt.gca().imshow(cloud)\n",
    "    plt.gca().set_title('Topic ' + str(i), fontdict=dict(size=16))\n",
    "    plt.gca().axis('off')\n",
    "\n",
    "\n",
    "plt.subplots_adjust(wspace=0, hspace=0)\n",
    "plt.axis('off')\n",
    "plt.margins(x=0, y=0)\n",
    "plt.tight_layout()\n",
    "plt.show()"
   ]
  },
  {
   "cell_type": "markdown",
   "metadata": {
    "heading_collapsed": true,
    "hidden": true
   },
   "source": [
    "## Analysis"
   ]
  },
  {
   "cell_type": "markdown",
   "metadata": {
    "heading_collapsed": true,
    "hidden": true
   },
   "source": [
    "### Finding topics for each document"
   ]
  },
  {
   "cell_type": "code",
   "execution_count": 54,
   "metadata": {
    "hidden": true
   },
   "outputs": [
    {
     "data": {
      "text/html": [
       "<div>\n",
       "<style scoped>\n",
       "    .dataframe tbody tr th:only-of-type {\n",
       "        vertical-align: middle;\n",
       "    }\n",
       "\n",
       "    .dataframe tbody tr th {\n",
       "        vertical-align: top;\n",
       "    }\n",
       "\n",
       "    .dataframe thead th {\n",
       "        text-align: right;\n",
       "    }\n",
       "</style>\n",
       "<table border=\"1\" class=\"dataframe\">\n",
       "  <thead>\n",
       "    <tr style=\"text-align: right;\">\n",
       "      <th></th>\n",
       "      <th>Document_No</th>\n",
       "      <th>Dominant_Topic</th>\n",
       "      <th>Topic_Perc_Contrib</th>\n",
       "      <th>Keywords</th>\n",
       "      <th>Document</th>\n",
       "    </tr>\n",
       "  </thead>\n",
       "  <tbody>\n",
       "    <tr>\n",
       "      <th>0</th>\n",
       "      <td>0</td>\n",
       "      <td>0.0</td>\n",
       "      <td>0.0925</td>\n",
       "      <td>place, work, associate, account, engineering, ...</td>\n",
       "      <td>An Amazing Place to Work</td>\n",
       "    </tr>\n",
       "    <tr>\n",
       "      <th>1</th>\n",
       "      <td>1</td>\n",
       "      <td>11.0</td>\n",
       "      <td>0.1032</td>\n",
       "      <td>experience, software, development, lot, develo...</td>\n",
       "      <td>Software Development Engineering Manager</td>\n",
       "    </tr>\n",
       "    <tr>\n",
       "      <th>2</th>\n",
       "      <td>2</td>\n",
       "      <td>12.0</td>\n",
       "      <td>0.0875</td>\n",
       "      <td>fulfillment, associate, amazing, career, deman...</td>\n",
       "      <td>You Get What You Put In</td>\n",
       "    </tr>\n",
       "    <tr>\n",
       "      <th>3</th>\n",
       "      <td>3</td>\n",
       "      <td>13.0</td>\n",
       "      <td>0.0826</td>\n",
       "      <td>good, culture, job, worker, center, crazy, cor...</td>\n",
       "      <td>Exciting Work Abusive Culture</td>\n",
       "    </tr>\n",
       "    <tr>\n",
       "      <th>4</th>\n",
       "      <td>4</td>\n",
       "      <td>3.0</td>\n",
       "      <td>0.0863</td>\n",
       "      <td>work, sortation, learn, hour, seasonal, full, ...</td>\n",
       "      <td>Can be amazing for some people horrible for ot...</td>\n",
       "    </tr>\n",
       "    <tr>\n",
       "      <th>5</th>\n",
       "      <td>5</td>\n",
       "      <td>9.0</td>\n",
       "      <td>0.0883</td>\n",
       "      <td>great, time, principal, sorter, pace, sr, team...</td>\n",
       "      <td>We are now in a world where we are condescende...</td>\n",
       "    </tr>\n",
       "    <tr>\n",
       "      <th>6</th>\n",
       "      <td>6</td>\n",
       "      <td>9.0</td>\n",
       "      <td>0.0851</td>\n",
       "      <td>great, time, principal, sorter, pace, sr, team...</td>\n",
       "      <td>Warehouse associate full time for over two years</td>\n",
       "    </tr>\n",
       "    <tr>\n",
       "      <th>7</th>\n",
       "      <td>7</td>\n",
       "      <td>3.0</td>\n",
       "      <td>0.0802</td>\n",
       "      <td>work, sortation, learn, hour, seasonal, full, ...</td>\n",
       "      <td>Great place to learn churn n burn culture in f...</td>\n",
       "    </tr>\n",
       "    <tr>\n",
       "      <th>8</th>\n",
       "      <td>8</td>\n",
       "      <td>6.0</td>\n",
       "      <td>0.0836</td>\n",
       "      <td>manager, place, opportunity, great, team, deli...</td>\n",
       "      <td>Sr Product manager</td>\n",
       "    </tr>\n",
       "    <tr>\n",
       "      <th>9</th>\n",
       "      <td>9</td>\n",
       "      <td>10.0</td>\n",
       "      <td>0.0879</td>\n",
       "      <td>associate, engineer, operation, seasonal, fina...</td>\n",
       "      <td>Central operations</td>\n",
       "    </tr>\n",
       "  </tbody>\n",
       "</table>\n",
       "</div>"
      ],
      "text/plain": [
       "   Document_No  Dominant_Topic  Topic_Perc_Contrib  \\\n",
       "0            0             0.0              0.0925   \n",
       "1            1            11.0              0.1032   \n",
       "2            2            12.0              0.0875   \n",
       "3            3            13.0              0.0826   \n",
       "4            4             3.0              0.0863   \n",
       "5            5             9.0              0.0883   \n",
       "6            6             9.0              0.0851   \n",
       "7            7             3.0              0.0802   \n",
       "8            8             6.0              0.0836   \n",
       "9            9            10.0              0.0879   \n",
       "\n",
       "                                            Keywords  \\\n",
       "0  place, work, associate, account, engineering, ...   \n",
       "1  experience, software, development, lot, develo...   \n",
       "2  fulfillment, associate, amazing, career, deman...   \n",
       "3  good, culture, job, worker, center, crazy, cor...   \n",
       "4  work, sortation, learn, hour, seasonal, full, ...   \n",
       "5  great, time, principal, sorter, pace, sr, team...   \n",
       "6  great, time, principal, sorter, pace, sr, team...   \n",
       "7  work, sortation, learn, hour, seasonal, full, ...   \n",
       "8  manager, place, opportunity, great, team, deli...   \n",
       "9  associate, engineer, operation, seasonal, fina...   \n",
       "\n",
       "                                            Document  \n",
       "0                           An Amazing Place to Work  \n",
       "1           Software Development Engineering Manager  \n",
       "2                            You Get What You Put In  \n",
       "3                      Exciting Work Abusive Culture  \n",
       "4  Can be amazing for some people horrible for ot...  \n",
       "5  We are now in a world where we are condescende...  \n",
       "6   Warehouse associate full time for over two years  \n",
       "7  Great place to learn churn n burn culture in f...  \n",
       "8                                 Sr Product manager  \n",
       "9                                 Central operations  "
      ]
     },
     "execution_count": 54,
     "metadata": {},
     "output_type": "execute_result"
    }
   ],
   "source": [
    "def format_topics_sentences(ldamodel=optimal_model, corpus=corpus, texts=data):\n",
    "    # Create DataFrame\n",
    "    sent_topics_df = pd.DataFrame()\n",
    "\n",
    "    # Get dominant topic in each document\n",
    "    for i, row in enumerate(ldamodel[corpus]):                   # call the optimal_model from LdaMallet (ldamodel=optimal_model)\n",
    "        row = sorted(row, key=lambda x: (x[1]), reverse=True)    # sort the dominant topic for each document (use row[0] for windows)\n",
    "        \n",
    "        \n",
    "        # Get the Dominant topic, Perc Contribution and Keywords for each document\n",
    "        for j, (topic_num, prop_topic) in enumerate(row):\n",
    "            if j == 0:                                           # dominant topic\n",
    "                wp = ldamodel.show_topic(topic_num)              # show the dominant topic column (topic_num)\n",
    "                topic_keywords = \", \".join([word for word, prop in wp])   # add keywords column to each dominant topic column\n",
    "                sent_topics_df = sent_topics_df.append(pd.Series([int(topic_num), round(prop_topic,4), topic_keywords]), ignore_index=True)\n",
    "                # add to dataframe columns: dominant topic (topic_num), perc_contribution (prop_topic (4 decimal)),\n",
    "                # and keywords (topic_keywords)\n",
    "            else:\n",
    "                break\n",
    "    sent_topics_df.columns = ['Dominant_Topic', 'Perc_Contribution', 'Topic_Keywords'] # create dataframe title\n",
    "    # Essentially, we sort the dominant topic for each document,\n",
    "    # Then we add keywords column to each dominant topic column for each document, and append it to our sent_topics_df dataframe\n",
    "    # (dataframe now include: dominant topic (topic_num), perc_contribution (prop_topic (4 decimal)), and keywords (topic_keywords))\n",
    "    # Note that prop_topic is perc_contribution from output of keywords and their respective weights (ie. 'window', 0.0235866)\n",
    "    # Finally name the dataframe columns for topic_num, prop_topic, topic_keywords to Dominant_topic, Perc_Contribution and Topic_Keywords\n",
    "    \n",
    "        \n",
    "    # Add original text to the end of the output (recall that texts = data_lemmatized)\n",
    "    contents = pd.Series(texts)\n",
    "    sent_topics_df = pd.concat([sent_topics_df, contents], axis=1)\n",
    "    return(sent_topics_df)\n",
    "    # we take out sent_topics_df dataframe that is configured, and add our texts to it\n",
    "\n",
    "    \n",
    "df_topic_sents_keywords = format_topics_sentences(ldamodel=optimal_model, corpus=corpus, texts=data)\n",
    "# texts=data since that is what we assigned in the format_topics_sentences function, but in the function we already\n",
    "# called and added our data (texts=data_lemmatized) to the dataframe, which is why now we use texts=data default parameter\n",
    "\n",
    "\n",
    "# Format\n",
    "df_dominant_topic = df_topic_sents_keywords.reset_index()       # re-index\n",
    "df_dominant_topic.columns = ['Document_No', 'Dominant_Topic', 'Topic_Perc_Contrib', 'Keywords', 'Document']\n",
    "# name all the columns for the DataFrame\n",
    "\n",
    "# Show\n",
    "df_dominant_topic.head(10)"
   ]
  },
  {
   "cell_type": "markdown",
   "metadata": {
    "heading_collapsed": true,
    "hidden": true
   },
   "source": [
    "### Finding documents for each topic"
   ]
  },
  {
   "cell_type": "code",
   "execution_count": 55,
   "metadata": {
    "hidden": true
   },
   "outputs": [
    {
     "data": {
      "text/html": [
       "<div>\n",
       "<style scoped>\n",
       "    .dataframe tbody tr th:only-of-type {\n",
       "        vertical-align: middle;\n",
       "    }\n",
       "\n",
       "    .dataframe tbody tr th {\n",
       "        vertical-align: top;\n",
       "    }\n",
       "\n",
       "    .dataframe thead th {\n",
       "        text-align: right;\n",
       "    }\n",
       "</style>\n",
       "<table border=\"1\" class=\"dataframe\">\n",
       "  <thead>\n",
       "    <tr style=\"text-align: right;\">\n",
       "      <th></th>\n",
       "      <th>Topic_Num</th>\n",
       "      <th>Topic_Perc_Contrib</th>\n",
       "      <th>Keywords</th>\n",
       "      <th>Document</th>\n",
       "    </tr>\n",
       "  </thead>\n",
       "  <tbody>\n",
       "    <tr>\n",
       "      <th>0</th>\n",
       "      <td>0.0</td>\n",
       "      <td>0.1071</td>\n",
       "      <td>place, work, associate, account, engineering, ...</td>\n",
       "      <td>Weird Politics</td>\n",
       "    </tr>\n",
       "    <tr>\n",
       "      <th>1</th>\n",
       "      <td>1.0</td>\n",
       "      <td>0.1071</td>\n",
       "      <td>amazon, good, fast, review, product, long, man...</td>\n",
       "      <td>Amazon Advertising</td>\n",
       "    </tr>\n",
       "    <tr>\n",
       "      <th>2</th>\n",
       "      <td>2.0</td>\n",
       "      <td>0.1278</td>\n",
       "      <td>warehouse, pay, environment, decent, love, bus...</td>\n",
       "      <td>Absolutely amazing  Loved the working environm...</td>\n",
       "    </tr>\n",
       "    <tr>\n",
       "      <th>3</th>\n",
       "      <td>3.0</td>\n",
       "      <td>0.0958</td>\n",
       "      <td>work, sortation, learn, hour, seasonal, full, ...</td>\n",
       "      <td>Diversity in the Reliability and Maintenance E...</td>\n",
       "    </tr>\n",
       "    <tr>\n",
       "      <th>4</th>\n",
       "      <td>4.0</td>\n",
       "      <td>0.0988</td>\n",
       "      <td>work, service, senior, year, dock, executive, ...</td>\n",
       "      <td>I have been working at Amazon for  years</td>\n",
       "    </tr>\n",
       "    <tr>\n",
       "      <th>5</th>\n",
       "      <td>5.0</td>\n",
       "      <td>0.1051</td>\n",
       "      <td>company, hard, assistant, package, support, ch...</td>\n",
       "      <td>New Hired Sortation Professional</td>\n",
       "    </tr>\n",
       "    <tr>\n",
       "      <th>6</th>\n",
       "      <td>6.0</td>\n",
       "      <td>0.1071</td>\n",
       "      <td>manager, place, opportunity, great, team, deli...</td>\n",
       "      <td>Opportunity After Opportunity</td>\n",
       "    </tr>\n",
       "    <tr>\n",
       "      <th>7</th>\n",
       "      <td>7.0</td>\n",
       "      <td>0.1196</td>\n",
       "      <td>job, company, bad, people, intern, hard, short...</td>\n",
       "      <td>Great People Average Job</td>\n",
       "    </tr>\n",
       "    <tr>\n",
       "      <th>8</th>\n",
       "      <td>8.0</td>\n",
       "      <td>0.0991</td>\n",
       "      <td>manager, customer, area, process, shopper, pic...</td>\n",
       "      <td>Run dont walk to Join The Team</td>\n",
       "    </tr>\n",
       "    <tr>\n",
       "      <th>9</th>\n",
       "      <td>9.0</td>\n",
       "      <td>0.1156</td>\n",
       "      <td>great, time, principal, sorter, pace, sr, team...</td>\n",
       "      <td>GREAT GREAT GREAT</td>\n",
       "    </tr>\n",
       "    <tr>\n",
       "      <th>10</th>\n",
       "      <td>10.0</td>\n",
       "      <td>0.1050</td>\n",
       "      <td>associate, engineer, operation, seasonal, fina...</td>\n",
       "      <td>Operations Finance</td>\n",
       "    </tr>\n",
       "    <tr>\n",
       "      <th>11</th>\n",
       "      <td>11.0</td>\n",
       "      <td>0.1196</td>\n",
       "      <td>experience, software, development, lot, develo...</td>\n",
       "      <td>Software Developer and now Software Manager</td>\n",
       "    </tr>\n",
       "    <tr>\n",
       "      <th>12</th>\n",
       "      <td>12.0</td>\n",
       "      <td>0.1093</td>\n",
       "      <td>fulfillment, associate, amazing, career, deman...</td>\n",
       "      <td>Fulfillment associate  pack side AFE</td>\n",
       "    </tr>\n",
       "    <tr>\n",
       "      <th>13</th>\n",
       "      <td>13.0</td>\n",
       "      <td>0.1195</td>\n",
       "      <td>good, culture, job, worker, center, crazy, cor...</td>\n",
       "      <td>Favoritism Rules Hard Workers Lose</td>\n",
       "    </tr>\n",
       "  </tbody>\n",
       "</table>\n",
       "</div>"
      ],
      "text/plain": [
       "    Topic_Num  Topic_Perc_Contrib  \\\n",
       "0         0.0              0.1071   \n",
       "1         1.0              0.1071   \n",
       "2         2.0              0.1278   \n",
       "3         3.0              0.0958   \n",
       "4         4.0              0.0988   \n",
       "5         5.0              0.1051   \n",
       "6         6.0              0.1071   \n",
       "7         7.0              0.1196   \n",
       "8         8.0              0.0991   \n",
       "9         9.0              0.1156   \n",
       "10       10.0              0.1050   \n",
       "11       11.0              0.1196   \n",
       "12       12.0              0.1093   \n",
       "13       13.0              0.1195   \n",
       "\n",
       "                                             Keywords  \\\n",
       "0   place, work, associate, account, engineering, ...   \n",
       "1   amazon, good, fast, review, product, long, man...   \n",
       "2   warehouse, pay, environment, decent, love, bus...   \n",
       "3   work, sortation, learn, hour, seasonal, full, ...   \n",
       "4   work, service, senior, year, dock, executive, ...   \n",
       "5   company, hard, assistant, package, support, ch...   \n",
       "6   manager, place, opportunity, great, team, deli...   \n",
       "7   job, company, bad, people, intern, hard, short...   \n",
       "8   manager, customer, area, process, shopper, pic...   \n",
       "9   great, time, principal, sorter, pace, sr, team...   \n",
       "10  associate, engineer, operation, seasonal, fina...   \n",
       "11  experience, software, development, lot, develo...   \n",
       "12  fulfillment, associate, amazing, career, deman...   \n",
       "13  good, culture, job, worker, center, crazy, cor...   \n",
       "\n",
       "                                             Document  \n",
       "0                                      Weird Politics  \n",
       "1                                  Amazon Advertising  \n",
       "2   Absolutely amazing  Loved the working environm...  \n",
       "3   Diversity in the Reliability and Maintenance E...  \n",
       "4            I have been working at Amazon for  years  \n",
       "5                    New Hired Sortation Professional  \n",
       "6                       Opportunity After Opportunity  \n",
       "7                            Great People Average Job  \n",
       "8                      Run dont walk to Join The Team  \n",
       "9                                   GREAT GREAT GREAT  \n",
       "10                                 Operations Finance  \n",
       "11        Software Developer and now Software Manager  \n",
       "12               Fulfillment associate  pack side AFE  \n",
       "13                 Favoritism Rules Hard Workers Lose  "
      ]
     },
     "execution_count": 55,
     "metadata": {},
     "output_type": "execute_result"
    }
   ],
   "source": [
    "# Group top 14 documents for the 14 dominant topic\n",
    "sent_topics_sorteddf_mallet = pd.DataFrame() # Create a new DataFrame for our analysis\n",
    "\n",
    "sent_topics_outdf_grpd = df_topic_sents_keywords.groupby('Dominant_Topic') \n",
    "# Groupyby dominant topics in df_topic_sents_keywords from above (where we derived the DataFrame showing dominant topic for each document)\n",
    "\n",
    "for i, grp in sent_topics_outdf_grpd:\n",
    "    sent_topics_sorteddf_mallet = pd.concat([sent_topics_sorteddf_mallet, grp.sort_values(['Perc_Contribution'], ascending=[0]).head(1)], axis=0)\n",
    "# Take sent_topics_sorteddf_mallet DataFrame and combine it with,\n",
    "# the most (head(1)) dominant topic in sent_topcs_outdf_grpd (grp) sort by perc_contribution\n",
    "# Essentially, we take our dataset with dominant topics and group it with texts that has the most contribution for each dominant topic\n",
    "\n",
    "# Reset Index    \n",
    "sent_topics_sorteddf_mallet.reset_index(drop=True, inplace=True)\n",
    "\n",
    "# Format\n",
    "sent_topics_sorteddf_mallet.columns = ['Topic_Num', \"Topic_Perc_Contrib\", \"Keywords\", \"Document\"]\n",
    "\n",
    "# Show the top 14 documents for the 14 dominant topic\n",
    "sent_topics_sorteddf_mallet "
   ]
  },
  {
   "cell_type": "markdown",
   "metadata": {
    "heading_collapsed": true,
    "hidden": true
   },
   "source": [
    "### Document distribution across Topics"
   ]
  },
  {
   "cell_type": "code",
   "execution_count": 56,
   "metadata": {
    "hidden": true
   },
   "outputs": [
    {
     "data": {
      "text/html": [
       "<div>\n",
       "<style scoped>\n",
       "    .dataframe tbody tr th:only-of-type {\n",
       "        vertical-align: middle;\n",
       "    }\n",
       "\n",
       "    .dataframe tbody tr th {\n",
       "        vertical-align: top;\n",
       "    }\n",
       "\n",
       "    .dataframe thead th {\n",
       "        text-align: right;\n",
       "    }\n",
       "</style>\n",
       "<table border=\"1\" class=\"dataframe\">\n",
       "  <thead>\n",
       "    <tr style=\"text-align: right;\">\n",
       "      <th></th>\n",
       "      <th>Dominant Topic</th>\n",
       "      <th>Num_Document</th>\n",
       "      <th>Perc_Document</th>\n",
       "    </tr>\n",
       "  </thead>\n",
       "  <tbody>\n",
       "    <tr>\n",
       "      <th>0</th>\n",
       "      <td>0.0</td>\n",
       "      <td>61</td>\n",
       "      <td>0.122</td>\n",
       "    </tr>\n",
       "    <tr>\n",
       "      <th>1</th>\n",
       "      <td>1.0</td>\n",
       "      <td>41</td>\n",
       "      <td>0.082</td>\n",
       "    </tr>\n",
       "    <tr>\n",
       "      <th>2</th>\n",
       "      <td>2.0</td>\n",
       "      <td>57</td>\n",
       "      <td>0.114</td>\n",
       "    </tr>\n",
       "    <tr>\n",
       "      <th>3</th>\n",
       "      <td>3.0</td>\n",
       "      <td>25</td>\n",
       "      <td>0.050</td>\n",
       "    </tr>\n",
       "    <tr>\n",
       "      <th>4</th>\n",
       "      <td>4.0</td>\n",
       "      <td>27</td>\n",
       "      <td>0.054</td>\n",
       "    </tr>\n",
       "    <tr>\n",
       "      <th>5</th>\n",
       "      <td>5.0</td>\n",
       "      <td>31</td>\n",
       "      <td>0.062</td>\n",
       "    </tr>\n",
       "    <tr>\n",
       "      <th>6</th>\n",
       "      <td>6.0</td>\n",
       "      <td>22</td>\n",
       "      <td>0.044</td>\n",
       "    </tr>\n",
       "    <tr>\n",
       "      <th>7</th>\n",
       "      <td>7.0</td>\n",
       "      <td>34</td>\n",
       "      <td>0.068</td>\n",
       "    </tr>\n",
       "    <tr>\n",
       "      <th>8</th>\n",
       "      <td>8.0</td>\n",
       "      <td>38</td>\n",
       "      <td>0.076</td>\n",
       "    </tr>\n",
       "    <tr>\n",
       "      <th>9</th>\n",
       "      <td>9.0</td>\n",
       "      <td>39</td>\n",
       "      <td>0.078</td>\n",
       "    </tr>\n",
       "    <tr>\n",
       "      <th>10</th>\n",
       "      <td>10.0</td>\n",
       "      <td>32</td>\n",
       "      <td>0.064</td>\n",
       "    </tr>\n",
       "    <tr>\n",
       "      <th>11</th>\n",
       "      <td>11.0</td>\n",
       "      <td>41</td>\n",
       "      <td>0.082</td>\n",
       "    </tr>\n",
       "    <tr>\n",
       "      <th>12</th>\n",
       "      <td>12.0</td>\n",
       "      <td>33</td>\n",
       "      <td>0.066</td>\n",
       "    </tr>\n",
       "    <tr>\n",
       "      <th>13</th>\n",
       "      <td>13.0</td>\n",
       "      <td>19</td>\n",
       "      <td>0.038</td>\n",
       "    </tr>\n",
       "  </tbody>\n",
       "</table>\n",
       "</div>"
      ],
      "text/plain": [
       "    Dominant Topic  Num_Document  Perc_Document\n",
       "0              0.0            61          0.122\n",
       "1              1.0            41          0.082\n",
       "2              2.0            57          0.114\n",
       "3              3.0            25          0.050\n",
       "4              4.0            27          0.054\n",
       "5              5.0            31          0.062\n",
       "6              6.0            22          0.044\n",
       "7              7.0            34          0.068\n",
       "8              8.0            38          0.076\n",
       "9              9.0            39          0.078\n",
       "10            10.0            32          0.064\n",
       "11            11.0            41          0.082\n",
       "12            12.0            33          0.066\n",
       "13            13.0            19          0.038"
      ]
     },
     "execution_count": 56,
     "metadata": {},
     "output_type": "execute_result"
    }
   ],
   "source": [
    "# Number of Documents for Each Topic\n",
    "topic_counts = df_topic_sents_keywords['Dominant_Topic'].value_counts()\n",
    "\n",
    "# Percentage of overall Documents for Each Topic (round to 4 decimals)\n",
    "topic_contribution = round(topic_counts/topic_counts.sum(), 4)\n",
    "\n",
    "# Total Dominant Topic Number\n",
    "topic_num_keywords = {'Topic_Num': pd.Series([0.0,1.0,2.0,3.0,4.0,5.0,6.0,7.0,8.0,9.0,10.0,\n",
    "                                              11.0,12.0,13.0])}\n",
    "topic_num_keywords = pd.DataFrame(topic_num_keywords)\n",
    "                      \n",
    "# Concatenate Column wise\n",
    "df_dominant_topics = pd.concat([topic_num_keywords, topic_counts, topic_contribution], axis=1)\n",
    "\n",
    "# Reindex\n",
    "df_dominant_topics.reset_index(drop=True, inplace=True)\n",
    "\n",
    "# Change Column names\n",
    "df_dominant_topics.columns = ['Dominant Topic', 'Num_Document', 'Perc_Document']\n",
    "\n",
    "# Show\n",
    "df_dominant_topics"
   ]
  },
  {
   "cell_type": "markdown",
   "metadata": {
    "heading_collapsed": true,
    "hidden": true
   },
   "source": [
    "## Answering the Questions"
   ]
  },
  {
   "cell_type": "markdown",
   "metadata": {
    "heading_collapsed": true
   },
   "source": [
    "# Topics Analysis for Facebook"
   ]
  },
  {
   "cell_type": "code",
   "execution_count": 57,
   "metadata": {
    "hidden": true
   },
   "outputs": [],
   "source": [
    "# Filters to Facebook only\n",
    "dff = df[df['company'] == 'facebook']"
   ]
  },
  {
   "cell_type": "code",
   "execution_count": 58,
   "metadata": {
    "hidden": true,
    "scrolled": true
   },
   "outputs": [
    {
     "data": {
      "text/plain": [
       "(1590, 1)"
      ]
     },
     "execution_count": 58,
     "metadata": {},
     "output_type": "execute_result"
    }
   ],
   "source": [
    "# Filters the data to the column needed for topic modeling\n",
    "dff = dff[['summary']]\n",
    "dff.shape"
   ]
  },
  {
   "cell_type": "markdown",
   "metadata": {
    "hidden": true
   },
   "source": [
    "1590 dataset with 1 type"
   ]
  },
  {
   "cell_type": "code",
   "execution_count": 59,
   "metadata": {
    "hidden": true
   },
   "outputs": [],
   "source": [
    "dff = dff.head(500)"
   ]
  },
  {
   "cell_type": "markdown",
   "metadata": {
    "heading_collapsed": true,
    "hidden": true
   },
   "source": [
    "## Data Cleansing"
   ]
  },
  {
   "cell_type": "code",
   "execution_count": 60,
   "metadata": {
    "hidden": true
   },
   "outputs": [],
   "source": [
    "data = dff['summary'].values.tolist() # convert to list\n",
    "\n",
    "import re\n",
    "data = [re.sub(r'[^a-zA-Z ]+', '', str(sent)) for sent in data] # removes everything except letters and space, str(sent) converts to string"
   ]
  },
  {
   "cell_type": "code",
   "execution_count": 61,
   "metadata": {
    "hidden": true
   },
   "outputs": [
    {
     "name": "stdout",
     "output_type": "stream",
     "text": [
      "['nd Job out of college  Great Experience']\n"
     ]
    }
   ],
   "source": [
    "from pprint import pprint\n",
    "pprint(data[:1])"
   ]
  },
  {
   "cell_type": "markdown",
   "metadata": {
    "heading_collapsed": true,
    "hidden": true
   },
   "source": [
    "## Pre-Processing"
   ]
  },
  {
   "cell_type": "markdown",
   "metadata": {
    "heading_collapsed": true,
    "hidden": true
   },
   "source": [
    "### Tokenization and Additional Cleansing"
   ]
  },
  {
   "cell_type": "code",
   "execution_count": 62,
   "metadata": {
    "hidden": true,
    "scrolled": true
   },
   "outputs": [
    {
     "name": "stdout",
     "output_type": "stream",
     "text": [
      "[['nd', 'job', 'out', 'of', 'college', 'great', 'experience']]\n"
     ]
    }
   ],
   "source": [
    "import gensim\n",
    "from gensim.utils import simple_preprocess \n",
    "def sent_to_words(sentences):\n",
    "    for sentence in sentences:\n",
    "        yield(gensim.utils.simple_preprocess(str(sentence), deacc=True)) \n",
    "        # deacc=True removes punctuations\n",
    "        # simple_preprocess to tokenize, and clean up messy text (converts to lowercase and removes punctuations)\n",
    "        \n",
    "data_words = list(sent_to_words(data))\n",
    "\n",
    "print(data_words[:1])   "
   ]
  },
  {
   "cell_type": "markdown",
   "metadata": {
    "heading_collapsed": true,
    "hidden": true
   },
   "source": [
    "### Remove Stopwords"
   ]
  },
  {
   "cell_type": "code",
   "execution_count": 63,
   "metadata": {
    "hidden": true
   },
   "outputs": [],
   "source": [
    "from nltk.corpus import stopwords\n",
    "stop_words = stopwords.words('english')\n",
    "stop_words.extend(['from', 'subject', 're', 'edu', 'use']) # add additional stop words\n",
    "\n",
    "# Define functions for stopwords, bigram, trigram and lemmatization\n",
    "def remove_stopwords(texts):\n",
    "    return [[word for word in simple_preprocess(str(doc)) if word not in stop_words] for doc in texts]\n",
    "    # clean out words using simple_preprocess (gensim) if the words are not already in stop_words (stop_words from NLTK)\n",
    "    \n",
    "# Remove Stop Words from simple_preprocess\n",
    "data_words_nostops = remove_stopwords(data_words)"
   ]
  },
  {
   "cell_type": "markdown",
   "metadata": {
    "heading_collapsed": true,
    "hidden": true
   },
   "source": [
    "### Create and Apply Trigrams"
   ]
  },
  {
   "cell_type": "code",
   "execution_count": 64,
   "metadata": {
    "hidden": true
   },
   "outputs": [],
   "source": [
    "# Build the bigram and trigram models\n",
    "bigram = gensim.models.Phrases(data_words, min_count=5, threshold=100) # higher threshold fewer phrases\n",
    "trigram = gensim.models.Phrases(bigram[data_words], threshold=100)\n",
    "# min_count is minimum 5 letters\n",
    "# threshold is 100 threshold in each word before accepting another word\n",
    "\n",
    "# Faster way to get a sentence clubbed as a trigram/bigram\n",
    "bigram_mod = gensim.models.phrases.Phraser(bigram)\n",
    "trigram_mod = gensim.models.phrases.Phraser(trigram)\n",
    "\n",
    "def make_trigram(texts):\n",
    "    return [trigram_mod[bigram_mod[doc]] for doc in texts]\n",
    "\n",
    "# Form Trigrams from Gensim.models.phrases\n",
    "data_words_trigrams = make_trigram(data_words_nostops)"
   ]
  },
  {
   "cell_type": "markdown",
   "metadata": {
    "heading_collapsed": true,
    "hidden": true
   },
   "source": [
    "### Lemmatize"
   ]
  },
  {
   "cell_type": "code",
   "execution_count": 65,
   "metadata": {
    "hidden": true
   },
   "outputs": [
    {
     "name": "stdout",
     "output_type": "stream",
     "text": [
      "[['job', 'college', 'great', 'experience']]\n"
     ]
    }
   ],
   "source": [
    "def lemmatization(texts, allowed_postags=['NOUN', 'ADJ', 'VERB', 'ADV']): # http://spacy.io/api/annotation\n",
    "    texts_out = [] # creates a list\n",
    "    for sent in texts:\n",
    "        doc = nlp(\" \".join(sent)) # adds English dictionary from Spacy to the texts by instantiating doc\n",
    "        texts_out.append([token.lemma_ for token in doc if token.pos_ in allowed_postags])\n",
    "# adds doc to texts_out list for all base token in doc, if these added doc are from a loose part of the speech in allowed_postags\n",
    "# in other words, every (base) word that comes in will be added to the list, if these (loose) words are a NOUN, ADJ, VERB, or ADV\n",
    "# lemma_ is base form of token and pos_ is lose parts of the speech\n",
    "    return texts_out\n",
    "\n",
    "# texts -> doc -> token\n",
    "# texts -> sent -> doc -> token\n",
    "\n",
    "# Initialize spacy 'en' model, keeping only tagger components (for efficieny)\n",
    "# python -m spacy download en\n",
    "import spacy\n",
    "nlp = spacy.load('en', disable=['parser', 'ner'])\n",
    "\n",
    "# Do lemmatization keeping only noun, adj, vb, adv\n",
    "data_lemmatized = lemmatization(data_words_trigrams, allowed_postags=['NOUN', 'ADJ', 'VERB', 'ADV'])\n",
    "\n",
    "print(data_lemmatized[:1])"
   ]
  },
  {
   "cell_type": "markdown",
   "metadata": {
    "heading_collapsed": true,
    "hidden": true
   },
   "source": [
    "## Prepare Dictionary and Corpus"
   ]
  },
  {
   "cell_type": "code",
   "execution_count": 66,
   "metadata": {
    "hidden": true
   },
   "outputs": [
    {
     "name": "stdout",
     "output_type": "stream",
     "text": [
      "[[(0, 1), (1, 1), (2, 1), (3, 1)]]\n"
     ]
    }
   ],
   "source": [
    "import gensim.corpora as corpora # dictionary\n",
    "\n",
    "# Create dictionary\n",
    "id2word = corpora.Dictionary(data_lemmatized)\n",
    "\n",
    "# Create corpus\n",
    "texts = data_lemmatized\n",
    "\n",
    "# Term document frequency\n",
    "corpus = [id2word.doc2bow(text) for text in texts]\n",
    "\n",
    "# View\n",
    "print(corpus[:1])"
   ]
  },
  {
   "cell_type": "code",
   "execution_count": 67,
   "metadata": {
    "hidden": true
   },
   "outputs": [
    {
     "data": {
      "text/plain": [
       "'college'"
      ]
     },
     "execution_count": 67,
     "metadata": {},
     "output_type": "execute_result"
    }
   ],
   "source": [
    "id2word[0]"
   ]
  },
  {
   "cell_type": "code",
   "execution_count": 68,
   "metadata": {
    "hidden": true
   },
   "outputs": [
    {
     "data": {
      "text/plain": [
       "[[('college', 1), ('experience', 1), ('great', 1), ('job', 1)]]"
      ]
     },
     "execution_count": 68,
     "metadata": {},
     "output_type": "execute_result"
    }
   ],
   "source": [
    "# Human readable format of corpus (term-frequency) for the first item\n",
    "[[(id2word[id], freq) for id, freq in cp] for cp in corpus[:1]]"
   ]
  },
  {
   "cell_type": "markdown",
   "metadata": {
    "heading_collapsed": true,
    "hidden": true
   },
   "source": [
    "## LDA Model"
   ]
  },
  {
   "cell_type": "code",
   "execution_count": 69,
   "metadata": {
    "hidden": true
   },
   "outputs": [
    {
     "name": "stdout",
     "output_type": "stream",
     "text": [
      "[(0,\n",
      "  '0.046*\"job\" + 0.036*\"love\" + 0.029*\"people\" + 0.026*\"employee\" + '\n",
      "  '0.024*\"fast\" + 0.021*\"benefit\" + 0.020*\"recruit\" + 0.019*\"move\" + '\n",
      "  '0.018*\"fun\" + 0.017*\"impact\"'),\n",
      " (1,\n",
      "  '0.077*\"facebook\" + 0.060*\"have\" + 0.050*\"ever\" + 0.019*\"lot\" + '\n",
      "  '0.018*\"review\" + 0.018*\"workplace\" + 0.017*\"happy\" + 0.014*\"internship\" + '\n",
      "  '0.013*\"office\" + 0.012*\"director\"'),\n",
      " (2,\n",
      "  '0.154*\"work\" + 0.122*\"great\" + 0.111*\"place\" + 0.099*\"good\" + '\n",
      "  '0.083*\"company\" + 0.031*\"amazing\" + 0.031*\"culture\" + 0.017*\"awesome\" + '\n",
      "  '0.016*\"facebook\" + 0.011*\"operation\"'),\n",
      " (3,\n",
      "  '0.118*\"engineer\" + 0.092*\"software\" + 0.033*\"growth\" + 0.028*\"product\" + '\n",
      "  '0.025*\"challenge\" + 0.024*\"want\" + 0.023*\"technical\" + 0.021*\"never\" + '\n",
      "  '0.013*\"value\" + 0.012*\"sourcer\"'),\n",
      " (4,\n",
      "  '0.060*\"manager\" + 0.039*\"not\" + 0.026*\"ship\" + 0.026*\"big\" + 0.020*\"do\" + '\n",
      "  '0.019*\"specialist\" + 0.018*\"get\" + 0.017*\"program\" + 0.015*\"still\" + '\n",
      "  '0.014*\"imagine\"')]\n"
     ]
    }
   ],
   "source": [
    "# Build LDA model\n",
    "lda_model = gensim.models.ldamodel.LdaModel(corpus=corpus, id2word=id2word, num_topics = 5, random_state = 100,\n",
    "                                            update_every = 1, chunksize = 100, passes = 10, alpha = 'auto',\n",
    "                                            per_word_topics=True)\n",
    "# (corpus, dictionary, # of topics, random_state, how often the model parameters should be updated, # of document in each training chunk,\n",
    "# total # of training passes, alpha is hyperparameter that affect sparsity of topics)\n",
    "# Here we use 5 topics\n",
    "\n",
    "# Print the keyword the 5 topics\n",
    "pprint(lda_model.print_topics())\n",
    "doc_lda = lda_model[corpus]"
   ]
  },
  {
   "cell_type": "markdown",
   "metadata": {
    "heading_collapsed": true,
    "hidden": true
   },
   "source": [
    "### LDA Model Performance"
   ]
  },
  {
   "cell_type": "code",
   "execution_count": 70,
   "metadata": {
    "hidden": true
   },
   "outputs": [
    {
     "name": "stdout",
     "output_type": "stream",
     "text": [
      "\n",
      "Perplexity:  -5.632439986151237\n",
      "\n",
      "Coherence Score:  0.6616524474152321\n"
     ]
    }
   ],
   "source": [
    "# Compute perplexity\n",
    "print('\\nPerplexity: ', lda_model.log_perplexity(corpus)) # A measure of how good the model is (lower the better)\n",
    "\n",
    "# Compute coherence score\n",
    "from gensim.models import CoherenceModel\n",
    "coherence_model_lda = CoherenceModel(model=lda_model, texts=data_lemmatized, dictionary=id2word, coherence='c_v')\n",
    "coherence_lda = coherence_model_lda.get_coherence()\n",
    "print('\\nCoherence Score: ', coherence_lda) # high the better"
   ]
  },
  {
   "cell_type": "markdown",
   "metadata": {
    "heading_collapsed": true,
    "hidden": true
   },
   "source": [
    "### Visualize LDA Model"
   ]
  },
  {
   "cell_type": "code",
   "execution_count": 71,
   "metadata": {
    "hidden": true
   },
   "outputs": [
    {
     "data": {
      "text/html": [
       "\n",
       "<link rel=\"stylesheet\" type=\"text/css\" href=\"https://cdn.rawgit.com/bmabey/pyLDAvis/files/ldavis.v1.0.0.css\">\n",
       "\n",
       "\n",
       "<div id=\"ldavis_el1410449222149449204824713\"></div>\n",
       "<script type=\"text/javascript\">\n",
       "\n",
       "var ldavis_el1410449222149449204824713_data = {\"mdsDat\": {\"x\": [-0.33850599302908957, 0.08346894340386084, 0.057092390336462434, 0.10617512047600612, 0.0917695388127604], \"y\": [0.012730830101303577, -0.16910759840519793, -0.039271327536432483, 0.18827794290127509, 0.007370152939051664], \"topics\": [1, 2, 3, 4, 5], \"cluster\": [1, 1, 1, 1, 1], \"Freq\": [47.15773391723633, 15.503798484802246, 13.917658805847168, 12.604209899902344, 10.816600799560547]}, \"tinfo\": {\"Category\": [\"Default\", \"Default\", \"Default\", \"Default\", \"Default\", \"Default\", \"Default\", \"Default\", \"Default\", \"Default\", \"Default\", \"Default\", \"Default\", \"Default\", \"Default\", \"Default\", \"Default\", \"Default\", \"Default\", \"Default\", \"Default\", \"Default\", \"Default\", \"Default\", \"Default\", \"Default\", \"Default\", \"Default\", \"Default\", \"Default\", \"Topic1\", \"Topic1\", \"Topic1\", \"Topic1\", \"Topic1\", \"Topic1\", \"Topic1\", \"Topic1\", \"Topic1\", \"Topic1\", \"Topic1\", \"Topic1\", \"Topic1\", \"Topic1\", \"Topic1\", \"Topic1\", \"Topic1\", \"Topic1\", \"Topic1\", \"Topic1\", \"Topic1\", \"Topic1\", \"Topic1\", \"Topic1\", \"Topic1\", \"Topic1\", \"Topic1\", \"Topic1\", \"Topic1\", \"Topic1\", \"Topic1\", \"Topic1\", \"Topic1\", \"Topic1\", \"Topic2\", \"Topic2\", \"Topic2\", \"Topic2\", \"Topic2\", \"Topic2\", \"Topic2\", \"Topic2\", \"Topic2\", \"Topic2\", \"Topic2\", \"Topic2\", \"Topic2\", \"Topic2\", \"Topic2\", \"Topic2\", \"Topic2\", \"Topic2\", \"Topic2\", \"Topic2\", \"Topic2\", \"Topic2\", \"Topic2\", \"Topic2\", \"Topic2\", \"Topic2\", \"Topic2\", \"Topic2\", \"Topic2\", \"Topic2\", \"Topic2\", \"Topic2\", \"Topic2\", \"Topic3\", \"Topic3\", \"Topic3\", \"Topic3\", \"Topic3\", \"Topic3\", \"Topic3\", \"Topic3\", \"Topic3\", \"Topic3\", \"Topic3\", \"Topic3\", \"Topic3\", \"Topic3\", \"Topic3\", \"Topic3\", \"Topic3\", \"Topic3\", \"Topic3\", \"Topic3\", \"Topic3\", \"Topic3\", \"Topic3\", \"Topic3\", \"Topic3\", \"Topic3\", \"Topic3\", \"Topic3\", \"Topic3\", \"Topic3\", \"Topic3\", \"Topic3\", \"Topic3\", \"Topic4\", \"Topic4\", \"Topic4\", \"Topic4\", \"Topic4\", \"Topic4\", \"Topic4\", \"Topic4\", \"Topic4\", \"Topic4\", \"Topic4\", \"Topic4\", \"Topic4\", \"Topic4\", \"Topic4\", \"Topic4\", \"Topic4\", \"Topic4\", \"Topic4\", \"Topic4\", \"Topic4\", \"Topic4\", \"Topic4\", \"Topic4\", \"Topic4\", \"Topic4\", \"Topic4\", \"Topic4\", \"Topic4\", \"Topic4\", \"Topic4\", \"Topic4\", \"Topic4\", \"Topic5\", \"Topic5\", \"Topic5\", \"Topic5\", \"Topic5\", \"Topic5\", \"Topic5\", \"Topic5\", \"Topic5\", \"Topic5\", \"Topic5\", \"Topic5\", \"Topic5\", \"Topic5\", \"Topic5\", \"Topic5\", \"Topic5\", \"Topic5\", \"Topic5\", \"Topic5\", \"Topic5\", \"Topic5\", \"Topic5\", \"Topic5\", \"Topic5\", \"Topic5\", \"Topic5\", \"Topic5\", \"Topic5\", \"Topic5\", \"Topic5\", \"Topic5\", \"Topic5\", \"Topic5\", \"Topic5\"], \"Freq\": [116.0, 92.0, 83.0, 24.0, 75.0, 63.0, 19.0, 29.0, 13.0, 10.0, 11.0, 12.0, 9.0, 7.0, 7.0, 7.0, 24.0, 23.0, 7.0, 6.0, 7.0, 5.0, 6.0, 5.0, 5.0, 5.0, 5.0, 5.0, 4.0, 5.0, 115.64089965820312, 91.70497131347656, 83.35596466064453, 74.7379150390625, 62.6261100769043, 23.519519805908203, 23.07791519165039, 12.802278518676758, 8.07115650177002, 8.051027297973633, 7.254519462585449, 6.645828723907471, 6.463825702667236, 6.355270862579346, 4.4710798263549805, 4.281733989715576, 4.2589802742004395, 4.271726608276367, 3.874974012374878, 3.36804461479187, 3.351506233215332, 2.921571969985962, 2.7838099002838135, 2.5703606605529785, 2.495039939880371, 2.4937734603881836, 2.5098419189453125, 2.7300829887390137, 2.3635261058807373, 2.4877994060516357, 6.216891288757324, 5.236501216888428, 12.03471851348877, 3.6711714267730713, 11.452028274536133, 8.832559585571289, 7.198513507843018, 6.510790824890137, 5.832618236541748, 5.0762553215026855, 4.89283561706543, 4.59959077835083, 4.5499043464660645, 3.7603824138641357, 3.5940499305725098, 3.63247013092041, 3.505927801132202, 3.4110095500946045, 3.1352150440216064, 2.926344394683838, 2.789424180984497, 2.5470564365386963, 2.4038214683532715, 2.363395929336548, 2.22688364982605, 2.1409993171691895, 2.0210907459259033, 1.9761494398117065, 1.8736242055892944, 1.8223870992660522, 1.8354212045669556, 1.8213757276535034, 1.8157644271850586, 1.7739514112472534, 4.272434711456299, 1.9278435707092285, 1.8713080883026123, 13.391556739807129, 11.090624809265137, 4.213489532470703, 4.044582843780518, 3.9820563793182373, 3.877535343170166, 3.110116481781006, 2.996127128601074, 2.689908027648926, 2.6849124431610107, 2.684026002883911, 2.517820119857788, 2.446216344833374, 2.2051048278808594, 2.149916887283325, 2.192716598510742, 1.8110922574996948, 1.8089057207107544, 1.8074198961257935, 1.7981088161468506, 1.670259714126587, 1.666741967201233, 1.4996693134307861, 1.4987729787826538, 1.4987409114837646, 1.4931930303573608, 1.4557543992996216, 1.375712513923645, 1.3306691646575928, 1.3304957151412964, 17.119773864746094, 1.9808615446090698, 1.584364652633667, 23.724117279052734, 18.490806579589844, 6.62448263168335, 5.538164138793945, 5.130512237548828, 4.781617164611816, 4.129106521606445, 2.523848056793213, 2.469855785369873, 2.4068188667297363, 2.189087152481079, 2.0623316764831543, 1.8591201305389404, 1.8572803735733032, 1.699953556060791, 1.565443515777588, 1.564328908920288, 1.403486728668213, 1.2913782596588135, 1.2913416624069214, 1.2492525577545166, 1.2492525577545166, 1.2492525577545166, 1.2492525577545166, 1.2491874694824219, 1.2491874694824219, 1.2491874694824219, 1.2490448951721191, 1.2497057914733887, 1.2484912872314453, 4.698409080505371, 2.017707586288452, 1.5782907009124756, 10.286053657531738, 6.68937873840332, 4.485889434814453, 4.464535236358643, 3.43774676322937, 3.3419289588928223, 3.108320951461792, 2.999116897583008, 2.567206859588623, 2.46238112449646, 2.3459653854370117, 2.2529098987579346, 2.023594617843628, 2.022831439971924, 2.014352560043335, 1.8138633966445923, 1.5287997722625732, 1.373605728149414, 1.3196532726287842, 1.3377149105072021, 1.2115999460220337, 1.1647040843963623, 1.0500346422195435, 1.0458016395568848, 0.9348562359809875, 0.9348562359809875, 0.9348562359809875, 0.9348562359809875, 0.9348562359809875, 0.9347996115684509, 0.9347996115684509, 0.9347996115684509, 2.3486742973327637, 1.333088755607605, 1.0371345281600952], \"Term\": [\"work\", \"great\", \"place\", \"engineer\", \"good\", \"company\", \"software\", \"facebook\", \"have\", \"manager\", \"ever\", \"job\", \"love\", \"not\", \"growth\", \"people\", \"amazing\", \"culture\", \"employee\", \"product\", \"technical\", \"challenge\", \"fast\", \"ship\", \"big\", \"want\", \"benefit\", \"recruit\", \"never\", \"move\", \"work\", \"great\", \"place\", \"good\", \"company\", \"amazing\", \"culture\", \"awesome\", \"operation\", \"far\", \"hard\", \"career\", \"recruiter\", \"engineering\", \"start\", \"contractor\", \"grow\", \"leadership\", \"perk\", \"wonderful\", \"community\", \"excellent\", \"fulfil\", \"compensation\", \"earth\", \"incredible\", \"else\", \"make\", \"opportunity\", \"day\", \"experience\", \"tech\", \"facebook\", \"learn\", \"job\", \"love\", \"people\", \"employee\", \"fast\", \"benefit\", \"recruit\", \"move\", \"fun\", \"will\", \"balance\", \"team\", \"life\", \"really\", \"bad\", \"open\", \"positive\", \"interesting\", \"play\", \"incredibly\", \"coordinator\", \"may\", \"care\", \"lead\", \"time\", \"vary\", \"first\", \"valley\", \"free\", \"smart\", \"impact\", \"worklife\", \"experience\", \"have\", \"ever\", \"lot\", \"review\", \"workplace\", \"happy\", \"internship\", \"office\", \"director\", \"drive\", \"be\", \"year\", \"stay\", \"focus\", \"rewarding\", \"new\", \"customer\", \"seattle\", \"grateful\", \"shop\", \"recruiting\", \"hype\", \"pretty\", \"employer\", \"overall\", \"datum\", \"best\", \"take\", \"insight\", \"researcher\", \"facebook\", \"environment\", \"tech\", \"engineer\", \"software\", \"growth\", \"product\", \"challenge\", \"want\", \"never\", \"value\", \"sourcer\", \"fantastic\", \"inspire\", \"dream\", \"assistant\", \"create\", \"month\", \"everything\", \"facility\", \"poor\", \"design\", \"designer\", \"algorithm\", \"news\", \"replace\", \"write\", \"studio\", \"video\", \"producer\", \"administrative\", \"management\", \"think\", \"technical\", \"environment\", \"leave\", \"manager\", \"not\", \"ship\", \"big\", \"do\", \"specialist\", \"get\", \"program\", \"still\", \"imagine\", \"mission\", \"can\", \"phenomenal\", \"diverse\", \"could\", \"project\", \"content\", \"excited\", \"marketing\", \"give\", \"connected\", \"expect\", \"better\", \"leader\", \"achieve\", \"truly\", \"thinking\", \"focused\", \"collaborative\", \"obvious\", \"con\", \"pro\", \"technical\", \"leave\", \"believe\"], \"Total\": [116.0, 92.0, 83.0, 24.0, 75.0, 63.0, 19.0, 29.0, 13.0, 10.0, 11.0, 12.0, 9.0, 7.0, 7.0, 7.0, 24.0, 23.0, 7.0, 6.0, 7.0, 5.0, 6.0, 5.0, 5.0, 5.0, 5.0, 5.0, 4.0, 5.0, 116.20543670654297, 92.27007293701172, 83.9183578491211, 75.30428314208984, 63.19110107421875, 24.084096908569336, 23.644847869873047, 13.365630149841309, 8.636919021606445, 8.617094039916992, 7.83493709564209, 7.214567184448242, 7.0277419090271, 6.924294948577881, 5.0359907150268555, 4.8424177169799805, 4.823522090911865, 4.840594291687012, 4.449649810791016, 3.930175304412842, 3.9253642559051514, 3.483020782470703, 3.3444931507110596, 3.1315674781799316, 3.05572247505188, 3.056373357772827, 3.1006805896759033, 3.3781421184539795, 2.9463729858398438, 3.1128671169281006, 8.494945526123047, 7.239837646484375, 29.57759666442871, 5.839334487915039, 12.045462608337402, 9.41961669921875, 7.785152912139893, 7.10614013671875, 6.420773029327393, 5.664314270019531, 5.479284286499023, 5.187189102172852, 5.139942646026611, 4.349442481994629, 4.180900573730469, 4.227031230926514, 4.0930023193359375, 4.004710674285889, 3.7229905128479004, 3.5193474292755127, 3.3819894790649414, 3.1332249641418457, 2.9969229698181152, 2.9482696056365967, 2.8116466999053955, 2.7432334423065186, 2.609532594680786, 2.560967206954956, 2.472372055053711, 2.407360076904297, 2.4248383045196533, 2.4072508811950684, 2.4069275856018066, 2.35955810546875, 7.107795715332031, 3.379856586456299, 8.494945526123047, 13.99491024017334, 11.692120552062988, 4.816773891448975, 4.646505832672119, 4.586625576019287, 4.476772785186768, 3.707902431488037, 3.5979013442993164, 3.287590503692627, 3.2879345417022705, 3.28812837600708, 3.1186347007751465, 3.058969020843506, 2.808023452758789, 2.7481722831726074, 2.806313991546631, 2.408792018890381, 2.4090514183044434, 2.4086873531341553, 2.4098703861236572, 2.267988681793213, 2.2684402465820312, 2.098761558532715, 2.0990562438964844, 2.0990633964538574, 2.100391387939453, 2.0550754070281982, 1.9733706712722778, 1.9285738468170166, 1.928586721420288, 29.57759666442871, 4.464260101318359, 7.239837646484375, 24.331741333007812, 19.098379135131836, 7.237094879150391, 6.147755146026611, 5.746094703674316, 5.4066996574401855, 4.740722179412842, 3.131587505340576, 3.076244354248047, 3.0153894424438477, 2.7997796535491943, 2.6823229789733887, 2.465574264526367, 2.465898036956787, 2.306560754776001, 2.1749489307403564, 2.1746082305908203, 2.0167295932769775, 1.8977954387664795, 1.8978010416030884, 1.8557523488998413, 1.8557523488998413, 1.8557523488998413, 1.8557523488998413, 1.8557616472244263, 1.8557616472244263, 1.8557616472244263, 1.8557825088500977, 1.8568683862686157, 1.8558669090270996, 7.528350353240967, 4.464260101318359, 3.3931751251220703, 10.900070190429688, 7.3027143478393555, 5.0955729484558105, 5.083774566650391, 4.048784255981445, 3.9532663822174072, 3.72391414642334, 3.60871958732605, 3.1896872520446777, 3.0736961364746094, 2.9590866565704346, 2.8635711669921875, 2.6335511207580566, 2.6336896419525146, 2.6353273391723633, 2.4235594272613525, 2.1397647857666016, 1.9846339225769043, 1.9294826984405518, 1.9913055896759033, 1.8298803567886353, 1.7743160724639893, 1.6596465110778809, 1.6611242294311523, 1.5444786548614502, 1.5444786548614502, 1.5444786548614502, 1.5444786548614502, 1.5444786548614502, 1.5444884300231934, 1.5444884300231934, 1.5444884300231934, 7.528350353240967, 3.3931751251220703, 2.049426555633545], \"loglift\": [30.0, 29.0, 28.0, 27.0, 26.0, 25.0, 24.0, 23.0, 22.0, 21.0, 20.0, 19.0, 18.0, 17.0, 16.0, 15.0, 14.0, 13.0, 12.0, 11.0, 10.0, 9.0, 8.0, 7.0, 6.0, 5.0, 4.0, 3.0, 2.0, 1.0, 0.7468000054359436, 0.7455000281333923, 0.7448999881744385, 0.7440999746322632, 0.7426999807357788, 0.7279999852180481, 0.727400004863739, 0.7085999846458435, 0.683899998664856, 0.6837000250816345, 0.6747000217437744, 0.6696000099182129, 0.6679999828338623, 0.6658999919891357, 0.6327000260353088, 0.628600001335144, 0.6272000074386597, 0.6266999840736389, 0.6133999824523926, 0.5972999930381775, 0.5935999751091003, 0.5759000182151794, 0.5681999921798706, 0.5541999936103821, 0.5490000247955322, 0.5482000112533569, 0.5403000116348267, 0.5386999845504761, 0.5313000082969666, 0.5274999737739563, 0.43950000405311584, 0.427700012922287, -0.14749999344348907, 0.28760001063346863, 1.813599944114685, 1.7997000217437744, 1.7856999635696411, 1.7766000032424927, 1.7680000066757202, 1.7545000314712524, 1.7509000301361084, 1.743899941444397, 1.7421000003814697, 1.7186000347137451, 1.7128000259399414, 1.712499976158142, 1.7093000411987305, 1.7036000490188599, 1.6922999620437622, 1.6796000003814697, 1.6714999675750732, 1.656999945640564, 1.6435999870300293, 1.6430000066757202, 1.6309000253677368, 1.6161999702453613, 1.6086000204086304, 1.6049000024795532, 1.5867999792099, 1.5857000350952148, 1.5856000185012817, 1.5851999521255493, 1.582200050354004, 1.5787999629974365, 1.3551000356674194, 1.3027000427246094, 0.3513000011444092, 1.927899956703186, 1.9191999435424805, 1.8381999731063843, 1.833299994468689, 1.8307000398635864, 1.8282999992370605, 1.7962000370025635, 1.7890000343322754, 1.771399974822998, 1.7694000005722046, 1.7690000534057617, 1.7580000162124634, 1.7484999895095825, 1.730299949645996, 1.7265000343322754, 1.7252999544143677, 1.6868000030517578, 1.6855000257492065, 1.6848000288009644, 1.6792000532150269, 1.666100025177002, 1.6638000011444092, 1.6359000205993652, 1.635200023651123, 1.63510000705719, 1.6308000087738037, 1.6272000074386597, 1.611199975013733, 1.6009000539779663, 1.6008000373840332, 1.4251999855041504, 1.1593999862670898, 0.45260000228881836, 2.045799970626831, 2.038800001144409, 1.982699990272522, 1.9666999578475952, 1.957800030708313, 1.9483000040054321, 1.9329999685287476, 1.8553999662399292, 1.8516000509262085, 1.8457000255584717, 1.8250999450683594, 1.8083000183105469, 1.7888000011444092, 1.7877000570297241, 1.7660000324249268, 1.742300033569336, 1.7417000532150269, 1.7086000442504883, 1.6862000226974487, 1.6861000061035156, 1.6754000186920166, 1.6754000186920166, 1.6754000186920166, 1.6754000186920166, 1.6753000020980835, 1.6753000020980835, 1.6753000020980835, 1.6751999855041504, 1.6751999855041504, 1.6747000217437744, 1.5996999740600586, 1.2769999504089355, 1.3056999444961548, 2.166100025177002, 2.136399984359741, 2.0966999530792236, 2.0941998958587646, 2.060499906539917, 2.0560998916625977, 2.0434000492095947, 2.039099931716919, 2.006999969482422, 2.0023000240325928, 1.9918999671936035, 1.9842000007629395, 1.9606000185012817, 1.9601999521255493, 1.955399990081787, 1.9342999458312988, 1.8878999948501587, 1.8560999631881714, 1.8442000150680542, 1.826300024986267, 1.8118000030517578, 1.8030999898910522, 1.7662999629974365, 1.7613999843597412, 1.722000002861023, 1.722000002861023, 1.722000002861023, 1.722000002861023, 1.722000002861023, 1.722000002861023, 1.722000002861023, 1.722000002861023, 1.0592999458312988, 1.2898000478744507, 1.5429999828338623], \"logprob\": [30.0, 29.0, 28.0, 27.0, 26.0, 25.0, 24.0, 23.0, 22.0, 21.0, 20.0, 19.0, 18.0, 17.0, 16.0, 15.0, 14.0, 13.0, 12.0, 11.0, 10.0, 9.0, 8.0, 7.0, 6.0, 5.0, 4.0, 3.0, 2.0, 1.0, -1.8737000226974487, -2.105600118637085, -2.2011001110076904, -2.3101999759674072, -2.486999988555908, -3.466399908065796, -3.485300064086914, -4.0746002197265625, -4.535900115966797, -4.538400173187256, -4.642600059509277, -4.730199813842773, -4.757999897003174, -4.774899959564209, -5.1265997886657715, -5.169899940490723, -5.17519998550415, -5.1722002029418945, -5.269700050354004, -5.409900188446045, -5.41480016708374, -5.55210018157959, -5.600399971008301, -5.680200099945068, -5.70989990234375, -5.710400104522705, -5.703999996185303, -5.619900226593018, -5.764100074768066, -5.712800025939941, -4.796899795532227, -4.968599796295166, -4.13640022277832, -5.323699951171875, -3.0736000537872314, -3.333400011062622, -3.537899971008301, -3.6382999420166016, -3.748300075531006, -3.887200117111206, -3.9240000247955322, -3.98580002784729, -3.9967000484466553, -4.187300205230713, -4.232500076293945, -4.22189998626709, -4.257299900054932, -4.284800052642822, -4.369100093841553, -4.438000202178955, -4.486000061035156, -4.576900005340576, -4.634699821472168, -4.651700019836426, -4.71120023727417, -4.750500202178955, -4.808199882507324, -4.830599784851074, -4.883900165557861, -4.911600112915039, -4.9045000076293945, -4.912199974060059, -4.915299892425537, -4.938600063323975, -4.059599876403809, -4.855400085449219, -4.885200023651123, -2.8092000484466553, -2.99780011177063, -3.96560001373291, -4.006499767303467, -4.02209997177124, -4.048699855804443, -4.269199848175049, -4.306600093841553, -4.414400100708008, -4.416200160980225, -4.416600227355957, -4.480500221252441, -4.509300231933594, -4.613100051879883, -4.638400077819824, -4.61870002746582, -4.809899806976318, -4.811100006103516, -4.811999797821045, -4.8171000480651855, -4.890900135040283, -4.89300012588501, -4.998600006103516, -4.999199867248535, -4.999199867248535, -5.002999782562256, -5.028299808502197, -5.08489990234375, -5.118199825286865, -5.118299961090088, -2.5636000633239746, -4.720300197601318, -4.943699836730957, -2.1382999420166016, -2.387500047683716, -3.4140000343322754, -3.593100070953369, -3.6695001125335693, -3.740000009536743, -3.886699914932251, -4.379000186920166, -4.400599956512451, -4.426400184631348, -4.521299839019775, -4.580900192260742, -4.684599876403809, -4.6855998039245605, -4.774099826812744, -4.856599807739258, -4.8572998046875, -4.965799808502197, -5.048999786376953, -5.049099922180176, -5.082200050354004, -5.082200050354004, -5.082200050354004, -5.082200050354004, -5.082200050354004, -5.082200050354004, -5.082200050354004, -5.082399845123291, -5.0817999839782715, -5.082799911499023, -3.757499933242798, -4.602799892425537, -4.848400115966797, -2.821000099182129, -3.251300096511841, -3.650899887084961, -3.655600070953369, -3.9170000553131104, -3.945199966430664, -4.0177001953125, -4.053500175476074, -4.209000110626221, -4.250699996948242, -4.299099922180176, -4.339600086212158, -4.446899890899658, -4.447299957275391, -4.451499938964844, -4.556300163269043, -4.72730016708374, -4.834400177001953, -4.8744001388549805, -4.860799789428711, -4.95989990234375, -4.999300003051758, -5.103000164031982, -5.10699987411499, -5.219200134277344, -5.219200134277344, -5.219200134277344, -5.219200134277344, -5.219200134277344, -5.219200134277344, -5.219200134277344, -5.219200134277344, -4.297900199890137, -4.864299774169922, -5.115300178527832]}, \"token.table\": {\"Topic\": [5, 4, 4, 1, 4, 1, 2, 2, 3, 2, 5, 2, 3, 5, 5, 5, 2, 1, 4, 5, 1, 1, 1, 5, 5, 5, 1, 2, 5, 4, 1, 3, 3, 1, 4, 4, 3, 5, 5, 4, 3, 1, 1, 2, 3, 4, 1, 3, 4, 3, 4, 1, 5, 5, 1, 2, 1, 3, 4, 4, 1, 2, 2, 3, 5, 2, 1, 2, 5, 5, 1, 3, 1, 1, 4, 3, 1, 3, 3, 5, 1, 2, 1, 2, 3, 4, 2, 3, 2, 2, 5, 1, 1, 2, 4, 5, 2, 3, 2, 1, 4, 5, 5, 2, 5, 4, 2, 4, 3, 4, 5, 5, 3, 2, 1, 1, 3, 2, 1, 5, 1, 2, 4, 2, 3, 5, 4, 4, 5, 5, 2, 2, 1, 3, 4, 3, 3, 3, 3, 5, 3, 2, 4, 4, 5, 1, 3, 5, 4, 3, 2, 1, 3, 4, 5, 4, 5, 2, 5, 2, 4, 2, 4, 4, 2, 1, 1, 2, 4, 3, 4, 3], \"Freq\": [0.6474676728248596, 0.5388562679290771, 0.5388650298118591, 0.9965081810951233, 0.8111700415611267, 0.972644031047821, 0.8058038353919983, 0.9567316770553589, 0.9123731255531311, 0.48794135451316833, 0.48794135451316833, 0.8827193975448608, 0.4866001605987549, 0.6025379300117493, 0.7868169546127319, 0.6984285712242126, 0.7664207816123962, 0.9702591896057129, 0.8701562285423279, 0.6474676728248596, 0.7642602920532227, 0.996975839138031, 0.9579867124557495, 0.6474635601043701, 0.5464838147163391, 0.9346821904182434, 0.8260336518287659, 0.7113268971443176, 0.7589190006256104, 0.8110635280609131, 0.9727277755737305, 0.8302916884422302, 0.47610175609588623, 0.6424944996833801, 0.5269271731376648, 0.5269256234169006, 0.9125224351882935, 0.7593908905982971, 0.7409631609916687, 0.7456223368644714, 0.9124269485473633, 0.6545097231864929, 0.9675295352935791, 0.9850636124610901, 0.4764045774936676, 0.9863659143447876, 0.8665142059326172, 0.44800257682800293, 0.44800257682800293, 0.9408045411109924, 0.9195618033409119, 0.8613213300704956, 0.5038712620735168, 0.5635974407196045, 0.7063023447990417, 0.23543411493301392, 0.4057124853134155, 0.5747593641281128, 0.919705867767334, 0.6632642149925232, 0.9283872246742249, 0.9344668984413147, 0.8247972726821899, 0.7122447490692139, 0.6474676728248596, 0.8309348225593567, 0.8969969153404236, 0.9727734923362732, 0.8056039810180664, 0.5021830797195435, 0.9959592819213867, 0.8303277492523193, 0.9970729947090149, 0.829269528388977, 0.9672389626502991, 0.893500804901123, 0.8934341073036194, 0.9289091229438782, 0.8816630840301514, 0.6506823897361755, 0.28138118982315063, 0.5627623796463013, 0.6543703079223633, 0.6783640384674072, 0.5185178518295288, 0.714341938495636, 0.9574798941612244, 0.8090828061103821, 0.913206934928894, 0.7809549570083618, 0.6020019054412842, 0.8263447880744934, 0.6850095391273499, 0.3425047695636749, 0.5894184708595276, 0.2947092354297638, 0.9772777557373047, 0.830431342124939, 0.9554529190063477, 0.8880621194839478, 0.5385411381721497, 0.917425274848938, 0.518273651599884, 0.7290666699409485, 0.6758842468261719, 0.8670918345451355, 0.9639132022857666, 0.8437532782554626, 0.7126786112785339, 0.5388650298118591, 0.9585477113723755, 0.6474635601043701, 0.8338193893432617, 0.8524307608604431, 0.9262562394142151, 0.6788007020950317, 0.4764029383659363, 0.8991473913192749, 0.8989471197128296, 0.7594308853149414, 0.9890565276145935, 0.6673511266708374, 0.4958522915840149, 0.8870518207550049, 0.4764714539051056, 0.6474635601043701, 0.5388622879981995, 0.9759659767150879, 0.8313198089599609, 0.8252325057983398, 0.7491177916526794, 0.9125279188156128, 0.8537592887878418, 0.8818386197090149, 0.5388650298118591, 0.5185143947601318, 0.8608619570732117, 0.7277564406394958, 0.8302022814750671, 0.7849951386451721, 0.8299201726913452, 0.8476163148880005, 0.9424883723258972, 0.6501433849334717, 0.7588661313056946, 0.7942826151847839, 0.6538150310516357, 0.9405310750007629, 0.5388622879981995, 0.5067471861839294, 0.9462906122207642, 0.6906232237815857, 0.2762492895126343, 0.6641561388969421, 0.26566246151924133, 0.5388317704200745, 0.6474676728248596, 0.8089397549629211, 0.6474676728248596, 0.8308232426643372, 0.9579805731773376, 0.8307855725288391, 0.5388622879981995, 0.9247785806655884, 0.9196581244468689, 0.7633247375488281, 0.9982321262359619, 0.5917410850524902, 0.2958705425262451, 0.872100830078125, 0.5388650298118591, 0.9619594216346741], \"Term\": [\"achieve\", \"administrative\", \"algorithm\", \"amazing\", \"assistant\", \"awesome\", \"bad\", \"balance\", \"be\", \"believe\", \"believe\", \"benefit\", \"best\", \"better\", \"big\", \"can\", \"care\", \"career\", \"challenge\", \"collaborative\", \"community\", \"company\", \"compensation\", \"con\", \"connected\", \"content\", \"contractor\", \"coordinator\", \"could\", \"create\", \"culture\", \"customer\", \"datum\", \"day\", \"design\", \"designer\", \"director\", \"diverse\", \"do\", \"dream\", \"drive\", \"earth\", \"else\", \"employee\", \"employer\", \"engineer\", \"engineering\", \"environment\", \"environment\", \"ever\", \"everything\", \"excellent\", \"excited\", \"expect\", \"experience\", \"experience\", \"facebook\", \"facebook\", \"facility\", \"fantastic\", \"far\", \"fast\", \"first\", \"focus\", \"focused\", \"free\", \"fulfil\", \"fun\", \"get\", \"give\", \"good\", \"grateful\", \"great\", \"grow\", \"growth\", \"happy\", \"hard\", \"have\", \"hype\", \"imagine\", \"impact\", \"impact\", \"incredible\", \"incredibly\", \"insight\", \"inspire\", \"interesting\", \"internship\", \"job\", \"lead\", \"leader\", \"leadership\", \"learn\", \"learn\", \"leave\", \"leave\", \"life\", \"lot\", \"love\", \"make\", \"management\", \"manager\", \"marketing\", \"may\", \"mission\", \"month\", \"move\", \"never\", \"new\", \"news\", \"not\", \"obvious\", \"office\", \"open\", \"operation\", \"opportunity\", \"overall\", \"people\", \"perk\", \"phenomenal\", \"place\", \"play\", \"poor\", \"positive\", \"pretty\", \"pro\", \"producer\", \"product\", \"program\", \"project\", \"really\", \"recruit\", \"recruiter\", \"recruiting\", \"replace\", \"researcher\", \"review\", \"rewarding\", \"seattle\", \"ship\", \"shop\", \"smart\", \"software\", \"sourcer\", \"specialist\", \"start\", \"stay\", \"still\", \"studio\", \"take\", \"team\", \"tech\", \"tech\", \"technical\", \"technical\", \"think\", \"thinking\", \"time\", \"truly\", \"valley\", \"value\", \"vary\", \"video\", \"want\", \"will\", \"wonderful\", \"work\", \"worklife\", \"worklife\", \"workplace\", \"write\", \"year\"]}, \"R\": 30, \"lambda.step\": 0.01, \"plot.opts\": {\"xlab\": \"PC1\", \"ylab\": \"PC2\"}, \"topic.order\": [3, 1, 2, 4, 5]};\n",
       "\n",
       "function LDAvis_load_lib(url, callback){\n",
       "  var s = document.createElement('script');\n",
       "  s.src = url;\n",
       "  s.async = true;\n",
       "  s.onreadystatechange = s.onload = callback;\n",
       "  s.onerror = function(){console.warn(\"failed to load library \" + url);};\n",
       "  document.getElementsByTagName(\"head\")[0].appendChild(s);\n",
       "}\n",
       "\n",
       "if(typeof(LDAvis) !== \"undefined\"){\n",
       "   // already loaded: just create the visualization\n",
       "   !function(LDAvis){\n",
       "       new LDAvis(\"#\" + \"ldavis_el1410449222149449204824713\", ldavis_el1410449222149449204824713_data);\n",
       "   }(LDAvis);\n",
       "}else if(typeof define === \"function\" && define.amd){\n",
       "   // require.js is available: use it to load d3/LDAvis\n",
       "   require.config({paths: {d3: \"https://cdnjs.cloudflare.com/ajax/libs/d3/3.5.5/d3.min\"}});\n",
       "   require([\"d3\"], function(d3){\n",
       "      window.d3 = d3;\n",
       "      LDAvis_load_lib(\"https://cdn.rawgit.com/bmabey/pyLDAvis/files/ldavis.v1.0.0.js\", function(){\n",
       "        new LDAvis(\"#\" + \"ldavis_el1410449222149449204824713\", ldavis_el1410449222149449204824713_data);\n",
       "      });\n",
       "    });\n",
       "}else{\n",
       "    // require.js not available: dynamically load d3 & LDAvis\n",
       "    LDAvis_load_lib(\"https://cdnjs.cloudflare.com/ajax/libs/d3/3.5.5/d3.min.js\", function(){\n",
       "         LDAvis_load_lib(\"https://cdn.rawgit.com/bmabey/pyLDAvis/files/ldavis.v1.0.0.js\", function(){\n",
       "                 new LDAvis(\"#\" + \"ldavis_el1410449222149449204824713\", ldavis_el1410449222149449204824713_data);\n",
       "            })\n",
       "         });\n",
       "}\n",
       "</script>"
      ],
      "text/plain": [
       "PreparedData(topic_coordinates=              x         y  topics  cluster       Freq\n",
       "topic                                                \n",
       "2     -0.338506  0.012731       1        1  47.157734\n",
       "0      0.083469 -0.169108       2        1  15.503798\n",
       "1      0.057092 -0.039271       3        1  13.917659\n",
       "3      0.106175  0.188278       4        1  12.604210\n",
       "4      0.091770  0.007370       5        1  10.816601, topic_info=     Category        Freq           Term       Total  loglift  logprob\n",
       "term                                                                  \n",
       "38    Default  116.000000           work  116.000000  30.0000  30.0000\n",
       "2     Default   92.000000          great   92.000000  29.0000  29.0000\n",
       "14    Default   83.000000          place   83.000000  28.0000  28.0000\n",
       "156   Default   24.000000       engineer   24.000000  27.0000  27.0000\n",
       "37    Default   75.000000           good   75.000000  26.0000  26.0000\n",
       "5     Default   63.000000        company   63.000000  25.0000  25.0000\n",
       "107   Default   19.000000       software   19.000000  24.0000  24.0000\n",
       "68    Default   29.000000       facebook   29.000000  23.0000  23.0000\n",
       "152   Default   13.000000           have   13.000000  22.0000  22.0000\n",
       "64    Default   10.000000        manager   10.000000  21.0000  21.0000\n",
       "151   Default   11.000000           ever   11.000000  20.0000  20.0000\n",
       "3     Default   12.000000            job   12.000000  19.0000  19.0000\n",
       "36    Default    9.000000           love    9.000000  18.0000  18.0000\n",
       "11    Default    7.000000            not    7.000000  17.0000  17.0000\n",
       "52    Default    7.000000         growth    7.000000  16.0000  16.0000\n",
       "13    Default    7.000000         people    7.000000  15.0000  15.0000\n",
       "22    Default   24.000000        amazing   24.000000  14.0000  14.0000\n",
       "89    Default   23.000000        culture   23.000000  13.0000  13.0000\n",
       "35    Default    7.000000       employee    7.000000  12.0000  12.0000\n",
       "160   Default    6.000000        product    6.000000  11.0000  11.0000\n",
       "67    Default    7.000000      technical    7.000000  10.0000  10.0000\n",
       "168   Default    5.000000      challenge    5.000000   9.0000   9.0000\n",
       "8     Default    6.000000           fast    6.000000   8.0000   8.0000\n",
       "462   Default    5.000000           ship    5.000000   7.0000   7.0000\n",
       "125   Default    5.000000            big    5.000000   6.0000   6.0000\n",
       "162   Default    5.000000           want    5.000000   5.0000   5.0000\n",
       "50    Default    5.000000        benefit    5.000000   4.0000   4.0000\n",
       "30    Default    5.000000        recruit    5.000000   3.0000   3.0000\n",
       "167   Default    4.000000          never    4.000000   2.0000   2.0000\n",
       "200   Default    5.000000           move    5.000000   1.0000   1.0000\n",
       "...       ...         ...            ...         ...      ...      ...\n",
       "82     Topic5    3.341929     specialist    3.953266   2.0561  -3.9452\n",
       "435    Topic5    3.108321            get    3.723914   2.0434  -4.0177\n",
       "65     Topic5    2.999117        program    3.608720   2.0391  -4.0535\n",
       "121    Topic5    2.567207          still    3.189687   2.0070  -4.2090\n",
       "243    Topic5    2.462381        imagine    3.073696   2.0023  -4.2507\n",
       "47     Topic5    2.345965        mission    2.959087   1.9919  -4.2991\n",
       "242    Topic5    2.252910            can    2.863571   1.9842  -4.3396\n",
       "389    Topic5    2.023595     phenomenal    2.633551   1.9606  -4.4469\n",
       "423    Topic5    2.022831        diverse    2.633690   1.9602  -4.4473\n",
       "427    Topic5    2.014353          could    2.635327   1.9554  -4.4515\n",
       "346    Topic5    1.813863        project    2.423559   1.9343  -4.5563\n",
       "347    Topic5    1.528800        content    2.139765   1.8879  -4.7273\n",
       "259    Topic5    1.373606        excited    1.984634   1.8561  -4.8344\n",
       "322    Topic5    1.319653      marketing    1.929483   1.8442  -4.8744\n",
       "191    Topic5    1.337715           give    1.991306   1.8263  -4.8608\n",
       "471    Topic5    1.211600      connected    1.829880   1.8118  -4.9599\n",
       "260    Topic5    1.164704         expect    1.774316   1.8031  -4.9993\n",
       "133    Topic5    1.050035         better    1.659647   1.7663  -5.1030\n",
       "161    Topic5    1.045802         leader    1.661124   1.7614  -5.1070\n",
       "421    Topic5    0.934856        achieve    1.544479   1.7220  -5.2192\n",
       "426    Topic5    0.934856          truly    1.544479   1.7220  -5.2192\n",
       "425    Topic5    0.934856       thinking    1.544479   1.7220  -5.2192\n",
       "424    Topic5    0.934856        focused    1.544479   1.7220  -5.2192\n",
       "422    Topic5    0.934856  collaborative    1.544479   1.7220  -5.2192\n",
       "407    Topic5    0.934800        obvious    1.544488   1.7220  -5.2192\n",
       "406    Topic5    0.934800            con    1.544488   1.7220  -5.2192\n",
       "408    Topic5    0.934800            pro    1.544488   1.7220  -5.2192\n",
       "67     Topic5    2.348674      technical    7.528350   1.0593  -4.2979\n",
       "186    Topic5    1.333089          leave    3.393175   1.2898  -4.8643\n",
       "18     Topic5    1.037135        believe    2.049427   1.5430  -5.1153\n",
       "\n",
       "[198 rows x 6 columns], token_table=      Topic      Freq            Term\n",
       "term                                 \n",
       "421       5  0.647468         achieve\n",
       "464       4  0.538856  administrative\n",
       "445       4  0.538865       algorithm\n",
       "22        1  0.996508         amazing\n",
       "357       4  0.811170       assistant\n",
       "128       1  0.972644         awesome\n",
       "84        2  0.805804             bad\n",
       "149       2  0.956732         balance\n",
       "262       3  0.912373              be\n",
       "18        2  0.487941         believe\n",
       "18        5  0.487941         believe\n",
       "50        2  0.882719         benefit\n",
       "163       3  0.486600            best\n",
       "133       5  0.602538          better\n",
       "125       5  0.786817             big\n",
       "242       5  0.698429             can\n",
       "4         2  0.766421            care\n",
       "51        1  0.970259          career\n",
       "168       4  0.870156       challenge\n",
       "422       5  0.647468   collaborative\n",
       "103       1  0.764260       community\n",
       "5         1  0.996976         company\n",
       "117       1  0.957987    compensation\n",
       "406       5  0.647464             con\n",
       "471       5  0.546484       connected\n",
       "347       5  0.934682         content\n",
       "420       1  0.826034      contractor\n",
       "87        2  0.711327     coordinator\n",
       "427       5  0.758919           could\n",
       "365       4  0.811064          create\n",
       "...     ...       ...             ...\n",
       "107       4  0.942488        software\n",
       "110       4  0.650143         sourcer\n",
       "82        5  0.758866      specialist\n",
       "60        1  0.794283           start\n",
       "207       3  0.653815            stay\n",
       "121       5  0.940531           still\n",
       "480       4  0.538862          studio\n",
       "75        3  0.506747            take\n",
       "254       2  0.946291            team\n",
       "63        1  0.690623            tech\n",
       "63        3  0.276249            tech\n",
       "67        4  0.664156       technical\n",
       "67        5  0.265662       technical\n",
       "443       4  0.538832           think\n",
       "425       5  0.647468        thinking\n",
       "42        2  0.808940            time\n",
       "426       5  0.647468           truly\n",
       "319       2  0.830823          valley\n",
       "224       4  0.957981           value\n",
       "316       2  0.830786            vary\n",
       "481       4  0.538862           video\n",
       "162       4  0.924779            want\n",
       "15        2  0.919658            will\n",
       "49        1  0.763325       wonderful\n",
       "38        1  0.998232            work\n",
       "201       2  0.591741        worklife\n",
       "201       4  0.295871        worklife\n",
       "227       3  0.872101       workplace\n",
       "448       4  0.538865           write\n",
       "70        3  0.961959            year\n",
       "\n",
       "[172 rows x 3 columns], R=30, lambda_step=0.01, plot_opts={'xlab': 'PC1', 'ylab': 'PC2'}, topic_order=[3, 1, 2, 4, 5])"
      ]
     },
     "execution_count": 71,
     "metadata": {},
     "output_type": "execute_result"
    }
   ],
   "source": [
    "import warnings\n",
    "warnings.filterwarnings(\"ignore\", category=FutureWarning) # hides future warning\n",
    "\n",
    "import pyLDAvis # interactive visualization for LDA\n",
    "import pyLDAvis.gensim \n",
    "\n",
    "pyLDAvis.enable_notebook()\n",
    "vis = pyLDAvis.gensim.prepare(lda_model, corpus, id2word)\n",
    "vis"
   ]
  },
  {
   "cell_type": "markdown",
   "metadata": {
    "heading_collapsed": true,
    "hidden": true
   },
   "source": [
    "## LDA Mallet Model"
   ]
  },
  {
   "cell_type": "code",
   "execution_count": 72,
   "metadata": {
    "hidden": true
   },
   "outputs": [],
   "source": [
    "# Download file: http://mallet.cs.umass.edu/dist/mallet-2.0.8.zip\n",
    "# Installing mallet: https://programminghistorian.org/en/lessons/topic-modeling-and-mallet#mac-instructions\n",
    "# Download Java SE (download .zip instead of .exe for silent install)\n",
    "\n",
    "import os\n",
    "from gensim.models.wrappers import LdaMallet\n",
    "\n",
    "os.environ.update({'MALLET_HOME':r'/Users/Mick/Desktop/mallet/'}) # create environment\n",
    "mallet_path = '/Users/Mick/Desktop/mallet/bin/mallet' # update this path"
   ]
  },
  {
   "cell_type": "code",
   "execution_count": 73,
   "metadata": {
    "hidden": true
   },
   "outputs": [],
   "source": [
    "ldamallet = LdaMallet(mallet_path,corpus=corpus,num_topics=5,id2word=id2word)\n",
    "# here we use 5 topics"
   ]
  },
  {
   "cell_type": "code",
   "execution_count": 74,
   "metadata": {
    "hidden": true
   },
   "outputs": [
    {
     "name": "stdout",
     "output_type": "stream",
     "text": [
      "[(0,\n",
      "  [('great', 0.20955882352941177),\n",
      "   ('company', 0.14338235294117646),\n",
      "   ('job', 0.04779411764705882),\n",
      "   ('growth', 0.04044117647058824),\n",
      "   ('love', 0.03676470588235294),\n",
      "   ('tech', 0.03308823529411765),\n",
      "   ('recruit', 0.029411764705882353),\n",
      "   ('challenge', 0.029411764705882353),\n",
      "   ('team', 0.014705882352941176),\n",
      "   ('balance', 0.014705882352941176)]),\n",
      " (1,\n",
      "  [('work', 0.21678321678321677),\n",
      "   ('facebook', 0.11538461538461539),\n",
      "   ('culture', 0.0944055944055944),\n",
      "   ('amazing', 0.05244755244755245),\n",
      "   ('fast', 0.027972027972027972),\n",
      "   ('benefit', 0.027972027972027972),\n",
      "   ('career', 0.024475524475524476),\n",
      "   ('big', 0.024475524475524476),\n",
      "   ('recruiter', 0.017482517482517484),\n",
      "   ('lot', 0.017482517482517484)]),\n",
      " (2,\n",
      "  [('engineer', 0.12547528517110265),\n",
      "   ('software', 0.09885931558935361),\n",
      "   ('manager', 0.049429657794676805),\n",
      "   ('technical', 0.03802281368821293),\n",
      "   ('impact', 0.034220532319391636),\n",
      "   ('employee', 0.034220532319391636),\n",
      "   ('product', 0.026615969581749048),\n",
      "   ('engineering', 0.026615969581749048),\n",
      "   ('specialist', 0.022813688212927757),\n",
      "   ('experience', 0.022813688212927757)]),\n",
      " (3,\n",
      "  [('good', 0.27491408934707906),\n",
      "   ('company', 0.13058419243986255),\n",
      "   ('work', 0.06529209621993128),\n",
      "   ('people', 0.041237113402061855),\n",
      "   ('operation', 0.030927835051546393),\n",
      "   ('environment', 0.020618556701030927),\n",
      "   ('move', 0.01718213058419244),\n",
      "   ('workplace', 0.01718213058419244),\n",
      "   ('review', 0.01718213058419244),\n",
      "   ('perk', 0.01718213058419244)]),\n",
      " (4,\n",
      "  [('place', 0.2692307692307692),\n",
      "   ('work', 0.1390532544378698),\n",
      "   ('great', 0.13609467455621302),\n",
      "   ('awesome', 0.038461538461538464),\n",
      "   ('amazing', 0.03254437869822485),\n",
      "   ('bad', 0.014792899408284023),\n",
      "   ('hard', 0.014792899408284023),\n",
      "   ('learn', 0.014792899408284023),\n",
      "   ('happy', 0.011834319526627219),\n",
      "   ('life', 0.011834319526627219)])]\n"
     ]
    }
   ],
   "source": [
    "# Show topics\n",
    "pprint(ldamallet.show_topics(formatted=False))"
   ]
  },
  {
   "cell_type": "markdown",
   "metadata": {
    "heading_collapsed": true,
    "hidden": true
   },
   "source": [
    "### LDA Mallet Model Performance"
   ]
  },
  {
   "cell_type": "code",
   "execution_count": 75,
   "metadata": {
    "hidden": true
   },
   "outputs": [
    {
     "name": "stdout",
     "output_type": "stream",
     "text": [
      "\n",
      "Coherence Score:  0.7217056349778901\n"
     ]
    }
   ],
   "source": [
    "# Compute coherence score\n",
    "coherence_model_ldamallet = CoherenceModel(model=ldamallet, texts=data_lemmatized, dictionary=id2word, coherence=\"c_v\")\n",
    "coherence_ldamallet = coherence_model_ldamallet.get_coherence()\n",
    "print('\\nCoherence Score: ', coherence_ldamallet)"
   ]
  },
  {
   "cell_type": "markdown",
   "metadata": {
    "heading_collapsed": true,
    "hidden": true
   },
   "source": [
    "## Finding the Optimal Number of Topics for LDA Mallet Model"
   ]
  },
  {
   "cell_type": "code",
   "execution_count": 76,
   "metadata": {
    "hidden": true
   },
   "outputs": [],
   "source": [
    "# compute coherence_values for LdaMallets models\n",
    "\n",
    "def compute_coherence_values(dictionary, corpus, texts, limit, start=2, step=3):\n",
    "    coherence_values = []\n",
    "    model_list = []\n",
    "    for num_topics in range(start, limit, step):\n",
    "        model = gensim.models.wrappers.LdaMallet(mallet_path, corpus=corpus, num_topics=num_topics, id2word=id2word)\n",
    "        model_list.append(model) # adds different LdaMallet models based on num_topics(start, limit, step)\n",
    "        coherencemodel = CoherenceModel(model=model, texts=texts, dictionary=dictionary, coherence='c_v')\n",
    "        coherence_values.append(coherencemodel.get_coherence()) # add the different LdaMallet models and compute Coherence score\n",
    "    return model_list, coherence_values\n",
    "\n",
    "# Recall previous LdaMallet model\n",
    "# ldamallet = LdaMallet(mallet_path,corpus=corpus,num_topics=10,id2word=id2word)\n",
    "# coherence_model_ldamallet = CoherenceModel(model=ldamallet, texts=data_lemmatized, dictionary=id2word, coherence=\"c_v\")\n",
    "\n",
    "# compute a list of LdaMallets models\n",
    "model_list, coherence_values = compute_coherence_values(dictionary=id2word, corpus=corpus, texts=data_lemmatized, start=2, limit=40, step=6)"
   ]
  },
  {
   "cell_type": "code",
   "execution_count": 77,
   "metadata": {
    "hidden": true
   },
   "outputs": [
    {
     "data": {
      "image/png": "[encoded data removed]",
      "text/plain": [
       "<Figure size 432x288 with 1 Axes>"
      ]
     },
     "metadata": {
      "needs_background": "light"
     },
     "output_type": "display_data"
    }
   ],
   "source": [
    "# show graph\n",
    "limit=40; start=2; step=6;\n",
    "x = range(start, limit, step)\n",
    "plt.plot(x, coherence_values)\n",
    "plt.xlabel('Num Topics')\n",
    "plt.ylabel('Coherence score')\n",
    "plt.legend(('coherence_values'), loc='best')\n",
    "plt.show()"
   ]
  },
  {
   "cell_type": "code",
   "execution_count": 78,
   "metadata": {
    "hidden": true
   },
   "outputs": [
    {
     "name": "stdout",
     "output_type": "stream",
     "text": [
      "Num Topics = 2  has Coherence Value of 0.6771\n",
      "Num Topics = 8  has Coherence Value of 0.764\n",
      "Num Topics = 14  has Coherence Value of 0.7738\n",
      "Num Topics = 20  has Coherence Value of 0.7817\n",
      "Num Topics = 26  has Coherence Value of 0.7747\n",
      "Num Topics = 32  has Coherence Value of 0.7599\n",
      "Num Topics = 38  has Coherence Value of 0.7683\n"
     ]
    }
   ],
   "source": [
    "# Print the coherence scores\n",
    "for m, cv in zip(x, coherence_values): # zip aggregate iterables (zero or more)\n",
    "    print('Num Topics =', m, ' has Coherence Value of', round(cv, 4))\n",
    "    # calls an iterated x (x = range(start, limit, step)) and coherence_values (4 decimals)"
   ]
  },
  {
   "cell_type": "code",
   "execution_count": 79,
   "metadata": {
    "hidden": true
   },
   "outputs": [
    {
     "name": "stdout",
     "output_type": "stream",
     "text": [
      "[(0,\n",
      "  '0.593*\"place\" + 0.049*\"hard\" + 0.025*\"positive\" + 0.025*\"worklife\" + '\n",
      "  '0.025*\"hype\" + 0.012*\"news\" + 0.012*\"top\" + 0.012*\"vary\" + 0.012*\"enjoy\" + '\n",
      "  '0.012*\"feel\"'),\n",
      " (1,\n",
      "  '0.675*\"great\" + 0.025*\"contract\" + 0.013*\"passionate\" + 0.013*\"emotion\" + '\n",
      "  '0.013*\"chaos\" + 0.013*\"contribution\" + 0.013*\"charge\" + 0.013*\"negative\" + '\n",
      "  '0.013*\"innovative\" + 0.013*\"manager\"'),\n",
      " (2,\n",
      "  '0.377*\"great\" + 0.091*\"work\" + 0.078*\"benefit\" + 0.039*\"sourcer\" + '\n",
      "  '0.039*\"operation\" + 0.026*\"create\" + 0.026*\"perk\" + 0.026*\"love\" + '\n",
      "  '0.026*\"move\" + 0.026*\"team\"'),\n",
      " (3,\n",
      "  '0.430*\"place\" + 0.063*\"workplace\" + 0.038*\"excellent\" + 0.038*\"senior\" + '\n",
      "  '0.038*\"incredible\" + 0.025*\"worth\" + 0.025*\"content\" + 0.025*\"drive\" + '\n",
      "  '0.013*\"glassdoor\" + 0.013*\"specialist\"'),\n",
      " (4,\n",
      "  '0.299*\"great\" + 0.179*\"job\" + 0.104*\"experience\" + 0.045*\"talent\" + '\n",
      "  '0.030*\"corporate\" + 0.015*\"phenomenal\" + 0.015*\"impactful\" + '\n",
      "  '0.015*\"autonomy\" + 0.015*\"balance\" + 0.015*\"positive\"'),\n",
      " (5,\n",
      "  '0.722*\"work\" + 0.025*\"program\" + 0.025*\"diverse\" + 0.025*\"compensation\" + '\n",
      "  '0.013*\"pretty\" + 0.013*\"area\" + 0.013*\"play\" + 0.013*\"recruiter\" + '\n",
      "  '0.013*\"enjoyable\" + 0.013*\"hq\"'),\n",
      " (6,\n",
      "  '0.586*\"good\" + 0.071*\"bad\" + 0.057*\"internship\" + 0.043*\"employee\" + '\n",
      "  '0.029*\"convert\" + 0.014*\"find\" + 0.014*\"monkey\" + 0.014*\"finance\" + '\n",
      "  '0.014*\"interesting\" + 0.014*\"reward\"'),\n",
      " (7,\n",
      "  '0.300*\"good\" + 0.188*\"amazing\" + 0.100*\"love\" + 0.037*\"perk\" + '\n",
      "  '0.037*\"office\" + 0.025*\"interesting\" + 0.025*\"experience\" + 0.025*\"day\" + '\n",
      "  '0.013*\"talentb\" + 0.013*\"imo\"'),\n",
      " (8,\n",
      "  '0.393*\"engineer\" + 0.333*\"software\" + 0.024*\"recruit\" + 0.024*\"supportive\" '\n",
      "  '+ 0.012*\"intern\" + 0.012*\"perspective\" + 0.012*\"day\" + 0.012*\"phd\" + '\n",
      "  '0.012*\"colleague\" + 0.012*\"laugh\"'),\n",
      " (9,\n",
      "  '0.451*\"facebook\" + 0.085*\"environment\" + 0.070*\"tech\" + 0.056*\"grow\" + '\n",
      "  '0.042*\"time\" + 0.028*\"life\" + 0.014*\"simply\" + 0.014*\"health\" + 0.014*\"due\" '\n",
      "  '+ 0.014*\"seattle\"'),\n",
      " (10,\n",
      "  '0.348*\"company\" + 0.116*\"impact\" + 0.072*\"review\" + 0.058*\"ship\" + '\n",
      "  '0.043*\"rewarding\" + 0.029*\"work\" + 0.029*\"technician\" + '\n",
      "  '0.014*\"marginalized\" + 0.014*\"promote\" + 0.014*\"technology\"'),\n",
      " (11,\n",
      "  '0.222*\"culture\" + 0.111*\"challenge\" + 0.056*\"life\" + 0.042*\"inspire\" + '\n",
      "  '0.028*\"grow\" + 0.028*\"engineering\" + 0.028*\"team\" + 0.028*\"focus\" + '\n",
      "  '0.014*\"paced\" + 0.014*\"large\"'),\n",
      " (12,\n",
      "  '0.299*\"work\" + 0.195*\"manager\" + 0.065*\"engineering\" + 0.052*\"balance\" + '\n",
      "  '0.039*\"incompetent\" + 0.026*\"mission\" + 0.026*\"imagine\" + 0.026*\"fantastic\" '\n",
      "  '+ 0.013*\"wonderfully\" + 0.013*\"structure\"'),\n",
      " (13,\n",
      "  '0.169*\"people\" + 0.155*\"amazing\" + 0.127*\"place\" + 0.113*\"growth\" + '\n",
      "  '0.056*\"learn\" + 0.042*\"coordinator\" + 0.028*\"production\" + 0.028*\"perfect\" '\n",
      "  '+ 0.014*\"future\" + 0.014*\"free\"'),\n",
      " (14,\n",
      "  '0.365*\"company\" + 0.176*\"awesome\" + 0.149*\"culture\" + 0.041*\"growth\" + '\n",
      "  '0.027*\"limit\" + 0.027*\"care\" + 0.014*\"insight\" + 0.014*\"bit\" + '\n",
      "  '0.014*\"elite\" + 0.014*\"pain\"'),\n",
      " (15,\n",
      "  '0.464*\"work\" + 0.119*\"good\" + 0.048*\"tech\" + 0.036*\"incredibly\" + '\n",
      "  '0.036*\"year\" + 0.024*\"program\" + 0.024*\"sourcer\" + 0.012*\"move\" + '\n",
      "  '0.012*\"soul\" + 0.012*\"drive\"'),\n",
      " (16,\n",
      "  '0.161*\"technical\" + 0.089*\"specialist\" + 0.089*\"good\" + 0.054*\"happy\" + '\n",
      "  '0.036*\"benefit\" + 0.036*\"move\" + 0.036*\"lot\" + 0.018*\"malfunction\" + '\n",
      "  '0.018*\"partner\" + 0.018*\"solid\"'),\n",
      " (17,\n",
      "  '0.394*\"company\" + 0.091*\"operation\" + 0.076*\"fun\" + 0.076*\"recruit\" + '\n",
      "  '0.045*\"community\" + 0.045*\"director\" + 0.030*\"management\" + '\n",
      "  '0.015*\"meaningful\" + 0.015*\"month\" + 0.015*\"phenomenal\"'),\n",
      " (18,\n",
      "  '0.138*\"fast\" + 0.121*\"big\" + 0.103*\"product\" + 0.086*\"employee\" + '\n",
      "  '0.069*\"wonderful\" + 0.069*\"open\" + 0.052*\"make\" + 0.052*\"stay\" + '\n",
      "  '0.052*\"leave\" + 0.034*\"university\"'),\n",
      " (19,\n",
      "  '0.145*\"career\" + 0.109*\"recruiter\" + 0.091*\"start\" + 0.055*\"lot\" + '\n",
      "  '0.055*\"fantastic\" + 0.055*\"leadership\" + 0.036*\"contractor\" + 0.036*\"smart\" '\n",
      "  '+ 0.018*\"highly\" + 0.018*\"embrace\"')]\n"
     ]
    }
   ],
   "source": [
    "# Select the model with highest coherence value and print the topics\n",
    "optimal_model = model_list[3] # the 3rd index from above output\n",
    "model_topics = optimal_model.show_topics(formatted=False)\n",
    "pprint(optimal_model.print_topics(num_words=10)) # set num_words parament to show 10 words per topic"
   ]
  },
  {
   "cell_type": "markdown",
   "metadata": {
    "heading_collapsed": true,
    "hidden": true
   },
   "source": [
    "### Visual the Optimal LDA Mallet Model"
   ]
  },
  {
   "cell_type": "code",
   "execution_count": 80,
   "metadata": {
    "hidden": true
   },
   "outputs": [
    {
     "data": {
      "image/png": "[encoded data removed]",
      "text/plain": [
       "<Figure size 720x720 with 4 Axes>"
      ]
     },
     "metadata": {
      "needs_background": "light"
     },
     "output_type": "display_data"
    }
   ],
   "source": [
    "# Wordcloud of Top N words in each topic\n",
    "from matplotlib import pyplot as plt\n",
    "from wordcloud import WordCloud, STOPWORDS\n",
    "import matplotlib.colors as mcolors\n",
    "\n",
    "cols = [color for name, color in mcolors.TABLEAU_COLORS.items()]  # more colors: 'mcolors.XKCD_COLORS'\n",
    "\n",
    "cloud = WordCloud(stopwords=stop_words,\n",
    "                  background_color='white',\n",
    "                  width=2500,\n",
    "                  height=1800,\n",
    "                  max_words=10,\n",
    "                  colormap='tab10',\n",
    "                  color_func=lambda *args, **kwargs: cols[i],\n",
    "                  prefer_horizontal=1.0)\n",
    "\n",
    "topics = optimal_model.show_topics(formatted=False)\n",
    "\n",
    "fig, axes = plt.subplots(2, 2, figsize=(10,10), sharex=True, sharey=True)\n",
    "\n",
    "for i, ax in enumerate(axes.flatten()):\n",
    "    fig.add_subplot(ax)\n",
    "    topic_words = dict(topics[i][1])\n",
    "    cloud.generate_from_frequencies(topic_words, max_font_size=300)\n",
    "    plt.gca().imshow(cloud)\n",
    "    plt.gca().set_title('Topic ' + str(i), fontdict=dict(size=16))\n",
    "    plt.gca().axis('off')\n",
    "\n",
    "\n",
    "plt.subplots_adjust(wspace=0, hspace=0)\n",
    "plt.axis('off')\n",
    "plt.margins(x=0, y=0)\n",
    "plt.tight_layout()\n",
    "plt.show()"
   ]
  },
  {
   "cell_type": "markdown",
   "metadata": {
    "heading_collapsed": true,
    "hidden": true
   },
   "source": [
    "## Analysis"
   ]
  },
  {
   "cell_type": "markdown",
   "metadata": {
    "heading_collapsed": true,
    "hidden": true
   },
   "source": [
    "### Finding topics for each document"
   ]
  },
  {
   "cell_type": "code",
   "execution_count": 81,
   "metadata": {
    "hidden": true
   },
   "outputs": [
    {
     "data": {
      "text/html": [
       "<div>\n",
       "<style scoped>\n",
       "    .dataframe tbody tr th:only-of-type {\n",
       "        vertical-align: middle;\n",
       "    }\n",
       "\n",
       "    .dataframe tbody tr th {\n",
       "        vertical-align: top;\n",
       "    }\n",
       "\n",
       "    .dataframe thead th {\n",
       "        text-align: right;\n",
       "    }\n",
       "</style>\n",
       "<table border=\"1\" class=\"dataframe\">\n",
       "  <thead>\n",
       "    <tr style=\"text-align: right;\">\n",
       "      <th></th>\n",
       "      <th>Document_No</th>\n",
       "      <th>Dominant_Topic</th>\n",
       "      <th>Topic_Perc_Contrib</th>\n",
       "      <th>Keywords</th>\n",
       "      <th>Document</th>\n",
       "    </tr>\n",
       "  </thead>\n",
       "  <tbody>\n",
       "    <tr>\n",
       "      <th>0</th>\n",
       "      <td>0</td>\n",
       "      <td>4.0</td>\n",
       "      <td>0.0772</td>\n",
       "      <td>great, job, experience, talent, corporate, phe...</td>\n",
       "      <td>nd Job out of college  Great Experience</td>\n",
       "    </tr>\n",
       "    <tr>\n",
       "      <th>1</th>\n",
       "      <td>1</td>\n",
       "      <td>18.0</td>\n",
       "      <td>0.0731</td>\n",
       "      <td>fast, big, product, employee, wonderful, open,...</td>\n",
       "      <td>Fast paced company with high expectations but ...</td>\n",
       "    </tr>\n",
       "    <tr>\n",
       "      <th>2</th>\n",
       "      <td>2</td>\n",
       "      <td>14.0</td>\n",
       "      <td>0.0673</td>\n",
       "      <td>company, awesome, culture, growth, limit, care...</td>\n",
       "      <td>Pleasantly Surprised</td>\n",
       "    </tr>\n",
       "    <tr>\n",
       "      <th>3</th>\n",
       "      <td>3</td>\n",
       "      <td>1.0</td>\n",
       "      <td>0.0673</td>\n",
       "      <td>great, contract, passionate, emotion, chaos, c...</td>\n",
       "      <td>Dont believe all of the negative press</td>\n",
       "    </tr>\n",
       "    <tr>\n",
       "      <th>4</th>\n",
       "      <td>4</td>\n",
       "      <td>3.0</td>\n",
       "      <td>0.0660</td>\n",
       "      <td>place, workplace, excellent, senior, incredibl...</td>\n",
       "      <td>Continues to be an amazing place to be</td>\n",
       "    </tr>\n",
       "    <tr>\n",
       "      <th>5</th>\n",
       "      <td>5</td>\n",
       "      <td>19.0</td>\n",
       "      <td>0.0962</td>\n",
       "      <td>career, recruiter, start, lot, fantastic, lead...</td>\n",
       "      <td>AVOID FB incompetent management bias against w...</td>\n",
       "    </tr>\n",
       "    <tr>\n",
       "      <th>6</th>\n",
       "      <td>6</td>\n",
       "      <td>17.0</td>\n",
       "      <td>0.0643</td>\n",
       "      <td>company, operation, fun, recruit, community, d...</td>\n",
       "      <td>Recruiting</td>\n",
       "    </tr>\n",
       "    <tr>\n",
       "      <th>7</th>\n",
       "      <td>7</td>\n",
       "      <td>14.0</td>\n",
       "      <td>0.0677</td>\n",
       "      <td>company, awesome, culture, growth, limit, care...</td>\n",
       "      <td>Not for everyone high stress and company growi...</td>\n",
       "    </tr>\n",
       "    <tr>\n",
       "      <th>8</th>\n",
       "      <td>8</td>\n",
       "      <td>7.0</td>\n",
       "      <td>0.0673</td>\n",
       "      <td>good, amazing, love, perk, office, interesting...</td>\n",
       "      <td>Loves its employees</td>\n",
       "    </tr>\n",
       "    <tr>\n",
       "      <th>9</th>\n",
       "      <td>9</td>\n",
       "      <td>1.0</td>\n",
       "      <td>0.0566</td>\n",
       "      <td>great, contract, passionate, emotion, chaos, c...</td>\n",
       "      <td>Great company</td>\n",
       "    </tr>\n",
       "  </tbody>\n",
       "</table>\n",
       "</div>"
      ],
      "text/plain": [
       "   Document_No  Dominant_Topic  Topic_Perc_Contrib  \\\n",
       "0            0             4.0              0.0772   \n",
       "1            1            18.0              0.0731   \n",
       "2            2            14.0              0.0673   \n",
       "3            3             1.0              0.0673   \n",
       "4            4             3.0              0.0660   \n",
       "5            5            19.0              0.0962   \n",
       "6            6            17.0              0.0643   \n",
       "7            7            14.0              0.0677   \n",
       "8            8             7.0              0.0673   \n",
       "9            9             1.0              0.0566   \n",
       "\n",
       "                                            Keywords  \\\n",
       "0  great, job, experience, talent, corporate, phe...   \n",
       "1  fast, big, product, employee, wonderful, open,...   \n",
       "2  company, awesome, culture, growth, limit, care...   \n",
       "3  great, contract, passionate, emotion, chaos, c...   \n",
       "4  place, workplace, excellent, senior, incredibl...   \n",
       "5  career, recruiter, start, lot, fantastic, lead...   \n",
       "6  company, operation, fun, recruit, community, d...   \n",
       "7  company, awesome, culture, growth, limit, care...   \n",
       "8  good, amazing, love, perk, office, interesting...   \n",
       "9  great, contract, passionate, emotion, chaos, c...   \n",
       "\n",
       "                                            Document  \n",
       "0            nd Job out of college  Great Experience  \n",
       "1  Fast paced company with high expectations but ...  \n",
       "2                               Pleasantly Surprised  \n",
       "3             Dont believe all of the negative press  \n",
       "4             Continues to be an amazing place to be  \n",
       "5  AVOID FB incompetent management bias against w...  \n",
       "6                                         Recruiting  \n",
       "7  Not for everyone high stress and company growi...  \n",
       "8                                Loves its employees  \n",
       "9                                      Great company  "
      ]
     },
     "execution_count": 81,
     "metadata": {},
     "output_type": "execute_result"
    }
   ],
   "source": [
    "def format_topics_sentences(ldamodel=optimal_model, corpus=corpus, texts=data):\n",
    "    # Create DataFrame\n",
    "    sent_topics_df = pd.DataFrame()\n",
    "\n",
    "    # Get dominant topic in each document\n",
    "    for i, row in enumerate(ldamodel[corpus]):                   # call the optimal_model from LdaMallet (ldamodel=optimal_model)\n",
    "        row = sorted(row, key=lambda x: (x[1]), reverse=True)    # sort the dominant topic for each document (use row[0] for windows)\n",
    "        \n",
    "        \n",
    "        # Get the Dominant topic, Perc Contribution and Keywords for each document\n",
    "        for j, (topic_num, prop_topic) in enumerate(row):\n",
    "            if j == 0:                                           # dominant topic\n",
    "                wp = ldamodel.show_topic(topic_num)              # show the dominant topic column (topic_num)\n",
    "                topic_keywords = \", \".join([word for word, prop in wp])   # add keywords column to each dominant topic column\n",
    "                sent_topics_df = sent_topics_df.append(pd.Series([int(topic_num), round(prop_topic,4), topic_keywords]), ignore_index=True)\n",
    "                # add to dataframe columns: dominant topic (topic_num), perc_contribution (prop_topic (4 decimal)),\n",
    "                # and keywords (topic_keywords)\n",
    "            else:\n",
    "                break\n",
    "    sent_topics_df.columns = ['Dominant_Topic', 'Perc_Contribution', 'Topic_Keywords'] # create dataframe title\n",
    "    # Essentially, we sort the dominant topic for each document,\n",
    "    # Then we add keywords column to each dominant topic column for each document, and append it to our sent_topics_df dataframe\n",
    "    # (dataframe now include: dominant topic (topic_num), perc_contribution (prop_topic (4 decimal)), and keywords (topic_keywords))\n",
    "    # Note that prop_topic is perc_contribution from output of keywords and their respective weights (ie. 'window', 0.0235866)\n",
    "    # Finally name the dataframe columns for topic_num, prop_topic, topic_keywords to Dominant_topic, Perc_Contribution and Topic_Keywords\n",
    "    \n",
    "        \n",
    "    # Add original text to the end of the output (recall that texts = data_lemmatized)\n",
    "    contents = pd.Series(texts)\n",
    "    sent_topics_df = pd.concat([sent_topics_df, contents], axis=1)\n",
    "    return(sent_topics_df)\n",
    "    # we take out sent_topics_df dataframe that is configured, and add our texts to it\n",
    "\n",
    "    \n",
    "df_topic_sents_keywords = format_topics_sentences(ldamodel=optimal_model, corpus=corpus, texts=data)\n",
    "# texts=data since that is what we assigned in the format_topics_sentences function, but in the function we already\n",
    "# called and added our data (texts=data_lemmatized) to the dataframe, which is why now we use texts=data default parameter\n",
    "\n",
    "\n",
    "# Format\n",
    "df_dominant_topic = df_topic_sents_keywords.reset_index()       # re-index\n",
    "df_dominant_topic.columns = ['Document_No', 'Dominant_Topic', 'Topic_Perc_Contrib', 'Keywords', 'Document']\n",
    "# name all the columns for the DataFrame\n",
    "\n",
    "# Show\n",
    "df_dominant_topic.head(10)"
   ]
  },
  {
   "cell_type": "markdown",
   "metadata": {
    "heading_collapsed": true,
    "hidden": true
   },
   "source": [
    "### Finding documents for each topic"
   ]
  },
  {
   "cell_type": "code",
   "execution_count": 82,
   "metadata": {
    "hidden": true
   },
   "outputs": [
    {
     "data": {
      "text/html": [
       "<div>\n",
       "<style scoped>\n",
       "    .dataframe tbody tr th:only-of-type {\n",
       "        vertical-align: middle;\n",
       "    }\n",
       "\n",
       "    .dataframe tbody tr th {\n",
       "        vertical-align: top;\n",
       "    }\n",
       "\n",
       "    .dataframe thead th {\n",
       "        text-align: right;\n",
       "    }\n",
       "</style>\n",
       "<table border=\"1\" class=\"dataframe\">\n",
       "  <thead>\n",
       "    <tr style=\"text-align: right;\">\n",
       "      <th></th>\n",
       "      <th>Topic_Num</th>\n",
       "      <th>Topic_Perc_Contrib</th>\n",
       "      <th>Keywords</th>\n",
       "      <th>Document</th>\n",
       "    </tr>\n",
       "  </thead>\n",
       "  <tbody>\n",
       "    <tr>\n",
       "      <th>0</th>\n",
       "      <td>0.0</td>\n",
       "      <td>0.0854</td>\n",
       "      <td>place, hard, positive, worklife, hype, news, t...</td>\n",
       "      <td>Work hard play hard</td>\n",
       "    </tr>\n",
       "    <tr>\n",
       "      <th>1</th>\n",
       "      <td>1.0</td>\n",
       "      <td>0.0765</td>\n",
       "      <td>great, contract, passionate, emotion, chaos, c...</td>\n",
       "      <td>Great compensation if you can cut it</td>\n",
       "    </tr>\n",
       "    <tr>\n",
       "      <th>2</th>\n",
       "      <td>2.0</td>\n",
       "      <td>0.0784</td>\n",
       "      <td>great, work, benefit, sourcer, operation, crea...</td>\n",
       "      <td>Great benefits but mileage may vary depending ...</td>\n",
       "    </tr>\n",
       "    <tr>\n",
       "      <th>3</th>\n",
       "      <td>3.0</td>\n",
       "      <td>0.0764</td>\n",
       "      <td>place, workplace, excellent, senior, incredibl...</td>\n",
       "      <td>Excellent place to start Meh place to stay</td>\n",
       "    </tr>\n",
       "    <tr>\n",
       "      <th>4</th>\n",
       "      <td>4.0</td>\n",
       "      <td>0.0833</td>\n",
       "      <td>great, job, experience, talent, corporate, phe...</td>\n",
       "      <td>Great experience  love my job</td>\n",
       "    </tr>\n",
       "    <tr>\n",
       "      <th>5</th>\n",
       "      <td>5.0</td>\n",
       "      <td>0.0694</td>\n",
       "      <td>work, program, diverse, compensation, pretty, ...</td>\n",
       "      <td>Great perks good compensation but if you dont ...</td>\n",
       "    </tr>\n",
       "    <tr>\n",
       "      <th>6</th>\n",
       "      <td>6.0</td>\n",
       "      <td>0.0813</td>\n",
       "      <td>good, bad, internship, employee, convert, find...</td>\n",
       "      <td>Obvious pros but cons are real</td>\n",
       "    </tr>\n",
       "    <tr>\n",
       "      <th>7</th>\n",
       "      <td>7.0</td>\n",
       "      <td>0.0843</td>\n",
       "      <td>good, amazing, love, perk, office, interesting...</td>\n",
       "      <td>My worst day at Facebook is my best day at any...</td>\n",
       "    </tr>\n",
       "    <tr>\n",
       "      <th>8</th>\n",
       "      <td>8.0</td>\n",
       "      <td>0.0960</td>\n",
       "      <td>engineer, software, recruit, supportive, inter...</td>\n",
       "      <td>Software Engineering PhD Intern Summer</td>\n",
       "    </tr>\n",
       "    <tr>\n",
       "      <th>9</th>\n",
       "      <td>9.0</td>\n",
       "      <td>0.0865</td>\n",
       "      <td>facebook, environment, tech, grow, time, life,...</td>\n",
       "      <td>Facebook Environment</td>\n",
       "    </tr>\n",
       "    <tr>\n",
       "      <th>10</th>\n",
       "      <td>10.0</td>\n",
       "      <td>0.1204</td>\n",
       "      <td>company, impact, review, ship, rewarding, work...</td>\n",
       "      <td>Ship ship ship ship</td>\n",
       "    </tr>\n",
       "    <tr>\n",
       "      <th>11</th>\n",
       "      <td>11.0</td>\n",
       "      <td>0.0923</td>\n",
       "      <td>culture, challenge, life, inspire, grow, engin...</td>\n",
       "      <td>Great culture Visionary CEO Inspiring COO</td>\n",
       "    </tr>\n",
       "    <tr>\n",
       "      <th>12</th>\n",
       "      <td>12.0</td>\n",
       "      <td>0.0967</td>\n",
       "      <td>work, manager, engineering, balance, incompete...</td>\n",
       "      <td>Talent colleagues terrible work life balance a...</td>\n",
       "    </tr>\n",
       "    <tr>\n",
       "      <th>13</th>\n",
       "      <td>13.0</td>\n",
       "      <td>0.0833</td>\n",
       "      <td>people, amazing, place, growth, learn, coordin...</td>\n",
       "      <td>Perfect company for people growing</td>\n",
       "    </tr>\n",
       "    <tr>\n",
       "      <th>14</th>\n",
       "      <td>14.0</td>\n",
       "      <td>0.0807</td>\n",
       "      <td>company, awesome, culture, growth, limit, care...</td>\n",
       "      <td>Amazed doesnt begin to describe it</td>\n",
       "    </tr>\n",
       "    <tr>\n",
       "      <th>15</th>\n",
       "      <td>15.0</td>\n",
       "      <td>0.0751</td>\n",
       "      <td>work, good, tech, incredibly, year, program, s...</td>\n",
       "      <td>Great Tech Firm to Work For</td>\n",
       "    </tr>\n",
       "    <tr>\n",
       "      <th>16</th>\n",
       "      <td>16.0</td>\n",
       "      <td>0.0828</td>\n",
       "      <td>technical, specialist, good, happy, benefit, m...</td>\n",
       "      <td>Account Partner on Retail</td>\n",
       "    </tr>\n",
       "    <tr>\n",
       "      <th>17</th>\n",
       "      <td>17.0</td>\n",
       "      <td>0.0823</td>\n",
       "      <td>company, operation, fun, recruit, community, d...</td>\n",
       "      <td>Technical Recruiting at One of the Premiere Co...</td>\n",
       "    </tr>\n",
       "    <tr>\n",
       "      <th>18</th>\n",
       "      <td>18.0</td>\n",
       "      <td>0.1121</td>\n",
       "      <td>fast, big, product, employee, wonderful, open,...</td>\n",
       "      <td>Move fast while making big bets for big impact</td>\n",
       "    </tr>\n",
       "    <tr>\n",
       "      <th>19</th>\n",
       "      <td>19.0</td>\n",
       "      <td>0.0962</td>\n",
       "      <td>career, recruiter, start, lot, fantastic, lead...</td>\n",
       "      <td>AVOID FB incompetent management bias against w...</td>\n",
       "    </tr>\n",
       "  </tbody>\n",
       "</table>\n",
       "</div>"
      ],
      "text/plain": [
       "    Topic_Num  Topic_Perc_Contrib  \\\n",
       "0         0.0              0.0854   \n",
       "1         1.0              0.0765   \n",
       "2         2.0              0.0784   \n",
       "3         3.0              0.0764   \n",
       "4         4.0              0.0833   \n",
       "5         5.0              0.0694   \n",
       "6         6.0              0.0813   \n",
       "7         7.0              0.0843   \n",
       "8         8.0              0.0960   \n",
       "9         9.0              0.0865   \n",
       "10       10.0              0.1204   \n",
       "11       11.0              0.0923   \n",
       "12       12.0              0.0967   \n",
       "13       13.0              0.0833   \n",
       "14       14.0              0.0807   \n",
       "15       15.0              0.0751   \n",
       "16       16.0              0.0828   \n",
       "17       17.0              0.0823   \n",
       "18       18.0              0.1121   \n",
       "19       19.0              0.0962   \n",
       "\n",
       "                                             Keywords  \\\n",
       "0   place, hard, positive, worklife, hype, news, t...   \n",
       "1   great, contract, passionate, emotion, chaos, c...   \n",
       "2   great, work, benefit, sourcer, operation, crea...   \n",
       "3   place, workplace, excellent, senior, incredibl...   \n",
       "4   great, job, experience, talent, corporate, phe...   \n",
       "5   work, program, diverse, compensation, pretty, ...   \n",
       "6   good, bad, internship, employee, convert, find...   \n",
       "7   good, amazing, love, perk, office, interesting...   \n",
       "8   engineer, software, recruit, supportive, inter...   \n",
       "9   facebook, environment, tech, grow, time, life,...   \n",
       "10  company, impact, review, ship, rewarding, work...   \n",
       "11  culture, challenge, life, inspire, grow, engin...   \n",
       "12  work, manager, engineering, balance, incompete...   \n",
       "13  people, amazing, place, growth, learn, coordin...   \n",
       "14  company, awesome, culture, growth, limit, care...   \n",
       "15  work, good, tech, incredibly, year, program, s...   \n",
       "16  technical, specialist, good, happy, benefit, m...   \n",
       "17  company, operation, fun, recruit, community, d...   \n",
       "18  fast, big, product, employee, wonderful, open,...   \n",
       "19  career, recruiter, start, lot, fantastic, lead...   \n",
       "\n",
       "                                             Document  \n",
       "0                                 Work hard play hard  \n",
       "1                Great compensation if you can cut it  \n",
       "2   Great benefits but mileage may vary depending ...  \n",
       "3          Excellent place to start Meh place to stay  \n",
       "4                       Great experience  love my job  \n",
       "5   Great perks good compensation but if you dont ...  \n",
       "6                      Obvious pros but cons are real  \n",
       "7   My worst day at Facebook is my best day at any...  \n",
       "8              Software Engineering PhD Intern Summer  \n",
       "9                                Facebook Environment  \n",
       "10                                Ship ship ship ship  \n",
       "11          Great culture Visionary CEO Inspiring COO  \n",
       "12  Talent colleagues terrible work life balance a...  \n",
       "13                 Perfect company for people growing  \n",
       "14                 Amazed doesnt begin to describe it  \n",
       "15                        Great Tech Firm to Work For  \n",
       "16                          Account Partner on Retail  \n",
       "17  Technical Recruiting at One of the Premiere Co...  \n",
       "18     Move fast while making big bets for big impact  \n",
       "19  AVOID FB incompetent management bias against w...  "
      ]
     },
     "execution_count": 82,
     "metadata": {},
     "output_type": "execute_result"
    }
   ],
   "source": [
    "# Group top 20 documents for the 20 dominant topic\n",
    "sent_topics_sorteddf_mallet = pd.DataFrame() # Create a new DataFrame for our analysis\n",
    "\n",
    "sent_topics_outdf_grpd = df_topic_sents_keywords.groupby('Dominant_Topic') \n",
    "# Groupyby dominant topics in df_topic_sents_keywords from above (where we derived the DataFrame showing dominant topic for each document)\n",
    "\n",
    "for i, grp in sent_topics_outdf_grpd:\n",
    "    sent_topics_sorteddf_mallet = pd.concat([sent_topics_sorteddf_mallet, grp.sort_values(['Perc_Contribution'], ascending=[0]).head(1)], axis=0)\n",
    "# Take sent_topics_sorteddf_mallet DataFrame and combine it with,\n",
    "# the most (head(1)) dominant topic in sent_topcs_outdf_grpd (grp) sort by perc_contribution\n",
    "# Essentially, we take our dataset with dominant topics and group it with texts that has the most contribution for each dominant topic\n",
    "\n",
    "# Reset Index    \n",
    "sent_topics_sorteddf_mallet.reset_index(drop=True, inplace=True)\n",
    "\n",
    "# Format\n",
    "sent_topics_sorteddf_mallet.columns = ['Topic_Num', \"Topic_Perc_Contrib\", \"Keywords\", \"Document\"]\n",
    "\n",
    "# Show the top 20 documents for the 20 dominant topic\n",
    "sent_topics_sorteddf_mallet "
   ]
  },
  {
   "cell_type": "markdown",
   "metadata": {
    "heading_collapsed": true,
    "hidden": true
   },
   "source": [
    "### Document distribution across Topics"
   ]
  },
  {
   "cell_type": "code",
   "execution_count": 83,
   "metadata": {
    "hidden": true
   },
   "outputs": [
    {
     "data": {
      "text/html": [
       "<div>\n",
       "<style scoped>\n",
       "    .dataframe tbody tr th:only-of-type {\n",
       "        vertical-align: middle;\n",
       "    }\n",
       "\n",
       "    .dataframe tbody tr th {\n",
       "        vertical-align: top;\n",
       "    }\n",
       "\n",
       "    .dataframe thead th {\n",
       "        text-align: right;\n",
       "    }\n",
       "</style>\n",
       "<table border=\"1\" class=\"dataframe\">\n",
       "  <thead>\n",
       "    <tr style=\"text-align: right;\">\n",
       "      <th></th>\n",
       "      <th>Dominant Topic</th>\n",
       "      <th>Num_Document</th>\n",
       "      <th>Perc_Document</th>\n",
       "    </tr>\n",
       "  </thead>\n",
       "  <tbody>\n",
       "    <tr>\n",
       "      <th>0</th>\n",
       "      <td>0.0</td>\n",
       "      <td>41</td>\n",
       "      <td>0.082</td>\n",
       "    </tr>\n",
       "    <tr>\n",
       "      <th>1</th>\n",
       "      <td>1.0</td>\n",
       "      <td>29</td>\n",
       "      <td>0.058</td>\n",
       "    </tr>\n",
       "    <tr>\n",
       "      <th>2</th>\n",
       "      <td>2.0</td>\n",
       "      <td>16</td>\n",
       "      <td>0.032</td>\n",
       "    </tr>\n",
       "    <tr>\n",
       "      <th>3</th>\n",
       "      <td>3.0</td>\n",
       "      <td>26</td>\n",
       "      <td>0.052</td>\n",
       "    </tr>\n",
       "    <tr>\n",
       "      <th>4</th>\n",
       "      <td>4.0</td>\n",
       "      <td>24</td>\n",
       "      <td>0.048</td>\n",
       "    </tr>\n",
       "    <tr>\n",
       "      <th>5</th>\n",
       "      <td>5.0</td>\n",
       "      <td>15</td>\n",
       "      <td>0.030</td>\n",
       "    </tr>\n",
       "    <tr>\n",
       "      <th>6</th>\n",
       "      <td>6.0</td>\n",
       "      <td>39</td>\n",
       "      <td>0.078</td>\n",
       "    </tr>\n",
       "    <tr>\n",
       "      <th>7</th>\n",
       "      <td>7.0</td>\n",
       "      <td>22</td>\n",
       "      <td>0.044</td>\n",
       "    </tr>\n",
       "    <tr>\n",
       "      <th>8</th>\n",
       "      <td>8.0</td>\n",
       "      <td>40</td>\n",
       "      <td>0.080</td>\n",
       "    </tr>\n",
       "    <tr>\n",
       "      <th>9</th>\n",
       "      <td>9.0</td>\n",
       "      <td>29</td>\n",
       "      <td>0.058</td>\n",
       "    </tr>\n",
       "    <tr>\n",
       "      <th>10</th>\n",
       "      <td>10.0</td>\n",
       "      <td>23</td>\n",
       "      <td>0.046</td>\n",
       "    </tr>\n",
       "    <tr>\n",
       "      <th>11</th>\n",
       "      <td>11.0</td>\n",
       "      <td>26</td>\n",
       "      <td>0.052</td>\n",
       "    </tr>\n",
       "    <tr>\n",
       "      <th>12</th>\n",
       "      <td>12.0</td>\n",
       "      <td>21</td>\n",
       "      <td>0.042</td>\n",
       "    </tr>\n",
       "    <tr>\n",
       "      <th>13</th>\n",
       "      <td>13.0</td>\n",
       "      <td>28</td>\n",
       "      <td>0.056</td>\n",
       "    </tr>\n",
       "    <tr>\n",
       "      <th>14</th>\n",
       "      <td>14.0</td>\n",
       "      <td>23</td>\n",
       "      <td>0.046</td>\n",
       "    </tr>\n",
       "    <tr>\n",
       "      <th>15</th>\n",
       "      <td>15.0</td>\n",
       "      <td>18</td>\n",
       "      <td>0.036</td>\n",
       "    </tr>\n",
       "    <tr>\n",
       "      <th>16</th>\n",
       "      <td>16.0</td>\n",
       "      <td>21</td>\n",
       "      <td>0.042</td>\n",
       "    </tr>\n",
       "    <tr>\n",
       "      <th>17</th>\n",
       "      <td>17.0</td>\n",
       "      <td>15</td>\n",
       "      <td>0.030</td>\n",
       "    </tr>\n",
       "    <tr>\n",
       "      <th>18</th>\n",
       "      <td>18.0</td>\n",
       "      <td>23</td>\n",
       "      <td>0.046</td>\n",
       "    </tr>\n",
       "    <tr>\n",
       "      <th>19</th>\n",
       "      <td>19.0</td>\n",
       "      <td>21</td>\n",
       "      <td>0.042</td>\n",
       "    </tr>\n",
       "  </tbody>\n",
       "</table>\n",
       "</div>"
      ],
      "text/plain": [
       "    Dominant Topic  Num_Document  Perc_Document\n",
       "0              0.0            41          0.082\n",
       "1              1.0            29          0.058\n",
       "2              2.0            16          0.032\n",
       "3              3.0            26          0.052\n",
       "4              4.0            24          0.048\n",
       "5              5.0            15          0.030\n",
       "6              6.0            39          0.078\n",
       "7              7.0            22          0.044\n",
       "8              8.0            40          0.080\n",
       "9              9.0            29          0.058\n",
       "10            10.0            23          0.046\n",
       "11            11.0            26          0.052\n",
       "12            12.0            21          0.042\n",
       "13            13.0            28          0.056\n",
       "14            14.0            23          0.046\n",
       "15            15.0            18          0.036\n",
       "16            16.0            21          0.042\n",
       "17            17.0            15          0.030\n",
       "18            18.0            23          0.046\n",
       "19            19.0            21          0.042"
      ]
     },
     "execution_count": 83,
     "metadata": {},
     "output_type": "execute_result"
    }
   ],
   "source": [
    "# Number of Documents for Each Topic\n",
    "topic_counts = df_topic_sents_keywords['Dominant_Topic'].value_counts()\n",
    "\n",
    "# Percentage of overall Documents for Each Topic (round to 4 decimals)\n",
    "topic_contribution = round(topic_counts/topic_counts.sum(), 4)\n",
    "\n",
    "# Total Dominant Topic Number\n",
    "topic_num_keywords = {'Topic_Num': pd.Series([0.0,1.0,2.0,3.0,4.0,5.0,6.0,7.0,8.0,9.0,10.0,\n",
    "                                              11.0,12.0,13.0,14.0,15.0,16.0,17.0,18.0,19.0])}\n",
    "topic_num_keywords = pd.DataFrame(topic_num_keywords)\n",
    "                      \n",
    "# Concatenate Column wise\n",
    "df_dominant_topics = pd.concat([topic_num_keywords, topic_counts, topic_contribution], axis=1)\n",
    "\n",
    "# Reindex\n",
    "df_dominant_topics.reset_index(drop=True, inplace=True)\n",
    "\n",
    "# Change Column names\n",
    "df_dominant_topics.columns = ['Dominant Topic', 'Num_Document', 'Perc_Document']\n",
    "\n",
    "# Show\n",
    "df_dominant_topics"
   ]
  },
  {
   "cell_type": "markdown",
   "metadata": {
    "heading_collapsed": true,
    "hidden": true
   },
   "source": [
    "## Answering the Questions"
   ]
  },
  {
   "cell_type": "markdown",
   "metadata": {
    "heading_collapsed": true
   },
   "source": [
    "# Topics Analysis for Netflix"
   ]
  },
  {
   "cell_type": "code",
   "execution_count": 84,
   "metadata": {
    "hidden": true
   },
   "outputs": [],
   "source": [
    "# Filters to Netflix only\n",
    "dfn = df[df['company'] == 'netflix']"
   ]
  },
  {
   "cell_type": "code",
   "execution_count": 85,
   "metadata": {
    "hidden": true,
    "scrolled": true
   },
   "outputs": [
    {
     "data": {
      "text/plain": [
       "(810, 1)"
      ]
     },
     "execution_count": 85,
     "metadata": {},
     "output_type": "execute_result"
    }
   ],
   "source": [
    "# Filters the data to the column needed for topic modeling\n",
    "dfn = dfn[['summary']]\n",
    "dfn.shape"
   ]
  },
  {
   "cell_type": "markdown",
   "metadata": {
    "hidden": true
   },
   "source": [
    "810 dataset with 1 type"
   ]
  },
  {
   "cell_type": "code",
   "execution_count": 86,
   "metadata": {
    "hidden": true
   },
   "outputs": [],
   "source": [
    "dfn = dfn.head(500)"
   ]
  },
  {
   "cell_type": "markdown",
   "metadata": {
    "heading_collapsed": true,
    "hidden": true
   },
   "source": [
    "## Data Cleansing"
   ]
  },
  {
   "cell_type": "code",
   "execution_count": 87,
   "metadata": {
    "hidden": true
   },
   "outputs": [],
   "source": [
    "data = dfn['summary'].values.tolist() # convert to list\n",
    "\n",
    "import re\n",
    "data = [re.sub(r'[^a-zA-Z ]+', '', str(sent)) for sent in data] # removes everything except letters and space, str(sent) converts to string"
   ]
  },
  {
   "cell_type": "code",
   "execution_count": 88,
   "metadata": {
    "hidden": true
   },
   "outputs": [
    {
     "name": "stdout",
     "output_type": "stream",
     "text": [
      "['Executive Assistant']\n"
     ]
    }
   ],
   "source": [
    "from pprint import pprint\n",
    "pprint(data[:1])"
   ]
  },
  {
   "cell_type": "markdown",
   "metadata": {
    "heading_collapsed": true,
    "hidden": true
   },
   "source": [
    "## Pre-Processing"
   ]
  },
  {
   "cell_type": "markdown",
   "metadata": {
    "heading_collapsed": true,
    "hidden": true
   },
   "source": [
    "### Tokenization and Additional Cleansing"
   ]
  },
  {
   "cell_type": "code",
   "execution_count": 89,
   "metadata": {
    "hidden": true,
    "scrolled": true
   },
   "outputs": [
    {
     "name": "stdout",
     "output_type": "stream",
     "text": [
      "[['executive', 'assistant']]\n"
     ]
    }
   ],
   "source": [
    "import gensim\n",
    "from gensim.utils import simple_preprocess \n",
    "def sent_to_words(sentences):\n",
    "    for sentence in sentences:\n",
    "        yield(gensim.utils.simple_preprocess(str(sentence), deacc=True)) \n",
    "        # deacc=True removes punctuations\n",
    "        # simple_preprocess to tokenize, and clean up messy text (converts to lowercase and removes punctuations)\n",
    "        \n",
    "data_words = list(sent_to_words(data))\n",
    "\n",
    "print(data_words[:1])   "
   ]
  },
  {
   "cell_type": "markdown",
   "metadata": {
    "heading_collapsed": true,
    "hidden": true
   },
   "source": [
    "### Remove Stopwords"
   ]
  },
  {
   "cell_type": "code",
   "execution_count": 90,
   "metadata": {
    "hidden": true
   },
   "outputs": [],
   "source": [
    "from nltk.corpus import stopwords\n",
    "stop_words = stopwords.words('english')\n",
    "stop_words.extend(['from', 'subject', 're', 'edu', 'use']) # add additional stop words\n",
    "\n",
    "# Define functions for stopwords, bigram, trigram and lemmatization\n",
    "def remove_stopwords(texts):\n",
    "    return [[word for word in simple_preprocess(str(doc)) if word not in stop_words] for doc in texts]\n",
    "    # clean out words using simple_preprocess (gensim) if the words are not already in stop_words (stop_words from NLTK)\n",
    "    \n",
    "# Remove Stop Words from simple_preprocess\n",
    "data_words_nostops = remove_stopwords(data_words)"
   ]
  },
  {
   "cell_type": "markdown",
   "metadata": {
    "heading_collapsed": true,
    "hidden": true
   },
   "source": [
    "### Create and Apply Trigrams"
   ]
  },
  {
   "cell_type": "code",
   "execution_count": 91,
   "metadata": {
    "hidden": true
   },
   "outputs": [],
   "source": [
    "# Build the bigram and trigram models\n",
    "bigram = gensim.models.Phrases(data_words, min_count=5, threshold=100) # higher threshold fewer phrases\n",
    "trigram = gensim.models.Phrases(bigram[data_words], threshold=100)\n",
    "# min_count is minimum 5 letters\n",
    "# threshold is 100 threshold in each word before accepting another word\n",
    "\n",
    "# Faster way to get a sentence clubbed as a trigram/bigram\n",
    "bigram_mod = gensim.models.phrases.Phraser(bigram)\n",
    "trigram_mod = gensim.models.phrases.Phraser(trigram)\n",
    "\n",
    "def make_trigram(texts):\n",
    "    return [trigram_mod[bigram_mod[doc]] for doc in texts]\n",
    "\n",
    "# Form Trigrams from Gensim.models.phrases\n",
    "data_words_trigrams = make_trigram(data_words_nostops)"
   ]
  },
  {
   "cell_type": "markdown",
   "metadata": {
    "heading_collapsed": true,
    "hidden": true
   },
   "source": [
    "### Lemmatize"
   ]
  },
  {
   "cell_type": "code",
   "execution_count": 92,
   "metadata": {
    "hidden": true
   },
   "outputs": [
    {
     "name": "stdout",
     "output_type": "stream",
     "text": [
      "[['executive', 'assistant']]\n"
     ]
    }
   ],
   "source": [
    "def lemmatization(texts, allowed_postags=['NOUN', 'ADJ', 'VERB', 'ADV']): # http://spacy.io/api/annotation\n",
    "    texts_out = [] # creates a list\n",
    "    for sent in texts:\n",
    "        doc = nlp(\" \".join(sent)) # adds English dictionary from Spacy to the texts by instantiating doc\n",
    "        texts_out.append([token.lemma_ for token in doc if token.pos_ in allowed_postags])\n",
    "# adds doc to texts_out list for all base token in doc, if these added doc are from a loose part of the speech in allowed_postags\n",
    "# in other words, every (base) word that comes in will be added to the list, if these (loose) words are a NOUN, ADJ, VERB, or ADV\n",
    "# lemma_ is base form of token and pos_ is lose parts of the speech\n",
    "    return texts_out\n",
    "\n",
    "# texts -> doc -> token\n",
    "# texts -> sent -> doc -> token\n",
    "\n",
    "# Initialize spacy 'en' model, keeping only tagger components (for efficieny)\n",
    "# python -m spacy download en\n",
    "import spacy\n",
    "nlp = spacy.load('en', disable=['parser', 'ner'])\n",
    "\n",
    "# Do lemmatization keeping only noun, adj, vb, adv\n",
    "data_lemmatized = lemmatization(data_words_trigrams, allowed_postags=['NOUN', 'ADJ', 'VERB', 'ADV'])\n",
    "\n",
    "print(data_lemmatized[:1])"
   ]
  },
  {
   "cell_type": "markdown",
   "metadata": {
    "heading_collapsed": true,
    "hidden": true
   },
   "source": [
    "## Prepare Dictionary and Corpus"
   ]
  },
  {
   "cell_type": "code",
   "execution_count": 93,
   "metadata": {
    "hidden": true
   },
   "outputs": [
    {
     "name": "stdout",
     "output_type": "stream",
     "text": [
      "[[(0, 1), (1, 1)]]\n"
     ]
    }
   ],
   "source": [
    "import gensim.corpora as corpora # dictionary\n",
    "\n",
    "# Create dictionary\n",
    "id2word = corpora.Dictionary(data_lemmatized)\n",
    "\n",
    "# Create corpus\n",
    "texts = data_lemmatized\n",
    "\n",
    "# Term document frequency\n",
    "corpus = [id2word.doc2bow(text) for text in texts]\n",
    "\n",
    "# View\n",
    "print(corpus[:1])"
   ]
  },
  {
   "cell_type": "code",
   "execution_count": 94,
   "metadata": {
    "hidden": true
   },
   "outputs": [
    {
     "data": {
      "text/plain": [
       "'assistant'"
      ]
     },
     "execution_count": 94,
     "metadata": {},
     "output_type": "execute_result"
    }
   ],
   "source": [
    "id2word[0]"
   ]
  },
  {
   "cell_type": "code",
   "execution_count": 95,
   "metadata": {
    "hidden": true
   },
   "outputs": [
    {
     "data": {
      "text/plain": [
       "[[('assistant', 1), ('executive', 1)]]"
      ]
     },
     "execution_count": 95,
     "metadata": {},
     "output_type": "execute_result"
    }
   ],
   "source": [
    "# Human readable format of corpus (term-frequency) for the first item\n",
    "[[(id2word[id], freq) for id, freq in cp] for cp in corpus[:1]]"
   ]
  },
  {
   "cell_type": "markdown",
   "metadata": {
    "heading_collapsed": true,
    "hidden": true
   },
   "source": [
    "## LDA Model"
   ]
  },
  {
   "cell_type": "code",
   "execution_count": 96,
   "metadata": {
    "hidden": true
   },
   "outputs": [
    {
     "name": "stdout",
     "output_type": "stream",
     "text": [
      "[(0,\n",
      "  '0.204*\"great\" + 0.160*\"work\" + 0.116*\"place\" + 0.090*\"company\" + '\n",
      "  '0.047*\"engineer\" + 0.027*\"culture\" + 0.026*\"software\" + 0.023*\"senior\" + '\n",
      "  '0.016*\"people\" + 0.008*\"top\"'),\n",
      " (1,\n",
      "  '0.067*\"high\" + 0.066*\"pay\" + 0.048*\"freedom\" + 0.043*\"fast\" + '\n",
      "  '0.034*\"responsibility\" + 0.031*\"reward\" + 0.021*\"paced\" + 0.018*\"team\" + '\n",
      "  '0.018*\"pressure\" + 0.015*\"worth\"'),\n",
      " (2,\n",
      "  '0.055*\"customer\" + 0.037*\"make\" + 0.034*\"service\" + 0.033*\"culture\" + '\n",
      "  '0.031*\"representative\" + 0.027*\"lot\" + 0.025*\"support\" + 0.019*\"be\" + '\n",
      "  '0.018*\"csr\" + 0.016*\"opportunity\"'),\n",
      " (3,\n",
      "  '0.099*\"netflix\" + 0.072*\"experience\" + 0.053*\"culture\" + 0.043*\"year\" + '\n",
      "  '0.033*\"manager\" + 0.026*\"awesome\" + 0.024*\"supervisor\" + 0.020*\"excellent\" '\n",
      "  '+ 0.018*\"management\" + 0.016*\"operation\"'),\n",
      " (4,\n",
      "  '0.082*\"customer\" + 0.075*\"service\" + 0.039*\"much\" + 0.029*\"employee\" + '\n",
      "  '0.022*\"assistant\" + 0.015*\"marketing\" + 0.013*\"competitive\" + 0.013*\"joke\" '\n",
      "  '+ 0.012*\"focus\" + 0.011*\"cost\"'),\n",
      " (5,\n",
      "  '0.120*\"good\" + 0.066*\"job\" + 0.045*\"environment\" + 0.038*\"call\" + '\n",
      "  '0.034*\"center\" + 0.029*\"bad\" + 0.026*\"not\" + 0.026*\"ever\" + 0.025*\"love\" + '\n",
      "  '0.025*\"do\"'),\n",
      " (6,\n",
      "  '0.041*\"amazing\" + 0.023*\"rep\" + 0.021*\"people\" + 0.017*\"netflix\" + '\n",
      "  '0.016*\"everyone\" + 0.016*\"finance\" + 0.015*\"easy\" + 0.015*\"smart\" + '\n",
      "  '0.014*\"analyst\" + 0.014*\"business\"')]\n"
     ]
    }
   ],
   "source": [
    "# Build LDA model\n",
    "lda_model = gensim.models.ldamodel.LdaModel(corpus=corpus, id2word=id2word, num_topics = 7, random_state = 100,\n",
    "                                            update_every = 1, chunksize = 100, passes = 10, alpha = 'auto',\n",
    "                                            per_word_topics=True)\n",
    "# (corpus, dictionary, # of topics, random_state, how often the model parameters should be updated, # of document in each training chunk,\n",
    "# total # of training passes, alpha is hyperparameter that affect sparsity of topics)\n",
    "# Here we use 7 topics\n",
    "\n",
    "# Print the keyword the 7 topics\n",
    "pprint(lda_model.print_topics())\n",
    "doc_lda = lda_model[corpus]"
   ]
  },
  {
   "cell_type": "markdown",
   "metadata": {
    "heading_collapsed": true,
    "hidden": true
   },
   "source": [
    "### LDA Model Performance"
   ]
  },
  {
   "cell_type": "code",
   "execution_count": 97,
   "metadata": {
    "hidden": true
   },
   "outputs": [
    {
     "name": "stdout",
     "output_type": "stream",
     "text": [
      "\n",
      "Perplexity:  -6.063769839232722\n",
      "\n",
      "Coherence Score:  0.6387266805783481\n"
     ]
    }
   ],
   "source": [
    "# Compute perplexity\n",
    "print('\\nPerplexity: ', lda_model.log_perplexity(corpus)) # A measure of how good the model is (lower the better)\n",
    "\n",
    "# Compute coherence score\n",
    "from gensim.models import CoherenceModel\n",
    "coherence_model_lda = CoherenceModel(model=lda_model, texts=data_lemmatized, dictionary=id2word, coherence='c_v')\n",
    "coherence_lda = coherence_model_lda.get_coherence()\n",
    "print('\\nCoherence Score: ', coherence_lda) # high the better"
   ]
  },
  {
   "cell_type": "markdown",
   "metadata": {
    "heading_collapsed": true,
    "hidden": true
   },
   "source": [
    "### Visualize LDA Model"
   ]
  },
  {
   "cell_type": "code",
   "execution_count": 98,
   "metadata": {
    "hidden": true
   },
   "outputs": [
    {
     "data": {
      "text/html": [
       "\n",
       "<link rel=\"stylesheet\" type=\"text/css\" href=\"https://cdn.rawgit.com/bmabey/pyLDAvis/files/ldavis.v1.0.0.css\">\n",
       "\n",
       "\n",
       "<div id=\"ldavis_el1410449594976965968791575\"></div>\n",
       "<script type=\"text/javascript\">\n",
       "\n",
       "var ldavis_el1410449594976965968791575_data = {\"mdsDat\": {\"x\": [-0.34913956883377206, 0.052154002703918546, 0.03339329618871399, 0.07699723530668733, 0.06153600627086331, 0.07844735640741725, 0.04661167195617172], \"y\": [-0.008088614448146297, 0.2976353685856027, -0.04733569549145663, -0.09657232014401809, -0.042282231469909046, -0.060024949755061126, -0.043331557277011844], \"topics\": [1, 2, 3, 4, 5, 6, 7], \"cluster\": [1, 1, 1, 1, 1, 1, 1], \"Freq\": [27.48626708984375, 19.49260139465332, 13.69448184967041, 12.35527229309082, 10.763803482055664, 8.427506446838379, 7.780066013336182]}, \"tinfo\": {\"Category\": [\"Default\", \"Default\", \"Default\", \"Default\", \"Default\", \"Default\", \"Default\", \"Default\", \"Default\", \"Default\", \"Default\", \"Default\", \"Default\", \"Default\", \"Default\", \"Default\", \"Default\", \"Default\", \"Default\", \"Default\", \"Default\", \"Default\", \"Default\", \"Default\", \"Default\", \"Default\", \"Default\", \"Default\", \"Default\", \"Default\", \"Topic1\", \"Topic1\", \"Topic1\", \"Topic1\", \"Topic1\", \"Topic1\", \"Topic1\", \"Topic1\", \"Topic1\", \"Topic1\", \"Topic1\", \"Topic1\", \"Topic1\", \"Topic1\", \"Topic1\", \"Topic1\", \"Topic1\", \"Topic1\", \"Topic1\", \"Topic1\", \"Topic1\", \"Topic1\", \"Topic1\", \"Topic1\", \"Topic1\", \"Topic1\", \"Topic1\", \"Topic1\", \"Topic1\", \"Topic1\", \"Topic1\", \"Topic1\", \"Topic1\", \"Topic2\", \"Topic2\", \"Topic2\", \"Topic2\", \"Topic2\", \"Topic2\", \"Topic2\", \"Topic2\", \"Topic2\", \"Topic2\", \"Topic2\", \"Topic2\", \"Topic2\", \"Topic2\", \"Topic2\", \"Topic2\", \"Topic2\", \"Topic2\", \"Topic2\", \"Topic2\", \"Topic2\", \"Topic2\", \"Topic2\", \"Topic2\", \"Topic2\", \"Topic2\", \"Topic2\", \"Topic2\", \"Topic2\", \"Topic2\", \"Topic2\", \"Topic2\", \"Topic2\", \"Topic3\", \"Topic3\", \"Topic3\", \"Topic3\", \"Topic3\", \"Topic3\", \"Topic3\", \"Topic3\", \"Topic3\", \"Topic3\", \"Topic3\", \"Topic3\", \"Topic3\", \"Topic3\", \"Topic3\", \"Topic3\", \"Topic3\", \"Topic3\", \"Topic3\", \"Topic3\", \"Topic3\", \"Topic3\", \"Topic3\", \"Topic3\", \"Topic3\", \"Topic3\", \"Topic3\", \"Topic3\", \"Topic3\", \"Topic3\", \"Topic3\", \"Topic3\", \"Topic3\", \"Topic4\", \"Topic4\", \"Topic4\", \"Topic4\", \"Topic4\", \"Topic4\", \"Topic4\", \"Topic4\", \"Topic4\", \"Topic4\", \"Topic4\", \"Topic4\", \"Topic4\", \"Topic4\", \"Topic4\", \"Topic4\", \"Topic4\", \"Topic4\", \"Topic4\", \"Topic4\", \"Topic4\", \"Topic4\", \"Topic4\", \"Topic4\", \"Topic4\", \"Topic4\", \"Topic4\", \"Topic4\", \"Topic4\", \"Topic4\", \"Topic4\", \"Topic4\", \"Topic5\", \"Topic5\", \"Topic5\", \"Topic5\", \"Topic5\", \"Topic5\", \"Topic5\", \"Topic5\", \"Topic5\", \"Topic5\", \"Topic5\", \"Topic5\", \"Topic5\", \"Topic5\", \"Topic5\", \"Topic5\", \"Topic5\", \"Topic5\", \"Topic5\", \"Topic5\", \"Topic5\", \"Topic5\", \"Topic5\", \"Topic5\", \"Topic5\", \"Topic5\", \"Topic5\", \"Topic5\", \"Topic5\", \"Topic5\", \"Topic5\", \"Topic5\", \"Topic5\", \"Topic5\", \"Topic5\", \"Topic6\", \"Topic6\", \"Topic6\", \"Topic6\", \"Topic6\", \"Topic6\", \"Topic6\", \"Topic6\", \"Topic6\", \"Topic6\", \"Topic6\", \"Topic6\", \"Topic6\", \"Topic6\", \"Topic6\", \"Topic6\", \"Topic6\", \"Topic6\", \"Topic6\", \"Topic6\", \"Topic6\", \"Topic6\", \"Topic6\", \"Topic6\", \"Topic6\", \"Topic6\", \"Topic6\", \"Topic6\", \"Topic6\", \"Topic6\", \"Topic6\", \"Topic6\", \"Topic7\", \"Topic7\", \"Topic7\", \"Topic7\", \"Topic7\", \"Topic7\", \"Topic7\", \"Topic7\", \"Topic7\", \"Topic7\", \"Topic7\", \"Topic7\", \"Topic7\", \"Topic7\", \"Topic7\", \"Topic7\", \"Topic7\", \"Topic7\", \"Topic7\", \"Topic7\", \"Topic7\", \"Topic7\", \"Topic7\", \"Topic7\", \"Topic7\", \"Topic7\", \"Topic7\", \"Topic7\", \"Topic7\", \"Topic7\", \"Topic7\", \"Topic7\"], \"Freq\": [88.0, 69.0, 50.0, 37.0, 39.0, 23.0, 20.0, 20.0, 16.0, 16.0, 13.0, 13.0, 20.0, 14.0, 9.0, 34.0, 9.0, 12.0, 8.0, 10.0, 6.0, 7.0, 7.0, 5.0, 5.0, 9.0, 6.0, 5.0, 9.0, 11.0, 87.67435455322266, 68.72846221923828, 49.81280517578125, 38.54263687133789, 20.372577667236328, 11.201988220214844, 9.752093315124512, 3.3795299530029297, 2.916567802429199, 2.914625883102417, 2.550985813140869, 2.5488531589508057, 2.493445634841919, 2.3517653942108154, 2.3517653942108154, 2.1857190132141113, 2.0821728706359863, 1.8629366159439087, 1.5701289176940918, 1.517276644706726, 1.517276644706726, 1.5172189474105835, 1.5159271955490112, 1.5152581930160522, 6.986392498016357, 1.2986173629760742, 1.1525509357452393, 1.1525509357452393, 1.1525509357452393, 1.15253746509552, 1.15253746509552, 1.15253746509552, 11.399395942687988, 36.74354553222656, 20.15781593322754, 13.60749626159668, 11.539422035217285, 10.267501831054688, 8.923410415649414, 7.831467151641846, 7.808365345001221, 7.713332176208496, 7.5152268409729, 7.014182090759277, 4.740208148956299, 4.2269816398620605, 4.10818338394165, 3.5945558547973633, 3.5944600105285645, 3.349424123764038, 3.2620465755462646, 2.702040672302246, 2.3216521739959717, 2.317263126373291, 2.076619863510132, 1.8318489789962769, 1.7589337825775146, 1.7444074153900146, 1.7441552877426147, 1.742202877998352, 1.6971596479415894, 1.5631037950515747, 1.3811780214309692, 1.3811780214309692, 1.3811780214309692, 5.578706741333008, 15.489311218261719, 9.120963096618652, 7.150526523590088, 5.597536563873291, 5.160823822021484, 21.320858001708984, 4.318889617919922, 3.360337972640991, 2.9588735103607178, 2.7162067890167236, 2.5219569206237793, 2.4799141883850098, 2.4790828227996826, 2.4205334186553955, 2.2952821254730225, 2.252189874649048, 1.9404995441436768, 1.9404335021972656, 1.640491008758545, 1.5865776538848877, 1.461245059967041, 1.459572434425354, 1.2907580137252808, 1.2907580137252808, 1.2907580137252808, 1.290746808052063, 1.290746808052063, 1.2907216548919678, 1.2907216548919678, 1.2905402183532715, 3.9491517543792725, 11.402727127075195, 2.0185673236846924, 12.86227035522461, 12.675192832946777, 9.214990615844727, 8.236888885498047, 6.6436920166015625, 6.041158676147461, 4.008878231048584, 3.5108771324157715, 3.4710209369659424, 2.961254596710205, 2.9612064361572266, 2.3451988697052, 2.0735652446746826, 2.05220890045166, 2.051985740661621, 2.051985740661621, 1.996152639389038, 1.8850363492965698, 1.8337796926498413, 1.675410509109497, 1.6753544807434082, 1.6752209663391113, 1.3818110227584839, 1.3815314769744873, 1.220970869064331, 1.220970869064331, 1.220970869064331, 1.2209590673446655, 1.2209590673446655, 1.2204442024230957, 1.7586158514022827, 1.3815199136734009, 6.1977410316467285, 5.259963512420654, 4.502501964569092, 4.162665367126465, 3.17952299118042, 3.060086488723755, 2.730024576187134, 2.511056661605835, 2.434098243713379, 2.2551279067993164, 2.2121522426605225, 2.091242790222168, 2.0911102294921875, 2.0905303955078125, 2.046525716781616, 1.927756428718567, 1.913305640220642, 1.9130405187606812, 1.8685694932937622, 1.7494854927062988, 1.2439559698104858, 1.2439385652542114, 1.2439385652542114, 1.2434861660003662, 1.2430455684661865, 1.2430455684661865, 1.2430455684661865, 1.2430455684661865, 1.2429625988006592, 1.2429625988006592, 2.034958839416504, 2.718229055404663, 9.275951385498047, 5.679740905761719, 5.531272888183594, 5.109434604644775, 3.7636258602142334, 2.838176965713501, 1.9866501092910767, 1.7432307004928589, 1.6904892921447754, 1.5296682119369507, 1.4206727743148804, 1.4301834106445312, 1.419697880744934, 1.4188882112503052, 1.4181941747665405, 1.3822218179702759, 1.2728604078292847, 1.271412968635559, 1.1607028245925903, 1.1247968673706055, 1.1247968673706055, 1.1247968673706055, 1.1247968673706055, 1.1247968673706055, 1.1247968673706055, 1.1247775554656982, 1.1247775554656982, 1.1247775554656982, 1.1247775554656982, 1.1244487762451172, 1.1244487762451172, 1.1238298416137695, 1.1232621669769287, 9.848367691040039, 10.820294380187988, 4.962316989898682, 2.822460174560547, 1.9377326965332031, 1.9379717111587524, 1.8314177989959717, 1.781456708908081, 1.7447118759155273, 1.6757241487503052, 1.3893734216690063, 1.3886562585830688, 1.3861908912658691, 1.0903241634368896, 1.089604139328003, 1.089604139328003, 1.089604139328003, 1.089604139328003, 1.089604139328003, 1.089604139328003, 1.089604139328003, 1.0895761251449585, 1.0895761251449585, 1.089576244354248, 1.0895761251449585, 1.0895761251449585, 1.089576244354248, 1.089576244354248, 1.0893198251724243, 1.0893198251724243, 1.0893198251724243, 1.0893198251724243, 2.512085199356079, 2.0874197483062744], \"Term\": [\"great\", \"work\", \"place\", \"good\", \"company\", \"netflix\", \"customer\", \"job\", \"experience\", \"service\", \"high\", \"pay\", \"engineer\", \"environment\", \"freedom\", \"culture\", \"year\", \"call\", \"fast\", \"center\", \"make\", \"manager\", \"responsibility\", \"amazing\", \"much\", \"bad\", \"reward\", \"representative\", \"people\", \"software\", \"great\", \"work\", \"place\", \"company\", \"engineer\", \"software\", \"senior\", \"top\", \"hour\", \"handle\", \"big\", \"resume\", \"interesting\", \"worklife\", \"balance\", \"reliability\", \"test\", \"go\", \"growth\", \"startup\", \"heart\", \"decline\", \"selfstarter\", \"struggle\", \"people\", \"nothing\", \"execution\", \"idea\", \"super\", \"ascenda\", \"corp\", \"officially\", \"culture\", \"good\", \"job\", \"environment\", \"call\", \"center\", \"bad\", \"not\", \"ever\", \"love\", \"do\", \"challenge\", \"get\", \"have\", \"nice\", \"hard\", \"rewarding\", \"let\", \"real\", \"positive\", \"thing\", \"career\", \"waste\", \"time\", \"overall\", \"working\", \"stay\", \"quick\", \"could\", \"politic\", \"dynamic\", \"cut\", \"lasted\", \"culture\", \"experience\", \"year\", \"manager\", \"awesome\", \"supervisor\", \"netflix\", \"excellent\", \"operation\", \"little\", \"product\", \"incredible\", \"density\", \"learning\", \"keep\", \"leadership\", \"production\", \"different\", \"dysfunctional\", \"many\", \"review\", \"engineering\", \"drive\", \"loathe\", \"possibly\", \"fearand\", \"managerdvd\", \"hub\", \"hack\", \"look\", \"elsewhere\", \"management\", \"culture\", \"change\", \"high\", \"pay\", \"freedom\", \"fast\", \"responsibility\", \"reward\", \"paced\", \"team\", \"pressure\", \"worth\", \"performance\", \"stressful\", \"pace\", \"security\", \"see\", \"sad\", \"solid\", \"talent\", \"turnover\", \"never\", \"avoid\", \"run\", \"ride\", \"away\", \"fish\", \"plenty\", \"sea\", \"lull\", \"action\", \"allow\", \"technology\", \"management\", \"make\", \"representative\", \"lot\", \"support\", \"be\", \"csr\", \"opportunity\", \"fun\", \"grow\", \"fantastic\", \"value\", \"care\", \"deal\", \"fine\", \"coworker\", \"friendly\", \"enjoyable\", \"really\", \"political\", \"well\", \"repdefinitely\", \"drink\", \"coffee\", \"money\", \"spell\", \"companys\", \"slide\", \"rule\", \"highperformance\", \"bright\", \"technical\", \"fear\", \"customer\", \"service\", \"culture\", \"much\", \"employee\", \"assistant\", \"marketing\", \"competitive\", \"joke\", \"focus\", \"fire\", \"cost\", \"development\", \"exciting\", \"director\", \"executive\", \"position\", \"totally\", \"think\", \"adrift\", \"superstar\", \"former\", \"represenative\", \"repackager\", \"training\", \"churn\", \"burn\", \"riser\", \"early\", \"start\", \"end\", \"previous\", \"ambitious\", \"service\", \"customer\", \"amazing\", \"rep\", \"finance\", \"everyone\", \"easy\", \"smart\", \"analyst\", \"business\", \"manage\", \"workplace\", \"perk\", \"benefit\", \"live\", \"accordingly\", \"know\", \"path\", \"mba\", \"case\", \"study\", \"thought\", \"matrix\", \"seem\", \"whirlwind\", \"catch\", \"entertaining\", \"amazingly\", \"total\", \"suicide\", \"lifetime\", \"mistake\", \"people\", \"netflix\"], \"Total\": [88.0, 69.0, 50.0, 37.0, 39.0, 23.0, 20.0, 20.0, 16.0, 16.0, 13.0, 13.0, 20.0, 14.0, 9.0, 34.0, 9.0, 12.0, 8.0, 10.0, 6.0, 7.0, 7.0, 5.0, 5.0, 9.0, 6.0, 5.0, 9.0, 11.0, 88.25350189208984, 69.30940246582031, 50.39186096191406, 39.1218147277832, 20.950878143310547, 11.780261993408203, 10.330489158630371, 3.96272873878479, 3.4951581954956055, 3.4936652183532715, 3.129235029220581, 3.1288251876831055, 3.076555013656616, 2.9304678440093994, 2.9304678440093994, 2.764265298843384, 2.6604223251342773, 2.4430201053619385, 2.148378372192383, 2.095526695251465, 2.095526695251465, 2.0954701900482178, 2.0952115058898926, 2.0950443744659424, 9.991806030273438, 1.878495216369629, 1.7308006286621094, 1.7308006286621094, 1.7308006286621094, 1.7307873964309692, 1.7307873964309692, 1.7307873964309692, 34.183326721191406, 37.33324432373047, 20.747732162475586, 14.199405670166016, 12.129265785217285, 10.856605529785156, 9.51281452178955, 8.420815467834473, 8.397688865661621, 8.302910804748535, 8.104425430297852, 7.606203079223633, 5.329592704772949, 4.816207408905029, 4.697817325592041, 4.183831214904785, 4.183743000030518, 3.9384329319000244, 3.852593183517456, 3.291003942489624, 2.910979747772217, 2.9098570346832275, 2.6656429767608643, 2.4208109378814697, 2.350062131881714, 2.333564281463623, 2.3334860801696777, 2.333266496658325, 2.2867870330810547, 2.1522252559661865, 1.97014582157135, 1.97014582157135, 1.97014582157135, 34.183326721191406, 16.08621597290039, 9.717730522155762, 7.746757984161377, 6.1943888664245605, 5.757327079772949, 23.919387817382812, 4.916417598724365, 3.9564199447631836, 3.556507110595703, 3.312734603881836, 3.1207938194274902, 3.0762834548950195, 3.076209306716919, 3.0170328617095947, 2.8917176723480225, 2.848475456237793, 2.5366928577423096, 2.5366899967193604, 2.241642951965332, 2.1826605796813965, 2.05739688873291, 2.0569982528686523, 1.8868435621261597, 1.8868435621261597, 1.8868435621261597, 1.8868340253829956, 1.8868340253829956, 1.8868129253387451, 1.8868129253387451, 1.8868632316589355, 5.831669807434082, 34.183326721191406, 3.449514389038086, 13.464176177978516, 13.277691841125488, 9.816689491271973, 8.838679313659668, 7.245412349700928, 6.644170761108398, 4.610864639282227, 4.115216255187988, 4.072822570800781, 3.5628738403320312, 3.5628716945648193, 2.9477012157440186, 2.675175666809082, 2.6542110443115234, 2.6541898250579834, 2.6541898250579834, 2.5980820655822754, 2.4945006370544434, 2.437732696533203, 2.276981830596924, 2.276986598968506, 2.276995897293091, 1.9834476709365845, 1.983444333076477, 1.8225455284118652, 1.8225455284118652, 1.8225455284118652, 1.8225356340408325, 1.8225356340408325, 1.822558879852295, 3.1026575565338135, 5.831669807434082, 6.799097061157227, 5.859727382659912, 5.104557037353516, 4.76344633102417, 3.780144453048706, 3.660269021987915, 3.332014799118042, 3.111708641052246, 3.0341382026672363, 2.855318069458008, 2.8121895790100098, 2.6910078525543213, 2.691016435623169, 2.691053628921509, 2.648967981338501, 2.5280487537384033, 2.51311993598938, 2.5131142139434814, 2.4699723720550537, 2.3497679233551025, 1.8437228202819824, 1.8437082767486572, 1.8437082767486572, 1.8437471389770508, 1.843820333480835, 1.843820333480835, 1.843820333480835, 1.843820333480835, 1.8438173532485962, 1.8438173532485962, 3.0898733139038086, 4.212039470672607, 20.607803344726562, 16.039541244506836, 34.183326721191406, 5.7194743156433105, 4.373129367828369, 3.447542190551758, 2.596010684967041, 2.352846384048462, 2.3003406524658203, 2.1394293308258057, 2.029811382293701, 2.0437262058258057, 2.030010938644409, 2.0298519134521484, 2.0296342372894287, 1.9917088747024536, 1.8821362257003784, 1.882357120513916, 1.772937536239624, 1.7339390516281128, 1.7339390516281128, 1.7339390516281128, 1.7339390516281128, 1.7339390516281128, 1.7339390516281128, 1.7339231967926025, 1.7339231967926025, 1.7339231967926025, 1.7339231967926025, 1.734009027481079, 1.734009027481079, 1.7339924573898315, 1.7340704202651978, 16.039541244506836, 20.607803344726562, 5.574485778808594, 3.4353158473968506, 2.5497915744781494, 2.550293207168579, 2.443675994873047, 2.393602132797241, 2.3566417694091797, 2.2878289222717285, 2.0012950897216797, 2.001340866088867, 2.0017685890197754, 1.7024681568145752, 1.7015135288238525, 1.7015135288238525, 1.7015135288238525, 1.7015135288238525, 1.7015135288238525, 1.7015135288238525, 1.7015135288238525, 1.7014906406402588, 1.7014906406402588, 1.701490879058838, 1.7014906406402588, 1.7014906406402588, 1.701490879058838, 1.701490879058838, 1.7015559673309326, 1.7015559673309326, 1.7015559673309326, 1.7015559673309326, 9.991806030273438, 23.919387817382812], \"loglift\": [30.0, 29.0, 28.0, 27.0, 26.0, 25.0, 24.0, 23.0, 22.0, 21.0, 20.0, 19.0, 18.0, 17.0, 16.0, 15.0, 14.0, 13.0, 12.0, 11.0, 10.0, 9.0, 8.0, 7.0, 6.0, 5.0, 4.0, 3.0, 2.0, 1.0, 1.2848999500274658, 1.2831000089645386, 1.2798999547958374, 1.2766000032424927, 1.2634999752044678, 1.2410999536514282, 1.2338999509811401, 1.1323000192642212, 1.1104999780654907, 1.1102999448776245, 1.0872000455856323, 1.0865000486373901, 1.0813000202178955, 1.0714999437332153, 1.0714999437332153, 1.0566999912261963, 1.0463999509811401, 1.020400047302246, 0.9779000282287598, 0.9685999751091003, 0.9685999751091003, 0.9685999751091003, 0.9678999781608582, 0.9674999713897705, 0.9337000250816345, 0.9222999811172485, 0.8848999738693237, 0.8848999738693237, 0.8848999738693237, 0.8848999738693237, 0.8848999738693237, 0.8848999738693237, 0.19329999387264252, 1.6191999912261963, 1.6062999963760376, 1.5925999879837036, 1.5852999687194824, 1.579300045967102, 1.5712000131607056, 1.562600016593933, 1.562399983406067, 1.5614999532699585, 1.5597000122070312, 1.5541000366210938, 1.517899990081787, 1.5046000480651855, 1.5010000467300415, 1.483299970626831, 1.483299970626831, 1.473099946975708, 1.4687000513076782, 1.4378999471664429, 1.4089000225067139, 1.4074000120162964, 1.3854000568389893, 1.3564000129699707, 1.3453999757766724, 1.3442000150680542, 1.343999981880188, 1.343000054359436, 1.336899995803833, 1.3152999877929688, 1.2799999713897705, 1.2799999713897705, 1.2799999713897705, -0.17759999632835388, 1.9503999948501587, 1.9248000383377075, 1.9081000089645386, 1.8868999481201172, 1.8788000345230103, 1.8732000589370728, 1.8586000204086304, 1.8249000310897827, 1.8042000532150269, 1.7896000146865845, 1.7750999927520752, 1.7726999521255493, 1.7724000215530396, 1.767899990081787, 1.757200002670288, 1.7532999515533447, 1.7202999591827393, 1.7201999425888062, 1.6759999990463257, 1.6691999435424805, 1.6460000276565552, 1.6450999975204468, 1.6085000038146973, 1.6085000038146973, 1.6085000038146973, 1.6085000038146973, 1.6085000038146973, 1.6085000038146973, 1.6085000038146973, 1.608299970626831, 1.5983999967575073, 0.8902999758720398, 1.452299952507019, 2.0453999042510986, 2.044600009918213, 2.0278000831604004, 2.0206000804901123, 2.0044000148773193, 1.99590003490448, 1.951200008392334, 1.9322999715805054, 1.9312000274658203, 1.9061000347137451, 1.9061000347137451, 1.8624000549316406, 1.836300015449524, 1.833899974822998, 1.833799958229065, 1.833799958229065, 1.8274999856948853, 1.8108999729156494, 1.806399941444397, 1.7842999696731567, 1.7842999696731567, 1.7841999530792236, 1.729599952697754, 1.7294000387191772, 1.690500020980835, 1.690500020980835, 1.690500020980835, 1.690500020980835, 1.690500020980835, 1.6900999546051025, 1.5233999490737915, 0.6510000228881836, 2.136399984359741, 2.121000051498413, 2.1034998893737793, 2.0941998958587646, 2.055999994277954, 2.0499000549316406, 2.0297000408172607, 2.0144999027252197, 2.0085999965667725, 1.9930000305175781, 1.9889999628067017, 1.9767999649047852, 1.9767999649047852, 1.9765000343322754, 1.9709999561309814, 1.957900047302246, 1.9563000202178955, 1.9562000036239624, 1.9499000310897827, 1.934000015258789, 1.8355000019073486, 1.8355000019073486, 1.8355000019073486, 1.8351000547409058, 1.8346999883651733, 1.8346999883651733, 1.8346999883651733, 1.8346999883651733, 1.8345999717712402, 1.8345999717712402, 1.8113000392913818, 1.7910000085830688, 1.4306999444961548, 1.1907999515533447, 0.4077000021934509, 2.3608999252319336, 2.3236000537872314, 2.2792000770568848, 2.2060999870300293, 2.173799991607666, 2.165600061416626, 2.138200044631958, 2.1168999671936035, 2.1166999340057373, 2.1161000728607178, 2.115600109100342, 2.1152000427246094, 2.1084001064300537, 2.0824999809265137, 2.0813000202178955, 2.050100088119507, 2.0408999919891357, 2.0408999919891357, 2.0408999919891357, 2.0408999919891357, 2.0408999919891357, 2.0408999919891357, 2.0408999919891357, 2.0408999919891357, 2.0408999919891357, 2.0408999919891357, 2.0404999256134033, 2.0404999256134033, 2.0399999618530273, 2.039400100708008, 1.9859000444412231, 1.8293999433517456, 2.437299966812134, 2.357100009918213, 2.279099941253662, 2.2790000438690186, 2.265199899673462, 2.25819993019104, 2.253000020980835, 2.2421998977661133, 2.188699960708618, 2.1881000995635986, 2.1861000061035156, 2.1080000400543213, 2.1078999042510986, 2.1078999042510986, 2.1078999042510986, 2.1078999042510986, 2.1078999042510986, 2.1078999042510986, 2.1078999042510986, 2.1078999042510986, 2.1078999042510986, 2.1078999042510986, 2.1078999042510986, 2.1078999042510986, 2.1078999042510986, 2.1078999042510986, 2.107599973678589, 2.107599973678589, 2.107599973678589, 2.107599973678589, 1.1729999780654907, 0.11479999870061874], \"logprob\": [30.0, 29.0, 28.0, 27.0, 26.0, 25.0, 24.0, 23.0, 22.0, 21.0, 20.0, 19.0, 18.0, 17.0, 16.0, 15.0, 14.0, 13.0, 12.0, 11.0, 10.0, 9.0, 8.0, 7.0, 6.0, 5.0, 4.0, 3.0, 2.0, 1.0, -1.590499997138977, -1.8339999914169312, -2.155900001525879, -2.412400007247925, -3.049999952316284, -3.648099899291992, -3.7867000102996826, -4.846399784088135, -4.99370002746582, -4.9944000244140625, -5.127699851989746, -5.128499984741211, -5.1504998207092285, -5.209000110626221, -5.209000110626221, -5.282199859619141, -5.330699920654297, -5.441999912261963, -5.61299991607666, -5.647200107574463, -5.647200107574463, -5.647299766540527, -5.648099899291992, -5.648600101470947, -4.120200157165527, -5.8028998374938965, -5.9222002029418945, -5.9222002029418945, -5.9222002029418945, -5.9222002029418945, -5.9222002029418945, -5.9222002029418945, -3.6305999755859375, -2.116499900817871, -2.716900110244751, -3.1098999977111816, -3.2746999263763428, -3.3914999961853027, -3.5318000316619873, -3.662400007247925, -3.665299892425537, -3.6775999069213867, -3.7035999298095703, -3.772599935531616, -4.164400100708008, -4.2789998054504395, -4.307499885559082, -4.441100120544434, -4.441100120544434, -4.51170015335083, -4.5381999015808105, -4.726500034332275, -4.878200054168701, -4.880099773406982, -4.989799976348877, -5.115200042724609, -5.155799865722656, -5.164100170135498, -5.1641998291015625, -5.16540002822876, -5.191500186920166, -5.273799896240234, -5.397600173950195, -5.397600173950195, -5.397600173950195, -4.001500129699707, -2.6273000240325928, -3.156899929046631, -3.4003000259399414, -3.6451001167297363, -3.7263998985290527, -2.307800054550171, -3.9045000076293945, -4.155399799346924, -4.282700061798096, -4.368199825286865, -4.442399978637695, -4.459199905395508, -4.45959997177124, -4.483500003814697, -4.536600112915039, -4.555600166320801, -4.704500198364258, -4.704599857330322, -4.872499942779541, -4.905900001525879, -4.9882001876831055, -4.989299774169922, -5.112199783325195, -5.112199783325195, -5.112199783325195, -5.112199783325195, -5.112199783325195, -5.112299919128418, -5.112299919128418, -5.112400054931641, -3.99399995803833, -2.9335999488830566, -4.66510009765625, -2.7102999687194824, -2.724900007247925, -3.0436999797821045, -3.155900001525879, -3.3708999156951904, -3.4660000801086426, -3.875999927520752, -4.008699893951416, -4.020100116729736, -4.178899765014648, -4.178999900817871, -4.412199974060059, -4.535299777984619, -4.545599937438965, -4.5457000732421875, -4.5457000732421875, -4.573299884796143, -4.6305999755859375, -4.658199787139893, -4.748499870300293, -4.748499870300293, -4.748600006103516, -4.941199779510498, -4.941400051116943, -5.064899921417236, -5.064899921417236, -5.064899921417236, -5.064899921417236, -5.064899921417236, -5.065299987792969, -4.699999809265137, -4.941400051116943, -3.302500009536743, -3.4665000438690186, -3.621999979019165, -3.700500011444092, -3.969899892807007, -4.008200168609619, -4.122300148010254, -4.205999851226807, -4.237100124359131, -4.313499927520752, -4.332699775695801, -4.388899803161621, -4.388999938964844, -4.389200210571289, -4.4105000495910645, -4.470300197601318, -4.477799892425537, -4.478000164031982, -4.501500129699707, -4.567299842834473, -4.908400058746338, -4.908400058746338, -4.908400058746338, -4.908699989318848, -4.90910005569458, -4.90910005569458, -4.90910005569458, -4.90910005569458, -4.909200191497803, -4.909200191497803, -4.416200160980225, -4.126699924468994, -2.899199962615967, -3.3898000717163086, -3.4161999225616455, -3.2509000301361084, -3.5566000938415527, -3.8387999534606934, -4.195499897003174, -4.326200008392334, -4.35699987411499, -4.456900119781494, -4.530799865722656, -4.524199962615967, -4.531499862670898, -4.532100200653076, -4.532599925994873, -4.558300018310547, -4.640699863433838, -4.6417999267578125, -4.732900142669678, -4.764400005340576, -4.764400005340576, -4.764400005340576, -4.764400005340576, -4.764400005340576, -4.764400005340576, -4.764400005340576, -4.764400005340576, -4.764400005340576, -4.764400005340576, -4.764699935913086, -4.764699935913086, -4.765200138092041, -4.765699863433838, -2.5947000980377197, -2.500499963760376, -3.200200080871582, -3.764400005340576, -4.140500068664551, -4.140399932861328, -4.196899890899658, -4.224599838256836, -4.2453999519348145, -4.285799980163574, -4.473199844360352, -4.473700046539307, -4.475500106811523, -4.71560001373291, -4.71619987487793, -4.71619987487793, -4.71619987487793, -4.71619987487793, -4.71619987487793, -4.71619987487793, -4.71619987487793, -4.71619987487793, -4.71619987487793, -4.71619987487793, -4.71619987487793, -4.71619987487793, -4.71619987487793, -4.71619987487793, -4.7164998054504395, -4.7164998054504395, -4.7164998054504395, -4.7164998054504395, -3.8808999061584473, -4.066100120544434]}, \"token.table\": {\"Topic\": [7, 4, 6, 4, 7, 7, 6, 7, 1, 6, 4, 4, 3, 2, 1, 5, 7, 1, 5, 6, 7, 2, 5, 2, 7, 7, 2, 2, 3, 4, 6, 5, 1, 5, 6, 1, 6, 2, 5, 5, 1, 2, 3, 5, 5, 6, 2, 5, 1, 3, 6, 3, 6, 2, 5, 3, 2, 3, 6, 7, 3, 6, 6, 1, 3, 5, 7, 2, 2, 7, 3, 6, 1, 6, 3, 5, 4, 2, 5, 3, 7, 5, 6, 4, 6, 6, 4, 5, 5, 2, 1, 2, 1, 5, 1, 3, 1, 2, 2, 1, 4, 5, 1, 3, 1, 3, 1, 2, 6, 3, 7, 2, 3, 3, 2, 7, 3, 7, 3, 3, 5, 2, 4, 5, 7, 3, 4, 3, 3, 3, 6, 7, 7, 7, 5, 6, 3, 7, 4, 2, 2, 1, 1, 3, 5, 2, 4, 4, 7, 4, 1, 7, 4, 7, 1, 4, 2, 5, 6, 2, 3, 4, 6, 3, 3, 2, 2, 5, 1, 7, 6, 5, 6, 5, 4, 1, 3, 4, 2, 4, 6, 5, 4, 4, 4, 4, 4, 7, 1, 1, 5, 6, 5, 7, 1, 4, 5, 6, 1, 2, 4, 1, 7, 7, 1, 6, 3, 5, 4, 4, 5, 7, 4, 7, 1, 2, 6, 7, 2, 1, 7, 6, 6, 4, 5, 2, 5, 7, 1, 2, 1, 7, 4, 3], \"Freq\": [0.5877120494842529, 0.5486860871315002, 0.5767215490341187, 0.5486791133880615, 0.8969436883926392, 0.5877198576927185, 0.5766778588294983, 0.8486652374267578, 0.5777717232704163, 0.870185136795044, 0.8783538937568665, 0.5041734576225281, 0.9686185717582703, 0.9460922479629517, 0.6824848651885986, 0.7936204671859741, 0.5873824954032898, 0.9587007761001587, 0.542353093624115, 0.5767267942428589, 0.8741912245750427, 0.9893426299095154, 0.7432159781455994, 0.6873189806938171, 0.5877120494842529, 0.5877199769020081, 0.9210982322692871, 0.9203014969825745, 0.579791784286499, 0.2898958921432495, 0.5767267942428589, 0.5423851609230042, 0.9968862533569336, 0.5423521995544434, 0.850034236907959, 0.5777717232704163, 0.4893023371696472, 0.8745895028114319, 0.7550110220909119, 0.8196119070053101, 0.3217943012714386, 0.17552417516708374, 0.3217943012714386, 0.17552417516708374, 0.43672776222229004, 0.5337783694267273, 0.5075766444206238, 0.7432135939598083, 0.9544396996498108, 0.6501351594924927, 0.4926081895828247, 0.7884281277656555, 0.49269962310791016, 0.9871150255203247, 0.5423851609230042, 0.4861452877521515, 0.5075766444206238, 0.7884290218353271, 0.5767267942428589, 0.8184391260147095, 0.5299801230430603, 0.9146767854690552, 0.5766982436180115, 0.9546139240264893, 0.486051082611084, 0.7958235144615173, 0.5877198576927185, 0.9859567880630493, 0.9526430368423462, 0.7842235565185547, 0.8136005401611328, 0.4926467835903168, 0.5777673125267029, 0.5020813941955566, 0.9324753284454346, 0.7004473805427551, 0.905112624168396, 0.2374146729707718, 0.7122440338134766, 0.5299856662750244, 0.7843778133392334, 0.743203341960907, 0.4926566183567047, 0.5486831665039062, 0.9348286986351013, 0.5767215490341187, 0.9168060421943665, 0.7911239862442017, 0.9641005396842957, 0.9381579756736755, 0.8186588287353516, 0.9910737872123718, 0.9971275925636292, 0.6591657400131226, 0.930934727191925, 0.5299942493438721, 0.8586970567703247, 0.9560615420341492, 0.8305290341377258, 0.9544140100479126, 0.9655250906944275, 0.542353093624115, 0.858330249786377, 0.5299883484840393, 0.5777673125267029, 0.9612938761711121, 0.650077760219574, 0.9639607667922974, 0.8694364428520203, 0.6629029512405396, 0.5877120494842529, 0.5075766444206238, 0.6916304230690002, 0.6501508355140686, 0.7617242932319641, 0.5876973867416382, 0.8435242772102356, 0.5877120494842529, 0.5299856662750244, 0.5299942493438721, 0.9795169234275818, 0.9635174870491028, 0.5486860871315002, 0.8824701309204102, 0.4996764361858368, 0.6859098672866821, 0.17147746682167053, 0.9036037921905518, 0.5299883484840393, 0.8922027349472046, 0.7704128623008728, 0.5877199769020081, 0.5877120494842529, 0.5876973867416382, 0.5423737168312073, 0.8742062449455261, 0.8779488801956177, 0.08361417800188065, 0.8783557415008545, 0.851459264755249, 0.9500267505645752, 0.5323410034179688, 0.5777717232704163, 0.7582612633705139, 0.9003561735153198, 0.851041316986084, 0.7476144433021545, 0.867516279220581, 0.5877120494842529, 0.9790858626365662, 0.7005740404129028, 0.3002460300922394, 0.842017412185669, 0.4995582401752472, 0.9922237396240234, 0.5486831665039062, 0.9292707443237305, 0.8097256422042847, 0.5313111543655396, 0.9115759134292603, 0.5299856662750244, 0.7365899085998535, 0.5767037868499756, 0.9055962562561035, 0.7021299600601196, 0.8571674227714539, 0.7786962985992432, 0.7958253622055054, 0.7235195636749268, 0.8732821345329285, 0.5767215490341187, 0.5423808693885803, 0.5767215490341187, 0.8532820343971252, 0.9661285877227783, 0.9588263630867004, 0.9163128733634949, 0.9030472040176392, 0.9560816884040833, 0.5041726231575012, 0.5767267942428589, 0.5423521995544434, 0.8783502578735352, 0.7535256147384644, 0.5486831665039062, 0.753519594669342, 0.7535256147384644, 0.5877198576927185, 0.9545575976371765, 0.9680083990097046, 0.3740755319595337, 0.6234592199325562, 0.5423521995544434, 0.8355607390403748, 0.9337652921676636, 0.7697986364364624, 0.5423521995544434, 0.5766982436180115, 0.9544140100479126, 0.8570867776870728, 0.6784948110580444, 0.9546337127685547, 0.5877120494842529, 0.5876973867416382, 0.5777673125267029, 0.5767215490341187, 0.8684585690498352, 0.8397281765937805, 0.801763653755188, 0.972002387046814, 0.6472757458686829, 0.32363787293434143, 0.6446086764335632, 0.3223043382167816, 0.7517603635787964, 0.687053918838501, 0.5640356540679932, 0.5877199769020081, 0.8261694312095642, 0.7570540904998779, 0.5876973867416382, 0.5312488079071045, 0.5767215490341187, 0.8204345107078552, 0.7111896276473999, 0.7502880096435547, 0.8511478900909424, 0.5877199769020081, 0.9955359101295471, 0.857058048248291, 0.6824848651885986, 0.4996650218963623, 0.842016875743866, 0.926142156124115], \"Term\": [\"accordingly\", \"action\", \"adrift\", \"allow\", \"amazing\", \"amazingly\", \"ambitious\", \"analyst\", \"ascenda\", \"assistant\", \"avoid\", \"away\", \"awesome\", \"bad\", \"balance\", \"be\", \"benefit\", \"big\", \"bright\", \"burn\", \"business\", \"call\", \"care\", \"career\", \"case\", \"catch\", \"center\", \"challenge\", \"change\", \"change\", \"churn\", \"coffee\", \"company\", \"companys\", \"competitive\", \"corp\", \"cost\", \"could\", \"coworker\", \"csr\", \"culture\", \"culture\", \"culture\", \"culture\", \"customer\", \"customer\", \"cut\", \"deal\", \"decline\", \"density\", \"development\", \"different\", \"director\", \"do\", \"drink\", \"drive\", \"dynamic\", \"dysfunctional\", \"early\", \"easy\", \"elsewhere\", \"employee\", \"end\", \"engineer\", \"engineering\", \"enjoyable\", \"entertaining\", \"environment\", \"ever\", \"everyone\", \"excellent\", \"exciting\", \"execution\", \"executive\", \"experience\", \"fantastic\", \"fast\", \"fear\", \"fear\", \"fearand\", \"finance\", \"fine\", \"fire\", \"fish\", \"focus\", \"former\", \"freedom\", \"friendly\", \"fun\", \"get\", \"go\", \"good\", \"great\", \"grow\", \"growth\", \"hack\", \"handle\", \"hard\", \"have\", \"heart\", \"high\", \"highperformance\", \"hour\", \"hub\", \"idea\", \"incredible\", \"interesting\", \"job\", \"joke\", \"keep\", \"know\", \"lasted\", \"leadership\", \"learning\", \"let\", \"lifetime\", \"little\", \"live\", \"loathe\", \"look\", \"lot\", \"love\", \"lull\", \"make\", \"manage\", \"management\", \"management\", \"manager\", \"managerdvd\", \"many\", \"marketing\", \"matrix\", \"mba\", \"mistake\", \"money\", \"much\", \"netflix\", \"netflix\", \"never\", \"nice\", \"not\", \"nothing\", \"officially\", \"operation\", \"opportunity\", \"overall\", \"pace\", \"paced\", \"path\", \"pay\", \"people\", \"people\", \"performance\", \"perk\", \"place\", \"plenty\", \"politic\", \"political\", \"position\", \"positive\", \"possibly\", \"pressure\", \"previous\", \"product\", \"production\", \"quick\", \"real\", \"really\", \"reliability\", \"rep\", \"repackager\", \"repdefinitely\", \"represenative\", \"representative\", \"responsibility\", \"resume\", \"review\", \"reward\", \"rewarding\", \"ride\", \"riser\", \"rule\", \"run\", \"sad\", \"sea\", \"security\", \"see\", \"seem\", \"selfstarter\", \"senior\", \"service\", \"service\", \"slide\", \"smart\", \"software\", \"solid\", \"spell\", \"start\", \"startup\", \"stay\", \"stressful\", \"struggle\", \"study\", \"suicide\", \"super\", \"superstar\", \"supervisor\", \"support\", \"talent\", \"team\", \"technical\", \"technical\", \"technology\", \"technology\", \"test\", \"thing\", \"think\", \"thought\", \"time\", \"top\", \"total\", \"totally\", \"training\", \"turnover\", \"value\", \"waste\", \"well\", \"whirlwind\", \"work\", \"working\", \"worklife\", \"workplace\", \"worth\", \"year\"]}, \"R\": 30, \"lambda.step\": 0.01, \"plot.opts\": {\"xlab\": \"PC1\", \"ylab\": \"PC2\"}, \"topic.order\": [1, 6, 4, 2, 3, 5, 7]};\n",
       "\n",
       "function LDAvis_load_lib(url, callback){\n",
       "  var s = document.createElement('script');\n",
       "  s.src = url;\n",
       "  s.async = true;\n",
       "  s.onreadystatechange = s.onload = callback;\n",
       "  s.onerror = function(){console.warn(\"failed to load library \" + url);};\n",
       "  document.getElementsByTagName(\"head\")[0].appendChild(s);\n",
       "}\n",
       "\n",
       "if(typeof(LDAvis) !== \"undefined\"){\n",
       "   // already loaded: just create the visualization\n",
       "   !function(LDAvis){\n",
       "       new LDAvis(\"#\" + \"ldavis_el1410449594976965968791575\", ldavis_el1410449594976965968791575_data);\n",
       "   }(LDAvis);\n",
       "}else if(typeof define === \"function\" && define.amd){\n",
       "   // require.js is available: use it to load d3/LDAvis\n",
       "   require.config({paths: {d3: \"https://cdnjs.cloudflare.com/ajax/libs/d3/3.5.5/d3.min\"}});\n",
       "   require([\"d3\"], function(d3){\n",
       "      window.d3 = d3;\n",
       "      LDAvis_load_lib(\"https://cdn.rawgit.com/bmabey/pyLDAvis/files/ldavis.v1.0.0.js\", function(){\n",
       "        new LDAvis(\"#\" + \"ldavis_el1410449594976965968791575\", ldavis_el1410449594976965968791575_data);\n",
       "      });\n",
       "    });\n",
       "}else{\n",
       "    // require.js not available: dynamically load d3 & LDAvis\n",
       "    LDAvis_load_lib(\"https://cdnjs.cloudflare.com/ajax/libs/d3/3.5.5/d3.min.js\", function(){\n",
       "         LDAvis_load_lib(\"https://cdn.rawgit.com/bmabey/pyLDAvis/files/ldavis.v1.0.0.js\", function(){\n",
       "                 new LDAvis(\"#\" + \"ldavis_el1410449594976965968791575\", ldavis_el1410449594976965968791575_data);\n",
       "            })\n",
       "         });\n",
       "}\n",
       "</script>"
      ],
      "text/plain": [
       "PreparedData(topic_coordinates=              x         y  topics  cluster       Freq\n",
       "topic                                                \n",
       "0     -0.349140 -0.008089       1        1  27.486267\n",
       "5      0.052154  0.297635       2        1  19.492601\n",
       "3      0.033393 -0.047336       3        1  13.694482\n",
       "1      0.076997 -0.096572       4        1  12.355272\n",
       "2      0.061536 -0.042282       5        1  10.763803\n",
       "4      0.078447 -0.060025       6        1   8.427506\n",
       "6      0.046612 -0.043332       7        1   7.780066, topic_info=     Category       Freq            Term      Total  loglift  logprob\n",
       "term                                                                 \n",
       "12    Default  88.000000           great  88.000000  30.0000  30.0000\n",
       "42    Default  69.000000            work  69.000000  29.0000  29.0000\n",
       "43    Default  50.000000           place  50.000000  28.0000  28.0000\n",
       "39    Default  37.000000            good  37.000000  27.0000  27.0000\n",
       "11    Default  39.000000         company  39.000000  26.0000  26.0000\n",
       "9     Default  23.000000         netflix  23.000000  25.0000  25.0000\n",
       "33    Default  20.000000        customer  20.000000  24.0000  24.0000\n",
       "132   Default  20.000000             job  20.000000  23.0000  23.0000\n",
       "89    Default  16.000000      experience  16.000000  22.0000  22.0000\n",
       "34    Default  16.000000         service  16.000000  21.0000  21.0000\n",
       "219   Default  13.000000            high  13.000000  20.0000  20.0000\n",
       "41    Default  13.000000             pay  13.000000  19.0000  19.0000\n",
       "84    Default  20.000000        engineer  20.000000  18.0000  18.0000\n",
       "144   Default  14.000000     environment  14.000000  17.0000  17.0000\n",
       "135   Default   9.000000         freedom   9.000000  16.0000  16.0000\n",
       "18    Default  34.000000         culture  34.000000  15.0000  15.0000\n",
       "120   Default   9.000000            year   9.000000  14.0000  14.0000\n",
       "78    Default  12.000000            call  12.000000  13.0000  13.0000\n",
       "206   Default   8.000000            fast   8.000000  12.0000  12.0000\n",
       "79    Default  10.000000          center  10.000000  11.0000  11.0000\n",
       "166   Default   6.000000            make   6.000000  10.0000  10.0000\n",
       "15    Default   7.000000         manager   7.000000   9.0000   9.0000\n",
       "136   Default   7.000000  responsibility   7.000000   8.0000   8.0000\n",
       "116   Default   5.000000         amazing   5.000000   7.0000   7.0000\n",
       "5     Default   5.000000            much   5.000000   6.0000   6.0000\n",
       "56    Default   9.000000             bad   9.000000   5.0000   5.0000\n",
       "331   Default   6.000000          reward   6.000000   4.0000   4.0000\n",
       "130   Default   5.000000  representative   5.000000   3.0000   3.0000\n",
       "225   Default   9.000000          people   9.000000   2.0000   2.0000\n",
       "86    Default  11.000000        software  11.000000   1.0000   1.0000\n",
       "...       ...        ...             ...        ...      ...      ...\n",
       "127    Topic7   1.937733         finance   2.549792   2.2791  -4.1405\n",
       "112    Topic7   1.937972        everyone   2.550293   2.2790  -4.1404\n",
       "390    Topic7   1.831418            easy   2.443676   2.2652  -4.1969\n",
       "265    Topic7   1.781457           smart   2.393602   2.2582  -4.2246\n",
       "53     Topic7   1.744712         analyst   2.356642   2.2530  -4.2454\n",
       "126    Topic7   1.675724        business   2.287829   2.2422  -4.2858\n",
       "163    Topic7   1.389373          manage   2.001295   2.1887  -4.4732\n",
       "134    Topic7   1.388656       workplace   2.001341   2.1881  -4.4737\n",
       "165    Topic7   1.386191            perk   2.001769   2.1861  -4.4755\n",
       "111    Topic7   1.090324         benefit   1.702468   2.1080  -4.7156\n",
       "484    Topic7   1.089604            live   1.701514   2.1079  -4.7162\n",
       "518    Topic7   1.089604     accordingly   1.701514   2.1079  -4.7162\n",
       "519    Topic7   1.089604            know   1.701514   2.1079  -4.7162\n",
       "520    Topic7   1.089604            path   1.701514   2.1079  -4.7162\n",
       "485    Topic7   1.089604             mba   1.701514   2.1079  -4.7162\n",
       "483    Topic7   1.089604            case   1.701514   2.1079  -4.7162\n",
       "486    Topic7   1.089604           study   1.701514   2.1079  -4.7162\n",
       "461    Topic7   1.089576         thought   1.701491   2.1079  -4.7162\n",
       "460    Topic7   1.089576          matrix   1.701491   2.1079  -4.7162\n",
       "480    Topic7   1.089576            seem   1.701491   2.1079  -4.7162\n",
       "512    Topic7   1.089576       whirlwind   1.701491   2.1079  -4.7162\n",
       "511    Topic7   1.089576           catch   1.701491   2.1079  -4.7162\n",
       "441    Topic7   1.089576    entertaining   1.701491   2.1079  -4.7162\n",
       "440    Topic7   1.089576       amazingly   1.701491   2.1079  -4.7162\n",
       "456    Topic7   1.089320           total   1.701556   2.1076  -4.7165\n",
       "455    Topic7   1.089320         suicide   1.701556   2.1076  -4.7165\n",
       "453    Topic7   1.089320        lifetime   1.701556   2.1076  -4.7165\n",
       "454    Topic7   1.089320         mistake   1.701556   2.1076  -4.7165\n",
       "225    Topic7   2.512085          people   9.991806   1.1730  -3.8809\n",
       "9      Topic7   2.087420         netflix  23.919388   0.1148  -4.0661\n",
       "\n",
       "[260 rows x 6 columns], token_table=      Topic      Freq         Term\n",
       "term                              \n",
       "518       7  0.587712  accordingly\n",
       "444       4  0.548686       action\n",
       "505       6  0.576722       adrift\n",
       "467       4  0.548679        allow\n",
       "116       7  0.896944      amazing\n",
       "440       7  0.587720    amazingly\n",
       "521       6  0.576678    ambitious\n",
       "53        7  0.848665      analyst\n",
       "414       1  0.577772      ascenda\n",
       "0         6  0.870185    assistant\n",
       "194       4  0.878354        avoid\n",
       "233       4  0.504173         away\n",
       "118       3  0.968619      awesome\n",
       "56        2  0.946092          bad\n",
       "63        1  0.682485      balance\n",
       "213       5  0.793620           be\n",
       "111       7  0.587382      benefit\n",
       "358       1  0.958701          big\n",
       "531       5  0.542353       bright\n",
       "492       6  0.576727         burn\n",
       "126       7  0.874191     business\n",
       "78        2  0.989343         call\n",
       "379       5  0.743216         care\n",
       "345       2  0.687319       career\n",
       "483       7  0.587712         case\n",
       "511       7  0.587720        catch\n",
       "79        2  0.921098       center\n",
       "205       2  0.920301    challenge\n",
       "184       3  0.579792       change\n",
       "184       4  0.289896       change\n",
       "...     ...       ...          ...\n",
       "372       1  0.577767        super\n",
       "506       6  0.576722    superstar\n",
       "245       3  0.868459   supervisor\n",
       "115       5  0.839728      support\n",
       "158       4  0.801764       talent\n",
       "97        4  0.972002         team\n",
       "55        5  0.647276    technical\n",
       "55        7  0.323638    technical\n",
       "405       4  0.644609   technology\n",
       "405       7  0.322304   technology\n",
       "169       1  0.751760         test\n",
       "376       2  0.687054        thing\n",
       "107       6  0.564036        think\n",
       "461       7  0.587720      thought\n",
       "210       2  0.826169         time\n",
       "161       1  0.757054          top\n",
       "456       7  0.587697        total\n",
       "247       6  0.531249      totally\n",
       "447       6  0.576722     training\n",
       "220       4  0.820435     turnover\n",
       "157       5  0.711190        value\n",
       "322       2  0.750288        waste\n",
       "71        5  0.851148         well\n",
       "512       7  0.587720    whirlwind\n",
       "42        1  0.995536         work\n",
       "297       2  0.857058      working\n",
       "65        1  0.682485     worklife\n",
       "134       7  0.499665    workplace\n",
       "195       4  0.842017        worth\n",
       "120       3  0.926142         year\n",
       "\n",
       "[234 rows x 3 columns], R=30, lambda_step=0.01, plot_opts={'xlab': 'PC1', 'ylab': 'PC2'}, topic_order=[1, 6, 4, 2, 3, 5, 7])"
      ]
     },
     "execution_count": 98,
     "metadata": {},
     "output_type": "execute_result"
    }
   ],
   "source": [
    "import warnings\n",
    "warnings.filterwarnings(\"ignore\", category=FutureWarning) # hides future warning\n",
    "\n",
    "import pyLDAvis # interactive visualization for LDA\n",
    "import pyLDAvis.gensim \n",
    "\n",
    "pyLDAvis.enable_notebook()\n",
    "vis = pyLDAvis.gensim.prepare(lda_model, corpus, id2word)\n",
    "vis"
   ]
  },
  {
   "cell_type": "markdown",
   "metadata": {
    "heading_collapsed": true,
    "hidden": true
   },
   "source": [
    "## LDA Mallet Model"
   ]
  },
  {
   "cell_type": "code",
   "execution_count": 99,
   "metadata": {
    "hidden": true
   },
   "outputs": [],
   "source": [
    "# Download file: http://mallet.cs.umass.edu/dist/mallet-2.0.8.zip\n",
    "# Installing mallet: https://programminghistorian.org/en/lessons/topic-modeling-and-mallet#mac-instructions\n",
    "# Download Java SE (download .zip instead of .exe for silent install)\n",
    "\n",
    "import os\n",
    "from gensim.models.wrappers import LdaMallet\n",
    "\n",
    "os.environ.update({'MALLET_HOME':r'/Users/Mick/Desktop/mallet/'}) # create environment\n",
    "mallet_path = '/Users/Mick/Desktop/mallet/bin/mallet' # update this path"
   ]
  },
  {
   "cell_type": "code",
   "execution_count": 100,
   "metadata": {
    "hidden": true
   },
   "outputs": [],
   "source": [
    "ldamallet = LdaMallet(mallet_path,corpus=corpus,num_topics=7,id2word=id2word)\n",
    "# here we use 7 topics"
   ]
  },
  {
   "cell_type": "code",
   "execution_count": 101,
   "metadata": {
    "hidden": true
   },
   "outputs": [
    {
     "name": "stdout",
     "output_type": "stream",
     "text": [
      "[(0,\n",
      "  [('engineer', 0.12435233160621761),\n",
      "   ('software', 0.07253886010362694),\n",
      "   ('senior', 0.07253886010362694),\n",
      "   ('love', 0.05181347150259067),\n",
      "   ('amazing', 0.05181347150259067),\n",
      "   ('company', 0.04145077720207254),\n",
      "   ('supervisor', 0.03626943005181347),\n",
      "   ('production', 0.025906735751295335),\n",
      "   ('lot', 0.025906735751295335),\n",
      "   ('paced', 0.02072538860103627)]),\n",
      " (1,\n",
      "  [('netflix', 0.15813953488372093),\n",
      "   ('place', 0.08372093023255814),\n",
      "   ('work', 0.06511627906976744),\n",
      "   ('environment', 0.06046511627906977),\n",
      "   ('people', 0.05116279069767442),\n",
      "   ('year', 0.04186046511627907),\n",
      "   ('csr', 0.027906976744186046),\n",
      "   ('support', 0.027906976744186046),\n",
      "   ('operation', 0.023255813953488372),\n",
      "   ('team', 0.018604651162790697)]),\n",
      " (2,\n",
      "  [('work', 0.26785714285714285),\n",
      "   ('place', 0.16964285714285715),\n",
      "   ('company', 0.07589285714285714),\n",
      "   ('make', 0.03125),\n",
      "   ('top', 0.017857142857142856),\n",
      "   ('competitive', 0.013392857142857142),\n",
      "   ('finance', 0.013392857142857142),\n",
      "   ('benefit', 0.013392857142857142),\n",
      "   ('smart', 0.013392857142857142),\n",
      "   ('performance', 0.013392857142857142)]),\n",
      " (3,\n",
      "  [('good', 0.22058823529411764),\n",
      "   ('pay', 0.07352941176470588),\n",
      "   ('freedom', 0.06372549019607843),\n",
      "   ('bad', 0.06372549019607843),\n",
      "   ('center', 0.058823529411764705),\n",
      "   ('fast', 0.04411764705882353),\n",
      "   ('call', 0.04411764705882353),\n",
      "   ('experience', 0.03431372549019608),\n",
      "   ('real', 0.024509803921568627),\n",
      "   ('rep', 0.024509803921568627)]),\n",
      " (4,\n",
      "  [('culture', 0.2774869109947644),\n",
      "   ('high', 0.08900523560209424),\n",
      "   ('great', 0.07853403141361257),\n",
      "   ('responsibility', 0.05235602094240838),\n",
      "   ('management', 0.03664921465968586),\n",
      "   ('fear', 0.031413612565445025),\n",
      "   ('grow', 0.02617801047120419),\n",
      "   ('fun', 0.020942408376963352),\n",
      "   ('incredible', 0.015706806282722512),\n",
      "   ('coworker', 0.015706806282722512)]),\n",
      " (5,\n",
      "  [('customer', 0.15104166666666666),\n",
      "   ('job', 0.11458333333333333),\n",
      "   ('service', 0.109375),\n",
      "   ('manager', 0.07291666666666667),\n",
      "   ('representative', 0.041666666666666664),\n",
      "   ('awesome', 0.036458333333333336),\n",
      "   ('excellent', 0.03125),\n",
      "   ('challenge', 0.020833333333333332),\n",
      "   ('employee', 0.020833333333333332),\n",
      "   ('technical', 0.020833333333333332)]),\n",
      " (6,\n",
      "  [('great', 0.37735849056603776),\n",
      "   ('company', 0.09905660377358491),\n",
      "   ('experience', 0.04716981132075472),\n",
      "   ('assistant', 0.0330188679245283),\n",
      "   ('reward', 0.02830188679245283),\n",
      "   ('product', 0.02358490566037736),\n",
      "   ('nice', 0.018867924528301886),\n",
      "   ('worklife', 0.014150943396226415),\n",
      "   ('marketing', 0.014150943396226415),\n",
      "   ('balance', 0.009433962264150943)])]\n"
     ]
    }
   ],
   "source": [
    "# Show topics\n",
    "pprint(ldamallet.show_topics(formatted=False))"
   ]
  },
  {
   "cell_type": "markdown",
   "metadata": {
    "heading_collapsed": true,
    "hidden": true
   },
   "source": [
    "### LDA Mallet Model Performance"
   ]
  },
  {
   "cell_type": "code",
   "execution_count": 102,
   "metadata": {
    "hidden": true
   },
   "outputs": [
    {
     "name": "stdout",
     "output_type": "stream",
     "text": [
      "\n",
      "Coherence Score:  0.7503270215467082\n"
     ]
    }
   ],
   "source": [
    "# Compute coherence score\n",
    "coherence_model_ldamallet = CoherenceModel(model=ldamallet, texts=data_lemmatized, dictionary=id2word, coherence=\"c_v\")\n",
    "coherence_ldamallet = coherence_model_ldamallet.get_coherence()\n",
    "print('\\nCoherence Score: ', coherence_ldamallet)"
   ]
  },
  {
   "cell_type": "markdown",
   "metadata": {
    "heading_collapsed": true,
    "hidden": true
   },
   "source": [
    "## Finding the Optimal Number of Topics for LDA Mallet Model"
   ]
  },
  {
   "cell_type": "code",
   "execution_count": 103,
   "metadata": {
    "hidden": true
   },
   "outputs": [],
   "source": [
    "# compute coherence_values for LdaMallets models\n",
    "\n",
    "def compute_coherence_values(dictionary, corpus, texts, limit, start=2, step=3):\n",
    "    coherence_values = []\n",
    "    model_list = []\n",
    "    for num_topics in range(start, limit, step):\n",
    "        model = gensim.models.wrappers.LdaMallet(mallet_path, corpus=corpus, num_topics=num_topics, id2word=id2word)\n",
    "        model_list.append(model) # adds different LdaMallet models based on num_topics(start, limit, step)\n",
    "        coherencemodel = CoherenceModel(model=model, texts=texts, dictionary=dictionary, coherence='c_v')\n",
    "        coherence_values.append(coherencemodel.get_coherence()) # add the different LdaMallet models and compute Coherence score\n",
    "    return model_list, coherence_values\n",
    "\n",
    "# Recall previous LdaMallet model\n",
    "# ldamallet = LdaMallet(mallet_path,corpus=corpus,num_topics=10,id2word=id2word)\n",
    "# coherence_model_ldamallet = CoherenceModel(model=ldamallet, texts=data_lemmatized, dictionary=id2word, coherence=\"c_v\")\n",
    "\n",
    "# compute a list of LdaMallets models\n",
    "model_list, coherence_values = compute_coherence_values(dictionary=id2word, corpus=corpus, texts=data_lemmatized, start=2, limit=40, step=6)"
   ]
  },
  {
   "cell_type": "code",
   "execution_count": 104,
   "metadata": {
    "hidden": true
   },
   "outputs": [
    {
     "data": {
      "image/png": "[encoded data removed]",
      "text/plain": [
       "<Figure size 432x288 with 1 Axes>"
      ]
     },
     "metadata": {
      "needs_background": "light"
     },
     "output_type": "display_data"
    }
   ],
   "source": [
    "# show graph\n",
    "limit=40; start=2; step=6;\n",
    "x = range(start, limit, step)\n",
    "plt.plot(x, coherence_values)\n",
    "plt.xlabel('Num Topics')\n",
    "plt.ylabel('Coherence score')\n",
    "plt.legend(('coherence_values'), loc='best')\n",
    "plt.show()"
   ]
  },
  {
   "cell_type": "code",
   "execution_count": 105,
   "metadata": {
    "hidden": true
   },
   "outputs": [
    {
     "name": "stdout",
     "output_type": "stream",
     "text": [
      "Num Topics = 2  has Coherence Value of 0.6561\n",
      "Num Topics = 8  has Coherence Value of 0.7574\n",
      "Num Topics = 14  has Coherence Value of 0.7701\n",
      "Num Topics = 20  has Coherence Value of 0.7867\n",
      "Num Topics = 26  has Coherence Value of 0.7846\n",
      "Num Topics = 32  has Coherence Value of 0.7794\n",
      "Num Topics = 38  has Coherence Value of 0.7684\n"
     ]
    }
   ],
   "source": [
    "# Print the coherence scores\n",
    "for m, cv in zip(x, coherence_values): # zip aggregate iterables (zero or more)\n",
    "    print('Num Topics =', m, ' has Coherence Value of', round(cv, 4))\n",
    "    # calls an iterated x (x = range(start, limit, step)) and coherence_values (4 decimals)"
   ]
  },
  {
   "cell_type": "code",
   "execution_count": 106,
   "metadata": {
    "hidden": true
   },
   "outputs": [
    {
     "name": "stdout",
     "output_type": "stream",
     "text": [
      "[(0,\n",
      "  '0.268*\"job\" + 0.141*\"love\" + 0.056*\"rep\" + 0.042*\"excellent\" + 0.028*\"hour\" '\n",
      "  '+ 0.028*\"leadership\" + 0.028*\"reliability\" + 0.028*\"focus\" + 0.028*\"fine\" + '\n",
      "  '0.014*\"deal\"'),\n",
      " (1,\n",
      "  '0.362*\"netflix\" + 0.072*\"management\" + 0.058*\"pace\" + 0.043*\"enjoyable\" + '\n",
      "  '0.029*\"assistant\" + 0.029*\"quick\" + 0.029*\"stressful\" + 0.014*\"hit\" + '\n",
      "  '0.014*\"awesome\" + 0.014*\"sustain\"'),\n",
      " (2,\n",
      "  '0.177*\"work\" + 0.113*\"fear\" + 0.081*\"assistant\" + 0.065*\"top\" + '\n",
      "  '0.065*\"team\" + 0.048*\"product\" + 0.048*\"talent\" + 0.032*\"high\" + '\n",
      "  '0.032*\"pretty\" + 0.032*\"density\"'),\n",
      " (3,\n",
      "  '0.452*\"culture\" + 0.041*\"amazing\" + 0.041*\"smart\" + 0.041*\"turnover\" + '\n",
      "  '0.027*\"interesting\" + 0.014*\"matrix\" + 0.014*\"job\" + 0.014*\"path\" + '\n",
      "  '0.014*\"developer\" + 0.014*\"startup\"'),\n",
      " (4,\n",
      "  '0.457*\"great\" + 0.074*\"csr\" + 0.049*\"operation\" + 0.049*\"nice\" + '\n",
      "  '0.037*\"technical\" + 0.037*\"balance\" + 0.037*\"solid\" + 0.025*\"treat\" + '\n",
      "  '0.012*\"deck\" + 0.012*\"incredible\"'),\n",
      " (5,\n",
      "  '0.231*\"high\" + 0.138*\"netflix\" + 0.046*\"lot\" + 0.046*\"reward\" + '\n",
      "  '0.046*\"worklife\" + 0.031*\"enjoy\" + 0.031*\"performance\" + 0.031*\"challenge\" '\n",
      "  '+ 0.015*\"adrift\" + 0.015*\"minor\"'),\n",
      " (6,\n",
      "  '0.384*\"place\" + 0.178*\"bad\" + 0.041*\"marketing\" + 0.027*\"content\" + '\n",
      "  '0.027*\"excellent\" + 0.014*\"position\" + 0.014*\"ilovemyjob\" + 0.014*\"diverse\" '\n",
      "  '+ 0.014*\"analyst\" + 0.014*\"recruiter\"'),\n",
      " (7,\n",
      "  '0.286*\"place\" + 0.224*\"work\" + 0.041*\"paced\" + 0.041*\"senior\" + '\n",
      "  '0.031*\"change\" + 0.031*\"job\" + 0.031*\"benefit\" + 0.020*\"analyst\" + '\n",
      "  '0.020*\"coworker\" + 0.010*\"incredible\"'),\n",
      " (8,\n",
      "  '0.636*\"work\" + 0.045*\"technology\" + 0.045*\"review\" + 0.015*\"demand\" + '\n",
      "  '0.015*\"enemy\" + 0.015*\"payable\" + 0.015*\"compensation\" + 0.015*\"training\" + '\n",
      "  '0.015*\"mailer\" + 0.015*\"racist\"'),\n",
      " (9,\n",
      "  '0.317*\"culture\" + 0.095*\"good\" + 0.079*\"production\" + 0.063*\"fantastic\" + '\n",
      "  '0.063*\"worth\" + 0.048*\"rewarding\" + 0.048*\"amazing\" + 0.016*\"manage\" + '\n",
      "  '0.016*\"build\" + 0.016*\"learn\"'),\n",
      " (10,\n",
      "  '0.206*\"freedom\" + 0.159*\"responsibility\" + 0.143*\"company\" + '\n",
      "  '0.063*\"amazing\" + 0.032*\"agent\" + 0.016*\"watch\" + 0.016*\"rockstar\" + '\n",
      "  '0.016*\"totally\" + 0.016*\"worsen\" + 0.016*\"growth\"'),\n",
      " (11,\n",
      "  '0.690*\"great\" + 0.036*\"competitive\" + 0.024*\"engineering\" + 0.024*\"work\" + '\n",
      "  '0.012*\"lead\" + 0.012*\"slide\" + 0.012*\"live\" + 0.012*\"memo\" + 0.012*\"start\" '\n",
      "  '+ 0.012*\"valedictorian\"'),\n",
      " (12,\n",
      "  '0.338*\"good\" + 0.176*\"center\" + 0.176*\"call\" + 0.044*\"business\" + '\n",
      "  '0.029*\"performance\" + 0.015*\"proceeding\" + 0.015*\"positive\" + '\n",
      "  '0.015*\"promise\" + 0.015*\"performer\" + 0.015*\"policy\"'),\n",
      " (13,\n",
      "  '0.222*\"good\" + 0.181*\"environment\" + 0.097*\"make\" + 0.042*\"hard\" + '\n",
      "  '0.028*\"pressure\" + 0.014*\"power\" + 0.014*\"fun\" + 0.014*\"development\" + '\n",
      "  '0.014*\"tier\" + 0.014*\"director\"'),\n",
      " (14,\n",
      "  '0.183*\"people\" + 0.167*\"fast\" + 0.117*\"company\" + 0.050*\"fun\" + '\n",
      "  '0.033*\"account\" + 0.017*\"advertised\" + 0.017*\"big\" + 0.017*\"mob\" + '\n",
      "  '0.017*\"engineering\" + 0.017*\"expect\"'),\n",
      " (15,\n",
      "  '0.208*\"pay\" + 0.194*\"manager\" + 0.069*\"grow\" + 0.056*\"employee\" + '\n",
      "  '0.056*\"challenge\" + 0.042*\"customer\" + 0.028*\"management\" + 0.014*\"equal\" + '\n",
      "  '0.014*\"caution\" + 0.014*\"avoid\"'),\n",
      " (16,\n",
      "  '0.266*\"experience\" + 0.141*\"year\" + 0.078*\"supervisor\" + 0.078*\"support\" + '\n",
      "  '0.047*\"base\" + 0.031*\"executive\" + 0.016*\"negative\" + 0.016*\"account\" + '\n",
      "  '0.016*\"large\" + 0.016*\"clerk\"'),\n",
      " (17,\n",
      "  '0.317*\"customer\" + 0.280*\"service\" + 0.098*\"representative\" + 0.012*\"give\" '\n",
      "  '+ 0.012*\"producer\" + 0.012*\"thing\" + 0.012*\"publicist\" + 0.012*\"cutthroat\" '\n",
      "  '+ 0.012*\"create\" + 0.012*\"advertising\"'),\n",
      " (18,\n",
      "  '0.333*\"engineer\" + 0.194*\"software\" + 0.125*\"senior\" + 0.042*\"opportunity\" '\n",
      "  '+ 0.028*\"handle\" + 0.028*\"finance\" + 0.028*\"friendly\" + 0.014*\"previous\" + '\n",
      "  '0.014*\"decline\" + 0.014*\"successful\"'),\n",
      " (19,\n",
      "  '0.411*\"company\" + 0.082*\"awesome\" + 0.068*\"real\" + 0.041*\"supervisor\" + '\n",
      "  '0.041*\"reward\" + 0.027*\"time\" + 0.027*\"kink\" + 0.027*\"hour\" + '\n",
      "  '0.027*\"learning\" + 0.014*\"meet\"')]\n"
     ]
    }
   ],
   "source": [
    "# Select the model with highest coherence value and print the topics\n",
    "optimal_model = model_list[3] # the 3rd index from above output\n",
    "model_topics = optimal_model.show_topics(formatted=False)\n",
    "pprint(optimal_model.print_topics(num_words=10)) # set num_words parament to show 10 words per topic"
   ]
  },
  {
   "cell_type": "markdown",
   "metadata": {
    "heading_collapsed": true,
    "hidden": true
   },
   "source": [
    "### Visual the Optimal LDA Mallet Model"
   ]
  },
  {
   "cell_type": "code",
   "execution_count": 107,
   "metadata": {
    "hidden": true
   },
   "outputs": [
    {
     "data": {
      "image/png": "[encoded data removed]",
      "text/plain": [
       "<Figure size 720x720 with 4 Axes>"
      ]
     },
     "metadata": {
      "needs_background": "light"
     },
     "output_type": "display_data"
    }
   ],
   "source": [
    "# Wordcloud of Top N words in each topic\n",
    "from matplotlib import pyplot as plt\n",
    "from wordcloud import WordCloud, STOPWORDS\n",
    "import matplotlib.colors as mcolors\n",
    "\n",
    "cols = [color for name, color in mcolors.TABLEAU_COLORS.items()]  # more colors: 'mcolors.XKCD_COLORS'\n",
    "\n",
    "cloud = WordCloud(stopwords=stop_words,\n",
    "                  background_color='white',\n",
    "                  width=2500,\n",
    "                  height=1800,\n",
    "                  max_words=10,\n",
    "                  colormap='tab10',\n",
    "                  color_func=lambda *args, **kwargs: cols[i],\n",
    "                  prefer_horizontal=1.0)\n",
    "\n",
    "topics = optimal_model.show_topics(formatted=False)\n",
    "\n",
    "fig, axes = plt.subplots(2, 2, figsize=(10,10), sharex=True, sharey=True)\n",
    "\n",
    "for i, ax in enumerate(axes.flatten()):\n",
    "    fig.add_subplot(ax)\n",
    "    topic_words = dict(topics[i][1])\n",
    "    cloud.generate_from_frequencies(topic_words, max_font_size=300)\n",
    "    plt.gca().imshow(cloud)\n",
    "    plt.gca().set_title('Topic ' + str(i), fontdict=dict(size=16))\n",
    "    plt.gca().axis('off')\n",
    "\n",
    "\n",
    "plt.subplots_adjust(wspace=0, hspace=0)\n",
    "plt.axis('off')\n",
    "plt.margins(x=0, y=0)\n",
    "plt.tight_layout()\n",
    "plt.show()"
   ]
  },
  {
   "cell_type": "markdown",
   "metadata": {
    "heading_collapsed": true,
    "hidden": true
   },
   "source": [
    "## Analysis"
   ]
  },
  {
   "cell_type": "markdown",
   "metadata": {
    "heading_collapsed": true,
    "hidden": true
   },
   "source": [
    "### Finding topics for each document"
   ]
  },
  {
   "cell_type": "code",
   "execution_count": 108,
   "metadata": {
    "hidden": true
   },
   "outputs": [
    {
     "data": {
      "text/html": [
       "<div>\n",
       "<style scoped>\n",
       "    .dataframe tbody tr th:only-of-type {\n",
       "        vertical-align: middle;\n",
       "    }\n",
       "\n",
       "    .dataframe tbody tr th {\n",
       "        vertical-align: top;\n",
       "    }\n",
       "\n",
       "    .dataframe thead th {\n",
       "        text-align: right;\n",
       "    }\n",
       "</style>\n",
       "<table border=\"1\" class=\"dataframe\">\n",
       "  <thead>\n",
       "    <tr style=\"text-align: right;\">\n",
       "      <th></th>\n",
       "      <th>Document_No</th>\n",
       "      <th>Dominant_Topic</th>\n",
       "      <th>Topic_Perc_Contrib</th>\n",
       "      <th>Keywords</th>\n",
       "      <th>Document</th>\n",
       "    </tr>\n",
       "  </thead>\n",
       "  <tbody>\n",
       "    <tr>\n",
       "      <th>0</th>\n",
       "      <td>0</td>\n",
       "      <td>2.0</td>\n",
       "      <td>0.0609</td>\n",
       "      <td>work, fear, assistant, top, team, product, tal...</td>\n",
       "      <td>Executive Assistant</td>\n",
       "    </tr>\n",
       "    <tr>\n",
       "      <th>1</th>\n",
       "      <td>1</td>\n",
       "      <td>5.0</td>\n",
       "      <td>0.0618</td>\n",
       "      <td>high, netflix, lot, reward, worklife, enjoy, p...</td>\n",
       "      <td>How much does a functioning human cost</td>\n",
       "    </tr>\n",
       "    <tr>\n",
       "      <th>2</th>\n",
       "      <td>2</td>\n",
       "      <td>12.0</td>\n",
       "      <td>0.0673</td>\n",
       "      <td>good, center, call, business, performance, pro...</td>\n",
       "      <td>QA Tester Contractor</td>\n",
       "    </tr>\n",
       "    <tr>\n",
       "      <th>3</th>\n",
       "      <td>3</td>\n",
       "      <td>0.0</td>\n",
       "      <td>0.0673</td>\n",
       "      <td>job, love, rep, excellent, hour, leadership, r...</td>\n",
       "      <td>Netflix Editor</td>\n",
       "    </tr>\n",
       "    <tr>\n",
       "      <th>4</th>\n",
       "      <td>4</td>\n",
       "      <td>0.0</td>\n",
       "      <td>0.0664</td>\n",
       "      <td>job, love, rep, excellent, hour, leadership, r...</td>\n",
       "      <td>I love it</td>\n",
       "    </tr>\n",
       "    <tr>\n",
       "      <th>5</th>\n",
       "      <td>5</td>\n",
       "      <td>0.0</td>\n",
       "      <td>0.0500</td>\n",
       "      <td>job, love, rep, excellent, hour, leadership, r...</td>\n",
       "      <td>Ok</td>\n",
       "    </tr>\n",
       "    <tr>\n",
       "      <th>6</th>\n",
       "      <td>6</td>\n",
       "      <td>15.0</td>\n",
       "      <td>0.0628</td>\n",
       "      <td>pay, manager, grow, employee, challenge, custo...</td>\n",
       "      <td>Great company with some growing pains</td>\n",
       "    </tr>\n",
       "    <tr>\n",
       "      <th>7</th>\n",
       "      <td>7</td>\n",
       "      <td>4.0</td>\n",
       "      <td>0.0673</td>\n",
       "      <td>great, csr, operation, nice, technical, balanc...</td>\n",
       "      <td>Operations Manager</td>\n",
       "    </tr>\n",
       "    <tr>\n",
       "      <th>8</th>\n",
       "      <td>8</td>\n",
       "      <td>3.0</td>\n",
       "      <td>0.0719</td>\n",
       "      <td>culture, amazing, smart, turnover, interesting...</td>\n",
       "      <td>Culture of fear is real tone deaf culture that...</td>\n",
       "    </tr>\n",
       "    <tr>\n",
       "      <th>9</th>\n",
       "      <td>9</td>\n",
       "      <td>18.0</td>\n",
       "      <td>0.0599</td>\n",
       "      <td>engineer, software, senior, opportunity, handl...</td>\n",
       "      <td>Very friendly</td>\n",
       "    </tr>\n",
       "  </tbody>\n",
       "</table>\n",
       "</div>"
      ],
      "text/plain": [
       "   Document_No  Dominant_Topic  Topic_Perc_Contrib  \\\n",
       "0            0             2.0              0.0609   \n",
       "1            1             5.0              0.0618   \n",
       "2            2            12.0              0.0673   \n",
       "3            3             0.0              0.0673   \n",
       "4            4             0.0              0.0664   \n",
       "5            5             0.0              0.0500   \n",
       "6            6            15.0              0.0628   \n",
       "7            7             4.0              0.0673   \n",
       "8            8             3.0              0.0719   \n",
       "9            9            18.0              0.0599   \n",
       "\n",
       "                                            Keywords  \\\n",
       "0  work, fear, assistant, top, team, product, tal...   \n",
       "1  high, netflix, lot, reward, worklife, enjoy, p...   \n",
       "2  good, center, call, business, performance, pro...   \n",
       "3  job, love, rep, excellent, hour, leadership, r...   \n",
       "4  job, love, rep, excellent, hour, leadership, r...   \n",
       "5  job, love, rep, excellent, hour, leadership, r...   \n",
       "6  pay, manager, grow, employee, challenge, custo...   \n",
       "7  great, csr, operation, nice, technical, balanc...   \n",
       "8  culture, amazing, smart, turnover, interesting...   \n",
       "9  engineer, software, senior, opportunity, handl...   \n",
       "\n",
       "                                            Document  \n",
       "0                                Executive Assistant  \n",
       "1             How much does a functioning human cost  \n",
       "2                               QA Tester Contractor  \n",
       "3                                     Netflix Editor  \n",
       "4                                          I love it  \n",
       "5                                                 Ok  \n",
       "6              Great company with some growing pains  \n",
       "7                                 Operations Manager  \n",
       "8  Culture of fear is real tone deaf culture that...  \n",
       "9                                      Very friendly  "
      ]
     },
     "execution_count": 108,
     "metadata": {},
     "output_type": "execute_result"
    }
   ],
   "source": [
    "def format_topics_sentences(ldamodel=optimal_model, corpus=corpus, texts=data):\n",
    "    # Create DataFrame\n",
    "    sent_topics_df = pd.DataFrame()\n",
    "\n",
    "    # Get dominant topic in each document\n",
    "    for i, row in enumerate(ldamodel[corpus]):                   # call the optimal_model from LdaMallet (ldamodel=optimal_model)\n",
    "        row = sorted(row, key=lambda x: (x[1]), reverse=True)    # sort the dominant topic for each document (use row[0] for windows)\n",
    "        \n",
    "        \n",
    "        # Get the Dominant topic, Perc Contribution and Keywords for each document\n",
    "        for j, (topic_num, prop_topic) in enumerate(row):\n",
    "            if j == 0:                                           # dominant topic\n",
    "                wp = ldamodel.show_topic(topic_num)              # show the dominant topic column (topic_num)\n",
    "                topic_keywords = \", \".join([word for word, prop in wp])   # add keywords column to each dominant topic column\n",
    "                sent_topics_df = sent_topics_df.append(pd.Series([int(topic_num), round(prop_topic,4), topic_keywords]), ignore_index=True)\n",
    "                # add to dataframe columns: dominant topic (topic_num), perc_contribution (prop_topic (4 decimal)),\n",
    "                # and keywords (topic_keywords)\n",
    "            else:\n",
    "                break\n",
    "    sent_topics_df.columns = ['Dominant_Topic', 'Perc_Contribution', 'Topic_Keywords'] # create dataframe title\n",
    "    # Essentially, we sort the dominant topic for each document,\n",
    "    # Then we add keywords column to each dominant topic column for each document, and append it to our sent_topics_df dataframe\n",
    "    # (dataframe now include: dominant topic (topic_num), perc_contribution (prop_topic (4 decimal)), and keywords (topic_keywords))\n",
    "    # Note that prop_topic is perc_contribution from output of keywords and their respective weights (ie. 'window', 0.0235866)\n",
    "    # Finally name the dataframe columns for topic_num, prop_topic, topic_keywords to Dominant_topic, Perc_Contribution and Topic_Keywords\n",
    "    \n",
    "        \n",
    "    # Add original text to the end of the output (recall that texts = data_lemmatized)\n",
    "    contents = pd.Series(texts)\n",
    "    sent_topics_df = pd.concat([sent_topics_df, contents], axis=1)\n",
    "    return(sent_topics_df)\n",
    "    # we take out sent_topics_df dataframe that is configured, and add our texts to it\n",
    "\n",
    "    \n",
    "df_topic_sents_keywords = format_topics_sentences(ldamodel=optimal_model, corpus=corpus, texts=data)\n",
    "# texts=data since that is what we assigned in the format_topics_sentences function, but in the function we already\n",
    "# called and added our data (texts=data_lemmatized) to the dataframe, which is why now we use texts=data default parameter\n",
    "\n",
    "\n",
    "# Format\n",
    "df_dominant_topic = df_topic_sents_keywords.reset_index()       # re-index\n",
    "df_dominant_topic.columns = ['Document_No', 'Dominant_Topic', 'Topic_Perc_Contrib', 'Keywords', 'Document']\n",
    "# name all the columns for the DataFrame\n",
    "\n",
    "# Show\n",
    "df_dominant_topic.head(10)"
   ]
  },
  {
   "cell_type": "markdown",
   "metadata": {
    "heading_collapsed": true,
    "hidden": true
   },
   "source": [
    "### Finding documents for each topic"
   ]
  },
  {
   "cell_type": "code",
   "execution_count": 109,
   "metadata": {
    "hidden": true
   },
   "outputs": [
    {
     "data": {
      "text/html": [
       "<div>\n",
       "<style scoped>\n",
       "    .dataframe tbody tr th:only-of-type {\n",
       "        vertical-align: middle;\n",
       "    }\n",
       "\n",
       "    .dataframe tbody tr th {\n",
       "        vertical-align: top;\n",
       "    }\n",
       "\n",
       "    .dataframe thead th {\n",
       "        text-align: right;\n",
       "    }\n",
       "</style>\n",
       "<table border=\"1\" class=\"dataframe\">\n",
       "  <thead>\n",
       "    <tr style=\"text-align: right;\">\n",
       "      <th></th>\n",
       "      <th>Topic_Num</th>\n",
       "      <th>Topic_Perc_Contrib</th>\n",
       "      <th>Keywords</th>\n",
       "      <th>Document</th>\n",
       "    </tr>\n",
       "  </thead>\n",
       "  <tbody>\n",
       "    <tr>\n",
       "      <th>0</th>\n",
       "      <td>0.0</td>\n",
       "      <td>0.0854</td>\n",
       "      <td>job, love, rep, excellent, hour, leadership, r...</td>\n",
       "      <td>I loved it thought it was very easy and I love...</td>\n",
       "    </tr>\n",
       "    <tr>\n",
       "      <th>1</th>\n",
       "      <td>1.0</td>\n",
       "      <td>0.0798</td>\n",
       "      <td>netflix, management, pace, enjoyable, assistan...</td>\n",
       "      <td>great spot to make a quick buck</td>\n",
       "    </tr>\n",
       "    <tr>\n",
       "      <th>2</th>\n",
       "      <td>2.0</td>\n",
       "      <td>0.1039</td>\n",
       "      <td>work, fear, assistant, top, team, product, tal...</td>\n",
       "      <td>Top Talent  Top Comany</td>\n",
       "    </tr>\n",
       "    <tr>\n",
       "      <th>3</th>\n",
       "      <td>3.0</td>\n",
       "      <td>0.0903</td>\n",
       "      <td>culture, amazing, smart, turnover, interesting...</td>\n",
       "      <td>Global Learning and Development Curriculum Dev...</td>\n",
       "    </tr>\n",
       "    <tr>\n",
       "      <th>4</th>\n",
       "      <td>4.0</td>\n",
       "      <td>0.0813</td>\n",
       "      <td>great, csr, operation, nice, technical, balanc...</td>\n",
       "      <td>Great job People were very nice</td>\n",
       "    </tr>\n",
       "    <tr>\n",
       "      <th>5</th>\n",
       "      <td>5.0</td>\n",
       "      <td>0.0957</td>\n",
       "      <td>high, netflix, lot, reward, worklife, enjoy, p...</td>\n",
       "      <td>High Pressure High Reward</td>\n",
       "    </tr>\n",
       "    <tr>\n",
       "      <th>6</th>\n",
       "      <td>6.0</td>\n",
       "      <td>0.0813</td>\n",
       "      <td>place, bad, marketing, content, excellent, pos...</td>\n",
       "      <td>Great place to work could use some more diversity</td>\n",
       "    </tr>\n",
       "    <tr>\n",
       "      <th>7</th>\n",
       "      <td>7.0</td>\n",
       "      <td>0.0849</td>\n",
       "      <td>place, work, paced, senior, change, job, benef...</td>\n",
       "      <td>Senior Financial Analyst</td>\n",
       "    </tr>\n",
       "    <tr>\n",
       "      <th>8</th>\n",
       "      <td>8.0</td>\n",
       "      <td>0.0942</td>\n",
       "      <td>work, technology, review, demand, enemy, payab...</td>\n",
       "      <td>Netflix is the same as working for HBOTime War...</td>\n",
       "    </tr>\n",
       "    <tr>\n",
       "      <th>9</th>\n",
       "      <td>9.0</td>\n",
       "      <td>0.0798</td>\n",
       "      <td>culture, good, production, fantastic, worth, r...</td>\n",
       "      <td>A culture of high performance can be daunting ...</td>\n",
       "    </tr>\n",
       "    <tr>\n",
       "      <th>10</th>\n",
       "      <td>10.0</td>\n",
       "      <td>0.0998</td>\n",
       "      <td>freedom, responsibility, company, amazing, age...</td>\n",
       "      <td>Rockstar coworkers freedom and responsibility</td>\n",
       "    </tr>\n",
       "    <tr>\n",
       "      <th>11</th>\n",
       "      <td>11.0</td>\n",
       "      <td>0.0843</td>\n",
       "      <td>great, competitive, engineering, work, lead, s...</td>\n",
       "      <td>Great Product  Great People  Great Culture</td>\n",
       "    </tr>\n",
       "    <tr>\n",
       "      <th>12</th>\n",
       "      <td>12.0</td>\n",
       "      <td>0.0936</td>\n",
       "      <td>good, center, call, business, performance, pro...</td>\n",
       "      <td>Good call center environment</td>\n",
       "    </tr>\n",
       "    <tr>\n",
       "      <th>13</th>\n",
       "      <td>13.0</td>\n",
       "      <td>0.0998</td>\n",
       "      <td>good, environment, make, hard, pressure, power...</td>\n",
       "      <td>Work Hard Play Hard</td>\n",
       "    </tr>\n",
       "    <tr>\n",
       "      <th>14</th>\n",
       "      <td>14.0</td>\n",
       "      <td>0.0789</td>\n",
       "      <td>people, fast, company, fun, account, advertise...</td>\n",
       "      <td>Fun ride fast pace and changes including your job</td>\n",
       "    </tr>\n",
       "    <tr>\n",
       "      <th>15</th>\n",
       "      <td>15.0</td>\n",
       "      <td>0.0865</td>\n",
       "      <td>pay, manager, grow, employee, challenge, custo...</td>\n",
       "      <td>Project Manager</td>\n",
       "    </tr>\n",
       "    <tr>\n",
       "      <th>16</th>\n",
       "      <td>16.0</td>\n",
       "      <td>0.1019</td>\n",
       "      <td>experience, year, supervisor, support, base, e...</td>\n",
       "      <td>I had the best ever experience in my  years of...</td>\n",
       "    </tr>\n",
       "    <tr>\n",
       "      <th>17</th>\n",
       "      <td>17.0</td>\n",
       "      <td>0.1038</td>\n",
       "      <td>customer, service, representative, give, produ...</td>\n",
       "      <td>Customer Service Paradise</td>\n",
       "    </tr>\n",
       "    <tr>\n",
       "      <th>18</th>\n",
       "      <td>18.0</td>\n",
       "      <td>0.1038</td>\n",
       "      <td>engineer, software, senior, opportunity, handl...</td>\n",
       "      <td>Senior Software Engineer</td>\n",
       "    </tr>\n",
       "    <tr>\n",
       "      <th>19</th>\n",
       "      <td>19.0</td>\n",
       "      <td>0.0807</td>\n",
       "      <td>company, awesome, real, supervisor, reward, ti...</td>\n",
       "      <td>Awesome company if you are engineer</td>\n",
       "    </tr>\n",
       "  </tbody>\n",
       "</table>\n",
       "</div>"
      ],
      "text/plain": [
       "    Topic_Num  Topic_Perc_Contrib  \\\n",
       "0         0.0              0.0854   \n",
       "1         1.0              0.0798   \n",
       "2         2.0              0.1039   \n",
       "3         3.0              0.0903   \n",
       "4         4.0              0.0813   \n",
       "5         5.0              0.0957   \n",
       "6         6.0              0.0813   \n",
       "7         7.0              0.0849   \n",
       "8         8.0              0.0942   \n",
       "9         9.0              0.0798   \n",
       "10       10.0              0.0998   \n",
       "11       11.0              0.0843   \n",
       "12       12.0              0.0936   \n",
       "13       13.0              0.0998   \n",
       "14       14.0              0.0789   \n",
       "15       15.0              0.0865   \n",
       "16       16.0              0.1019   \n",
       "17       17.0              0.1038   \n",
       "18       18.0              0.1038   \n",
       "19       19.0              0.0807   \n",
       "\n",
       "                                             Keywords  \\\n",
       "0   job, love, rep, excellent, hour, leadership, r...   \n",
       "1   netflix, management, pace, enjoyable, assistan...   \n",
       "2   work, fear, assistant, top, team, product, tal...   \n",
       "3   culture, amazing, smart, turnover, interesting...   \n",
       "4   great, csr, operation, nice, technical, balanc...   \n",
       "5   high, netflix, lot, reward, worklife, enjoy, p...   \n",
       "6   place, bad, marketing, content, excellent, pos...   \n",
       "7   place, work, paced, senior, change, job, benef...   \n",
       "8   work, technology, review, demand, enemy, payab...   \n",
       "9   culture, good, production, fantastic, worth, r...   \n",
       "10  freedom, responsibility, company, amazing, age...   \n",
       "11  great, competitive, engineering, work, lead, s...   \n",
       "12  good, center, call, business, performance, pro...   \n",
       "13  good, environment, make, hard, pressure, power...   \n",
       "14  people, fast, company, fun, account, advertise...   \n",
       "15  pay, manager, grow, employee, challenge, custo...   \n",
       "16  experience, year, supervisor, support, base, e...   \n",
       "17  customer, service, representative, give, produ...   \n",
       "18  engineer, software, senior, opportunity, handl...   \n",
       "19  company, awesome, real, supervisor, reward, ti...   \n",
       "\n",
       "                                             Document  \n",
       "0   I loved it thought it was very easy and I love...  \n",
       "1                     great spot to make a quick buck  \n",
       "2                              Top Talent  Top Comany  \n",
       "3   Global Learning and Development Curriculum Dev...  \n",
       "4                     Great job People were very nice  \n",
       "5                           High Pressure High Reward  \n",
       "6   Great place to work could use some more diversity  \n",
       "7                            Senior Financial Analyst  \n",
       "8   Netflix is the same as working for HBOTime War...  \n",
       "9   A culture of high performance can be daunting ...  \n",
       "10      Rockstar coworkers freedom and responsibility  \n",
       "11         Great Product  Great People  Great Culture  \n",
       "12                       Good call center environment  \n",
       "13                                Work Hard Play Hard  \n",
       "14  Fun ride fast pace and changes including your job  \n",
       "15                                    Project Manager  \n",
       "16  I had the best ever experience in my  years of...  \n",
       "17                          Customer Service Paradise  \n",
       "18                           Senior Software Engineer  \n",
       "19                Awesome company if you are engineer  "
      ]
     },
     "execution_count": 109,
     "metadata": {},
     "output_type": "execute_result"
    }
   ],
   "source": [
    "# Group top 20 documents for the 20 dominant topic\n",
    "sent_topics_sorteddf_mallet = pd.DataFrame() # Create a new DataFrame for our analysis\n",
    "\n",
    "sent_topics_outdf_grpd = df_topic_sents_keywords.groupby('Dominant_Topic') \n",
    "# Groupyby dominant topics in df_topic_sents_keywords from above (where we derived the DataFrame showing dominant topic for each document)\n",
    "\n",
    "for i, grp in sent_topics_outdf_grpd:\n",
    "    sent_topics_sorteddf_mallet = pd.concat([sent_topics_sorteddf_mallet, grp.sort_values(['Perc_Contribution'], ascending=[0]).head(1)], axis=0)\n",
    "# Take sent_topics_sorteddf_mallet DataFrame and combine it with,\n",
    "# the most (head(1)) dominant topic in sent_topcs_outdf_grpd (grp) sort by perc_contribution\n",
    "# Essentially, we take our dataset with dominant topics and group it with texts that has the most contribution for each dominant topic\n",
    "\n",
    "# Reset Index    \n",
    "sent_topics_sorteddf_mallet.reset_index(drop=True, inplace=True)\n",
    "\n",
    "# Format\n",
    "sent_topics_sorteddf_mallet.columns = ['Topic_Num', \"Topic_Perc_Contrib\", \"Keywords\", \"Document\"]\n",
    "\n",
    "# Show the top 20 documents for the 20 dominant topic\n",
    "sent_topics_sorteddf_mallet "
   ]
  },
  {
   "cell_type": "markdown",
   "metadata": {
    "heading_collapsed": true,
    "hidden": true
   },
   "source": [
    "### Document distribution across Topics"
   ]
  },
  {
   "cell_type": "code",
   "execution_count": 110,
   "metadata": {
    "hidden": true
   },
   "outputs": [
    {
     "data": {
      "text/html": [
       "<div>\n",
       "<style scoped>\n",
       "    .dataframe tbody tr th:only-of-type {\n",
       "        vertical-align: middle;\n",
       "    }\n",
       "\n",
       "    .dataframe tbody tr th {\n",
       "        vertical-align: top;\n",
       "    }\n",
       "\n",
       "    .dataframe thead th {\n",
       "        text-align: right;\n",
       "    }\n",
       "</style>\n",
       "<table border=\"1\" class=\"dataframe\">\n",
       "  <thead>\n",
       "    <tr style=\"text-align: right;\">\n",
       "      <th></th>\n",
       "      <th>Dominant Topic</th>\n",
       "      <th>Num_Document</th>\n",
       "      <th>Perc_Document</th>\n",
       "    </tr>\n",
       "  </thead>\n",
       "  <tbody>\n",
       "    <tr>\n",
       "      <th>0</th>\n",
       "      <td>0.0</td>\n",
       "      <td>60</td>\n",
       "      <td>0.120</td>\n",
       "    </tr>\n",
       "    <tr>\n",
       "      <th>1</th>\n",
       "      <td>1.0</td>\n",
       "      <td>36</td>\n",
       "      <td>0.072</td>\n",
       "    </tr>\n",
       "    <tr>\n",
       "      <th>2</th>\n",
       "      <td>2.0</td>\n",
       "      <td>22</td>\n",
       "      <td>0.044</td>\n",
       "    </tr>\n",
       "    <tr>\n",
       "      <th>3</th>\n",
       "      <td>3.0</td>\n",
       "      <td>22</td>\n",
       "      <td>0.044</td>\n",
       "    </tr>\n",
       "    <tr>\n",
       "      <th>4</th>\n",
       "      <td>4.0</td>\n",
       "      <td>21</td>\n",
       "      <td>0.042</td>\n",
       "    </tr>\n",
       "    <tr>\n",
       "      <th>5</th>\n",
       "      <td>5.0</td>\n",
       "      <td>15</td>\n",
       "      <td>0.030</td>\n",
       "    </tr>\n",
       "    <tr>\n",
       "      <th>6</th>\n",
       "      <td>6.0</td>\n",
       "      <td>29</td>\n",
       "      <td>0.058</td>\n",
       "    </tr>\n",
       "    <tr>\n",
       "      <th>7</th>\n",
       "      <td>7.0</td>\n",
       "      <td>26</td>\n",
       "      <td>0.052</td>\n",
       "    </tr>\n",
       "    <tr>\n",
       "      <th>8</th>\n",
       "      <td>8.0</td>\n",
       "      <td>23</td>\n",
       "      <td>0.046</td>\n",
       "    </tr>\n",
       "    <tr>\n",
       "      <th>9</th>\n",
       "      <td>9.0</td>\n",
       "      <td>19</td>\n",
       "      <td>0.038</td>\n",
       "    </tr>\n",
       "    <tr>\n",
       "      <th>10</th>\n",
       "      <td>10.0</td>\n",
       "      <td>21</td>\n",
       "      <td>0.042</td>\n",
       "    </tr>\n",
       "    <tr>\n",
       "      <th>11</th>\n",
       "      <td>11.0</td>\n",
       "      <td>19</td>\n",
       "      <td>0.038</td>\n",
       "    </tr>\n",
       "    <tr>\n",
       "      <th>12</th>\n",
       "      <td>12.0</td>\n",
       "      <td>21</td>\n",
       "      <td>0.042</td>\n",
       "    </tr>\n",
       "    <tr>\n",
       "      <th>13</th>\n",
       "      <td>13.0</td>\n",
       "      <td>19</td>\n",
       "      <td>0.038</td>\n",
       "    </tr>\n",
       "    <tr>\n",
       "      <th>14</th>\n",
       "      <td>14.0</td>\n",
       "      <td>16</td>\n",
       "      <td>0.032</td>\n",
       "    </tr>\n",
       "    <tr>\n",
       "      <th>15</th>\n",
       "      <td>15.0</td>\n",
       "      <td>29</td>\n",
       "      <td>0.058</td>\n",
       "    </tr>\n",
       "    <tr>\n",
       "      <th>16</th>\n",
       "      <td>16.0</td>\n",
       "      <td>26</td>\n",
       "      <td>0.052</td>\n",
       "    </tr>\n",
       "    <tr>\n",
       "      <th>17</th>\n",
       "      <td>17.0</td>\n",
       "      <td>31</td>\n",
       "      <td>0.062</td>\n",
       "    </tr>\n",
       "    <tr>\n",
       "      <th>18</th>\n",
       "      <td>18.0</td>\n",
       "      <td>31</td>\n",
       "      <td>0.062</td>\n",
       "    </tr>\n",
       "    <tr>\n",
       "      <th>19</th>\n",
       "      <td>19.0</td>\n",
       "      <td>14</td>\n",
       "      <td>0.028</td>\n",
       "    </tr>\n",
       "  </tbody>\n",
       "</table>\n",
       "</div>"
      ],
      "text/plain": [
       "    Dominant Topic  Num_Document  Perc_Document\n",
       "0              0.0            60          0.120\n",
       "1              1.0            36          0.072\n",
       "2              2.0            22          0.044\n",
       "3              3.0            22          0.044\n",
       "4              4.0            21          0.042\n",
       "5              5.0            15          0.030\n",
       "6              6.0            29          0.058\n",
       "7              7.0            26          0.052\n",
       "8              8.0            23          0.046\n",
       "9              9.0            19          0.038\n",
       "10            10.0            21          0.042\n",
       "11            11.0            19          0.038\n",
       "12            12.0            21          0.042\n",
       "13            13.0            19          0.038\n",
       "14            14.0            16          0.032\n",
       "15            15.0            29          0.058\n",
       "16            16.0            26          0.052\n",
       "17            17.0            31          0.062\n",
       "18            18.0            31          0.062\n",
       "19            19.0            14          0.028"
      ]
     },
     "execution_count": 110,
     "metadata": {},
     "output_type": "execute_result"
    }
   ],
   "source": [
    "# Number of Documents for Each Topic\n",
    "topic_counts = df_topic_sents_keywords['Dominant_Topic'].value_counts()\n",
    "\n",
    "# Percentage of overall Documents for Each Topic (round to 4 decimals)\n",
    "topic_contribution = round(topic_counts/topic_counts.sum(), 4)\n",
    "\n",
    "# Total Dominant Topic Number\n",
    "topic_num_keywords = {'Topic_Num': pd.Series([0.0,1.0,2.0,3.0,4.0,5.0,6.0,7.0,8.0,9.0,10.0,\n",
    "                                              11.0,12.0,13.0,14.0,15.0,16.0,17.0,18.0,19.0])}\n",
    "topic_num_keywords = pd.DataFrame(topic_num_keywords)\n",
    "                      \n",
    "# Concatenate Column wise\n",
    "df_dominant_topics = pd.concat([topic_num_keywords, topic_counts, topic_contribution], axis=1)\n",
    "\n",
    "# Reindex\n",
    "df_dominant_topics.reset_index(drop=True, inplace=True)\n",
    "\n",
    "# Change Column names\n",
    "df_dominant_topics.columns = ['Dominant Topic', 'Num_Document', 'Perc_Document']\n",
    "\n",
    "# Show\n",
    "df_dominant_topics"
   ]
  },
  {
   "cell_type": "markdown",
   "metadata": {
    "heading_collapsed": true,
    "hidden": true
   },
   "source": [
    "## Answering the Questions"
   ]
  },
  {
   "cell_type": "markdown",
   "metadata": {
    "heading_collapsed": true
   },
   "source": [
    "# Topics Analysis for Apple"
   ]
  },
  {
   "cell_type": "code",
   "execution_count": 111,
   "metadata": {
    "hidden": true
   },
   "outputs": [],
   "source": [
    "# Filters to Apple only\n",
    "dfap = df[df['company'] == 'apple']"
   ]
  },
  {
   "cell_type": "code",
   "execution_count": 112,
   "metadata": {
    "hidden": true,
    "scrolled": true
   },
   "outputs": [
    {
     "data": {
      "text/plain": [
       "(12950, 1)"
      ]
     },
     "execution_count": 112,
     "metadata": {},
     "output_type": "execute_result"
    }
   ],
   "source": [
    "# Filters the data to the column needed for topic modeling\n",
    "dfap = dfap[['summary']]\n",
    "dfap.shape"
   ]
  },
  {
   "cell_type": "markdown",
   "metadata": {
    "hidden": true
   },
   "source": [
    "12,950 dataset with 1 type"
   ]
  },
  {
   "cell_type": "code",
   "execution_count": 113,
   "metadata": {
    "hidden": true
   },
   "outputs": [],
   "source": [
    "dfap = dfap.head(500)"
   ]
  },
  {
   "cell_type": "markdown",
   "metadata": {
    "heading_collapsed": true,
    "hidden": true
   },
   "source": [
    "## Data Cleansing"
   ]
  },
  {
   "cell_type": "code",
   "execution_count": 114,
   "metadata": {
    "hidden": true
   },
   "outputs": [],
   "source": [
    "data = dfap['summary'].values.tolist() # convert to list\n",
    "\n",
    "import re\n",
    "data = [re.sub(r'[^a-zA-Z ]+', '', str(sent)) for sent in data] # removes everything except letters and space, str(sent) converts to string"
   ]
  },
  {
   "cell_type": "code",
   "execution_count": 115,
   "metadata": {
    "hidden": true
   },
   "outputs": [
    {
     "name": "stdout",
     "output_type": "stream",
     "text": [
      "['GIS  Data Analyst']\n"
     ]
    }
   ],
   "source": [
    "from pprint import pprint\n",
    "pprint(data[:1])"
   ]
  },
  {
   "cell_type": "markdown",
   "metadata": {
    "heading_collapsed": true,
    "hidden": true
   },
   "source": [
    "## Pre-Processing"
   ]
  },
  {
   "cell_type": "markdown",
   "metadata": {
    "heading_collapsed": true,
    "hidden": true
   },
   "source": [
    "### Tokenization and Additional Cleansing"
   ]
  },
  {
   "cell_type": "code",
   "execution_count": 116,
   "metadata": {
    "hidden": true,
    "scrolled": true
   },
   "outputs": [
    {
     "name": "stdout",
     "output_type": "stream",
     "text": [
      "[['gis', 'data', 'analyst']]\n"
     ]
    }
   ],
   "source": [
    "import gensim\n",
    "from gensim.utils import simple_preprocess \n",
    "def sent_to_words(sentences):\n",
    "    for sentence in sentences:\n",
    "        yield(gensim.utils.simple_preprocess(str(sentence), deacc=True)) \n",
    "        # deacc=True removes punctuations\n",
    "        # simple_preprocess to tokenize, and clean up messy text (converts to lowercase and removes punctuations)\n",
    "        \n",
    "data_words = list(sent_to_words(data))\n",
    "\n",
    "print(data_words[:1])   "
   ]
  },
  {
   "cell_type": "markdown",
   "metadata": {
    "heading_collapsed": true,
    "hidden": true
   },
   "source": [
    "### Remove Stopwords"
   ]
  },
  {
   "cell_type": "code",
   "execution_count": 117,
   "metadata": {
    "hidden": true
   },
   "outputs": [],
   "source": [
    "from nltk.corpus import stopwords\n",
    "stop_words = stopwords.words('english')\n",
    "stop_words.extend(['from', 'subject', 're', 'edu', 'use']) # add additional stop words\n",
    "\n",
    "# Define functions for stopwords, bigram, trigram and lemmatization\n",
    "def remove_stopwords(texts):\n",
    "    return [[word for word in simple_preprocess(str(doc)) if word not in stop_words] for doc in texts]\n",
    "    # clean out words using simple_preprocess (gensim) if the words are not already in stop_words (stop_words from NLTK)\n",
    "    \n",
    "# Remove Stop Words from simple_preprocess\n",
    "data_words_nostops = remove_stopwords(data_words)"
   ]
  },
  {
   "cell_type": "markdown",
   "metadata": {
    "heading_collapsed": true,
    "hidden": true
   },
   "source": [
    "### Create and Apply Trigrams"
   ]
  },
  {
   "cell_type": "code",
   "execution_count": 118,
   "metadata": {
    "hidden": true
   },
   "outputs": [],
   "source": [
    "# Build the bigram and trigram models\n",
    "bigram = gensim.models.Phrases(data_words, min_count=5, threshold=100) # higher threshold fewer phrases\n",
    "trigram = gensim.models.Phrases(bigram[data_words], threshold=100)\n",
    "# min_count is minimum 5 letters\n",
    "# threshold is 100 threshold in each word before accepting another word\n",
    "\n",
    "# Faster way to get a sentence clubbed as a trigram/bigram\n",
    "bigram_mod = gensim.models.phrases.Phraser(bigram)\n",
    "trigram_mod = gensim.models.phrases.Phraser(trigram)\n",
    "\n",
    "def make_trigram(texts):\n",
    "    return [trigram_mod[bigram_mod[doc]] for doc in texts]\n",
    "\n",
    "# Form Trigrams from Gensim.models.phrases\n",
    "data_words_trigrams = make_trigram(data_words_nostops)"
   ]
  },
  {
   "cell_type": "markdown",
   "metadata": {
    "heading_collapsed": true,
    "hidden": true
   },
   "source": [
    "### Lemmatize"
   ]
  },
  {
   "cell_type": "code",
   "execution_count": 119,
   "metadata": {
    "hidden": true
   },
   "outputs": [
    {
     "name": "stdout",
     "output_type": "stream",
     "text": [
      "[['data', 'analyst']]\n"
     ]
    }
   ],
   "source": [
    "def lemmatization(texts, allowed_postags=['NOUN', 'ADJ', 'VERB', 'ADV']): # http://spacy.io/api/annotation\n",
    "    texts_out = [] # creates a list\n",
    "    for sent in texts:\n",
    "        doc = nlp(\" \".join(sent)) # adds English dictionary from Spacy to the texts by instantiating doc\n",
    "        texts_out.append([token.lemma_ for token in doc if token.pos_ in allowed_postags])\n",
    "# adds doc to texts_out list for all base token in doc, if these added doc are from a loose part of the speech in allowed_postags\n",
    "# in other words, every (base) word that comes in will be added to the list, if these (loose) words are a NOUN, ADJ, VERB, or ADV\n",
    "# lemma_ is base form of token and pos_ is lose parts of the speech\n",
    "    return texts_out\n",
    "\n",
    "# texts -> doc -> token\n",
    "# texts -> sent -> doc -> token\n",
    "\n",
    "# Initialize spacy 'en' model, keeping only tagger components (for efficieny)\n",
    "# python -m spacy download en\n",
    "import spacy\n",
    "nlp = spacy.load('en', disable=['parser', 'ner'])\n",
    "\n",
    "# Do lemmatization keeping only noun, adj, vb, adv\n",
    "data_lemmatized = lemmatization(data_words_trigrams, allowed_postags=['NOUN', 'ADJ', 'VERB', 'ADV'])\n",
    "\n",
    "print(data_lemmatized[:1])"
   ]
  },
  {
   "cell_type": "markdown",
   "metadata": {
    "heading_collapsed": true,
    "hidden": true
   },
   "source": [
    "## Prepare Dictionary and Corpus"
   ]
  },
  {
   "cell_type": "code",
   "execution_count": 120,
   "metadata": {
    "hidden": true
   },
   "outputs": [
    {
     "name": "stdout",
     "output_type": "stream",
     "text": [
      "[[(0, 1), (1, 1)]]\n"
     ]
    }
   ],
   "source": [
    "import gensim.corpora as corpora # dictionary\n",
    "\n",
    "# Create dictionary\n",
    "id2word = corpora.Dictionary(data_lemmatized)\n",
    "\n",
    "# Create corpus\n",
    "texts = data_lemmatized\n",
    "\n",
    "# Term document frequency\n",
    "corpus = [id2word.doc2bow(text) for text in texts]\n",
    "\n",
    "# View\n",
    "print(corpus[:1])"
   ]
  },
  {
   "cell_type": "code",
   "execution_count": 121,
   "metadata": {
    "hidden": true
   },
   "outputs": [
    {
     "data": {
      "text/plain": [
       "'analyst'"
      ]
     },
     "execution_count": 121,
     "metadata": {},
     "output_type": "execute_result"
    }
   ],
   "source": [
    "id2word[0]"
   ]
  },
  {
   "cell_type": "code",
   "execution_count": 122,
   "metadata": {
    "hidden": true
   },
   "outputs": [
    {
     "data": {
      "text/plain": [
       "[[('analyst', 1), ('data', 1)]]"
      ]
     },
     "execution_count": 122,
     "metadata": {},
     "output_type": "execute_result"
    }
   ],
   "source": [
    "# Human readable format of corpus (term-frequency) for the first item\n",
    "[[(id2word[id], freq) for id, freq in cp] for cp in corpus[:1]]"
   ]
  },
  {
   "cell_type": "markdown",
   "metadata": {
    "heading_collapsed": true,
    "hidden": true
   },
   "source": [
    "## LDA Model"
   ]
  },
  {
   "cell_type": "code",
   "execution_count": 123,
   "metadata": {
    "hidden": true
   },
   "outputs": [
    {
     "name": "stdout",
     "output_type": "stream",
     "text": [
      "[(0,\n",
      "  '0.095*\"manager\" + 0.061*\"senior\" + 0.046*\"sale\" + 0.046*\"product\" + '\n",
      "  '0.043*\"business\" + 0.029*\"program\" + 0.026*\"awesome\" + 0.021*\"poor\" + '\n",
      "  '0.015*\"many\" + 0.013*\"zone\"'),\n",
      " (1,\n",
      "  '0.069*\"engineer\" + 0.052*\"amazing\" + 0.043*\"software\" + 0.036*\"make\" + '\n",
      "  '0.031*\"store\" + 0.024*\"applecare\" + 0.022*\"management\" + 0.019*\"time\" + '\n",
      "  '0.016*\"excellent\" + 0.016*\"get\"'),\n",
      " (2,\n",
      "  '0.260*\"specialist\" + 0.119*\"technical\" + 0.054*\"support\" + 0.051*\"tech\" + '\n",
      "  '0.043*\"expert\" + 0.026*\"still\" + 0.023*\"career\" + 0.021*\"fun\" + '\n",
      "  '0.012*\"operation\" + 0.012*\"chat\"'),\n",
      " (3,\n",
      "  '0.132*\"good\" + 0.126*\"company\" + 0.091*\"great\" + 0.070*\"job\" + '\n",
      "  '0.066*\"advisor\" + 0.040*\"home\" + 0.033*\"genius\" + 0.032*\"college\" + '\n",
      "  '0.017*\"overall\" + 0.015*\"bad\"'),\n",
      " (4,\n",
      "  '0.127*\"work\" + 0.117*\"great\" + 0.101*\"apple\" + 0.086*\"retail\" + '\n",
      "  '0.078*\"place\" + 0.035*\"review\" + 0.035*\"experience\" + 0.029*\"culture\" + '\n",
      "  '0.019*\"people\" + 0.018*\"environment\"'),\n",
      " (5,\n",
      "  '0.044*\"love\" + 0.041*\"apple\" + 0.023*\"look\" + 0.019*\"outstanding\" + '\n",
      "  '0.018*\"year\" + 0.017*\"dream\" + 0.016*\"cool\" + 0.015*\"build\" + 0.013*\"life\" '\n",
      "  '+ 0.013*\"money\"')]\n"
     ]
    }
   ],
   "source": [
    "# Build LDA model\n",
    "lda_model = gensim.models.ldamodel.LdaModel(corpus=corpus, id2word=id2word, num_topics = 6, random_state = 100,\n",
    "                                            update_every = 1, chunksize = 100, passes = 10, alpha = 'auto',\n",
    "                                            per_word_topics=True)\n",
    "# (corpus, dictionary, # of topics, random_state, how often the model parameters should be updated, # of document in each training chunk,\n",
    "# total # of training passes, alpha is hyperparameter that affect sparsity of topics)\n",
    "# Here we use 6 topics\n",
    "\n",
    "# Print the keyword the 6 topics\n",
    "pprint(lda_model.print_topics())\n",
    "doc_lda = lda_model[corpus]"
   ]
  },
  {
   "cell_type": "markdown",
   "metadata": {
    "heading_collapsed": true,
    "hidden": true
   },
   "source": [
    "### LDA Model Performance"
   ]
  },
  {
   "cell_type": "code",
   "execution_count": 124,
   "metadata": {
    "hidden": true
   },
   "outputs": [
    {
     "name": "stdout",
     "output_type": "stream",
     "text": [
      "\n",
      "Perplexity:  -5.673120273053418\n",
      "\n",
      "Coherence Score:  0.676246057382714\n"
     ]
    }
   ],
   "source": [
    "# Compute perplexity\n",
    "print('\\nPerplexity: ', lda_model.log_perplexity(corpus)) # A measure of how good the model is (lower the better)\n",
    "\n",
    "# Compute coherence score\n",
    "from gensim.models import CoherenceModel\n",
    "coherence_model_lda = CoherenceModel(model=lda_model, texts=data_lemmatized, dictionary=id2word, coherence='c_v')\n",
    "coherence_lda = coherence_model_lda.get_coherence()\n",
    "print('\\nCoherence Score: ', coherence_lda) # high the better"
   ]
  },
  {
   "cell_type": "markdown",
   "metadata": {
    "heading_collapsed": true,
    "hidden": true
   },
   "source": [
    "### Visualize LDA Model"
   ]
  },
  {
   "cell_type": "code",
   "execution_count": 125,
   "metadata": {
    "hidden": true
   },
   "outputs": [
    {
     "data": {
      "text/html": [
       "\n",
       "<link rel=\"stylesheet\" type=\"text/css\" href=\"https://cdn.rawgit.com/bmabey/pyLDAvis/files/ldavis.v1.0.0.css\">\n",
       "\n",
       "\n",
       "<div id=\"ldavis_el1410448935102962106020212\"></div>\n",
       "<script type=\"text/javascript\">\n",
       "\n",
       "var ldavis_el1410448935102962106020212_data = {\"mdsDat\": {\"x\": [0.22875201890128144, 0.19012978925821414, -0.17587134130304163, -0.08947847814287106, -0.053814523845333966, -0.09971746486824917], \"y\": [-0.20656973021675393, 0.18354490043001298, -0.13316309282405445, 0.04979266000037537, 0.08716555100017659, 0.019229711610243012], \"topics\": [1, 2, 3, 4, 5, 6], \"cluster\": [1, 1, 1, 1, 1, 1], \"Freq\": [26.161592483520508, 25.372278213500977, 14.65782642364502, 13.194354057312012, 10.666625022888184, 9.947321891784668]}, \"tinfo\": {\"Category\": [\"Default\", \"Default\", \"Default\", \"Default\", \"Default\", \"Default\", \"Default\", \"Default\", \"Default\", \"Default\", \"Default\", \"Default\", \"Default\", \"Default\", \"Default\", \"Default\", \"Default\", \"Default\", \"Default\", \"Default\", \"Default\", \"Default\", \"Default\", \"Default\", \"Default\", \"Default\", \"Default\", \"Default\", \"Default\", \"Default\", \"Topic1\", \"Topic1\", \"Topic1\", \"Topic1\", \"Topic1\", \"Topic1\", \"Topic1\", \"Topic1\", \"Topic1\", \"Topic1\", \"Topic1\", \"Topic1\", \"Topic1\", \"Topic1\", \"Topic1\", \"Topic1\", \"Topic1\", \"Topic1\", \"Topic1\", \"Topic1\", \"Topic1\", \"Topic1\", \"Topic1\", \"Topic1\", \"Topic1\", \"Topic1\", \"Topic1\", \"Topic1\", \"Topic1\", \"Topic1\", \"Topic1\", \"Topic1\", \"Topic2\", \"Topic2\", \"Topic2\", \"Topic2\", \"Topic2\", \"Topic2\", \"Topic2\", \"Topic2\", \"Topic2\", \"Topic2\", \"Topic2\", \"Topic2\", \"Topic2\", \"Topic2\", \"Topic2\", \"Topic2\", \"Topic2\", \"Topic2\", \"Topic2\", \"Topic2\", \"Topic2\", \"Topic2\", \"Topic2\", \"Topic2\", \"Topic2\", \"Topic2\", \"Topic2\", \"Topic2\", \"Topic2\", \"Topic2\", \"Topic2\", \"Topic2\", \"Topic2\", \"Topic3\", \"Topic3\", \"Topic3\", \"Topic3\", \"Topic3\", \"Topic3\", \"Topic3\", \"Topic3\", \"Topic3\", \"Topic3\", \"Topic3\", \"Topic3\", \"Topic3\", \"Topic3\", \"Topic3\", \"Topic3\", \"Topic3\", \"Topic3\", \"Topic3\", \"Topic3\", \"Topic3\", \"Topic3\", \"Topic3\", \"Topic3\", \"Topic3\", \"Topic3\", \"Topic3\", \"Topic3\", \"Topic3\", \"Topic3\", \"Topic3\", \"Topic4\", \"Topic4\", \"Topic4\", \"Topic4\", \"Topic4\", \"Topic4\", \"Topic4\", \"Topic4\", \"Topic4\", \"Topic4\", \"Topic4\", \"Topic4\", \"Topic4\", \"Topic4\", \"Topic4\", \"Topic4\", \"Topic4\", \"Topic4\", \"Topic4\", \"Topic4\", \"Topic4\", \"Topic4\", \"Topic4\", \"Topic4\", \"Topic4\", \"Topic4\", \"Topic4\", \"Topic4\", \"Topic4\", \"Topic4\", \"Topic4\", \"Topic4\", \"Topic4\", \"Topic5\", \"Topic5\", \"Topic5\", \"Topic5\", \"Topic5\", \"Topic5\", \"Topic5\", \"Topic5\", \"Topic5\", \"Topic5\", \"Topic5\", \"Topic5\", \"Topic5\", \"Topic5\", \"Topic5\", \"Topic5\", \"Topic5\", \"Topic5\", \"Topic5\", \"Topic5\", \"Topic5\", \"Topic5\", \"Topic5\", \"Topic5\", \"Topic5\", \"Topic5\", \"Topic5\", \"Topic5\", \"Topic5\", \"Topic5\", \"Topic5\", \"Topic6\", \"Topic6\", \"Topic6\", \"Topic6\", \"Topic6\", \"Topic6\", \"Topic6\", \"Topic6\", \"Topic6\", \"Topic6\", \"Topic6\", \"Topic6\", \"Topic6\", \"Topic6\", \"Topic6\", \"Topic6\", \"Topic6\", \"Topic6\", \"Topic6\", \"Topic6\", \"Topic6\", \"Topic6\", \"Topic6\", \"Topic6\", \"Topic6\", \"Topic6\", \"Topic6\", \"Topic6\", \"Topic6\", \"Topic6\", \"Topic6\", \"Topic6\", \"Topic6\"], \"Freq\": [50.0, 45.0, 42.0, 43.0, 70.0, 23.0, 39.0, 29.0, 26.0, 12.0, 24.0, 23.0, 12.0, 11.0, 8.0, 10.0, 9.0, 14.0, 8.0, 8.0, 6.0, 6.0, 6.0, 12.0, 12.0, 6.0, 11.0, 6.0, 11.0, 10.0, 45.1999397277832, 43.09830093383789, 23.94713592529297, 22.710891723632812, 13.731202125549316, 11.272808074951172, 10.858376502990723, 5.65380334854126, 5.231103420257568, 3.184596061706543, 2.9826455116271973, 2.963073492050171, 2.8112850189208984, 2.761131763458252, 2.6109914779663086, 2.55867075920105, 2.55867075920105, 2.5359294414520264, 2.535944938659668, 2.3868048191070557, 2.3351023197174072, 2.0383758544921875, 1.9852114915847778, 1.7109551429748535, 1.6137663125991821, 1.5612592697143555, 1.5612592697143555, 1.5612592697143555, 1.5612285137176514, 1.5612285137176514, 31.01085090637207, 2.896789789199829, 42.04751205444336, 28.47250747680664, 25.89501190185547, 11.72913932800293, 11.703344345092773, 9.664528846740723, 6.190042018890381, 5.957298755645752, 4.181321620941162, 33.4636344909668, 2.981001853942871, 2.74398136138916, 2.1810379028320312, 2.1345279216766357, 1.965462565422058, 5.729277610778809, 1.7648937702178955, 1.762613296508789, 1.7097586393356323, 1.598776936531067, 1.5622390508651733, 1.5622390508651733, 1.5622094869613647, 1.5621554851531982, 1.5621554851531982, 1.5621554851531982, 1.5603498220443726, 1.5603498220443726, 1.5603498220443726, 1.5558176040649414, 38.68949508666992, 1.8602023124694824, 1.563654899597168, 49.86965560913086, 22.721763610839844, 10.410879135131836, 9.847809791564941, 8.326621055603027, 4.990314483642578, 4.319159984588623, 3.9580681324005127, 2.302938222885132, 2.2194368839263916, 1.9044585227966309, 1.6844961643218994, 1.6627380847930908, 1.6268107891082764, 1.3718791007995605, 1.3277734518051147, 1.3277260065078735, 1.3277260065078735, 1.3185367584228516, 1.139877438545227, 1.012691855430603, 1.0114893913269043, 1.0114893913269043, 1.0115517377853394, 0.7799274921417236, 0.7799274921417236, 0.7799152135848999, 0.7799152135848999, 0.7799152135848999, 0.7799152135848999, 1.0118728876113892, 11.950562477111816, 9.046975135803223, 7.430919647216797, 6.257076263427734, 5.319504737854004, 4.215552806854248, 3.8720409870147705, 2.7247841358184814, 2.676745653152466, 2.3576807975769043, 2.1508166790008545, 2.1369893550872803, 1.9636467695236206, 1.796900749206543, 1.7967616319656372, 1.7952790260314941, 1.7901378870010376, 1.736616849899292, 1.4847372770309448, 1.4845635890960693, 1.4845635890960693, 1.484244465827942, 1.4822344779968262, 1.4812167882919312, 1.314068078994751, 1.3134790658950806, 1.3134790658950806, 1.3134790658950806, 1.3134790658950806, 1.3133021593093872, 3.2942426204681396, 1.6670289039611816, 1.333482027053833, 6.110258102416992, 3.1760621070861816, 2.591529369354248, 2.451364040374756, 2.3761518001556396, 2.1610326766967773, 2.0566182136535645, 1.841799259185791, 1.8415443897247314, 1.83757746219635, 1.8372544050216675, 1.7650800943374634, 1.8187581300735474, 1.6823511123657227, 1.549561858177185, 1.5495001077651978, 1.5394203662872314, 1.4664247035980225, 1.3858492374420166, 1.3334391117095947, 1.2715203762054443, 1.230128288269043, 1.2290374040603638, 1.2290374040603638, 1.2290374040603638, 1.228172779083252, 1.2273372411727905, 1.2272090911865234, 0.9384312033653259, 0.9384229183197021, 5.689599514007568, 12.35938835144043, 7.900822162628174, 5.979313850402832, 5.926045894622803, 5.583931922912598, 3.7166152000427246, 3.3995285034179688, 2.6919431686401367, 1.9887968301773071, 1.6255104541778564, 1.5123975276947021, 1.2301673889160156, 1.1893422603607178, 1.1893422603607178, 1.1893422603607178, 1.1893422603607178, 1.1893422603607178, 1.1893422603607178, 1.1893422603607178, 1.1892032623291016, 1.1868747472763062, 1.021429181098938, 0.9071749448776245, 0.9071749448776245, 0.9071749448776245, 0.9071749448776245, 0.9071497321128845, 0.9071497321128845, 0.9071497321128845, 0.9071497321128845, 0.9071497321128845, 0.9071497321128845, 0.9071497321128845], \"Term\": [\"specialist\", \"good\", \"work\", \"company\", \"great\", \"technical\", \"apple\", \"retail\", \"place\", \"manager\", \"job\", \"advisor\", \"engineer\", \"support\", \"senior\", \"tech\", \"amazing\", \"home\", \"expert\", \"software\", \"sale\", \"product\", \"love\", \"review\", \"experience\", \"business\", \"genius\", \"make\", \"college\", \"culture\", \"good\", \"company\", \"job\", \"advisor\", \"home\", \"genius\", \"college\", \"overall\", \"bad\", \"student\", \"challenge\", \"lack\", \"pretty\", \"analyst\", \"athome\", \"worklife\", \"balance\", \"stressful\", \"family\", \"mac\", \"grow\", \"really\", \"nice\", \"rewarding\", \"satisfy\", \"name\", \"comp\", \"brand\", \"first\", \"freshman\", \"great\", \"benefit\", \"work\", \"retail\", \"place\", \"review\", \"experience\", \"culture\", \"people\", \"environment\", \"associate\", \"apple\", \"start\", \"not\", \"hour\", \"development\", \"learning\", \"opportunity\", \"average\", \"team\", \"advance\", \"promotion\", \"limit\", \"companybut\", \"pay\", \"explosive\", \"tale\", \"general\", \"align\", \"key\", \"success\", \"disappoint\", \"great\", \"time\", \"cult\", \"specialist\", \"technical\", \"support\", \"tech\", \"expert\", \"still\", \"career\", \"fun\", \"operation\", \"chat\", \"repair\", \"account\", \"role\", \"intern\", \"tier\", \"phone\", \"think\", \"would\", \"train\", \"marketing\", \"seasonal\", \"find\", \"solution\", \"representative\", \"reseller\", \"interesting\", \"test\", \"electronic\", \"sinking\", \"ship\", \"relationship\", \"engineer\", \"amazing\", \"software\", \"make\", \"store\", \"applecare\", \"management\", \"excellent\", \"get\", \"customer\", \"part\", \"room\", \"go\", \"leader\", \"world\", \"app\", \"ist\", \"salary\", \"technician\", \"stone\", \"stepping\", \"way\", \"growth\", \"long\", \"market\", \"impact\", \"organization\", \"procurement\", \"wide\", \"someone\", \"time\", \"benefit\", \"opportunity\", \"love\", \"look\", \"outstanding\", \"year\", \"dream\", \"cool\", \"build\", \"life\", \"money\", \"executive\", \"mobile\", \"will\", \"global\", \"take\", \"stay\", \"be\", \"device\", \"care\", \"remote\", \"come\", \"thing\", \"sycophant\", \"unwanted\", \"alot\", \"unloved\", \"outside\", \"easy\", \"release\", \"microsoft\", \"away\", \"apple\", \"manager\", \"senior\", \"sale\", \"product\", \"business\", \"program\", \"awesome\", \"poor\", \"many\", \"zone\", \"engineering\", \"group\", \"corporate\", \"layer\", \"back\", \"departure\", \"house\", \"clean\", \"kbs\", \"parttime\", \"red\", \"politic\", \"supply\", \"planner\", \"depend\", \"demand\", \"talk\", \"operator\", \"action\", \"grinder\", \"gsoc\", \"lovehate\", \"meat\"], \"Total\": [50.0, 45.0, 42.0, 43.0, 70.0, 23.0, 39.0, 29.0, 26.0, 12.0, 24.0, 23.0, 12.0, 11.0, 8.0, 10.0, 9.0, 14.0, 8.0, 8.0, 6.0, 6.0, 6.0, 12.0, 12.0, 6.0, 11.0, 6.0, 11.0, 10.0, 45.80204391479492, 43.70035934448242, 24.548786163330078, 23.31232452392578, 14.332498550415039, 11.873719215393066, 11.460027694702148, 6.2547712326049805, 5.832049369812012, 3.785552740097046, 3.5827670097351074, 3.580918073654175, 3.413888931274414, 3.3611700534820557, 3.211028575897217, 3.158853054046631, 3.158853054046631, 3.139296770095825, 3.139514684677124, 2.9900403022766113, 2.937181234359741, 2.6387312412261963, 2.5853559970855713, 2.3119492530822754, 2.2146799564361572, 2.161290407180786, 2.161290407180786, 2.161290407180786, 2.1612708568573, 2.1612708568573, 70.15937042236328, 5.045426845550537, 42.64896774291992, 29.074670791625977, 26.495399475097656, 12.33023452758789, 12.304967880249023, 10.2662353515625, 6.794393539428711, 6.558959007263184, 4.78320837020874, 39.6430549621582, 3.582995653152466, 3.3593475818634033, 2.788437604904175, 2.736043930053711, 2.567291736602783, 7.545713424682617, 2.3654301166534424, 2.3653037548065186, 2.3126704692840576, 2.211588144302368, 2.1621999740600586, 2.1621999740600586, 2.162184238433838, 2.16215181350708, 2.16215181350708, 2.16215181350708, 2.162137508392334, 2.162137508392334, 2.162137508392334, 2.161226749420166, 70.15937042236328, 6.440929412841797, 3.5819625854492188, 50.491336822509766, 23.343502044677734, 11.032671928405762, 10.469365119934082, 8.948687553405762, 5.618246555328369, 4.949075698852539, 4.5825724601745605, 2.9244704246520996, 2.841588258743286, 2.5265254974365234, 2.309115409851074, 2.292964458465576, 2.2492306232452393, 1.9947057962417603, 1.9489926099777222, 1.948974370956421, 1.948974370956421, 1.9503012895584106, 1.7617557048797607, 1.633919596672058, 1.6338658332824707, 1.6338658332824707, 1.6340957880020142, 1.4011175632476807, 1.4011175632476807, 1.4011129140853882, 1.4011129140853882, 1.4011129140853882, 1.4011129140853882, 2.4333648681640625, 12.573700904846191, 9.671388626098633, 8.053488731384277, 6.888116359710693, 5.945711612701416, 4.839325904846191, 4.498585224151611, 3.3477799892425537, 3.30318021774292, 2.9908604621887207, 2.776353120803833, 2.760530710220337, 2.589542865753174, 2.419332981109619, 2.41933012008667, 2.4195590019226074, 2.419095277786255, 2.359800338745117, 2.107539653778076, 2.107562303543091, 2.107562303543091, 2.1076011657714844, 2.1079366207122803, 2.1080756187438965, 1.936553716659546, 1.936532735824585, 1.936532735824585, 1.936532735824585, 1.936532735824585, 1.9367132186889648, 6.440929412841797, 5.045426845550537, 7.545713424682617, 6.741429805755615, 3.80672025680542, 3.222947359085083, 3.083300828933716, 3.0070972442626953, 2.7912158966064453, 2.6876978874206543, 2.4718196392059326, 2.4718282222747803, 2.4720261096954346, 2.4722628593444824, 2.395599126815796, 2.4730911254882812, 2.312368869781494, 2.179891347885132, 2.179900884628296, 2.1805105209350586, 2.0971930027008057, 2.0206801891326904, 1.9641386270523071, 1.902797818183899, 1.8603148460388184, 1.860453724861145, 1.860453724861145, 1.860453724861145, 1.8608596324920654, 1.860534429550171, 1.8605108261108398, 1.56844961643219, 1.5684462785720825, 39.6430549621582, 12.993715286254883, 8.53638744354248, 6.614276885986328, 6.560750961303711, 6.218523979187012, 4.350407123565674, 4.0340166091918945, 3.328446388244629, 2.6228044033050537, 2.260108232498169, 2.1461212635040283, 1.8638856410980225, 1.8231173753738403, 1.8231173753738403, 1.8231173753738403, 1.8231173753738403, 1.8231173753738403, 1.8231173753738403, 1.8231173753738403, 1.8230743408203125, 1.8233405351638794, 1.65536367893219, 1.5409131050109863, 1.5409131050109863, 1.5409131050109863, 1.5409131050109863, 1.5409049987792969, 1.5409049987792969, 1.5409049987792969, 1.5409049987792969, 1.5409049987792969, 1.5409051179885864, 1.5409049987792969], \"loglift\": [30.0, 29.0, 28.0, 27.0, 26.0, 25.0, 24.0, 23.0, 22.0, 21.0, 20.0, 19.0, 18.0, 17.0, 16.0, 15.0, 14.0, 13.0, 12.0, 11.0, 10.0, 9.0, 8.0, 7.0, 6.0, 5.0, 4.0, 3.0, 2.0, 1.0, 1.3276000022888184, 1.3270000219345093, 1.316100001335144, 1.3147000074386597, 1.2979999780654907, 1.2889000177383423, 1.2869000434875488, 1.23989999294281, 1.232100009918213, 1.1679999828338623, 1.1576000452041626, 1.1514999866485596, 1.1467000246047974, 1.1441999673843384, 1.1339999437332153, 1.1302000284194946, 1.1302000284194946, 1.1274000406265259, 1.1274000406265259, 1.1154999732971191, 1.1115000247955322, 1.0827000141143799, 1.07669997215271, 1.0398000478744507, 1.0242999792099, 1.0156999826431274, 1.0156999826431274, 1.0156999826431274, 1.0156999826431274, 1.0156999826431274, 0.524399995803833, 0.7860000133514404, 1.357300043106079, 1.350600004196167, 1.3486000299453735, 1.3214999437332153, 1.3214000463485718, 1.3111000061035156, 1.27839994430542, 1.2753000259399414, 1.2369999885559082, 1.2021000385284424, 1.187600016593933, 1.1691999435424805, 1.1258000135421753, 1.1232000589370728, 1.1044000387191772, 1.0960999727249146, 1.0786000490188599, 1.0773999691009521, 1.0694999694824219, 1.0470000505447388, 1.0464999675750732, 1.0464999675750732, 1.0464999675750732, 1.0464999675750732, 1.0464999675750732, 1.0464999675750732, 1.045300006866455, 1.045300006866455, 1.045300006866455, 1.042799949645996, 0.7763000130653381, 0.12950000166893005, 0.5425999760627747, 1.9077999591827393, 1.8932000398635864, 1.8622000217437744, 1.8589999675750732, 1.848099946975708, 1.8016999959945679, 1.78410005569458, 1.7736999988555908, 1.6813000440597534, 1.6730999946594238, 1.6375000476837158, 1.6047999858856201, 1.5987999439239502, 1.5961999893188477, 1.5458999872207642, 1.5363999605178833, 1.5363999605178833, 1.5363999605178833, 1.5286999940872192, 1.4847999811172485, 1.4417999982833862, 1.4407000541687012, 1.4407000541687012, 1.440600037574768, 1.3344000577926636, 1.3344000577926636, 1.3344000577926636, 1.3344000577926636, 1.3344000577926636, 1.3344000577926636, 1.0427000522613525, 1.9745999574661255, 1.9586000442504883, 1.9449000358581543, 1.9292999505996704, 1.9141000509262085, 1.8874000310897827, 1.8753999471664429, 1.8194999694824219, 1.8150999546051025, 1.787500023841858, 1.7700999975204468, 1.7694000005722046, 1.7487000226974487, 1.7280000448226929, 1.7279000282287598, 1.7269999980926514, 1.7243000268936157, 1.7187000513076782, 1.6750999689102173, 1.6749999523162842, 1.6749999523162842, 1.6747000217437744, 1.673200011253357, 1.6725000143051147, 1.6375999450683594, 1.6371999979019165, 1.6371999979019165, 1.6371999979019165, 1.6371999979019165, 1.6368999481201172, 1.3549000024795532, 0.917900025844574, 0.2921999990940094, 2.139699935913086, 2.0569000244140625, 2.0199999809265137, 2.008699893951416, 2.0025999546051025, 1.982200026512146, 1.9703999757766724, 1.9437999725341797, 1.9436999559402466, 1.941499948501587, 1.9412000179290771, 1.9326000213623047, 1.9306999444961548, 1.9199999570846558, 1.8967000246047974, 1.8967000246047974, 1.8898999691009521, 1.8803000450134277, 1.8609000444412231, 1.8508000373840332, 1.8349000215530396, 1.8243999481201172, 1.8235000371932983, 1.8235000371932983, 1.8235000371932983, 1.8224999904632568, 1.8220000267028809, 1.8219000101089478, 1.7244000434875488, 1.7244000434875488, 0.29679998755455017, 2.2578001022338867, 2.2304999828338623, 2.206899881362915, 2.2060999870300293, 2.200200080871582, 2.150399923324585, 2.136699914932251, 2.095599889755249, 2.0311999320983887, 1.9782999753952026, 1.957900047302246, 1.8924000263214111, 1.8806999921798706, 1.8806999921798706, 1.8806999921798706, 1.8806999921798706, 1.8806999921798706, 1.8806999921798706, 1.8806999921798706, 1.8805999755859375, 1.878499984741211, 1.8250000476837158, 1.7781000137329102, 1.7781000137329102, 1.7781000137329102, 1.7781000137329102, 1.777999997138977, 1.777999997138977, 1.777999997138977, 1.777999997138977, 1.777999997138977, 1.777999997138977, 1.777999997138977], \"logprob\": [30.0, 29.0, 28.0, 27.0, 26.0, 25.0, 24.0, 23.0, 22.0, 21.0, 20.0, 19.0, 18.0, 17.0, 16.0, 15.0, 14.0, 13.0, 12.0, 11.0, 10.0, 9.0, 8.0, 7.0, 6.0, 5.0, 4.0, 3.0, 2.0, 1.0, -2.0234999656677246, -2.0710999965667725, -2.658799886703491, -2.7118000984191895, -3.214900016784668, -3.4121999740600586, -3.449700117111206, -4.10230016708374, -4.179999828338623, -4.676300048828125, -4.741799831390381, -4.7484002113342285, -4.801000118255615, -4.818999767303467, -4.874899864196777, -4.895100116729736, -4.895100116729736, -4.904099941253662, -4.9039998054504395, -4.964700222015381, -4.986599922180176, -5.122499942779541, -5.148900032043457, -5.297599792480469, -5.355999946594238, -5.389100074768066, -5.389100074768066, -5.389100074768066, -5.389100074768066, -5.389100074768066, -2.4003000259399414, -4.770999908447266, -2.065200090408325, -2.4549999237060547, -2.5499000549316406, -3.341900110244751, -3.344099998474121, -3.5355000495910645, -3.9809999465942383, -4.019400119781494, -4.373300075531006, -2.2934999465942383, -4.711699962615967, -4.794600009918213, -5.024199962615967, -5.0457000732421875, -5.128200054168701, -4.0584001541137695, -5.235899925231934, -5.237199783325195, -5.267600059509277, -5.334700107574463, -5.357900142669678, -5.357900142669678, -5.357900142669678, -5.357900142669678, -5.357900142669678, -5.357900142669678, -5.359099864959717, -5.359099864959717, -5.359099864959717, -5.361999988555908, -2.148400068283081, -5.183300018310547, -5.35699987411499, -1.345900058746338, -2.131999969482422, -2.912400007247925, -2.9679999351501465, -3.1357998847961426, -3.6477999687194824, -3.7922000885009766, -3.879499912261963, -4.42110013961792, -4.458000183105469, -4.611100196838379, -4.733799934387207, -4.746799945831299, -4.768700122833252, -4.9390997886657715, -4.971799850463867, -4.971799850463867, -4.971799850463867, -4.978799819946289, -5.1244001388549805, -5.242700099945068, -5.243899822235107, -5.243899822235107, -5.243800163269043, -5.503799915313721, -5.503799915313721, -5.503900051116943, -5.503900051116943, -5.503900051116943, -5.503900051116943, -5.243500232696533, -2.669300079345703, -2.947700023651123, -3.1445000171661377, -3.3164000511169434, -3.4786999225616455, -3.7112998962402344, -3.796299934387207, -4.14769983291626, -4.165500164031982, -4.292399883270264, -4.384300231933594, -4.390699863433838, -4.475299835205078, -4.564000129699707, -4.5640997886657715, -4.564899921417236, -4.567800045013428, -4.598199844360352, -4.754899978637695, -4.755000114440918, -4.755000114440918, -4.755199909210205, -4.7565999031066895, -4.757199764251709, -4.876999855041504, -4.877399921417236, -4.877399921417236, -4.877399921417236, -4.877399921417236, -4.877600193023682, -3.957900047302246, -4.639100074768066, -4.862299919128418, -3.127500057220459, -3.7818000316619873, -3.9851999282836914, -4.040800094604492, -4.072000026702881, -4.166900157928467, -4.216400146484375, -4.326700210571289, -4.3267998695373535, -4.328999996185303, -4.32919979095459, -4.369200229644775, -4.339300155639648, -4.417200088500977, -4.499499797821045, -4.499499797821045, -4.50600004196167, -4.554599761962891, -4.611100196838379, -4.649700164794922, -4.697199821472168, -4.730299949645996, -4.731200218200684, -4.731200218200684, -4.731200218200684, -4.731900215148926, -4.732600212097168, -4.732699871063232, -5.000999927520752, -5.000999927520752, -3.1988000869750977, -2.3531999588012695, -2.8006999492645264, -3.0792999267578125, -3.0882999897003174, -3.147700071334839, -3.554800033569336, -3.6440000534057617, -3.8773999214172363, -4.180099964141846, -4.381800174713135, -4.45389986038208, -4.6605000495910645, -4.694200038909912, -4.694200038909912, -4.694200038909912, -4.694200038909912, -4.694200038909912, -4.694200038909912, -4.694200038909912, -4.694300174713135, -4.696300029754639, -4.846399784088135, -4.965000152587891, -4.965000152587891, -4.965000152587891, -4.965000152587891, -4.965099811553955, -4.965099811553955, -4.965099811553955, -4.965099811553955, -4.965099811553955, -4.965099811553955, -4.965099811553955]}, \"token.table\": {\"Topic\": [3, 6, 2, 1, 2, 5, 4, 1, 4, 2, 5, 4, 2, 1, 2, 5, 6, 6, 1, 1, 5, 1, 4, 1, 5, 6, 5, 3, 1, 3, 6, 1, 5, 1, 1, 2, 5, 6, 1, 2, 2, 4, 6, 6, 6, 2, 5, 2, 5, 5, 3, 4, 6, 2, 4, 5, 2, 3, 2, 1, 3, 1, 1, 3, 2, 1, 4, 5, 4, 1, 1, 2, 6, 6, 1, 4, 6, 1, 2, 6, 4, 3, 3, 4, 1, 6, 2, 1, 6, 4, 2, 5, 2, 4, 5, 5, 6, 1, 4, 4, 6, 6, 4, 3, 6, 5, 5, 5, 1, 1, 2, 3, 6, 2, 4, 4, 5, 5, 1, 4, 6, 2, 2, 3, 2, 6, 6, 6, 1, 4, 6, 6, 2, 1, 6, 3, 6, 5, 5, 3, 3, 3, 2, 2, 1, 3, 4, 4, 6, 1, 3, 6, 3, 3, 4, 3, 4, 3, 2, 5, 4, 3, 4, 4, 1, 1, 2, 6, 3, 5, 5, 2, 6, 2, 3, 3, 4, 3, 5, 3, 3, 2, 4, 5, 3, 5, 5, 4, 4, 5, 2, 1, 4, 3, 5, 6], \"Freq\": [0.8661325573921204, 0.648969292640686, 0.8648011088371277, 0.9866026043891907, 0.9250105619430542, 0.5375033020973206, 0.9305799007415771, 0.8925463557243347, 0.8265969157218933, 0.8324282765388489, 0.15135060250759125, 0.8265613913536072, 0.8362587690353394, 0.9342800974845886, 0.8455122113227844, 0.6375736594200134, 0.7436756491661072, 0.5485110282897949, 0.8573315739631653, 0.949711799621582, 0.9174728989601135, 0.5945978760719299, 0.3963985741138458, 0.9253730773925781, 0.7441312670707703, 0.9648591876029968, 0.47682783007621765, 0.8082317113876343, 0.8373416662216187, 0.7038317322731018, 0.5485110282897949, 0.9598580598831177, 0.5091290473937988, 0.9253730773925781, 0.9839736223220825, 0.92498379945755, 0.7165336012840271, 0.5485110282897949, 0.5583531260490417, 0.5583531260490417, 0.9740669131278992, 0.6687038540840149, 0.6489658355712891, 0.5485110282897949, 0.6489658355712891, 0.7309824228286743, 0.917216420173645, 0.9254003763198853, 0.6650932431221008, 0.5374799966812134, 0.7137183547019958, 0.9543729424476624, 0.9319137930870056, 0.9147793054580688, 0.8961162567138672, 0.8090529441833496, 0.9752158522605896, 0.8939858675003052, 0.9250044226646423, 0.9555616974830627, 0.6120453476905823, 0.9253814816474915, 0.9253814816474915, 0.8728721737861633, 0.9250044226646423, 0.9264156818389893, 0.9082156419754028, 0.8087045550346375, 0.7723370790481567, 0.9824889302253723, 0.4418511688709259, 0.5558772683143616, 0.648969292640686, 0.53651362657547, 0.6809249520301819, 0.47439756989479065, 0.648969292640686, 0.9768010973930359, 0.7172475457191467, 0.5485110282897949, 0.5163868069648743, 0.7137159705162048, 0.8891929388046265, 0.8267553448677063, 0.9776450991630554, 0.5485110282897949, 0.9250105619430542, 0.8377739787101746, 0.5485110282897949, 0.8266741633415222, 0.7790310382843018, 0.8091205358505249, 0.92498379945755, 0.47436627745628357, 0.7880799770355225, 0.890018880367279, 0.6489692330360413, 0.6688873171806335, 0.8710654377937317, 0.8891684412956238, 0.9235233664512634, 0.7625425457954407, 0.5163812637329102, 0.5676155686378479, 0.648969292640686, 0.6375722885131836, 0.8089754581451416, 0.8091177344322205, 0.9253730773925781, 0.7735878825187683, 0.8930305242538452, 0.6838845014572144, 0.648969292640686, 0.7951534390449524, 0.13252557814121246, 0.5163868069648743, 0.5373860597610474, 0.9308249950408936, 0.9592676758766174, 0.7203694581985474, 0.5485239624977112, 0.9249905347824097, 0.8830810189247131, 0.5130856037139893, 0.9813024401664734, 0.6489658355712891, 0.6040968298912048, 0.9013214111328125, 0.8787631988525391, 0.5163868069648743, 0.9145294427871704, 0.9194541573524475, 0.9043275117874146, 0.7579399943351746, 0.5484439134597778, 0.4109535813331604, 0.4109535813331604, 0.5374867916107178, 0.49488285183906555, 0.7916009426116943, 0.6119592189788818, 0.7137159705162048, 0.9630375504493713, 0.9732174873352051, 0.8650708794593811, 0.8722333312034607, 0.7244983911514282, 0.8475293517112732, 0.907128632068634, 0.903065025806427, 0.6120252013206482, 0.9371646046638489, 0.7137183547019958, 0.7137183547019958, 0.8691885471343994, 0.6120453476905823, 0.5163387060165405, 0.990268886089325, 0.8372882008552551, 0.9174768924713135, 0.47448182106018066, 0.8899573683738708, 0.47448182106018066, 0.8409422039985657, 0.9556280374526978, 0.7924866676330566, 0.9250105619430542, 0.6489658355712891, 0.9063987731933594, 0.5375434160232544, 0.8649138808250427, 0.9250044226646423, 0.648969292640686, 0.8455573320388794, 0.9551677703857422, 0.9852849245071411, 0.47448691725730896, 0.7137183547019958, 0.5255419015884399, 0.5130903720855713, 0.5013270378112793, 0.3105141818523407, 0.46577128767967224, 0.15525709092617035, 0.5127412676811218, 0.5375033020973206, 0.5375033020973206, 0.4744730591773987, 0.5163868069648743, 0.8348641991615295, 0.9847835302352905, 0.949711799621582, 0.8266751170158386, 0.5130903720855713, 0.6486554741859436, 0.8849133849143982], \"Term\": [\"account\", \"action\", \"advance\", \"advisor\", \"align\", \"alot\", \"amazing\", \"analyst\", \"app\", \"apple\", \"apple\", \"applecare\", \"associate\", \"athome\", \"average\", \"away\", \"awesome\", \"back\", \"bad\", \"balance\", \"be\", \"benefit\", \"benefit\", \"brand\", \"build\", \"business\", \"care\", \"career\", \"challenge\", \"chat\", \"clean\", \"college\", \"come\", \"comp\", \"company\", \"companybut\", \"cool\", \"corporate\", \"cult\", \"cult\", \"culture\", \"customer\", \"demand\", \"departure\", \"depend\", \"development\", \"device\", \"disappoint\", \"dream\", \"easy\", \"electronic\", \"engineer\", \"engineering\", \"environment\", \"excellent\", \"executive\", \"experience\", \"expert\", \"explosive\", \"family\", \"find\", \"first\", \"freshman\", \"fun\", \"general\", \"genius\", \"get\", \"global\", \"go\", \"good\", \"great\", \"great\", \"grinder\", \"group\", \"grow\", \"growth\", \"gsoc\", \"home\", \"hour\", \"house\", \"impact\", \"interesting\", \"intern\", \"ist\", \"job\", \"kbs\", \"key\", \"lack\", \"layer\", \"leader\", \"learning\", \"life\", \"limit\", \"long\", \"look\", \"love\", \"lovehate\", \"mac\", \"make\", \"management\", \"manager\", \"many\", \"market\", \"marketing\", \"meat\", \"microsoft\", \"mobile\", \"money\", \"name\", \"nice\", \"not\", \"operation\", \"operator\", \"opportunity\", \"opportunity\", \"organization\", \"outside\", \"outstanding\", \"overall\", \"part\", \"parttime\", \"pay\", \"people\", \"phone\", \"place\", \"planner\", \"politic\", \"poor\", \"pretty\", \"procurement\", \"product\", \"program\", \"promotion\", \"really\", \"red\", \"relationship\", \"relationship\", \"release\", \"remote\", \"repair\", \"representative\", \"reseller\", \"retail\", \"review\", \"rewarding\", \"role\", \"room\", \"salary\", \"sale\", \"satisfy\", \"seasonal\", \"senior\", \"ship\", \"sinking\", \"software\", \"solution\", \"someone\", \"specialist\", \"start\", \"stay\", \"stepping\", \"still\", \"stone\", \"store\", \"stressful\", \"student\", \"success\", \"supply\", \"support\", \"sycophant\", \"take\", \"tale\", \"talk\", \"team\", \"tech\", \"technical\", \"technician\", \"test\", \"thing\", \"think\", \"tier\", \"time\", \"time\", \"time\", \"train\", \"unloved\", \"unwanted\", \"way\", \"wide\", \"will\", \"work\", \"worklife\", \"world\", \"would\", \"year\", \"zone\"]}, \"R\": 30, \"lambda.step\": 0.01, \"plot.opts\": {\"xlab\": \"PC1\", \"ylab\": \"PC2\"}, \"topic.order\": [4, 5, 3, 2, 6, 1]};\n",
       "\n",
       "function LDAvis_load_lib(url, callback){\n",
       "  var s = document.createElement('script');\n",
       "  s.src = url;\n",
       "  s.async = true;\n",
       "  s.onreadystatechange = s.onload = callback;\n",
       "  s.onerror = function(){console.warn(\"failed to load library \" + url);};\n",
       "  document.getElementsByTagName(\"head\")[0].appendChild(s);\n",
       "}\n",
       "\n",
       "if(typeof(LDAvis) !== \"undefined\"){\n",
       "   // already loaded: just create the visualization\n",
       "   !function(LDAvis){\n",
       "       new LDAvis(\"#\" + \"ldavis_el1410448935102962106020212\", ldavis_el1410448935102962106020212_data);\n",
       "   }(LDAvis);\n",
       "}else if(typeof define === \"function\" && define.amd){\n",
       "   // require.js is available: use it to load d3/LDAvis\n",
       "   require.config({paths: {d3: \"https://cdnjs.cloudflare.com/ajax/libs/d3/3.5.5/d3.min\"}});\n",
       "   require([\"d3\"], function(d3){\n",
       "      window.d3 = d3;\n",
       "      LDAvis_load_lib(\"https://cdn.rawgit.com/bmabey/pyLDAvis/files/ldavis.v1.0.0.js\", function(){\n",
       "        new LDAvis(\"#\" + \"ldavis_el1410448935102962106020212\", ldavis_el1410448935102962106020212_data);\n",
       "      });\n",
       "    });\n",
       "}else{\n",
       "    // require.js not available: dynamically load d3 & LDAvis\n",
       "    LDAvis_load_lib(\"https://cdnjs.cloudflare.com/ajax/libs/d3/3.5.5/d3.min.js\", function(){\n",
       "         LDAvis_load_lib(\"https://cdn.rawgit.com/bmabey/pyLDAvis/files/ldavis.v1.0.0.js\", function(){\n",
       "                 new LDAvis(\"#\" + \"ldavis_el1410448935102962106020212\", ldavis_el1410448935102962106020212_data);\n",
       "            })\n",
       "         });\n",
       "}\n",
       "</script>"
      ],
      "text/plain": [
       "PreparedData(topic_coordinates=              x         y  topics  cluster       Freq\n",
       "topic                                                \n",
       "3      0.228752 -0.206570       1        1  26.161592\n",
       "4      0.190130  0.183545       2        1  25.372278\n",
       "2     -0.175871 -0.133163       3        1  14.657826\n",
       "1     -0.089478  0.049793       4        1  13.194354\n",
       "5     -0.053815  0.087166       5        1  10.666625\n",
       "0     -0.099717  0.019230       6        1   9.947322, topic_info=     Category       Freq         Term      Total  loglift  logprob\n",
       "term                                                              \n",
       "56    Default  50.000000   specialist  50.000000  30.0000  30.0000\n",
       "15    Default  45.000000         good  45.000000  29.0000  29.0000\n",
       "22    Default  42.000000         work  42.000000  28.0000  28.0000\n",
       "11    Default  43.000000      company  43.000000  27.0000  27.0000\n",
       "20    Default  70.000000        great  70.000000  26.0000  26.0000\n",
       "59    Default  23.000000    technical  23.000000  25.0000  25.0000\n",
       "16    Default  39.000000        apple  39.000000  24.0000  24.0000\n",
       "38    Default  29.000000       retail  29.000000  23.0000  23.0000\n",
       "21    Default  26.000000        place  26.000000  22.0000  22.0000\n",
       "23    Default  12.000000      manager  12.000000  21.0000  21.0000\n",
       "6     Default  24.000000          job  24.000000  20.0000  20.0000\n",
       "26    Default  23.000000      advisor  23.000000  19.0000  19.0000\n",
       "136   Default  12.000000     engineer  12.000000  18.0000  18.0000\n",
       "121   Default  11.000000      support  11.000000  17.0000  17.0000\n",
       "24    Default   8.000000       senior   8.000000  16.0000  16.0000\n",
       "66    Default  10.000000         tech  10.000000  15.0000  15.0000\n",
       "186   Default   9.000000      amazing   9.000000  14.0000  14.0000\n",
       "27    Default  14.000000         home  14.000000  13.0000  13.0000\n",
       "60    Default   8.000000       expert   8.000000  12.0000  12.0000\n",
       "115   Default   8.000000     software   8.000000  11.0000  11.0000\n",
       "31    Default   6.000000         sale   6.000000  10.0000  10.0000\n",
       "13    Default   6.000000      product   6.000000   9.0000   9.0000\n",
       "43    Default   6.000000         love   6.000000   8.0000   8.0000\n",
       "29    Default  12.000000       review  12.000000   7.0000   7.0000\n",
       "18    Default  12.000000   experience  12.000000   6.0000   6.0000\n",
       "30    Default   6.000000     business   6.000000   5.0000   5.0000\n",
       "17    Default  11.000000       genius  11.000000   4.0000   4.0000\n",
       "174   Default   6.000000         make   6.000000   3.0000   3.0000\n",
       "51    Default  11.000000      college  11.000000   2.0000   2.0000\n",
       "32    Default  10.000000      culture  10.000000   1.0000   1.0000\n",
       "...       ...        ...          ...        ...      ...      ...\n",
       "13     Topic6   5.926046      product   6.560751   2.2061  -3.0883\n",
       "30     Topic6   5.583932     business   6.218524   2.2002  -3.1477\n",
       "64     Topic6   3.716615      program   4.350407   2.1504  -3.5548\n",
       "42     Topic6   3.399529      awesome   4.034017   2.1367  -3.6440\n",
       "110    Topic6   2.691943         poor   3.328446   2.0956  -3.8774\n",
       "312    Topic6   1.988797         many   2.622804   2.0312  -4.1801\n",
       "196    Topic6   1.625510         zone   2.260108   1.9783  -4.3818\n",
       "83     Topic6   1.512398  engineering   2.146121   1.9579  -4.4539\n",
       "84     Topic6   1.230167        group   1.863886   1.8924  -4.6605\n",
       "353    Topic6   1.189342    corporate   1.823117   1.8807  -4.6942\n",
       "377    Topic6   1.189342        layer   1.823117   1.8807  -4.6942\n",
       "383    Topic6   1.189342         back   1.823117   1.8807  -4.6942\n",
       "354    Topic6   1.189342    departure   1.823117   1.8807  -4.6942\n",
       "384    Topic6   1.189342        house   1.823117   1.8807  -4.6942\n",
       "385    Topic6   1.189342        clean   1.823117   1.8807  -4.6942\n",
       "386    Topic6   1.189342          kbs   1.823117   1.8807  -4.6942\n",
       "355    Topic6   1.189203     parttime   1.823074   1.8806  -4.6943\n",
       "357    Topic6   1.186875          red   1.823341   1.8785  -4.6963\n",
       "86     Topic6   1.021429      politic   1.655364   1.8250  -4.8464\n",
       "300    Topic6   0.907175       supply   1.540913   1.7781  -4.9650\n",
       "299    Topic6   0.907175      planner   1.540913   1.7781  -4.9650\n",
       "301    Topic6   0.907175       depend   1.540913   1.7781  -4.9650\n",
       "298    Topic6   0.907175       demand   1.540913   1.7781  -4.9650\n",
       "325    Topic6   0.907150         talk   1.540905   1.7780  -4.9651\n",
       "337    Topic6   0.907150     operator   1.540905   1.7780  -4.9651\n",
       "324    Topic6   0.907150       action   1.540905   1.7780  -4.9651\n",
       "285    Topic6   0.907150      grinder   1.540905   1.7780  -4.9651\n",
       "336    Topic6   0.907150         gsoc   1.540905   1.7780  -4.9651\n",
       "293    Topic6   0.907150     lovehate   1.540905   1.7780  -4.9651\n",
       "286    Topic6   0.907150         meat   1.540905   1.7780  -4.9651\n",
       "\n",
       "[223 rows x 6 columns], token_table=      Topic      Freq        Term\n",
       "term                             \n",
       "91        3  0.866133     account\n",
       "324       6  0.648969      action\n",
       "72        2  0.864801     advance\n",
       "26        1  0.986603     advisor\n",
       "349       2  0.925011       align\n",
       "366       5  0.537503        alot\n",
       "186       4  0.930580     amazing\n",
       "0         1  0.892546     analyst\n",
       "123       4  0.826597         app\n",
       "16        2  0.832428       apple\n",
       "16        5  0.151351       apple\n",
       "160       4  0.826561   applecare\n",
       "94        2  0.836259   associate\n",
       "308       1  0.934280      athome\n",
       "140       2  0.845512     average\n",
       "332       5  0.637574        away\n",
       "42        6  0.743676     awesome\n",
       "383       6  0.548511        back\n",
       "95        1  0.857332         bad\n",
       "2         1  0.949712     balance\n",
       "221       5  0.917473          be\n",
       "183       1  0.594598     benefit\n",
       "183       4  0.396399     benefit\n",
       "390       1  0.925373       brand\n",
       "291       5  0.744131       build\n",
       "30        6  0.964859    business\n",
       "119       5  0.476828        care\n",
       "105       3  0.808232      career\n",
       "3         1  0.837342   challenge\n",
       "318       3  0.703832        chat\n",
       "...     ...       ...         ...\n",
       "351       2  0.925011     success\n",
       "300       6  0.648966      supply\n",
       "121       3  0.906399     support\n",
       "375       5  0.537543   sycophant\n",
       "158       5  0.864914        take\n",
       "356       2  0.925004        tale\n",
       "325       6  0.648969        talk\n",
       "90        2  0.845557        team\n",
       "66        3  0.955168        tech\n",
       "59        3  0.985285   technical\n",
       "116       4  0.474487  technician\n",
       "275       3  0.713718        test\n",
       "55        5  0.525542       thing\n",
       "364       3  0.513090       think\n",
       "71        3  0.501327        tier\n",
       "63        2  0.310514        time\n",
       "63        4  0.465771        time\n",
       "63        5  0.155257        time\n",
       "389       3  0.512741       train\n",
       "367       5  0.537503     unloved\n",
       "368       5  0.537503    unwanted\n",
       "145       4  0.474473         way\n",
       "363       4  0.516387        wide\n",
       "307       5  0.834864        will\n",
       "22        2  0.984784        work\n",
       "10        1  0.949712    worklife\n",
       "146       4  0.826675       world\n",
       "365       3  0.513090       would\n",
       "255       5  0.648655        year\n",
       "196       6  0.884913        zone\n",
       "\n",
       "[196 rows x 3 columns], R=30, lambda_step=0.01, plot_opts={'xlab': 'PC1', 'ylab': 'PC2'}, topic_order=[4, 5, 3, 2, 6, 1])"
      ]
     },
     "execution_count": 125,
     "metadata": {},
     "output_type": "execute_result"
    }
   ],
   "source": [
    "import warnings\n",
    "warnings.filterwarnings(\"ignore\", category=FutureWarning) # hides future warning\n",
    "\n",
    "import pyLDAvis # interactive visualization for LDA\n",
    "import pyLDAvis.gensim \n",
    "\n",
    "pyLDAvis.enable_notebook()\n",
    "vis = pyLDAvis.gensim.prepare(lda_model, corpus, id2word)\n",
    "vis"
   ]
  },
  {
   "cell_type": "markdown",
   "metadata": {
    "heading_collapsed": true,
    "hidden": true
   },
   "source": [
    "## LDA Mallet Model"
   ]
  },
  {
   "cell_type": "code",
   "execution_count": 126,
   "metadata": {
    "hidden": true
   },
   "outputs": [],
   "source": [
    "# Download file: http://mallet.cs.umass.edu/dist/mallet-2.0.8.zip\n",
    "# Installing mallet: https://programminghistorian.org/en/lessons/topic-modeling-and-mallet#mac-instructions\n",
    "# Download Java SE (download .zip instead of .exe for silent install)\n",
    "\n",
    "import os\n",
    "from gensim.models.wrappers import LdaMallet\n",
    "\n",
    "os.environ.update({'MALLET_HOME':r'/Users/Mick/Desktop/mallet/'}) # create environment\n",
    "mallet_path = '/Users/Mick/Desktop/mallet/bin/mallet' # update this path"
   ]
  },
  {
   "cell_type": "code",
   "execution_count": 127,
   "metadata": {
    "hidden": true
   },
   "outputs": [],
   "source": [
    "ldamallet = LdaMallet(mallet_path,corpus=corpus,num_topics=6,id2word=id2word)\n",
    "# here we use 6 topics"
   ]
  },
  {
   "cell_type": "code",
   "execution_count": 128,
   "metadata": {
    "hidden": true
   },
   "outputs": [
    {
     "name": "stdout",
     "output_type": "stream",
     "text": [
      "[(0,\n",
      "  [('specialist', 0.3076923076923077),\n",
      "   ('technical', 0.13122171945701358),\n",
      "   ('job', 0.11312217194570136),\n",
      "   ('engineer', 0.06787330316742081),\n",
      "   ('time', 0.03619909502262444),\n",
      "   ('make', 0.027149321266968326),\n",
      "   ('excellent', 0.01809954751131222),\n",
      "   ('outstanding', 0.013574660633484163),\n",
      "   ('family', 0.013574660633484163),\n",
      "   ('cool', 0.013574660633484163)]),\n",
      " (1,\n",
      "  [('great', 0.19902912621359223),\n",
      "   ('manager', 0.0970873786407767),\n",
      "   ('experience', 0.06310679611650485),\n",
      "   ('tech', 0.06310679611650485),\n",
      "   ('product', 0.04854368932038835),\n",
      "   ('college', 0.04854368932038835),\n",
      "   ('people', 0.038834951456310676),\n",
      "   ('awesome', 0.03398058252427184),\n",
      "   ('challenge', 0.019417475728155338),\n",
      "   ('poor', 0.019417475728155338)]),\n",
      " (2,\n",
      "  [('apple', 0.25252525252525254),\n",
      "   ('genius', 0.08080808080808081),\n",
      "   ('review', 0.06565656565656566),\n",
      "   ('love', 0.050505050505050504),\n",
      "   ('bad', 0.03535353535353535),\n",
      "   ('environment', 0.03535353535353535),\n",
      "   ('retail', 0.030303030303030304),\n",
      "   ('applecare', 0.025252525252525252),\n",
      "   ('medical', 0.015151515151515152),\n",
      "   ('operation', 0.015151515151515152)]),\n",
      " (3,\n",
      "  [('good', 0.25471698113207547),\n",
      "   ('advisor', 0.1179245283018868),\n",
      "   ('home', 0.07547169811320754),\n",
      "   ('support', 0.05660377358490566),\n",
      "   ('culture', 0.04716981132075472),\n",
      "   ('great', 0.0330188679245283),\n",
      "   ('store', 0.02830188679245283),\n",
      "   ('opportunity', 0.02358490566037736),\n",
      "   ('student', 0.02358490566037736),\n",
      "   ('care', 0.014150943396226415)]),\n",
      " (4,\n",
      "  [('company', 0.2676767676767677),\n",
      "   ('retail', 0.11616161616161616),\n",
      "   ('senior', 0.05555555555555555),\n",
      "   ('expert', 0.05555555555555555),\n",
      "   ('amazing', 0.05555555555555555),\n",
      "   ('benefit', 0.030303030303030304),\n",
      "   ('pretty', 0.020202020202020204),\n",
      "   ('analyst', 0.015151515151515152),\n",
      "   ('year', 0.015151515151515152),\n",
      "   ('room', 0.015151515151515152)]),\n",
      " (5,\n",
      "  [('work', 0.25510204081632654),\n",
      "   ('great', 0.17346938775510204),\n",
      "   ('place', 0.14285714285714285),\n",
      "   ('software', 0.04591836734693878),\n",
      "   ('business', 0.04591836734693878),\n",
      "   ('sale', 0.03571428571428571),\n",
      "   ('program', 0.02040816326530612),\n",
      "   ('career', 0.015306122448979591),\n",
      "   ('part', 0.015306122448979591),\n",
      "   ('difficult', 0.015306122448979591)])]\n"
     ]
    }
   ],
   "source": [
    "# Show topics\n",
    "pprint(ldamallet.show_topics(formatted=False))"
   ]
  },
  {
   "cell_type": "markdown",
   "metadata": {
    "heading_collapsed": true,
    "hidden": true
   },
   "source": [
    "### LDA Mallet Model Performance"
   ]
  },
  {
   "cell_type": "code",
   "execution_count": 129,
   "metadata": {
    "hidden": true
   },
   "outputs": [
    {
     "name": "stdout",
     "output_type": "stream",
     "text": [
      "\n",
      "Coherence Score:  0.7420220709632819\n"
     ]
    }
   ],
   "source": [
    "# Compute coherence score\n",
    "coherence_model_ldamallet = CoherenceModel(model=ldamallet, texts=data_lemmatized, dictionary=id2word, coherence=\"c_v\")\n",
    "coherence_ldamallet = coherence_model_ldamallet.get_coherence()\n",
    "print('\\nCoherence Score: ', coherence_ldamallet)"
   ]
  },
  {
   "cell_type": "markdown",
   "metadata": {
    "heading_collapsed": true,
    "hidden": true
   },
   "source": [
    "## Finding the Optimal Number of Topics for LDA Mallet Model"
   ]
  },
  {
   "cell_type": "code",
   "execution_count": 130,
   "metadata": {
    "hidden": true
   },
   "outputs": [],
   "source": [
    "# compute coherence_values for LdaMallets models\n",
    "\n",
    "def compute_coherence_values(dictionary, corpus, texts, limit, start=2, step=3):\n",
    "    coherence_values = []\n",
    "    model_list = []\n",
    "    for num_topics in range(start, limit, step):\n",
    "        model = gensim.models.wrappers.LdaMallet(mallet_path, corpus=corpus, num_topics=num_topics, id2word=id2word)\n",
    "        model_list.append(model) # adds different LdaMallet models based on num_topics(start, limit, step)\n",
    "        coherencemodel = CoherenceModel(model=model, texts=texts, dictionary=dictionary, coherence='c_v')\n",
    "        coherence_values.append(coherencemodel.get_coherence()) # add the different LdaMallet models and compute Coherence score\n",
    "    return model_list, coherence_values\n",
    "\n",
    "# Recall previous LdaMallet model\n",
    "# ldamallet = LdaMallet(mallet_path,corpus=corpus,num_topics=10,id2word=id2word)\n",
    "# coherence_model_ldamallet = CoherenceModel(model=ldamallet, texts=data_lemmatized, dictionary=id2word, coherence=\"c_v\")\n",
    "\n",
    "# compute a list of LdaMallets models\n",
    "model_list, coherence_values = compute_coherence_values(dictionary=id2word, corpus=corpus, texts=data_lemmatized, start=2, limit=40, step=6)"
   ]
  },
  {
   "cell_type": "code",
   "execution_count": 131,
   "metadata": {
    "hidden": true
   },
   "outputs": [
    {
     "data": {
      "image/png": "[encoded data removed]",
      "text/plain": [
       "<Figure size 432x288 with 1 Axes>"
      ]
     },
     "metadata": {
      "needs_background": "light"
     },
     "output_type": "display_data"
    }
   ],
   "source": [
    "# show graph\n",
    "limit=40; start=2; step=6;\n",
    "x = range(start, limit, step)\n",
    "plt.plot(x, coherence_values)\n",
    "plt.xlabel('Num Topics')\n",
    "plt.ylabel('Coherence score')\n",
    "plt.legend(('coherence_values'), loc='best')\n",
    "plt.show()"
   ]
  },
  {
   "cell_type": "code",
   "execution_count": 132,
   "metadata": {
    "hidden": true
   },
   "outputs": [
    {
     "name": "stdout",
     "output_type": "stream",
     "text": [
      "Num Topics = 2  has Coherence Value of 0.6872\n",
      "Num Topics = 8  has Coherence Value of 0.745\n",
      "Num Topics = 14  has Coherence Value of 0.7758\n",
      "Num Topics = 20  has Coherence Value of 0.7674\n",
      "Num Topics = 26  has Coherence Value of 0.7801\n",
      "Num Topics = 32  has Coherence Value of 0.7644\n",
      "Num Topics = 38  has Coherence Value of 0.7571\n"
     ]
    }
   ],
   "source": [
    "# Print the coherence scores\n",
    "for m, cv in zip(x, coherence_values): # zip aggregate iterables (zero or more)\n",
    "    print('Num Topics =', m, ' has Coherence Value of', round(cv, 4))\n",
    "    # calls an iterated x (x = range(start, limit, step)) and coherence_values (4 decimals)"
   ]
  },
  {
   "cell_type": "code",
   "execution_count": 133,
   "metadata": {
    "hidden": true
   },
   "outputs": [
    {
     "name": "stdout",
     "output_type": "stream",
     "text": [
      "[(25,\n",
      "  '0.222*\"culture\" + 0.178*\"expert\" + 0.178*\"sale\" + 0.178*\"good\" + '\n",
      "  '0.067*\"cool\" + 0.022*\"remote\" + 0.022*\"love\" + 0.022*\"unmatched\" + '\n",
      "  '0.022*\"bar\" + 0.022*\"life\"'),\n",
      " (18,\n",
      "  '0.537*\"specialist\" + 0.056*\"room\" + 0.056*\"pretty\" + 0.037*\"business\" + '\n",
      "  '0.037*\"hard\" + 0.019*\"pace\" + 0.019*\"forever\" + 0.019*\"cupertino\" + '\n",
      "  '0.019*\"gig\" + 0.019*\"release\"'),\n",
      " (15,\n",
      "  '0.547*\"place\" + 0.075*\"challenge\" + 0.057*\"dream\" + 0.038*\"genius\" + '\n",
      "  '0.038*\"device\" + 0.019*\"stepping\" + 0.019*\"pretty\" + 0.019*\"direct\" + '\n",
      "  '0.019*\"care\" + 0.019*\"life\"'),\n",
      " (16,\n",
      "  '0.282*\"senior\" + 0.128*\"college\" + 0.077*\"part\" + 0.077*\"expert\" + '\n",
      "  '0.051*\"gain\" + 0.051*\"terrible\" + 0.051*\"role\" + 0.026*\"competitive\" + '\n",
      "  '0.026*\"development\" + 0.026*\"riddled\"'),\n",
      " (21,\n",
      "  '0.605*\"great\" + 0.047*\"operation\" + 0.023*\"ios\" + 0.023*\"wwdr\" + '\n",
      "  '0.023*\"avoid\" + 0.023*\"advance\" + 0.023*\"chat\" + 0.023*\"grinder\" + '\n",
      "  '0.023*\"give\" + 0.023*\"listen\"'),\n",
      " (10,\n",
      "  '0.537*\"good\" + 0.167*\"job\" + 0.111*\"technical\" + 0.037*\"review\" + '\n",
      "  '0.019*\"flexible\" + 0.019*\"poor\" + 0.019*\"agent\" + 0.019*\"encourage\" + '\n",
      "  '0.019*\"lovehate\" + 0.019*\"meat\"'),\n",
      " (7,\n",
      "  '0.385*\"engineer\" + 0.231*\"software\" + 0.026*\"insurer\" + 0.026*\"design\" + '\n",
      "  '0.026*\"engineering\" + 0.026*\"freshman\" + 0.026*\"king\" + 0.026*\"handcuff\" + '\n",
      "  '0.026*\"creative\" + 0.026*\"bad\"'),\n",
      " (8,\n",
      "  '0.465*\"apple\" + 0.070*\"family\" + 0.047*\"hour\" + 0.047*\"store\" + '\n",
      "  '0.023*\"aslp\" + 0.023*\"money\" + 0.023*\"green\" + 0.023*\"technology\" + '\n",
      "  '0.023*\"great\" + 0.023*\"workathome\"'),\n",
      " (24,\n",
      "  '0.588*\"retail\" + 0.118*\"opportunity\" + 0.039*\"salary\" + '\n",
      "  '0.039*\"relationship\" + 0.020*\"stay\" + 0.020*\"leave\" + 0.020*\"ist\" + '\n",
      "  '0.020*\"demand\" + 0.020*\"sinking\" + 0.020*\"engineering\"'),\n",
      " (2,\n",
      "  '0.194*\"business\" + 0.111*\"store\" + 0.083*\"medical\" + 0.083*\"review\" + '\n",
      "  '0.083*\"outstanding\" + 0.056*\"balance\" + 0.056*\"people\" + 0.028*\"recommend\" '\n",
      "  '+ 0.028*\"stand\" + 0.028*\"year\"'),\n",
      " (5,\n",
      "  '0.490*\"company\" + 0.176*\"love\" + 0.039*\"reward\" + 0.039*\"rewarding\" + '\n",
      "  '0.020*\"success\" + 0.020*\"enjoyable\" + 0.020*\"design\" + 0.020*\"hourly\" + '\n",
      "  '0.020*\"view\" + 0.020*\"tale\"'),\n",
      " (14,\n",
      "  '0.275*\"amazing\" + 0.100*\"great\" + 0.075*\"customer\" + 0.050*\"home\" + '\n",
      "  '0.050*\"specialist\" + 0.050*\"college\" + 0.025*\"fix\" + 0.025*\"stepping\" + '\n",
      "  '0.025*\"long\" + 0.025*\"pick\"'),\n",
      " (23,\n",
      "  '0.405*\"good\" + 0.119*\"fun\" + 0.048*\"manager\" + 0.048*\"worklife\" + '\n",
      "  '0.024*\"retail\" + 0.024*\"cooperate\" + 0.024*\"growth\" + 0.024*\"boh\" + '\n",
      "  '0.024*\"pay\" + 0.024*\"acoustic\"'),\n",
      " (12,\n",
      "  '0.407*\"work\" + 0.093*\"genius\" + 0.093*\"people\" + 0.056*\"mac\" + '\n",
      "  '0.056*\"environment\" + 0.037*\"review\" + 0.019*\"explosive\" + 0.019*\"common\" + '\n",
      "  '0.019*\"gsoc\" + 0.019*\"move\"'),\n",
      " (0,\n",
      "  '0.509*\"work\" + 0.109*\"make\" + 0.055*\"associate\" + 0.055*\"experience\" + '\n",
      "  '0.036*\"start\" + 0.018*\"technical\" + 0.018*\"feedback\" + 0.018*\"impactful\" + '\n",
      "  '0.018*\"intern\" + 0.018*\"parttime\"'),\n",
      " (9,\n",
      "  '0.721*\"specialist\" + 0.023*\"dispatch\" + 0.023*\"sycophant\" + 0.023*\"lucky\" + '\n",
      "  '0.023*\"remote\" + 0.023*\"end\" + 0.023*\"global\" + 0.023*\"red\" + 0.023*\"world\" '\n",
      "  '+ 0.023*\"reasonable\"'),\n",
      " (13,\n",
      "  '0.146*\"awesome\" + 0.146*\"specialist\" + 0.146*\"review\" + 0.098*\"program\" + '\n",
      "  '0.024*\"evil\" + 0.024*\"intern\" + 0.024*\"account\" + 0.024*\"stone\" + '\n",
      "  '0.024*\"find\" + 0.024*\"hour\"'),\n",
      " (22,\n",
      "  '0.255*\"support\" + 0.234*\"tech\" + 0.064*\"home\" + 0.043*\"advisor\" + '\n",
      "  '0.043*\"year\" + 0.043*\"perfect\" + 0.021*\"house\" + 0.021*\"associate\" + '\n",
      "  '0.021*\"learning\" + 0.021*\"organization\"'),\n",
      " (19,\n",
      "  '0.250*\"product\" + 0.222*\"genius\" + 0.139*\"apple\" + 0.111*\"bad\" + '\n",
      "  '0.028*\"satisfy\" + 0.028*\"advance\" + 0.028*\"stay\" + 0.028*\"leadership\" + '\n",
      "  '0.028*\"individual\" + 0.028*\"balance\"'),\n",
      " (11,\n",
      "  '0.340*\"job\" + 0.213*\"experience\" + 0.128*\"career\" + 0.064*\"technical\" + '\n",
      "  '0.064*\"stressful\" + 0.043*\"difficult\" + 0.021*\"solution\" + 0.021*\"prior\" + '\n",
      "  '0.021*\"salary\" + 0.021*\"stone\"')]\n"
     ]
    }
   ],
   "source": [
    "# Select the model with highest coherence value and print the topics\n",
    "optimal_model = model_list[4] # the 4th index from above output\n",
    "model_topics = optimal_model.show_topics(formatted=False)\n",
    "pprint(optimal_model.print_topics(num_words=10)) # set num_words parament to show 10 words per topic"
   ]
  },
  {
   "cell_type": "markdown",
   "metadata": {
    "heading_collapsed": true,
    "hidden": true
   },
   "source": [
    "### Visual the Optimal LDA Mallet Model"
   ]
  },
  {
   "cell_type": "code",
   "execution_count": 134,
   "metadata": {
    "hidden": true
   },
   "outputs": [
    {
     "data": {
      "image/png": "[encoded data removed]",
      "text/plain": [
       "<Figure size 720x720 with 4 Axes>"
      ]
     },
     "metadata": {
      "needs_background": "light"
     },
     "output_type": "display_data"
    }
   ],
   "source": [
    "# Wordcloud of Top N words in each topic\n",
    "from matplotlib import pyplot as plt\n",
    "from wordcloud import WordCloud, STOPWORDS\n",
    "import matplotlib.colors as mcolors\n",
    "\n",
    "cols = [color for name, color in mcolors.TABLEAU_COLORS.items()]  # more colors: 'mcolors.XKCD_COLORS'\n",
    "\n",
    "cloud = WordCloud(stopwords=stop_words,\n",
    "                  background_color='white',\n",
    "                  width=2500,\n",
    "                  height=1800,\n",
    "                  max_words=10,\n",
    "                  colormap='tab10',\n",
    "                  color_func=lambda *args, **kwargs: cols[i],\n",
    "                  prefer_horizontal=1.0)\n",
    "\n",
    "topics = optimal_model.show_topics(formatted=False)\n",
    "\n",
    "fig, axes = plt.subplots(2, 2, figsize=(10,10), sharex=True, sharey=True)\n",
    "\n",
    "for i, ax in enumerate(axes.flatten()):\n",
    "    fig.add_subplot(ax)\n",
    "    topic_words = dict(topics[i][1])\n",
    "    cloud.generate_from_frequencies(topic_words, max_font_size=300)\n",
    "    plt.gca().imshow(cloud)\n",
    "    plt.gca().set_title('Topic ' + str(i), fontdict=dict(size=16))\n",
    "    plt.gca().axis('off')\n",
    "\n",
    "\n",
    "plt.subplots_adjust(wspace=0, hspace=0)\n",
    "plt.axis('off')\n",
    "plt.margins(x=0, y=0)\n",
    "plt.tight_layout()\n",
    "plt.show()"
   ]
  },
  {
   "cell_type": "markdown",
   "metadata": {
    "heading_collapsed": true,
    "hidden": true
   },
   "source": [
    "## Analysis"
   ]
  },
  {
   "cell_type": "markdown",
   "metadata": {
    "heading_collapsed": true,
    "hidden": true
   },
   "source": [
    "### Finding topics for each document"
   ]
  },
  {
   "cell_type": "code",
   "execution_count": 135,
   "metadata": {
    "hidden": true
   },
   "outputs": [
    {
     "data": {
      "text/html": [
       "<div>\n",
       "<style scoped>\n",
       "    .dataframe tbody tr th:only-of-type {\n",
       "        vertical-align: middle;\n",
       "    }\n",
       "\n",
       "    .dataframe tbody tr th {\n",
       "        vertical-align: top;\n",
       "    }\n",
       "\n",
       "    .dataframe thead th {\n",
       "        text-align: right;\n",
       "    }\n",
       "</style>\n",
       "<table border=\"1\" class=\"dataframe\">\n",
       "  <thead>\n",
       "    <tr style=\"text-align: right;\">\n",
       "      <th></th>\n",
       "      <th>Document_No</th>\n",
       "      <th>Dominant_Topic</th>\n",
       "      <th>Topic_Perc_Contrib</th>\n",
       "      <th>Keywords</th>\n",
       "      <th>Document</th>\n",
       "    </tr>\n",
       "  </thead>\n",
       "  <tbody>\n",
       "    <tr>\n",
       "      <th>0</th>\n",
       "      <td>0</td>\n",
       "      <td>17.0</td>\n",
       "      <td>0.0541</td>\n",
       "      <td>technical, time, analyst, bad, average, sqa, d...</td>\n",
       "      <td>GIS  Data Analyst</td>\n",
       "    </tr>\n",
       "    <tr>\n",
       "      <th>1</th>\n",
       "      <td>1</td>\n",
       "      <td>5.0</td>\n",
       "      <td>0.0600</td>\n",
       "      <td>company, love, reward, rewarding, success, enj...</td>\n",
       "      <td>Challenging Rewarding but ZERO worklife balanc...</td>\n",
       "    </tr>\n",
       "    <tr>\n",
       "      <th>2</th>\n",
       "      <td>2</td>\n",
       "      <td>23.0</td>\n",
       "      <td>0.0531</td>\n",
       "      <td>good, fun, manager, worklife, retail, cooperat...</td>\n",
       "      <td>A Company as Meticulous as Their Products</td>\n",
       "    </tr>\n",
       "    <tr>\n",
       "      <th>3</th>\n",
       "      <td>3</td>\n",
       "      <td>22.0</td>\n",
       "      <td>0.0530</td>\n",
       "      <td>support, tech, home, advisor, year, perfect, h...</td>\n",
       "      <td>AtHomeAdvisor</td>\n",
       "    </tr>\n",
       "    <tr>\n",
       "      <th>4</th>\n",
       "      <td>4</td>\n",
       "      <td>10.0</td>\n",
       "      <td>0.0486</td>\n",
       "      <td>good, job, technical, review, flexible, poor, ...</td>\n",
       "      <td>Good</td>\n",
       "    </tr>\n",
       "    <tr>\n",
       "      <th>5</th>\n",
       "      <td>5</td>\n",
       "      <td>8.0</td>\n",
       "      <td>0.0486</td>\n",
       "      <td>apple, family, hour, store, aslp, money, green...</td>\n",
       "      <td>Apple</td>\n",
       "    </tr>\n",
       "    <tr>\n",
       "      <th>6</th>\n",
       "      <td>6</td>\n",
       "      <td>12.0</td>\n",
       "      <td>0.0486</td>\n",
       "      <td>work, genius, people, mac, environment, review...</td>\n",
       "      <td>Genius</td>\n",
       "    </tr>\n",
       "    <tr>\n",
       "      <th>7</th>\n",
       "      <td>7</td>\n",
       "      <td>15.0</td>\n",
       "      <td>0.0531</td>\n",
       "      <td>place, challenge, dream, genius, device, stepp...</td>\n",
       "      <td>Great place to work and gain experience</td>\n",
       "    </tr>\n",
       "    <tr>\n",
       "      <th>8</th>\n",
       "      <td>8</td>\n",
       "      <td>16.0</td>\n",
       "      <td>0.0562</td>\n",
       "      <td>senior, college, part, expert, gain, terrible,...</td>\n",
       "      <td>Senior managers</td>\n",
       "    </tr>\n",
       "    <tr>\n",
       "      <th>9</th>\n",
       "      <td>9</td>\n",
       "      <td>12.0</td>\n",
       "      <td>0.0605</td>\n",
       "      <td>work, genius, people, mac, environment, review...</td>\n",
       "      <td>Mac Genius</td>\n",
       "    </tr>\n",
       "  </tbody>\n",
       "</table>\n",
       "</div>"
      ],
      "text/plain": [
       "   Document_No  Dominant_Topic  Topic_Perc_Contrib  \\\n",
       "0            0            17.0              0.0541   \n",
       "1            1             5.0              0.0600   \n",
       "2            2            23.0              0.0531   \n",
       "3            3            22.0              0.0530   \n",
       "4            4            10.0              0.0486   \n",
       "5            5             8.0              0.0486   \n",
       "6            6            12.0              0.0486   \n",
       "7            7            15.0              0.0531   \n",
       "8            8            16.0              0.0562   \n",
       "9            9            12.0              0.0605   \n",
       "\n",
       "                                            Keywords  \\\n",
       "0  technical, time, analyst, bad, average, sqa, d...   \n",
       "1  company, love, reward, rewarding, success, enj...   \n",
       "2  good, fun, manager, worklife, retail, cooperat...   \n",
       "3  support, tech, home, advisor, year, perfect, h...   \n",
       "4  good, job, technical, review, flexible, poor, ...   \n",
       "5  apple, family, hour, store, aslp, money, green...   \n",
       "6  work, genius, people, mac, environment, review...   \n",
       "7  place, challenge, dream, genius, device, stepp...   \n",
       "8  senior, college, part, expert, gain, terrible,...   \n",
       "9  work, genius, people, mac, environment, review...   \n",
       "\n",
       "                                            Document  \n",
       "0                                  GIS  Data Analyst  \n",
       "1  Challenging Rewarding but ZERO worklife balanc...  \n",
       "2          A Company as Meticulous as Their Products  \n",
       "3                                      AtHomeAdvisor  \n",
       "4                                               Good  \n",
       "5                                              Apple  \n",
       "6                                             Genius  \n",
       "7            Great place to work and gain experience  \n",
       "8                                    Senior managers  \n",
       "9                                         Mac Genius  "
      ]
     },
     "execution_count": 135,
     "metadata": {},
     "output_type": "execute_result"
    }
   ],
   "source": [
    "def format_topics_sentences(ldamodel=optimal_model, corpus=corpus, texts=data):\n",
    "    # Create DataFrame\n",
    "    sent_topics_df = pd.DataFrame()\n",
    "\n",
    "    # Get dominant topic in each document\n",
    "    for i, row in enumerate(ldamodel[corpus]):                   # call the optimal_model from LdaMallet (ldamodel=optimal_model)\n",
    "        row = sorted(row, key=lambda x: (x[1]), reverse=True)    # sort the dominant topic for each document (use row[0] for windows)\n",
    "        \n",
    "        \n",
    "        # Get the Dominant topic, Perc Contribution and Keywords for each document\n",
    "        for j, (topic_num, prop_topic) in enumerate(row):\n",
    "            if j == 0:                                           # dominant topic\n",
    "                wp = ldamodel.show_topic(topic_num)              # show the dominant topic column (topic_num)\n",
    "                topic_keywords = \", \".join([word for word, prop in wp])   # add keywords column to each dominant topic column\n",
    "                sent_topics_df = sent_topics_df.append(pd.Series([int(topic_num), round(prop_topic,4), topic_keywords]), ignore_index=True)\n",
    "                # add to dataframe columns: dominant topic (topic_num), perc_contribution (prop_topic (4 decimal)),\n",
    "                # and keywords (topic_keywords)\n",
    "            else:\n",
    "                break\n",
    "    sent_topics_df.columns = ['Dominant_Topic', 'Perc_Contribution', 'Topic_Keywords'] # create dataframe title\n",
    "    # Essentially, we sort the dominant topic for each document,\n",
    "    # Then we add keywords column to each dominant topic column for each document, and append it to our sent_topics_df dataframe\n",
    "    # (dataframe now include: dominant topic (topic_num), perc_contribution (prop_topic (4 decimal)), and keywords (topic_keywords))\n",
    "    # Note that prop_topic is perc_contribution from output of keywords and their respective weights (ie. 'window', 0.0235866)\n",
    "    # Finally name the dataframe columns for topic_num, prop_topic, topic_keywords to Dominant_topic, Perc_Contribution and Topic_Keywords\n",
    "    \n",
    "        \n",
    "    # Add original text to the end of the output (recall that texts = data_lemmatized)\n",
    "    contents = pd.Series(texts)\n",
    "    sent_topics_df = pd.concat([sent_topics_df, contents], axis=1)\n",
    "    return(sent_topics_df)\n",
    "    # we take out sent_topics_df dataframe that is configured, and add our texts to it\n",
    "\n",
    "    \n",
    "df_topic_sents_keywords = format_topics_sentences(ldamodel=optimal_model, corpus=corpus, texts=data)\n",
    "# texts=data since that is what we assigned in the format_topics_sentences function, but in the function we already\n",
    "# called and added our data (texts=data_lemmatized) to the dataframe, which is why now we use texts=data default parameter\n",
    "\n",
    "\n",
    "# Format\n",
    "df_dominant_topic = df_topic_sents_keywords.reset_index()       # re-index\n",
    "df_dominant_topic.columns = ['Document_No', 'Dominant_Topic', 'Topic_Perc_Contrib', 'Keywords', 'Document']\n",
    "# name all the columns for the DataFrame\n",
    "\n",
    "# Show\n",
    "df_dominant_topic.head(10)"
   ]
  },
  {
   "cell_type": "markdown",
   "metadata": {
    "heading_collapsed": true,
    "hidden": true
   },
   "source": [
    "### Finding documents for each topic"
   ]
  },
  {
   "cell_type": "code",
   "execution_count": 136,
   "metadata": {
    "hidden": true
   },
   "outputs": [
    {
     "data": {
      "text/html": [
       "<div>\n",
       "<style scoped>\n",
       "    .dataframe tbody tr th:only-of-type {\n",
       "        vertical-align: middle;\n",
       "    }\n",
       "\n",
       "    .dataframe tbody tr th {\n",
       "        vertical-align: top;\n",
       "    }\n",
       "\n",
       "    .dataframe thead th {\n",
       "        text-align: right;\n",
       "    }\n",
       "</style>\n",
       "<table border=\"1\" class=\"dataframe\">\n",
       "  <thead>\n",
       "    <tr style=\"text-align: right;\">\n",
       "      <th></th>\n",
       "      <th>Topic_Num</th>\n",
       "      <th>Topic_Perc_Contrib</th>\n",
       "      <th>Keywords</th>\n",
       "      <th>Document</th>\n",
       "    </tr>\n",
       "  </thead>\n",
       "  <tbody>\n",
       "    <tr>\n",
       "      <th>0</th>\n",
       "      <td>0.0</td>\n",
       "      <td>0.0656</td>\n",
       "      <td>work, make, associate, experience, start, tech...</td>\n",
       "      <td>Work on many impactful products</td>\n",
       "    </tr>\n",
       "    <tr>\n",
       "      <th>1</th>\n",
       "      <td>1.0</td>\n",
       "      <td>0.0733</td>\n",
       "      <td>manager, team, student, desk, growth, app, lon...</td>\n",
       "      <td>Team Manager</td>\n",
       "    </tr>\n",
       "    <tr>\n",
       "      <th>2</th>\n",
       "      <td>2.0</td>\n",
       "      <td>0.1018</td>\n",
       "      <td>business, store, medical, review, outstanding,...</td>\n",
       "      <td>Outstanding People Outstanding Place Outstandi...</td>\n",
       "    </tr>\n",
       "    <tr>\n",
       "      <th>3</th>\n",
       "      <td>3.0</td>\n",
       "      <td>0.0612</td>\n",
       "      <td>great, head, worldclass, grass, politic, scien...</td>\n",
       "      <td>Great company with an awful medical insurer</td>\n",
       "    </tr>\n",
       "    <tr>\n",
       "      <th>4</th>\n",
       "      <td>4.0</td>\n",
       "      <td>0.0701</td>\n",
       "      <td>company, benefit, excellent, management, alot,...</td>\n",
       "      <td>Excellent benefits Encourages growth Crazyfast...</td>\n",
       "    </tr>\n",
       "    <tr>\n",
       "      <th>5</th>\n",
       "      <td>5.0</td>\n",
       "      <td>0.0850</td>\n",
       "      <td>company, love, reward, rewarding, success, enj...</td>\n",
       "      <td>If you love Microsoft in the s youll love Appl...</td>\n",
       "    </tr>\n",
       "    <tr>\n",
       "      <th>6</th>\n",
       "      <td>6.0</td>\n",
       "      <td>0.0740</td>\n",
       "      <td>apple, great, environment, applecare, garbage,...</td>\n",
       "      <td>unless you work  hours a day you have no chanc...</td>\n",
       "    </tr>\n",
       "    <tr>\n",
       "      <th>7</th>\n",
       "      <td>7.0</td>\n",
       "      <td>0.0754</td>\n",
       "      <td>engineer, software, insurer, design, engineeri...</td>\n",
       "      <td>Software Engineer V</td>\n",
       "    </tr>\n",
       "    <tr>\n",
       "      <th>8</th>\n",
       "      <td>8.0</td>\n",
       "      <td>0.0871</td>\n",
       "      <td>apple, family, hour, store, aslp, money, green...</td>\n",
       "      <td>Apple pros plus cons addition</td>\n",
       "    </tr>\n",
       "    <tr>\n",
       "      <th>9</th>\n",
       "      <td>9.0</td>\n",
       "      <td>0.0635</td>\n",
       "      <td>specialist, dispatch, sycophant, lucky, remote...</td>\n",
       "      <td>Red Zone Specialist</td>\n",
       "    </tr>\n",
       "    <tr>\n",
       "      <th>10</th>\n",
       "      <td>10.0</td>\n",
       "      <td>0.0614</td>\n",
       "      <td>good, job, technical, review, flexible, poor, ...</td>\n",
       "      <td>Its a good college job</td>\n",
       "    </tr>\n",
       "    <tr>\n",
       "      <th>11</th>\n",
       "      <td>11.0</td>\n",
       "      <td>0.0891</td>\n",
       "      <td>job, experience, career, technical, stressful,...</td>\n",
       "      <td>I love my job but its just a job not a career</td>\n",
       "    </tr>\n",
       "    <tr>\n",
       "      <th>12</th>\n",
       "      <td>12.0</td>\n",
       "      <td>0.0733</td>\n",
       "      <td>work, genius, people, mac, environment, review...</td>\n",
       "      <td>Good Benefits Taxing work environment</td>\n",
       "    </tr>\n",
       "    <tr>\n",
       "      <th>13</th>\n",
       "      <td>13.0</td>\n",
       "      <td>0.0562</td>\n",
       "      <td>awesome, specialist, review, program, evil, in...</td>\n",
       "      <td>app review</td>\n",
       "    </tr>\n",
       "    <tr>\n",
       "      <th>14</th>\n",
       "      <td>14.0</td>\n",
       "      <td>0.0720</td>\n",
       "      <td>amazing, great, customer, home, specialist, co...</td>\n",
       "      <td>Very hard to advance amazing company amazing b...</td>\n",
       "    </tr>\n",
       "    <tr>\n",
       "      <th>15</th>\n",
       "      <td>15.0</td>\n",
       "      <td>0.0719</td>\n",
       "      <td>place, challenge, dream, genius, device, stepp...</td>\n",
       "      <td>Challenging and fulfilling work</td>\n",
       "    </tr>\n",
       "    <tr>\n",
       "      <th>16</th>\n",
       "      <td>16.0</td>\n",
       "      <td>0.0708</td>\n",
       "      <td>senior, college, part, expert, gain, terrible,...</td>\n",
       "      <td>Technical Expert best college part time job</td>\n",
       "    </tr>\n",
       "    <tr>\n",
       "      <th>17</th>\n",
       "      <td>17.0</td>\n",
       "      <td>0.0673</td>\n",
       "      <td>technical, time, analyst, bad, average, sqa, d...</td>\n",
       "      <td>Apple Technical Specialist part time</td>\n",
       "    </tr>\n",
       "    <tr>\n",
       "      <th>18</th>\n",
       "      <td>18.0</td>\n",
       "      <td>0.0719</td>\n",
       "      <td>specialist, room, pretty, business, hard, pace...</td>\n",
       "      <td>Family Room Specialist</td>\n",
       "    </tr>\n",
       "    <tr>\n",
       "      <th>19</th>\n",
       "      <td>19.0</td>\n",
       "      <td>0.0635</td>\n",
       "      <td>product, genius, apple, bad, satisfy, advance,...</td>\n",
       "      <td>Specialist in product zone</td>\n",
       "    </tr>\n",
       "    <tr>\n",
       "      <th>20</th>\n",
       "      <td>20.0</td>\n",
       "      <td>0.0782</td>\n",
       "      <td>advisor, home, college, great, applecare, empl...</td>\n",
       "      <td>AppleCare At Home Advisor</td>\n",
       "    </tr>\n",
       "    <tr>\n",
       "      <th>21</th>\n",
       "      <td>21.0</td>\n",
       "      <td>0.0632</td>\n",
       "      <td>great, operation, ios, wwdr, avoid, advance, c...</td>\n",
       "      <td>A company that values its people and always li...</td>\n",
       "    </tr>\n",
       "    <tr>\n",
       "      <th>22</th>\n",
       "      <td>22.0</td>\n",
       "      <td>0.0768</td>\n",
       "      <td>support, tech, home, advisor, year, perfect, h...</td>\n",
       "      <td>At Home mobile tech support</td>\n",
       "    </tr>\n",
       "    <tr>\n",
       "      <th>23</th>\n",
       "      <td>23.0</td>\n",
       "      <td>0.0562</td>\n",
       "      <td>good, fun, manager, worklife, retail, cooperat...</td>\n",
       "      <td>Sad managers</td>\n",
       "    </tr>\n",
       "    <tr>\n",
       "      <th>24</th>\n",
       "      <td>24.0</td>\n",
       "      <td>0.0810</td>\n",
       "      <td>retail, opportunity, salary, relationship, sta...</td>\n",
       "      <td>Great Company to Work For But Lack Opportuniti...</td>\n",
       "    </tr>\n",
       "    <tr>\n",
       "      <th>25</th>\n",
       "      <td>25.0</td>\n",
       "      <td>0.0626</td>\n",
       "      <td>culture, expert, sale, good, cool, remote, lov...</td>\n",
       "      <td>Good culture</td>\n",
       "    </tr>\n",
       "  </tbody>\n",
       "</table>\n",
       "</div>"
      ],
      "text/plain": [
       "    Topic_Num  Topic_Perc_Contrib  \\\n",
       "0         0.0              0.0656   \n",
       "1         1.0              0.0733   \n",
       "2         2.0              0.1018   \n",
       "3         3.0              0.0612   \n",
       "4         4.0              0.0701   \n",
       "5         5.0              0.0850   \n",
       "6         6.0              0.0740   \n",
       "7         7.0              0.0754   \n",
       "8         8.0              0.0871   \n",
       "9         9.0              0.0635   \n",
       "10       10.0              0.0614   \n",
       "11       11.0              0.0891   \n",
       "12       12.0              0.0733   \n",
       "13       13.0              0.0562   \n",
       "14       14.0              0.0720   \n",
       "15       15.0              0.0719   \n",
       "16       16.0              0.0708   \n",
       "17       17.0              0.0673   \n",
       "18       18.0              0.0719   \n",
       "19       19.0              0.0635   \n",
       "20       20.0              0.0782   \n",
       "21       21.0              0.0632   \n",
       "22       22.0              0.0768   \n",
       "23       23.0              0.0562   \n",
       "24       24.0              0.0810   \n",
       "25       25.0              0.0626   \n",
       "\n",
       "                                             Keywords  \\\n",
       "0   work, make, associate, experience, start, tech...   \n",
       "1   manager, team, student, desk, growth, app, lon...   \n",
       "2   business, store, medical, review, outstanding,...   \n",
       "3   great, head, worldclass, grass, politic, scien...   \n",
       "4   company, benefit, excellent, management, alot,...   \n",
       "5   company, love, reward, rewarding, success, enj...   \n",
       "6   apple, great, environment, applecare, garbage,...   \n",
       "7   engineer, software, insurer, design, engineeri...   \n",
       "8   apple, family, hour, store, aslp, money, green...   \n",
       "9   specialist, dispatch, sycophant, lucky, remote...   \n",
       "10  good, job, technical, review, flexible, poor, ...   \n",
       "11  job, experience, career, technical, stressful,...   \n",
       "12  work, genius, people, mac, environment, review...   \n",
       "13  awesome, specialist, review, program, evil, in...   \n",
       "14  amazing, great, customer, home, specialist, co...   \n",
       "15  place, challenge, dream, genius, device, stepp...   \n",
       "16  senior, college, part, expert, gain, terrible,...   \n",
       "17  technical, time, analyst, bad, average, sqa, d...   \n",
       "18  specialist, room, pretty, business, hard, pace...   \n",
       "19  product, genius, apple, bad, satisfy, advance,...   \n",
       "20  advisor, home, college, great, applecare, empl...   \n",
       "21  great, operation, ios, wwdr, avoid, advance, c...   \n",
       "22  support, tech, home, advisor, year, perfect, h...   \n",
       "23  good, fun, manager, worklife, retail, cooperat...   \n",
       "24  retail, opportunity, salary, relationship, sta...   \n",
       "25  culture, expert, sale, good, cool, remote, lov...   \n",
       "\n",
       "                                             Document  \n",
       "0                     Work on many impactful products  \n",
       "1                                        Team Manager  \n",
       "2   Outstanding People Outstanding Place Outstandi...  \n",
       "3         Great company with an awful medical insurer  \n",
       "4   Excellent benefits Encourages growth Crazyfast...  \n",
       "5   If you love Microsoft in the s youll love Appl...  \n",
       "6   unless you work  hours a day you have no chanc...  \n",
       "7                                 Software Engineer V  \n",
       "8                       Apple pros plus cons addition  \n",
       "9                                 Red Zone Specialist  \n",
       "10                             Its a good college job  \n",
       "11      I love my job but its just a job not a career  \n",
       "12              Good Benefits Taxing work environment  \n",
       "13                                         app review  \n",
       "14  Very hard to advance amazing company amazing b...  \n",
       "15                    Challenging and fulfilling work  \n",
       "16        Technical Expert best college part time job  \n",
       "17               Apple Technical Specialist part time  \n",
       "18                             Family Room Specialist  \n",
       "19                         Specialist in product zone  \n",
       "20                          AppleCare At Home Advisor  \n",
       "21  A company that values its people and always li...  \n",
       "22                        At Home mobile tech support  \n",
       "23                                       Sad managers  \n",
       "24  Great Company to Work For But Lack Opportuniti...  \n",
       "25                                       Good culture  "
      ]
     },
     "execution_count": 136,
     "metadata": {},
     "output_type": "execute_result"
    }
   ],
   "source": [
    "# Group top 26 documents for the 26 dominant topic\n",
    "sent_topics_sorteddf_mallet = pd.DataFrame() # Create a new DataFrame for our analysis\n",
    "\n",
    "sent_topics_outdf_grpd = df_topic_sents_keywords.groupby('Dominant_Topic') \n",
    "# Groupyby dominant topics in df_topic_sents_keywords from above (where we derived the DataFrame showing dominant topic for each document)\n",
    "\n",
    "for i, grp in sent_topics_outdf_grpd:\n",
    "    sent_topics_sorteddf_mallet = pd.concat([sent_topics_sorteddf_mallet, grp.sort_values(['Perc_Contribution'], ascending=[0]).head(1)], axis=0)\n",
    "# Take sent_topics_sorteddf_mallet DataFrame and combine it with,\n",
    "# the most (head(1)) dominant topic in sent_topcs_outdf_grpd (grp) sort by perc_contribution\n",
    "# Essentially, we take our dataset with dominant topics and group it with texts that has the most contribution for each dominant topic\n",
    "\n",
    "# Reset Index    \n",
    "sent_topics_sorteddf_mallet.reset_index(drop=True, inplace=True)\n",
    "\n",
    "# Format\n",
    "sent_topics_sorteddf_mallet.columns = ['Topic_Num', \"Topic_Perc_Contrib\", \"Keywords\", \"Document\"]\n",
    "\n",
    "# Show the top 26 documents for the 26 dominant topic\n",
    "sent_topics_sorteddf_mallet "
   ]
  },
  {
   "cell_type": "markdown",
   "metadata": {
    "heading_collapsed": true,
    "hidden": true
   },
   "source": [
    "### Document distribution across Topics"
   ]
  },
  {
   "cell_type": "code",
   "execution_count": 137,
   "metadata": {
    "hidden": true
   },
   "outputs": [
    {
     "data": {
      "text/html": [
       "<div>\n",
       "<style scoped>\n",
       "    .dataframe tbody tr th:only-of-type {\n",
       "        vertical-align: middle;\n",
       "    }\n",
       "\n",
       "    .dataframe tbody tr th {\n",
       "        vertical-align: top;\n",
       "    }\n",
       "\n",
       "    .dataframe thead th {\n",
       "        text-align: right;\n",
       "    }\n",
       "</style>\n",
       "<table border=\"1\" class=\"dataframe\">\n",
       "  <thead>\n",
       "    <tr style=\"text-align: right;\">\n",
       "      <th></th>\n",
       "      <th>Dominant Topic</th>\n",
       "      <th>Num_Document</th>\n",
       "      <th>Perc_Document</th>\n",
       "    </tr>\n",
       "  </thead>\n",
       "  <tbody>\n",
       "    <tr>\n",
       "      <th>0</th>\n",
       "      <td>0.0</td>\n",
       "      <td>30</td>\n",
       "      <td>0.060</td>\n",
       "    </tr>\n",
       "    <tr>\n",
       "      <th>1</th>\n",
       "      <td>1.0</td>\n",
       "      <td>15</td>\n",
       "      <td>0.030</td>\n",
       "    </tr>\n",
       "    <tr>\n",
       "      <th>2</th>\n",
       "      <td>2.0</td>\n",
       "      <td>15</td>\n",
       "      <td>0.030</td>\n",
       "    </tr>\n",
       "    <tr>\n",
       "      <th>3</th>\n",
       "      <td>3.0</td>\n",
       "      <td>19</td>\n",
       "      <td>0.038</td>\n",
       "    </tr>\n",
       "    <tr>\n",
       "      <th>4</th>\n",
       "      <td>4.0</td>\n",
       "      <td>21</td>\n",
       "      <td>0.042</td>\n",
       "    </tr>\n",
       "    <tr>\n",
       "      <th>5</th>\n",
       "      <td>5.0</td>\n",
       "      <td>21</td>\n",
       "      <td>0.042</td>\n",
       "    </tr>\n",
       "    <tr>\n",
       "      <th>6</th>\n",
       "      <td>6.0</td>\n",
       "      <td>15</td>\n",
       "      <td>0.030</td>\n",
       "    </tr>\n",
       "    <tr>\n",
       "      <th>7</th>\n",
       "      <td>7.0</td>\n",
       "      <td>20</td>\n",
       "      <td>0.040</td>\n",
       "    </tr>\n",
       "    <tr>\n",
       "      <th>8</th>\n",
       "      <td>8.0</td>\n",
       "      <td>18</td>\n",
       "      <td>0.036</td>\n",
       "    </tr>\n",
       "    <tr>\n",
       "      <th>9</th>\n",
       "      <td>9.0</td>\n",
       "      <td>29</td>\n",
       "      <td>0.058</td>\n",
       "    </tr>\n",
       "    <tr>\n",
       "      <th>10</th>\n",
       "      <td>10.0</td>\n",
       "      <td>16</td>\n",
       "      <td>0.032</td>\n",
       "    </tr>\n",
       "    <tr>\n",
       "      <th>11</th>\n",
       "      <td>11.0</td>\n",
       "      <td>18</td>\n",
       "      <td>0.036</td>\n",
       "    </tr>\n",
       "    <tr>\n",
       "      <th>12</th>\n",
       "      <td>12.0</td>\n",
       "      <td>17</td>\n",
       "      <td>0.034</td>\n",
       "    </tr>\n",
       "    <tr>\n",
       "      <th>13</th>\n",
       "      <td>13.0</td>\n",
       "      <td>18</td>\n",
       "      <td>0.036</td>\n",
       "    </tr>\n",
       "    <tr>\n",
       "      <th>14</th>\n",
       "      <td>14.0</td>\n",
       "      <td>16</td>\n",
       "      <td>0.032</td>\n",
       "    </tr>\n",
       "    <tr>\n",
       "      <th>15</th>\n",
       "      <td>15.0</td>\n",
       "      <td>28</td>\n",
       "      <td>0.056</td>\n",
       "    </tr>\n",
       "    <tr>\n",
       "      <th>16</th>\n",
       "      <td>16.0</td>\n",
       "      <td>15</td>\n",
       "      <td>0.030</td>\n",
       "    </tr>\n",
       "    <tr>\n",
       "      <th>17</th>\n",
       "      <td>17.0</td>\n",
       "      <td>25</td>\n",
       "      <td>0.050</td>\n",
       "    </tr>\n",
       "    <tr>\n",
       "      <th>18</th>\n",
       "      <td>18.0</td>\n",
       "      <td>14</td>\n",
       "      <td>0.028</td>\n",
       "    </tr>\n",
       "    <tr>\n",
       "      <th>19</th>\n",
       "      <td>19.0</td>\n",
       "      <td>19</td>\n",
       "      <td>0.038</td>\n",
       "    </tr>\n",
       "    <tr>\n",
       "      <th>20</th>\n",
       "      <td>20.0</td>\n",
       "      <td>24</td>\n",
       "      <td>0.048</td>\n",
       "    </tr>\n",
       "    <tr>\n",
       "      <th>21</th>\n",
       "      <td>21.0</td>\n",
       "      <td>7</td>\n",
       "      <td>0.014</td>\n",
       "    </tr>\n",
       "    <tr>\n",
       "      <th>22</th>\n",
       "      <td>22.0</td>\n",
       "      <td>23</td>\n",
       "      <td>0.046</td>\n",
       "    </tr>\n",
       "    <tr>\n",
       "      <th>23</th>\n",
       "      <td>23.0</td>\n",
       "      <td>6</td>\n",
       "      <td>0.012</td>\n",
       "    </tr>\n",
       "    <tr>\n",
       "      <th>24</th>\n",
       "      <td>24.0</td>\n",
       "      <td>25</td>\n",
       "      <td>0.050</td>\n",
       "    </tr>\n",
       "    <tr>\n",
       "      <th>25</th>\n",
       "      <td>25.0</td>\n",
       "      <td>26</td>\n",
       "      <td>0.052</td>\n",
       "    </tr>\n",
       "  </tbody>\n",
       "</table>\n",
       "</div>"
      ],
      "text/plain": [
       "    Dominant Topic  Num_Document  Perc_Document\n",
       "0              0.0            30          0.060\n",
       "1              1.0            15          0.030\n",
       "2              2.0            15          0.030\n",
       "3              3.0            19          0.038\n",
       "4              4.0            21          0.042\n",
       "5              5.0            21          0.042\n",
       "6              6.0            15          0.030\n",
       "7              7.0            20          0.040\n",
       "8              8.0            18          0.036\n",
       "9              9.0            29          0.058\n",
       "10            10.0            16          0.032\n",
       "11            11.0            18          0.036\n",
       "12            12.0            17          0.034\n",
       "13            13.0            18          0.036\n",
       "14            14.0            16          0.032\n",
       "15            15.0            28          0.056\n",
       "16            16.0            15          0.030\n",
       "17            17.0            25          0.050\n",
       "18            18.0            14          0.028\n",
       "19            19.0            19          0.038\n",
       "20            20.0            24          0.048\n",
       "21            21.0             7          0.014\n",
       "22            22.0            23          0.046\n",
       "23            23.0             6          0.012\n",
       "24            24.0            25          0.050\n",
       "25            25.0            26          0.052"
      ]
     },
     "execution_count": 137,
     "metadata": {},
     "output_type": "execute_result"
    }
   ],
   "source": [
    "# Number of Documents for Each Topic\n",
    "topic_counts = df_topic_sents_keywords['Dominant_Topic'].value_counts()\n",
    "\n",
    "# Percentage of overall Documents for Each Topic (round to 4 decimals)\n",
    "topic_contribution = round(topic_counts/topic_counts.sum(), 4)\n",
    "\n",
    "# Total Dominant Topic Number\n",
    "topic_num_keywords = {'Topic_Num': pd.Series([0.0,1.0,2.0,3.0,4.0,5.0,6.0,7.0,8.0,9.0,10.0,\n",
    "                                              11.0,12.0,13.0,14.0,15.0,16.0,17.0,18.0,19.0,\n",
    "                                              20.0,21.0,22.0,23.0,24.0,25.0])}\n",
    "topic_num_keywords = pd.DataFrame(topic_num_keywords)\n",
    "                      \n",
    "# Concatenate Column wise\n",
    "df_dominant_topics = pd.concat([topic_num_keywords, topic_counts, topic_contribution], axis=1)\n",
    "\n",
    "# Reindex\n",
    "df_dominant_topics.reset_index(drop=True, inplace=True)\n",
    "\n",
    "# Change Column names\n",
    "df_dominant_topics.columns = ['Dominant Topic', 'Num_Document', 'Perc_Document']\n",
    "\n",
    "# Show\n",
    "df_dominant_topics"
   ]
  },
  {
   "cell_type": "markdown",
   "metadata": {
    "heading_collapsed": true,
    "hidden": true
   },
   "source": [
    "## Answering the Questions"
   ]
  },
  {
   "cell_type": "markdown",
   "metadata": {
    "heading_collapsed": true
   },
   "source": [
    "# Topics Analysis for Microsoft"
   ]
  },
  {
   "cell_type": "code",
   "execution_count": 138,
   "metadata": {
    "hidden": true
   },
   "outputs": [],
   "source": [
    "# Filters to Microsoft only\n",
    "dfm = df[df['company'] == 'microsoft']"
   ]
  },
  {
   "cell_type": "code",
   "execution_count": 139,
   "metadata": {
    "hidden": true,
    "scrolled": true
   },
   "outputs": [
    {
     "data": {
      "text/plain": [
       "(17930, 1)"
      ]
     },
     "execution_count": 139,
     "metadata": {},
     "output_type": "execute_result"
    }
   ],
   "source": [
    "# Filters the data to the column needed for topic modeling\n",
    "dfm = dfm[['summary']]\n",
    "dfm.shape"
   ]
  },
  {
   "cell_type": "markdown",
   "metadata": {
    "hidden": true
   },
   "source": [
    "17,930 dataset with 1 type"
   ]
  },
  {
   "cell_type": "code",
   "execution_count": 140,
   "metadata": {
    "hidden": true
   },
   "outputs": [],
   "source": [
    "dfm = dfm.head(500)"
   ]
  },
  {
   "cell_type": "markdown",
   "metadata": {
    "heading_collapsed": true,
    "hidden": true
   },
   "source": [
    "## Data Cleansing"
   ]
  },
  {
   "cell_type": "code",
   "execution_count": 141,
   "metadata": {
    "hidden": true
   },
   "outputs": [],
   "source": [
    "data = dfm['summary'].values.tolist() # convert to list\n",
    "\n",
    "import re\n",
    "data = [re.sub(r'[^a-zA-Z ]+', '', str(sent)) for sent in data] # removes everything except letters and space, str(sent) converts to string"
   ]
  },
  {
   "cell_type": "code",
   "execution_count": 142,
   "metadata": {
    "hidden": true
   },
   "outputs": [
    {
     "name": "stdout",
     "output_type": "stream",
     "text": [
      "['Microsoft']\n"
     ]
    }
   ],
   "source": [
    "from pprint import pprint\n",
    "pprint(data[:1])"
   ]
  },
  {
   "cell_type": "markdown",
   "metadata": {
    "heading_collapsed": true,
    "hidden": true
   },
   "source": [
    "## Pre-Processing"
   ]
  },
  {
   "cell_type": "markdown",
   "metadata": {
    "heading_collapsed": true,
    "hidden": true
   },
   "source": [
    "### Tokenization and Additional Cleansing"
   ]
  },
  {
   "cell_type": "code",
   "execution_count": 143,
   "metadata": {
    "hidden": true,
    "scrolled": true
   },
   "outputs": [
    {
     "name": "stdout",
     "output_type": "stream",
     "text": [
      "[['microsoft']]\n"
     ]
    }
   ],
   "source": [
    "import gensim\n",
    "from gensim.utils import simple_preprocess \n",
    "def sent_to_words(sentences):\n",
    "    for sentence in sentences:\n",
    "        yield(gensim.utils.simple_preprocess(str(sentence), deacc=True)) \n",
    "        # deacc=True removes punctuations\n",
    "        # simple_preprocess to tokenize, and clean up messy text (converts to lowercase and removes punctuations)\n",
    "        \n",
    "data_words = list(sent_to_words(data))\n",
    "\n",
    "print(data_words[:1])   "
   ]
  },
  {
   "cell_type": "markdown",
   "metadata": {
    "heading_collapsed": true,
    "hidden": true
   },
   "source": [
    "### Remove Stopwords"
   ]
  },
  {
   "cell_type": "code",
   "execution_count": 144,
   "metadata": {
    "hidden": true
   },
   "outputs": [],
   "source": [
    "from nltk.corpus import stopwords\n",
    "stop_words = stopwords.words('english')\n",
    "stop_words.extend(['from', 'subject', 're', 'edu', 'use']) # add additional stop words\n",
    "\n",
    "# Define functions for stopwords, bigram, trigram and lemmatization\n",
    "def remove_stopwords(texts):\n",
    "    return [[word for word in simple_preprocess(str(doc)) if word not in stop_words] for doc in texts]\n",
    "    # clean out words using simple_preprocess (gensim) if the words are not already in stop_words (stop_words from NLTK)\n",
    "    \n",
    "# Remove Stop Words from simple_preprocess\n",
    "data_words_nostops = remove_stopwords(data_words)"
   ]
  },
  {
   "cell_type": "markdown",
   "metadata": {
    "heading_collapsed": true,
    "hidden": true
   },
   "source": [
    "### Create and Apply Trigrams"
   ]
  },
  {
   "cell_type": "code",
   "execution_count": 145,
   "metadata": {
    "hidden": true
   },
   "outputs": [],
   "source": [
    "# Build the bigram and trigram models\n",
    "bigram = gensim.models.Phrases(data_words, min_count=5, threshold=100) # higher threshold fewer phrases\n",
    "trigram = gensim.models.Phrases(bigram[data_words], threshold=100)\n",
    "# min_count is minimum 5 letters\n",
    "# threshold is 100 threshold in each word before accepting another word\n",
    "\n",
    "# Faster way to get a sentence clubbed as a trigram/bigram\n",
    "bigram_mod = gensim.models.phrases.Phraser(bigram)\n",
    "trigram_mod = gensim.models.phrases.Phraser(trigram)\n",
    "\n",
    "def make_trigram(texts):\n",
    "    return [trigram_mod[bigram_mod[doc]] for doc in texts]\n",
    "\n",
    "# Form Trigrams from Gensim.models.phrases\n",
    "data_words_trigrams = make_trigram(data_words_nostops)"
   ]
  },
  {
   "cell_type": "markdown",
   "metadata": {
    "heading_collapsed": true,
    "hidden": true
   },
   "source": [
    "### Lemmatize"
   ]
  },
  {
   "cell_type": "code",
   "execution_count": 146,
   "metadata": {
    "hidden": true
   },
   "outputs": [
    {
     "name": "stdout",
     "output_type": "stream",
     "text": [
      "[['microsoft']]\n"
     ]
    }
   ],
   "source": [
    "def lemmatization(texts, allowed_postags=['NOUN', 'ADJ', 'VERB', 'ADV']): # http://spacy.io/api/annotation\n",
    "    texts_out = [] # creates a list\n",
    "    for sent in texts:\n",
    "        doc = nlp(\" \".join(sent)) # adds English dictionary from Spacy to the texts by instantiating doc\n",
    "        texts_out.append([token.lemma_ for token in doc if token.pos_ in allowed_postags])\n",
    "# adds doc to texts_out list for all base token in doc, if these added doc are from a loose part of the speech in allowed_postags\n",
    "# in other words, every (base) word that comes in will be added to the list, if these (loose) words are a NOUN, ADJ, VERB, or ADV\n",
    "# lemma_ is base form of token and pos_ is lose parts of the speech\n",
    "    return texts_out\n",
    "\n",
    "# texts -> doc -> token\n",
    "# texts -> sent -> doc -> token\n",
    "\n",
    "# Initialize spacy 'en' model, keeping only tagger components (for efficieny)\n",
    "# python -m spacy download en\n",
    "import spacy\n",
    "nlp = spacy.load('en', disable=['parser', 'ner'])\n",
    "\n",
    "# Do lemmatization keeping only noun, adj, vb, adv\n",
    "data_lemmatized = lemmatization(data_words_trigrams, allowed_postags=['NOUN', 'ADJ', 'VERB', 'ADV'])\n",
    "\n",
    "print(data_lemmatized[:1])"
   ]
  },
  {
   "cell_type": "markdown",
   "metadata": {
    "heading_collapsed": true,
    "hidden": true
   },
   "source": [
    "## Prepare Dictionary and Corpus"
   ]
  },
  {
   "cell_type": "code",
   "execution_count": 147,
   "metadata": {
    "hidden": true
   },
   "outputs": [
    {
     "name": "stdout",
     "output_type": "stream",
     "text": [
      "[[(0, 1)]]\n"
     ]
    }
   ],
   "source": [
    "import gensim.corpora as corpora # dictionary\n",
    "\n",
    "# Create dictionary\n",
    "id2word = corpora.Dictionary(data_lemmatized)\n",
    "\n",
    "# Create corpus\n",
    "texts = data_lemmatized\n",
    "\n",
    "# Term document frequency\n",
    "corpus = [id2word.doc2bow(text) for text in texts]\n",
    "\n",
    "# View\n",
    "print(corpus[:1])"
   ]
  },
  {
   "cell_type": "code",
   "execution_count": 148,
   "metadata": {
    "hidden": true
   },
   "outputs": [
    {
     "data": {
      "text/plain": [
       "'microsoft'"
      ]
     },
     "execution_count": 148,
     "metadata": {},
     "output_type": "execute_result"
    }
   ],
   "source": [
    "id2word[0]"
   ]
  },
  {
   "cell_type": "code",
   "execution_count": 149,
   "metadata": {
    "hidden": true
   },
   "outputs": [
    {
     "data": {
      "text/plain": [
       "[[('microsoft', 1)]]"
      ]
     },
     "execution_count": 149,
     "metadata": {},
     "output_type": "execute_result"
    }
   ],
   "source": [
    "# Human readable format of corpus (term-frequency) for the first item\n",
    "[[(id2word[id], freq) for id, freq in cp] for cp in corpus[:1]]"
   ]
  },
  {
   "cell_type": "markdown",
   "metadata": {
    "heading_collapsed": true,
    "hidden": true
   },
   "source": [
    "## LDA Model"
   ]
  },
  {
   "cell_type": "code",
   "execution_count": 150,
   "metadata": {
    "hidden": true
   },
   "outputs": [
    {
     "name": "stdout",
     "output_type": "stream",
     "text": [
      "[(0,\n",
      "  '0.149*\"work\" + 0.149*\"place\" + 0.149*\"great\" + 0.067*\"good\" + '\n",
      "  '0.039*\"benefit\" + 0.022*\"career\" + 0.021*\"overall\" + 0.015*\"worklife\" + '\n",
      "  '0.013*\"consultant\" + 0.013*\"working\"'),\n",
      " (1,\n",
      "  '0.096*\"culture\" + 0.062*\"sale\" + 0.055*\"marketing\" + 0.043*\"excellent\" + '\n",
      "  '0.040*\"team\" + 0.035*\"depend\" + 0.029*\"scientist\" + 0.028*\"solution\" + '\n",
      "  '0.026*\"data\" + 0.025*\"professional\"'),\n",
      " (2,\n",
      "  '0.218*\"company\" + 0.158*\"great\" + 0.083*\"good\" + 0.049*\"work\" + 0.044*\"job\" '\n",
      "  '+ 0.030*\"love\" + 0.017*\"specialist\" + 0.015*\"bad\" + 0.013*\"not\" + '\n",
      "  '0.011*\"support\"'),\n",
      " (3,\n",
      "  '0.074*\"balance\" + 0.070*\"good\" + 0.050*\"work\" + 0.048*\"life\" + '\n",
      "  '0.047*\"experience\" + 0.045*\"amazing\" + 0.031*\"customer\" + 0.028*\"pay\" + '\n",
      "  '0.027*\"tech\" + 0.023*\"opportunity\"'),\n",
      " (4,\n",
      "  '0.215*\"engineer\" + 0.175*\"software\" + 0.055*\"review\" + 0.049*\"advisor\" + '\n",
      "  '0.041*\"product\" + 0.034*\"awesome\" + 0.025*\"solid\" + 0.022*\"title\" + '\n",
      "  '0.020*\"employee\" + 0.017*\"first\"'),\n",
      " (5,\n",
      "  '0.145*\"senior\" + 0.044*\"account\" + 0.036*\"politic\" + 0.034*\"manager\" + '\n",
      "  '0.030*\"engineering\" + 0.029*\"environment\" + 0.026*\"new\" + 0.022*\"swe\" + '\n",
      "  '0.022*\"msft\" + 0.020*\"executive\"'),\n",
      " (6,\n",
      "  '0.175*\"microsoft\" + 0.039*\"sde\" + 0.033*\"development\" + 0.027*\"ms\" + '\n",
      "  '0.027*\"business\" + 0.023*\"assistant\" + 0.019*\"analyst\" + 0.018*\"store\" + '\n",
      "  '0.015*\"mindset\" + 0.015*\"growth\"'),\n",
      " (7,\n",
      "  '0.242*\"manager\" + 0.102*\"program\" + 0.046*\"intern\" + 0.038*\"director\" + '\n",
      "  '0.035*\"technical\" + 0.024*\"finance\" + 0.020*\"management\" + 0.018*\"change\" + '\n",
      "  '0.014*\"pm\" + 0.012*\"wonderful\"')]\n"
     ]
    }
   ],
   "source": [
    "# Build LDA model\n",
    "lda_model = gensim.models.ldamodel.LdaModel(corpus=corpus, id2word=id2word, num_topics = 8, random_state = 100,\n",
    "                                            update_every = 1, chunksize = 100, passes = 10, alpha = 'auto',\n",
    "                                            per_word_topics=True)\n",
    "# (corpus, dictionary, # of topics, random_state, how often the model parameters should be updated, # of document in each training chunk,\n",
    "# total # of training passes, alpha is hyperparameter that affect sparsity of topics)\n",
    "# Here we use 8 topics\n",
    "\n",
    "# Print the keyword the 8 topics\n",
    "pprint(lda_model.print_topics())\n",
    "doc_lda = lda_model[corpus]"
   ]
  },
  {
   "cell_type": "markdown",
   "metadata": {
    "heading_collapsed": true,
    "hidden": true
   },
   "source": [
    "### LDA Model Performance"
   ]
  },
  {
   "cell_type": "code",
   "execution_count": 151,
   "metadata": {
    "hidden": true
   },
   "outputs": [
    {
     "name": "stdout",
     "output_type": "stream",
     "text": [
      "\n",
      "Perplexity:  -5.650555513326819\n",
      "\n",
      "Coherence Score:  0.6443309094987812\n"
     ]
    }
   ],
   "source": [
    "# Compute perplexity\n",
    "print('\\nPerplexity: ', lda_model.log_perplexity(corpus)) # A measure of how good the model is (lower the better)\n",
    "\n",
    "# Compute coherence score\n",
    "from gensim.models import CoherenceModel\n",
    "coherence_model_lda = CoherenceModel(model=lda_model, texts=data_lemmatized, dictionary=id2word, coherence='c_v')\n",
    "coherence_lda = coherence_model_lda.get_coherence()\n",
    "print('\\nCoherence Score: ', coherence_lda) # high the better"
   ]
  },
  {
   "cell_type": "markdown",
   "metadata": {
    "heading_collapsed": true,
    "hidden": true
   },
   "source": [
    "### Visualize LDA Model"
   ]
  },
  {
   "cell_type": "code",
   "execution_count": 152,
   "metadata": {
    "hidden": true
   },
   "outputs": [
    {
     "data": {
      "text/html": [
       "\n",
       "<link rel=\"stylesheet\" type=\"text/css\" href=\"https://cdn.rawgit.com/bmabey/pyLDAvis/files/ldavis.v1.0.0.css\">\n",
       "\n",
       "\n",
       "<div id=\"ldavis_el1410449597314083204539424\"></div>\n",
       "<script type=\"text/javascript\">\n",
       "\n",
       "var ldavis_el1410449597314083204539424_data = {\"mdsDat\": {\"x\": [-0.24940748261035062, -0.2591890166777028, 0.13591515345438301, 0.12244091380318627, 0.11284705396856609, -0.07675143401043973, 0.10012505737795958, 0.11401975469439811], \"y\": [0.000119189081938512, -0.0008520797945367724, -0.19515067479635642, 0.25633092235212585, 0.05056630227514485, -0.009935886011481621, -0.0002468294853025254, -0.1008309436215321], \"topics\": [1, 2, 3, 4, 5, 6, 7, 8], \"cluster\": [1, 1, 1, 1, 1, 1, 1, 1], \"Freq\": [20.919456481933594, 19.645263671875, 12.073819160461426, 11.30605697631836, 9.50649642944336, 9.398113250732422, 9.0037260055542, 8.14706802368164]}, \"tinfo\": {\"Category\": [\"Default\", \"Default\", \"Default\", \"Default\", \"Default\", \"Default\", \"Default\", \"Default\", \"Default\", \"Default\", \"Default\", \"Default\", \"Default\", \"Default\", \"Default\", \"Default\", \"Default\", \"Default\", \"Default\", \"Default\", \"Default\", \"Default\", \"Default\", \"Default\", \"Default\", \"Default\", \"Default\", \"Default\", \"Default\", \"Default\", \"Topic1\", \"Topic1\", \"Topic1\", \"Topic1\", \"Topic1\", \"Topic1\", \"Topic1\", \"Topic1\", \"Topic1\", \"Topic1\", \"Topic1\", \"Topic1\", \"Topic1\", \"Topic1\", \"Topic1\", \"Topic1\", \"Topic1\", \"Topic1\", \"Topic1\", \"Topic1\", \"Topic1\", \"Topic1\", \"Topic1\", \"Topic1\", \"Topic1\", \"Topic1\", \"Topic1\", \"Topic1\", \"Topic1\", \"Topic1\", \"Topic1\", \"Topic1\", \"Topic1\", \"Topic1\", \"Topic2\", \"Topic2\", \"Topic2\", \"Topic2\", \"Topic2\", \"Topic2\", \"Topic2\", \"Topic2\", \"Topic2\", \"Topic2\", \"Topic2\", \"Topic2\", \"Topic2\", \"Topic2\", \"Topic2\", \"Topic2\", \"Topic2\", \"Topic2\", \"Topic2\", \"Topic2\", \"Topic2\", \"Topic2\", \"Topic2\", \"Topic2\", \"Topic2\", \"Topic2\", \"Topic2\", \"Topic2\", \"Topic2\", \"Topic2\", \"Topic2\", \"Topic2\", \"Topic2\", \"Topic3\", \"Topic3\", \"Topic3\", \"Topic3\", \"Topic3\", \"Topic3\", \"Topic3\", \"Topic3\", \"Topic3\", \"Topic3\", \"Topic3\", \"Topic3\", \"Topic3\", \"Topic3\", \"Topic3\", \"Topic3\", \"Topic3\", \"Topic3\", \"Topic3\", \"Topic3\", \"Topic3\", \"Topic3\", \"Topic3\", \"Topic3\", \"Topic3\", \"Topic3\", \"Topic3\", \"Topic3\", \"Topic3\", \"Topic3\", \"Topic3\", \"Topic3\", \"Topic3\", \"Topic3\", \"Topic4\", \"Topic4\", \"Topic4\", \"Topic4\", \"Topic4\", \"Topic4\", \"Topic4\", \"Topic4\", \"Topic4\", \"Topic4\", \"Topic4\", \"Topic4\", \"Topic4\", \"Topic4\", \"Topic4\", \"Topic4\", \"Topic4\", \"Topic4\", \"Topic4\", \"Topic4\", \"Topic4\", \"Topic4\", \"Topic4\", \"Topic4\", \"Topic4\", \"Topic4\", \"Topic4\", \"Topic4\", \"Topic4\", \"Topic4\", \"Topic4\", \"Topic5\", \"Topic5\", \"Topic5\", \"Topic5\", \"Topic5\", \"Topic5\", \"Topic5\", \"Topic5\", \"Topic5\", \"Topic5\", \"Topic5\", \"Topic5\", \"Topic5\", \"Topic5\", \"Topic5\", \"Topic5\", \"Topic5\", \"Topic5\", \"Topic5\", \"Topic5\", \"Topic5\", \"Topic5\", \"Topic5\", \"Topic5\", \"Topic5\", \"Topic5\", \"Topic5\", \"Topic5\", \"Topic5\", \"Topic5\", \"Topic5\", \"Topic5\", \"Topic6\", \"Topic6\", \"Topic6\", \"Topic6\", \"Topic6\", \"Topic6\", \"Topic6\", \"Topic6\", \"Topic6\", \"Topic6\", \"Topic6\", \"Topic6\", \"Topic6\", \"Topic6\", \"Topic6\", \"Topic6\", \"Topic6\", \"Topic6\", \"Topic6\", \"Topic6\", \"Topic6\", \"Topic6\", \"Topic6\", \"Topic6\", \"Topic6\", \"Topic6\", \"Topic6\", \"Topic6\", \"Topic6\", \"Topic6\", \"Topic6\", \"Topic6\", \"Topic7\", \"Topic7\", \"Topic7\", \"Topic7\", \"Topic7\", \"Topic7\", \"Topic7\", \"Topic7\", \"Topic7\", \"Topic7\", \"Topic7\", \"Topic7\", \"Topic7\", \"Topic7\", \"Topic7\", \"Topic7\", \"Topic7\", \"Topic7\", \"Topic7\", \"Topic7\", \"Topic7\", \"Topic7\", \"Topic7\", \"Topic7\", \"Topic7\", \"Topic7\", \"Topic7\", \"Topic7\", \"Topic7\", \"Topic7\", \"Topic7\", \"Topic8\", \"Topic8\", \"Topic8\", \"Topic8\", \"Topic8\", \"Topic8\", \"Topic8\", \"Topic8\", \"Topic8\", \"Topic8\", \"Topic8\", \"Topic8\", \"Topic8\", \"Topic8\", \"Topic8\", \"Topic8\", \"Topic8\", \"Topic8\", \"Topic8\", \"Topic8\", \"Topic8\", \"Topic8\", \"Topic8\", \"Topic8\", \"Topic8\", \"Topic8\", \"Topic8\", \"Topic8\", \"Topic8\", \"Topic8\", \"Topic8\"], \"Freq\": [63.0, 44.0, 86.0, 34.0, 41.0, 28.0, 24.0, 61.0, 17.0, 52.0, 17.0, 13.0, 10.0, 8.0, 9.0, 7.0, 13.0, 8.0, 8.0, 6.0, 11.0, 9.0, 6.0, 6.0, 6.0, 5.0, 7.0, 5.0, 5.0, 6.0, 63.331520080566406, 12.657642364501953, 8.80953598022461, 5.0314202308654785, 4.400835037231445, 3.654266595840454, 3.2266809940338135, 2.746899366378784, 2.7463998794555664, 2.6488733291625977, 2.595608711242676, 2.319553852081299, 1.9649738073349, 1.9464291334152222, 1.6703850030899048, 1.5908637046813965, 1.53781259059906, 1.53781259059906, 1.53781259059906, 1.5377823114395142, 1.5377486944198608, 1.5376272201538086, 1.5376272201538086, 1.5373982191085815, 1.5373982191085815, 1.5373982191085815, 1.5369901657104492, 1.466594934463501, 1.1644527912139893, 1.1644527912139893, 1.1644527912139893, 45.78118133544922, 24.034976959228516, 14.116617202758789, 40.681602478027344, 10.73383617401123, 5.929892063140869, 5.645676612854004, 4.178403377532959, 3.5695133209228516, 3.5182244777679443, 3.3773045539855957, 2.9094419479370117, 2.818168878555298, 2.3857929706573486, 2.385464906692505, 2.1752824783325195, 2.035964012145996, 1.9849690198898315, 1.8432954549789429, 1.8430979251861572, 1.8419214487075806, 1.8259445428848267, 1.8248553276062012, 1.7764718532562256, 1.634692907333374, 1.442697525024414, 1.4424160718917847, 1.4424160718917847, 1.4424160718917847, 1.4423755407333374, 1.4423754215240479, 1.4423754215240479, 1.4422165155410767, 40.71682357788086, 40.49971389770508, 18.405323028564453, 17.126625061035156, 7.7330851554870605, 6.392070770263672, 40.488948822021484, 5.835724830627441, 4.078503608703613, 3.293642997741699, 3.0573649406433105, 2.3869123458862305, 2.043485403060913, 1.9454762935638428, 1.80709969997406, 1.7896690368652344, 1.7892117500305176, 1.4637337923049927, 1.414136528968811, 1.4139928817749023, 1.4139928817749023, 1.4139928817749023, 1.4139928817749023, 1.0707966089248657, 1.022428274154663, 1.0220210552215576, 0.817126452922821, 0.817126452922821, 0.817126452922821, 0.817126452922821, 0.817126452922821, 0.817126452922821, 0.817126452922821, 1.3483654260635376, 0.817126452922821, 0.817126452922821, 0.817126452922821, 33.74302673339844, 27.41254425048828, 8.66838550567627, 7.714093208312988, 5.327581882476807, 3.890690803527832, 3.5181479454040527, 3.146418333053589, 2.6245484352111816, 1.6547664403915405, 1.390444278717041, 1.3898437023162842, 1.3438252210617065, 1.3438042402267456, 1.3438042402267456, 6.463825702667236, 1.2812060117721558, 1.149768352508545, 1.0175632238388062, 0.9715979099273682, 0.7761366963386536, 0.775970458984375, 0.775970458984375, 0.7742952108383179, 0.5983167886734009, 0.4666585624217987, 0.46647733449935913, 0.46647733449935913, 0.46647733449935913, 0.4659852683544159, 0.4659852683544159, 12.66666316986084, 8.150287628173828, 7.197261810302734, 5.654414653778076, 5.217860698699951, 4.571786880493164, 3.7971348762512207, 3.643082857131958, 3.408855676651001, 3.254859447479248, 2.817736864089966, 2.7462613582611084, 2.156785249710083, 2.1564042568206787, 1.785689353942871, 1.4464465379714966, 1.4464465379714966, 1.3974201679229736, 1.3970481157302856, 1.3964409828186035, 1.0581773519515991, 1.0581623315811157, 1.0581045150756836, 1.0578101873397827, 1.0104244947433472, 0.8073779344558716, 0.8073779344558716, 1.147308111190796, 0.6222002506256104, 0.6221913695335388, 2.835590124130249, 2.1542859077453613, 9.696023941040039, 6.267819881439209, 6.098376274108887, 5.91754674911499, 4.000093936920166, 3.5875253677368164, 3.457322359085083, 3.008558511734009, 2.9154200553894043, 2.489156723022461, 2.487903594970703, 2.275075674057007, 1.9918111562728882, 1.8629363775253296, 1.816902756690979, 1.8166381120681763, 1.6707624197006226, 1.3668447732925415, 1.3664311170578003, 1.3205798864364624, 1.3205798864364624, 1.3205798864364624, 1.3205666542053223, 1.3205666542053223, 1.3202104568481445, 0.9999696016311646, 0.9999696016311646, 0.9999695420265198, 0.9994223117828369, 0.9988582134246826, 9.154064178466797, 6.5242486000061035, 21.873214721679688, 4.8993821144104, 4.146195411682129, 3.314068078994751, 3.313429832458496, 2.857872247695923, 2.3385660648345947, 2.27286958694458, 1.905501127243042, 1.905501127243042, 1.5688523054122925, 1.3849632740020752, 1.3849632740020752, 1.3849632740020752, 1.3849632740020752, 1.3849443197250366, 1.3849443197250366, 1.3848718404769897, 1.3836532831192017, 1.320474624633789, 1.3204131126403809, 1.136910080909729, 1.0484235286712646, 0.8002489805221558, 0.80023592710495, 0.8000104427337646, 0.6166564226150513, 0.6166564226150513, 0.6166564226150513, 0.6166564226150513, 0.8002099394798279, 16.37837791442871, 4.958718299865723, 4.0157976150512695, 3.432356595993042, 3.306910991668701, 2.9575233459472656, 2.438783645629883, 2.438783645629883, 2.212632894515991, 2.19758939743042, 2.1315250396728516, 1.9053330421447754, 1.8467031717300415, 1.2632348537445068, 1.2632348537445068, 1.2632348537445068, 1.2632348537445068, 1.263218641281128, 1.0368242263793945, 0.9565525054931641, 0.9565525054931641, 0.9565525054931641, 0.9565399885177612, 0.9565399885177612, 0.9564917683601379, 0.9564917683601379, 0.9564628005027771, 0.9564628005027771, 0.9560570120811462, 0.729919970035553, 3.8764567375183105], \"Term\": [\"company\", \"manager\", \"great\", \"engineer\", \"place\", \"software\", \"microsoft\", \"work\", \"senior\", \"good\", \"program\", \"culture\", \"balance\", \"sale\", \"review\", \"marketing\", \"job\", \"advisor\", \"intern\", \"life\", \"benefit\", \"product\", \"experience\", \"amazing\", \"excellent\", \"account\", \"director\", \"team\", \"sde\", \"technical\", \"company\", \"job\", \"love\", \"specialist\", \"bad\", \"not\", \"support\", \"field\", \"service\", \"do\", \"go\", \"premier\", \"soft\", \"fun\", \"empower\", \"salary\", \"tough\", \"decade\", \"upsw\", \"fte\", \"decent\", \"hour\", \"dba\", \"dudebro\", \"recommend\", \"white\", \"landing\", \"hard\", \"unreasonable\", \"excite\", \"challenge\", \"great\", \"good\", \"work\", \"place\", \"benefit\", \"career\", \"overall\", \"worklife\", \"consultant\", \"working\", \"principal\", \"people\", \"slow\", \"average\", \"technology\", \"long\", \"year\", \"manage\", \"strategist\", \"vision\", \"look\", \"right\", \"start\", \"be\", \"use\", \"lifestyle\", \"pocket\", \"perfect\", \"nothing\", \"org\", \"longterm\", \"actively\", \"meaningful\", \"work\", \"great\", \"good\", \"program\", \"intern\", \"director\", \"manager\", \"technical\", \"finance\", \"management\", \"change\", \"pm\", \"wonderful\", \"partnerchannel\", \"global\", \"design\", \"big\", \"performance\", \"logistic\", \"safe\", \"layoff\", \"even\", \"everyone\", \"produdct\", \"lead\", \"make\", \"compliance\", \"infosec\", \"habit\", \"window\", \"coroporate\", \"honestly\", \"pretty\", \"research\", \"division\", \"avoid\", \"shocked\", \"engineer\", \"software\", \"review\", \"advisor\", \"awesome\", \"solid\", \"title\", \"employee\", \"first\", \"take\", \"university\", \"comfortable\", \"consumer\", \"junior\", \"network\", \"product\", \"learning\", \"developer\", \"cloud\", \"care\", \"incredible\", \"steal\", \"advantage\", \"industry\", \"parttime\", \"village\", \"highachiever\", \"positive\", \"surround\", \"flaw\", \"branch\", \"culture\", \"sale\", \"marketing\", \"excellent\", \"team\", \"depend\", \"scientist\", \"solution\", \"data\", \"professional\", \"employer\", \"azure\", \"expert\", \"datum\", \"thought\", \"control\", \"inventory\", \"type\", \"dynamic\", \"lag\", \"toxic\", \"compassionate\", \"careful\", \"america\", \"focus\", \"externally\", \"tout\", \"enterprise\", \"ssp\", \"ethic\", \"product\", \"microsoft\", \"balance\", \"life\", \"experience\", \"amazing\", \"customer\", \"pay\", \"tech\", \"opportunity\", \"bureaucracy\", \"retail\", \"group\", \"success\", \"family\", \"project\", \"would\", \"grow\", \"want\", \"age\", \"contract\", \"give\", \"giant\", \"expect\", \"break\", \"struggle\", \"obsess\", \"advancement\", \"anything\", \"bit\", \"reasonably\", \"longer\", \"good\", \"work\", \"microsoft\", \"sde\", \"development\", \"ms\", \"business\", \"assistant\", \"analyst\", \"store\", \"growth\", \"mindset\", \"recruiter\", \"incredibly\", \"discriminatory\", \"dysfunctional\", \"committed\", \"miss\", \"hit\", \"boring\", \"community\", \"poor\", \"escalation\", \"lucky\", \"general\", \"full\", \"diversity\", \"janitor\", \"vest\", \"rest\", \"guess\", \"come\", \"time\", \"senior\", \"account\", \"politic\", \"engineering\", \"environment\", \"new\", \"swe\", \"msft\", \"executive\", \"satya\", \"learn\", \"terrible\", \"much\", \"researcher\", \"farstill\", \"ux\", \"happy\", \"license\", \"position\", \"cord\", \"rip\", \"updraft\", \"bland\", \"mediocre\", \"circuit\", \"level\", \"physical\", \"coworker\", \"real\", \"moment\", \"manager\"], \"Total\": [63.0, 44.0, 86.0, 34.0, 41.0, 28.0, 24.0, 61.0, 17.0, 52.0, 17.0, 13.0, 10.0, 8.0, 9.0, 7.0, 13.0, 8.0, 8.0, 6.0, 11.0, 9.0, 6.0, 6.0, 6.0, 5.0, 7.0, 5.0, 5.0, 6.0, 63.9967155456543, 13.322983741760254, 9.474841117858887, 5.696925163269043, 5.066368103027344, 4.319626331329346, 3.892291784286499, 3.41200852394104, 3.411879301071167, 3.314424753189087, 3.26070499420166, 2.984743356704712, 2.630119562149048, 2.6114161014556885, 2.33537220954895, 2.256593942642212, 2.2027995586395264, 2.2027995586395264, 2.2027995586395264, 2.2027692794799805, 2.202735662460327, 2.2026147842407227, 2.2026147842407227, 2.202692747116089, 2.202692747116089, 2.202692747116089, 2.2025554180145264, 2.1315817832946777, 1.829439401626587, 1.829439401626587, 1.829439401626587, 86.8458023071289, 52.06745529174805, 61.83073806762695, 41.353302001953125, 11.40568733215332, 6.601668834686279, 6.317286968231201, 4.850251197814941, 4.241111755371094, 4.190475940704346, 4.049674987792969, 3.581383466720581, 3.4899747371673584, 3.0574584007263184, 3.0573887825012207, 2.8477518558502197, 2.7076733112335205, 2.6566460132598877, 2.515169620513916, 2.515169143676758, 2.5149991512298584, 2.497643232345581, 2.4975011348724365, 2.4482743740081787, 2.3063433170318604, 2.1142961978912354, 2.1142776012420654, 2.1142776012420654, 2.1142776012420654, 2.1142661571502686, 2.1142661571502686, 2.1142661571502686, 2.114213705062866, 61.83073806762695, 86.8458023071289, 52.06745529174805, 17.800243377685547, 8.406888961791992, 7.065822124481201, 44.951377868652344, 6.510311603546143, 4.752115726470947, 3.9674644470214844, 3.731048822402954, 3.060500383377075, 2.717074155807495, 2.6192400455474854, 2.4806878566741943, 2.463388204574585, 2.463320016860962, 2.1373257637023926, 2.0877249240875244, 2.087721586227417, 2.087721586227417, 2.087721586227417, 2.087721586227417, 1.7443852424621582, 1.6960995197296143, 1.6960387229919434, 1.4907145500183105, 1.4907145500183105, 1.4907145500183105, 1.4907145500183105, 1.4907145500183105, 1.4907145500183105, 1.4907145500183105, 2.542524576187134, 1.4907145500183105, 1.4907145500183105, 1.4907145500183105, 34.4216194152832, 28.091110229492188, 9.346990585327148, 8.392629623413086, 6.0062127113342285, 4.570430755615234, 4.1972174644470215, 3.824998617172241, 3.303537130355835, 2.3333230018615723, 2.069366693496704, 2.069354295730591, 2.0223019123077393, 2.0222814083099365, 2.0222814083099365, 9.880903244018555, 1.9599661827087402, 1.8283228874206543, 1.6960399150848389, 1.6501436233520508, 1.4549098014831543, 1.454913854598999, 1.454913854598999, 1.4547078609466553, 1.2767932415008545, 1.145134687423706, 1.1451177597045898, 1.1451177597045898, 1.1451177597045898, 1.145052433013916, 1.145052433013916, 13.341714859008789, 8.82510757446289, 7.8723039627075195, 6.329306125640869, 5.892748832702637, 5.247132778167725, 4.471913814544678, 4.317906856536865, 4.083702564239502, 3.9297072887420654, 3.4930527210235596, 3.421564817428589, 2.8316102027893066, 2.8315770626068115, 2.4604666233062744, 2.121197462081909, 2.121197462081909, 2.072171926498413, 2.072110891342163, 2.0720293521881104, 1.7329285144805908, 1.7329137325286865, 1.7328569889068604, 1.7328639030456543, 1.685185432434082, 1.482213020324707, 1.482213020324707, 2.296736717224121, 1.2969510555267334, 1.2969424724578857, 9.880903244018555, 24.606229782104492, 10.376373291015625, 6.947971343994141, 6.778615951538086, 6.597758769989014, 4.68038272857666, 4.2683000564575195, 4.137896537780762, 3.6888864040374756, 3.5964574813842773, 3.169346570968628, 3.168320655822754, 2.955228805541992, 2.6720619201660156, 2.5431880950927734, 2.496997356414795, 2.496959686279297, 2.3514392375946045, 2.0469517707824707, 2.0469088554382324, 2.0006747245788574, 2.0006747245788574, 2.0006747245788574, 2.000661849975586, 2.000661849975586, 2.0006046295166016, 1.6800644397735596, 1.6800644397735596, 1.6800644397735596, 1.6800265312194824, 1.6799545288085938, 52.06745529174805, 61.83073806762695, 24.606229782104492, 5.575046062469482, 4.82243013381958, 3.989802360534668, 3.9892516136169434, 3.5336556434631348, 3.0142881870269775, 2.9488768577575684, 2.5811197757720947, 2.5811197757720947, 2.244781970977783, 2.060582399368286, 2.060582399368286, 2.060582399368286, 2.060582399368286, 2.060563802719116, 2.060563802719116, 2.060492753982544, 2.0604264736175537, 1.9963233470916748, 1.9963111877441406, 1.8126991987228394, 1.7242913246154785, 1.4758679866790771, 1.4758551120758057, 1.475829839706421, 1.2922751903533936, 1.2922751903533936, 1.2922751903533936, 1.2922751903533936, 2.209200382232666, 17.062786102294922, 5.642975807189941, 4.700062274932861, 4.11652946472168, 3.9917478561401367, 3.6418323516845703, 3.1228652000427246, 3.1228652000427246, 2.896782875061035, 2.881834030151367, 2.8161849975585938, 2.5900766849517822, 2.5309224128723145, 1.9473156929016113, 1.9473156929016113, 1.9473156929016113, 1.9473156929016113, 1.947299838066101, 1.7212250232696533, 1.6406331062316895, 1.6406331062316895, 1.6406331062316895, 1.6406209468841553, 1.6406209468841553, 1.6405737400054932, 1.6405737400054932, 1.6406362056732178, 1.6406362056732178, 1.6406192779541016, 1.4140005111694336, 44.951377868652344], \"loglift\": [30.0, 29.0, 28.0, 27.0, 26.0, 25.0, 24.0, 23.0, 22.0, 21.0, 20.0, 19.0, 18.0, 17.0, 16.0, 15.0, 14.0, 13.0, 12.0, 11.0, 10.0, 9.0, 8.0, 7.0, 6.0, 5.0, 4.0, 3.0, 2.0, 1.0, 1.5540000200271606, 1.5132999420166016, 1.4917000532150269, 1.4402999877929688, 1.423699975013733, 1.3971999883651733, 1.3768999576568604, 1.3476999998092651, 1.347499966621399, 1.3402999639511108, 1.336400032043457, 1.312399983406067, 1.2728999853134155, 1.2705999612808228, 1.2294000387191772, 1.214900016784668, 1.2051000595092773, 1.2051000595092773, 1.2051000595092773, 1.2051000595092773, 1.2051000595092773, 1.2051000595092773, 1.2051000595092773, 1.2049000263214111, 1.2049000263214111, 1.2049000263214111, 1.204699993133545, 1.190600037574768, 1.1126999855041504, 1.1126999855041504, 1.1126999855041504, 0.9241999983787537, 0.7914999723434448, 0.08739999681711197, 1.6109999418258667, 1.56659996509552, 1.5199999809265137, 1.5148999691009521, 1.4781999588012695, 1.4549000263214111, 1.4524999856948853, 1.4457999467849731, 1.4194999933242798, 1.4134999513626099, 1.3792999982833862, 1.3791999816894531, 1.3580000400543213, 1.3422000408172607, 1.3358999490737915, 1.316499948501587, 1.3164000511169434, 1.3158999681472778, 1.3141000270843506, 1.3135000467300415, 1.3065999746322632, 1.2831000089645386, 1.2451000213623047, 1.2448999881744385, 1.2448999881744385, 1.2448999881744385, 1.2448999881744385, 1.2448999881744385, 1.2448999881744385, 1.2447999715805054, 1.2095999717712402, 0.8644999861717224, 0.5874000191688538, 2.0755999088287354, 2.030600070953369, 2.0139000415802, 2.0095999240875244, 2.004699945449829, 1.961300015449524, 1.9279999732971191, 1.9149999618530273, 1.8655999898910522, 1.829200029373169, 1.8167999982833862, 1.7972999811172485, 1.794600009918213, 1.7943999767303467, 1.7355999946594238, 1.7245999574661255, 1.7244999408721924, 1.7244999408721924, 1.7244999408721924, 1.7244999408721924, 1.626099944114685, 1.6080000400543213, 1.6075999736785889, 1.5128999948501587, 1.5128999948501587, 1.5128999948501587, 1.5128999948501587, 1.5128999948501587, 1.5128999948501587, 1.5128999948501587, 1.4799000024795532, 1.5128999948501587, 1.5128999948501587, 1.5128999948501587, 2.159899950027466, 2.155400037765503, 2.1045000553131104, 2.0954999923706055, 2.0599000453948975, 2.0188000202178955, 2.0032999515533447, 1.9845000505447388, 1.9496999979019165, 1.8361999988555908, 1.7821999788284302, 1.7818000316619873, 1.7711000442504883, 1.7711000442504883, 1.7711000442504883, 1.7553999423980713, 1.754699945449829, 1.715999960899353, 1.6689000129699707, 1.6502000093460083, 1.5514999628067017, 1.551200032234192, 1.551200032234192, 1.5492000579833984, 1.4218000173568726, 1.2821999788284302, 1.2818000316619873, 1.2818000316619873, 1.2818000316619873, 1.2807999849319458, 1.2807999849319458, 2.301300048828125, 2.2736001014709473, 2.2634999752044678, 2.2404000759124756, 2.231600046157837, 2.215399980545044, 2.1895999908447266, 2.183300018310547, 2.172600030899048, 2.164799928665161, 2.138400077819824, 2.1333000659942627, 2.0810000896453857, 2.0808000564575195, 2.032599925994873, 1.9702999591827393, 1.9702999591827393, 1.9592000246047974, 1.9589999914169312, 1.9586000442504883, 1.8598999977111816, 1.8598999977111816, 1.8598999977111816, 1.8595999479293823, 1.8416999578475952, 1.7457000017166138, 1.7457000017166138, 1.65910005569458, 1.6187000274658203, 1.6187000274658203, 1.1047999858856201, -0.08229999989271164, 2.296799898147583, 2.2616000175476074, 2.2588999271392822, 2.2558999061584473, 2.2076001167297363, 2.1909000873565674, 2.184999942779541, 2.160799980163574, 2.1547000408172607, 2.1231000423431396, 2.1229000091552734, 2.103100061416626, 2.0708999633789062, 2.0534000396728516, 2.0467000007629395, 2.046600103378296, 2.022900104522705, 1.960800051689148, 1.9605000019073486, 1.9492000341415405, 1.9492000341415405, 1.9492000341415405, 1.9492000341415405, 1.9492000341415405, 1.9490000009536743, 1.8458000421524048, 1.8458000421524048, 1.8458000421524048, 1.8452999591827393, 1.8447999954223633, 0.6262999773025513, 0.11580000072717667, 2.289799928665161, 2.2783000469207764, 2.2564001083374023, 2.2219998836517334, 2.22189998626709, 2.1953001022338867, 2.153700113296509, 2.147200107574463, 2.104099988937378, 2.104099988937378, 2.049299955368042, 2.010200023651123, 2.010200023651123, 2.010200023651123, 2.010200023651123, 2.010200023651123, 2.010200023651123, 2.010200023651123, 2.0092999935150146, 1.9941999912261963, 1.9941999912261963, 1.940999984741211, 1.909999966621399, 1.7955000400543213, 1.7954000234603882, 1.795199990272522, 1.6677000522613525, 1.6677000522613525, 1.6677000522613525, 1.6677000522613525, 1.3919999599456787, 2.466599941253662, 2.378200054168701, 2.3501999378204346, 2.325700044631958, 2.3192999362945557, 2.2994000911712646, 2.2602999210357666, 2.2602999210357666, 2.238100051879883, 2.2363998889923096, 2.2290000915527344, 2.200500011444092, 2.1923000812530518, 2.074700117111206, 2.074700117111206, 2.074700117111206, 2.074700117111206, 2.074700117111206, 2.0006000995635986, 1.968000054359436, 1.968000054359436, 1.968000054359436, 1.968000054359436, 1.968000054359436, 1.968000054359436, 1.968000054359436, 1.967900037765503, 1.967900037765503, 1.9674999713897705, 1.8463000059127808, 0.05689999833703041], \"logprob\": [30.0, 29.0, 28.0, 27.0, 26.0, 25.0, 24.0, 23.0, 22.0, 21.0, 20.0, 19.0, 18.0, 17.0, 16.0, 15.0, 14.0, 13.0, 12.0, 11.0, 10.0, 9.0, 8.0, 7.0, 6.0, 5.0, 4.0, 3.0, 2.0, 1.0, -1.5226999521255493, -3.1328999996185303, -3.495300054550171, -4.0553998947143555, -4.189300060272217, -4.375199794769287, -4.49970006942749, -4.660699844360352, -4.660799980163574, -4.697000026702881, -4.717299938201904, -4.829800128936768, -4.99560022354126, -5.005099773406982, -5.158100128173828, -5.206900119781494, -5.240799903869629, -5.240799903869629, -5.240799903869629, -5.240799903869629, -5.240799903869629, -5.240900039672852, -5.240900039672852, -5.241000175476074, -5.241000175476074, -5.241000175476074, -5.241300106048584, -5.2881999015808105, -5.518899917602539, -5.518899917602539, -5.518899917602539, -1.8473000526428223, -2.4916000366210938, -3.0237998962402344, -1.902500033378601, -3.2348999977111816, -3.8282999992370605, -3.8773999214172363, -4.178400039672852, -4.335899829864502, -4.350299835205078, -4.391200065612793, -4.540299892425537, -4.572199821472168, -4.738800048828125, -4.738900184631348, -4.831099987030029, -4.897299766540527, -4.922699928283691, -4.996699810028076, -4.996799945831299, -4.997499942779541, -5.006199836730957, -5.006800174713135, -5.033699989318848, -5.116799831390381, -5.241799831390381, -5.242000102996826, -5.242000102996826, -5.242000102996826, -5.242000102996826, -5.242000102996826, -5.242000102996826, -5.242099761962891, -1.9016000032424927, -1.906999945640564, -2.6956000328063965, -2.280900001525879, -3.0759999752044678, -3.266400098800659, -1.4205000400543213, -3.3575000762939453, -3.7158000469207764, -3.929500102996826, -4.003900051116943, -4.251500129699707, -4.406799793243408, -4.455999851226807, -4.529799938201904, -4.5395002365112305, -4.539700031280518, -4.740499973297119, -4.775000095367432, -4.775100231170654, -4.775100231170654, -4.775100231170654, -4.775100231170654, -5.053100109100342, -5.099299907684326, -5.099699974060059, -5.323400020599365, -5.323400020599365, -5.323400020599365, -5.323400020599365, -5.323400020599365, -5.323400020599365, -5.323400020599365, -4.8225998878479, -5.323400020599365, -5.323400020599365, -5.323400020599365, -1.5369999408721924, -1.7447999715805054, -2.8961000442504883, -3.012700080871582, -3.3828999996185303, -3.697200059890747, -3.7978999614715576, -3.9094998836517334, -4.09089994430542, -4.55210018157959, -4.726200103759766, -4.726600170135498, -4.760300159454346, -4.760300159454346, -4.760300159454346, -3.1895999908447266, -4.808000087738037, -4.916200160980225, -5.038400173187256, -5.08459997177124, -5.309199810028076, -5.3094000816345215, -5.3094000816345215, -5.311600208282471, -5.569399833679199, -5.81790018081665, -5.818299770355225, -5.818299770355225, -5.818299770355225, -5.819399833679199, -5.819399833679199, -2.3434998989105225, -2.78439998626709, -2.9086999893188477, -3.1500000953674316, -3.230299949645996, -3.362499952316284, -3.5481998920440674, -3.589600086212158, -3.6559998989105225, -3.7023000717163086, -3.8464999198913574, -3.8722000122070312, -4.113800048828125, -4.113999843597412, -4.302599906921387, -4.513299942016602, -4.513299942016602, -4.547800064086914, -4.548099994659424, -4.548500061035156, -4.825900077819824, -4.825900077819824, -4.825900077819824, -4.826200008392334, -4.872099876403809, -5.096399784088135, -5.096399784088135, -4.744999885559082, -5.356900215148926, -5.356900215148926, -3.8401999473571777, -4.114999771118164, -2.5992000102996826, -3.0355000495910645, -3.0629000663757324, -3.0929999351501465, -3.484600067138672, -3.5934998989105225, -3.630500078201294, -3.7695000171661377, -3.8008999824523926, -3.9590001106262207, -3.9595000743865967, -4.048900127410889, -4.1819000244140625, -4.248799800872803, -4.273799896240234, -4.27400016784668, -4.357699871063232, -4.558499813079834, -4.558800220489502, -4.592899799346924, -4.592899799346924, -4.592899799346924, -4.592899799346924, -4.592899799346924, -4.593200206756592, -4.870999813079834, -4.870999813079834, -4.870999813079834, -4.871500015258789, -4.872099876403809, -2.6568000316619873, -2.9953999519348145, -1.742799997329712, -3.239000082015991, -3.405900001525879, -3.6298999786376953, -3.6301000118255615, -3.7780001163482666, -3.9784998893737793, -4.006999969482422, -4.183300018310547, -4.183300018310547, -4.377699851989746, -4.502399921417236, -4.502399921417236, -4.502399921417236, -4.502399921417236, -4.502399921417236, -4.502399921417236, -4.502500057220459, -4.503399848937988, -4.550099849700928, -4.550099849700928, -4.69980001449585, -4.780799865722656, -5.050899982452393, -5.050899982452393, -5.051199913024902, -5.311500072479248, -5.311500072479248, -5.311500072479248, -5.311500072479248, -5.051000118255615, -1.9321000576019287, -3.127000093460083, -3.337899923324585, -3.4948999881744385, -3.532099962234497, -3.6438000202178955, -3.8366000652313232, -3.8366000652313232, -3.9339001178741455, -3.940700054168701, -3.971299886703491, -4.083499908447266, -4.114699840545654, -4.4944000244140625, -4.4944000244140625, -4.4944000244140625, -4.4944000244140625, -4.4944000244140625, -4.69189977645874, -4.772500038146973, -4.772500038146973, -4.772500038146973, -4.772500038146973, -4.772500038146973, -4.772600173950195, -4.772600173950195, -4.772600173950195, -4.772600173950195, -4.7729997634887695, -5.042900085449219, -3.373199939727783]}, \"token.table\": {\"Topic\": [8, 2, 6, 4, 4, 6, 6, 5, 7, 6, 7, 2, 3, 4, 5, 1, 6, 2, 2, 3, 6, 8, 7, 6, 6, 7, 4, 2, 5, 1, 3, 8, 4, 7, 4, 7, 7, 1, 5, 3, 2, 4, 6, 5, 8, 3, 8, 5, 6, 5, 5, 1, 1, 1, 5, 3, 4, 7, 3, 7, 7, 3, 1, 1, 5, 7, 4, 5, 1, 4, 8, 5, 8, 8, 7, 5, 3, 3, 5, 1, 8, 6, 6, 5, 5, 6, 8, 1, 3, 4, 5, 1, 7, 1, 7, 6, 6, 3, 1, 1, 2, 6, 1, 2, 6, 6, 7, 7, 3, 8, 1, 7, 3, 1, 4, 7, 4, 3, 3, 5, 7, 1, 4, 5, 1, 3, 3, 8, 4, 8, 8, 6, 2, 3, 2, 6, 2, 2, 1, 7, 3, 2, 3, 3, 8, 5, 2, 8, 5, 7, 7, 7, 8, 7, 8, 8, 4, 8, 1, 2, 6, 6, 2, 2, 3, 4, 6, 2, 2, 3, 8, 2, 3, 2, 8, 7, 8, 1, 3, 2, 4, 5, 3, 5, 3, 6, 8, 6, 1, 7, 3, 7, 8, 7, 6, 4, 2, 8, 3, 1, 5, 8, 5, 7, 8, 1, 3, 2, 1, 4, 4, 5, 1, 5, 2, 4, 7, 2, 6, 6, 1, 8, 4, 5, 6, 3, 2, 8, 5, 2, 7, 4, 1, 5, 5, 5, 4, 1, 8, 1, 2, 8, 7, 2, 6, 1, 3, 3, 1, 2, 6, 2, 2, 6, 2], \"Freq\": [0.8860573172569275, 0.47297734022140503, 0.5952152609825134, 0.6873258948326111, 0.9532173275947571, 0.48853129148483276, 0.9093997478485107, 0.5770793557167053, 0.6635065674781799, 0.5952152609825134, 0.8489791750907898, 0.6541380882263184, 0.6708192229270935, 0.8324713706970215, 0.8767918348312378, 0.7895202040672302, 0.9637278318405151, 0.8169019222259521, 0.96443110704422, 0.8119123578071594, 0.5952152609825134, 0.6095253229141235, 0.4853208065032959, 0.4998345971107483, 0.8341541886329651, 0.7520207762718201, 0.6060078740119934, 0.9088611006736755, 0.5770816802978516, 0.5466155409812927, 0.8040634393692017, 0.6095428466796875, 0.5896087884902954, 0.7738289833068848, 0.48324254155158997, 0.485299676656723, 0.48533642292022705, 0.9844255447387695, 0.5770627856254578, 0.6708192229270935, 0.9431489109992981, 0.494486004114151, 0.48854154348373413, 0.47143182158470154, 0.6095207929611206, 0.6708192229270935, 0.6095196604728699, 0.9743874669075012, 0.8546309471130371, 0.7346274256706238, 0.7063201665878296, 0.9080116748809814, 0.9079355597496033, 0.9079618453979492, 0.9529013633728027, 0.8118898868560791, 0.5469493269920349, 0.8294573426246643, 0.8491581082344055, 0.485299676656723, 0.6775732636451721, 0.6708192229270935, 0.9051344394683838, 0.9079795479774475, 0.4825996458530426, 0.485299676656723, 0.7843140363693237, 0.8588476181030273, 0.8563945293426514, 0.987751305103302, 0.7287692427635193, 0.4354003667831421, 0.4354003667831421, 0.7515504956245422, 0.5009239315986633, 0.7710441946983337, 0.4789910614490509, 0.4789910614490509, 0.9479712247848511, 0.5466155409812927, 0.6904211044311523, 0.4998313784599304, 0.8851364254951477, 0.7063118815422058, 0.6746668815612793, 0.7484856247901917, 0.5135273933410645, 0.8792474865913391, 0.8417303562164307, 0.9081175327301025, 0.5934064984321594, 0.9079480171203613, 0.6775673627853394, 0.7658680081367493, 0.5799484252929688, 0.4998313784599304, 0.4998313784599304, 0.80622798204422, 0.9200464487075806, 0.46094051003456116, 0.34570538997650146, 0.17285269498825073, 0.5296744108200073, 0.46058645844459534, 0.6312492489814758, 0.8009740710258484, 0.7748575210571289, 0.7738289833068848, 0.6708192229270935, 0.5135273933410645, 0.4691351652145386, 0.485304057598114, 0.6708192229270935, 0.9080116748809814, 0.6873278617858887, 0.485299676656723, 0.6874232292175293, 0.6708192229270935, 0.9516005516052246, 0.47143182158470154, 0.6775848865509033, 0.9757574200630188, 0.49449101090431213, 0.48261865973472595, 0.9080361723899841, 0.4789910614490509, 0.5895880460739136, 0.7101806402206421, 0.5102128982543945, 0.6095428466796875, 0.5135316252708435, 0.8635613918304443, 0.4729706346988678, 0.4789903163909912, 0.7023083567619324, 0.5952541828155518, 0.47297734022140503, 0.795228898525238, 0.9498839974403381, 0.5516635179519653, 0.5896092057228088, 0.7528289556503296, 0.7561504244804382, 0.889850378036499, 0.08898503333330154, 0.8891932964324951, 0.4729890823364258, 0.6095253229141235, 0.08128023147583008, 0.8940825462341309, 0.7748575210571289, 0.485304057598114, 0.7072133421897888, 0.7519169449806213, 0.6404374837875366, 0.7902257442474365, 0.49449101090431213, 0.8237611651420593, 0.926006019115448, 0.4729747772216797, 0.4998489022254944, 0.8132535815238953, 0.47297734022140503, 0.9497748017311096, 0.7635802626609802, 0.7832121849060059, 0.9371412396430969, 0.8376651406288147, 0.4729747772216797, 0.4678744077682495, 0.6095196604728699, 0.9914565086364746, 0.6534879207611084, 0.4729747772216797, 0.8510525822639465, 0.500920832157135, 0.5809815526008606, 0.6700743436813354, 0.6708192229270935, 0.7408002018928528, 0.6072319149971008, 0.3036159574985504, 0.5732678771018982, 0.7634156346321106, 0.9550431370735168, 0.7864145040512085, 0.6095259189605713, 0.5952286720275879, 0.9079795479774475, 0.8909551501274109, 0.3933098614215851, 0.3933098614215851, 0.5135273933410645, 0.7738289833068848, 0.6310449242591858, 0.9628767371177673, 0.8007549047470093, 0.6095207929611206, 0.4789910614490509, 0.88629150390625, 0.9065045118331909, 0.6940025091171265, 0.8944716453552246, 0.8968535661697388, 0.9377132058143616, 0.8792808055877686, 0.6708192229270935, 0.859605073928833, 0.7604216933250427, 0.9611581563949585, 0.8751910328865051, 0.9263747930526733, 0.8776664137840271, 0.7710391283035278, 0.8008004426956177, 0.6873258948326111, 0.6782243251800537, 0.7951750159263611, 0.4998345971107483, 0.676766574382782, 0.7707541584968567, 0.6404374837875366, 0.857146680355072, 0.8485004305839539, 0.7250060439109802, 0.9216148853302002, 0.6541529893875122, 0.7721779346466064, 0.8128539323806763, 0.4526524543762207, 0.4526524543762207, 0.9530123472213745, 0.9079355597496033, 0.6746668815612793, 0.5770578384399414, 0.48258543014526367, 0.48323962092399597, 0.5466155409812927, 0.6095207929611206, 0.9079355597496033, 0.8671736121177673, 0.5135273933410645, 0.7738289833068848, 0.7951751351356506, 0.8505429029464722, 0.9079795479774475, 0.6708192229270935, 0.7360858917236328, 0.22642460465431213, 0.6631006002426147, 0.11321230232715607, 0.9545454978942871, 0.8246995806694031, 0.8009620308876038, 0.7386415600776672], \"Term\": [\"account\", \"actively\", \"advancement\", \"advantage\", \"advisor\", \"age\", \"amazing\", \"america\", \"analyst\", \"anything\", \"assistant\", \"average\", \"avoid\", \"awesome\", \"azure\", \"bad\", \"balance\", \"be\", \"benefit\", \"big\", \"bit\", \"bland\", \"boring\", \"break\", \"bureaucracy\", \"business\", \"care\", \"career\", \"careful\", \"challenge\", \"change\", \"circuit\", \"cloud\", \"come\", \"comfortable\", \"committed\", \"community\", \"company\", \"compassionate\", \"compliance\", \"consultant\", \"consumer\", \"contract\", \"control\", \"cord\", \"coroporate\", \"coworker\", \"culture\", \"customer\", \"data\", \"datum\", \"dba\", \"decade\", \"decent\", \"depend\", \"design\", \"developer\", \"development\", \"director\", \"discriminatory\", \"diversity\", \"division\", \"do\", \"dudebro\", \"dynamic\", \"dysfunctional\", \"employee\", \"employer\", \"empower\", \"engineer\", \"engineering\", \"enterprise\", \"enterprise\", \"environment\", \"escalation\", \"ethic\", \"even\", \"everyone\", \"excellent\", \"excite\", \"executive\", \"expect\", \"experience\", \"expert\", \"externally\", \"family\", \"farstill\", \"field\", \"finance\", \"first\", \"focus\", \"fte\", \"full\", \"fun\", \"general\", \"giant\", \"give\", \"global\", \"go\", \"good\", \"good\", \"good\", \"great\", \"great\", \"group\", \"grow\", \"growth\", \"guess\", \"habit\", \"happy\", \"hard\", \"hit\", \"honestly\", \"hour\", \"incredible\", \"incredibly\", \"industry\", \"infosec\", \"intern\", \"inventory\", \"janitor\", \"job\", \"junior\", \"lag\", \"landing\", \"layoff\", \"lead\", \"learn\", \"learning\", \"level\", \"license\", \"life\", \"lifestyle\", \"logistic\", \"long\", \"longer\", \"longterm\", \"look\", \"love\", \"lucky\", \"make\", \"manage\", \"management\", \"manager\", \"manager\", \"marketing\", \"meaningful\", \"mediocre\", \"microsoft\", \"microsoft\", \"mindset\", \"miss\", \"moment\", \"ms\", \"msft\", \"much\", \"network\", \"new\", \"not\", \"nothing\", \"obsess\", \"opportunity\", \"org\", \"overall\", \"partnerchannel\", \"parttime\", \"pay\", \"people\", \"perfect\", \"performance\", \"physical\", \"place\", \"pm\", \"pocket\", \"politic\", \"poor\", \"position\", \"premier\", \"pretty\", \"principal\", \"product\", \"product\", \"produdct\", \"professional\", \"program\", \"project\", \"real\", \"reasonably\", \"recommend\", \"recruiter\", \"research\", \"research\", \"researcher\", \"rest\", \"retail\", \"review\", \"right\", \"rip\", \"safe\", \"salary\", \"sale\", \"satya\", \"scientist\", \"sde\", \"senior\", \"service\", \"shocked\", \"slow\", \"soft\", \"software\", \"solid\", \"solution\", \"specialist\", \"ssp\", \"start\", \"steal\", \"store\", \"strategist\", \"struggle\", \"success\", \"support\", \"swe\", \"take\", \"team\", \"tech\", \"technical\", \"technology\", \"terrible\", \"thought\", \"time\", \"time\", \"title\", \"tough\", \"tout\", \"toxic\", \"type\", \"university\", \"unreasonable\", \"updraft\", \"upsw\", \"use\", \"ux\", \"vest\", \"vision\", \"want\", \"white\", \"window\", \"wonderful\", \"work\", \"work\", \"work\", \"working\", \"worklife\", \"would\", \"year\"]}, \"R\": 30, \"lambda.step\": 0.01, \"plot.opts\": {\"xlab\": \"PC1\", \"ylab\": \"PC2\"}, \"topic.order\": [3, 1, 8, 5, 2, 4, 7, 6]};\n",
       "\n",
       "function LDAvis_load_lib(url, callback){\n",
       "  var s = document.createElement('script');\n",
       "  s.src = url;\n",
       "  s.async = true;\n",
       "  s.onreadystatechange = s.onload = callback;\n",
       "  s.onerror = function(){console.warn(\"failed to load library \" + url);};\n",
       "  document.getElementsByTagName(\"head\")[0].appendChild(s);\n",
       "}\n",
       "\n",
       "if(typeof(LDAvis) !== \"undefined\"){\n",
       "   // already loaded: just create the visualization\n",
       "   !function(LDAvis){\n",
       "       new LDAvis(\"#\" + \"ldavis_el1410449597314083204539424\", ldavis_el1410449597314083204539424_data);\n",
       "   }(LDAvis);\n",
       "}else if(typeof define === \"function\" && define.amd){\n",
       "   // require.js is available: use it to load d3/LDAvis\n",
       "   require.config({paths: {d3: \"https://cdnjs.cloudflare.com/ajax/libs/d3/3.5.5/d3.min\"}});\n",
       "   require([\"d3\"], function(d3){\n",
       "      window.d3 = d3;\n",
       "      LDAvis_load_lib(\"https://cdn.rawgit.com/bmabey/pyLDAvis/files/ldavis.v1.0.0.js\", function(){\n",
       "        new LDAvis(\"#\" + \"ldavis_el1410449597314083204539424\", ldavis_el1410449597314083204539424_data);\n",
       "      });\n",
       "    });\n",
       "}else{\n",
       "    // require.js not available: dynamically load d3 & LDAvis\n",
       "    LDAvis_load_lib(\"https://cdnjs.cloudflare.com/ajax/libs/d3/3.5.5/d3.min.js\", function(){\n",
       "         LDAvis_load_lib(\"https://cdn.rawgit.com/bmabey/pyLDAvis/files/ldavis.v1.0.0.js\", function(){\n",
       "                 new LDAvis(\"#\" + \"ldavis_el1410449597314083204539424\", ldavis_el1410449597314083204539424_data);\n",
       "            })\n",
       "         });\n",
       "}\n",
       "</script>"
      ],
      "text/plain": [
       "PreparedData(topic_coordinates=              x         y  topics  cluster       Freq\n",
       "topic                                                \n",
       "2     -0.249407  0.000119       1        1  20.919456\n",
       "0     -0.259189 -0.000852       2        1  19.645264\n",
       "7      0.135915 -0.195151       3        1  12.073819\n",
       "4      0.122441  0.256331       4        1  11.306057\n",
       "1      0.112847  0.050566       5        1   9.506496\n",
       "3     -0.076751 -0.009936       6        1   9.398113\n",
       "6      0.100125 -0.000247       7        1   9.003726\n",
       "5      0.114020 -0.100831       8        1   8.147068, topic_info=     Category       Freq         Term      Total  loglift  logprob\n",
       "term                                                              \n",
       "6     Default  63.000000      company  63.000000  30.0000  30.0000\n",
       "4     Default  44.000000      manager  44.000000  29.0000  29.0000\n",
       "7     Default  86.000000        great  86.000000  28.0000  28.0000\n",
       "26    Default  34.000000     engineer  34.000000  27.0000  27.0000\n",
       "10    Default  41.000000        place  41.000000  26.0000  26.0000\n",
       "114   Default  28.000000     software  28.000000  25.0000  25.0000\n",
       "0     Default  24.000000    microsoft  24.000000  24.0000  24.0000\n",
       "8     Default  61.000000         work  61.000000  23.0000  23.0000\n",
       "122   Default  17.000000       senior  17.000000  22.0000  22.0000\n",
       "17    Default  52.000000         good  52.000000  21.0000  21.0000\n",
       "9     Default  17.000000      program  17.000000  20.0000  20.0000\n",
       "11    Default  13.000000      culture  13.000000  19.0000  19.0000\n",
       "19    Default  10.000000      balance  10.000000  18.0000  18.0000\n",
       "94    Default   8.000000         sale   8.000000  17.0000  17.0000\n",
       "12    Default   9.000000       review   9.000000  16.0000  16.0000\n",
       "154   Default   7.000000    marketing   7.000000  15.0000  15.0000\n",
       "105   Default  13.000000          job  13.000000  14.0000  14.0000\n",
       "96    Default   8.000000      advisor   8.000000  13.0000  13.0000\n",
       "119   Default   8.000000       intern   8.000000  12.0000  12.0000\n",
       "23    Default   6.000000         life   6.000000  11.0000  11.0000\n",
       "20    Default  11.000000      benefit  11.000000  10.0000  10.0000\n",
       "97    Default   9.000000      product   9.000000   9.0000   9.0000\n",
       "145   Default   6.000000   experience   6.000000   8.0000   8.0000\n",
       "61    Default   6.000000      amazing   6.000000   7.0000   7.0000\n",
       "25    Default   6.000000    excellent   6.000000   6.0000   6.0000\n",
       "3     Default   5.000000      account   5.000000   5.0000   5.0000\n",
       "85    Default   7.000000     director   7.000000   4.0000   4.0000\n",
       "102   Default   5.000000         team   5.000000   3.0000   3.0000\n",
       "134   Default   5.000000          sde   5.000000   2.0000   2.0000\n",
       "5     Default   6.000000    technical   6.000000   1.0000   1.0000\n",
       "...       ...        ...          ...        ...      ...      ...\n",
       "3      Topic8   4.958718      account   5.642976   2.3782  -3.1270\n",
       "150    Topic8   4.015798      politic   4.700062   2.3502  -3.3379\n",
       "41     Topic8   3.432357  engineering   4.116529   2.3257  -3.4949\n",
       "334    Topic8   3.306911  environment   3.991748   2.3193  -3.5321\n",
       "149    Topic8   2.957523          new   3.641832   2.2994  -3.6438\n",
       "392    Topic8   2.438784          swe   3.122865   2.2603  -3.8366\n",
       "390    Topic8   2.438784         msft   3.122865   2.2603  -3.8366\n",
       "161    Topic8   2.212633    executive   2.896783   2.2381  -3.9339\n",
       "151    Topic8   2.197589        satya   2.881834   2.2364  -3.9407\n",
       "307    Topic8   2.131525        learn   2.816185   2.2290  -3.9713\n",
       "200    Topic8   1.905333     terrible   2.590077   2.2005  -4.0835\n",
       "197    Topic8   1.846703         much   2.530922   2.1923  -4.1147\n",
       "387    Topic8   1.263235   researcher   1.947316   2.0747  -4.4944\n",
       "379    Topic8   1.263235     farstill   1.947316   2.0747  -4.4944\n",
       "388    Topic8   1.263235           ux   1.947316   2.0747  -4.4944\n",
       "380    Topic8   1.263235        happy   1.947316   2.0747  -4.4944\n",
       "399    Topic8   1.263219      license   1.947300   2.0747  -4.4944\n",
       "176    Topic8   1.036824     position   1.721225   2.0006  -4.6919\n",
       "338    Topic8   0.956553         cord   1.640633   1.9680  -4.7725\n",
       "339    Topic8   0.956553          rip   1.640633   1.9680  -4.7725\n",
       "340    Topic8   0.956553      updraft   1.640633   1.9680  -4.7725\n",
       "315    Topic8   0.956540        bland   1.640621   1.9680  -4.7725\n",
       "316    Topic8   0.956540     mediocre   1.640621   1.9680  -4.7725\n",
       "341    Topic8   0.956492      circuit   1.640574   1.9680  -4.7726\n",
       "318    Topic8   0.956492        level   1.640574   1.9680  -4.7726\n",
       "335    Topic8   0.956463     physical   1.640636   1.9679  -4.7726\n",
       "333    Topic8   0.956463     coworker   1.640636   1.9679  -4.7726\n",
       "308    Topic8   0.956057         real   1.640619   1.9675  -4.7730\n",
       "285    Topic8   0.729920       moment   1.414001   1.8463  -5.0429\n",
       "4      Topic8   3.876457      manager  44.951378   0.0569  -3.3732\n",
       "\n",
       "[288 rows x 6 columns], token_table=      Topic      Freq          Term\n",
       "term                               \n",
       "3         8  0.886057       account\n",
       "385       2  0.472977      actively\n",
       "347       6  0.595215   advancement\n",
       "299       4  0.687326     advantage\n",
       "96        4  0.953217       advisor\n",
       "128       6  0.488531           age\n",
       "61        6  0.909400       amazing\n",
       "345       5  0.577079       america\n",
       "100       7  0.663507       analyst\n",
       "348       6  0.595215      anything\n",
       "160       7  0.848979     assistant\n",
       "108       2  0.654138       average\n",
       "286       3  0.670819         avoid\n",
       "206       4  0.832471       awesome\n",
       "144       5  0.876792         azure\n",
       "104       1  0.789520           bad\n",
       "19        6  0.963728       balance\n",
       "76        2  0.816902            be\n",
       "20        2  0.964431       benefit\n",
       "260       3  0.811912           big\n",
       "306       6  0.595215           bit\n",
       "315       8  0.609525         bland\n",
       "389       7  0.485321        boring\n",
       "369       6  0.499835         break\n",
       "126       6  0.834154   bureaucracy\n",
       "239       7  0.752021      business\n",
       "15        4  0.606008          care\n",
       "109       2  0.908861        career\n",
       "322       5  0.577082       careful\n",
       "311       1  0.546616     challenge\n",
       "...     ...       ...           ...\n",
       "5         3  0.921615     technical\n",
       "14        2  0.654153    technology\n",
       "200       8  0.772178      terrible\n",
       "1         5  0.812854       thought\n",
       "277       2  0.452652          time\n",
       "277       7  0.452652          time\n",
       "327       4  0.953012         title\n",
       "351       1  0.907936         tough\n",
       "279       5  0.674667          tout\n",
       "305       5  0.577058         toxic\n",
       "381       5  0.482585          type\n",
       "98        4  0.483240    university\n",
       "313       1  0.546616  unreasonable\n",
       "340       8  0.609521       updraft\n",
       "352       1  0.907936          upsw\n",
       "194       2  0.867174           use\n",
       "388       8  0.513527            ux\n",
       "173       7  0.773829          vest\n",
       "125       2  0.795175        vision\n",
       "255       6  0.850543          want\n",
       "368       1  0.907980         white\n",
       "288       3  0.670819        window\n",
       "303       3  0.736086     wonderful\n",
       "8         1  0.226425          work\n",
       "8         2  0.663101          work\n",
       "8         6  0.113212          work\n",
       "296       2  0.954545       working\n",
       "75        2  0.824700      worklife\n",
       "196       6  0.800962         would\n",
       "2         2  0.738642          year\n",
       "\n",
       "[255 rows x 3 columns], R=30, lambda_step=0.01, plot_opts={'xlab': 'PC1', 'ylab': 'PC2'}, topic_order=[3, 1, 8, 5, 2, 4, 7, 6])"
      ]
     },
     "execution_count": 152,
     "metadata": {},
     "output_type": "execute_result"
    }
   ],
   "source": [
    "import warnings\n",
    "warnings.filterwarnings(\"ignore\", category=FutureWarning) # hides future warning\n",
    "\n",
    "import pyLDAvis # interactive visualization for LDA\n",
    "import pyLDAvis.gensim \n",
    "\n",
    "pyLDAvis.enable_notebook()\n",
    "vis = pyLDAvis.gensim.prepare(lda_model, corpus, id2word)\n",
    "vis"
   ]
  },
  {
   "cell_type": "markdown",
   "metadata": {
    "heading_collapsed": true,
    "hidden": true
   },
   "source": [
    "## LDA Mallet Model"
   ]
  },
  {
   "cell_type": "code",
   "execution_count": 153,
   "metadata": {
    "hidden": true
   },
   "outputs": [],
   "source": [
    "# Download file: http://mallet.cs.umass.edu/dist/mallet-2.0.8.zip\n",
    "# Installing mallet: https://programminghistorian.org/en/lessons/topic-modeling-and-mallet#mac-instructions\n",
    "# Download Java SE (download .zip instead of .exe for silent install)\n",
    "\n",
    "import os\n",
    "from gensim.models.wrappers import LdaMallet\n",
    "\n",
    "os.environ.update({'MALLET_HOME':r'/Users/Mick/Desktop/mallet/'}) # create environment\n",
    "mallet_path = '/Users/Mick/Desktop/mallet/bin/mallet' # update this path"
   ]
  },
  {
   "cell_type": "code",
   "execution_count": 154,
   "metadata": {
    "hidden": true
   },
   "outputs": [],
   "source": [
    "ldamallet = LdaMallet(mallet_path,corpus=corpus,num_topics=8,id2word=id2word)\n",
    "# here we use 8 topics"
   ]
  },
  {
   "cell_type": "code",
   "execution_count": 155,
   "metadata": {
    "hidden": true
   },
   "outputs": [
    {
     "name": "stdout",
     "output_type": "stream",
     "text": [
      "[(0,\n",
      "  [('company', 0.16463414634146342),\n",
      "   ('job', 0.08536585365853659),\n",
      "   ('product', 0.07926829268292683),\n",
      "   ('advisor', 0.06097560975609756),\n",
      "   ('director', 0.054878048780487805),\n",
      "   ('excellent', 0.04878048780487805),\n",
      "   ('awesome', 0.042682926829268296),\n",
      "   ('sde', 0.036585365853658534),\n",
      "   ('solution', 0.03048780487804878),\n",
      "   ('opportunity', 0.03048780487804878)]),\n",
      " (1,\n",
      "  [('great', 0.5586592178770949),\n",
      "   ('sale', 0.061452513966480445),\n",
      "   ('account', 0.03910614525139665),\n",
      "   ('career', 0.027932960893854747),\n",
      "   ('customer', 0.027932960893854747),\n",
      "   ('analyst', 0.0223463687150838),\n",
      "   ('employer', 0.01675977653631285),\n",
      "   ('success', 0.0111731843575419),\n",
      "   ('build', 0.0111731843575419),\n",
      "   ('contract', 0.00558659217877095)]),\n",
      " (2,\n",
      "  [('manager', 0.3142857142857143),\n",
      "   ('program', 0.13142857142857142),\n",
      "   ('senior', 0.12),\n",
      "   ('balance', 0.03428571428571429),\n",
      "   ('engineering', 0.02857142857142857),\n",
      "   ('development', 0.022857142857142857),\n",
      "   ('business', 0.022857142857142857),\n",
      "   ('store', 0.017142857142857144),\n",
      "   ('principal', 0.017142857142857144),\n",
      "   ('title', 0.017142857142857144)]),\n",
      " (3,\n",
      "  [('work', 0.375),\n",
      "   ('place', 0.2857142857142857),\n",
      "   ('consultant', 0.023809523809523808),\n",
      "   ('worklife', 0.023809523809523808),\n",
      "   ('terrible', 0.017857142857142856),\n",
      "   ('support', 0.011904761904761904),\n",
      "   ('hard', 0.011904761904761904),\n",
      "   ('time', 0.011904761904761904),\n",
      "   ('management', 0.011904761904761904),\n",
      "   ('datum', 0.011904761904761904)]),\n",
      " (4,\n",
      "  [('microsoft', 0.18181818181818182),\n",
      "   ('culture', 0.10909090909090909),\n",
      "   ('work', 0.09090909090909091),\n",
      "   ('review', 0.06666666666666667),\n",
      "   ('love', 0.06666666666666667),\n",
      "   ('life', 0.05454545454545454),\n",
      "   ('balance', 0.04242424242424243),\n",
      "   ('specialist', 0.030303030303030304),\n",
      "   ('finance', 0.024242424242424242),\n",
      "   ('data', 0.024242424242424242)]),\n",
      " (5,\n",
      "  [('company', 0.2974683544303797),\n",
      "   ('amazing', 0.056962025316455694),\n",
      "   ('marketing', 0.056962025316455694),\n",
      "   ('technical', 0.04430379746835443),\n",
      "   ('politic', 0.03164556962025317),\n",
      "   ('scientist', 0.03164556962025317),\n",
      "   ('bad', 0.03164556962025317),\n",
      "   ('year', 0.02531645569620253),\n",
      "   ('career', 0.02531645569620253),\n",
      "   ('professional', 0.02531645569620253)]),\n",
      " (6,\n",
      "  [('engineer', 0.25925925925925924),\n",
      "   ('software', 0.21604938271604937),\n",
      "   ('intern', 0.08024691358024691),\n",
      "   ('experience', 0.05555555555555555),\n",
      "   ('pay', 0.030864197530864196),\n",
      "   ('microsoft', 0.030864197530864196),\n",
      "   ('depend', 0.030864197530864196),\n",
      "   ('ms', 0.018518518518518517),\n",
      "   ('lucky', 0.012345679012345678),\n",
      "   ('lead', 0.012345679012345678)]),\n",
      " (7,\n",
      "  [('good', 0.4217687074829932),\n",
      "   ('benefit', 0.07482993197278912),\n",
      "   ('team', 0.047619047619047616),\n",
      "   ('solid', 0.027210884353741496),\n",
      "   ('satya', 0.027210884353741496),\n",
      "   ('expert', 0.02040816326530612),\n",
      "   ('slow', 0.02040816326530612),\n",
      "   ('retail', 0.013605442176870748),\n",
      "   ('research', 0.013605442176870748),\n",
      "   ('global', 0.013605442176870748)])]\n"
     ]
    }
   ],
   "source": [
    "# Show topics\n",
    "pprint(ldamallet.show_topics(formatted=False))"
   ]
  },
  {
   "cell_type": "markdown",
   "metadata": {
    "heading_collapsed": true,
    "hidden": true
   },
   "source": [
    "### LDA Mallet Model Performance"
   ]
  },
  {
   "cell_type": "code",
   "execution_count": 156,
   "metadata": {
    "hidden": true
   },
   "outputs": [
    {
     "name": "stdout",
     "output_type": "stream",
     "text": [
      "\n",
      "Coherence Score:  0.7596174511851551\n"
     ]
    }
   ],
   "source": [
    "# Compute coherence score\n",
    "coherence_model_ldamallet = CoherenceModel(model=ldamallet, texts=data_lemmatized, dictionary=id2word, coherence=\"c_v\")\n",
    "coherence_ldamallet = coherence_model_ldamallet.get_coherence()\n",
    "print('\\nCoherence Score: ', coherence_ldamallet)"
   ]
  },
  {
   "cell_type": "markdown",
   "metadata": {
    "heading_collapsed": true,
    "hidden": true
   },
   "source": [
    "## Finding the Optimal Number of Topics for LDA Mallet Model"
   ]
  },
  {
   "cell_type": "code",
   "execution_count": 160,
   "metadata": {
    "hidden": true
   },
   "outputs": [],
   "source": [
    "# compute coherence_values for LdaMallets models\n",
    "\n",
    "def compute_coherence_values(dictionary, corpus, texts, limit, start=2, step=3):\n",
    "    coherence_values = []\n",
    "    model_list = []\n",
    "    for num_topics in range(start, limit, step):\n",
    "        model = gensim.models.wrappers.LdaMallet(mallet_path, corpus=corpus, num_topics=num_topics, id2word=id2word)\n",
    "        model_list.append(model) # adds different LdaMallet models based on num_topics(start, limit, step)\n",
    "        coherencemodel = CoherenceModel(model=model, texts=texts, dictionary=dictionary, coherence='c_v')\n",
    "        coherence_values.append(coherencemodel.get_coherence()) # add the different LdaMallet models and compute Coherence score\n",
    "    return model_list, coherence_values\n",
    "\n",
    "# Recall previous LdaMallet model\n",
    "# ldamallet = LdaMallet(mallet_path,corpus=corpus,num_topics=10,id2word=id2word)\n",
    "# coherence_model_ldamallet = CoherenceModel(model=ldamallet, texts=data_lemmatized, dictionary=id2word, coherence=\"c_v\")\n",
    "\n",
    "# compute a list of LdaMallets models\n",
    "model_list, coherence_values = compute_coherence_values(dictionary=id2word, corpus=corpus, texts=data_lemmatized, start=2, limit=40, step=6)"
   ]
  },
  {
   "cell_type": "code",
   "execution_count": 161,
   "metadata": {
    "hidden": true
   },
   "outputs": [
    {
     "data": {
      "image/png": "[encoded data removed]",
      "text/plain": [
       "<Figure size 432x288 with 1 Axes>"
      ]
     },
     "metadata": {
      "needs_background": "light"
     },
     "output_type": "display_data"
    }
   ],
   "source": [
    "# show graph\n",
    "limit=40; start=2; step=6;\n",
    "x = range(start, limit, step)\n",
    "plt.plot(x, coherence_values)\n",
    "plt.xlabel('Num Topics')\n",
    "plt.ylabel('Coherence score')\n",
    "plt.legend(('coherence_values'), loc='best')\n",
    "plt.show()"
   ]
  },
  {
   "cell_type": "code",
   "execution_count": 162,
   "metadata": {
    "hidden": true
   },
   "outputs": [
    {
     "name": "stdout",
     "output_type": "stream",
     "text": [
      "Num Topics = 2  has Coherence Value of 0.6798\n",
      "Num Topics = 8  has Coherence Value of 0.7539\n",
      "Num Topics = 14  has Coherence Value of 0.77\n",
      "Num Topics = 20  has Coherence Value of 0.781\n",
      "Num Topics = 26  has Coherence Value of 0.7854\n",
      "Num Topics = 32  has Coherence Value of 0.7792\n",
      "Num Topics = 38  has Coherence Value of 0.7771\n"
     ]
    }
   ],
   "source": [
    "# Print the coherence scores\n",
    "for m, cv in zip(x, coherence_values): # zip aggregate iterables (zero or more)\n",
    "    print('Num Topics =', m, ' has Coherence Value of', round(cv, 4))\n",
    "    # calls an iterated x (x = range(start, limit, step)) and coherence_values (4 decimals)"
   ]
  },
  {
   "cell_type": "code",
   "execution_count": 163,
   "metadata": {
    "hidden": true
   },
   "outputs": [
    {
     "name": "stdout",
     "output_type": "stream",
     "text": [
      "[(12,\n",
      "  '0.479*\"work\" + 0.146*\"technical\" + 0.042*\"employer\" + 0.042*\"azure\" + '\n",
      "  '0.042*\"growth\" + 0.021*\"accountability\" + 0.021*\"vision\" + 0.021*\"janitor\" '\n",
      "  '+ 0.021*\"con\" + 0.021*\"performance\"'),\n",
      " (18,\n",
      "  '0.500*\"great\" + 0.104*\"ms\" + 0.042*\"learning\" + 0.042*\"lucky\" + '\n",
      "  '0.042*\"solid\" + 0.021*\"advancement\" + 0.021*\"impact\" + 0.021*\"slow\" + '\n",
      "  '0.021*\"success\" + 0.021*\"nice\"'),\n",
      " (21,\n",
      "  '0.561*\"engineer\" + 0.073*\"field\" + 0.049*\"senior\" + 0.049*\"finance\" + '\n",
      "  '0.024*\"decade\" + 0.024*\"pm\" + 0.024*\"expert\" + 0.024*\"nightmare\" + '\n",
      "  '0.024*\"service\" + 0.024*\"hard\"'),\n",
      " (0,\n",
      "  '0.442*\"work\" + 0.115*\"intern\" + 0.115*\"place\" + 0.019*\"control\" + '\n",
      "  '0.019*\"regular\" + 0.019*\"moment\" + 0.019*\"define\" + 0.019*\"clarity\" + '\n",
      "  '0.019*\"internship\" + 0.019*\"censorship\"'),\n",
      " (6,\n",
      "  '0.265*\"culture\" + 0.122*\"benefit\" + 0.082*\"consultant\" + 0.061*\"group\" + '\n",
      "  '0.061*\"good\" + 0.041*\"environment\" + 0.041*\"data\" + 0.020*\"rebound\" + '\n",
      "  '0.020*\"notch\" + 0.020*\"top\"'),\n",
      " (4,\n",
      "  '0.491*\"good\" + 0.151*\"work\" + 0.038*\"engineer\" + 0.038*\"data\" + '\n",
      "  '0.019*\"farstill\" + 0.019*\"premier\" + 0.019*\"perfect\" + 0.019*\"conservative\" '\n",
      "  '+ 0.019*\"cloud\" + 0.019*\"fairly\"'),\n",
      " (25,\n",
      "  '0.415*\"engineer\" + 0.049*\"benefit\" + 0.049*\"customer\" + 0.024*\"assistant\" + '\n",
      "  '0.024*\"level\" + 0.024*\"pocket\" + 0.024*\"poor\" + 0.024*\"general\" + '\n",
      "  '0.024*\"lag\" + 0.024*\"type\"'),\n",
      " (17,\n",
      "  '0.460*\"manager\" + 0.190*\"program\" + 0.063*\"solution\" + 0.048*\"principal\" + '\n",
      "  '0.032*\"slow\" + 0.016*\"manaer\" + 0.016*\"director\" + 0.016*\"grad\" + '\n",
      "  '0.016*\"young\" + 0.016*\"domain\"'),\n",
      " (5,\n",
      "  '0.273*\"sale\" + 0.121*\"great\" + 0.091*\"team\" + 0.091*\"sde\" + '\n",
      "  '0.091*\"professional\" + 0.061*\"store\" + 0.030*\"grow\" + 0.030*\"focus\" + '\n",
      "  '0.030*\"authentic\" + 0.030*\"logistic\"'),\n",
      " (13,\n",
      "  '0.250*\"senior\" + 0.161*\"marketing\" + 0.143*\"manager\" + 0.054*\"title\" + '\n",
      "  '0.054*\"benefit\" + 0.054*\"scientist\" + 0.036*\"technology\" + 0.036*\"lead\" + '\n",
      "  '0.036*\"working\" + 0.018*\"infosec\"'),\n",
      " (10,\n",
      "  '0.236*\"product\" + 0.182*\"advisor\" + 0.164*\"experience\" + 0.036*\"contract\" + '\n",
      "  '0.036*\"people\" + 0.036*\"msft\" + 0.036*\"assistant\" + 0.036*\"executive\" + '\n",
      "  '0.018*\"solution\" + 0.018*\"undergo\"'),\n",
      " (11,\n",
      "  '0.535*\"microsoft\" + 0.140*\"intern\" + 0.023*\"skill\" + 0.023*\"long\" + '\n",
      "  '0.023*\"explorer\" + 0.023*\"comp\" + 0.023*\"excellent\" + '\n",
      "  '0.023*\"partnerchannel\" + 0.023*\"parttime\" + 0.023*\"support\"'),\n",
      " (2,\n",
      "  '0.278*\"place\" + 0.222*\"program\" + 0.130*\"awesome\" + 0.074*\"business\" + '\n",
      "  '0.056*\"analyst\" + 0.056*\"politic\" + 0.056*\"pay\" + 0.019*\"design\" + '\n",
      "  '0.019*\"datum\" + 0.019*\"physical\"'),\n",
      " (22,\n",
      "  '0.212*\"love\" + 0.154*\"director\" + 0.135*\"excellent\" + 0.077*\"review\" + '\n",
      "  '0.058*\"enterprise\" + 0.038*\"finance\" + 0.038*\"solid\" + 0.038*\"politic\" + '\n",
      "  '0.038*\"build\" + 0.019*\"machine\"'),\n",
      " (24,\n",
      "  '0.278*\"place\" + 0.194*\"account\" + 0.056*\"terrible\" + 0.028*\"fab\" + '\n",
      "  '0.028*\"tenure\" + 0.028*\"campus\" + 0.028*\"project\" + 0.028*\"autonomy\" + '\n",
      "  '0.028*\"gatekeeper\" + 0.028*\"incredibly\"'),\n",
      " (7,\n",
      "  '0.200*\"balance\" + 0.150*\"microsoft\" + 0.150*\"life\" + 0.083*\"culture\" + '\n",
      "  '0.067*\"worklife\" + 0.050*\"company\" + 0.033*\"satya\" + 0.017*\"politic\" + '\n",
      "  '0.017*\"ssp\" + 0.017*\"manage\"'),\n",
      " (23,\n",
      "  '0.516*\"company\" + 0.145*\"job\" + 0.032*\"employee\" + 0.032*\"project\" + '\n",
      "  '0.016*\"excite\" + 0.016*\"thing\" + 0.016*\"success\" + 0.016*\"terminating\" + '\n",
      "  '0.016*\"network\" + 0.016*\"dysfunctional\"'),\n",
      " (16,\n",
      "  '0.477*\"great\" + 0.068*\"tech\" + 0.045*\"retail\" + 0.045*\"time\" + 0.045*\"pay\" '\n",
      "  '+ 0.023*\"age\" + 0.023*\"actively\" + 0.023*\"slowly\" + 0.023*\"care\" + '\n",
      "  '0.023*\"service\"'),\n",
      " (1,\n",
      "  '0.623*\"good\" + 0.038*\"software\" + 0.038*\"average\" + 0.019*\"low\" + '\n",
      "  '0.019*\"main\" + 0.019*\"occupational\" + 0.019*\"pleasant\" + 0.019*\"global\" + '\n",
      "  '0.019*\"tough\" + 0.019*\"village\"'),\n",
      " (9,\n",
      "  '0.227*\"company\" + 0.114*\"job\" + 0.114*\"depend\" + 0.114*\"review\" + '\n",
      "  '0.091*\"bad\" + 0.068*\"software\" + 0.023*\"datum\" + 0.023*\"honestly\" + '\n",
      "  '0.023*\"digital\" + 0.023*\"back\"')]\n"
     ]
    }
   ],
   "source": [
    "# Select the model with highest coherence value and print the topics\n",
    "optimal_model = model_list[4] # the 4th index from above output\n",
    "model_topics = optimal_model.show_topics(formatted=False)\n",
    "pprint(optimal_model.print_topics(num_words=10)) # set num_words parament to show 10 words per topic"
   ]
  },
  {
   "cell_type": "markdown",
   "metadata": {
    "heading_collapsed": true,
    "hidden": true
   },
   "source": [
    "### Visual the Optimal LDA Mallet Model"
   ]
  },
  {
   "cell_type": "code",
   "execution_count": 164,
   "metadata": {
    "hidden": true
   },
   "outputs": [
    {
     "data": {
      "image/png": "[encoded data removed]",
      "text/plain": [
       "<Figure size 720x720 with 4 Axes>"
      ]
     },
     "metadata": {
      "needs_background": "light"
     },
     "output_type": "display_data"
    }
   ],
   "source": [
    "# Wordcloud of Top N words in each topic\n",
    "from matplotlib import pyplot as plt\n",
    "from wordcloud import WordCloud, STOPWORDS\n",
    "import matplotlib.colors as mcolors\n",
    "\n",
    "cols = [color for name, color in mcolors.TABLEAU_COLORS.items()]  # more colors: 'mcolors.XKCD_COLORS'\n",
    "\n",
    "cloud = WordCloud(stopwords=stop_words,\n",
    "                  background_color='white',\n",
    "                  width=2500,\n",
    "                  height=1800,\n",
    "                  max_words=10,\n",
    "                  colormap='tab10',\n",
    "                  color_func=lambda *args, **kwargs: cols[i],\n",
    "                  prefer_horizontal=1.0)\n",
    "\n",
    "topics = optimal_model.show_topics(formatted=False)\n",
    "\n",
    "fig, axes = plt.subplots(2, 2, figsize=(10,10), sharex=True, sharey=True)\n",
    "\n",
    "for i, ax in enumerate(axes.flatten()):\n",
    "    fig.add_subplot(ax)\n",
    "    topic_words = dict(topics[i][1])\n",
    "    cloud.generate_from_frequencies(topic_words, max_font_size=300)\n",
    "    plt.gca().imshow(cloud)\n",
    "    plt.gca().set_title('Topic ' + str(i), fontdict=dict(size=16))\n",
    "    plt.gca().axis('off')\n",
    "\n",
    "\n",
    "plt.subplots_adjust(wspace=0, hspace=0)\n",
    "plt.axis('off')\n",
    "plt.margins(x=0, y=0)\n",
    "plt.tight_layout()\n",
    "plt.show()"
   ]
  },
  {
   "cell_type": "markdown",
   "metadata": {
    "heading_collapsed": true,
    "hidden": true
   },
   "source": [
    "## Analysis"
   ]
  },
  {
   "cell_type": "markdown",
   "metadata": {
    "heading_collapsed": true,
    "hidden": true
   },
   "source": [
    "### Finding topics for each document"
   ]
  },
  {
   "cell_type": "code",
   "execution_count": 165,
   "metadata": {
    "hidden": true
   },
   "outputs": [
    {
     "data": {
      "text/html": [
       "<div>\n",
       "<style scoped>\n",
       "    .dataframe tbody tr th:only-of-type {\n",
       "        vertical-align: middle;\n",
       "    }\n",
       "\n",
       "    .dataframe tbody tr th {\n",
       "        vertical-align: top;\n",
       "    }\n",
       "\n",
       "    .dataframe thead th {\n",
       "        text-align: right;\n",
       "    }\n",
       "</style>\n",
       "<table border=\"1\" class=\"dataframe\">\n",
       "  <thead>\n",
       "    <tr style=\"text-align: right;\">\n",
       "      <th></th>\n",
       "      <th>Document_No</th>\n",
       "      <th>Dominant_Topic</th>\n",
       "      <th>Topic_Perc_Contrib</th>\n",
       "      <th>Keywords</th>\n",
       "      <th>Document</th>\n",
       "    </tr>\n",
       "  </thead>\n",
       "  <tbody>\n",
       "    <tr>\n",
       "      <th>0</th>\n",
       "      <td>0</td>\n",
       "      <td>11.0</td>\n",
       "      <td>0.0508</td>\n",
       "      <td>microsoft, intern, skill, long, explorer, comp...</td>\n",
       "      <td>Microsoft</td>\n",
       "    </tr>\n",
       "    <tr>\n",
       "      <th>1</th>\n",
       "      <td>1</td>\n",
       "      <td>15.0</td>\n",
       "      <td>0.0541</td>\n",
       "      <td>place, amazing, year, senior, sde, customer, s...</td>\n",
       "      <td>Thoughts after  years</td>\n",
       "    </tr>\n",
       "    <tr>\n",
       "      <th>2</th>\n",
       "      <td>2</td>\n",
       "      <td>12.0</td>\n",
       "      <td>0.0552</td>\n",
       "      <td>work, technical, employer, azure, growth, acco...</td>\n",
       "      <td>Technical Account Manager</td>\n",
       "    </tr>\n",
       "    <tr>\n",
       "      <th>3</th>\n",
       "      <td>3</td>\n",
       "      <td>18.0</td>\n",
       "      <td>0.0455</td>\n",
       "      <td>great, ms, learning, lucky, solid, advancement...</td>\n",
       "      <td>Great company</td>\n",
       "    </tr>\n",
       "    <tr>\n",
       "      <th>4</th>\n",
       "      <td>4</td>\n",
       "      <td>23.0</td>\n",
       "      <td>0.0489</td>\n",
       "      <td>company, job, employee, project, excite, thing...</td>\n",
       "      <td>Great Company to work for</td>\n",
       "    </tr>\n",
       "    <tr>\n",
       "      <th>5</th>\n",
       "      <td>5</td>\n",
       "      <td>17.0</td>\n",
       "      <td>0.0541</td>\n",
       "      <td>manager, program, solution, principal, slow, m...</td>\n",
       "      <td>Sr Program Manager</td>\n",
       "    </tr>\n",
       "    <tr>\n",
       "      <th>6</th>\n",
       "      <td>6</td>\n",
       "      <td>0.0</td>\n",
       "      <td>0.0468</td>\n",
       "      <td>work, intern, place, control, regular, moment,...</td>\n",
       "      <td>Great place to work</td>\n",
       "    </tr>\n",
       "    <tr>\n",
       "      <th>7</th>\n",
       "      <td>7</td>\n",
       "      <td>23.0</td>\n",
       "      <td>0.0477</td>\n",
       "      <td>company, job, employee, project, excite, thing...</td>\n",
       "      <td>Great company</td>\n",
       "    </tr>\n",
       "    <tr>\n",
       "      <th>8</th>\n",
       "      <td>8</td>\n",
       "      <td>0.0</td>\n",
       "      <td>0.0447</td>\n",
       "      <td>work, intern, place, control, regular, moment,...</td>\n",
       "      <td>Great company to work for</td>\n",
       "    </tr>\n",
       "    <tr>\n",
       "      <th>9</th>\n",
       "      <td>9</td>\n",
       "      <td>11.0</td>\n",
       "      <td>0.0541</td>\n",
       "      <td>microsoft, intern, skill, long, explorer, comp...</td>\n",
       "      <td>Microsoft Work Culture Review</td>\n",
       "    </tr>\n",
       "  </tbody>\n",
       "</table>\n",
       "</div>"
      ],
      "text/plain": [
       "   Document_No  Dominant_Topic  Topic_Perc_Contrib  \\\n",
       "0            0            11.0              0.0508   \n",
       "1            1            15.0              0.0541   \n",
       "2            2            12.0              0.0552   \n",
       "3            3            18.0              0.0455   \n",
       "4            4            23.0              0.0489   \n",
       "5            5            17.0              0.0541   \n",
       "6            6             0.0              0.0468   \n",
       "7            7            23.0              0.0477   \n",
       "8            8             0.0              0.0447   \n",
       "9            9            11.0              0.0541   \n",
       "\n",
       "                                            Keywords  \\\n",
       "0  microsoft, intern, skill, long, explorer, comp...   \n",
       "1  place, amazing, year, senior, sde, customer, s...   \n",
       "2  work, technical, employer, azure, growth, acco...   \n",
       "3  great, ms, learning, lucky, solid, advancement...   \n",
       "4  company, job, employee, project, excite, thing...   \n",
       "5  manager, program, solution, principal, slow, m...   \n",
       "6  work, intern, place, control, regular, moment,...   \n",
       "7  company, job, employee, project, excite, thing...   \n",
       "8  work, intern, place, control, regular, moment,...   \n",
       "9  microsoft, intern, skill, long, explorer, comp...   \n",
       "\n",
       "                        Document  \n",
       "0                      Microsoft  \n",
       "1          Thoughts after  years  \n",
       "2      Technical Account Manager  \n",
       "3                  Great company  \n",
       "4      Great Company to work for  \n",
       "5             Sr Program Manager  \n",
       "6            Great place to work  \n",
       "7                  Great company  \n",
       "8      Great company to work for  \n",
       "9  Microsoft Work Culture Review  "
      ]
     },
     "execution_count": 165,
     "metadata": {},
     "output_type": "execute_result"
    }
   ],
   "source": [
    "def format_topics_sentences(ldamodel=optimal_model, corpus=corpus, texts=data):\n",
    "    # Create DataFrame\n",
    "    sent_topics_df = pd.DataFrame()\n",
    "\n",
    "    # Get dominant topic in each document\n",
    "    for i, row in enumerate(ldamodel[corpus]):                   # call the optimal_model from LdaMallet (ldamodel=optimal_model)\n",
    "        row = sorted(row, key=lambda x: (x[1]), reverse=True)    # sort the dominant topic for each document (use row[0] for windows)\n",
    "        \n",
    "        \n",
    "        # Get the Dominant topic, Perc Contribution and Keywords for each document\n",
    "        for j, (topic_num, prop_topic) in enumerate(row):\n",
    "            if j == 0:                                           # dominant topic\n",
    "                wp = ldamodel.show_topic(topic_num)              # show the dominant topic column (topic_num)\n",
    "                topic_keywords = \", \".join([word for word, prop in wp])   # add keywords column to each dominant topic column\n",
    "                sent_topics_df = sent_topics_df.append(pd.Series([int(topic_num), round(prop_topic,4), topic_keywords]), ignore_index=True)\n",
    "                # add to dataframe columns: dominant topic (topic_num), perc_contribution (prop_topic (4 decimal)),\n",
    "                # and keywords (topic_keywords)\n",
    "            else:\n",
    "                break\n",
    "    sent_topics_df.columns = ['Dominant_Topic', 'Perc_Contribution', 'Topic_Keywords'] # create dataframe title\n",
    "    # Essentially, we sort the dominant topic for each document,\n",
    "    # Then we add keywords column to each dominant topic column for each document, and append it to our sent_topics_df dataframe\n",
    "    # (dataframe now include: dominant topic (topic_num), perc_contribution (prop_topic (4 decimal)), and keywords (topic_keywords))\n",
    "    # Note that prop_topic is perc_contribution from output of keywords and their respective weights (ie. 'window', 0.0235866)\n",
    "    # Finally name the dataframe columns for topic_num, prop_topic, topic_keywords to Dominant_topic, Perc_Contribution and Topic_Keywords\n",
    "    \n",
    "        \n",
    "    # Add original text to the end of the output (recall that texts = data_lemmatized)\n",
    "    contents = pd.Series(texts)\n",
    "    sent_topics_df = pd.concat([sent_topics_df, contents], axis=1)\n",
    "    return(sent_topics_df)\n",
    "    # we take out sent_topics_df dataframe that is configured, and add our texts to it\n",
    "\n",
    "    \n",
    "df_topic_sents_keywords = format_topics_sentences(ldamodel=optimal_model, corpus=corpus, texts=data)\n",
    "# texts=data since that is what we assigned in the format_topics_sentences function, but in the function we already\n",
    "# called and added our data (texts=data_lemmatized) to the dataframe, which is why now we use texts=data default parameter\n",
    "\n",
    "\n",
    "# Format\n",
    "df_dominant_topic = df_topic_sents_keywords.reset_index()       # re-index\n",
    "df_dominant_topic.columns = ['Document_No', 'Dominant_Topic', 'Topic_Perc_Contrib', 'Keywords', 'Document']\n",
    "# name all the columns for the DataFrame\n",
    "\n",
    "# Show\n",
    "df_dominant_topic.head(10)"
   ]
  },
  {
   "cell_type": "markdown",
   "metadata": {
    "heading_collapsed": true,
    "hidden": true
   },
   "source": [
    "### Finding documents for each topic"
   ]
  },
  {
   "cell_type": "code",
   "execution_count": 166,
   "metadata": {
    "hidden": true
   },
   "outputs": [
    {
     "data": {
      "text/html": [
       "<div>\n",
       "<style scoped>\n",
       "    .dataframe tbody tr th:only-of-type {\n",
       "        vertical-align: middle;\n",
       "    }\n",
       "\n",
       "    .dataframe tbody tr th {\n",
       "        vertical-align: top;\n",
       "    }\n",
       "\n",
       "    .dataframe thead th {\n",
       "        text-align: right;\n",
       "    }\n",
       "</style>\n",
       "<table border=\"1\" class=\"dataframe\">\n",
       "  <thead>\n",
       "    <tr style=\"text-align: right;\">\n",
       "      <th></th>\n",
       "      <th>Topic_Num</th>\n",
       "      <th>Topic_Perc_Contrib</th>\n",
       "      <th>Keywords</th>\n",
       "      <th>Document</th>\n",
       "    </tr>\n",
       "  </thead>\n",
       "  <tbody>\n",
       "    <tr>\n",
       "      <th>0</th>\n",
       "      <td>0.0</td>\n",
       "      <td>0.0719</td>\n",
       "      <td>work, intern, place, control, regular, moment,...</td>\n",
       "      <td>Chaos with moments of clarity</td>\n",
       "    </tr>\n",
       "    <tr>\n",
       "      <th>1</th>\n",
       "      <td>1.0</td>\n",
       "      <td>0.0603</td>\n",
       "      <td>good, software, average, low, main, occupation...</td>\n",
       "      <td>Good benefits not the best culture</td>\n",
       "    </tr>\n",
       "    <tr>\n",
       "      <th>2</th>\n",
       "      <td>2.0</td>\n",
       "      <td>0.0690</td>\n",
       "      <td>place, program, awesome, business, analyst, po...</td>\n",
       "      <td>Sr Business Analyst</td>\n",
       "    </tr>\n",
       "    <tr>\n",
       "      <th>3</th>\n",
       "      <td>3.0</td>\n",
       "      <td>0.0573</td>\n",
       "      <td>work, manager, swe, coach, success, track, med...</td>\n",
       "      <td>SWE</td>\n",
       "    </tr>\n",
       "    <tr>\n",
       "      <th>4</th>\n",
       "      <td>4.0</td>\n",
       "      <td>0.0541</td>\n",
       "      <td>good, work, engineer, data, farstill, premier,...</td>\n",
       "      <td>Sr Data Scientist</td>\n",
       "    </tr>\n",
       "    <tr>\n",
       "      <th>5</th>\n",
       "      <td>5.0</td>\n",
       "      <td>0.0706</td>\n",
       "      <td>sale, great, team, sde, professional, store, g...</td>\n",
       "      <td>Technical Solutions Professional Sales  Dont d...</td>\n",
       "    </tr>\n",
       "    <tr>\n",
       "      <th>6</th>\n",
       "      <td>6.0</td>\n",
       "      <td>0.0774</td>\n",
       "      <td>culture, benefit, consultant, group, good, env...</td>\n",
       "      <td>Top notch benefits and work like balance</td>\n",
       "    </tr>\n",
       "    <tr>\n",
       "      <th>7</th>\n",
       "      <td>7.0</td>\n",
       "      <td>0.0726</td>\n",
       "      <td>balance, microsoft, life, culture, worklife, c...</td>\n",
       "      <td>Good work life balance</td>\n",
       "    </tr>\n",
       "    <tr>\n",
       "      <th>8</th>\n",
       "      <td>8.0</td>\n",
       "      <td>0.0810</td>\n",
       "      <td>great, career, specialist, microsoft, satya, s...</td>\n",
       "      <td>Average culture great benefits great career st...</td>\n",
       "    </tr>\n",
       "    <tr>\n",
       "      <th>9</th>\n",
       "      <td>9.0</td>\n",
       "      <td>0.0747</td>\n",
       "      <td>company, job, depend, review, bad, software, d...</td>\n",
       "      <td>The best thing I can say is it is not the wors...</td>\n",
       "    </tr>\n",
       "    <tr>\n",
       "      <th>10</th>\n",
       "      <td>10.0</td>\n",
       "      <td>0.0754</td>\n",
       "      <td>product, advisor, experience, contract, people...</td>\n",
       "      <td>Product Advisor</td>\n",
       "    </tr>\n",
       "    <tr>\n",
       "      <th>11</th>\n",
       "      <td>11.0</td>\n",
       "      <td>0.0712</td>\n",
       "      <td>microsoft, intern, skill, long, explorer, comp...</td>\n",
       "      <td>Explorer Intern</td>\n",
       "    </tr>\n",
       "    <tr>\n",
       "      <th>12</th>\n",
       "      <td>12.0</td>\n",
       "      <td>0.0891</td>\n",
       "      <td>work, technical, employer, azure, growth, acco...</td>\n",
       "      <td>Company lets managers and leads publicly repri...</td>\n",
       "    </tr>\n",
       "    <tr>\n",
       "      <th>13</th>\n",
       "      <td>13.0</td>\n",
       "      <td>0.0747</td>\n",
       "      <td>senior, marketing, manager, title, benefit, sc...</td>\n",
       "      <td>Senior Product Marketing Manager</td>\n",
       "    </tr>\n",
       "    <tr>\n",
       "      <th>14</th>\n",
       "      <td>14.0</td>\n",
       "      <td>0.0624</td>\n",
       "      <td>company, place, team, support, opportunity, ex...</td>\n",
       "      <td>Great Company with Great Benifits</td>\n",
       "    </tr>\n",
       "    <tr>\n",
       "      <th>15</th>\n",
       "      <td>15.0</td>\n",
       "      <td>0.0661</td>\n",
       "      <td>place, amazing, year, senior, sde, customer, s...</td>\n",
       "      <td>Amazing Retail Opportunity Not an amazing care...</td>\n",
       "    </tr>\n",
       "    <tr>\n",
       "      <th>16</th>\n",
       "      <td>16.0</td>\n",
       "      <td>0.0665</td>\n",
       "      <td>great, tech, retail, time, pay, age, actively,...</td>\n",
       "      <td>Tech giant that gives you what youd expect</td>\n",
       "    </tr>\n",
       "    <tr>\n",
       "      <th>17</th>\n",
       "      <td>17.0</td>\n",
       "      <td>0.0782</td>\n",
       "      <td>manager, program, solution, principal, slow, m...</td>\n",
       "      <td>Principal Program Manager</td>\n",
       "    </tr>\n",
       "    <tr>\n",
       "      <th>18</th>\n",
       "      <td>18.0</td>\n",
       "      <td>0.1117</td>\n",
       "      <td>great, ms, learning, lucky, solid, advancement...</td>\n",
       "      <td>Great if youre lucky to work at MS Terrible if...</td>\n",
       "    </tr>\n",
       "    <tr>\n",
       "      <th>19</th>\n",
       "      <td>19.0</td>\n",
       "      <td>0.0656</td>\n",
       "      <td>great, change, research, bureaucracy, review, ...</td>\n",
       "      <td>Big coroporate habits</td>\n",
       "    </tr>\n",
       "    <tr>\n",
       "      <th>20</th>\n",
       "      <td>20.0</td>\n",
       "      <td>0.0871</td>\n",
       "      <td>software, engineering, development, retail, ma...</td>\n",
       "      <td>Principle Software Engineering manager</td>\n",
       "    </tr>\n",
       "    <tr>\n",
       "      <th>21</th>\n",
       "      <td>21.0</td>\n",
       "      <td>0.0766</td>\n",
       "      <td>engineer, field, senior, finance, decade, pm, ...</td>\n",
       "      <td>Premier Field Engineer  Services  Data  AI domain</td>\n",
       "    </tr>\n",
       "    <tr>\n",
       "      <th>22</th>\n",
       "      <td>22.0</td>\n",
       "      <td>0.0601</td>\n",
       "      <td>love, director, excellent, review, enterprise,...</td>\n",
       "      <td>Love new and kinder Microsoft under Satya but ...</td>\n",
       "    </tr>\n",
       "    <tr>\n",
       "      <th>23</th>\n",
       "      <td>23.0</td>\n",
       "      <td>0.0551</td>\n",
       "      <td>company, job, employee, project, excite, thing...</td>\n",
       "      <td>Sr PFE</td>\n",
       "    </tr>\n",
       "    <tr>\n",
       "      <th>24</th>\n",
       "      <td>24.0</td>\n",
       "      <td>0.0859</td>\n",
       "      <td>place, account, terrible, fab, tenure, campus,...</td>\n",
       "      <td>Microsoftis focused on hiring young and termin...</td>\n",
       "    </tr>\n",
       "    <tr>\n",
       "      <th>25</th>\n",
       "      <td>25.0</td>\n",
       "      <td>0.0562</td>\n",
       "      <td>engineer, benefit, customer, assistant, level,...</td>\n",
       "      <td>Useful experience but no mobility</td>\n",
       "    </tr>\n",
       "  </tbody>\n",
       "</table>\n",
       "</div>"
      ],
      "text/plain": [
       "    Topic_Num  Topic_Perc_Contrib  \\\n",
       "0         0.0              0.0719   \n",
       "1         1.0              0.0603   \n",
       "2         2.0              0.0690   \n",
       "3         3.0              0.0573   \n",
       "4         4.0              0.0541   \n",
       "5         5.0              0.0706   \n",
       "6         6.0              0.0774   \n",
       "7         7.0              0.0726   \n",
       "8         8.0              0.0810   \n",
       "9         9.0              0.0747   \n",
       "10       10.0              0.0754   \n",
       "11       11.0              0.0712   \n",
       "12       12.0              0.0891   \n",
       "13       13.0              0.0747   \n",
       "14       14.0              0.0624   \n",
       "15       15.0              0.0661   \n",
       "16       16.0              0.0665   \n",
       "17       17.0              0.0782   \n",
       "18       18.0              0.1117   \n",
       "19       19.0              0.0656   \n",
       "20       20.0              0.0871   \n",
       "21       21.0              0.0766   \n",
       "22       22.0              0.0601   \n",
       "23       23.0              0.0551   \n",
       "24       24.0              0.0859   \n",
       "25       25.0              0.0562   \n",
       "\n",
       "                                             Keywords  \\\n",
       "0   work, intern, place, control, regular, moment,...   \n",
       "1   good, software, average, low, main, occupation...   \n",
       "2   place, program, awesome, business, analyst, po...   \n",
       "3   work, manager, swe, coach, success, track, med...   \n",
       "4   good, work, engineer, data, farstill, premier,...   \n",
       "5   sale, great, team, sde, professional, store, g...   \n",
       "6   culture, benefit, consultant, group, good, env...   \n",
       "7   balance, microsoft, life, culture, worklife, c...   \n",
       "8   great, career, specialist, microsoft, satya, s...   \n",
       "9   company, job, depend, review, bad, software, d...   \n",
       "10  product, advisor, experience, contract, people...   \n",
       "11  microsoft, intern, skill, long, explorer, comp...   \n",
       "12  work, technical, employer, azure, growth, acco...   \n",
       "13  senior, marketing, manager, title, benefit, sc...   \n",
       "14  company, place, team, support, opportunity, ex...   \n",
       "15  place, amazing, year, senior, sde, customer, s...   \n",
       "16  great, tech, retail, time, pay, age, actively,...   \n",
       "17  manager, program, solution, principal, slow, m...   \n",
       "18  great, ms, learning, lucky, solid, advancement...   \n",
       "19  great, change, research, bureaucracy, review, ...   \n",
       "20  software, engineering, development, retail, ma...   \n",
       "21  engineer, field, senior, finance, decade, pm, ...   \n",
       "22  love, director, excellent, review, enterprise,...   \n",
       "23  company, job, employee, project, excite, thing...   \n",
       "24  place, account, terrible, fab, tenure, campus,...   \n",
       "25  engineer, benefit, customer, assistant, level,...   \n",
       "\n",
       "                                             Document  \n",
       "0                       Chaos with moments of clarity  \n",
       "1                  Good benefits not the best culture  \n",
       "2                                 Sr Business Analyst  \n",
       "3                                                 SWE  \n",
       "4                                   Sr Data Scientist  \n",
       "5   Technical Solutions Professional Sales  Dont d...  \n",
       "6            Top notch benefits and work like balance  \n",
       "7                              Good work life balance  \n",
       "8   Average culture great benefits great career st...  \n",
       "9   The best thing I can say is it is not the wors...  \n",
       "10                                    Product Advisor  \n",
       "11                                    Explorer Intern  \n",
       "12  Company lets managers and leads publicly repri...  \n",
       "13                   Senior Product Marketing Manager  \n",
       "14                  Great Company with Great Benifits  \n",
       "15  Amazing Retail Opportunity Not an amazing care...  \n",
       "16         Tech giant that gives you what youd expect  \n",
       "17                          Principal Program Manager  \n",
       "18  Great if youre lucky to work at MS Terrible if...  \n",
       "19                              Big coroporate habits  \n",
       "20             Principle Software Engineering manager  \n",
       "21  Premier Field Engineer  Services  Data  AI domain  \n",
       "22  Love new and kinder Microsoft under Satya but ...  \n",
       "23                                             Sr PFE  \n",
       "24  Microsoftis focused on hiring young and termin...  \n",
       "25                  Useful experience but no mobility  "
      ]
     },
     "execution_count": 166,
     "metadata": {},
     "output_type": "execute_result"
    }
   ],
   "source": [
    "# Group top 26 documents for the 26 dominant topic\n",
    "sent_topics_sorteddf_mallet = pd.DataFrame() # Create a new DataFrame for our analysis\n",
    "\n",
    "sent_topics_outdf_grpd = df_topic_sents_keywords.groupby('Dominant_Topic') \n",
    "# Groupyby dominant topics in df_topic_sents_keywords from above (where we derived the DataFrame showing dominant topic for each document)\n",
    "\n",
    "for i, grp in sent_topics_outdf_grpd:\n",
    "    sent_topics_sorteddf_mallet = pd.concat([sent_topics_sorteddf_mallet, grp.sort_values(['Perc_Contribution'], ascending=[0]).head(1)], axis=0)\n",
    "# Take sent_topics_sorteddf_mallet DataFrame and combine it with,\n",
    "# the most (head(1)) dominant topic in sent_topcs_outdf_grpd (grp) sort by perc_contribution\n",
    "# Essentially, we take our dataset with dominant topics and group it with texts that has the most contribution for each dominant topic\n",
    "\n",
    "# Reset Index    \n",
    "sent_topics_sorteddf_mallet.reset_index(drop=True, inplace=True)\n",
    "\n",
    "# Format\n",
    "sent_topics_sorteddf_mallet.columns = ['Topic_Num', \"Topic_Perc_Contrib\", \"Keywords\", \"Document\"]\n",
    "\n",
    "# Show the top 26 documents for the 26 dominant topic\n",
    "sent_topics_sorteddf_mallet "
   ]
  },
  {
   "cell_type": "markdown",
   "metadata": {
    "heading_collapsed": true,
    "hidden": true
   },
   "source": [
    "### Document distribution across Topics"
   ]
  },
  {
   "cell_type": "code",
   "execution_count": 167,
   "metadata": {
    "hidden": true
   },
   "outputs": [
    {
     "data": {
      "text/html": [
       "<div>\n",
       "<style scoped>\n",
       "    .dataframe tbody tr th:only-of-type {\n",
       "        vertical-align: middle;\n",
       "    }\n",
       "\n",
       "    .dataframe tbody tr th {\n",
       "        vertical-align: top;\n",
       "    }\n",
       "\n",
       "    .dataframe thead th {\n",
       "        text-align: right;\n",
       "    }\n",
       "</style>\n",
       "<table border=\"1\" class=\"dataframe\">\n",
       "  <thead>\n",
       "    <tr style=\"text-align: right;\">\n",
       "      <th></th>\n",
       "      <th>Dominant Topic</th>\n",
       "      <th>Num_Document</th>\n",
       "      <th>Perc_Document</th>\n",
       "    </tr>\n",
       "  </thead>\n",
       "  <tbody>\n",
       "    <tr>\n",
       "      <th>0</th>\n",
       "      <td>0.0</td>\n",
       "      <td>29</td>\n",
       "      <td>0.058</td>\n",
       "    </tr>\n",
       "    <tr>\n",
       "      <th>1</th>\n",
       "      <td>1.0</td>\n",
       "      <td>20</td>\n",
       "      <td>0.040</td>\n",
       "    </tr>\n",
       "    <tr>\n",
       "      <th>2</th>\n",
       "      <td>2.0</td>\n",
       "      <td>24</td>\n",
       "      <td>0.048</td>\n",
       "    </tr>\n",
       "    <tr>\n",
       "      <th>3</th>\n",
       "      <td>3.0</td>\n",
       "      <td>12</td>\n",
       "      <td>0.024</td>\n",
       "    </tr>\n",
       "    <tr>\n",
       "      <th>4</th>\n",
       "      <td>4.0</td>\n",
       "      <td>12</td>\n",
       "      <td>0.024</td>\n",
       "    </tr>\n",
       "    <tr>\n",
       "      <th>5</th>\n",
       "      <td>5.0</td>\n",
       "      <td>20</td>\n",
       "      <td>0.040</td>\n",
       "    </tr>\n",
       "    <tr>\n",
       "      <th>6</th>\n",
       "      <td>6.0</td>\n",
       "      <td>19</td>\n",
       "      <td>0.038</td>\n",
       "    </tr>\n",
       "    <tr>\n",
       "      <th>7</th>\n",
       "      <td>7.0</td>\n",
       "      <td>17</td>\n",
       "      <td>0.034</td>\n",
       "    </tr>\n",
       "    <tr>\n",
       "      <th>8</th>\n",
       "      <td>8.0</td>\n",
       "      <td>23</td>\n",
       "      <td>0.046</td>\n",
       "    </tr>\n",
       "    <tr>\n",
       "      <th>9</th>\n",
       "      <td>9.0</td>\n",
       "      <td>15</td>\n",
       "      <td>0.030</td>\n",
       "    </tr>\n",
       "    <tr>\n",
       "      <th>10</th>\n",
       "      <td>10.0</td>\n",
       "      <td>24</td>\n",
       "      <td>0.048</td>\n",
       "    </tr>\n",
       "    <tr>\n",
       "      <th>11</th>\n",
       "      <td>11.0</td>\n",
       "      <td>25</td>\n",
       "      <td>0.050</td>\n",
       "    </tr>\n",
       "    <tr>\n",
       "      <th>12</th>\n",
       "      <td>12.0</td>\n",
       "      <td>18</td>\n",
       "      <td>0.036</td>\n",
       "    </tr>\n",
       "    <tr>\n",
       "      <th>13</th>\n",
       "      <td>13.0</td>\n",
       "      <td>23</td>\n",
       "      <td>0.046</td>\n",
       "    </tr>\n",
       "    <tr>\n",
       "      <th>14</th>\n",
       "      <td>14.0</td>\n",
       "      <td>19</td>\n",
       "      <td>0.038</td>\n",
       "    </tr>\n",
       "    <tr>\n",
       "      <th>15</th>\n",
       "      <td>15.0</td>\n",
       "      <td>21</td>\n",
       "      <td>0.042</td>\n",
       "    </tr>\n",
       "    <tr>\n",
       "      <th>16</th>\n",
       "      <td>16.0</td>\n",
       "      <td>9</td>\n",
       "      <td>0.018</td>\n",
       "    </tr>\n",
       "    <tr>\n",
       "      <th>17</th>\n",
       "      <td>17.0</td>\n",
       "      <td>28</td>\n",
       "      <td>0.056</td>\n",
       "    </tr>\n",
       "    <tr>\n",
       "      <th>18</th>\n",
       "      <td>18.0</td>\n",
       "      <td>15</td>\n",
       "      <td>0.030</td>\n",
       "    </tr>\n",
       "    <tr>\n",
       "      <th>19</th>\n",
       "      <td>19.0</td>\n",
       "      <td>18</td>\n",
       "      <td>0.036</td>\n",
       "    </tr>\n",
       "    <tr>\n",
       "      <th>20</th>\n",
       "      <td>20.0</td>\n",
       "      <td>39</td>\n",
       "      <td>0.078</td>\n",
       "    </tr>\n",
       "    <tr>\n",
       "      <th>21</th>\n",
       "      <td>21.0</td>\n",
       "      <td>9</td>\n",
       "      <td>0.018</td>\n",
       "    </tr>\n",
       "    <tr>\n",
       "      <th>22</th>\n",
       "      <td>22.0</td>\n",
       "      <td>26</td>\n",
       "      <td>0.052</td>\n",
       "    </tr>\n",
       "    <tr>\n",
       "      <th>23</th>\n",
       "      <td>23.0</td>\n",
       "      <td>16</td>\n",
       "      <td>0.032</td>\n",
       "    </tr>\n",
       "    <tr>\n",
       "      <th>24</th>\n",
       "      <td>24.0</td>\n",
       "      <td>8</td>\n",
       "      <td>0.016</td>\n",
       "    </tr>\n",
       "    <tr>\n",
       "      <th>25</th>\n",
       "      <td>25.0</td>\n",
       "      <td>11</td>\n",
       "      <td>0.022</td>\n",
       "    </tr>\n",
       "  </tbody>\n",
       "</table>\n",
       "</div>"
      ],
      "text/plain": [
       "    Dominant Topic  Num_Document  Perc_Document\n",
       "0              0.0            29          0.058\n",
       "1              1.0            20          0.040\n",
       "2              2.0            24          0.048\n",
       "3              3.0            12          0.024\n",
       "4              4.0            12          0.024\n",
       "5              5.0            20          0.040\n",
       "6              6.0            19          0.038\n",
       "7              7.0            17          0.034\n",
       "8              8.0            23          0.046\n",
       "9              9.0            15          0.030\n",
       "10            10.0            24          0.048\n",
       "11            11.0            25          0.050\n",
       "12            12.0            18          0.036\n",
       "13            13.0            23          0.046\n",
       "14            14.0            19          0.038\n",
       "15            15.0            21          0.042\n",
       "16            16.0             9          0.018\n",
       "17            17.0            28          0.056\n",
       "18            18.0            15          0.030\n",
       "19            19.0            18          0.036\n",
       "20            20.0            39          0.078\n",
       "21            21.0             9          0.018\n",
       "22            22.0            26          0.052\n",
       "23            23.0            16          0.032\n",
       "24            24.0             8          0.016\n",
       "25            25.0            11          0.022"
      ]
     },
     "execution_count": 167,
     "metadata": {},
     "output_type": "execute_result"
    }
   ],
   "source": [
    "# Number of Documents for Each Topic\n",
    "topic_counts = df_topic_sents_keywords['Dominant_Topic'].value_counts()\n",
    "\n",
    "# Percentage of overall Documents for Each Topic (round to 4 decimals)\n",
    "topic_contribution = round(topic_counts/topic_counts.sum(), 4)\n",
    "\n",
    "# Total Dominant Topic Number\n",
    "topic_num_keywords = {'Topic_Num': pd.Series([0.0,1.0,2.0,3.0,4.0,5.0,6.0,7.0,8.0,9.0,10.0,\n",
    "                                              11.0,12.0,13.0,14.0,15.0,16.0,17.0,18.0,19.0,\n",
    "                                              20.0,21.0,22.0,23.0,24.0,25.0])}\n",
    "topic_num_keywords = pd.DataFrame(topic_num_keywords)\n",
    "                      \n",
    "# Concatenate Column wise\n",
    "df_dominant_topics = pd.concat([topic_num_keywords, topic_counts, topic_contribution], axis=1)\n",
    "\n",
    "# Reindex\n",
    "df_dominant_topics.reset_index(drop=True, inplace=True)\n",
    "\n",
    "# Change Column names\n",
    "df_dominant_topics.columns = ['Dominant Topic', 'Num_Document', 'Perc_Document']\n",
    "\n",
    "# Show\n",
    "df_dominant_topics"
   ]
  },
  {
   "cell_type": "markdown",
   "metadata": {
    "heading_collapsed": true,
    "hidden": true
   },
   "source": [
    "## Answering the Questions"
   ]
  },
  {
   "cell_type": "markdown",
   "metadata": {
    "heading_collapsed": true
   },
   "source": [
    "# Answering the Final Questions"
   ]
  }
 ],
 "metadata": {
  "kernelspec": {
   "display_name": "Python 3",
   "language": "python",
   "name": "python3"
  },
  "language_info": {
   "codemirror_mode": {
    "name": "ipython",
    "version": 3
   },
   "file_extension": ".py",
   "mimetype": "text/x-python",
   "name": "python",
   "nbconvert_exporter": "python",
   "pygments_lexer": "ipython3",
   "version": "3.7.2"
  },
  "toc": {
   "base_numbering": 1,
   "nav_menu": {},
   "number_sections": true,
   "sideBar": false,
   "skip_h1_title": false,
   "title_cell": "Table of Contents",
   "title_sidebar": "Contents",
   "toc_cell": false,
   "toc_position": {
    "height": "325px",
    "left": "1242.66px",
    "top": "65.4688px",
    "width": "197.344px"
   },
   "toc_section_display": true,
   "toc_window_display": true
  }
 },
 "nbformat": 4,
 "nbformat_minor": 2
}
