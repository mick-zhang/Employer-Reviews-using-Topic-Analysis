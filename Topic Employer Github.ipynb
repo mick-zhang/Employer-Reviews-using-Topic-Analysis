{
 "cells": [
  {
   "cell_type": "markdown",
   "metadata": {
    "heading_collapsed": true
   },
   "source": [
    "# 1 Framing the Problem"
   ]
  },
  {
   "cell_type": "markdown",
   "metadata": {
    "hidden": true
   },
   "source": [
    "Employers are always striving to motivate, and create a pleasant work environment for their team members, with the goal of increasing productivity levels, while maintaining strong employee retentions. It's also not a coincidence that each year, Employers are competing to land on the top 100 rankings such as \"[Canada's Top 100 Employers](https://www.canadastop100.com/)\" and \"[Great Place To Work.](https://www.greatplacetowork.ca)\"\n",
    "\n",
    "In order to evaluate the quality of each Employers, we need to analyze Employer Reviews written by both former and current Employees to determine the results. Luckily, \"[Glassdoor](https://www.glassdoor.ca)\" was created for this reason, which gives an inside scope of each Employers. By understanding the main topics in each Employer Reviews, Employers can then make adjustment to improve their work environment, which ultimately improves Employee productivity/retention.\n",
    "\n",
    "However, some Employers have hundreds and thousands of reviews, which can take up a lot of time and resource to complete before determining the results.\n",
    "<br>\n",
    "<br>\n",
    "\n",
    "**Business Solutions:**\n",
    "\n",
    "To solve this issue, we will extract the main topics from all Employer Reviews for each Employer, to determine the overall consensus.\n",
    "\n",
    "We will perform an <u>unsupervised learning</u> algorithm called Topic Modeling, with Latent Dirichlet Allocation (LDA) Model, and LDA Mallet (Machine Learning Language Toolkit) Model.\n",
    "\n",
    "We will also determine the dominant topic associated to each Employee Reviews, as well as determining the Employee Reviews for each dominant topics for an in-depth analysis.\n",
    "<br>\n",
    "<br>\n",
    "\n",
    "**Benefits:**\n",
    "- Efficiently determine the main topics of Employer Reviews\n",
    "- Increase Employee productivity/retention by improving work environments based on topics from Employer Reviews\n",
    "- Conveniently determine the topics of each review\n",
    "- Extract detailed information by determining the most relevant review for each topic \n",
    "<br>\n",
    "<br>\n",
    "\n",
    "**Robustness:**\n",
    "\n",
    "To ensure the model performs well, we will take the following approach:\n",
    "- Run the LDA Model and the LDA Mallet Model to compare the performances of each model\n",
    "- Run the LDA Mallet Model and optimize the number of topics in the Employer Reviews by choosing the optimal model with highest performance\n",
    "\n",
    "<u>Note</u> that the main different between LDA Model vs. LDA Mallet Model is that LDA Model uses Variational Bayes method which is faster, but less precise than LDA Mallet Model which uses Gibbs Sampling. \n",
    "<br>\n",
    "<br>\n",
    "\n",
    "**Assumption:**\n",
    "- To save computation power and time, we have taken a sample size of 500 for each Employers, and assuming that this dataset is sufficient to capture the topics in the Employer Reviews\n",
    "- We're also assuming that the results in this model is applicable in the same way, as if the model were applied on an entire population of the Employer Reviews dataset, with the exception of few parameter tweaks \n",
    "<br>\n",
    "<br>\n",
    "\n",
    "**Future:**\n",
    "\n",
    "This is model is a Part Two of the \"[Quality Control for Banking using LDA and LDA Mallet,](https://nbviewer.jupyter.org/github/mick-zhang/Quality-Control-for-Banking-using-LDA-and-LDA-Mallet/blob/master/Topic%20Bank%20Github.ipynb?flush_cache=true)\" where we're able to showcase information on Employer Reviews with full visualization of the results."
   ]
  },
  {
   "cell_type": "markdown",
   "metadata": {
    "heading_collapsed": true
   },
   "source": [
    "# 2 Data Overview"
   ]
  },
  {
   "cell_type": "code",
   "execution_count": 1,
   "metadata": {
    "hidden": true,
    "scrolled": true
   },
   "outputs": [
    {
     "data": {
      "text/html": [
       "<div>\n",
       "<style scoped>\n",
       "    .dataframe tbody tr th:only-of-type {\n",
       "        vertical-align: middle;\n",
       "    }\n",
       "\n",
       "    .dataframe tbody tr th {\n",
       "        vertical-align: top;\n",
       "    }\n",
       "\n",
       "    .dataframe thead th {\n",
       "        text-align: right;\n",
       "    }\n",
       "</style>\n",
       "<table border=\"1\" class=\"dataframe\">\n",
       "  <thead>\n",
       "    <tr style=\"text-align: right;\">\n",
       "      <th></th>\n",
       "      <th>Unnamed: 0</th>\n",
       "      <th>company</th>\n",
       "      <th>location</th>\n",
       "      <th>dates</th>\n",
       "      <th>job-title</th>\n",
       "      <th>summary</th>\n",
       "      <th>pros</th>\n",
       "      <th>cons</th>\n",
       "      <th>advice-to-mgmt</th>\n",
       "      <th>overall-ratings</th>\n",
       "      <th>work-balance-stars</th>\n",
       "      <th>culture-values-stars</th>\n",
       "      <th>carrer-opportunities-stars</th>\n",
       "      <th>comp-benefit-stars</th>\n",
       "      <th>senior-mangemnet-stars</th>\n",
       "      <th>helpful-count</th>\n",
       "      <th>link</th>\n",
       "    </tr>\n",
       "  </thead>\n",
       "  <tbody>\n",
       "    <tr>\n",
       "      <th>0</th>\n",
       "      <td>1</td>\n",
       "      <td>google</td>\n",
       "      <td>none</td>\n",
       "      <td>Dec 11, 2018</td>\n",
       "      <td>Current Employee - Anonymous Employee</td>\n",
       "      <td>Best Company to work for</td>\n",
       "      <td>People are smart and friendly</td>\n",
       "      <td>Bureaucracy is slowing things down</td>\n",
       "      <td>none</td>\n",
       "      <td>5.0</td>\n",
       "      <td>4.0</td>\n",
       "      <td>5.0</td>\n",
       "      <td>5.0</td>\n",
       "      <td>4.0</td>\n",
       "      <td>5.0</td>\n",
       "      <td>0</td>\n",
       "      <td>https://www.glassdoor.com/Reviews/Google-Revie...</td>\n",
       "    </tr>\n",
       "    <tr>\n",
       "      <th>1</th>\n",
       "      <td>2</td>\n",
       "      <td>google</td>\n",
       "      <td>Mountain View, CA</td>\n",
       "      <td>Jun 21, 2013</td>\n",
       "      <td>Former Employee - Program Manager</td>\n",
       "      <td>Moving at the speed of light, burn out is inev...</td>\n",
       "      <td>1) Food, food, food. 15+ cafes on main campus ...</td>\n",
       "      <td>1) Work/life balance. What balance? All those ...</td>\n",
       "      <td>1) Don't dismiss emotional intelligence and ad...</td>\n",
       "      <td>4.0</td>\n",
       "      <td>2.0</td>\n",
       "      <td>3.0</td>\n",
       "      <td>3.0</td>\n",
       "      <td>5.0</td>\n",
       "      <td>3.0</td>\n",
       "      <td>2094</td>\n",
       "      <td>https://www.glassdoor.com/Reviews/Google-Revie...</td>\n",
       "    </tr>\n",
       "    <tr>\n",
       "      <th>2</th>\n",
       "      <td>3</td>\n",
       "      <td>google</td>\n",
       "      <td>New York, NY</td>\n",
       "      <td>May 10, 2014</td>\n",
       "      <td>Current Employee - Software Engineer III</td>\n",
       "      <td>Great balance between big-company security and...</td>\n",
       "      <td>* If you're a software engineer, you're among ...</td>\n",
       "      <td>* It *is* becoming larger, and with it comes g...</td>\n",
       "      <td>Keep the focus on the user. Everything else wi...</td>\n",
       "      <td>5.0</td>\n",
       "      <td>5.0</td>\n",
       "      <td>4.0</td>\n",
       "      <td>5.0</td>\n",
       "      <td>5.0</td>\n",
       "      <td>4.0</td>\n",
       "      <td>949</td>\n",
       "      <td>https://www.glassdoor.com/Reviews/Google-Revie...</td>\n",
       "    </tr>\n",
       "    <tr>\n",
       "      <th>3</th>\n",
       "      <td>4</td>\n",
       "      <td>google</td>\n",
       "      <td>Mountain View, CA</td>\n",
       "      <td>Feb 8, 2015</td>\n",
       "      <td>Current Employee - Anonymous Employee</td>\n",
       "      <td>The best place I've worked and also the most d...</td>\n",
       "      <td>You can't find a more well-regarded company th...</td>\n",
       "      <td>I live in SF so the commute can take between 1...</td>\n",
       "      <td>Keep on NOT micromanaging - that is a huge ben...</td>\n",
       "      <td>5.0</td>\n",
       "      <td>2.0</td>\n",
       "      <td>5.0</td>\n",
       "      <td>5.0</td>\n",
       "      <td>4.0</td>\n",
       "      <td>5.0</td>\n",
       "      <td>498</td>\n",
       "      <td>https://www.glassdoor.com/Reviews/Google-Revie...</td>\n",
       "    </tr>\n",
       "    <tr>\n",
       "      <th>4</th>\n",
       "      <td>5</td>\n",
       "      <td>google</td>\n",
       "      <td>Los Angeles, CA</td>\n",
       "      <td>Jul 19, 2018</td>\n",
       "      <td>Former Employee - Software Engineer</td>\n",
       "      <td>Unique, one of a kind dream job</td>\n",
       "      <td>Google is a world of its own. At every other c...</td>\n",
       "      <td>If you don't work in MTV (HQ), you will be giv...</td>\n",
       "      <td>Promote managers into management for their man...</td>\n",
       "      <td>5.0</td>\n",
       "      <td>5.0</td>\n",
       "      <td>5.0</td>\n",
       "      <td>5.0</td>\n",
       "      <td>5.0</td>\n",
       "      <td>5.0</td>\n",
       "      <td>49</td>\n",
       "      <td>https://www.glassdoor.com/Reviews/Google-Revie...</td>\n",
       "    </tr>\n",
       "  </tbody>\n",
       "</table>\n",
       "</div>"
      ],
      "text/plain": [
       "   Unnamed: 0 company           location          dates  \\\n",
       "0           1  google               none   Dec 11, 2018   \n",
       "1           2  google  Mountain View, CA   Jun 21, 2013   \n",
       "2           3  google       New York, NY   May 10, 2014   \n",
       "3           4  google  Mountain View, CA    Feb 8, 2015   \n",
       "4           5  google    Los Angeles, CA   Jul 19, 2018   \n",
       "\n",
       "                                  job-title  \\\n",
       "0     Current Employee - Anonymous Employee   \n",
       "1         Former Employee - Program Manager   \n",
       "2  Current Employee - Software Engineer III   \n",
       "3     Current Employee - Anonymous Employee   \n",
       "4       Former Employee - Software Engineer   \n",
       "\n",
       "                                             summary  \\\n",
       "0                           Best Company to work for   \n",
       "1  Moving at the speed of light, burn out is inev...   \n",
       "2  Great balance between big-company security and...   \n",
       "3  The best place I've worked and also the most d...   \n",
       "4                    Unique, one of a kind dream job   \n",
       "\n",
       "                                                pros  \\\n",
       "0                      People are smart and friendly   \n",
       "1  1) Food, food, food. 15+ cafes on main campus ...   \n",
       "2  * If you're a software engineer, you're among ...   \n",
       "3  You can't find a more well-regarded company th...   \n",
       "4  Google is a world of its own. At every other c...   \n",
       "\n",
       "                                                cons  \\\n",
       "0                 Bureaucracy is slowing things down   \n",
       "1  1) Work/life balance. What balance? All those ...   \n",
       "2  * It *is* becoming larger, and with it comes g...   \n",
       "3  I live in SF so the commute can take between 1...   \n",
       "4  If you don't work in MTV (HQ), you will be giv...   \n",
       "\n",
       "                                      advice-to-mgmt  overall-ratings  \\\n",
       "0                                               none              5.0   \n",
       "1  1) Don't dismiss emotional intelligence and ad...              4.0   \n",
       "2  Keep the focus on the user. Everything else wi...              5.0   \n",
       "3  Keep on NOT micromanaging - that is a huge ben...              5.0   \n",
       "4  Promote managers into management for their man...              5.0   \n",
       "\n",
       "  work-balance-stars culture-values-stars carrer-opportunities-stars  \\\n",
       "0                4.0                  5.0                        5.0   \n",
       "1                2.0                  3.0                        3.0   \n",
       "2                5.0                  4.0                        5.0   \n",
       "3                2.0                  5.0                        5.0   \n",
       "4                5.0                  5.0                        5.0   \n",
       "\n",
       "  comp-benefit-stars senior-mangemnet-stars  helpful-count  \\\n",
       "0                4.0                    5.0              0   \n",
       "1                5.0                    3.0           2094   \n",
       "2                5.0                    4.0            949   \n",
       "3                4.0                    5.0            498   \n",
       "4                5.0                    5.0             49   \n",
       "\n",
       "                                                link  \n",
       "0  https://www.glassdoor.com/Reviews/Google-Revie...  \n",
       "1  https://www.glassdoor.com/Reviews/Google-Revie...  \n",
       "2  https://www.glassdoor.com/Reviews/Google-Revie...  \n",
       "3  https://www.glassdoor.com/Reviews/Google-Revie...  \n",
       "4  https://www.glassdoor.com/Reviews/Google-Revie...  "
      ]
     },
     "execution_count": 1,
     "metadata": {},
     "output_type": "execute_result"
    }
   ],
   "source": [
    "import pandas as pd\n",
    "csv = (\"employee_reviews.csv\")\n",
    "df = pd.read_csv(csv, encoding='latin1') # Solves enocding issue when importing csv\n",
    "df.head(5)"
   ]
  },
  {
   "cell_type": "code",
   "execution_count": 2,
   "metadata": {
    "hidden": true,
    "scrolled": false
   },
   "outputs": [
    {
     "data": {
      "text/plain": [
       "array(['google', 'amazon', 'facebook', 'netflix', 'apple', 'microsoft'],\n",
       "      dtype=object)"
      ]
     },
     "execution_count": 2,
     "metadata": {},
     "output_type": "execute_result"
    }
   ],
   "source": [
    "df['company'].unique()"
   ]
  },
  {
   "cell_type": "markdown",
   "metadata": {
    "hidden": true
   },
   "source": [
    "After importing the data, we see that the \"summary\" column is where the Employer Reviews are for each Employers. This is the column that we are going to use for extracting topics.\n",
    "\n",
    "Also, we see that there are 5 different Employers under the \"company\" column. As a result, we will review each company individually to capture the results of the Employer Reviews.\n",
    "\n",
    "<u>Note</u>: To reduce redundancy, we will showcase the steps below for the 1st Employer, and only the results for other Employers. The same steps that we will use for the 1st Employer can be replicated for other Employers."
   ]
  },
  {
   "cell_type": "markdown",
   "metadata": {
    "heading_collapsed": true
   },
   "source": [
    "# 3 Topics Analysis for Google"
   ]
  },
  {
   "cell_type": "code",
   "execution_count": 3,
   "metadata": {
    "hidden": true,
    "scrolled": true
   },
   "outputs": [],
   "source": [
    "# Filters to Google only\n",
    "dfg = df[df['company'] == 'google']\n",
    "\n",
    "# Filters the data to the column needed for topic modeling\n",
    "dfg = dfg[['summary']]\n",
    "\n",
    "# Use the first 500 sample size\n",
    "dfg = dfg.head(500)"
   ]
  },
  {
   "cell_type": "markdown",
   "metadata": {
    "hidden": true
   },
   "source": [
    "Here we filter the dataset to the 1st Employer, and then we filtered to \"summary\" column for Employer Reviews. Lastly, we reduced the size of the sample to 500 to save computation time and power."
   ]
  },
  {
   "cell_type": "markdown",
   "metadata": {
    "heading_collapsed": true
   },
   "source": [
    "# 4 Data Cleaning"
   ]
  },
  {
   "cell_type": "markdown",
   "metadata": {
    "hidden": true
   },
   "source": [
    "We will use regular expressions to clean out any unfavorable characters in our dataset, and then preview what the data looks like after the cleaning."
   ]
  },
  {
   "cell_type": "code",
   "execution_count": 7,
   "metadata": {
    "hidden": true
   },
   "outputs": [
    {
     "name": "stdout",
     "output_type": "stream",
     "text": [
      "['Best Company to work for']\n"
     ]
    }
   ],
   "source": [
    "data = dfg['summary'].values.tolist() # convert to list\n",
    "\n",
    "# Use Regex to remove all characters except letters and space\n",
    "import re\n",
    "data = [re.sub(r'[^a-zA-Z ]+', '', str(sent)) for sent in data] \n",
    "\n",
    "# Preview the first list of the cleansed data\n",
    "from pprint import pprint\n",
    "pprint(data[:1])"
   ]
  },
  {
   "cell_type": "markdown",
   "metadata": {
    "heading_collapsed": true
   },
   "source": [
    "# 5 Pre-Processing"
   ]
  },
  {
   "cell_type": "markdown",
   "metadata": {
    "hidden": true
   },
   "source": [
    "With our data now cleaned, the next step is to pre-process our data so that it can used as an input for our LDA model.\n",
    "\n",
    "We will perform the following:\n",
    "- Breakdown each sentences into a list of words through Tokenization by using Gensim's `simple_preprocess`\n",
    "- Additional cleaning by converting text into lowercase, and removing punctuations by using Gensim's `simple_preprocess` once again\n",
    "- Remove stopwords (words that carry no meaning such as to, the, etc) by using NLTK's `corpus.stopwords`\n",
    "- Apply Bigram and Trigram model for words that occurs together (ie. warrant_proceeding, there_isnt_enough) by using Gensim's `models.phrases.Phraser`\n",
    "- Transform words to their root words (ie. walking to walk, mice to mouse) by Lemmatizing the text using `spacy.load(en)` which is Spacy's English dictionary"
   ]
  },
  {
   "cell_type": "code",
   "execution_count": 11,
   "metadata": {
    "hidden": true
   },
   "outputs": [
    {
     "name": "stdout",
     "output_type": "stream",
     "text": [
      "[['good', 'company', 'work']]\n"
     ]
    }
   ],
   "source": [
    "# Implement simple_preprocess for Tokenization and additional Cleaning\n",
    "import gensim\n",
    "from gensim.utils import simple_preprocess \n",
    "def sent_to_words(sentences):\n",
    "    for sentence in sentences:\n",
    "        yield(gensim.utils.simple_preprocess(str(sentence), deacc=True)) # deacc=True removes punctuations       \n",
    "data_words = list(sent_to_words(data))\n",
    "\n",
    "\n",
    "# Remove stopwords using gensim's simple_preprocess and NLTK's stopwords\n",
    "from nltk.corpus import stopwords\n",
    "stop_words = stopwords.words('english')\n",
    "stop_words.extend(['from', 'subject', 're', 'edu', 'use']) # add additional stop words\n",
    "def remove_stopwords(texts):\n",
    "    return [[word for word in simple_preprocess(str(doc)) if word not in stop_words] for doc in texts]   \n",
    "data_words_nostops = remove_stopwords(data_words)\n",
    "\n",
    "\n",
    "# Create and Apply Bigrams and Trigrams\n",
    "bigram = gensim.models.Phrases(data_words, min_count=5, threshold=100) # higher threshold fewer phrases\n",
    "trigram = gensim.models.Phrases(bigram[data_words], threshold=100\n",
    "bigram_mod = gensim.models.phrases.Phraser(bigram)    # Faster way to get a sentence into a trigram/bigram\n",
    "trigram_mod = gensim.models.phrases.Phraser(trigram)\n",
    "def make_trigram(texts):\n",
    "    return [trigram_mod[bigram_mod[doc]] for doc in texts]\n",
    "data_words_trigrams = make_trigram(data_words_nostops)\n",
    "                                \n",
    "\n",
    "# Lemmatize the data\n",
    "import spacy\n",
    "nlp = spacy.load('en', disable=['parser', 'ner'])\n",
    "def lemmatization(texts, allowed_postags=['NOUN', 'ADJ', 'VERB', 'ADV']):\n",
    "    texts_out = []\n",
    "    for sent in texts:\n",
    "        doc = nlp(\" \".join(sent)) # adds English dictionary from Spacy\n",
    "        texts_out.append([token.lemma_ for token in doc if token.pos_ in allowed_postags])\n",
    "        # lemma_ is base form and pos_ is lose part\n",
    "    return texts_out\n",
    "data_lemmatized = lemmatization(data_words_trigrams, allowed_postags=['NOUN', 'ADJ', 'VERB', 'ADV'])\n",
    "\n",
    "                                \n",
    "# Preview the data     \n",
    "print(data_lemmatized[:1])"
   ]
  },
  {
   "cell_type": "markdown",
   "metadata": {
    "hidden": true
   },
   "source": [
    "Here we see texts that are Tokenized, Cleaned (stopwords removed), Lemmatized with applicable bigram and trigrams."
   ]
  },
  {
   "cell_type": "markdown",
   "metadata": {
    "heading_collapsed": true
   },
   "source": [
    "# 6 Prepare Dictionary and Corpus"
   ]
  },
  {
   "cell_type": "markdown",
   "metadata": {
    "hidden": true
   },
   "source": [
    "Now that are data has been cleaned and pre-processed, here are the final steps that we need to implement before our data is ready for LDA input:\n",
    "- Create a dictionary from our pre-processed data using Gensim's `corpora.Dictionary`\n",
    "- Create a corpus by applying \"term frequency\" (word count) to our \"pre-processed data dictionary\" using Gensim's `.doc2bow`"
   ]
  },
  {
   "cell_type": "code",
   "execution_count": 12,
   "metadata": {
    "hidden": true
   },
   "outputs": [
    {
     "name": "stdout",
     "output_type": "stream",
     "text": [
      "[[(0, 1), (1, 1), (2, 1)]]\n"
     ]
    }
   ],
   "source": [
    "import gensim.corpora as corpora\n",
    "id2word = corpora.Dictionary(data_lemmatized)      # Create dictionary\n",
    "texts = data_lemmatized                            # Create corpus\n",
    "corpus = [id2word.doc2bow(text) for text in texts] # Apply Term Frequency\n",
    "print(corpus[:1])                                  # Preview the data"
   ]
  },
  {
   "cell_type": "markdown",
   "metadata": {
    "hidden": true
   },
   "source": [
    "We can see that our corpus is a list of every word in an index form followed by their count frequency."
   ]
  },
  {
   "cell_type": "code",
   "execution_count": 13,
   "metadata": {
    "hidden": true
   },
   "outputs": [
    {
     "data": {
      "text/plain": [
       "'company'"
      ]
     },
     "execution_count": 13,
     "metadata": {},
     "output_type": "execute_result"
    }
   ],
   "source": [
    "id2word[0]"
   ]
  },
  {
   "cell_type": "markdown",
   "metadata": {
    "hidden": true
   },
   "source": [
    "We can also see the actual word of each index by calling the index from our pre-processed data dictionary."
   ]
  },
  {
   "cell_type": "code",
   "execution_count": 14,
   "metadata": {
    "hidden": true
   },
   "outputs": [
    {
     "data": {
      "text/plain": [
       "[[('company', 1), ('good', 1), ('work', 1)]]"
      ]
     },
     "execution_count": 14,
     "metadata": {},
     "output_type": "execute_result"
    }
   ],
   "source": [
    "[[(id2word[id], freq) for id, freq in cp] for cp in corpus[:1]]"
   ]
  },
  {
   "cell_type": "markdown",
   "metadata": {
    "hidden": true
   },
   "source": [
    "Lastly, we can see the list of every word in actual word (instead of index form) followed by their count frequency using a simple `for` loop.\n",
    "\n",
    "Now that we have created our dictionary and corpus, we can now feed the data into our LDA Model."
   ]
  },
  {
   "cell_type": "markdown",
   "metadata": {
    "heading_collapsed": true
   },
   "source": [
    "# 7 LDA Model"
   ]
  },
  {
   "cell_type": "markdown",
   "metadata": {
    "hidden": true
   },
   "source": [
    "**Latent (hidden) Dirichlet Allocation** is a generative probabilistic model of a documents (composites) made up of words (parts). The model is based on the probability of words when selecting (sampling) topics (category), and the probability of selecting topics when selecting a document.\n",
    "\n",
    "Essentially we are extracting topics in documents by looking at the probability of words to determine the topics, and then the probability of topics to determine the document. \n",
    "\n",
    "There are two LDA algorithms. The **Variational Bayes** is used by Gensim's **LDA Model**, while **Gibb's Sampling** is used by **LDA Mallet Model** using Gensim's Wrapper package.\n",
    "\n",
    "Here is the general overview of Variational Bayes and Gibbs Sampling:\n",
    "- **Variational Bayes**\n",
    "    - Sampling the variations between each word (part or variable) to determine which topic it belongs to (but some variations cannot be explained)\n",
    "    - Fast but less accurate\n",
    "- **Gibb's Sampling (Markov Chain Monte Carlos)**\n",
    "    - Sampling one variable at a time, conditional upon all other variables\n",
    "    - Slow but more accurate"
   ]
  },
  {
   "cell_type": "code",
   "execution_count": 15,
   "metadata": {
    "hidden": true,
    "scrolled": true
   },
   "outputs": [
    {
     "name": "stdout",
     "output_type": "stream",
     "text": [
      "[(0,\n",
      "  '0.102*\"google\" + 0.071*\"great\" + 0.036*\"sale\" + 0.029*\"job\" + 0.024*\"pay\" + '\n",
      "  '0.023*\"love\" + 0.022*\"perk\" + 0.022*\"balance\" + 0.020*\"internship\" + '\n",
      "  '0.018*\"business\"'),\n",
      " (1,\n",
      "  '0.054*\"experience\" + 0.040*\"lead\" + 0.023*\"grad\" + 0.023*\"associate\" + '\n",
      "  '0.020*\"analytical\" + 0.019*\"designer\" + 0.017*\"strategist\" + 0.011*\"brand\" '\n",
      "  '+ 0.010*\"solution\" + 0.010*\"interactive\"'),\n",
      " (2,\n",
      "  '0.172*\"manager\" + 0.063*\"account\" + 0.044*\"program\" + 0.041*\"senior\" + '\n",
      "  '0.038*\"product\" + 0.025*\"marketing\" + 0.024*\"culture\" + 0.022*\"bad\" + '\n",
      "  '0.020*\"staff\" + 0.017*\"new\"'),\n",
      " (3,\n",
      "  '0.233*\"engineer\" + 0.206*\"software\" + 0.071*\"review\" + 0.022*\"cloud\" + '\n",
      "  '0.016*\"engineering\" + 0.015*\"developer\" + 0.014*\"pgm\" + 0.013*\"need\" + '\n",
      "  '0.013*\"senior\" + 0.011*\"legal\"'),\n",
      " (4,\n",
      "  '0.166*\"work\" + 0.143*\"good\" + 0.141*\"place\" + 0.139*\"great\" + '\n",
      "  '0.112*\"company\" + 0.013*\"career\" + 0.012*\"awesome\" + 0.011*\"excellent\" + '\n",
      "  '0.008*\"start\" + 0.008*\"stuff\"'),\n",
      " (5,\n",
      "  '0.070*\"intern\" + 0.067*\"amazing\" + 0.055*\"analyst\" + 0.027*\"technical\" + '\n",
      "  '0.025*\"specialist\" + 0.020*\"long\" + 0.017*\"skill\" + 0.017*\"term\" + '\n",
      "  '0.017*\"come\" + 0.013*\"sure\"'),\n",
      " (6,\n",
      "  '0.123*\"great\" + 0.056*\"people\" + 0.044*\"benefit\" + 0.029*\"culture\" + '\n",
      "  '0.027*\"overall\" + 0.023*\"director\" + 0.023*\"meh\" + 0.021*\"lot\" + '\n",
      "  '0.020*\"many\" + 0.019*\"time\"')]\n"
     ]
    }
   ],
   "source": [
    "# Build LDA Model\n",
    "lda_model = gensim.models.ldamodel.LdaModel(corpus=corpus, id2word=id2word, num_topics = 7, random_state = 100,\n",
    "                                            update_every = 1, chunksize = 100, passes = 10, alpha = 'auto',\n",
    "                                            per_word_topics=True) # Here we selected 7 topics\n",
    "pprint(lda_model.print_topics())\n",
    "doc_lda = lda_model[corpus]"
   ]
  },
  {
   "cell_type": "markdown",
   "metadata": {
    "hidden": true
   },
   "source": [
    "After building the LDA Model using Gensim, we display the 7 topics in our document along with the top 10 keywords and their corresponding weights that makes up each topic."
   ]
  },
  {
   "cell_type": "markdown",
   "metadata": {
    "heading_collapsed": true
   },
   "source": [
    "# 8 LDA Model Performance"
   ]
  },
  {
   "cell_type": "code",
   "execution_count": 16,
   "metadata": {
    "hidden": true
   },
   "outputs": [
    {
     "name": "stdout",
     "output_type": "stream",
     "text": [
      "\n",
      "Perplexity:  -5.49701415002346\n",
      "\n",
      "Coherence Score:  0.6258108598839495\n"
     ]
    }
   ],
   "source": [
    "# Compute perplexity\n",
    "print('Perplexity: ', lda_model.log_perplexity(corpus))\n",
    "\n",
    "# Compute coherence score\n",
    "from gensim.models import CoherenceModel\n",
    "coherence_model_lda = CoherenceModel(model=lda_model, texts=data_lemmatized, dictionary=id2word, coherence='c_v')\n",
    "coherence_lda = coherence_model_lda.get_coherence()\n",
    "print('Coherence Score: ', coherence_lda)"
   ]
  },
  {
   "cell_type": "markdown",
   "metadata": {
    "hidden": true
   },
   "source": [
    "In order to determine the accuracy of the topics that we used, we will compute the Model Perplexity and Coherence Score. The Perplexity score measures how well the LDA Model predicts the sample (the lower the perplexity score, the better the model predicts). The Coherence score measures the quality of the topics that were learned (the higher the coherence score, the higher the quality of the learned topics).\n",
    "\n",
    "Here we see a **Perplexity score of -5.49** (negative due to log space), and **Coherence score of 0.62**. \n",
    "\n",
    "<u>Note</u>: We will use the Coherence score moving forward, since we want to optimizing the number of topics in our documents."
   ]
  },
  {
   "cell_type": "markdown",
   "metadata": {
    "heading_collapsed": true,
    "hidden": true
   },
   "source": [
    "## 8.1 Visualize LDA Model"
   ]
  },
  {
   "cell_type": "code",
   "execution_count": 17,
   "metadata": {
    "hidden": true
   },
   "outputs": [
    {
     "data": {
      "text/html": [
       "\n",
       "<link rel=\"stylesheet\" type=\"text/css\" href=\"https://cdn.rawgit.com/bmabey/pyLDAvis/files/ldavis.v1.0.0.css\">\n",
       "\n",
       "\n",
       "<div id=\"ldavis_el1410449026283527806664806\"></div>\n",
       "<script type=\"text/javascript\">\n",
       "\n",
       "var ldavis_el1410449026283527806664806_data = {\"mdsDat\": {\"x\": [-0.32297905138600463, -0.03958037826821574, 0.14649389345352962, -0.06863617504284956, 0.09355899390410827, 0.10181188997476803, 0.08933082736466384], \"y\": [-0.08175300590712588, 0.0822805703056501, -0.26387385100731847, 0.059029379198074224, 0.06895233033646146, 0.08142785042801379, 0.05393672664624508], \"topics\": [1, 2, 3, 4, 5, 6, 7], \"cluster\": [1, 1, 1, 1, 1, 1, 1], \"Freq\": [32.83757400512695, 13.668548583984375, 13.345621109008789, 10.81420612335205, 10.212361335754395, 10.01545238494873, 9.106243133544922]}, \"tinfo\": {\"Category\": [\"Default\", \"Default\", \"Default\", \"Default\", \"Default\", \"Default\", \"Default\", \"Default\", \"Default\", \"Default\", \"Default\", \"Default\", \"Default\", \"Default\", \"Default\", \"Default\", \"Default\", \"Default\", \"Default\", \"Default\", \"Default\", \"Default\", \"Default\", \"Default\", \"Default\", \"Default\", \"Default\", \"Default\", \"Default\", \"Default\", \"Topic1\", \"Topic1\", \"Topic1\", \"Topic1\", \"Topic1\", \"Topic1\", \"Topic1\", \"Topic1\", \"Topic1\", \"Topic1\", \"Topic1\", \"Topic1\", \"Topic1\", \"Topic1\", \"Topic1\", \"Topic1\", \"Topic1\", \"Topic1\", \"Topic1\", \"Topic1\", \"Topic1\", \"Topic1\", \"Topic1\", \"Topic1\", \"Topic1\", \"Topic1\", \"Topic1\", \"Topic1\", \"Topic1\", \"Topic1\", \"Topic1\", \"Topic1\", \"Topic1\", \"Topic2\", \"Topic2\", \"Topic2\", \"Topic2\", \"Topic2\", \"Topic2\", \"Topic2\", \"Topic2\", \"Topic2\", \"Topic2\", \"Topic2\", \"Topic2\", \"Topic2\", \"Topic2\", \"Topic2\", \"Topic2\", \"Topic2\", \"Topic2\", \"Topic2\", \"Topic2\", \"Topic2\", \"Topic2\", \"Topic2\", \"Topic2\", \"Topic2\", \"Topic2\", \"Topic2\", \"Topic2\", \"Topic2\", \"Topic2\", \"Topic2\", \"Topic2\", \"Topic2\", \"Topic3\", \"Topic3\", \"Topic3\", \"Topic3\", \"Topic3\", \"Topic3\", \"Topic3\", \"Topic3\", \"Topic3\", \"Topic3\", \"Topic3\", \"Topic3\", \"Topic3\", \"Topic3\", \"Topic3\", \"Topic3\", \"Topic3\", \"Topic3\", \"Topic3\", \"Topic3\", \"Topic3\", \"Topic3\", \"Topic3\", \"Topic3\", \"Topic3\", \"Topic3\", \"Topic3\", \"Topic3\", \"Topic3\", \"Topic3\", \"Topic3\", \"Topic3\", \"Topic3\", \"Topic3\", \"Topic3\", \"Topic4\", \"Topic4\", \"Topic4\", \"Topic4\", \"Topic4\", \"Topic4\", \"Topic4\", \"Topic4\", \"Topic4\", \"Topic4\", \"Topic4\", \"Topic4\", \"Topic4\", \"Topic4\", \"Topic4\", \"Topic4\", \"Topic4\", \"Topic4\", \"Topic4\", \"Topic4\", \"Topic4\", \"Topic4\", \"Topic4\", \"Topic4\", \"Topic4\", \"Topic4\", \"Topic4\", \"Topic4\", \"Topic4\", \"Topic4\", \"Topic4\", \"Topic4\", \"Topic4\", \"Topic5\", \"Topic5\", \"Topic5\", \"Topic5\", \"Topic5\", \"Topic5\", \"Topic5\", \"Topic5\", \"Topic5\", \"Topic5\", \"Topic5\", \"Topic5\", \"Topic5\", \"Topic5\", \"Topic5\", \"Topic5\", \"Topic5\", \"Topic5\", \"Topic5\", \"Topic5\", \"Topic5\", \"Topic5\", \"Topic5\", \"Topic5\", \"Topic5\", \"Topic5\", \"Topic5\", \"Topic5\", \"Topic5\", \"Topic5\", \"Topic5\", \"Topic5\", \"Topic5\", \"Topic5\", \"Topic5\", \"Topic5\", \"Topic6\", \"Topic6\", \"Topic6\", \"Topic6\", \"Topic6\", \"Topic6\", \"Topic6\", \"Topic6\", \"Topic6\", \"Topic6\", \"Topic6\", \"Topic6\", \"Topic6\", \"Topic6\", \"Topic6\", \"Topic6\", \"Topic6\", \"Topic6\", \"Topic6\", \"Topic6\", \"Topic6\", \"Topic6\", \"Topic6\", \"Topic6\", \"Topic6\", \"Topic6\", \"Topic6\", \"Topic6\", \"Topic6\", \"Topic6\", \"Topic6\", \"Topic6\", \"Topic6\", \"Topic7\", \"Topic7\", \"Topic7\", \"Topic7\", \"Topic7\", \"Topic7\", \"Topic7\", \"Topic7\", \"Topic7\", \"Topic7\", \"Topic7\", \"Topic7\", \"Topic7\", \"Topic7\", \"Topic7\", \"Topic7\", \"Topic7\", \"Topic7\", \"Topic7\", \"Topic7\", \"Topic7\", \"Topic7\", \"Topic7\", \"Topic7\", \"Topic7\", \"Topic7\", \"Topic7\", \"Topic7\", \"Topic7\", \"Topic7\", \"Topic7\"], \"Freq\": [38.0, 67.0, 34.0, 58.0, 57.0, 84.0, 21.0, 45.0, 17.0, 12.0, 9.0, 9.0, 8.0, 8.0, 7.0, 6.0, 6.0, 6.0, 7.0, 6.0, 5.0, 7.0, 5.0, 5.0, 4.0, 3.0, 4.0, 3.0, 4.0, 3.0, 67.0562973022461, 57.895687103271484, 56.93329620361328, 45.2241325378418, 5.0915141105651855, 4.724895477294922, 4.477944374084473, 3.1497325897216797, 3.14749813079834, 2.915370464324951, 2.7549824714660645, 2.680441379547119, 2.5409042835235596, 2.5409011840820312, 2.0909535884857178, 2.0676305294036865, 1.8558704853057861, 1.6391047239303589, 1.6391047239303589, 1.6390570402145386, 1.6374223232269287, 1.245077133178711, 1.245077133178711, 1.245077133178711, 1.245077133178711, 1.2450653314590454, 56.253379821777344, 0.9539234638214111, 0.9539148807525635, 0.9539148807525635, 0.9539148807525635, 2.9419515132904053, 1.6405389308929443, 17.086009979248047, 6.059212684631348, 4.89309024810791, 4.002798080444336, 3.910742998123169, 3.7638227939605713, 3.7117269039154053, 3.3223679065704346, 2.9672489166259766, 2.9053521156311035, 2.626434326171875, 2.2088732719421387, 2.094158887863159, 2.030747652053833, 1.9462275505065918, 1.6596497297286987, 1.395534634590149, 1.3519604206085205, 1.3510260581970215, 1.3510260581970215, 1.3510260581970215, 1.3510217666625977, 1.3510217666625977, 1.3510217666625977, 1.3510217666625977, 1.3509949445724487, 1.3509948253631592, 1.3509948253631592, 1.3509243726730347, 1.3503000736236572, 2.2085378170013428, 11.91110610961914, 1.350995421409607, 38.28720474243164, 33.88931655883789, 11.626160621643066, 3.6839396953582764, 2.6224589347839355, 2.540147542953491, 2.191788673400879, 1.8823615312576294, 1.8373610973358154, 1.7928557395935059, 1.790575623512268, 1.6503077745437622, 2.235130548477173, 1.417580485343933, 1.3065639734268188, 1.1177936792373657, 0.9925208687782288, 0.9925208687782288, 0.992507815361023, 0.992493212223053, 0.992493212223053, 0.992493212223053, 0.760408878326416, 0.760408878326416, 0.760408878326416, 0.7603980302810669, 0.5888873934745789, 0.5888873934745789, 0.5888728499412537, 0.5888407230377197, 0.5888407230377197, 0.9925311207771301, 2.0708227157592773, 0.8035035133361816, 0.5888933539390564, 7.406458854675293, 5.881549835205078, 3.6031365394592285, 3.108543872833252, 2.9991443157196045, 2.7548558712005615, 2.6445353031158447, 2.585252523422241, 2.29187273979187, 2.1651530265808105, 2.1650726795196533, 2.1646077632904053, 2.1634366512298584, 1.6269887685775757, 1.6268664598464966, 1.2881630659103394, 1.2881630659103394, 1.2877357006072998, 1.28749680519104, 1.28749680519104, 1.28749680519104, 1.1040399074554443, 0.9784998297691345, 0.9784998297691345, 0.978434681892395, 0.9783466458320618, 0.9783466458320618, 0.9783466458320618, 0.9783466458320618, 0.9782102108001709, 3.832228660583496, 16.40658187866211, 2.2495715618133545, 8.75853443145752, 8.468688011169434, 6.858291149139404, 3.3602516651153564, 3.1308932304382324, 2.4669201374053955, 2.1699891090393066, 2.169116735458374, 2.1678929328918457, 1.6415939331054688, 1.2914901971817017, 1.2914243936538696, 1.232225775718689, 1.10691237449646, 1.10691237449646, 1.1067801713943481, 1.1067581176757812, 1.106666922569275, 1.1066534519195557, 1.0626455545425415, 0.9810538291931152, 0.9810538291931152, 0.9810538291931152, 0.9810538291931152, 0.9810538291931152, 0.9810538291931152, 0.9810538291931152, 0.9810357093811035, 0.9810357093811035, 0.9810357093811035, 0.9810357093811035, 1.3318768739700317, 1.305426001548767, 0.9810357093811035, 0.9810357093811035, 0.9810357093811035, 21.22563362121582, 7.781006336212158, 5.461429595947266, 4.641599655151367, 3.022188663482666, 2.7554056644439697, 2.4148197174072266, 2.033250570297241, 1.9140188694000244, 1.850286602973938, 1.694126009941101, 1.5714147090911865, 1.5600253343582153, 1.2351512908935547, 1.2351512908935547, 1.2351443767547607, 1.2351443767547607, 1.2351291179656982, 1.2338104248046875, 1.2330316305160522, 5.059285640716553, 0.9382302761077881, 0.9382302761077881, 0.9381726980209351, 0.7765757441520691, 0.718815803527832, 0.7184945940971375, 0.718368649482727, 0.718368649482727, 0.7183673977851868, 2.9950215816497803, 1.235150694847107, 1.0585124492645264, 6.0946125984191895, 4.43355131149292, 2.6094462871551514, 2.5971314907073975, 2.1859400272369385, 2.1343326568603516, 1.9515271186828613, 1.287777304649353, 1.1380103826522827, 1.1380103826522827, 1.1380103826522827, 1.1380103826522827, 1.1380012035369873, 1.1380012035369873, 1.1380009651184082, 1.1380009651184082, 1.1379883289337158, 1.1379883289337158, 1.1379883289337158, 1.1379883289337158, 1.1379883289337158, 1.1379883289337158, 1.1379882097244263, 1.1379380226135254, 1.1379380226135254, 1.1379380226135254, 1.1379380226135254, 1.1379380226135254, 1.1379379034042358, 1.1379380226135254, 1.1379380226135254], \"Term\": [\"engineer\", \"work\", \"software\", \"good\", \"place\", \"great\", \"manager\", \"company\", \"google\", \"review\", \"intern\", \"amazing\", \"account\", \"people\", \"analyst\", \"experience\", \"benefit\", \"program\", \"senior\", \"sale\", \"lead\", \"culture\", \"product\", \"job\", \"overall\", \"technical\", \"pay\", \"specialist\", \"love\", \"marketing\", \"work\", \"good\", \"place\", \"company\", \"career\", \"awesome\", \"excellent\", \"start\", \"stuff\", \"big\", \"probably\", \"wonderful\", \"tech\", \"perfect\", \"nice\", \"build\", \"world\", \"googlex\", \"altering\", \"bump\", \"grow\", \"super\", \"dope\", \"generally\", \"reward\", \"generation\", \"great\", \"undeniably\", \"boost\", \"thing\", \"hectic\", \"still\", \"early\", \"google\", \"sale\", \"job\", \"pay\", \"love\", \"perk\", \"balance\", \"internship\", \"business\", \"fun\", \"everything\", \"would\", \"worklife\", \"technology\", \"hear\", \"partner\", \"summer\", \"life\", \"maybe\", \"exciting\", \"lifestyle\", \"mutual\", \"diversity\", \"add\", \"respect\", \"ad\", \"workload\", \"dev\", \"incredible\", \"obviously\", \"project\", \"great\", \"rough\", \"engineer\", \"software\", \"review\", \"cloud\", \"engineering\", \"developer\", \"need\", \"legal\", \"employee\", \"ceo\", \"customer\", \"write\", \"pgm\", \"practicum\", \"short\", \"depend\", \"glassdoor\", \"unlock\", \"iii\", \"assistant\", \"pm\", \"paradise\", \"reliability\", \"site\", \"force\", \"eng\", \"listen\", \"do\", \"hardware\", \"java\", \"peopleop\", \"content\", \"senior\", \"be\", \"not\", \"people\", \"benefit\", \"overall\", \"director\", \"meh\", \"lot\", \"many\", \"time\", \"environment\", \"phenomenal\", \"year\", \"development\", \"fix\", \"part\", \"learn\", \"active\", \"founder\", \"bureaucracy\", \"really\", \"improvement\", \"area\", \"opportunity\", \"equal\", \"create\", \"vendor\", \"promo\", \"care\", \"run\", \"full\", \"period\", \"culture\", \"great\", \"still\", \"intern\", \"amazing\", \"analyst\", \"technical\", \"specialist\", \"long\", \"skill\", \"term\", \"come\", \"sure\", \"recruiter\", \"say\", \"workplace\", \"hard\", \"beat\", \"know\", \"expectation\", \"hour\", \"best\", \"data\", \"artificial\", \"floor\", \"intelligence\", \"winner\", \"cry\", \"datacenter\", \"break\", \"quantitative\", \"analytic\", \"shiny\", \"apple\", \"ambitious\", \"be\", \"undervalue\", \"overpay\", \"massage\", \"manager\", \"account\", \"program\", \"product\", \"marketing\", \"bad\", \"staff\", \"new\", \"dream\", \"especially\", \"operation\", \"demand\", \"executive\", \"innovative\", \"wlb\", \"change\", \"disappoint\", \"industry\", \"poro\", \"worrying\", \"senior\", \"chef\", \"sous\", \"worker\", \"outstanding\", \"partnership\", \"youtube\", \"sterotype\", \"millenial\", \"find\", \"culture\", \"rough\", \"project\", \"experience\", \"lead\", \"grad\", \"associate\", \"analytical\", \"designer\", \"strategist\", \"brand\", \"consultant\", \"interactive\", \"solution\", \"sr\", \"school\", \"advanced\", \"educator\", \"childhood\", \"publisher\", \"vice\", \"president\", \"economically\", \"favorite\", \"adsense\", \"fulfillment\", \"geekland\", \"collaboration\", \"pry\", \"bright\", \"unethical\", \"management\", \"decline\", \"exact\"], \"Total\": [38.0, 67.0, 34.0, 58.0, 57.0, 84.0, 21.0, 45.0, 17.0, 12.0, 9.0, 9.0, 8.0, 8.0, 7.0, 6.0, 6.0, 6.0, 7.0, 6.0, 5.0, 7.0, 5.0, 5.0, 4.0, 3.0, 4.0, 3.0, 4.0, 3.0, 67.65562438964844, 58.49479675292969, 57.532432556152344, 45.82326889038086, 5.690127372741699, 5.3235087394714355, 5.079749584197998, 3.7483458518981934, 3.7477176189422607, 3.514061689376831, 3.3541789054870605, 3.279054641723633, 3.1397247314453125, 3.139721632003784, 2.690007448196411, 2.6682963371276855, 2.4544835090637207, 2.237717866897583, 2.237717866897583, 2.2376701831817627, 2.2372915744781494, 1.843690276145935, 1.843690276145935, 1.843690276145935, 1.843690276145935, 1.8436784744262695, 84.96244049072266, 1.5525366067886353, 1.5525280237197876, 1.5525280237197876, 1.5525280237197876, 5.688814163208008, 3.2866499423980713, 17.707883834838867, 6.68076229095459, 5.514847278594971, 4.624265193939209, 4.532166004180908, 4.385252475738525, 4.3331298828125, 3.9441182613372803, 3.588857889175415, 3.526777505874634, 3.2477657794952393, 2.8303475379943848, 2.7155983448028564, 2.6524550914764404, 2.567657232284546, 2.2817881107330322, 2.0189990997314453, 1.9734349250793457, 1.9723175764083862, 1.9723175764083862, 1.9723175764083862, 1.972313642501831, 1.972313642501831, 1.972313642501831, 1.972313642501831, 1.9722906351089478, 1.9722905158996582, 1.9722905158996582, 1.9722307920455933, 1.9723526239395142, 3.792300224304199, 84.96244049072266, 3.1102921962738037, 38.91203308105469, 34.51413345336914, 12.251476287841797, 4.308835029602051, 3.2474308013916016, 3.164931535720825, 2.821255683898926, 2.507150173187256, 2.462867498397827, 2.4176418781280518, 2.417619466781616, 2.275089740753174, 3.144444465637207, 2.042905807495117, 1.9313533306121826, 1.7446225881576538, 1.6173036098480225, 1.6173036098480225, 1.6172926425933838, 1.6172802448272705, 1.6172802448272705, 1.6172802448272705, 1.3851927518844604, 1.3851927518844604, 1.3851927518844604, 1.385183572769165, 1.2136696577072144, 1.2136696577072144, 1.2136573791503906, 1.2136303186416626, 1.2136303186416626, 2.3922505378723145, 7.65831184387207, 2.6361169815063477, 1.6372239589691162, 8.0333251953125, 6.508177757263184, 4.229733467102051, 3.7352588176727295, 3.625380754470825, 3.3814964294433594, 3.2711241245269775, 3.2118446826934814, 2.9182205200195312, 2.7917990684509277, 2.791825771331787, 2.7917113304138184, 2.7916972637176514, 2.2532236576080322, 2.2532474994659424, 1.9143997430801392, 1.9143997430801392, 1.914381742477417, 1.9145092964172363, 1.9145092964172363, 1.9145092964172363, 1.7302742004394531, 1.6047364473342896, 1.6047364473342896, 1.604681372642517, 1.6047669649124146, 1.6047669649124146, 1.6047669649124146, 1.6047669649124146, 1.6047834157943726, 7.356448650360107, 84.96244049072266, 5.688814163208008, 9.384812355041504, 9.09567928314209, 7.48429536819458, 3.9871041774749756, 3.7576746940612793, 3.093010663986206, 2.797304630279541, 2.7970614433288574, 2.79699444770813, 2.272796869277954, 1.917466640472412, 1.917411208152771, 1.8581966161727905, 1.7328832149505615, 1.7328832149505615, 1.7329062223434448, 1.732900619506836, 1.732910394668579, 1.7328909635543823, 1.68861722946167, 1.6070258617401123, 1.6070258617401123, 1.6070258617401123, 1.6070258617401123, 1.6070258617401123, 1.6070258617401123, 1.6070258617401123, 1.6070106029510498, 1.6070106029510498, 1.6070106029510498, 1.6070106029510498, 2.6759088039398193, 2.6361169815063477, 1.6070106029510498, 1.6070106029510498, 1.6070106029510498, 21.85613250732422, 8.411643028259277, 6.0922088623046875, 5.272214889526367, 3.6533310413360596, 3.386312484741211, 3.0465357303619385, 2.664879083633423, 2.5451278686523438, 2.487687349319458, 2.3251872062683105, 2.2055318355560303, 2.1904304027557373, 1.8655579090118408, 1.8655579090118408, 1.8655520677566528, 1.8655520677566528, 1.8655391931533813, 1.8658143281936646, 1.8659908771514893, 7.65831184387207, 1.5686372518539429, 1.5686372518539429, 1.5685889720916748, 1.4069818258285522, 1.349223256111145, 1.3492392301559448, 1.349326491355896, 1.349326491355896, 1.3493268489837646, 7.356448650360107, 3.1102921962738037, 3.792300224304199, 6.733057022094727, 5.0717339515686035, 3.248192548751831, 3.2352399826049805, 2.824709177017212, 2.7723801136016846, 2.5905747413635254, 1.9259660243988037, 1.7760579586029053, 1.7760579586029053, 1.7760579586029053, 1.7760579586029053, 1.776050329208374, 1.776050329208374, 1.7760502099990845, 1.7760502099990845, 1.7760396003723145, 1.7760396003723145, 1.7760396003723145, 1.7760396003723145, 1.7760396003723145, 1.7760396003723145, 1.7760396003723145, 1.7759981155395508, 1.7759981155395508, 1.7759981155395508, 1.7759981155395508, 1.7759981155395508, 1.7759978771209717, 1.7759981155395508, 1.7759981155395508], \"loglift\": [30.0, 29.0, 28.0, 27.0, 26.0, 25.0, 24.0, 23.0, 22.0, 21.0, 20.0, 19.0, 18.0, 17.0, 16.0, 15.0, 14.0, 13.0, 12.0, 11.0, 10.0, 9.0, 8.0, 7.0, 6.0, 5.0, 4.0, 3.0, 2.0, 1.0, 1.104699969291687, 1.1032999753952026, 1.1030999422073364, 1.1003999710083008, 1.0024000406265259, 0.9943000078201294, 0.987500011920929, 0.9395999908447266, 0.9391000270843506, 0.926800012588501, 0.9168000221252441, 0.9120000004768372, 0.9020000100135803, 0.9020000100135803, 0.8616999983787537, 0.8586000204086304, 0.8339999914169312, 0.802299976348877, 0.802299976348877, 0.802299976348877, 0.8015000224113464, 0.7210000157356262, 0.7210000157356262, 0.7210000157356262, 0.7210000157356262, 0.7210000157356262, 0.7013000249862671, 0.6265000104904175, 0.6265000104904175, 0.6265000104904175, 0.6265000104904175, 0.45419999957084656, 0.4187999963760376, 1.954300045967102, 1.8924000263214111, 1.8704999685287476, 1.8457000255584717, 1.8425999879837036, 1.8372999429702759, 1.8352999687194824, 1.81850004196167, 1.7999000549316406, 1.7962000370025635, 1.7776999473571777, 1.7422000169754028, 1.7302000522613525, 1.7230000495910645, 1.7130000591278076, 1.6717000007629395, 1.6207000017166138, 1.611899971961975, 1.6117000579833984, 1.6117000579833984, 1.6117000579833984, 1.6117000579833984, 1.6117000579833984, 1.6117000579833984, 1.6117000579833984, 1.6117000579833984, 1.6117000579833984, 1.6117000579833984, 1.6117000579833984, 1.611199975013733, 1.4493999481201172, 0.025299999862909317, 1.1562000513076782, 1.9977999925613403, 1.9957000017166138, 1.9615999460220337, 1.857300043106079, 1.8001999855041504, 1.794100046157837, 1.7615000009536743, 1.7273999452590942, 1.7209999561309814, 1.715000033378601, 1.7137000560760498, 1.6928999423980713, 1.6726000308990479, 1.6485999822616577, 1.6232000589370728, 1.5687999725341797, 1.5256999731063843, 1.5256999731063843, 1.5256999731063843, 1.5256999731063843, 1.5256999731063843, 1.5256999731063843, 1.414199948310852, 1.414199948310852, 1.414199948310852, 1.414199948310852, 1.2907999753952026, 1.2907999753952026, 1.2907999753952026, 1.2907999753952026, 1.2907999753952026, 1.1342999935150146, 0.7060999870300293, 0.8259000182151794, 0.9915000200271606, 2.1431000232696533, 2.1231000423431396, 2.063999891281128, 2.040600061416626, 2.0346999168395996, 2.019399881362915, 2.011699914932251, 2.0072999000549316, 1.982699990272522, 1.9701000452041626, 1.9701000452041626, 1.9699000120162964, 1.9694000482559204, 1.8986999988555908, 1.8985999822616577, 1.8280999660491943, 1.8280999660491943, 1.8278000354766846, 1.8274999856948853, 1.8274999856948853, 1.8274999856948853, 1.774999976158142, 1.729599952697754, 1.729599952697754, 1.729599952697754, 1.7294000387191772, 1.7294000387191772, 1.7294000387191772, 1.7294000387191772, 1.7293000221252441, 1.5721999406814575, 0.579800009727478, 1.2964999675750732, 2.2125000953674316, 2.210099935531616, 2.194200038909912, 2.1105000972747803, 2.099100112915039, 2.0553998947143555, 2.027600049972534, 2.0272998809814453, 2.0267999172210693, 1.9562000036239624, 1.8863999843597412, 1.886299967765808, 1.8708000183105469, 1.833400011062622, 1.833400011062622, 1.8331999778747559, 1.8331999778747559, 1.8330999612808228, 1.8330999612808228, 1.8184000253677368, 1.788100004196167, 1.788100004196167, 1.788100004196167, 1.788100004196167, 1.788100004196167, 1.788100004196167, 1.788100004196167, 1.7879999876022339, 1.7879999876022339, 1.7879999876022339, 1.7879999876022339, 1.583899974822998, 1.5787999629974365, 1.7879999876022339, 1.7879999876022339, 1.7879999876022339, 2.2718000411987305, 2.223099946975708, 2.191699981689453, 2.1735999584198, 2.1113998889923096, 2.094899892807007, 2.068700075149536, 2.0304999351501465, 2.0160999298095703, 2.005000114440918, 1.9844000339508057, 1.9620000123977661, 1.9615999460220337, 1.888700008392334, 1.888700008392334, 1.888700008392334, 1.888700008392334, 1.888700008392334, 1.8875000476837158, 1.8867000341415405, 1.8865000009536743, 1.7870999574661255, 1.7870999574661255, 1.7869999408721924, 1.7066999673843384, 1.6713999509811401, 1.6708999872207642, 1.670699954032898, 1.670699954032898, 1.670699954032898, 1.402400016784668, 1.377500057220459, 1.024899959564209, 2.296600103378296, 2.261699914932251, 2.1772000789642334, 2.176500082015991, 2.139899969100952, 2.134700059890747, 2.1129000186920166, 1.9937000274658203, 1.9510999917984009, 1.9510999917984009, 1.9510999917984009, 1.9510999917984009, 1.9510999917984009, 1.9510999917984009, 1.9510999917984009, 1.9510999917984009, 1.9510999917984009, 1.9510999917984009, 1.9510999917984009, 1.9510999917984009, 1.9510999917984009, 1.9510999917984009, 1.9510999917984009, 1.9510999917984009, 1.9510999917984009, 1.9510999917984009, 1.9510999917984009, 1.9510999917984009, 1.9510999917984009, 1.9510999917984009, 1.9510999917984009], \"logprob\": [30.0, 29.0, 28.0, 27.0, 26.0, 25.0, 24.0, 23.0, 22.0, 21.0, 20.0, 19.0, 18.0, 17.0, 16.0, 15.0, 14.0, 13.0, 12.0, 11.0, 10.0, 9.0, 8.0, 7.0, 6.0, 5.0, 4.0, 3.0, 2.0, 1.0, -1.7956000566482544, -1.9424999952316284, -1.9593000411987305, -2.189500093460083, -4.373600006103516, -4.448299884796143, -4.501999855041504, -4.853899955749512, -4.854599952697754, -4.93120002746582, -4.987800121307373, -5.015200138092041, -5.068699836730957, -5.068699836730957, -5.263599872589111, -5.274799823760986, -5.382800102233887, -5.506999969482422, -5.506999969482422, -5.5071001052856445, -5.507999897003174, -5.7820000648498535, -5.7820000648498535, -5.7820000648498535, -5.7820000648498535, -5.7820000648498535, -1.9713000059127808, -6.048299789428711, -6.048399925231934, -6.048399925231934, -6.048399925231934, -4.922100067138672, -5.506100177764893, -2.286400079727173, -3.3231000900268555, -3.536900043487549, -3.7376999855041504, -3.760999917984009, -3.799299955368042, -3.813199996948242, -3.9240000247955322, -4.037099838256836, -4.05810022354126, -4.15910005569458, -4.332200050354004, -4.385499954223633, -4.416299819946289, -4.458799839019775, -4.618100166320801, -4.791399955749512, -4.8231000900268555, -4.823800086975098, -4.823800086975098, -4.823800086975098, -4.823800086975098, -4.823800086975098, -4.823800086975098, -4.823800086975098, -4.82390022277832, -4.82390022277832, -4.82390022277832, -4.82390022277832, -4.824399948120117, -4.332399845123291, -2.647200107574463, -4.82390022277832, -1.4557000398635864, -1.5777000188827515, -2.6475000381469727, -3.796799898147583, -4.13670015335083, -4.168600082397461, -4.316100120544434, -4.468299865722656, -4.492499828338623, -4.517000198364258, -4.5183000564575195, -4.599800109863281, -4.296500205993652, -4.751800060272217, -4.833399772644043, -4.9893999099731445, -5.10830020904541, -5.10830020904541, -5.10830020904541, -5.10830020904541, -5.10830020904541, -5.10830020904541, -5.37470006942749, -5.37470006942749, -5.37470006942749, -5.37470006942749, -5.630300045013428, -5.630300045013428, -5.630300045013428, -5.63040018081665, -5.63040018081665, -5.10830020904541, -4.372799873352051, -5.3196001052856445, -5.630300045013428, -2.8880999088287354, -3.1185998916625977, -3.6087000370025635, -3.7562999725341797, -3.792099952697754, -3.8770999908447266, -3.9179999828338623, -3.9405999183654785, -4.061100006103516, -4.118000030517578, -4.118000030517578, -4.118199825286865, -4.118800163269043, -4.40369987487793, -4.403800010681152, -4.637199878692627, -4.637199878692627, -4.637599945068359, -4.637800216674805, -4.637800216674805, -4.637800216674805, -4.791500091552734, -4.912199974060059, -4.912199974060059, -4.912300109863281, -4.912399768829346, -4.912399768829346, -4.912399768829346, -4.912399768829346, -4.912499904632568, -3.546999931335449, -2.0927999019622803, -4.079699993133545, -2.6631999015808105, -2.6967999935150146, -2.9077000617980957, -3.6212000846862793, -3.6919000148773193, -3.9302000999450684, -4.058499813079834, -4.058899879455566, -4.0594000816345215, -4.337500095367432, -4.577400207519531, -4.577499866485596, -4.6244001388549805, -4.731599807739258, -4.731599807739258, -4.7316999435424805, -4.731800079345703, -4.731800079345703, -4.731900215148926, -4.77239990234375, -4.85230016708374, -4.85230016708374, -4.85230016708374, -4.85230016708374, -4.85230016708374, -4.85230016708374, -4.85230016708374, -4.85230016708374, -4.85230016708374, -4.85230016708374, -4.85230016708374, -4.546599864959717, -4.566699981689453, -4.85230016708374, -4.85230016708374, -4.85230016708374, -1.7584999799728394, -2.76200008392334, -3.115999937057495, -3.278700113296509, -3.70770001411438, -3.8001999855041504, -3.9321000576019287, -4.104100227355957, -4.1645002365112305, -4.198400020599365, -4.286600112915039, -4.361800193786621, -4.36899995803833, -4.602499961853027, -4.602499961853027, -4.602499961853027, -4.602499961853027, -4.60260009765625, -4.603600025177002, -4.604300022125244, -3.192500114440918, -4.877500057220459, -4.877500057220459, -4.877600193023682, -5.0665998458862305, -5.143899917602539, -5.1442999839782715, -5.144499778747559, -5.144499778747559, -5.144499778747559, -3.7167999744415283, -4.602499961853027, -4.756899833679199, -2.9112000465393066, -3.2293999195098877, -3.759399890899658, -3.76419997215271, -3.936500072479248, -3.960400104522705, -4.049900054931641, -4.46560001373291, -4.589300155639648, -4.589300155639648, -4.589300155639648, -4.589300155639648, -4.589300155639648, -4.589300155639648, -4.589300155639648, -4.589300155639648, -4.589300155639648, -4.589300155639648, -4.589300155639648, -4.589300155639648, -4.589300155639648, -4.589300155639648, -4.589300155639648, -4.589300155639648, -4.589300155639648, -4.589300155639648, -4.589300155639648, -4.589300155639648, -4.589300155639648, -4.589300155639648, -4.589300155639648]}, \"token.table\": {\"Topic\": [6, 4, 2, 2, 7, 7, 1, 5, 4, 5, 5, 5, 7, 5, 4, 5, 3, 7, 1, 6, 2, 3, 5, 5, 4, 5, 1, 1, 7, 5, 7, 1, 1, 4, 2, 4, 1, 3, 6, 6, 7, 3, 7, 5, 1, 7, 3, 7, 4, 5, 4, 6, 3, 5, 5, 7, 6, 3, 7, 2, 3, 4, 4, 6, 2, 3, 1, 6, 1, 7, 7, 7, 3, 3, 3, 3, 4, 4, 6, 2, 7, 1, 2, 6, 5, 7, 7, 6, 4, 5, 3, 4, 7, 4, 2, 7, 1, 1, 3, 1, 2, 1, 7, 1, 2, 4, 1, 5, 3, 2, 1, 5, 3, 4, 2, 6, 6, 5, 7, 5, 2, 3, 2, 5, 7, 4, 3, 2, 2, 3, 5, 4, 2, 7, 6, 4, 6, 5, 2, 4, 6, 2, 3, 6, 1, 3, 7, 2, 6, 4, 6, 4, 5, 3, 4, 2, 6, 2, 4, 3, 1, 4, 2, 3, 4, 1, 3, 6, 3, 7, 1, 6, 6, 2, 6, 4, 7, 7, 5, 4, 5, 3, 2, 3, 1, 2, 6, 4, 2, 5, 7, 3, 6, 5, 3, 3, 5, 3, 7, 6, 5, 7, 6, 1, 6, 1, 4, 7, 1, 2, 1, 5, 1, 5, 2, 5, 1, 4, 1, 5, 7, 3, 4, 7, 5, 6, 1, 1, 6, 2, 2, 5, 1, 6, 2, 3, 4, 6], \"Freq\": [0.9510626792907715, 0.5223569273948669, 0.5070246458053589, 0.5070187449455261, 0.5630505084991455, 0.5630471110343933, 0.8937677145004272, 0.8795384764671326, 0.37370482087135315, 0.37370482087135315, 0.9352917671203613, 0.6222734451293945, 0.7080374956130981, 0.6222734451293945, 0.5223270654678345, 0.6222675442695618, 0.6183220148086548, 0.9272882342338562, 0.9392301440238953, 0.885919451713562, 0.9231202602386475, 0.3793458342552185, 0.3793458342552185, 0.5770729184150696, 0.9219170212745667, 0.5770703554153442, 0.8537129759788513, 0.6441107392311096, 0.5192199349403381, 0.6222675442695618, 0.5630636811256409, 0.7495419383049011, 0.8937867879867554, 0.5223618745803833, 0.835920512676239, 0.6231434345245361, 0.8787149786949158, 0.8272523880004883, 0.536034345626831, 0.6374959945678711, 0.5630471706390381, 0.9283251762390137, 0.5630636811256409, 0.7150532603263855, 0.9820338487625122, 0.5630446672439575, 0.4180164039134979, 0.4180164039134979, 0.6231552958488464, 0.6222675442695618, 0.5437406301498413, 0.407805472612381, 0.8272600769996643, 0.592200517654419, 0.6222675442695618, 0.5630636811256409, 0.9068107604980469, 0.5731898546218872, 0.7214018106460571, 0.5070247054100037, 0.9478877782821655, 0.7164064645767212, 0.8031572103500366, 0.536034345626831, 0.5070187449455261, 0.8239474296569824, 0.5423904657363892, 0.7858151197433472, 0.608522355556488, 0.304261177778244, 0.5630505084991455, 0.5630471706390381, 0.8120615482330322, 0.7219259738922119, 0.9765616655349731, 0.9238072037696838, 0.68534916639328, 0.6231552958488464, 0.8039595484733582, 0.9237119555473328, 0.5630636811256409, 0.7874404191970825, 0.5070177316665649, 0.913062572479248, 0.5770671367645264, 0.8911256790161133, 0.5630505084991455, 0.7411102652549744, 0.7164100408554077, 0.6222675442695618, 0.7219212055206299, 0.5223569273948669, 0.5630505084991455, 0.6231434345245361, 0.8506348729133606, 0.5630636811256409, 0.5423904657363892, 0.5423939228057861, 0.6183130741119385, 0.9915412068367004, 0.960024356842041, 0.8937677145004272, 0.9235905408859253, 0.6591147780418396, 0.14123888313770294, 0.18831850588321686, 0.8939380049705505, 0.5770729184150696, 0.823955774307251, 0.7789201736450195, 0.6441107392311096, 0.5770638585090637, 0.6183173060417175, 0.5223270654678345, 0.5070400238037109, 0.5360380411148071, 0.5360326766967773, 0.6222675442695618, 0.5630446672439575, 0.9589962363243103, 0.7606262564659119, 0.8239741325378418, 0.9066434502601624, 0.5770652890205383, 0.7886849045753479, 0.887607753276825, 0.7977184653282166, 0.5067306756973267, 0.5070177316665649, 0.8239474296569824, 0.6466192007064819, 0.8871811628341675, 0.8825802206993103, 0.5630637407302856, 0.9608287215232849, 0.9171159267425537, 0.8211684226989746, 0.6222734451293945, 0.5070177316665649, 0.827499270439148, 0.7411105036735535, 0.5070187449455261, 0.7089042067527771, 0.7505031228065491, 0.7434923648834229, 0.6107900142669678, 0.6107900142669678, 0.5070087313652039, 0.8601458072662354, 0.5779430866241455, 0.7107412219047546, 0.9456860423088074, 0.6222734451293945, 0.6183220148086548, 0.8876171708106995, 0.8765055537223816, 0.7411671876907349, 0.8650022745132446, 0.8713701963424683, 0.8239741325378418, 0.9554986953735352, 0.6231370568275452, 0.9121481776237488, 0.6360424160957336, 0.7163839340209961, 0.9907455444335938, 0.6183220148086548, 0.535959005355835, 0.4894988238811493, 0.5630505084991455, 0.8944066762924194, 0.9483680129051208, 0.820720374584198, 0.5273844003677368, 0.2636922001838684, 0.6231434345245361, 0.5630636811256409, 0.5630505084991455, 0.6222734451293945, 0.5223270654678345, 0.5215214490890503, 0.7219212055206299, 0.5070187449455261, 0.9794737696647644, 0.5423904657363892, 0.32151320576667786, 0.32151320576667786, 0.6231434345245361, 0.8981010913848877, 0.5215365290641785, 0.5630471110343933, 0.2611541748046875, 0.652885377407074, 0.6222734451293945, 0.5177716612815857, 0.7219212055206299, 0.7149739861488342, 0.9851036667823792, 0.5630446672439575, 0.6374959945678711, 0.7983660697937012, 0.5630446672439575, 0.6564833521842957, 0.8003530502319336, 0.7411105036735535, 0.527350664138794, 0.3515671193599701, 0.772029459476471, 0.800487220287323, 0.4952949285507202, 0.5423904657363892, 0.8799730539321899, 0.9554978013038635, 0.7524257898330688, 0.7540184259414673, 0.715036153793335, 0.6441107392311096, 0.9340426921844482, 0.6441072225570679, 0.6222734451293945, 0.5630636811256409, 0.6183130741119385, 0.6231766939163208, 0.5630505084991455, 0.6222675442695618, 0.5360326766967773, 0.9148978590965271, 0.9903094172477722, 0.637515664100647, 0.7364859580993652, 0.5070247054100037, 0.5381562113761902, 0.8148353695869446, 0.5359082818031311, 0.7066270112991333, 0.8790861964225769, 0.7163770794868469, 0.7411584258079529], \"Term\": [\"account\", \"active\", \"ad\", \"add\", \"adsense\", \"advanced\", \"altering\", \"amazing\", \"ambitious\", \"ambitious\", \"analyst\", \"analytic\", \"analytical\", \"apple\", \"area\", \"artificial\", \"assistant\", \"associate\", \"awesome\", \"bad\", \"balance\", \"be\", \"be\", \"beat\", \"benefit\", \"best\", \"big\", \"boost\", \"brand\", \"break\", \"bright\", \"build\", \"bump\", \"bureaucracy\", \"business\", \"care\", \"career\", \"ceo\", \"change\", \"chef\", \"childhood\", \"cloud\", \"collaboration\", \"come\", \"company\", \"consultant\", \"content\", \"content\", \"create\", \"cry\", \"culture\", \"culture\", \"customer\", \"data\", \"datacenter\", \"decline\", \"demand\", \"depend\", \"designer\", \"dev\", \"developer\", \"development\", \"director\", \"disappoint\", \"diversity\", \"do\", \"dope\", \"dream\", \"early\", \"early\", \"economically\", \"educator\", \"employee\", \"eng\", \"engineer\", \"engineering\", \"environment\", \"equal\", \"especially\", \"everything\", \"exact\", \"excellent\", \"exciting\", \"executive\", \"expectation\", \"experience\", \"favorite\", \"find\", \"fix\", \"floor\", \"force\", \"founder\", \"fulfillment\", \"full\", \"fun\", \"geekland\", \"generally\", \"generation\", \"glassdoor\", \"good\", \"google\", \"googlex\", \"grad\", \"great\", \"great\", \"great\", \"grow\", \"hard\", \"hardware\", \"hear\", \"hectic\", \"hour\", \"iii\", \"improvement\", \"incredible\", \"industry\", \"innovative\", \"intelligence\", \"interactive\", \"intern\", \"internship\", \"java\", \"job\", \"know\", \"lead\", \"learn\", \"legal\", \"life\", \"lifestyle\", \"listen\", \"long\", \"lot\", \"love\", \"management\", \"manager\", \"many\", \"marketing\", \"massage\", \"maybe\", \"meh\", \"millenial\", \"mutual\", \"need\", \"new\", \"nice\", \"not\", \"not\", \"obviously\", \"operation\", \"opportunity\", \"outstanding\", \"overall\", \"overpay\", \"paradise\", \"part\", \"partner\", \"partnership\", \"pay\", \"people\", \"peopleop\", \"perfect\", \"period\", \"perk\", \"pgm\", \"phenomenal\", \"place\", \"pm\", \"poro\", \"practicum\", \"president\", \"probably\", \"product\", \"program\", \"project\", \"project\", \"promo\", \"pry\", \"publisher\", \"quantitative\", \"really\", \"recruiter\", \"reliability\", \"respect\", \"review\", \"reward\", \"rough\", \"rough\", \"run\", \"sale\", \"say\", \"school\", \"senior\", \"senior\", \"shiny\", \"short\", \"site\", \"skill\", \"software\", \"solution\", \"sous\", \"specialist\", \"sr\", \"staff\", \"start\", \"sterotype\", \"still\", \"still\", \"strategist\", \"stuff\", \"summer\", \"super\", \"sure\", \"tech\", \"technical\", \"technology\", \"term\", \"thing\", \"time\", \"undeniably\", \"undervalue\", \"unethical\", \"unlock\", \"vendor\", \"vice\", \"winner\", \"wlb\", \"wonderful\", \"work\", \"worker\", \"worklife\", \"workload\", \"workplace\", \"world\", \"worrying\", \"would\", \"write\", \"year\", \"youtube\"]}, \"R\": 30, \"lambda.step\": 0.01, \"plot.opts\": {\"xlab\": \"PC1\", \"ylab\": \"PC2\"}, \"topic.order\": [5, 1, 4, 7, 6, 3, 2]};\n",
       "\n",
       "function LDAvis_load_lib(url, callback){\n",
       "  var s = document.createElement('script');\n",
       "  s.src = url;\n",
       "  s.async = true;\n",
       "  s.onreadystatechange = s.onload = callback;\n",
       "  s.onerror = function(){console.warn(\"failed to load library \" + url);};\n",
       "  document.getElementsByTagName(\"head\")[0].appendChild(s);\n",
       "}\n",
       "\n",
       "if(typeof(LDAvis) !== \"undefined\"){\n",
       "   // already loaded: just create the visualization\n",
       "   !function(LDAvis){\n",
       "       new LDAvis(\"#\" + \"ldavis_el1410449026283527806664806\", ldavis_el1410449026283527806664806_data);\n",
       "   }(LDAvis);\n",
       "}else if(typeof define === \"function\" && define.amd){\n",
       "   // require.js is available: use it to load d3/LDAvis\n",
       "   require.config({paths: {d3: \"https://cdnjs.cloudflare.com/ajax/libs/d3/3.5.5/d3.min\"}});\n",
       "   require([\"d3\"], function(d3){\n",
       "      window.d3 = d3;\n",
       "      LDAvis_load_lib(\"https://cdn.rawgit.com/bmabey/pyLDAvis/files/ldavis.v1.0.0.js\", function(){\n",
       "        new LDAvis(\"#\" + \"ldavis_el1410449026283527806664806\", ldavis_el1410449026283527806664806_data);\n",
       "      });\n",
       "    });\n",
       "}else{\n",
       "    // require.js not available: dynamically load d3 & LDAvis\n",
       "    LDAvis_load_lib(\"https://cdnjs.cloudflare.com/ajax/libs/d3/3.5.5/d3.min.js\", function(){\n",
       "         LDAvis_load_lib(\"https://cdn.rawgit.com/bmabey/pyLDAvis/files/ldavis.v1.0.0.js\", function(){\n",
       "                 new LDAvis(\"#\" + \"ldavis_el1410449026283527806664806\", ldavis_el1410449026283527806664806_data);\n",
       "            })\n",
       "         });\n",
       "}\n",
       "</script>"
      ],
      "text/plain": [
       "PreparedData(topic_coordinates=              x         y  topics  cluster       Freq\n",
       "topic                                                \n",
       "4     -0.322979 -0.081753       1        1  32.837574\n",
       "0     -0.039580  0.082281       2        1  13.668549\n",
       "3      0.146494 -0.263874       3        1  13.345621\n",
       "6     -0.068636  0.059029       4        1  10.814206\n",
       "5      0.093559  0.068952       5        1  10.212361\n",
       "2      0.101812  0.081428       6        1  10.015452\n",
       "1      0.089331  0.053937       7        1   9.106243, topic_info=     Category       Freq           Term      Total  loglift  logprob\n",
       "term                                                                \n",
       "25    Default  38.000000       engineer  38.000000  30.0000  30.0000\n",
       "2     Default  67.000000           work  67.000000  29.0000  29.0000\n",
       "26    Default  34.000000       software  34.000000  28.0000  28.0000\n",
       "1     Default  58.000000           good  58.000000  27.0000  27.0000\n",
       "18    Default  57.000000          place  57.000000  26.0000  26.0000\n",
       "12    Default  84.000000          great  84.000000  25.0000  25.0000\n",
       "38    Default  21.000000        manager  21.000000  24.0000  24.0000\n",
       "0     Default  45.000000        company  45.000000  23.0000  23.0000\n",
       "72    Default  17.000000         google  17.000000  22.0000  22.0000\n",
       "34    Default  12.000000         review  12.000000  21.0000  21.0000\n",
       "23    Default   9.000000         intern   9.000000  20.0000  20.0000\n",
       "68    Default   9.000000        amazing   9.000000  19.0000  19.0000\n",
       "37    Default   8.000000        account   8.000000  18.0000  18.0000\n",
       "103   Default   8.000000         people   8.000000  17.0000  17.0000\n",
       "35    Default   7.000000        analyst   7.000000  16.0000  16.0000\n",
       "57    Default   6.000000     experience   6.000000  15.0000  15.0000\n",
       "80    Default   6.000000        benefit   6.000000  14.0000  14.0000\n",
       "174   Default   6.000000        program   6.000000  13.0000  13.0000\n",
       "39    Default   7.000000         senior   7.000000  12.0000  12.0000\n",
       "100   Default   6.000000           sale   6.000000  11.0000  11.0000\n",
       "117   Default   5.000000           lead   5.000000  10.0000  10.0000\n",
       "43    Default   7.000000        culture   7.000000   9.0000   9.0000\n",
       "120   Default   5.000000        product   5.000000   8.0000   8.0000\n",
       "20    Default   5.000000            job   5.000000   7.0000   7.0000\n",
       "154   Default   4.000000        overall   4.000000   6.0000   6.0000\n",
       "298   Default   3.000000      technical   3.000000   5.0000   5.0000\n",
       "59    Default   4.000000            pay   4.000000   4.0000   4.0000\n",
       "258   Default   3.000000     specialist   3.000000   3.0000   3.0000\n",
       "88    Default   4.000000           love   4.000000   2.0000   2.0000\n",
       "221   Default   3.000000      marketing   3.000000   1.0000   1.0000\n",
       "...       ...        ...            ...        ...      ...      ...\n",
       "117    Topic7   4.433551           lead   5.071734   2.2617  -3.2294\n",
       "141    Topic7   2.609446           grad   3.248193   2.1772  -3.7594\n",
       "86     Topic7   2.597131      associate   3.235240   2.1765  -3.7642\n",
       "359    Topic7   2.185940     analytical   2.824709   2.1399  -3.9365\n",
       "166    Topic7   2.134333       designer   2.772380   2.1347  -3.9604\n",
       "87     Topic7   1.951527     strategist   2.590575   2.1129  -4.0499\n",
       "159    Topic7   1.287777          brand   1.925966   1.9937  -4.4656\n",
       "344    Topic7   1.138010     consultant   1.776058   1.9511  -4.5893\n",
       "345    Topic7   1.138010    interactive   1.776058   1.9511  -4.5893\n",
       "346    Topic7   1.138010       solution   1.776058   1.9511  -4.5893\n",
       "347    Topic7   1.138010             sr   1.776058   1.9511  -4.5893\n",
       "337    Topic7   1.138001         school   1.776050   1.9511  -4.5893\n",
       "336    Topic7   1.138001       advanced   1.776050   1.9511  -4.5893\n",
       "340    Topic7   1.138001       educator   1.776050   1.9511  -4.5893\n",
       "338    Topic7   1.138001      childhood   1.776050   1.9511  -4.5893\n",
       "358    Topic7   1.137988      publisher   1.776040   1.9511  -4.5893\n",
       "381    Topic7   1.137988           vice   1.776040   1.9511  -4.5893\n",
       "380    Topic7   1.137988      president   1.776040   1.9511  -4.5893\n",
       "364    Topic7   1.137988   economically   1.776040   1.9511  -4.5893\n",
       "365    Topic7   1.137988       favorite   1.776040   1.9511  -4.5893\n",
       "357    Topic7   1.137988        adsense   1.776040   1.9511  -4.5893\n",
       "348    Topic7   1.137988    fulfillment   1.776040   1.9511  -4.5893\n",
       "373    Topic7   1.137938       geekland   1.775998   1.9511  -4.5893\n",
       "331    Topic7   1.137938  collaboration   1.775998   1.9511  -4.5893\n",
       "350    Topic7   1.137938            pry   1.775998   1.9511  -4.5893\n",
       "399    Topic7   1.137938         bright   1.775998   1.9511  -4.5893\n",
       "385    Topic7   1.137938      unethical   1.775998   1.9511  -4.5893\n",
       "390    Topic7   1.137938     management   1.775998   1.9511  -4.5893\n",
       "389    Topic7   1.137938        decline   1.775998   1.9511  -4.5893\n",
       "378    Topic7   1.137938          exact   1.775998   1.9511  -4.5893\n",
       "\n",
       "[264 rows x 6 columns], token_table=      Topic      Freq        Term\n",
       "term                             \n",
       "37        6  0.951063     account\n",
       "360       4  0.522357      active\n",
       "382       2  0.507025          ad\n",
       "367       2  0.507019         add\n",
       "357       7  0.563051     adsense\n",
       "336       7  0.563047    advanced\n",
       "354       1  0.893768    altering\n",
       "68        5  0.879538     amazing\n",
       "201       4  0.373705   ambitious\n",
       "201       5  0.373705   ambitious\n",
       "35        5  0.935292     analyst\n",
       "314       5  0.622273    analytic\n",
       "359       7  0.708037  analytical\n",
       "310       5  0.622273       apple\n",
       "351       4  0.522327        area\n",
       "275       5  0.622268  artificial\n",
       "302       3  0.618322   assistant\n",
       "86        7  0.927288   associate\n",
       "177       1  0.939230     awesome\n",
       "49        6  0.885919         bad\n",
       "8         2  0.923120     balance\n",
       "61        3  0.379346          be\n",
       "61        5  0.379346          be\n",
       "53        5  0.577073        beat\n",
       "80        4  0.921917     benefit\n",
       "52        5  0.577070        best\n",
       "55        1  0.853713         big\n",
       "233       1  0.644111       boost\n",
       "159       7  0.519220       brand\n",
       "281       5  0.622268       break\n",
       "...     ...       ...         ...\n",
       "383       1  0.800487       stuff\n",
       "74        2  0.495295      summer\n",
       "307       1  0.542390       super\n",
       "65        5  0.879973        sure\n",
       "56        1  0.955498        tech\n",
       "298       5  0.752426   technical\n",
       "261       2  0.754018  technology\n",
       "328       5  0.715036        term\n",
       "234       1  0.644111       thing\n",
       "136       4  0.934043        time\n",
       "228       1  0.644107  undeniably\n",
       "280       5  0.622273  undervalue\n",
       "385       7  0.563064   unethical\n",
       "317       3  0.618313      unlock\n",
       "294       4  0.623177      vendor\n",
       "381       7  0.563051        vice\n",
       "278       5  0.622268      winner\n",
       "376       6  0.536033         wlb\n",
       "121       1  0.914898   wonderful\n",
       "2         1  0.990309        work\n",
       "299       6  0.637516      worker\n",
       "51        2  0.736486    worklife\n",
       "379       2  0.507025    workload\n",
       "167       5  0.538156   workplace\n",
       "45        1  0.814835       world\n",
       "384       6  0.535908    worrying\n",
       "157       2  0.706627       would\n",
       "245       3  0.879086       write\n",
       "330       4  0.716377        year\n",
       "227       6  0.741158     youtube\n",
       "\n",
       "[238 rows x 3 columns], R=30, lambda_step=0.01, plot_opts={'xlab': 'PC1', 'ylab': 'PC2'}, topic_order=[5, 1, 4, 7, 6, 3, 2])"
      ]
     },
     "execution_count": 17,
     "metadata": {},
     "output_type": "execute_result"
    }
   ],
   "source": [
    "import warnings\n",
    "warnings.filterwarnings(\"ignore\", category=FutureWarning) # Hides all future warnings\n",
    "import pyLDAvis\n",
    "import pyLDAvis.gensim \n",
    "pyLDAvis.enable_notebook()\n",
    "vis = pyLDAvis.gensim.prepare(lda_model, corpus, id2word)\n",
    "vis"
   ]
  },
  {
   "cell_type": "markdown",
   "metadata": {
    "hidden": true
   },
   "source": [
    "We are using pyLDAvis to visualize our topics. \n",
    "\n",
    "For interpreting pyLDAvis:\n",
    "- Each bubble represent a topic\n",
    "- The larger the bubble, the more prevalent is that topic\n",
    "- A good topic model has fairly big non-overlapping bubbles scattered through the chart (instead of being clustered in one quadrant)\n",
    "- Red highlight: Salient keywords that form the topic (most notable keywords)"
   ]
  },
  {
   "cell_type": "markdown",
   "metadata": {
    "heading_collapsed": true
   },
   "source": [
    "# 9 LDA Mallet Model"
   ]
  },
  {
   "cell_type": "markdown",
   "metadata": {
    "hidden": true
   },
   "source": [
    "Now that we have completed our Topic Model using \"Variational Bayes\" algorithm from Gensim's LDA, we will now explore Mallet's LDA (which is more accurate but slower) using Gibb's Sampling (Markov Chain Monte Carlos) under Gensim's Wrapper package.\n",
    "\n",
    "Mallet's LDA Model is more accurate, since it utilizes Gibb's Sampling by sampling one variable at a time conditional upon all other variables."
   ]
  },
  {
   "cell_type": "code",
   "execution_count": 20,
   "metadata": {
    "hidden": true,
    "scrolled": true
   },
   "outputs": [
    {
     "name": "stdout",
     "output_type": "stream",
     "text": [
      "[(0,\n",
      "  [('work', 0.42162162162162165),\n",
      "   ('benefit', 0.04864864864864865),\n",
      "   ('culture', 0.043243243243243246),\n",
      "   ('engineer', 0.03783783783783784),\n",
      "   ('lot', 0.02702702702702703),\n",
      "   ('environment', 0.02702702702702703),\n",
      "   ('long', 0.021621621621621623),\n",
      "   ('world', 0.016216216216216217),\n",
      "   ('designer', 0.016216216216216217),\n",
      "   ('early', 0.010810810810810811)]),\n",
      " (1,\n",
      "  [('engineer', 0.2781065088757396),\n",
      "   ('software', 0.2781065088757396),\n",
      "   ('senior', 0.05917159763313609),\n",
      "   ('cloud', 0.029585798816568046),\n",
      "   ('nice', 0.023668639053254437),\n",
      "   ('lead', 0.023668639053254437),\n",
      "   ('staff', 0.01775147928994083),\n",
      "   ('partner', 0.01775147928994083),\n",
      "   ('developer', 0.01775147928994083),\n",
      "   ('big', 0.01775147928994083)]),\n",
      " (2,\n",
      "  [('great', 0.33076923076923076),\n",
      "   ('sale', 0.06153846153846154),\n",
      "   ('program', 0.046153846153846156),\n",
      "   ('love', 0.046153846153846156),\n",
      "   ('director', 0.038461538461538464),\n",
      "   ('good', 0.03076923076923077),\n",
      "   ('time', 0.023076923076923078),\n",
      "   ('datum', 0.015384615384615385),\n",
      "   ('stuff', 0.015384615384615385),\n",
      "   ('analytical', 0.015384615384615385)]),\n",
      " (3,\n",
      "  [('manager', 0.18787878787878787),\n",
      "   ('account', 0.06666666666666667),\n",
      "   ('analyst', 0.06666666666666667),\n",
      "   ('people', 0.06060606060606061),\n",
      "   ('product', 0.048484848484848485),\n",
      "   ('perk', 0.04242424242424243),\n",
      "   ('balance', 0.03636363636363636),\n",
      "   ('project', 0.030303030303030304),\n",
      "   ('associate', 0.030303030303030304),\n",
      "   ('meh', 0.024242424242424242)]),\n",
      " (4,\n",
      "  [('place', 0.24025974025974026),\n",
      "   ('google', 0.11688311688311688),\n",
      "   ('amazing', 0.09090909090909091),\n",
      "   ('review', 0.08441558441558442),\n",
      "   ('job', 0.045454545454545456),\n",
      "   ('excellent', 0.025974025974025976),\n",
      "   ('specialist', 0.01948051948051948),\n",
      "   ('rough', 0.012987012987012988),\n",
      "   ('bad', 0.012987012987012988),\n",
      "   ('depend', 0.006493506493506494)]),\n",
      " (5,\n",
      "  [('company', 0.32),\n",
      "   ('great', 0.3142857142857143),\n",
      "   ('career', 0.022857142857142857),\n",
      "   ('pay', 0.022857142857142857),\n",
      "   ('grad', 0.017142857142857144),\n",
      "   ('dream', 0.017142857142857144),\n",
      "   ('perfect', 0.017142857142857144),\n",
      "   ('marketing', 0.011428571428571429),\n",
      "   ('security', 0.011428571428571429),\n",
      "   ('executive', 0.005714285714285714)]),\n",
      " (6,\n",
      "  [('good', 0.3611111111111111),\n",
      "   ('place', 0.1388888888888889),\n",
      "   ('intern', 0.07222222222222222),\n",
      "   ('experience', 0.05),\n",
      "   ('awesome', 0.027777777777777776),\n",
      "   ('technical', 0.016666666666666666),\n",
      "   ('tech', 0.016666666666666666),\n",
      "   ('ambitious', 0.011111111111111112),\n",
      "   ('fix', 0.011111111111111112),\n",
      "   ('data', 0.011111111111111112)])]\n"
     ]
    }
   ],
   "source": [
    "import os\n",
    "from gensim.models.wrappers import LdaMallet\n",
    "os.environ.update({'MALLET_HOME':r'/Users/Mick/Desktop/mallet/'}) # Set environment\n",
    "mallet_path = '/Users/Mick/Desktop/mallet/bin/mallet'             # Update this path\n",
    "\n",
    "# Build LDA Mallet Model\n",
    "ldamallet = LdaMallet(mallet_path,corpus=corpus,num_topics=7,id2word=id2word) # Here we selected 7 topics again\n",
    "pprint(ldamallet.show_topics(formatted=False))"
   ]
  },
  {
   "cell_type": "markdown",
   "metadata": {
    "hidden": true
   },
   "source": [
    "After building the LDA Mallet Model using Gensim's Wrapper package, we now display our new 7 topics in our document along with the top 10 keywords and their corresponding weights that makes up each topic."
   ]
  },
  {
   "cell_type": "markdown",
   "metadata": {
    "heading_collapsed": true,
    "hidden": true
   },
   "source": [
    "## 9.1 LDA Mallet Model Performance"
   ]
  },
  {
   "cell_type": "code",
   "execution_count": 21,
   "metadata": {
    "hidden": true,
    "scrolled": true
   },
   "outputs": [
    {
     "name": "stdout",
     "output_type": "stream",
     "text": [
      "\n",
      "Coherence Score:  0.7737574215817109\n"
     ]
    }
   ],
   "source": [
    "# Compute coherence score\n",
    "coherence_model_ldamallet = CoherenceModel(model=ldamallet, texts=data_lemmatized, dictionary=id2word, coherence=\"c_v\")\n",
    "coherence_ldamallet = coherence_model_ldamallet.get_coherence()\n",
    "print('\\nCoherence Score: ', coherence_ldamallet)"
   ]
  },
  {
   "cell_type": "markdown",
   "metadata": {
    "hidden": true
   },
   "source": [
    "Here we see that the Coherence Score for our **LDA Mallet Model** is showing **0.77** which is much improved in comparison to the 0.62 Coherence Score from the LDA Model above. Also, given that we are now using a more accurate model from **Gibb's Sampling**, and combined with the purpose of the Coherence Score it to measure the quality of the topics that were learned, then our next step is to improve the Coherence Score, which will ultimately improve the quality of the topics learned.\n",
    "\n",
    "To improve the quality of the topics learned, we need to find the optimal number of topics in our document, and once we find the optimal number of topics in our document, then our Coherence Score will be improved as well since all the topics in the document are extracted accordingly without redundancy."
   ]
  },
  {
   "cell_type": "markdown",
   "metadata": {
    "heading_collapsed": true
   },
   "source": [
    "# 10 Finding the Optimal Number of Topics for LDA Mallet Model"
   ]
  },
  {
   "cell_type": "markdown",
   "metadata": {
    "hidden": true
   },
   "source": [
    "We will use the following function to run our **LDA Mallet Model**:\n",
    "\n",
    "    compute_coherence_values\n",
    "    \n",
    "<u>Note</u>: We will trained our model to find topics between the range of 2 to 40 topics, and at an interval of 6."
   ]
  },
  {
   "cell_type": "code",
   "execution_count": 23,
   "metadata": {
    "hidden": true
   },
   "outputs": [
    {
     "data": {
      "image/png": "[encoded data removed]",
      "text/plain": [
       "<Figure size 432x288 with 1 Axes>"
      ]
     },
     "metadata": {
      "needs_background": "light"
     },
     "output_type": "display_data"
    }
   ],
   "source": [
    "# Compute a list of LDA Mallet Models and corresponding Coherence Values\n",
    "def compute_coherence_values(dictionary, corpus, texts, limit, start=2, step=3):\n",
    "    coherence_values = []\n",
    "    model_list = []\n",
    "    for num_topics in range(start, limit, step):\n",
    "        model = gensim.models.wrappers.LdaMallet(mallet_path, corpus=corpus, num_topics=num_topics, id2word=id2word)\n",
    "        model_list.append(model)\n",
    "        coherencemodel = CoherenceModel(model=model, texts=texts, dictionary=dictionary, coherence='c_v')\n",
    "        coherence_values.append(coherencemodel.get_coherence()) \n",
    "    return model_list, coherence_values\n",
    "model_list, coherence_values = compute_coherence_values(dictionary=id2word, corpus=corpus, texts=data_lemmatized,\n",
    "                                                        start=2, limit=40, step=6)\n",
    "\n",
    "# Visualize the optimal LDA Mallet Model\n",
    "limit=40; start=2; step=6;\n",
    "x = range(start, limit, step)\n",
    "plt.plot(x, coherence_values)\n",
    "plt.xlabel('Num Topics')\n",
    "plt.ylabel('Coherence score')\n",
    "plt.legend(('coherence_values'), loc='best')\n",
    "plt.show()"
   ]
  },
  {
   "cell_type": "code",
   "execution_count": 24,
   "metadata": {
    "hidden": true,
    "scrolled": true
   },
   "outputs": [
    {
     "name": "stdout",
     "output_type": "stream",
     "text": [
      "Num Topics = 2  has Coherence Value of 0.7254\n",
      "Num Topics = 8  has Coherence Value of 0.7591\n",
      "Num Topics = 14  has Coherence Value of 0.782\n",
      "Num Topics = 20  has Coherence Value of 0.7849\n",
      "Num Topics = 26  has Coherence Value of 0.7771\n",
      "Num Topics = 32  has Coherence Value of 0.7673\n",
      "Num Topics = 38  has Coherence Value of 0.7494\n"
     ]
    }
   ],
   "source": [
    "# Print the coherence scores\n",
    "for m, cv in zip(x, coherence_values):\n",
    "    print('Num Topics =', m, ' has Coherence Value of', round(cv, 4))"
   ]
  },
  {
   "cell_type": "markdown",
   "metadata": {
    "hidden": true
   },
   "source": [
    "With our models trained, and the performances visualized, we can see that the optimal number of topics here is **20 topics** with a Coherence Score of **0.78** which is slightly higher than our previous results at 0.77. However, we can also see that the model with a coherence score of 0.78 is also the highest scoring model, which implies that there are a total 20 dominant topics in this document.\n",
    "\n",
    "We will proceed to select our final model using 20 topics."
   ]
  },
  {
   "cell_type": "code",
   "execution_count": 25,
   "metadata": {
    "hidden": true,
    "scrolled": true
   },
   "outputs": [
    {
     "name": "stdout",
     "output_type": "stream",
     "text": [
      "[(0,\n",
      "  '0.282*\"company\" + 0.231*\"people\" + 0.077*\"place\" + 0.051*\"grad\" + '\n",
      "  '0.026*\"challenge\" + 0.026*\"compensation\" + 0.026*\"contract\" + '\n",
      "  '0.026*\"progress\" + 0.026*\"smart\" + 0.026*\"intern\"'),\n",
      " (1,\n",
      "  '0.367*\"company\" + 0.102*\"cloud\" + 0.041*\"strategist\" + 0.041*\"environment\" '\n",
      "  '+ 0.041*\"employee\" + 0.020*\"pry\" + 0.020*\"usa\" + 0.020*\"break\" + '\n",
      "  '0.020*\"atmosphere\" + 0.020*\"term\"'),\n",
      " (2,\n",
      "  '0.164*\"review\" + 0.164*\"amazing\" + 0.145*\"senior\" + 0.109*\"job\" + '\n",
      "  '0.109*\"balance\" + 0.055*\"great\" + 0.036*\"big\" + 0.018*\"compensation\" + '\n",
      "  '0.018*\"java\" + 0.018*\"ep\"'),\n",
      " (3,\n",
      "  '0.333*\"good\" + 0.083*\"review\" + 0.083*\"pay\" + 0.062*\"environment\" + '\n",
      "  '0.042*\"senior\" + 0.042*\"outstanding\" + 0.021*\"depend\" + 0.021*\"point\" + '\n",
      "  '0.021*\"hype\" + 0.021*\"worrying\"'),\n",
      " (4,\n",
      "  '0.314*\"great\" + 0.137*\"program\" + 0.078*\"perk\" + 0.059*\"time\" + '\n",
      "  '0.059*\"staff\" + 0.039*\"analytical\" + 0.020*\"technician\" + 0.020*\"average\" + '\n",
      "  '0.020*\"coworker\" + 0.020*\"datum\"'),\n",
      " (5,\n",
      "  '0.530*\"place\" + 0.045*\"perfect\" + 0.045*\"technical\" + 0.030*\"life\" + '\n",
      "  '0.015*\"overpay\" + 0.015*\"iii\" + 0.015*\"learn\" + 0.015*\"vice\" + '\n",
      "  '0.015*\"leader\" + 0.015*\"write\"'),\n",
      " (6,\n",
      "  '0.431*\"company\" + 0.308*\"good\" + 0.077*\"product\" + 0.015*\"team\" + '\n",
      "  '0.015*\"ad\" + 0.015*\"depend\" + 0.015*\"effect\" + 0.015*\"consultant\" + '\n",
      "  '0.015*\"starting\" + 0.015*\"altering\"'),\n",
      " (7,\n",
      "  '0.473*\"great\" + 0.145*\"benefit\" + 0.073*\"excellent\" + 0.055*\"product\" + '\n",
      "  '0.055*\"lot\" + 0.018*\"class\" + 0.018*\"customer\" + 0.018*\"real\" + '\n",
      "  '0.018*\"promo\" + 0.018*\"run\"'),\n",
      " (8,\n",
      "  '0.579*\"good\" + 0.053*\"analyst\" + 0.053*\"business\" + 0.035*\"pgm\" + '\n",
      "  '0.035*\"year\" + 0.018*\"educator\" + 0.018*\"workplace\" + 0.018*\"accountant\" + '\n",
      "  '0.018*\"bad\" + 0.018*\"unclear\"'),\n",
      " (9,\n",
      "  '0.316*\"google\" + 0.088*\"director\" + 0.035*\"phenomenal\" + 0.035*\"early\" + '\n",
      "  '0.035*\"fun\" + 0.018*\"fulfillment\" + 0.018*\"workload\" + 0.018*\"exact\" + '\n",
      "  '0.018*\"hire\" + 0.018*\"eager\"'),\n",
      " (10,\n",
      "  '0.437*\"manager\" + 0.155*\"account\" + 0.085*\"project\" + 0.042*\"tech\" + '\n",
      "  '0.042*\"awesome\" + 0.028*\"start\" + 0.014*\"unethical\" + 0.014*\"make\" + '\n",
      "  '0.014*\"googlex\" + 0.014*\"goal\"'),\n",
      " (11,\n",
      "  '0.435*\"software\" + 0.065*\"dream\" + 0.065*\"developer\" + 0.043*\"data\" + '\n",
      "  '0.043*\"meh\" + 0.043*\"rough\" + 0.022*\"expectation\" + 0.022*\"unique\" + '\n",
      "  '0.022*\"large\" + 0.022*\"senior\"'),\n",
      " (12,\n",
      "  '0.338*\"work\" + 0.118*\"culture\" + 0.074*\"associate\" + 0.074*\"amazing\" + '\n",
      "  '0.059*\"experience\" + 0.015*\"realistic\" + 0.015*\"listen\" + 0.015*\"glassdoor\" '\n",
      "  '+ 0.015*\"undeniably\" + 0.015*\"workplace\"'),\n",
      " (13,\n",
      "  '0.348*\"work\" + 0.188*\"intern\" + 0.116*\"analyst\" + 0.058*\"internship\" + '\n",
      "  '0.058*\"love\" + 0.058*\"engineering\" + 0.014*\"demand\" + 0.014*\"assignment\" + '\n",
      "  '0.014*\"learn\" + 0.014*\"gr\"'),\n",
      " (14,\n",
      "  '0.585*\"work\" + 0.057*\"ambitious\" + 0.038*\"wonderful\" + 0.038*\"awesome\" + '\n",
      "  '0.019*\"add\" + 0.019*\"wlb\" + 0.019*\"surpass\" + 0.019*\"enjoy\" + '\n",
      "  '0.019*\"working\" + 0.019*\"brand\"'),\n",
      " (15,\n",
      "  '0.609*\"engineer\" + 0.078*\"lead\" + 0.062*\"experience\" + 0.047*\"bad\" + '\n",
      "  '0.016*\"stuff\" + 0.016*\"teammate\" + 0.016*\"datacenter\" + 0.016*\"challang\" + '\n",
      "  '0.016*\"market\" + 0.016*\"practicum\"'),\n",
      " (16,\n",
      "  '0.479*\"great\" + 0.083*\"career\" + 0.062*\"marketing\" + 0.042*\"lot\" + '\n",
      "  '0.021*\"brand\" + 0.021*\"worker\" + 0.021*\"employee\" + 0.021*\"org\" + '\n",
      "  '0.021*\"job\" + 0.021*\"meh\"'),\n",
      " (17,\n",
      "  '0.429*\"software\" + 0.238*\"engineer\" + 0.048*\"designer\" + 0.032*\"fix\" + '\n",
      "  '0.016*\"competitive\" + 0.016*\"hrbp\" + 0.016*\"challenge\" + 0.016*\"boost\" + '\n",
      "  '0.016*\"reward\" + 0.016*\"founder\"'),\n",
      " (18,\n",
      "  '0.441*\"great\" + 0.118*\"sale\" + 0.044*\"long\" + 0.015*\"geekland\" + '\n",
      "  '0.015*\"quality\" + 0.015*\"production\" + 0.015*\"shiny\" + 0.015*\"colleague\" + '\n",
      "  '0.015*\"stuff\" + 0.015*\"adsense\"'),\n",
      " (19,\n",
      "  '0.364*\"place\" + 0.045*\"partner\" + 0.045*\"specialist\" + 0.045*\"perk\" + '\n",
      "  '0.030*\"love\" + 0.030*\"worklife\" + 0.030*\"fun\" + 0.015*\"issue\" + '\n",
      "  '0.015*\"store\" + 0.015*\"hardware\"')]\n"
     ]
    }
   ],
   "source": [
    "# Select the model with highest coherence value and print the topics\n",
    "optimal_model = model_list[3]\n",
    "model_topics = optimal_model.show_topics(formatted=False)\n",
    "pprint(optimal_model.print_topics(num_words=10)) # Set num_words parament to show 10 words per each topic"
   ]
  },
  {
   "cell_type": "markdown",
   "metadata": {
    "hidden": true
   },
   "source": [
    "By using our **Optimal LDA Mallet Model** using Gensim's Wrapper package, we displayed the 20 topics in our document along with the top 10 keywords and their corresponding weights that makes up each topic."
   ]
  },
  {
   "cell_type": "markdown",
   "metadata": {
    "heading_collapsed": true,
    "hidden": true
   },
   "source": [
    "## 10.1 Visual the Optimal LDA Mallet Model"
   ]
  },
  {
   "cell_type": "code",
   "execution_count": 26,
   "metadata": {
    "hidden": true,
    "scrolled": false
   },
   "outputs": [
    {
     "data": {
      "image/png": "[encoded data removed]",
      "text/plain": [
       "<Figure size 720x720 with 4 Axes>"
      ]
     },
     "metadata": {
      "needs_background": "light"
     },
     "output_type": "display_data"
    }
   ],
   "source": [
    "# Wordcloud of Top N words in each topic\n",
    "from matplotlib import pyplot as plt\n",
    "from wordcloud import WordCloud, STOPWORDS\n",
    "import matplotlib.colors as mcolors\n",
    "cols = [color for name, color in mcolors.TABLEAU_COLORS.items()]\n",
    "cloud = WordCloud(stopwords=stop_words,\n",
    "                  background_color='white',\n",
    "                  width=2500,\n",
    "                  height=1800,\n",
    "                  max_words=10,\n",
    "                  colormap='tab10',\n",
    "                  color_func=lambda *args, **kwargs: cols[i],\n",
    "                  prefer_horizontal=1.0)\n",
    "topics = optimal_model.show_topics(formatted=False)\n",
    "fig, axes = plt.subplots(2, 2, figsize=(10,10), sharex=True, sharey=True)\n",
    "for i, ax in enumerate(axes.flatten()):\n",
    "    fig.add_subplot(ax)\n",
    "    topic_words = dict(topics[i][1])\n",
    "    cloud.generate_from_frequencies(topic_words, max_font_size=300)\n",
    "    plt.gca().imshow(cloud)\n",
    "    plt.gca().set_title('Topic ' + str(i), fontdict=dict(size=16))\n",
    "    plt.gca().axis('off')\n",
    "plt.subplots_adjust(wspace=0, hspace=0)\n",
    "plt.axis('off')\n",
    "plt.margins(x=0, y=0)\n",
    "plt.tight_layout()\n",
    "plt.show()"
   ]
  },
  {
   "cell_type": "markdown",
   "metadata": {
    "hidden": true
   },
   "source": [
    "Here we also visualized the first 4 topics in our document along with the top 10 keywords. Each keyword's corresponding weights are shown by the size of the text.\n",
    "\n",
    "Based on the visualization, we see the following topics:\n",
    "- Topic 0: Employee Compensation\n",
    "- Topic 1: Manager\n",
    "- Topic 2: Employee Growth\n",
    "- Topic 3: Employee Happiness"
   ]
  },
  {
   "cell_type": "markdown",
   "metadata": {
    "heading_collapsed": true
   },
   "source": [
    "# 11 Analysis"
   ]
  },
  {
   "cell_type": "markdown",
   "metadata": {
    "hidden": true
   },
   "source": [
    "Now that our **Optimal Model** is constructed, we will utilize the purpose of LDA and determine the following:\n",
    "- Determine the dominant topics for each document\n",
    "- Determine the most relevant document for each of the 20 dominant topics\n",
    "- Determine the distribution of documents contributed to each of the 20 dominant topics"
   ]
  },
  {
   "cell_type": "markdown",
   "metadata": {
    "heading_collapsed": true,
    "hidden": true
   },
   "source": [
    "## 11.1 Finding topics for each document"
   ]
  },
  {
   "cell_type": "code",
   "execution_count": 27,
   "metadata": {
    "hidden": true,
    "scrolled": true
   },
   "outputs": [
    {
     "data": {
      "text/html": [
       "<div>\n",
       "<style scoped>\n",
       "    .dataframe tbody tr th:only-of-type {\n",
       "        vertical-align: middle;\n",
       "    }\n",
       "\n",
       "    .dataframe tbody tr th {\n",
       "        vertical-align: top;\n",
       "    }\n",
       "\n",
       "    .dataframe thead th {\n",
       "        text-align: right;\n",
       "    }\n",
       "</style>\n",
       "<table border=\"1\" class=\"dataframe\">\n",
       "  <thead>\n",
       "    <tr style=\"text-align: right;\">\n",
       "      <th></th>\n",
       "      <th>Document_No</th>\n",
       "      <th>Dominant_Topic</th>\n",
       "      <th>Topic_Perc_Contrib</th>\n",
       "      <th>Keywords</th>\n",
       "      <th>Document</th>\n",
       "    </tr>\n",
       "  </thead>\n",
       "  <tbody>\n",
       "    <tr>\n",
       "      <th>0</th>\n",
       "      <td>0</td>\n",
       "      <td>6.0</td>\n",
       "      <td>0.0577</td>\n",
       "      <td>company, good, product, team, ad, depend, effe...</td>\n",
       "      <td>Best Company to work for</td>\n",
       "    </tr>\n",
       "    <tr>\n",
       "      <th>1</th>\n",
       "      <td>1</td>\n",
       "      <td>4.0</td>\n",
       "      <td>0.0798</td>\n",
       "      <td>great, program, perk, time, staff, analytical,...</td>\n",
       "      <td>Moving at the speed of light burn out is inevi...</td>\n",
       "    </tr>\n",
       "    <tr>\n",
       "      <th>2</th>\n",
       "      <td>2</td>\n",
       "      <td>10.0</td>\n",
       "      <td>0.0731</td>\n",
       "      <td>manager, account, project, tech, awesome, star...</td>\n",
       "      <td>Great balance between bigcompany security and ...</td>\n",
       "    </tr>\n",
       "    <tr>\n",
       "      <th>3</th>\n",
       "      <td>3</td>\n",
       "      <td>13.0</td>\n",
       "      <td>0.0648</td>\n",
       "      <td>work, intern, analyst, internship, love, engin...</td>\n",
       "      <td>The best place Ive worked and also the most de...</td>\n",
       "    </tr>\n",
       "    <tr>\n",
       "      <th>4</th>\n",
       "      <td>4</td>\n",
       "      <td>11.0</td>\n",
       "      <td>0.0833</td>\n",
       "      <td>software, dream, developer, data, meh, rough, ...</td>\n",
       "      <td>Unique one of a kind dream job</td>\n",
       "    </tr>\n",
       "    <tr>\n",
       "      <th>5</th>\n",
       "      <td>5</td>\n",
       "      <td>13.0</td>\n",
       "      <td>0.0723</td>\n",
       "      <td>work, intern, analyst, internship, love, engin...</td>\n",
       "      <td>NICE working in GOOGLE as an INTERN</td>\n",
       "    </tr>\n",
       "    <tr>\n",
       "      <th>6</th>\n",
       "      <td>6</td>\n",
       "      <td>15.0</td>\n",
       "      <td>0.0630</td>\n",
       "      <td>engineer, lead, experience, bad, stuff, teamma...</td>\n",
       "      <td>Software engineer</td>\n",
       "    </tr>\n",
       "    <tr>\n",
       "      <th>7</th>\n",
       "      <td>7</td>\n",
       "      <td>0.0</td>\n",
       "      <td>0.0628</td>\n",
       "      <td>company, people, place, grad, challenge, compe...</td>\n",
       "      <td>great place to work and progress</td>\n",
       "    </tr>\n",
       "    <tr>\n",
       "      <th>8</th>\n",
       "      <td>8</td>\n",
       "      <td>14.0</td>\n",
       "      <td>0.0660</td>\n",
       "      <td>work, ambitious, wonderful, awesome, add, wlb,...</td>\n",
       "      <td>Google Surpasses Realistic Expectations</td>\n",
       "    </tr>\n",
       "    <tr>\n",
       "      <th>9</th>\n",
       "      <td>9</td>\n",
       "      <td>15.0</td>\n",
       "      <td>0.0588</td>\n",
       "      <td>engineer, lead, experience, bad, stuff, teamma...</td>\n",
       "      <td>Execellent for engineers</td>\n",
       "    </tr>\n",
       "  </tbody>\n",
       "</table>\n",
       "</div>"
      ],
      "text/plain": [
       "   Document_No  Dominant_Topic  Topic_Perc_Contrib  \\\n",
       "0            0             6.0              0.0577   \n",
       "1            1             4.0              0.0798   \n",
       "2            2            10.0              0.0731   \n",
       "3            3            13.0              0.0648   \n",
       "4            4            11.0              0.0833   \n",
       "5            5            13.0              0.0723   \n",
       "6            6            15.0              0.0630   \n",
       "7            7             0.0              0.0628   \n",
       "8            8            14.0              0.0660   \n",
       "9            9            15.0              0.0588   \n",
       "\n",
       "                                            Keywords  \\\n",
       "0  company, good, product, team, ad, depend, effe...   \n",
       "1  great, program, perk, time, staff, analytical,...   \n",
       "2  manager, account, project, tech, awesome, star...   \n",
       "3  work, intern, analyst, internship, love, engin...   \n",
       "4  software, dream, developer, data, meh, rough, ...   \n",
       "5  work, intern, analyst, internship, love, engin...   \n",
       "6  engineer, lead, experience, bad, stuff, teamma...   \n",
       "7  company, people, place, grad, challenge, compe...   \n",
       "8  work, ambitious, wonderful, awesome, add, wlb,...   \n",
       "9  engineer, lead, experience, bad, stuff, teamma...   \n",
       "\n",
       "                                            Document  \n",
       "0                           Best Company to work for  \n",
       "1  Moving at the speed of light burn out is inevi...  \n",
       "2  Great balance between bigcompany security and ...  \n",
       "3  The best place Ive worked and also the most de...  \n",
       "4                     Unique one of a kind dream job  \n",
       "5                NICE working in GOOGLE as an INTERN  \n",
       "6                                  Software engineer  \n",
       "7                   great place to work and progress  \n",
       "8            Google Surpasses Realistic Expectations  \n",
       "9                           Execellent for engineers  "
      ]
     },
     "execution_count": 27,
     "metadata": {},
     "output_type": "execute_result"
    }
   ],
   "source": [
    "def format_topics_sentences(ldamodel=optimal_model, corpus=corpus, texts=data):\n",
    "    sent_topics_df = pd.DataFrame()\n",
    "    # Get dominant topic in each document\n",
    "    for i, row in enumerate(ldamodel[corpus]):                   \n",
    "        row = sorted(row, key=lambda x: (x[1]), reverse=True)        \n",
    "        # Get the Dominant topic, Perc Contribution and Keywords for each document\n",
    "        for j, (topic_num, prop_topic) in enumerate(row):\n",
    "            if j == 0:                                           \n",
    "                wp = ldamodel.show_topic(topic_num)              \n",
    "                topic_keywords = \", \".join([word for word, prop in wp])\n",
    "                sent_topics_df = sent_topics_df.append(pd.Series([int(topic_num), round(prop_topic,4),\n",
    "                                                                  topic_keywords]), ignore_index=True)\n",
    "            else:\n",
    "                break\n",
    "    sent_topics_df.columns = ['Dominant_Topic', 'Perc_Contribution', 'Topic_Keywords'] # create dataframe title\n",
    "    # Add original text to the end of the output (recall that texts = data_lemmatized)\n",
    "    contents = pd.Series(texts)\n",
    "    sent_topics_df = pd.concat([sent_topics_df, contents], axis=1)\n",
    "    return(sent_topics_df)    \n",
    "df_topic_sents_keywords = format_topics_sentences(ldamodel=optimal_model, corpus=corpus, texts=data)\n",
    "df_dominant_topic = df_topic_sents_keywords.reset_index()\n",
    "df_dominant_topic.columns = ['Document_No', 'Dominant_Topic', 'Topic_Perc_Contrib', 'Keywords', 'Document']\n",
    "df_dominant_topic.head(10)"
   ]
  },
  {
   "cell_type": "markdown",
   "metadata": {
    "hidden": true
   },
   "source": [
    "Here we see a list of the first 10 document with corresponding dominant topics attached."
   ]
  },
  {
   "cell_type": "markdown",
   "metadata": {
    "heading_collapsed": true,
    "hidden": true
   },
   "source": [
    "## 11.2 Finding documents for each topic"
   ]
  },
  {
   "cell_type": "code",
   "execution_count": 28,
   "metadata": {
    "hidden": true
   },
   "outputs": [
    {
     "data": {
      "text/html": [
       "<div>\n",
       "<style scoped>\n",
       "    .dataframe tbody tr th:only-of-type {\n",
       "        vertical-align: middle;\n",
       "    }\n",
       "\n",
       "    .dataframe tbody tr th {\n",
       "        vertical-align: top;\n",
       "    }\n",
       "\n",
       "    .dataframe thead th {\n",
       "        text-align: right;\n",
       "    }\n",
       "</style>\n",
       "<table border=\"1\" class=\"dataframe\">\n",
       "  <thead>\n",
       "    <tr style=\"text-align: right;\">\n",
       "      <th></th>\n",
       "      <th>Topic_Num</th>\n",
       "      <th>Topic_Perc_Contrib</th>\n",
       "      <th>Keywords</th>\n",
       "      <th>Document</th>\n",
       "    </tr>\n",
       "  </thead>\n",
       "  <tbody>\n",
       "    <tr>\n",
       "      <th>0</th>\n",
       "      <td>0.0</td>\n",
       "      <td>0.0804</td>\n",
       "      <td>company, people, place, grad, challenge, compe...</td>\n",
       "      <td>Company full of people running around caring o...</td>\n",
       "    </tr>\n",
       "    <tr>\n",
       "      <th>1</th>\n",
       "      <td>1.0</td>\n",
       "      <td>0.0833</td>\n",
       "      <td>company, cloud, strategist, environment, emplo...</td>\n",
       "      <td>I broke down crying on the datacenter floor</td>\n",
       "    </tr>\n",
       "    <tr>\n",
       "      <th>2</th>\n",
       "      <td>2.0</td>\n",
       "      <td>0.0717</td>\n",
       "      <td>review, amazing, senior, job, balance, great, ...</td>\n",
       "      <td>Amazing place to develop technical skills</td>\n",
       "    </tr>\n",
       "    <tr>\n",
       "      <th>3</th>\n",
       "      <td>3.0</td>\n",
       "      <td>0.0744</td>\n",
       "      <td>good, review, pay, environment, senior, outsta...</td>\n",
       "      <td>Good pay and work</td>\n",
       "    </tr>\n",
       "    <tr>\n",
       "      <th>4</th>\n",
       "      <td>4.0</td>\n",
       "      <td>0.0807</td>\n",
       "      <td>great, program, perk, time, staff, analytical,...</td>\n",
       "      <td>Average with a hint of arrogance</td>\n",
       "    </tr>\n",
       "    <tr>\n",
       "      <th>5</th>\n",
       "      <td>5.0</td>\n",
       "      <td>0.0778</td>\n",
       "      <td>place, perfect, technical, life, overpay, iii,...</td>\n",
       "      <td>Not perfect but still the best place in the wo...</td>\n",
       "    </tr>\n",
       "    <tr>\n",
       "      <th>6</th>\n",
       "      <td>6.0</td>\n",
       "      <td>0.0702</td>\n",
       "      <td>company, good, product, team, ad, depend, effe...</td>\n",
       "      <td>Best Company in the world</td>\n",
       "    </tr>\n",
       "    <tr>\n",
       "      <th>7</th>\n",
       "      <td>7.0</td>\n",
       "      <td>0.0874</td>\n",
       "      <td>great, benefit, excellent, product, lot, class...</td>\n",
       "      <td>Great benefits but large enough to get lost in</td>\n",
       "    </tr>\n",
       "    <tr>\n",
       "      <th>8</th>\n",
       "      <td>8.0</td>\n",
       "      <td>0.0713</td>\n",
       "      <td>good, analyst, business, pgm, year, educator, ...</td>\n",
       "      <td>Good company with good benefits lots of red ta...</td>\n",
       "    </tr>\n",
       "    <tr>\n",
       "      <th>9</th>\n",
       "      <td>9.0</td>\n",
       "      <td>0.0828</td>\n",
       "      <td>google, director, phenomenal, early, fun, fulf...</td>\n",
       "      <td>Early Childhood Educator</td>\n",
       "    </tr>\n",
       "    <tr>\n",
       "      <th>10</th>\n",
       "      <td>10.0</td>\n",
       "      <td>0.0865</td>\n",
       "      <td>manager, account, project, tech, awesome, star...</td>\n",
       "      <td>Project Manager</td>\n",
       "    </tr>\n",
       "    <tr>\n",
       "      <th>11</th>\n",
       "      <td>11.0</td>\n",
       "      <td>0.0833</td>\n",
       "      <td>software, dream, developer, data, meh, rough, ...</td>\n",
       "      <td>Unique one of a kind dream job</td>\n",
       "    </tr>\n",
       "    <tr>\n",
       "      <th>12</th>\n",
       "      <td>12.0</td>\n",
       "      <td>0.0759</td>\n",
       "      <td>work, culture, associate, amazing, experience,...</td>\n",
       "      <td>Massage Therapist</td>\n",
       "    </tr>\n",
       "    <tr>\n",
       "      <th>13</th>\n",
       "      <td>13.0</td>\n",
       "      <td>0.0849</td>\n",
       "      <td>work, intern, analyst, internship, love, engin...</td>\n",
       "      <td>Software Engineering Intern</td>\n",
       "    </tr>\n",
       "    <tr>\n",
       "      <th>14</th>\n",
       "      <td>14.0</td>\n",
       "      <td>0.0723</td>\n",
       "      <td>work, ambitious, wonderful, awesome, add, wlb,...</td>\n",
       "      <td>wonderful place to work</td>\n",
       "    </tr>\n",
       "    <tr>\n",
       "      <th>15</th>\n",
       "      <td>15.0</td>\n",
       "      <td>0.0702</td>\n",
       "      <td>engineer, lead, experience, bad, stuff, teamma...</td>\n",
       "      <td>Engineering Practicum Internship</td>\n",
       "    </tr>\n",
       "    <tr>\n",
       "      <th>16</th>\n",
       "      <td>16.0</td>\n",
       "      <td>0.0751</td>\n",
       "      <td>great, career, marketing, lot, brand, worker, ...</td>\n",
       "      <td>Google is great recruiting org not so much</td>\n",
       "    </tr>\n",
       "    <tr>\n",
       "      <th>17</th>\n",
       "      <td>17.0</td>\n",
       "      <td>0.0798</td>\n",
       "      <td>software, engineer, designer, fix, competitive...</td>\n",
       "      <td>Sr Interactive Designer Sr Solution Consultant</td>\n",
       "    </tr>\n",
       "    <tr>\n",
       "      <th>18</th>\n",
       "      <td>18.0</td>\n",
       "      <td>0.0844</td>\n",
       "      <td>great, sale, long, geekland, quality, producti...</td>\n",
       "      <td>Adsense Publisher</td>\n",
       "    </tr>\n",
       "    <tr>\n",
       "      <th>19</th>\n",
       "      <td>19.0</td>\n",
       "      <td>0.0765</td>\n",
       "      <td>place, partner, specialist, perk, love, workli...</td>\n",
       "      <td>Love working at Google in Boulder CO</td>\n",
       "    </tr>\n",
       "  </tbody>\n",
       "</table>\n",
       "</div>"
      ],
      "text/plain": [
       "    Topic_Num  Topic_Perc_Contrib  \\\n",
       "0         0.0              0.0804   \n",
       "1         1.0              0.0833   \n",
       "2         2.0              0.0717   \n",
       "3         3.0              0.0744   \n",
       "4         4.0              0.0807   \n",
       "5         5.0              0.0778   \n",
       "6         6.0              0.0702   \n",
       "7         7.0              0.0874   \n",
       "8         8.0              0.0713   \n",
       "9         9.0              0.0828   \n",
       "10       10.0              0.0865   \n",
       "11       11.0              0.0833   \n",
       "12       12.0              0.0759   \n",
       "13       13.0              0.0849   \n",
       "14       14.0              0.0723   \n",
       "15       15.0              0.0702   \n",
       "16       16.0              0.0751   \n",
       "17       17.0              0.0798   \n",
       "18       18.0              0.0844   \n",
       "19       19.0              0.0765   \n",
       "\n",
       "                                             Keywords  \\\n",
       "0   company, people, place, grad, challenge, compe...   \n",
       "1   company, cloud, strategist, environment, emplo...   \n",
       "2   review, amazing, senior, job, balance, great, ...   \n",
       "3   good, review, pay, environment, senior, outsta...   \n",
       "4   great, program, perk, time, staff, analytical,...   \n",
       "5   place, perfect, technical, life, overpay, iii,...   \n",
       "6   company, good, product, team, ad, depend, effe...   \n",
       "7   great, benefit, excellent, product, lot, class...   \n",
       "8   good, analyst, business, pgm, year, educator, ...   \n",
       "9   google, director, phenomenal, early, fun, fulf...   \n",
       "10  manager, account, project, tech, awesome, star...   \n",
       "11  software, dream, developer, data, meh, rough, ...   \n",
       "12  work, culture, associate, amazing, experience,...   \n",
       "13  work, intern, analyst, internship, love, engin...   \n",
       "14  work, ambitious, wonderful, awesome, add, wlb,...   \n",
       "15  engineer, lead, experience, bad, stuff, teamma...   \n",
       "16  great, career, marketing, lot, brand, worker, ...   \n",
       "17  software, engineer, designer, fix, competitive...   \n",
       "18  great, sale, long, geekland, quality, producti...   \n",
       "19  place, partner, specialist, perk, love, workli...   \n",
       "\n",
       "                                             Document  \n",
       "0   Company full of people running around caring o...  \n",
       "1         I broke down crying on the datacenter floor  \n",
       "2           Amazing place to develop technical skills  \n",
       "3                                   Good pay and work  \n",
       "4                    Average with a hint of arrogance  \n",
       "5   Not perfect but still the best place in the wo...  \n",
       "6                           Best Company in the world  \n",
       "7      Great benefits but large enough to get lost in  \n",
       "8   Good company with good benefits lots of red ta...  \n",
       "9                            Early Childhood Educator  \n",
       "10                                    Project Manager  \n",
       "11                     Unique one of a kind dream job  \n",
       "12                                  Massage Therapist  \n",
       "13                        Software Engineering Intern  \n",
       "14                            wonderful place to work  \n",
       "15                   Engineering Practicum Internship  \n",
       "16         Google is great recruiting org not so much  \n",
       "17     Sr Interactive Designer Sr Solution Consultant  \n",
       "18                                  Adsense Publisher  \n",
       "19               Love working at Google in Boulder CO  "
      ]
     },
     "execution_count": 28,
     "metadata": {},
     "output_type": "execute_result"
    }
   ],
   "source": [
    "# Group top 20 documents for the 20 dominant topic\n",
    "sent_topics_sorteddf_mallet = pd.DataFrame()\n",
    "sent_topics_outdf_grpd = df_topic_sents_keywords.groupby('Dominant_Topic') \n",
    "for i, grp in sent_topics_outdf_grpd:\n",
    "    sent_topics_sorteddf_mallet = pd.concat([sent_topics_sorteddf_mallet,\n",
    "                                             grp.sort_values(['Perc_Contribution'], ascending=[0]).head(1)], axis=0)\n",
    "sent_topics_sorteddf_mallet.reset_index(drop=True, inplace=True)\n",
    "sent_topics_sorteddf_mallet.columns = ['Topic_Num', \"Topic_Perc_Contrib\", \"Keywords\", \"Document\"]\n",
    "sent_topics_sorteddf_mallet "
   ]
  },
  {
   "cell_type": "markdown",
   "metadata": {
    "hidden": true
   },
   "source": [
    "Here we see a list of most relevant documents for each of the 20 dominant topics."
   ]
  },
  {
   "cell_type": "markdown",
   "metadata": {
    "heading_collapsed": true,
    "hidden": true
   },
   "source": [
    "## 11.3 Document distribution across Topics"
   ]
  },
  {
   "cell_type": "code",
   "execution_count": 29,
   "metadata": {
    "hidden": true,
    "scrolled": true
   },
   "outputs": [
    {
     "data": {
      "text/html": [
       "<div>\n",
       "<style scoped>\n",
       "    .dataframe tbody tr th:only-of-type {\n",
       "        vertical-align: middle;\n",
       "    }\n",
       "\n",
       "    .dataframe tbody tr th {\n",
       "        vertical-align: top;\n",
       "    }\n",
       "\n",
       "    .dataframe thead th {\n",
       "        text-align: right;\n",
       "    }\n",
       "</style>\n",
       "<table border=\"1\" class=\"dataframe\">\n",
       "  <thead>\n",
       "    <tr style=\"text-align: right;\">\n",
       "      <th></th>\n",
       "      <th>Dominant Topic</th>\n",
       "      <th>Num_Document</th>\n",
       "      <th>Perc_Document</th>\n",
       "    </tr>\n",
       "  </thead>\n",
       "  <tbody>\n",
       "    <tr>\n",
       "      <th>0</th>\n",
       "      <td>0.0</td>\n",
       "      <td>35</td>\n",
       "      <td>0.070</td>\n",
       "    </tr>\n",
       "    <tr>\n",
       "      <th>1</th>\n",
       "      <td>1.0</td>\n",
       "      <td>32</td>\n",
       "      <td>0.064</td>\n",
       "    </tr>\n",
       "    <tr>\n",
       "      <th>2</th>\n",
       "      <td>2.0</td>\n",
       "      <td>20</td>\n",
       "      <td>0.040</td>\n",
       "    </tr>\n",
       "    <tr>\n",
       "      <th>3</th>\n",
       "      <td>3.0</td>\n",
       "      <td>24</td>\n",
       "      <td>0.048</td>\n",
       "    </tr>\n",
       "    <tr>\n",
       "      <th>4</th>\n",
       "      <td>4.0</td>\n",
       "      <td>27</td>\n",
       "      <td>0.054</td>\n",
       "    </tr>\n",
       "    <tr>\n",
       "      <th>5</th>\n",
       "      <td>5.0</td>\n",
       "      <td>35</td>\n",
       "      <td>0.070</td>\n",
       "    </tr>\n",
       "    <tr>\n",
       "      <th>6</th>\n",
       "      <td>6.0</td>\n",
       "      <td>19</td>\n",
       "      <td>0.038</td>\n",
       "    </tr>\n",
       "    <tr>\n",
       "      <th>7</th>\n",
       "      <td>7.0</td>\n",
       "      <td>17</td>\n",
       "      <td>0.034</td>\n",
       "    </tr>\n",
       "    <tr>\n",
       "      <th>8</th>\n",
       "      <td>8.0</td>\n",
       "      <td>22</td>\n",
       "      <td>0.044</td>\n",
       "    </tr>\n",
       "    <tr>\n",
       "      <th>9</th>\n",
       "      <td>9.0</td>\n",
       "      <td>33</td>\n",
       "      <td>0.066</td>\n",
       "    </tr>\n",
       "    <tr>\n",
       "      <th>10</th>\n",
       "      <td>10.0</td>\n",
       "      <td>43</td>\n",
       "      <td>0.086</td>\n",
       "    </tr>\n",
       "    <tr>\n",
       "      <th>11</th>\n",
       "      <td>11.0</td>\n",
       "      <td>18</td>\n",
       "      <td>0.036</td>\n",
       "    </tr>\n",
       "    <tr>\n",
       "      <th>12</th>\n",
       "      <td>12.0</td>\n",
       "      <td>21</td>\n",
       "      <td>0.042</td>\n",
       "    </tr>\n",
       "    <tr>\n",
       "      <th>13</th>\n",
       "      <td>13.0</td>\n",
       "      <td>26</td>\n",
       "      <td>0.052</td>\n",
       "    </tr>\n",
       "    <tr>\n",
       "      <th>14</th>\n",
       "      <td>14.0</td>\n",
       "      <td>15</td>\n",
       "      <td>0.030</td>\n",
       "    </tr>\n",
       "    <tr>\n",
       "      <th>15</th>\n",
       "      <td>15.0</td>\n",
       "      <td>24</td>\n",
       "      <td>0.048</td>\n",
       "    </tr>\n",
       "    <tr>\n",
       "      <th>16</th>\n",
       "      <td>16.0</td>\n",
       "      <td>17</td>\n",
       "      <td>0.034</td>\n",
       "    </tr>\n",
       "    <tr>\n",
       "      <th>17</th>\n",
       "      <td>17.0</td>\n",
       "      <td>33</td>\n",
       "      <td>0.066</td>\n",
       "    </tr>\n",
       "    <tr>\n",
       "      <th>18</th>\n",
       "      <td>18.0</td>\n",
       "      <td>19</td>\n",
       "      <td>0.038</td>\n",
       "    </tr>\n",
       "    <tr>\n",
       "      <th>19</th>\n",
       "      <td>19.0</td>\n",
       "      <td>20</td>\n",
       "      <td>0.040</td>\n",
       "    </tr>\n",
       "  </tbody>\n",
       "</table>\n",
       "</div>"
      ],
      "text/plain": [
       "    Dominant Topic  Num_Document  Perc_Document\n",
       "0              0.0            35          0.070\n",
       "1              1.0            32          0.064\n",
       "2              2.0            20          0.040\n",
       "3              3.0            24          0.048\n",
       "4              4.0            27          0.054\n",
       "5              5.0            35          0.070\n",
       "6              6.0            19          0.038\n",
       "7              7.0            17          0.034\n",
       "8              8.0            22          0.044\n",
       "9              9.0            33          0.066\n",
       "10            10.0            43          0.086\n",
       "11            11.0            18          0.036\n",
       "12            12.0            21          0.042\n",
       "13            13.0            26          0.052\n",
       "14            14.0            15          0.030\n",
       "15            15.0            24          0.048\n",
       "16            16.0            17          0.034\n",
       "17            17.0            33          0.066\n",
       "18            18.0            19          0.038\n",
       "19            19.0            20          0.040"
      ]
     },
     "execution_count": 29,
     "metadata": {},
     "output_type": "execute_result"
    }
   ],
   "source": [
    "# Number of Documents for Each Topic\n",
    "topic_counts = df_topic_sents_keywords['Dominant_Topic'].value_counts()\n",
    "topic_contribution = round(topic_counts/topic_counts.sum(), 4)\n",
    "topic_num_keywords = {'Topic_Num': pd.Series([0.0,1.0,2.0,3.0,4.0,5.0,6.0,7.0,8.0,9.0,10.0,\n",
    "                                              11.0,12.0,13.0,14.0,15.0,16.0,17.0,18.0,19.0])}\n",
    "topic_num_keywords = pd.DataFrame(topic_num_keywords)\n",
    "df_dominant_topics = pd.concat([topic_num_keywords, topic_counts, topic_contribution], axis=1)\n",
    "df_dominant_topics.reset_index(drop=True, inplace=True)\n",
    "df_dominant_topics.columns = ['Dominant Topic', 'Num_Document', 'Perc_Document']\n",
    "df_dominant_topics"
   ]
  },
  {
   "cell_type": "markdown",
   "metadata": {
    "hidden": true
   },
   "source": [
    "Here we see the number of documents and the percentage of overall documents that contributes to each of the 20 dominant topics."
   ]
  },
  {
   "cell_type": "markdown",
   "metadata": {
    "heading_collapsed": true
   },
   "source": [
    "# 12 Answering the Questions"
   ]
  },
  {
   "cell_type": "markdown",
   "metadata": {
    "hidden": true
   },
   "source": [
    "Based on our modeling above, we were able to use a very accurate model from Gibb's Sampling, and further optimize the model by finding the optimal number of dominant topics without redundancy.\n",
    "\n",
    "As a result, we are now able to see the 20 dominant topics that were extracted from our dataset. Furthermore, we are also able to see the dominant topic for each of the 500 documents, and determine the most relevant document for each dominant topics.\n",
    "\n",
    "With the in-depth analysis of each individual topics and documents above, Employers can use this approach to learn the topics from Employer Reviews, and then make appropriate adjustments to improve their work environment, which can ultimately improve employee productivity/retention."
   ]
  }
 ],
 "metadata": {
  "kernelspec": {
   "display_name": "Python 3",
   "language": "python",
   "name": "python3"
  },
  "language_info": {
   "codemirror_mode": {
    "name": "ipython",
    "version": 3
   },
   "file_extension": ".py",
   "mimetype": "text/x-python",
   "name": "python",
   "nbconvert_exporter": "python",
   "pygments_lexer": "ipython3",
   "version": "3.7.3"
  },
  "toc": {
   "base_numbering": 1,
   "nav_menu": {},
   "number_sections": true,
   "sideBar": false,
   "skip_h1_title": false,
   "title_cell": "Table of Contents",
   "title_sidebar": "Contents",
   "toc_cell": false,
   "toc_position": {
    "height": "325px",
    "left": "1082.66px",
    "top": "110px",
    "width": "197.344px"
   },
   "toc_section_display": true,
   "toc_window_display": false
  }
 },
 "nbformat": 4,
 "nbformat_minor": 2
}
